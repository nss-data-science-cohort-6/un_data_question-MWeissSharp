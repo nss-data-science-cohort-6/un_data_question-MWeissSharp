{
 "cells": [
  {
   "cell_type": "code",
   "execution_count": 15,
   "id": "8a1dc99a",
   "metadata": {},
   "outputs": [],
   "source": [
    "import pandas as pd\n",
    "import numpy as np\n",
    "import matplotlib.pyplot as plt\n",
    "import seaborn as sns\n",
    "import plotly.express as px\n",
    "import requests\n",
    "from functools import reduce\n",
    "\n",
    "%matplotlib inline"
   ]
  },
  {
   "cell_type": "markdown",
   "id": "6f406c25",
   "metadata": {},
   "source": [
    "### Solo Exploration and Presentation:\n",
    "#### 1. Choose and download another data set from the UN data to explore.\n",
    "[http://data.un.org/Explorer.aspx](http://data.un.org/Explorer.aspx)   \n",
    "You may want to combine your new dataset with one or both of the datasets that you already worked with. Prepare a short (< 5 minute) presentation of your findings. Report any interesting correlations or trends that you find. \n",
    "#### 2. If time allows, check out the plotly library to add additional interativity to your plots. \n",
    "[https://plotly.com/python/plotly-express/](https://plotly.com/python/plotly-express/)"
   ]
  },
  {
   "cell_type": "markdown",
   "id": "4553cefc",
   "metadata": {},
   "source": [
    "#### Primary Education Completion Rates"
   ]
  },
  {
   "cell_type": "code",
   "execution_count": 16,
   "id": "4ccfd2f8",
   "metadata": {},
   "outputs": [],
   "source": [
    "endpoint1 = 'https://services7.arcgis.com/gp50Ao2knMlOM89z/arcgis/rest/services/Ief9e0d38__Sc5211ad2_1644293535310441_tbl/FeatureServer/0/query?where=income_wealth_quantile%20%3D%20\\'_T\\'%20AND%20urbanization%20%3D%20\\'_T\\'%20AND%20time_period%20%3E%3D%202004%20AND%20time_period%20%3C%3D%202019&outFields=time_period,sex,sex_desc,education_lev_desc,urbanization_desc,income_wealth_quantile_desc,obs_value,unit_measure_desc,indicator_desc,ref_area_desc&returnGeometry=false&outSR=&f=json'\n",
    "\n",
    "endpoint2 = 'https://services7.arcgis.com/gp50Ao2knMlOM89z/arcgis/rest/services/Ief9e0d38__Sc5211ad2_1644293535310441_tbl/FeatureServer/0/query?where=income_wealth_quantile%20%3D%20\\'_T\\'%20AND%20urbanization%20%3D%20\\'_T\\'%20AND%20time_period%20%3E%3D%202004%20AND%20time_period%20%3C%3D%202019&outFields=time_period,sex,sex_desc,education_lev_desc,urbanization_desc,income_wealth_quantile_desc,obs_value,unit_measure_desc,indicator_desc,ref_area_desc&returnGeometry=false&resultOffset=1000&outSR=&f=json'"
   ]
  },
  {
   "cell_type": "code",
   "execution_count": 17,
   "id": "88ba0b22",
   "metadata": {},
   "outputs": [],
   "source": [
    "pe_res1 = requests.get(endpoint1).json()\n",
    "pe_res2 = requests.get(endpoint2).json()"
   ]
  },
  {
   "cell_type": "code",
   "execution_count": 18,
   "id": "f28ba898",
   "metadata": {
    "scrolled": true
   },
   "outputs": [
    {
     "data": {
      "text/html": [
       "<div>\n",
       "<style scoped>\n",
       "    .dataframe tbody tr th:only-of-type {\n",
       "        vertical-align: middle;\n",
       "    }\n",
       "\n",
       "    .dataframe tbody tr th {\n",
       "        vertical-align: top;\n",
       "    }\n",
       "\n",
       "    .dataframe thead th {\n",
       "        text-align: right;\n",
       "    }\n",
       "</style>\n",
       "<table border=\"1\" class=\"dataframe\">\n",
       "  <thead>\n",
       "    <tr style=\"text-align: right;\">\n",
       "      <th></th>\n",
       "      <th>Country</th>\n",
       "      <th>Year</th>\n",
       "      <th>Sex</th>\n",
       "      <th>Primary_ed_completion_percent</th>\n",
       "    </tr>\n",
       "  </thead>\n",
       "  <tbody>\n",
       "    <tr>\n",
       "      <th>625</th>\n",
       "      <td>Afghanistan</td>\n",
       "      <td>2011</td>\n",
       "      <td>F</td>\n",
       "      <td>26.63788</td>\n",
       "    </tr>\n",
       "    <tr>\n",
       "      <th>228</th>\n",
       "      <td>Afghanistan</td>\n",
       "      <td>2011</td>\n",
       "      <td>M</td>\n",
       "      <td>53.74893</td>\n",
       "    </tr>\n",
       "    <tr>\n",
       "      <th>26</th>\n",
       "      <td>Afghanistan</td>\n",
       "      <td>2011</td>\n",
       "      <td>_T</td>\n",
       "      <td>40.72569</td>\n",
       "    </tr>\n",
       "    <tr>\n",
       "      <th>577</th>\n",
       "      <td>Afghanistan</td>\n",
       "      <td>2015</td>\n",
       "      <td>F</td>\n",
       "      <td>40.35416</td>\n",
       "    </tr>\n",
       "    <tr>\n",
       "      <th>229</th>\n",
       "      <td>Afghanistan</td>\n",
       "      <td>2015</td>\n",
       "      <td>M</td>\n",
       "      <td>67.30569</td>\n",
       "    </tr>\n",
       "    <tr>\n",
       "      <th>...</th>\n",
       "      <td>...</td>\n",
       "      <td>...</td>\n",
       "      <td>...</td>\n",
       "      <td>...</td>\n",
       "    </tr>\n",
       "    <tr>\n",
       "      <th>834</th>\n",
       "      <td>Zimbabwe</td>\n",
       "      <td>2015</td>\n",
       "      <td>M</td>\n",
       "      <td>87.02327</td>\n",
       "    </tr>\n",
       "    <tr>\n",
       "      <th>623</th>\n",
       "      <td>Zimbabwe</td>\n",
       "      <td>2015</td>\n",
       "      <td>_T</td>\n",
       "      <td>88.21310</td>\n",
       "    </tr>\n",
       "    <tr>\n",
       "      <th>227</th>\n",
       "      <td>Zimbabwe</td>\n",
       "      <td>2019</td>\n",
       "      <td>F</td>\n",
       "      <td>91.62107</td>\n",
       "    </tr>\n",
       "    <tr>\n",
       "      <th>835</th>\n",
       "      <td>Zimbabwe</td>\n",
       "      <td>2019</td>\n",
       "      <td>M</td>\n",
       "      <td>86.35518</td>\n",
       "    </tr>\n",
       "    <tr>\n",
       "      <th>624</th>\n",
       "      <td>Zimbabwe</td>\n",
       "      <td>2019</td>\n",
       "      <td>_T</td>\n",
       "      <td>88.80678</td>\n",
       "    </tr>\n",
       "  </tbody>\n",
       "</table>\n",
       "<p>1836 rows × 4 columns</p>\n",
       "</div>"
      ],
      "text/plain": [
       "         Country  Year Sex  Primary_ed_completion_percent\n",
       "625  Afghanistan  2011   F                       26.63788\n",
       "228  Afghanistan  2011   M                       53.74893\n",
       "26   Afghanistan  2011  _T                       40.72569\n",
       "577  Afghanistan  2015   F                       40.35416\n",
       "229  Afghanistan  2015   M                       67.30569\n",
       "..           ...   ...  ..                            ...\n",
       "834     Zimbabwe  2015   M                       87.02327\n",
       "623     Zimbabwe  2015  _T                       88.21310\n",
       "227     Zimbabwe  2019   F                       91.62107\n",
       "835     Zimbabwe  2019   M                       86.35518\n",
       "624     Zimbabwe  2019  _T                       88.80678\n",
       "\n",
       "[1836 rows x 4 columns]"
      ]
     },
     "execution_count": 18,
     "metadata": {},
     "output_type": "execute_result"
    }
   ],
   "source": [
    "pe_df1 = pd.DataFrame(pd.DataFrame(pe_res1['features'])['attributes'].values.tolist())\n",
    "pe_df2 = pd.DataFrame(pd.DataFrame(pe_res2['features'])['attributes'].values.tolist())\n",
    "\n",
    "primary_ed = pd.concat([pe_df1, pe_df2])\n",
    "primary_ed = primary_ed[['ref_area_desc', 'time_period', 'sex', 'obs_value']]\n",
    "primary_ed.columns = ['Country', 'Year', 'Sex', 'Primary_ed_completion_percent']\n",
    "primary_ed = primary_ed.sort_values(['Country', 'Year', 'Sex'])\n",
    "primary_ed"
   ]
  },
  {
   "cell_type": "markdown",
   "id": "2d8d81ff",
   "metadata": {},
   "source": [
    "#### Secondary Education Completion"
   ]
  },
  {
   "cell_type": "code",
   "execution_count": 19,
   "id": "de4da972",
   "metadata": {},
   "outputs": [],
   "source": [
    "se1 = 'https://services7.arcgis.com/gp50Ao2knMlOM89z/arcgis/rest/services/I66c21045__Sa7501ddf_16442936354058118_tbl/FeatureServer/0/query?where=urbanization%20%3D%20\\'_T\\'%20AND%20income_wealth_quantile%20%3D%20\\'_T\\'%20AND%20time_period%20%3E%3D%202004%20AND%20time_period%20%3C%3D%202019&outFields=indicator_desc,ref_area_desc,time_period,sex,education_lev_desc,obs_value,unit_measure_desc&returnGeometry=false&outSR=&f=json'\n",
    "se2 = 'https://services7.arcgis.com/gp50Ao2knMlOM89z/arcgis/rest/services/I66c21045__Sa7501ddf_16442936354058118_tbl/FeatureServer/0/query?where=urbanization%20%3D%20\\'_T\\'%20AND%20income_wealth_quantile%20%3D%20\\'_T\\'%20AND%20time_period%20%3E%3D%202004%20AND%20time_period%20%3C%3D%202019&outFields=indicator_desc,ref_area_desc,time_period,sex,education_lev_desc,obs_value,unit_measure_desc&returnGeometry=false&resultOffset=1000&outSR=&f=json'\n",
    "se3 = 'https://services7.arcgis.com/gp50Ao2knMlOM89z/arcgis/rest/services/I66c21045__Sa7501ddf_16442936354058118_tbl/FeatureServer/0/query?where=urbanization%20%3D%20\\'_T\\'%20AND%20income_wealth_quantile%20%3D%20\\'_T\\'%20AND%20time_period%20%3E%3D%202004%20AND%20time_period%20%3C%3D%202019&outFields=indicator_desc,ref_area_desc,time_period,sex,education_lev_desc,obs_value,unit_measure_desc&returnGeometry=false&resultOffset=2000&outSR=&f=json'\n",
    "\n",
    "se_res1 = requests.get(se1).json()\n",
    "se_res2 = requests.get(se2).json()\n",
    "se_res3 = requests.get(se3).json()"
   ]
  },
  {
   "cell_type": "code",
   "execution_count": 20,
   "id": "1b605847",
   "metadata": {},
   "outputs": [
    {
     "data": {
      "text/html": [
       "<div>\n",
       "<style scoped>\n",
       "    .dataframe tbody tr th:only-of-type {\n",
       "        vertical-align: middle;\n",
       "    }\n",
       "\n",
       "    .dataframe tbody tr th {\n",
       "        vertical-align: top;\n",
       "    }\n",
       "\n",
       "    .dataframe thead th {\n",
       "        text-align: right;\n",
       "    }\n",
       "</style>\n",
       "<table border=\"1\" class=\"dataframe\">\n",
       "  <thead>\n",
       "    <tr style=\"text-align: right;\">\n",
       "      <th></th>\n",
       "      <th>Country</th>\n",
       "      <th>Year</th>\n",
       "      <th>Sex</th>\n",
       "      <th>Secondary_ed_completion_percent</th>\n",
       "    </tr>\n",
       "  </thead>\n",
       "  <tbody>\n",
       "    <tr>\n",
       "      <th>768</th>\n",
       "      <td>Afghanistan</td>\n",
       "      <td>2011</td>\n",
       "      <td>F</td>\n",
       "      <td>11.50881</td>\n",
       "    </tr>\n",
       "    <tr>\n",
       "      <th>512</th>\n",
       "      <td>Afghanistan</td>\n",
       "      <td>2011</td>\n",
       "      <td>M</td>\n",
       "      <td>34.65255</td>\n",
       "    </tr>\n",
       "    <tr>\n",
       "      <th>19</th>\n",
       "      <td>Afghanistan</td>\n",
       "      <td>2011</td>\n",
       "      <td>_T</td>\n",
       "      <td>23.37700</td>\n",
       "    </tr>\n",
       "    <tr>\n",
       "      <th>769</th>\n",
       "      <td>Afghanistan</td>\n",
       "      <td>2015</td>\n",
       "      <td>F</td>\n",
       "      <td>25.17210</td>\n",
       "    </tr>\n",
       "    <tr>\n",
       "      <th>464</th>\n",
       "      <td>Afghanistan</td>\n",
       "      <td>2015</td>\n",
       "      <td>M</td>\n",
       "      <td>48.71595</td>\n",
       "    </tr>\n",
       "    <tr>\n",
       "      <th>...</th>\n",
       "      <td>...</td>\n",
       "      <td>...</td>\n",
       "      <td>...</td>\n",
       "      <td>...</td>\n",
       "    </tr>\n",
       "    <tr>\n",
       "      <th>164</th>\n",
       "      <td>Zimbabwe</td>\n",
       "      <td>2015</td>\n",
       "      <td>M</td>\n",
       "      <td>72.22249</td>\n",
       "    </tr>\n",
       "    <tr>\n",
       "      <th>766</th>\n",
       "      <td>Zimbabwe</td>\n",
       "      <td>2015</td>\n",
       "      <td>_T</td>\n",
       "      <td>72.62408</td>\n",
       "    </tr>\n",
       "    <tr>\n",
       "      <th>511</th>\n",
       "      <td>Zimbabwe</td>\n",
       "      <td>2019</td>\n",
       "      <td>F</td>\n",
       "      <td>54.36128</td>\n",
       "    </tr>\n",
       "    <tr>\n",
       "      <th>165</th>\n",
       "      <td>Zimbabwe</td>\n",
       "      <td>2019</td>\n",
       "      <td>M</td>\n",
       "      <td>53.50781</td>\n",
       "    </tr>\n",
       "    <tr>\n",
       "      <th>767</th>\n",
       "      <td>Zimbabwe</td>\n",
       "      <td>2019</td>\n",
       "      <td>_T</td>\n",
       "      <td>53.94247</td>\n",
       "    </tr>\n",
       "  </tbody>\n",
       "</table>\n",
       "<p>2193 rows × 4 columns</p>\n",
       "</div>"
      ],
      "text/plain": [
       "         Country  Year Sex  Secondary_ed_completion_percent\n",
       "768  Afghanistan  2011   F                         11.50881\n",
       "512  Afghanistan  2011   M                         34.65255\n",
       "19   Afghanistan  2011  _T                         23.37700\n",
       "769  Afghanistan  2015   F                         25.17210\n",
       "464  Afghanistan  2015   M                         48.71595\n",
       "..           ...   ...  ..                              ...\n",
       "164     Zimbabwe  2015   M                         72.22249\n",
       "766     Zimbabwe  2015  _T                         72.62408\n",
       "511     Zimbabwe  2019   F                         54.36128\n",
       "165     Zimbabwe  2019   M                         53.50781\n",
       "767     Zimbabwe  2019  _T                         53.94247\n",
       "\n",
       "[2193 rows x 4 columns]"
      ]
     },
     "execution_count": 20,
     "metadata": {},
     "output_type": "execute_result"
    }
   ],
   "source": [
    "se_df1 = pd.DataFrame(pd.DataFrame(se_res1['features'])['attributes'].values.tolist())\n",
    "se_df2 = pd.DataFrame(pd.DataFrame(se_res2['features'])['attributes'].values.tolist())\n",
    "se_df3 = pd.DataFrame(pd.DataFrame(se_res3['features'])['attributes'].values.tolist())\n",
    "\n",
    "secondary_ed = pd.concat([se_df1, se_df2, se_df3])\n",
    "secondary_ed = secondary_ed[['ref_area_desc', 'time_period', 'sex', 'obs_value']]\n",
    "secondary_ed.columns = ['Country', 'Year', 'Sex', 'Secondary_ed_completion_percent']\n",
    "secondary_ed = secondary_ed.sort_values(['Country', 'Year', 'Sex'])\n",
    "\n",
    "secondary_ed"
   ]
  },
  {
   "cell_type": "markdown",
   "id": "67a62602",
   "metadata": {},
   "source": [
    "#### Maternal Death Rate per 100,000 live births"
   ]
  },
  {
   "cell_type": "code",
   "execution_count": 21,
   "id": "7a44084b",
   "metadata": {},
   "outputs": [],
   "source": [
    "mdr1 = 'https://services7.arcgis.com/gp50Ao2knMlOM89z/arcgis/rest/services/I75250979__S75250979_16442942938748052_tbl/FeatureServer/0/query?where=1%3D1&outFields=indicator_desc,ref_area_desc,time_period,obs_value,unit_measure_desc&returnGeometry=false&outSR=&f=json'\n",
    "mdr2 = 'https://services7.arcgis.com/gp50Ao2knMlOM89z/arcgis/rest/services/I75250979__S75250979_16442942938748052_tbl/FeatureServer/0/query?where=1%3D1&outFields=indicator_desc,ref_area_desc,time_period,obs_value,unit_measure_desc&returnGeometry=false&outSR=&resultOffset=1000&f=json'\n",
    "mdr3 = 'https://services7.arcgis.com/gp50Ao2knMlOM89z/arcgis/rest/services/I75250979__S75250979_16442942938748052_tbl/FeatureServer/0/query?where=1%3D1&outFields=indicator_desc,ref_area_desc,time_period,obs_value,unit_measure_desc&returnGeometry=false&outSR=&resultOffset=2000&f=json'\n",
    "mdr4 = 'https://services7.arcgis.com/gp50Ao2knMlOM89z/arcgis/rest/services/I75250979__S75250979_16442942938748052_tbl/FeatureServer/0/query?where=1%3D1&outFields=indicator_desc,ref_area_desc,time_period,obs_value,unit_measure_desc&returnGeometry=false&outSR=&resultOffset=3000&f=json'"
   ]
  },
  {
   "cell_type": "code",
   "execution_count": 22,
   "id": "4364af7e",
   "metadata": {},
   "outputs": [],
   "source": [
    "mdr_res1 = requests.get(mdr1).json()\n",
    "mdr_res2 = requests.get(mdr2).json()\n",
    "mdr_res3 = requests.get(mdr3).json()\n",
    "mdr_res4 = requests.get(mdr4).json()"
   ]
  },
  {
   "cell_type": "code",
   "execution_count": 114,
   "id": "9ba4a8ce",
   "metadata": {},
   "outputs": [
    {
     "data": {
      "text/plain": [
       "list"
      ]
     },
     "execution_count": 114,
     "metadata": {},
     "output_type": "execute_result"
    }
   ],
   "source": [
    "type(mdr_res1['features'])"
   ]
  },
  {
   "cell_type": "code",
   "execution_count": 23,
   "id": "113bc1a3",
   "metadata": {},
   "outputs": [
    {
     "data": {
      "text/html": [
       "<div>\n",
       "<style scoped>\n",
       "    .dataframe tbody tr th:only-of-type {\n",
       "        vertical-align: middle;\n",
       "    }\n",
       "\n",
       "    .dataframe tbody tr th {\n",
       "        vertical-align: top;\n",
       "    }\n",
       "\n",
       "    .dataframe thead th {\n",
       "        text-align: right;\n",
       "    }\n",
       "</style>\n",
       "<table border=\"1\" class=\"dataframe\">\n",
       "  <thead>\n",
       "    <tr style=\"text-align: right;\">\n",
       "      <th></th>\n",
       "      <th>Country</th>\n",
       "      <th>Year</th>\n",
       "      <th>Maternal_Death_Rate</th>\n",
       "    </tr>\n",
       "  </thead>\n",
       "  <tbody>\n",
       "    <tr>\n",
       "      <th>184</th>\n",
       "      <td>Afghanistan</td>\n",
       "      <td>2000</td>\n",
       "      <td>1450</td>\n",
       "    </tr>\n",
       "    <tr>\n",
       "      <th>185</th>\n",
       "      <td>Afghanistan</td>\n",
       "      <td>2001</td>\n",
       "      <td>1390</td>\n",
       "    </tr>\n",
       "    <tr>\n",
       "      <th>186</th>\n",
       "      <td>Afghanistan</td>\n",
       "      <td>2002</td>\n",
       "      <td>1300</td>\n",
       "    </tr>\n",
       "    <tr>\n",
       "      <th>187</th>\n",
       "      <td>Afghanistan</td>\n",
       "      <td>2003</td>\n",
       "      <td>1240</td>\n",
       "    </tr>\n",
       "    <tr>\n",
       "      <th>188</th>\n",
       "      <td>Afghanistan</td>\n",
       "      <td>2004</td>\n",
       "      <td>1180</td>\n",
       "    </tr>\n",
       "    <tr>\n",
       "      <th>...</th>\n",
       "      <td>...</td>\n",
       "      <td>...</td>\n",
       "      <td>...</td>\n",
       "    </tr>\n",
       "    <tr>\n",
       "      <th>465</th>\n",
       "      <td>Zimbabwe</td>\n",
       "      <td>2013</td>\n",
       "      <td>509</td>\n",
       "    </tr>\n",
       "    <tr>\n",
       "      <th>466</th>\n",
       "      <td>Zimbabwe</td>\n",
       "      <td>2014</td>\n",
       "      <td>494</td>\n",
       "    </tr>\n",
       "    <tr>\n",
       "      <th>467</th>\n",
       "      <td>Zimbabwe</td>\n",
       "      <td>2015</td>\n",
       "      <td>480</td>\n",
       "    </tr>\n",
       "    <tr>\n",
       "      <th>468</th>\n",
       "      <td>Zimbabwe</td>\n",
       "      <td>2016</td>\n",
       "      <td>468</td>\n",
       "    </tr>\n",
       "    <tr>\n",
       "      <th>469</th>\n",
       "      <td>Zimbabwe</td>\n",
       "      <td>2017</td>\n",
       "      <td>458</td>\n",
       "    </tr>\n",
       "  </tbody>\n",
       "</table>\n",
       "<p>3960 rows × 3 columns</p>\n",
       "</div>"
      ],
      "text/plain": [
       "         Country  Year  Maternal_Death_Rate\n",
       "184  Afghanistan  2000                 1450\n",
       "185  Afghanistan  2001                 1390\n",
       "186  Afghanistan  2002                 1300\n",
       "187  Afghanistan  2003                 1240\n",
       "188  Afghanistan  2004                 1180\n",
       "..           ...   ...                  ...\n",
       "465     Zimbabwe  2013                  509\n",
       "466     Zimbabwe  2014                  494\n",
       "467     Zimbabwe  2015                  480\n",
       "468     Zimbabwe  2016                  468\n",
       "469     Zimbabwe  2017                  458\n",
       "\n",
       "[3960 rows x 3 columns]"
      ]
     },
     "execution_count": 23,
     "metadata": {},
     "output_type": "execute_result"
    }
   ],
   "source": [
    "mdr_df1 = pd.DataFrame(pd.DataFrame(mdr_res1['features'])['attributes'].values.tolist())\n",
    "mdr_df2 = pd.DataFrame(pd.DataFrame(mdr_res2['features'])['attributes'].values.tolist())\n",
    "mdr_df3 = pd.DataFrame(pd.DataFrame(mdr_res3['features'])['attributes'].values.tolist())\n",
    "mdr_df4 = pd.DataFrame(pd.DataFrame(mdr_res4['features'])['attributes'].values.tolist())\n",
    "\n",
    "mdr = pd.concat([mdr_df1, mdr_df2, mdr_df3, mdr_df4])\n",
    "mdr =(\n",
    "    mdr.drop(columns = ['indicator_desc', 'unit_measure_desc'])\n",
    "    .rename(columns = {'ref_area_desc' : 'Country',\n",
    "                      'time_period' : 'Year',\n",
    "                      'obs_value' : 'Maternal_Death_Rate'})\n",
    ")\n",
    "\n",
    "mdr = mdr.sort_values(['Country', 'Year'])\n",
    "\n",
    "mdr"
   ]
  },
  {
   "cell_type": "markdown",
   "id": "6388a31c",
   "metadata": {},
   "source": [
    "#### Merging the two education tables"
   ]
  },
  {
   "cell_type": "code",
   "execution_count": 24,
   "id": "c943f41a",
   "metadata": {},
   "outputs": [
    {
     "data": {
      "text/html": [
       "<div>\n",
       "<style scoped>\n",
       "    .dataframe tbody tr th:only-of-type {\n",
       "        vertical-align: middle;\n",
       "    }\n",
       "\n",
       "    .dataframe tbody tr th {\n",
       "        vertical-align: top;\n",
       "    }\n",
       "\n",
       "    .dataframe thead th {\n",
       "        text-align: right;\n",
       "    }\n",
       "</style>\n",
       "<table border=\"1\" class=\"dataframe\">\n",
       "  <thead>\n",
       "    <tr style=\"text-align: right;\">\n",
       "      <th></th>\n",
       "      <th>Country</th>\n",
       "      <th>Year</th>\n",
       "      <th>Sex</th>\n",
       "      <th>Primary_ed_completion_percent</th>\n",
       "      <th>Secondary_ed_completion_percent</th>\n",
       "    </tr>\n",
       "  </thead>\n",
       "  <tbody>\n",
       "    <tr>\n",
       "      <th>1836</th>\n",
       "      <td>Australia</td>\n",
       "      <td>2010</td>\n",
       "      <td>F</td>\n",
       "      <td>NaN</td>\n",
       "      <td>99.53</td>\n",
       "    </tr>\n",
       "    <tr>\n",
       "      <th>1837</th>\n",
       "      <td>Australia</td>\n",
       "      <td>2010</td>\n",
       "      <td>M</td>\n",
       "      <td>NaN</td>\n",
       "      <td>98.82</td>\n",
       "    </tr>\n",
       "    <tr>\n",
       "      <th>1838</th>\n",
       "      <td>Australia</td>\n",
       "      <td>2010</td>\n",
       "      <td>_T</td>\n",
       "      <td>NaN</td>\n",
       "      <td>99.15</td>\n",
       "    </tr>\n",
       "    <tr>\n",
       "      <th>1839</th>\n",
       "      <td>Austria</td>\n",
       "      <td>2005</td>\n",
       "      <td>F</td>\n",
       "      <td>NaN</td>\n",
       "      <td>98.59</td>\n",
       "    </tr>\n",
       "    <tr>\n",
       "      <th>1840</th>\n",
       "      <td>Austria</td>\n",
       "      <td>2005</td>\n",
       "      <td>M</td>\n",
       "      <td>NaN</td>\n",
       "      <td>98.73</td>\n",
       "    </tr>\n",
       "    <tr>\n",
       "      <th>...</th>\n",
       "      <td>...</td>\n",
       "      <td>...</td>\n",
       "      <td>...</td>\n",
       "      <td>...</td>\n",
       "      <td>...</td>\n",
       "    </tr>\n",
       "    <tr>\n",
       "      <th>2188</th>\n",
       "      <td>United Kingdom of Great Britain and Northern I...</td>\n",
       "      <td>2013</td>\n",
       "      <td>M</td>\n",
       "      <td>NaN</td>\n",
       "      <td>100.00</td>\n",
       "    </tr>\n",
       "    <tr>\n",
       "      <th>2189</th>\n",
       "      <td>United Kingdom of Great Britain and Northern I...</td>\n",
       "      <td>2013</td>\n",
       "      <td>_T</td>\n",
       "      <td>NaN</td>\n",
       "      <td>100.00</td>\n",
       "    </tr>\n",
       "    <tr>\n",
       "      <th>2190</th>\n",
       "      <td>United Kingdom of Great Britain and Northern I...</td>\n",
       "      <td>2014</td>\n",
       "      <td>F</td>\n",
       "      <td>NaN</td>\n",
       "      <td>100.00</td>\n",
       "    </tr>\n",
       "    <tr>\n",
       "      <th>2191</th>\n",
       "      <td>United Kingdom of Great Britain and Northern I...</td>\n",
       "      <td>2014</td>\n",
       "      <td>M</td>\n",
       "      <td>NaN</td>\n",
       "      <td>100.00</td>\n",
       "    </tr>\n",
       "    <tr>\n",
       "      <th>2192</th>\n",
       "      <td>United Kingdom of Great Britain and Northern I...</td>\n",
       "      <td>2014</td>\n",
       "      <td>_T</td>\n",
       "      <td>NaN</td>\n",
       "      <td>100.00</td>\n",
       "    </tr>\n",
       "  </tbody>\n",
       "</table>\n",
       "<p>357 rows × 5 columns</p>\n",
       "</div>"
      ],
      "text/plain": [
       "                                                Country  Year Sex  \\\n",
       "1836                                          Australia  2010   F   \n",
       "1837                                          Australia  2010   M   \n",
       "1838                                          Australia  2010  _T   \n",
       "1839                                            Austria  2005   F   \n",
       "1840                                            Austria  2005   M   \n",
       "...                                                 ...   ...  ..   \n",
       "2188  United Kingdom of Great Britain and Northern I...  2013   M   \n",
       "2189  United Kingdom of Great Britain and Northern I...  2013  _T   \n",
       "2190  United Kingdom of Great Britain and Northern I...  2014   F   \n",
       "2191  United Kingdom of Great Britain and Northern I...  2014   M   \n",
       "2192  United Kingdom of Great Britain and Northern I...  2014  _T   \n",
       "\n",
       "      Primary_ed_completion_percent  Secondary_ed_completion_percent  \n",
       "1836                            NaN                            99.53  \n",
       "1837                            NaN                            98.82  \n",
       "1838                            NaN                            99.15  \n",
       "1839                            NaN                            98.59  \n",
       "1840                            NaN                            98.73  \n",
       "...                             ...                              ...  \n",
       "2188                            NaN                           100.00  \n",
       "2189                            NaN                           100.00  \n",
       "2190                            NaN                           100.00  \n",
       "2191                            NaN                           100.00  \n",
       "2192                            NaN                           100.00  \n",
       "\n",
       "[357 rows x 5 columns]"
      ]
     },
     "execution_count": 24,
     "metadata": {},
     "output_type": "execute_result"
    }
   ],
   "source": [
    "education = pd.merge(primary_ed, secondary_ed, how='outer', on=['Country', 'Year', 'Sex'])\n",
    "\n",
    "#Looking at rows that don't have primary education rates listed\n",
    "(\n",
    "    education.loc[(education['Primary_ed_completion_percent']\n",
    "                   .isna())]\n",
    ")"
   ]
  },
  {
   "cell_type": "markdown",
   "id": "6de6b96d",
   "metadata": {},
   "source": [
    "#### Bringing in the other data sets"
   ]
  },
  {
   "cell_type": "code",
   "execution_count": 25,
   "id": "cb520849",
   "metadata": {},
   "outputs": [],
   "source": [
    "gdp_df = pd.read_csv('../data/gdp_per_capita.csv', nrows=6868)\n",
    "#This prevents bringing in the rows containing footnotes at the bottom of the file\n",
    "\n",
    "continents = pd.read_csv('../data/continents.csv')\n",
    "\n",
    "life_expectancy = pd.read_csv('../data/life_expectancy.csv', header=2)"
   ]
  },
  {
   "cell_type": "code",
   "execution_count": 26,
   "id": "b5dde9f3",
   "metadata": {},
   "outputs": [],
   "source": [
    "gdp_df = gdp_df.drop(columns = 'Value Footnotes')\n",
    "gdp_df.columns = ['Country', 'Year', 'GDP_Per_Capita']\n",
    "gdp_df['Country'] = gdp_df['Country'].str.replace('The', '')\n",
    "gdp_df['Country'] = gdp_df['Country'].str.replace('Democratic Republic of the', 'Dem. Rep.')\n",
    "\n",
    "continents = continents.loc[~continents['Country'].str.contains('The')]\n",
    "\n",
    "life_expectancy = life_expectancy.drop(columns = ['Country Code', 'Indicator Name', \n",
    "                                                  'Indicator Code', '2021', 'Unnamed: 66'])\n",
    "life_expectancy = life_expectancy.melt(id_vars=['Country Name']).dropna()\n",
    "life_expectancy.columns = ['Country', 'Year', 'Life_Expectancy']\n",
    "life_expectancy['Year'] = life_expectancy['Year'].astype(int)\n",
    "life_expectancy = life_expectancy.loc[life_expectancy['Year'] > 1989]"
   ]
  },
  {
   "cell_type": "markdown",
   "id": "9d65d67e",
   "metadata": {},
   "source": [
    "#### Looking at mismatched country names"
   ]
  },
  {
   "cell_type": "code",
   "execution_count": 29,
   "id": "c5a9108f",
   "metadata": {},
   "outputs": [],
   "source": [
    "pattern = '|'.join([', The', ', Rep.', ', RB', ', Arab Rep.', ', Islamic Rep.', \n",
    "                    ', Fed. Sts.', ' \\(Plurinational State of\\)', ' \\(Bolivarian Republic of\\)',\n",
    "                   ' \\(Islamic Republic of\\)', ' \\(Dutch part\\)'])\n",
    "\n",
    "country_map = {\n",
    "    'Democratic Republic of the Congo' : 'Dem. Rep. Congo',\n",
    "    'Congo, Dem. Rep.' : 'Dem. Rep. Congo',\n",
    "    'Burma (Myanmar)' : 'Myanmar',\n",
    "    'Kyrgyzstan' : 'Kyrgyz Republic'\n",
    "}\n",
    "\n",
    "def country_name_counts(df_name, col):\n",
    "    \"\"\"Pulling out country names and value counts from each dataframe\"\"\"\n",
    "    df_name['Country'] = df_name['Country'].str.replace(pattern, '', regex=True)\n",
    "    df_name['Country'] = df_name['Country'].str.strip()\n",
    "    df_name['Country'] = df_name['Country'].replace(country_map)\n",
    "    df_name = df_name.loc[~df_name['Country'].str.contains('Europe') &\n",
    "                          ~df_name['Country'].str.contains('Asia') &\n",
    "                          ~df_name['Country'].str.contains('Latin America') &\n",
    "                          ~df_name['Country'].str.contains('\\(') &\n",
    "                          ~df_name['Country'].str.contains('countries') &\n",
    "                          ~df_name['Country'].str.contains('Central') & \n",
    "                          ~df_name['Country'].str.contains('Western') &\n",
    "                          ~df_name['Country'].str.contains('Sub') &\n",
    "                          ~df_name['Country'].str.contains('World') &\n",
    "                          ~df_name['Country'].str.contains('Korea') & \n",
    "                          ~df_name['Country'].str.contains('income')]\n",
    "\n",
    "    df_name = df_name.drop_duplicates()\n",
    "    co_df = (\n",
    "        df_name['Country']\n",
    "        .value_counts()\n",
    "        .to_frame()\n",
    "        .reset_index()\n",
    "        .rename(columns = {'index' : 'Country',\n",
    "                           'Country' : f'Count_{col}'})\n",
    "    )\n",
    "    return co_df"
   ]
  },
  {
   "cell_type": "code",
   "execution_count": 30,
   "id": "042fc63c",
   "metadata": {},
   "outputs": [],
   "source": [
    "gdp_co = country_name_counts(gdp_df, \"gdp\")\n",
    "le_co = country_name_counts(life_expectancy, \"le\")\n",
    "continent_co = country_name_counts(continents, \"continent\")\n",
    "ed_co = country_name_counts(education, \"ed\")\n",
    "mdr_co = country_name_counts(mdr, \"mdr\")"
   ]
  },
  {
   "cell_type": "code",
   "execution_count": 31,
   "id": "2a0a3174",
   "metadata": {},
   "outputs": [
    {
     "name": "stdout",
     "output_type": "stream",
     "text": [
      "<class 'pandas.core.frame.DataFrame'>\n",
      "RangeIndex: 128 entries, 0 to 127\n",
      "Data columns (total 6 columns):\n",
      " #   Column           Non-Null Count  Dtype  \n",
      "---  ------           --------------  -----  \n",
      " 0   Country          128 non-null    object \n",
      " 1   Count_gdp        72 non-null     float64\n",
      " 2   Count_le         85 non-null     float64\n",
      " 3   Count_continent  73 non-null     float64\n",
      " 4   Count_ed         20 non-null     float64\n",
      " 5   Count_mdr        57 non-null     float64\n",
      "dtypes: float64(5), object(1)\n",
      "memory usage: 6.1+ KB\n"
     ]
    }
   ],
   "source": [
    "country_dfs = [gdp_co, le_co, continent_co, ed_co, mdr_co]\n",
    "\n",
    "all_countries = (\n",
    "    reduce(lambda  left,right: pd.merge(left,right,on=['Country'],\n",
    "                                        how='outer'), country_dfs)\n",
    ")\n",
    "\n",
    "mismatch = (\n",
    "    all_countries.loc[all_countries.isna()\n",
    "                      .any(axis=1)]\n",
    "    .sort_values('Country')\n",
    "    .reset_index(drop=True)\n",
    ")\n",
    "\n",
    "mismatch.info()"
   ]
  },
  {
   "cell_type": "code",
   "execution_count": 32,
   "id": "a72ba5d5",
   "metadata": {
    "scrolled": true
   },
   "outputs": [
    {
     "data": {
      "text/html": [
       "<div>\n",
       "<style scoped>\n",
       "    .dataframe tbody tr th:only-of-type {\n",
       "        vertical-align: middle;\n",
       "    }\n",
       "\n",
       "    .dataframe tbody tr th {\n",
       "        vertical-align: top;\n",
       "    }\n",
       "\n",
       "    .dataframe thead th {\n",
       "        text-align: right;\n",
       "    }\n",
       "</style>\n",
       "<table border=\"1\" class=\"dataframe\">\n",
       "  <thead>\n",
       "    <tr style=\"text-align: right;\">\n",
       "      <th></th>\n",
       "      <th>Country</th>\n",
       "      <th>Count_gdp</th>\n",
       "      <th>Count_le</th>\n",
       "      <th>Count_continent</th>\n",
       "      <th>Count_ed</th>\n",
       "      <th>Count_mdr</th>\n",
       "    </tr>\n",
       "  </thead>\n",
       "  <tbody>\n",
       "    <tr>\n",
       "      <th>0</th>\n",
       "      <td>Africa Eastern and Southern</td>\n",
       "      <td>NaN</td>\n",
       "      <td>31.0</td>\n",
       "      <td>NaN</td>\n",
       "      <td>NaN</td>\n",
       "      <td>NaN</td>\n",
       "    </tr>\n",
       "    <tr>\n",
       "      <th>1</th>\n",
       "      <td>Andorra</td>\n",
       "      <td>NaN</td>\n",
       "      <td>NaN</td>\n",
       "      <td>1.0</td>\n",
       "      <td>NaN</td>\n",
       "      <td>NaN</td>\n",
       "    </tr>\n",
       "    <tr>\n",
       "      <th>2</th>\n",
       "      <td>Antigua and Barbuda</td>\n",
       "      <td>30.0</td>\n",
       "      <td>31.0</td>\n",
       "      <td>1.0</td>\n",
       "      <td>NaN</td>\n",
       "      <td>18.0</td>\n",
       "    </tr>\n",
       "    <tr>\n",
       "      <th>3</th>\n",
       "      <td>Aruba</td>\n",
       "      <td>28.0</td>\n",
       "      <td>31.0</td>\n",
       "      <td>1.0</td>\n",
       "      <td>NaN</td>\n",
       "      <td>NaN</td>\n",
       "    </tr>\n",
       "    <tr>\n",
       "      <th>4</th>\n",
       "      <td>Australia and New Zealand</td>\n",
       "      <td>NaN</td>\n",
       "      <td>NaN</td>\n",
       "      <td>NaN</td>\n",
       "      <td>NaN</td>\n",
       "      <td>18.0</td>\n",
       "    </tr>\n",
       "    <tr>\n",
       "      <th>5</th>\n",
       "      <td>Bahamas</td>\n",
       "      <td>30.0</td>\n",
       "      <td>31.0</td>\n",
       "      <td>1.0</td>\n",
       "      <td>NaN</td>\n",
       "      <td>18.0</td>\n",
       "    </tr>\n",
       "    <tr>\n",
       "      <th>6</th>\n",
       "      <td>Bahrain</td>\n",
       "      <td>30.0</td>\n",
       "      <td>31.0</td>\n",
       "      <td>1.0</td>\n",
       "      <td>NaN</td>\n",
       "      <td>18.0</td>\n",
       "    </tr>\n",
       "    <tr>\n",
       "      <th>7</th>\n",
       "      <td>Bermuda</td>\n",
       "      <td>30.0</td>\n",
       "      <td>22.0</td>\n",
       "      <td>1.0</td>\n",
       "      <td>NaN</td>\n",
       "      <td>NaN</td>\n",
       "    </tr>\n",
       "    <tr>\n",
       "      <th>8</th>\n",
       "      <td>Brunei</td>\n",
       "      <td>30.0</td>\n",
       "      <td>NaN</td>\n",
       "      <td>1.0</td>\n",
       "      <td>NaN</td>\n",
       "      <td>NaN</td>\n",
       "    </tr>\n",
       "    <tr>\n",
       "      <th>9</th>\n",
       "      <td>Brunei Darussalam</td>\n",
       "      <td>NaN</td>\n",
       "      <td>31.0</td>\n",
       "      <td>NaN</td>\n",
       "      <td>NaN</td>\n",
       "      <td>18.0</td>\n",
       "    </tr>\n",
       "    <tr>\n",
       "      <th>10</th>\n",
       "      <td>Cabo Verde</td>\n",
       "      <td>30.0</td>\n",
       "      <td>31.0</td>\n",
       "      <td>1.0</td>\n",
       "      <td>NaN</td>\n",
       "      <td>18.0</td>\n",
       "    </tr>\n",
       "    <tr>\n",
       "      <th>11</th>\n",
       "      <td>Caribbean</td>\n",
       "      <td>NaN</td>\n",
       "      <td>NaN</td>\n",
       "      <td>NaN</td>\n",
       "      <td>NaN</td>\n",
       "      <td>18.0</td>\n",
       "    </tr>\n",
       "    <tr>\n",
       "      <th>12</th>\n",
       "      <td>Caribbean small states</td>\n",
       "      <td>30.0</td>\n",
       "      <td>31.0</td>\n",
       "      <td>NaN</td>\n",
       "      <td>NaN</td>\n",
       "      <td>NaN</td>\n",
       "    </tr>\n",
       "    <tr>\n",
       "      <th>13</th>\n",
       "      <td>Cayman Islands</td>\n",
       "      <td>13.0</td>\n",
       "      <td>1.0</td>\n",
       "      <td>1.0</td>\n",
       "      <td>NaN</td>\n",
       "      <td>NaN</td>\n",
       "    </tr>\n",
       "    <tr>\n",
       "      <th>14</th>\n",
       "      <td>Channel Islands</td>\n",
       "      <td>NaN</td>\n",
       "      <td>31.0</td>\n",
       "      <td>NaN</td>\n",
       "      <td>NaN</td>\n",
       "      <td>NaN</td>\n",
       "    </tr>\n",
       "    <tr>\n",
       "      <th>15</th>\n",
       "      <td>Cote d'Ivoire</td>\n",
       "      <td>NaN</td>\n",
       "      <td>31.0</td>\n",
       "      <td>NaN</td>\n",
       "      <td>NaN</td>\n",
       "      <td>NaN</td>\n",
       "    </tr>\n",
       "    <tr>\n",
       "      <th>16</th>\n",
       "      <td>Cuba</td>\n",
       "      <td>NaN</td>\n",
       "      <td>31.0</td>\n",
       "      <td>1.0</td>\n",
       "      <td>9.0</td>\n",
       "      <td>18.0</td>\n",
       "    </tr>\n",
       "    <tr>\n",
       "      <th>17</th>\n",
       "      <td>Curacao</td>\n",
       "      <td>NaN</td>\n",
       "      <td>11.0</td>\n",
       "      <td>NaN</td>\n",
       "      <td>NaN</td>\n",
       "      <td>NaN</td>\n",
       "    </tr>\n",
       "    <tr>\n",
       "      <th>18</th>\n",
       "      <td>CuraÃ§ao</td>\n",
       "      <td>20.0</td>\n",
       "      <td>NaN</td>\n",
       "      <td>NaN</td>\n",
       "      <td>NaN</td>\n",
       "      <td>NaN</td>\n",
       "    </tr>\n",
       "    <tr>\n",
       "      <th>19</th>\n",
       "      <td>Curaçao</td>\n",
       "      <td>NaN</td>\n",
       "      <td>NaN</td>\n",
       "      <td>1.0</td>\n",
       "      <td>NaN</td>\n",
       "      <td>NaN</td>\n",
       "    </tr>\n",
       "    <tr>\n",
       "      <th>20</th>\n",
       "      <td>Czech Republic</td>\n",
       "      <td>30.0</td>\n",
       "      <td>31.0</td>\n",
       "      <td>1.0</td>\n",
       "      <td>NaN</td>\n",
       "      <td>NaN</td>\n",
       "    </tr>\n",
       "    <tr>\n",
       "      <th>21</th>\n",
       "      <td>Czechia</td>\n",
       "      <td>NaN</td>\n",
       "      <td>NaN</td>\n",
       "      <td>NaN</td>\n",
       "      <td>12.0</td>\n",
       "      <td>18.0</td>\n",
       "    </tr>\n",
       "    <tr>\n",
       "      <th>22</th>\n",
       "      <td>CÃ´te d'Ivoire</td>\n",
       "      <td>30.0</td>\n",
       "      <td>NaN</td>\n",
       "      <td>NaN</td>\n",
       "      <td>NaN</td>\n",
       "      <td>NaN</td>\n",
       "    </tr>\n",
       "    <tr>\n",
       "      <th>23</th>\n",
       "      <td>Côte d'Ivoire</td>\n",
       "      <td>NaN</td>\n",
       "      <td>NaN</td>\n",
       "      <td>NaN</td>\n",
       "      <td>9.0</td>\n",
       "      <td>18.0</td>\n",
       "    </tr>\n",
       "    <tr>\n",
       "      <th>24</th>\n",
       "      <td>Dominica</td>\n",
       "      <td>30.0</td>\n",
       "      <td>3.0</td>\n",
       "      <td>1.0</td>\n",
       "      <td>NaN</td>\n",
       "      <td>NaN</td>\n",
       "    </tr>\n",
       "    <tr>\n",
       "      <th>25</th>\n",
       "      <td>Early-demographic dividend</td>\n",
       "      <td>30.0</td>\n",
       "      <td>31.0</td>\n",
       "      <td>NaN</td>\n",
       "      <td>NaN</td>\n",
       "      <td>NaN</td>\n",
       "    </tr>\n",
       "    <tr>\n",
       "      <th>26</th>\n",
       "      <td>East Timor</td>\n",
       "      <td>NaN</td>\n",
       "      <td>NaN</td>\n",
       "      <td>1.0</td>\n",
       "      <td>NaN</td>\n",
       "      <td>NaN</td>\n",
       "    </tr>\n",
       "    <tr>\n",
       "      <th>27</th>\n",
       "      <td>Eastern Africa</td>\n",
       "      <td>NaN</td>\n",
       "      <td>NaN</td>\n",
       "      <td>NaN</td>\n",
       "      <td>NaN</td>\n",
       "      <td>18.0</td>\n",
       "    </tr>\n",
       "    <tr>\n",
       "      <th>28</th>\n",
       "      <td>Equatorial Guinea</td>\n",
       "      <td>30.0</td>\n",
       "      <td>31.0</td>\n",
       "      <td>1.0</td>\n",
       "      <td>NaN</td>\n",
       "      <td>18.0</td>\n",
       "    </tr>\n",
       "    <tr>\n",
       "      <th>29</th>\n",
       "      <td>Eritrea</td>\n",
       "      <td>NaN</td>\n",
       "      <td>31.0</td>\n",
       "      <td>1.0</td>\n",
       "      <td>NaN</td>\n",
       "      <td>18.0</td>\n",
       "    </tr>\n",
       "    <tr>\n",
       "      <th>30</th>\n",
       "      <td>Euro area</td>\n",
       "      <td>30.0</td>\n",
       "      <td>31.0</td>\n",
       "      <td>NaN</td>\n",
       "      <td>NaN</td>\n",
       "      <td>NaN</td>\n",
       "    </tr>\n",
       "    <tr>\n",
       "      <th>31</th>\n",
       "      <td>Faroe Islands</td>\n",
       "      <td>NaN</td>\n",
       "      <td>31.0</td>\n",
       "      <td>NaN</td>\n",
       "      <td>NaN</td>\n",
       "      <td>NaN</td>\n",
       "    </tr>\n",
       "    <tr>\n",
       "      <th>32</th>\n",
       "      <td>Fragile and conflict affected situations</td>\n",
       "      <td>NaN</td>\n",
       "      <td>31.0</td>\n",
       "      <td>NaN</td>\n",
       "      <td>NaN</td>\n",
       "      <td>NaN</td>\n",
       "    </tr>\n",
       "    <tr>\n",
       "      <th>33</th>\n",
       "      <td>France</td>\n",
       "      <td>30.0</td>\n",
       "      <td>31.0</td>\n",
       "      <td>1.0</td>\n",
       "      <td>NaN</td>\n",
       "      <td>18.0</td>\n",
       "    </tr>\n",
       "    <tr>\n",
       "      <th>34</th>\n",
       "      <td>French Polynesia</td>\n",
       "      <td>NaN</td>\n",
       "      <td>31.0</td>\n",
       "      <td>NaN</td>\n",
       "      <td>NaN</td>\n",
       "      <td>NaN</td>\n",
       "    </tr>\n",
       "    <tr>\n",
       "      <th>35</th>\n",
       "      <td>Greenland</td>\n",
       "      <td>NaN</td>\n",
       "      <td>31.0</td>\n",
       "      <td>NaN</td>\n",
       "      <td>NaN</td>\n",
       "      <td>NaN</td>\n",
       "    </tr>\n",
       "    <tr>\n",
       "      <th>36</th>\n",
       "      <td>Grenada</td>\n",
       "      <td>30.0</td>\n",
       "      <td>31.0</td>\n",
       "      <td>1.0</td>\n",
       "      <td>NaN</td>\n",
       "      <td>18.0</td>\n",
       "    </tr>\n",
       "    <tr>\n",
       "      <th>37</th>\n",
       "      <td>Guam</td>\n",
       "      <td>NaN</td>\n",
       "      <td>31.0</td>\n",
       "      <td>NaN</td>\n",
       "      <td>NaN</td>\n",
       "      <td>NaN</td>\n",
       "    </tr>\n",
       "    <tr>\n",
       "      <th>38</th>\n",
       "      <td>Hong Kong SAR, China</td>\n",
       "      <td>30.0</td>\n",
       "      <td>31.0</td>\n",
       "      <td>1.0</td>\n",
       "      <td>NaN</td>\n",
       "      <td>NaN</td>\n",
       "    </tr>\n",
       "    <tr>\n",
       "      <th>39</th>\n",
       "      <td>IBRD only</td>\n",
       "      <td>30.0</td>\n",
       "      <td>31.0</td>\n",
       "      <td>NaN</td>\n",
       "      <td>NaN</td>\n",
       "      <td>NaN</td>\n",
       "    </tr>\n",
       "    <tr>\n",
       "      <th>40</th>\n",
       "      <td>IDA &amp; IBRD total</td>\n",
       "      <td>30.0</td>\n",
       "      <td>31.0</td>\n",
       "      <td>NaN</td>\n",
       "      <td>NaN</td>\n",
       "      <td>NaN</td>\n",
       "    </tr>\n",
       "    <tr>\n",
       "      <th>41</th>\n",
       "      <td>IDA blend</td>\n",
       "      <td>30.0</td>\n",
       "      <td>31.0</td>\n",
       "      <td>NaN</td>\n",
       "      <td>NaN</td>\n",
       "      <td>NaN</td>\n",
       "    </tr>\n",
       "    <tr>\n",
       "      <th>42</th>\n",
       "      <td>IDA only</td>\n",
       "      <td>30.0</td>\n",
       "      <td>31.0</td>\n",
       "      <td>NaN</td>\n",
       "      <td>NaN</td>\n",
       "      <td>NaN</td>\n",
       "    </tr>\n",
       "    <tr>\n",
       "      <th>43</th>\n",
       "      <td>IDA total</td>\n",
       "      <td>30.0</td>\n",
       "      <td>31.0</td>\n",
       "      <td>NaN</td>\n",
       "      <td>NaN</td>\n",
       "      <td>NaN</td>\n",
       "    </tr>\n",
       "    <tr>\n",
       "      <th>44</th>\n",
       "      <td>Iran</td>\n",
       "      <td>30.0</td>\n",
       "      <td>31.0</td>\n",
       "      <td>1.0</td>\n",
       "      <td>NaN</td>\n",
       "      <td>18.0</td>\n",
       "    </tr>\n",
       "    <tr>\n",
       "      <th>45</th>\n",
       "      <td>Isle of Man</td>\n",
       "      <td>NaN</td>\n",
       "      <td>2.0</td>\n",
       "      <td>NaN</td>\n",
       "      <td>NaN</td>\n",
       "      <td>NaN</td>\n",
       "    </tr>\n",
       "    <tr>\n",
       "      <th>46</th>\n",
       "      <td>Ivory Coast</td>\n",
       "      <td>NaN</td>\n",
       "      <td>NaN</td>\n",
       "      <td>1.0</td>\n",
       "      <td>NaN</td>\n",
       "      <td>NaN</td>\n",
       "    </tr>\n",
       "    <tr>\n",
       "      <th>47</th>\n",
       "      <td>Japan</td>\n",
       "      <td>30.0</td>\n",
       "      <td>31.0</td>\n",
       "      <td>1.0</td>\n",
       "      <td>NaN</td>\n",
       "      <td>18.0</td>\n",
       "    </tr>\n",
       "    <tr>\n",
       "      <th>48</th>\n",
       "      <td>Kosovo</td>\n",
       "      <td>20.0</td>\n",
       "      <td>31.0</td>\n",
       "      <td>1.0</td>\n",
       "      <td>NaN</td>\n",
       "      <td>NaN</td>\n",
       "    </tr>\n",
       "    <tr>\n",
       "      <th>49</th>\n",
       "      <td>Kuwait</td>\n",
       "      <td>25.0</td>\n",
       "      <td>31.0</td>\n",
       "      <td>1.0</td>\n",
       "      <td>NaN</td>\n",
       "      <td>18.0</td>\n",
       "    </tr>\n",
       "    <tr>\n",
       "      <th>50</th>\n",
       "      <td>Lao PDR</td>\n",
       "      <td>30.0</td>\n",
       "      <td>31.0</td>\n",
       "      <td>1.0</td>\n",
       "      <td>NaN</td>\n",
       "      <td>NaN</td>\n",
       "    </tr>\n",
       "    <tr>\n",
       "      <th>51</th>\n",
       "      <td>Lao People's Democratic Republic</td>\n",
       "      <td>NaN</td>\n",
       "      <td>NaN</td>\n",
       "      <td>NaN</td>\n",
       "      <td>9.0</td>\n",
       "      <td>18.0</td>\n",
       "    </tr>\n",
       "    <tr>\n",
       "      <th>52</th>\n",
       "      <td>Late-demographic dividend</td>\n",
       "      <td>30.0</td>\n",
       "      <td>31.0</td>\n",
       "      <td>NaN</td>\n",
       "      <td>NaN</td>\n",
       "      <td>NaN</td>\n",
       "    </tr>\n",
       "    <tr>\n",
       "      <th>53</th>\n",
       "      <td>Lebanon</td>\n",
       "      <td>30.0</td>\n",
       "      <td>31.0</td>\n",
       "      <td>1.0</td>\n",
       "      <td>NaN</td>\n",
       "      <td>18.0</td>\n",
       "    </tr>\n",
       "    <tr>\n",
       "      <th>54</th>\n",
       "      <td>Libya</td>\n",
       "      <td>21.0</td>\n",
       "      <td>31.0</td>\n",
       "      <td>1.0</td>\n",
       "      <td>NaN</td>\n",
       "      <td>18.0</td>\n",
       "    </tr>\n",
       "    <tr>\n",
       "      <th>55</th>\n",
       "      <td>Liechtenstein</td>\n",
       "      <td>NaN</td>\n",
       "      <td>27.0</td>\n",
       "      <td>1.0</td>\n",
       "      <td>NaN</td>\n",
       "      <td>NaN</td>\n",
       "    </tr>\n",
       "    <tr>\n",
       "      <th>56</th>\n",
       "      <td>Macao SAR, China</td>\n",
       "      <td>30.0</td>\n",
       "      <td>31.0</td>\n",
       "      <td>1.0</td>\n",
       "      <td>NaN</td>\n",
       "      <td>NaN</td>\n",
       "    </tr>\n",
       "    <tr>\n",
       "      <th>57</th>\n",
       "      <td>Macedonia</td>\n",
       "      <td>NaN</td>\n",
       "      <td>NaN</td>\n",
       "      <td>1.0</td>\n",
       "      <td>NaN</td>\n",
       "      <td>NaN</td>\n",
       "    </tr>\n",
       "    <tr>\n",
       "      <th>58</th>\n",
       "      <td>Malaysia</td>\n",
       "      <td>30.0</td>\n",
       "      <td>31.0</td>\n",
       "      <td>1.0</td>\n",
       "      <td>NaN</td>\n",
       "      <td>18.0</td>\n",
       "    </tr>\n",
       "    <tr>\n",
       "      <th>59</th>\n",
       "      <td>Marshall Islands</td>\n",
       "      <td>29.0</td>\n",
       "      <td>2.0</td>\n",
       "      <td>1.0</td>\n",
       "      <td>NaN</td>\n",
       "      <td>NaN</td>\n",
       "    </tr>\n",
       "  </tbody>\n",
       "</table>\n",
       "</div>"
      ],
      "text/plain": [
       "                                     Country  Count_gdp  Count_le  \\\n",
       "0                Africa Eastern and Southern        NaN      31.0   \n",
       "1                                    Andorra        NaN       NaN   \n",
       "2                        Antigua and Barbuda       30.0      31.0   \n",
       "3                                      Aruba       28.0      31.0   \n",
       "4                  Australia and New Zealand        NaN       NaN   \n",
       "5                                    Bahamas       30.0      31.0   \n",
       "6                                    Bahrain       30.0      31.0   \n",
       "7                                    Bermuda       30.0      22.0   \n",
       "8                                     Brunei       30.0       NaN   \n",
       "9                          Brunei Darussalam        NaN      31.0   \n",
       "10                                Cabo Verde       30.0      31.0   \n",
       "11                                 Caribbean        NaN       NaN   \n",
       "12                    Caribbean small states       30.0      31.0   \n",
       "13                            Cayman Islands       13.0       1.0   \n",
       "14                           Channel Islands        NaN      31.0   \n",
       "15                             Cote d'Ivoire        NaN      31.0   \n",
       "16                                      Cuba        NaN      31.0   \n",
       "17                                   Curacao        NaN      11.0   \n",
       "18                                  CuraÃ§ao       20.0       NaN   \n",
       "19                                   Curaçao        NaN       NaN   \n",
       "20                            Czech Republic       30.0      31.0   \n",
       "21                                   Czechia        NaN       NaN   \n",
       "22                            CÃ´te d'Ivoire       30.0       NaN   \n",
       "23                             Côte d'Ivoire        NaN       NaN   \n",
       "24                                  Dominica       30.0       3.0   \n",
       "25                Early-demographic dividend       30.0      31.0   \n",
       "26                                East Timor        NaN       NaN   \n",
       "27                            Eastern Africa        NaN       NaN   \n",
       "28                         Equatorial Guinea       30.0      31.0   \n",
       "29                                   Eritrea        NaN      31.0   \n",
       "30                                 Euro area       30.0      31.0   \n",
       "31                             Faroe Islands        NaN      31.0   \n",
       "32  Fragile and conflict affected situations        NaN      31.0   \n",
       "33                                    France       30.0      31.0   \n",
       "34                          French Polynesia        NaN      31.0   \n",
       "35                                 Greenland        NaN      31.0   \n",
       "36                                   Grenada       30.0      31.0   \n",
       "37                                      Guam        NaN      31.0   \n",
       "38                      Hong Kong SAR, China       30.0      31.0   \n",
       "39                                 IBRD only       30.0      31.0   \n",
       "40                          IDA & IBRD total       30.0      31.0   \n",
       "41                                 IDA blend       30.0      31.0   \n",
       "42                                  IDA only       30.0      31.0   \n",
       "43                                 IDA total       30.0      31.0   \n",
       "44                                      Iran       30.0      31.0   \n",
       "45                               Isle of Man        NaN       2.0   \n",
       "46                               Ivory Coast        NaN       NaN   \n",
       "47                                     Japan       30.0      31.0   \n",
       "48                                    Kosovo       20.0      31.0   \n",
       "49                                    Kuwait       25.0      31.0   \n",
       "50                                   Lao PDR       30.0      31.0   \n",
       "51          Lao People's Democratic Republic        NaN       NaN   \n",
       "52                 Late-demographic dividend       30.0      31.0   \n",
       "53                                   Lebanon       30.0      31.0   \n",
       "54                                     Libya       21.0      31.0   \n",
       "55                             Liechtenstein        NaN      27.0   \n",
       "56                          Macao SAR, China       30.0      31.0   \n",
       "57                                 Macedonia        NaN       NaN   \n",
       "58                                  Malaysia       30.0      31.0   \n",
       "59                          Marshall Islands       29.0       2.0   \n",
       "\n",
       "    Count_continent  Count_ed  Count_mdr  \n",
       "0               NaN       NaN        NaN  \n",
       "1               1.0       NaN        NaN  \n",
       "2               1.0       NaN       18.0  \n",
       "3               1.0       NaN        NaN  \n",
       "4               NaN       NaN       18.0  \n",
       "5               1.0       NaN       18.0  \n",
       "6               1.0       NaN       18.0  \n",
       "7               1.0       NaN        NaN  \n",
       "8               1.0       NaN        NaN  \n",
       "9               NaN       NaN       18.0  \n",
       "10              1.0       NaN       18.0  \n",
       "11              NaN       NaN       18.0  \n",
       "12              NaN       NaN        NaN  \n",
       "13              1.0       NaN        NaN  \n",
       "14              NaN       NaN        NaN  \n",
       "15              NaN       NaN        NaN  \n",
       "16              1.0       9.0       18.0  \n",
       "17              NaN       NaN        NaN  \n",
       "18              NaN       NaN        NaN  \n",
       "19              1.0       NaN        NaN  \n",
       "20              1.0       NaN        NaN  \n",
       "21              NaN      12.0       18.0  \n",
       "22              NaN       NaN        NaN  \n",
       "23              NaN       9.0       18.0  \n",
       "24              1.0       NaN        NaN  \n",
       "25              NaN       NaN        NaN  \n",
       "26              1.0       NaN        NaN  \n",
       "27              NaN       NaN       18.0  \n",
       "28              1.0       NaN       18.0  \n",
       "29              1.0       NaN       18.0  \n",
       "30              NaN       NaN        NaN  \n",
       "31              NaN       NaN        NaN  \n",
       "32              NaN       NaN        NaN  \n",
       "33              1.0       NaN       18.0  \n",
       "34              NaN       NaN        NaN  \n",
       "35              NaN       NaN        NaN  \n",
       "36              1.0       NaN       18.0  \n",
       "37              NaN       NaN        NaN  \n",
       "38              1.0       NaN        NaN  \n",
       "39              NaN       NaN        NaN  \n",
       "40              NaN       NaN        NaN  \n",
       "41              NaN       NaN        NaN  \n",
       "42              NaN       NaN        NaN  \n",
       "43              NaN       NaN        NaN  \n",
       "44              1.0       NaN       18.0  \n",
       "45              NaN       NaN        NaN  \n",
       "46              1.0       NaN        NaN  \n",
       "47              1.0       NaN       18.0  \n",
       "48              1.0       NaN        NaN  \n",
       "49              1.0       NaN       18.0  \n",
       "50              1.0       NaN        NaN  \n",
       "51              NaN       9.0       18.0  \n",
       "52              NaN       NaN        NaN  \n",
       "53              1.0       NaN       18.0  \n",
       "54              1.0       NaN       18.0  \n",
       "55              1.0       NaN        NaN  \n",
       "56              1.0       NaN        NaN  \n",
       "57              1.0       NaN        NaN  \n",
       "58              1.0       NaN       18.0  \n",
       "59              1.0       NaN        NaN  "
      ]
     },
     "execution_count": 32,
     "metadata": {},
     "output_type": "execute_result"
    }
   ],
   "source": [
    "mismatch.head(60)"
   ]
  },
  {
   "cell_type": "markdown",
   "id": "319df276",
   "metadata": {},
   "source": [
    "#### Merging all the data sets"
   ]
  },
  {
   "cell_type": "code",
   "execution_count": 33,
   "id": "19314bb3",
   "metadata": {},
   "outputs": [],
   "source": [
    "def clean_up_countries(df_name):\n",
    "    clean_df = df_name\n",
    "    clean_df['Country'] = clean_df['Country'].str.replace(pattern, '', regex=True)\n",
    "    clean_df['Country'] = clean_df['Country'].str.strip()\n",
    "    clean_df['Country'] = clean_df['Country'].replace(country_map)\n",
    "    clean_df = clean_df.loc[~clean_df['Country'].str.contains('Europe') &\n",
    "                            ~clean_df['Country'].str.contains('Asia') &\n",
    "                            ~clean_df['Country'].str.contains('Latin America') &\n",
    "                            ~clean_df['Country'].str.contains('\\(') &\n",
    "                            ~clean_df['Country'].str.contains('countries') &\n",
    "                            ~clean_df['Country'].str.contains('Central') & \n",
    "                            ~clean_df['Country'].str.contains('Western') &\n",
    "                            ~clean_df['Country'].str.contains('Sub') &\n",
    "                            ~clean_df['Country'].str.contains('World') &\n",
    "                            ~clean_df['Country'].str.contains('Korea') & \n",
    "                            ~clean_df['Country'].str.contains('income')]\n",
    "    clean_df = clean_df.drop_duplicates()\n",
    "    return clean_df"
   ]
  },
  {
   "cell_type": "code",
   "execution_count": 34,
   "id": "53a4fdd2",
   "metadata": {},
   "outputs": [],
   "source": [
    "gdp_clean = clean_up_countries(gdp_df)\n",
    "le_clean = clean_up_countries(life_expectancy)\n",
    "continent_clean = clean_up_countries(continents)\n",
    "ed_clean = clean_up_countries(education)\n",
    "mdr_clean = clean_up_countries(mdr)"
   ]
  },
  {
   "cell_type": "code",
   "execution_count": 37,
   "id": "7507068b",
   "metadata": {},
   "outputs": [
    {
     "name": "stdout",
     "output_type": "stream",
     "text": [
      "<class 'pandas.core.frame.DataFrame'>\n",
      "Int64Index: 6980 entries, 0 to 6979\n",
      "Data columns (total 4 columns):\n",
      " #   Column           Non-Null Count  Dtype  \n",
      "---  ------           --------------  -----  \n",
      " 0   Country          6980 non-null   object \n",
      " 1   Year             6980 non-null   int64  \n",
      " 2   GDP_Per_Capita   5968 non-null   float64\n",
      " 3   Life_Expectancy  6615 non-null   float64\n",
      "dtypes: float64(2), int64(1), object(1)\n",
      "memory usage: 272.7+ KB\n"
     ]
    }
   ],
   "source": [
    "gdp_le = (\n",
    "    pd.merge(gdp_clean, le_clean, how='outer', on=['Country', 'Year'])\n",
    "    .dropna(subset=['GDP_Per_Capita', 'Life_Expectancy'], how='all')\n",
    ")\n",
    "\n",
    "gdp_le.info()"
   ]
  },
  {
   "cell_type": "code",
   "execution_count": 40,
   "id": "702ac3ee",
   "metadata": {
    "scrolled": true
   },
   "outputs": [
    {
     "name": "stdout",
     "output_type": "stream",
     "text": [
      "<class 'pandas.core.frame.DataFrame'>\n",
      "Int64Index: 6980 entries, 0 to 6979\n",
      "Data columns (total 5 columns):\n",
      " #   Column           Non-Null Count  Dtype  \n",
      "---  ------           --------------  -----  \n",
      " 0   Country          6980 non-null   object \n",
      " 1   Year             6980 non-null   int64  \n",
      " 2   GDP_Per_Capita   5968 non-null   float64\n",
      " 3   Life_Expectancy  6615 non-null   float64\n",
      " 4   Continent        5990 non-null   object \n",
      "dtypes: float64(2), int64(1), object(2)\n",
      "memory usage: 327.2+ KB\n"
     ]
    }
   ],
   "source": [
    "continents = continents.drop_duplicates()\n",
    "\n",
    "gdp_le = pd.merge(gdp_le, continent_clean, how='left', on='Country')\n",
    "gdp_le.info()"
   ]
  },
  {
   "cell_type": "code",
   "execution_count": 41,
   "id": "52567429",
   "metadata": {},
   "outputs": [
    {
     "name": "stdout",
     "output_type": "stream",
     "text": [
      "<class 'pandas.core.frame.DataFrame'>\n",
      "Int64Index: 4753 entries, 0 to 4752\n",
      "Data columns (total 6 columns):\n",
      " #   Column                           Non-Null Count  Dtype  \n",
      "---  ------                           --------------  -----  \n",
      " 0   Country                          4753 non-null   object \n",
      " 1   Year                             4753 non-null   int64  \n",
      " 2   Sex                              1851 non-null   object \n",
      " 3   Primary_ed_completion_percent    1494 non-null   float64\n",
      " 4   Secondary_ed_completion_percent  1851 non-null   float64\n",
      " 5   Maternal_Death_Rate              4618 non-null   float64\n",
      "dtypes: float64(3), int64(1), object(2)\n",
      "memory usage: 259.9+ KB\n"
     ]
    }
   ],
   "source": [
    "ed_mdr = pd.merge(ed_clean, mdr_clean, how='outer', on=['Country', 'Year'])\n",
    "ed_mdr.info()"
   ]
  },
  {
   "cell_type": "code",
   "execution_count": 42,
   "id": "bda3c5d8",
   "metadata": {},
   "outputs": [
    {
     "name": "stdout",
     "output_type": "stream",
     "text": [
      "<class 'pandas.core.frame.DataFrame'>\n",
      "RangeIndex: 4267 entries, 0 to 4266\n",
      "Data columns (total 9 columns):\n",
      " #   Column                           Non-Null Count  Dtype  \n",
      "---  ------                           --------------  -----  \n",
      " 0   Country                          4267 non-null   object \n",
      " 1   Year                             4267 non-null   int64  \n",
      " 2   GDP_Per_Capita                   4023 non-null   float64\n",
      " 3   Life_Expectancy                  4243 non-null   float64\n",
      " 4   Continent                        4229 non-null   object \n",
      " 5   Sex                              1743 non-null   object \n",
      " 6   Primary_ed_completion_percent    1422 non-null   float64\n",
      " 7   Secondary_ed_completion_percent  1743 non-null   float64\n",
      " 8   Maternal_Death_Rate              4132 non-null   float64\n",
      "dtypes: float64(5), int64(1), object(3)\n",
      "memory usage: 300.1+ KB\n"
     ]
    }
   ],
   "source": [
    "full_df = (\n",
    "    pd.merge(gdp_le, ed_mdr, how='inner',on=['Country', 'Year'])\n",
    "    .sort_values(['Country', 'Year'])\n",
    "    .reset_index(drop=True)\n",
    ")\n",
    "\n",
    "full_df.info()"
   ]
  },
  {
   "cell_type": "code",
   "execution_count": 43,
   "id": "537f9acc",
   "metadata": {},
   "outputs": [
    {
     "data": {
      "text/html": [
       "<div>\n",
       "<style scoped>\n",
       "    .dataframe tbody tr th:only-of-type {\n",
       "        vertical-align: middle;\n",
       "    }\n",
       "\n",
       "    .dataframe tbody tr th {\n",
       "        vertical-align: top;\n",
       "    }\n",
       "\n",
       "    .dataframe thead th {\n",
       "        text-align: right;\n",
       "    }\n",
       "</style>\n",
       "<table border=\"1\" class=\"dataframe\">\n",
       "  <thead>\n",
       "    <tr style=\"text-align: right;\">\n",
       "      <th></th>\n",
       "      <th>Year</th>\n",
       "      <th>GDP_Per_Capita</th>\n",
       "      <th>Life_Expectancy</th>\n",
       "      <th>Primary_ed_completion_percent</th>\n",
       "      <th>Secondary_ed_completion_percent</th>\n",
       "      <th>Maternal_Death_Rate</th>\n",
       "    </tr>\n",
       "  </thead>\n",
       "  <tbody>\n",
       "    <tr>\n",
       "      <th>count</th>\n",
       "      <td>4267.000000</td>\n",
       "      <td>4023.000000</td>\n",
       "      <td>4243.000000</td>\n",
       "      <td>1422.000000</td>\n",
       "      <td>1743.000000</td>\n",
       "      <td>4132.000000</td>\n",
       "    </tr>\n",
       "    <tr>\n",
       "      <th>mean</th>\n",
       "      <td>2009.304195</td>\n",
       "      <td>16977.377187</td>\n",
       "      <td>69.479796</td>\n",
       "      <td>79.712374</td>\n",
       "      <td>68.659538</td>\n",
       "      <td>204.719748</td>\n",
       "    </tr>\n",
       "    <tr>\n",
       "      <th>std</th>\n",
       "      <td>5.118226</td>\n",
       "      <td>18573.487439</td>\n",
       "      <td>9.110026</td>\n",
       "      <td>21.138651</td>\n",
       "      <td>26.904027</td>\n",
       "      <td>295.331433</td>\n",
       "    </tr>\n",
       "    <tr>\n",
       "      <th>min</th>\n",
       "      <td>2000.000000</td>\n",
       "      <td>630.701542</td>\n",
       "      <td>39.441000</td>\n",
       "      <td>10.012280</td>\n",
       "      <td>3.330000</td>\n",
       "      <td>2.000000</td>\n",
       "    </tr>\n",
       "    <tr>\n",
       "      <th>25%</th>\n",
       "      <td>2005.000000</td>\n",
       "      <td>3613.296470</td>\n",
       "      <td>63.588500</td>\n",
       "      <td>67.308462</td>\n",
       "      <td>48.376720</td>\n",
       "      <td>18.000000</td>\n",
       "    </tr>\n",
       "    <tr>\n",
       "      <th>50%</th>\n",
       "      <td>2010.000000</td>\n",
       "      <td>10594.278412</td>\n",
       "      <td>71.896000</td>\n",
       "      <td>89.225000</td>\n",
       "      <td>75.140000</td>\n",
       "      <td>70.000000</td>\n",
       "    </tr>\n",
       "    <tr>\n",
       "      <th>75%</th>\n",
       "      <td>2014.000000</td>\n",
       "      <td>22199.467528</td>\n",
       "      <td>75.954829</td>\n",
       "      <td>95.731673</td>\n",
       "      <td>92.324245</td>\n",
       "      <td>284.000000</td>\n",
       "    </tr>\n",
       "    <tr>\n",
       "      <th>max</th>\n",
       "      <td>2019.000000</td>\n",
       "      <td>115256.016699</td>\n",
       "      <td>84.099756</td>\n",
       "      <td>100.000000</td>\n",
       "      <td>100.000000</td>\n",
       "      <td>2480.000000</td>\n",
       "    </tr>\n",
       "  </tbody>\n",
       "</table>\n",
       "</div>"
      ],
      "text/plain": [
       "              Year  GDP_Per_Capita  Life_Expectancy  \\\n",
       "count  4267.000000     4023.000000      4243.000000   \n",
       "mean   2009.304195    16977.377187        69.479796   \n",
       "std       5.118226    18573.487439         9.110026   \n",
       "min    2000.000000      630.701542        39.441000   \n",
       "25%    2005.000000     3613.296470        63.588500   \n",
       "50%    2010.000000    10594.278412        71.896000   \n",
       "75%    2014.000000    22199.467528        75.954829   \n",
       "max    2019.000000   115256.016699        84.099756   \n",
       "\n",
       "       Primary_ed_completion_percent  Secondary_ed_completion_percent  \\\n",
       "count                    1422.000000                      1743.000000   \n",
       "mean                       79.712374                        68.659538   \n",
       "std                        21.138651                        26.904027   \n",
       "min                        10.012280                         3.330000   \n",
       "25%                        67.308462                        48.376720   \n",
       "50%                        89.225000                        75.140000   \n",
       "75%                        95.731673                        92.324245   \n",
       "max                       100.000000                       100.000000   \n",
       "\n",
       "       Maternal_Death_Rate  \n",
       "count          4132.000000  \n",
       "mean            204.719748  \n",
       "std             295.331433  \n",
       "min               2.000000  \n",
       "25%              18.000000  \n",
       "50%              70.000000  \n",
       "75%             284.000000  \n",
       "max            2480.000000  "
      ]
     },
     "execution_count": 43,
     "metadata": {},
     "output_type": "execute_result"
    }
   ],
   "source": [
    "full_df.describe()"
   ]
  },
  {
   "cell_type": "code",
   "execution_count": 48,
   "id": "15581e3a",
   "metadata": {},
   "outputs": [
    {
     "data": {
      "text/plain": [
       "170"
      ]
     },
     "execution_count": 48,
     "metadata": {},
     "output_type": "execute_result"
    }
   ],
   "source": [
    "len(full_df['Country'].value_counts())"
   ]
  },
  {
   "cell_type": "code",
   "execution_count": 53,
   "id": "6cc6c851",
   "metadata": {},
   "outputs": [
    {
     "data": {
      "text/plain": [
       "Senegal            20\n",
       "Kyrgyz Republic    19\n",
       "Mexico             19\n",
       "Mali               19\n",
       "Madagascar         19\n",
       "                   ..\n",
       "Jamaica            18\n",
       "Italy              18\n",
       "Israel             18\n",
       "Ireland            18\n",
       "Afghanistan        18\n",
       "Name: Country, Length: 170, dtype: int64"
      ]
     },
     "execution_count": 53,
     "metadata": {},
     "output_type": "execute_result"
    }
   ],
   "source": [
    "full_df.loc[~full_df['Sex'].isin(['M', 'F'])]['Country'].value_counts()"
   ]
  },
  {
   "cell_type": "code",
   "execution_count": 50,
   "id": "dcfe66ac",
   "metadata": {
    "scrolled": true
   },
   "outputs": [
    {
     "data": {
      "text/plain": [
       "2000    170\n",
       "2001    170\n",
       "2002    170\n",
       "2003    170\n",
       "2004    170\n",
       "2005    170\n",
       "2006    170\n",
       "2007    170\n",
       "2008    170\n",
       "2009    170\n",
       "2010    170\n",
       "2011    170\n",
       "2012    170\n",
       "2013    170\n",
       "2014    170\n",
       "2015    170\n",
       "2016    170\n",
       "2017    170\n",
       "2018     36\n",
       "2019      9\n",
       "Name: Year, dtype: int64"
      ]
     },
     "execution_count": 50,
     "metadata": {},
     "output_type": "execute_result"
    }
   ],
   "source": [
    "full_df.loc[~full_df['Sex'].isin(['M', 'F'])]['Year'].value_counts().sort_index()"
   ]
  },
  {
   "cell_type": "code",
   "execution_count": 51,
   "id": "c7112397",
   "metadata": {},
   "outputs": [
    {
     "data": {
      "text/plain": [
       "2000    170\n",
       "2001    170\n",
       "2002    170\n",
       "2003    170\n",
       "2004    212\n",
       "2005    286\n",
       "2006    266\n",
       "2007    218\n",
       "2008    216\n",
       "2009    222\n",
       "2010    250\n",
       "2011    298\n",
       "2012    236\n",
       "2013    288\n",
       "2014    306\n",
       "2015    216\n",
       "2016    226\n",
       "2017    212\n",
       "2018    108\n",
       "2019     27\n",
       "Name: Year, dtype: int64"
      ]
     },
     "execution_count": 51,
     "metadata": {},
     "output_type": "execute_result"
    }
   ],
   "source": [
    "full_df['Year'].value_counts().sort_index()"
   ]
  },
  {
   "cell_type": "code",
   "execution_count": 57,
   "id": "50caa003",
   "metadata": {
    "scrolled": true
   },
   "outputs": [
    {
     "data": {
      "text/html": [
       "<div>\n",
       "<style scoped>\n",
       "    .dataframe tbody tr th:only-of-type {\n",
       "        vertical-align: middle;\n",
       "    }\n",
       "\n",
       "    .dataframe tbody tr th {\n",
       "        vertical-align: top;\n",
       "    }\n",
       "\n",
       "    .dataframe thead th {\n",
       "        text-align: right;\n",
       "    }\n",
       "</style>\n",
       "<table border=\"1\" class=\"dataframe\">\n",
       "  <thead>\n",
       "    <tr style=\"text-align: right;\">\n",
       "      <th></th>\n",
       "      <th>count</th>\n",
       "      <th>mean</th>\n",
       "      <th>std</th>\n",
       "      <th>min</th>\n",
       "      <th>25%</th>\n",
       "      <th>50%</th>\n",
       "      <th>75%</th>\n",
       "      <th>max</th>\n",
       "    </tr>\n",
       "    <tr>\n",
       "      <th>Year</th>\n",
       "      <th></th>\n",
       "      <th></th>\n",
       "      <th></th>\n",
       "      <th></th>\n",
       "      <th></th>\n",
       "      <th></th>\n",
       "      <th></th>\n",
       "      <th></th>\n",
       "    </tr>\n",
       "  </thead>\n",
       "  <tbody>\n",
       "    <tr>\n",
       "      <th>2000</th>\n",
       "      <td>0.0</td>\n",
       "      <td>NaN</td>\n",
       "      <td>NaN</td>\n",
       "      <td>NaN</td>\n",
       "      <td>NaN</td>\n",
       "      <td>NaN</td>\n",
       "      <td>NaN</td>\n",
       "      <td>NaN</td>\n",
       "    </tr>\n",
       "    <tr>\n",
       "      <th>2001</th>\n",
       "      <td>0.0</td>\n",
       "      <td>NaN</td>\n",
       "      <td>NaN</td>\n",
       "      <td>NaN</td>\n",
       "      <td>NaN</td>\n",
       "      <td>NaN</td>\n",
       "      <td>NaN</td>\n",
       "      <td>NaN</td>\n",
       "    </tr>\n",
       "    <tr>\n",
       "      <th>2002</th>\n",
       "      <td>0.0</td>\n",
       "      <td>NaN</td>\n",
       "      <td>NaN</td>\n",
       "      <td>NaN</td>\n",
       "      <td>NaN</td>\n",
       "      <td>NaN</td>\n",
       "      <td>NaN</td>\n",
       "      <td>NaN</td>\n",
       "    </tr>\n",
       "    <tr>\n",
       "      <th>2003</th>\n",
       "      <td>0.0</td>\n",
       "      <td>NaN</td>\n",
       "      <td>NaN</td>\n",
       "      <td>NaN</td>\n",
       "      <td>NaN</td>\n",
       "      <td>NaN</td>\n",
       "      <td>NaN</td>\n",
       "      <td>NaN</td>\n",
       "    </tr>\n",
       "    <tr>\n",
       "      <th>2004</th>\n",
       "      <td>63.0</td>\n",
       "      <td>71.909161</td>\n",
       "      <td>22.964333</td>\n",
       "      <td>12.91138</td>\n",
       "      <td>59.059325</td>\n",
       "      <td>82.700000</td>\n",
       "      <td>89.745000</td>\n",
       "      <td>94.91000</td>\n",
       "    </tr>\n",
       "    <tr>\n",
       "      <th>2005</th>\n",
       "      <td>108.0</td>\n",
       "      <td>73.979199</td>\n",
       "      <td>27.066587</td>\n",
       "      <td>10.01228</td>\n",
       "      <td>61.571047</td>\n",
       "      <td>85.773660</td>\n",
       "      <td>95.662500</td>\n",
       "      <td>100.00000</td>\n",
       "    </tr>\n",
       "    <tr>\n",
       "      <th>2006</th>\n",
       "      <td>144.0</td>\n",
       "      <td>76.478085</td>\n",
       "      <td>24.109278</td>\n",
       "      <td>13.23251</td>\n",
       "      <td>61.508608</td>\n",
       "      <td>86.970000</td>\n",
       "      <td>95.846303</td>\n",
       "      <td>100.00000</td>\n",
       "    </tr>\n",
       "    <tr>\n",
       "      <th>2007</th>\n",
       "      <td>72.0</td>\n",
       "      <td>74.627203</td>\n",
       "      <td>22.989402</td>\n",
       "      <td>20.34787</td>\n",
       "      <td>60.164478</td>\n",
       "      <td>83.515955</td>\n",
       "      <td>92.305000</td>\n",
       "      <td>99.80467</td>\n",
       "    </tr>\n",
       "    <tr>\n",
       "      <th>2008</th>\n",
       "      <td>69.0</td>\n",
       "      <td>79.732728</td>\n",
       "      <td>20.935715</td>\n",
       "      <td>25.18382</td>\n",
       "      <td>71.410120</td>\n",
       "      <td>91.030000</td>\n",
       "      <td>93.760000</td>\n",
       "      <td>98.26377</td>\n",
       "    </tr>\n",
       "    <tr>\n",
       "      <th>2009</th>\n",
       "      <td>78.0</td>\n",
       "      <td>80.160922</td>\n",
       "      <td>18.352530</td>\n",
       "      <td>24.51903</td>\n",
       "      <td>66.681695</td>\n",
       "      <td>87.375000</td>\n",
       "      <td>93.775000</td>\n",
       "      <td>98.46702</td>\n",
       "    </tr>\n",
       "    <tr>\n",
       "      <th>2010</th>\n",
       "      <td>114.0</td>\n",
       "      <td>73.084184</td>\n",
       "      <td>22.501544</td>\n",
       "      <td>18.27363</td>\n",
       "      <td>58.540005</td>\n",
       "      <td>80.291830</td>\n",
       "      <td>93.020615</td>\n",
       "      <td>99.72083</td>\n",
       "    </tr>\n",
       "    <tr>\n",
       "      <th>2011</th>\n",
       "      <td>111.0</td>\n",
       "      <td>79.678464</td>\n",
       "      <td>20.512015</td>\n",
       "      <td>26.63788</td>\n",
       "      <td>68.451995</td>\n",
       "      <td>89.340000</td>\n",
       "      <td>94.837285</td>\n",
       "      <td>100.00000</td>\n",
       "    </tr>\n",
       "    <tr>\n",
       "      <th>2012</th>\n",
       "      <td>99.0</td>\n",
       "      <td>84.448617</td>\n",
       "      <td>20.148677</td>\n",
       "      <td>22.68427</td>\n",
       "      <td>79.574430</td>\n",
       "      <td>93.410000</td>\n",
       "      <td>97.115000</td>\n",
       "      <td>100.00000</td>\n",
       "    </tr>\n",
       "    <tr>\n",
       "      <th>2013</th>\n",
       "      <td>90.0</td>\n",
       "      <td>83.833332</td>\n",
       "      <td>17.196016</td>\n",
       "      <td>32.45773</td>\n",
       "      <td>72.645228</td>\n",
       "      <td>92.195000</td>\n",
       "      <td>95.887500</td>\n",
       "      <td>100.00000</td>\n",
       "    </tr>\n",
       "    <tr>\n",
       "      <th>2014</th>\n",
       "      <td>123.0</td>\n",
       "      <td>81.067224</td>\n",
       "      <td>19.033803</td>\n",
       "      <td>23.72016</td>\n",
       "      <td>71.966385</td>\n",
       "      <td>88.341870</td>\n",
       "      <td>96.112625</td>\n",
       "      <td>99.71584</td>\n",
       "    </tr>\n",
       "    <tr>\n",
       "      <th>2015</th>\n",
       "      <td>69.0</td>\n",
       "      <td>83.924447</td>\n",
       "      <td>17.216886</td>\n",
       "      <td>40.35416</td>\n",
       "      <td>78.424000</td>\n",
       "      <td>90.480000</td>\n",
       "      <td>96.510000</td>\n",
       "      <td>99.94190</td>\n",
       "    </tr>\n",
       "    <tr>\n",
       "      <th>2016</th>\n",
       "      <td>84.0</td>\n",
       "      <td>84.645072</td>\n",
       "      <td>17.638407</td>\n",
       "      <td>41.98375</td>\n",
       "      <td>81.936543</td>\n",
       "      <td>92.300000</td>\n",
       "      <td>96.378175</td>\n",
       "      <td>100.00000</td>\n",
       "    </tr>\n",
       "    <tr>\n",
       "      <th>2017</th>\n",
       "      <td>63.0</td>\n",
       "      <td>87.081573</td>\n",
       "      <td>16.422215</td>\n",
       "      <td>48.40806</td>\n",
       "      <td>87.195000</td>\n",
       "      <td>95.612210</td>\n",
       "      <td>97.163190</td>\n",
       "      <td>99.54546</td>\n",
       "    </tr>\n",
       "    <tr>\n",
       "      <th>2018</th>\n",
       "      <td>108.0</td>\n",
       "      <td>81.755501</td>\n",
       "      <td>17.941720</td>\n",
       "      <td>39.07736</td>\n",
       "      <td>68.809432</td>\n",
       "      <td>91.040000</td>\n",
       "      <td>96.932500</td>\n",
       "      <td>99.90824</td>\n",
       "    </tr>\n",
       "    <tr>\n",
       "      <th>2019</th>\n",
       "      <td>27.0</td>\n",
       "      <td>89.687304</td>\n",
       "      <td>16.378232</td>\n",
       "      <td>43.97747</td>\n",
       "      <td>88.944630</td>\n",
       "      <td>97.791410</td>\n",
       "      <td>98.865955</td>\n",
       "      <td>100.00000</td>\n",
       "    </tr>\n",
       "  </tbody>\n",
       "</table>\n",
       "</div>"
      ],
      "text/plain": [
       "      count       mean        std       min        25%        50%        75%  \\\n",
       "Year                                                                           \n",
       "2000    0.0        NaN        NaN       NaN        NaN        NaN        NaN   \n",
       "2001    0.0        NaN        NaN       NaN        NaN        NaN        NaN   \n",
       "2002    0.0        NaN        NaN       NaN        NaN        NaN        NaN   \n",
       "2003    0.0        NaN        NaN       NaN        NaN        NaN        NaN   \n",
       "2004   63.0  71.909161  22.964333  12.91138  59.059325  82.700000  89.745000   \n",
       "2005  108.0  73.979199  27.066587  10.01228  61.571047  85.773660  95.662500   \n",
       "2006  144.0  76.478085  24.109278  13.23251  61.508608  86.970000  95.846303   \n",
       "2007   72.0  74.627203  22.989402  20.34787  60.164478  83.515955  92.305000   \n",
       "2008   69.0  79.732728  20.935715  25.18382  71.410120  91.030000  93.760000   \n",
       "2009   78.0  80.160922  18.352530  24.51903  66.681695  87.375000  93.775000   \n",
       "2010  114.0  73.084184  22.501544  18.27363  58.540005  80.291830  93.020615   \n",
       "2011  111.0  79.678464  20.512015  26.63788  68.451995  89.340000  94.837285   \n",
       "2012   99.0  84.448617  20.148677  22.68427  79.574430  93.410000  97.115000   \n",
       "2013   90.0  83.833332  17.196016  32.45773  72.645228  92.195000  95.887500   \n",
       "2014  123.0  81.067224  19.033803  23.72016  71.966385  88.341870  96.112625   \n",
       "2015   69.0  83.924447  17.216886  40.35416  78.424000  90.480000  96.510000   \n",
       "2016   84.0  84.645072  17.638407  41.98375  81.936543  92.300000  96.378175   \n",
       "2017   63.0  87.081573  16.422215  48.40806  87.195000  95.612210  97.163190   \n",
       "2018  108.0  81.755501  17.941720  39.07736  68.809432  91.040000  96.932500   \n",
       "2019   27.0  89.687304  16.378232  43.97747  88.944630  97.791410  98.865955   \n",
       "\n",
       "            max  \n",
       "Year             \n",
       "2000        NaN  \n",
       "2001        NaN  \n",
       "2002        NaN  \n",
       "2003        NaN  \n",
       "2004   94.91000  \n",
       "2005  100.00000  \n",
       "2006  100.00000  \n",
       "2007   99.80467  \n",
       "2008   98.26377  \n",
       "2009   98.46702  \n",
       "2010   99.72083  \n",
       "2011  100.00000  \n",
       "2012  100.00000  \n",
       "2013  100.00000  \n",
       "2014   99.71584  \n",
       "2015   99.94190  \n",
       "2016  100.00000  \n",
       "2017   99.54546  \n",
       "2018   99.90824  \n",
       "2019  100.00000  "
      ]
     },
     "execution_count": 57,
     "metadata": {},
     "output_type": "execute_result"
    }
   ],
   "source": [
    "full_df.groupby('Year')['Primary_ed_completion_percent'].describe()"
   ]
  },
  {
   "cell_type": "code",
   "execution_count": 58,
   "id": "3124d59b",
   "metadata": {
    "scrolled": true
   },
   "outputs": [
    {
     "data": {
      "text/html": [
       "<div>\n",
       "<style scoped>\n",
       "    .dataframe tbody tr th:only-of-type {\n",
       "        vertical-align: middle;\n",
       "    }\n",
       "\n",
       "    .dataframe tbody tr th {\n",
       "        vertical-align: top;\n",
       "    }\n",
       "\n",
       "    .dataframe thead th {\n",
       "        text-align: right;\n",
       "    }\n",
       "</style>\n",
       "<table border=\"1\" class=\"dataframe\">\n",
       "  <thead>\n",
       "    <tr style=\"text-align: right;\">\n",
       "      <th></th>\n",
       "      <th>count</th>\n",
       "      <th>mean</th>\n",
       "      <th>std</th>\n",
       "      <th>min</th>\n",
       "      <th>25%</th>\n",
       "      <th>50%</th>\n",
       "      <th>75%</th>\n",
       "      <th>max</th>\n",
       "    </tr>\n",
       "    <tr>\n",
       "      <th>Year</th>\n",
       "      <th></th>\n",
       "      <th></th>\n",
       "      <th></th>\n",
       "      <th></th>\n",
       "      <th></th>\n",
       "      <th></th>\n",
       "      <th></th>\n",
       "      <th></th>\n",
       "    </tr>\n",
       "  </thead>\n",
       "  <tbody>\n",
       "    <tr>\n",
       "      <th>2000</th>\n",
       "      <td>0.0</td>\n",
       "      <td>NaN</td>\n",
       "      <td>NaN</td>\n",
       "      <td>NaN</td>\n",
       "      <td>NaN</td>\n",
       "      <td>NaN</td>\n",
       "      <td>NaN</td>\n",
       "      <td>NaN</td>\n",
       "    </tr>\n",
       "    <tr>\n",
       "      <th>2001</th>\n",
       "      <td>0.0</td>\n",
       "      <td>NaN</td>\n",
       "      <td>NaN</td>\n",
       "      <td>NaN</td>\n",
       "      <td>NaN</td>\n",
       "      <td>NaN</td>\n",
       "      <td>NaN</td>\n",
       "      <td>NaN</td>\n",
       "    </tr>\n",
       "    <tr>\n",
       "      <th>2002</th>\n",
       "      <td>0.0</td>\n",
       "      <td>NaN</td>\n",
       "      <td>NaN</td>\n",
       "      <td>NaN</td>\n",
       "      <td>NaN</td>\n",
       "      <td>NaN</td>\n",
       "      <td>NaN</td>\n",
       "      <td>NaN</td>\n",
       "    </tr>\n",
       "    <tr>\n",
       "      <th>2003</th>\n",
       "      <td>0.0</td>\n",
       "      <td>NaN</td>\n",
       "      <td>NaN</td>\n",
       "      <td>NaN</td>\n",
       "      <td>NaN</td>\n",
       "      <td>NaN</td>\n",
       "      <td>NaN</td>\n",
       "      <td>NaN</td>\n",
       "    </tr>\n",
       "    <tr>\n",
       "      <th>2004</th>\n",
       "      <td>63.0</td>\n",
       "      <td>50.564131</td>\n",
       "      <td>23.957092</td>\n",
       "      <td>4.35233</td>\n",
       "      <td>29.143135</td>\n",
       "      <td>57.292490</td>\n",
       "      <td>71.605000</td>\n",
       "      <td>80.49000</td>\n",
       "    </tr>\n",
       "    <tr>\n",
       "      <th>2005</th>\n",
       "      <td>174.0</td>\n",
       "      <td>70.618273</td>\n",
       "      <td>30.719565</td>\n",
       "      <td>3.33000</td>\n",
       "      <td>56.010000</td>\n",
       "      <td>82.425000</td>\n",
       "      <td>97.072500</td>\n",
       "      <td>100.00000</td>\n",
       "    </tr>\n",
       "    <tr>\n",
       "      <th>2006</th>\n",
       "      <td>144.0</td>\n",
       "      <td>57.802449</td>\n",
       "      <td>28.702792</td>\n",
       "      <td>3.74381</td>\n",
       "      <td>33.171900</td>\n",
       "      <td>61.500000</td>\n",
       "      <td>81.997500</td>\n",
       "      <td>99.25000</td>\n",
       "    </tr>\n",
       "    <tr>\n",
       "      <th>2007</th>\n",
       "      <td>72.0</td>\n",
       "      <td>57.141933</td>\n",
       "      <td>24.019425</td>\n",
       "      <td>8.50965</td>\n",
       "      <td>38.759855</td>\n",
       "      <td>57.859020</td>\n",
       "      <td>78.790000</td>\n",
       "      <td>98.79439</td>\n",
       "    </tr>\n",
       "    <tr>\n",
       "      <th>2008</th>\n",
       "      <td>69.0</td>\n",
       "      <td>60.976446</td>\n",
       "      <td>23.618884</td>\n",
       "      <td>6.14208</td>\n",
       "      <td>56.740000</td>\n",
       "      <td>69.960000</td>\n",
       "      <td>78.120000</td>\n",
       "      <td>90.37000</td>\n",
       "    </tr>\n",
       "    <tr>\n",
       "      <th>2009</th>\n",
       "      <td>78.0</td>\n",
       "      <td>60.534937</td>\n",
       "      <td>21.964220</td>\n",
       "      <td>9.98548</td>\n",
       "      <td>45.541355</td>\n",
       "      <td>67.842670</td>\n",
       "      <td>76.132500</td>\n",
       "      <td>95.70000</td>\n",
       "    </tr>\n",
       "    <tr>\n",
       "      <th>2010</th>\n",
       "      <td>120.0</td>\n",
       "      <td>56.429872</td>\n",
       "      <td>27.012939</td>\n",
       "      <td>5.60088</td>\n",
       "      <td>35.435697</td>\n",
       "      <td>61.530000</td>\n",
       "      <td>78.530000</td>\n",
       "      <td>99.69000</td>\n",
       "    </tr>\n",
       "    <tr>\n",
       "      <th>2011</th>\n",
       "      <td>192.0</td>\n",
       "      <td>77.331618</td>\n",
       "      <td>26.529703</td>\n",
       "      <td>11.50881</td>\n",
       "      <td>63.934535</td>\n",
       "      <td>88.686250</td>\n",
       "      <td>98.155000</td>\n",
       "      <td>100.00000</td>\n",
       "    </tr>\n",
       "    <tr>\n",
       "      <th>2012</th>\n",
       "      <td>99.0</td>\n",
       "      <td>69.066142</td>\n",
       "      <td>25.933426</td>\n",
       "      <td>4.08160</td>\n",
       "      <td>48.930220</td>\n",
       "      <td>75.580000</td>\n",
       "      <td>87.560000</td>\n",
       "      <td>100.00000</td>\n",
       "    </tr>\n",
       "    <tr>\n",
       "      <th>2013</th>\n",
       "      <td>177.0</td>\n",
       "      <td>82.233807</td>\n",
       "      <td>21.237612</td>\n",
       "      <td>13.14711</td>\n",
       "      <td>71.030000</td>\n",
       "      <td>92.680000</td>\n",
       "      <td>98.650000</td>\n",
       "      <td>100.00000</td>\n",
       "    </tr>\n",
       "    <tr>\n",
       "      <th>2014</th>\n",
       "      <td>204.0</td>\n",
       "      <td>76.591544</td>\n",
       "      <td>25.769662</td>\n",
       "      <td>9.99510</td>\n",
       "      <td>59.635000</td>\n",
       "      <td>87.324155</td>\n",
       "      <td>98.038978</td>\n",
       "      <td>100.00000</td>\n",
       "    </tr>\n",
       "    <tr>\n",
       "      <th>2015</th>\n",
       "      <td>69.0</td>\n",
       "      <td>67.851560</td>\n",
       "      <td>22.177593</td>\n",
       "      <td>24.44063</td>\n",
       "      <td>48.715950</td>\n",
       "      <td>73.016700</td>\n",
       "      <td>86.530000</td>\n",
       "      <td>99.82675</td>\n",
       "    </tr>\n",
       "    <tr>\n",
       "      <th>2016</th>\n",
       "      <td>84.0</td>\n",
       "      <td>68.232526</td>\n",
       "      <td>23.760775</td>\n",
       "      <td>20.91732</td>\n",
       "      <td>56.511462</td>\n",
       "      <td>74.090000</td>\n",
       "      <td>87.647720</td>\n",
       "      <td>99.72002</td>\n",
       "    </tr>\n",
       "    <tr>\n",
       "      <th>2017</th>\n",
       "      <td>63.0</td>\n",
       "      <td>73.176576</td>\n",
       "      <td>22.775166</td>\n",
       "      <td>24.52072</td>\n",
       "      <td>65.400000</td>\n",
       "      <td>81.100000</td>\n",
       "      <td>90.795000</td>\n",
       "      <td>97.11472</td>\n",
       "    </tr>\n",
       "    <tr>\n",
       "      <th>2018</th>\n",
       "      <td>108.0</td>\n",
       "      <td>65.542135</td>\n",
       "      <td>23.894961</td>\n",
       "      <td>13.41202</td>\n",
       "      <td>47.342467</td>\n",
       "      <td>71.895075</td>\n",
       "      <td>87.810568</td>\n",
       "      <td>98.97332</td>\n",
       "    </tr>\n",
       "    <tr>\n",
       "      <th>2019</th>\n",
       "      <td>27.0</td>\n",
       "      <td>77.583583</td>\n",
       "      <td>23.075957</td>\n",
       "      <td>27.92856</td>\n",
       "      <td>61.953855</td>\n",
       "      <td>88.682580</td>\n",
       "      <td>94.540995</td>\n",
       "      <td>99.28985</td>\n",
       "    </tr>\n",
       "  </tbody>\n",
       "</table>\n",
       "</div>"
      ],
      "text/plain": [
       "      count       mean        std       min        25%        50%        75%  \\\n",
       "Year                                                                           \n",
       "2000    0.0        NaN        NaN       NaN        NaN        NaN        NaN   \n",
       "2001    0.0        NaN        NaN       NaN        NaN        NaN        NaN   \n",
       "2002    0.0        NaN        NaN       NaN        NaN        NaN        NaN   \n",
       "2003    0.0        NaN        NaN       NaN        NaN        NaN        NaN   \n",
       "2004   63.0  50.564131  23.957092   4.35233  29.143135  57.292490  71.605000   \n",
       "2005  174.0  70.618273  30.719565   3.33000  56.010000  82.425000  97.072500   \n",
       "2006  144.0  57.802449  28.702792   3.74381  33.171900  61.500000  81.997500   \n",
       "2007   72.0  57.141933  24.019425   8.50965  38.759855  57.859020  78.790000   \n",
       "2008   69.0  60.976446  23.618884   6.14208  56.740000  69.960000  78.120000   \n",
       "2009   78.0  60.534937  21.964220   9.98548  45.541355  67.842670  76.132500   \n",
       "2010  120.0  56.429872  27.012939   5.60088  35.435697  61.530000  78.530000   \n",
       "2011  192.0  77.331618  26.529703  11.50881  63.934535  88.686250  98.155000   \n",
       "2012   99.0  69.066142  25.933426   4.08160  48.930220  75.580000  87.560000   \n",
       "2013  177.0  82.233807  21.237612  13.14711  71.030000  92.680000  98.650000   \n",
       "2014  204.0  76.591544  25.769662   9.99510  59.635000  87.324155  98.038978   \n",
       "2015   69.0  67.851560  22.177593  24.44063  48.715950  73.016700  86.530000   \n",
       "2016   84.0  68.232526  23.760775  20.91732  56.511462  74.090000  87.647720   \n",
       "2017   63.0  73.176576  22.775166  24.52072  65.400000  81.100000  90.795000   \n",
       "2018  108.0  65.542135  23.894961  13.41202  47.342467  71.895075  87.810568   \n",
       "2019   27.0  77.583583  23.075957  27.92856  61.953855  88.682580  94.540995   \n",
       "\n",
       "            max  \n",
       "Year             \n",
       "2000        NaN  \n",
       "2001        NaN  \n",
       "2002        NaN  \n",
       "2003        NaN  \n",
       "2004   80.49000  \n",
       "2005  100.00000  \n",
       "2006   99.25000  \n",
       "2007   98.79439  \n",
       "2008   90.37000  \n",
       "2009   95.70000  \n",
       "2010   99.69000  \n",
       "2011  100.00000  \n",
       "2012  100.00000  \n",
       "2013  100.00000  \n",
       "2014  100.00000  \n",
       "2015   99.82675  \n",
       "2016   99.72002  \n",
       "2017   97.11472  \n",
       "2018   98.97332  \n",
       "2019   99.28985  "
      ]
     },
     "execution_count": 58,
     "metadata": {},
     "output_type": "execute_result"
    }
   ],
   "source": [
    "full_df.groupby('Year')['Secondary_ed_completion_percent'].describe()"
   ]
  },
  {
   "cell_type": "code",
   "execution_count": 59,
   "id": "95ac32c4",
   "metadata": {
    "scrolled": true
   },
   "outputs": [
    {
     "data": {
      "text/html": [
       "<div>\n",
       "<style scoped>\n",
       "    .dataframe tbody tr th:only-of-type {\n",
       "        vertical-align: middle;\n",
       "    }\n",
       "\n",
       "    .dataframe tbody tr th {\n",
       "        vertical-align: top;\n",
       "    }\n",
       "\n",
       "    .dataframe thead th {\n",
       "        text-align: right;\n",
       "    }\n",
       "</style>\n",
       "<table border=\"1\" class=\"dataframe\">\n",
       "  <thead>\n",
       "    <tr style=\"text-align: right;\">\n",
       "      <th></th>\n",
       "      <th>count</th>\n",
       "      <th>mean</th>\n",
       "      <th>std</th>\n",
       "      <th>min</th>\n",
       "      <th>25%</th>\n",
       "      <th>50%</th>\n",
       "      <th>75%</th>\n",
       "      <th>max</th>\n",
       "    </tr>\n",
       "    <tr>\n",
       "      <th>Year</th>\n",
       "      <th></th>\n",
       "      <th></th>\n",
       "      <th></th>\n",
       "      <th></th>\n",
       "      <th></th>\n",
       "      <th></th>\n",
       "      <th></th>\n",
       "      <th></th>\n",
       "    </tr>\n",
       "  </thead>\n",
       "  <tbody>\n",
       "    <tr>\n",
       "      <th>2000</th>\n",
       "      <td>170.0</td>\n",
       "      <td>275.311765</td>\n",
       "      <td>396.672763</td>\n",
       "      <td>3.0</td>\n",
       "      <td>26.00</td>\n",
       "      <td>77.0</td>\n",
       "      <td>436.25</td>\n",
       "      <td>2480.0</td>\n",
       "    </tr>\n",
       "    <tr>\n",
       "      <th>2001</th>\n",
       "      <td>170.0</td>\n",
       "      <td>266.823529</td>\n",
       "      <td>381.228602</td>\n",
       "      <td>3.0</td>\n",
       "      <td>24.25</td>\n",
       "      <td>75.5</td>\n",
       "      <td>422.50</td>\n",
       "      <td>2250.0</td>\n",
       "    </tr>\n",
       "    <tr>\n",
       "      <th>2002</th>\n",
       "      <td>170.0</td>\n",
       "      <td>259.811765</td>\n",
       "      <td>368.719020</td>\n",
       "      <td>3.0</td>\n",
       "      <td>24.25</td>\n",
       "      <td>74.0</td>\n",
       "      <td>405.50</td>\n",
       "      <td>2080.0</td>\n",
       "    </tr>\n",
       "    <tr>\n",
       "      <th>2003</th>\n",
       "      <td>170.0</td>\n",
       "      <td>251.047059</td>\n",
       "      <td>354.266136</td>\n",
       "      <td>3.0</td>\n",
       "      <td>21.00</td>\n",
       "      <td>75.5</td>\n",
       "      <td>388.75</td>\n",
       "      <td>1960.0</td>\n",
       "    </tr>\n",
       "    <tr>\n",
       "      <th>2004</th>\n",
       "      <td>212.0</td>\n",
       "      <td>259.995283</td>\n",
       "      <td>368.508580</td>\n",
       "      <td>3.0</td>\n",
       "      <td>32.75</td>\n",
       "      <td>83.0</td>\n",
       "      <td>372.00</td>\n",
       "      <td>1850.0</td>\n",
       "    </tr>\n",
       "    <tr>\n",
       "      <th>2005</th>\n",
       "      <td>286.0</td>\n",
       "      <td>214.968531</td>\n",
       "      <td>325.932135</td>\n",
       "      <td>3.0</td>\n",
       "      <td>12.00</td>\n",
       "      <td>58.0</td>\n",
       "      <td>295.75</td>\n",
       "      <td>1760.0</td>\n",
       "    </tr>\n",
       "    <tr>\n",
       "      <th>2006</th>\n",
       "      <td>266.0</td>\n",
       "      <td>228.812030</td>\n",
       "      <td>291.924148</td>\n",
       "      <td>2.0</td>\n",
       "      <td>32.00</td>\n",
       "      <td>86.0</td>\n",
       "      <td>359.00</td>\n",
       "      <td>1680.0</td>\n",
       "    </tr>\n",
       "    <tr>\n",
       "      <th>2007</th>\n",
       "      <td>218.0</td>\n",
       "      <td>225.944954</td>\n",
       "      <td>294.209926</td>\n",
       "      <td>2.0</td>\n",
       "      <td>29.00</td>\n",
       "      <td>85.0</td>\n",
       "      <td>331.75</td>\n",
       "      <td>1610.0</td>\n",
       "    </tr>\n",
       "    <tr>\n",
       "      <th>2008</th>\n",
       "      <td>216.0</td>\n",
       "      <td>221.203704</td>\n",
       "      <td>305.615102</td>\n",
       "      <td>2.0</td>\n",
       "      <td>27.00</td>\n",
       "      <td>82.0</td>\n",
       "      <td>295.25</td>\n",
       "      <td>1530.0</td>\n",
       "    </tr>\n",
       "    <tr>\n",
       "      <th>2009</th>\n",
       "      <td>222.0</td>\n",
       "      <td>196.693694</td>\n",
       "      <td>259.794917</td>\n",
       "      <td>2.0</td>\n",
       "      <td>24.25</td>\n",
       "      <td>80.0</td>\n",
       "      <td>272.75</td>\n",
       "      <td>1450.0</td>\n",
       "    </tr>\n",
       "    <tr>\n",
       "      <th>2010</th>\n",
       "      <td>250.0</td>\n",
       "      <td>231.972000</td>\n",
       "      <td>302.283351</td>\n",
       "      <td>2.0</td>\n",
       "      <td>25.25</td>\n",
       "      <td>82.0</td>\n",
       "      <td>373.00</td>\n",
       "      <td>1360.0</td>\n",
       "    </tr>\n",
       "    <tr>\n",
       "      <th>2011</th>\n",
       "      <td>298.0</td>\n",
       "      <td>163.003356</td>\n",
       "      <td>244.343655</td>\n",
       "      <td>2.0</td>\n",
       "      <td>10.00</td>\n",
       "      <td>52.5</td>\n",
       "      <td>201.00</td>\n",
       "      <td>1270.0</td>\n",
       "    </tr>\n",
       "    <tr>\n",
       "      <th>2012</th>\n",
       "      <td>236.0</td>\n",
       "      <td>175.127119</td>\n",
       "      <td>237.327103</td>\n",
       "      <td>2.0</td>\n",
       "      <td>18.75</td>\n",
       "      <td>68.0</td>\n",
       "      <td>243.50</td>\n",
       "      <td>1210.0</td>\n",
       "    </tr>\n",
       "    <tr>\n",
       "      <th>2013</th>\n",
       "      <td>288.0</td>\n",
       "      <td>152.225694</td>\n",
       "      <td>244.797935</td>\n",
       "      <td>2.0</td>\n",
       "      <td>9.00</td>\n",
       "      <td>39.5</td>\n",
       "      <td>175.00</td>\n",
       "      <td>1180.0</td>\n",
       "    </tr>\n",
       "    <tr>\n",
       "      <th>2014</th>\n",
       "      <td>306.0</td>\n",
       "      <td>155.127451</td>\n",
       "      <td>231.350377</td>\n",
       "      <td>2.0</td>\n",
       "      <td>10.00</td>\n",
       "      <td>49.0</td>\n",
       "      <td>196.50</td>\n",
       "      <td>1190.0</td>\n",
       "    </tr>\n",
       "    <tr>\n",
       "      <th>2015</th>\n",
       "      <td>216.0</td>\n",
       "      <td>173.412037</td>\n",
       "      <td>238.084354</td>\n",
       "      <td>2.0</td>\n",
       "      <td>18.00</td>\n",
       "      <td>66.5</td>\n",
       "      <td>246.25</td>\n",
       "      <td>1180.0</td>\n",
       "    </tr>\n",
       "    <tr>\n",
       "      <th>2016</th>\n",
       "      <td>226.0</td>\n",
       "      <td>165.243363</td>\n",
       "      <td>227.364139</td>\n",
       "      <td>2.0</td>\n",
       "      <td>20.00</td>\n",
       "      <td>65.0</td>\n",
       "      <td>205.25</td>\n",
       "      <td>1140.0</td>\n",
       "    </tr>\n",
       "    <tr>\n",
       "      <th>2017</th>\n",
       "      <td>212.0</td>\n",
       "      <td>163.759434</td>\n",
       "      <td>236.973660</td>\n",
       "      <td>2.0</td>\n",
       "      <td>17.00</td>\n",
       "      <td>59.5</td>\n",
       "      <td>188.25</td>\n",
       "      <td>1150.0</td>\n",
       "    </tr>\n",
       "    <tr>\n",
       "      <th>2018</th>\n",
       "      <td>0.0</td>\n",
       "      <td>NaN</td>\n",
       "      <td>NaN</td>\n",
       "      <td>NaN</td>\n",
       "      <td>NaN</td>\n",
       "      <td>NaN</td>\n",
       "      <td>NaN</td>\n",
       "      <td>NaN</td>\n",
       "    </tr>\n",
       "    <tr>\n",
       "      <th>2019</th>\n",
       "      <td>0.0</td>\n",
       "      <td>NaN</td>\n",
       "      <td>NaN</td>\n",
       "      <td>NaN</td>\n",
       "      <td>NaN</td>\n",
       "      <td>NaN</td>\n",
       "      <td>NaN</td>\n",
       "      <td>NaN</td>\n",
       "    </tr>\n",
       "  </tbody>\n",
       "</table>\n",
       "</div>"
      ],
      "text/plain": [
       "      count        mean         std  min    25%   50%     75%     max\n",
       "Year                                                                 \n",
       "2000  170.0  275.311765  396.672763  3.0  26.00  77.0  436.25  2480.0\n",
       "2001  170.0  266.823529  381.228602  3.0  24.25  75.5  422.50  2250.0\n",
       "2002  170.0  259.811765  368.719020  3.0  24.25  74.0  405.50  2080.0\n",
       "2003  170.0  251.047059  354.266136  3.0  21.00  75.5  388.75  1960.0\n",
       "2004  212.0  259.995283  368.508580  3.0  32.75  83.0  372.00  1850.0\n",
       "2005  286.0  214.968531  325.932135  3.0  12.00  58.0  295.75  1760.0\n",
       "2006  266.0  228.812030  291.924148  2.0  32.00  86.0  359.00  1680.0\n",
       "2007  218.0  225.944954  294.209926  2.0  29.00  85.0  331.75  1610.0\n",
       "2008  216.0  221.203704  305.615102  2.0  27.00  82.0  295.25  1530.0\n",
       "2009  222.0  196.693694  259.794917  2.0  24.25  80.0  272.75  1450.0\n",
       "2010  250.0  231.972000  302.283351  2.0  25.25  82.0  373.00  1360.0\n",
       "2011  298.0  163.003356  244.343655  2.0  10.00  52.5  201.00  1270.0\n",
       "2012  236.0  175.127119  237.327103  2.0  18.75  68.0  243.50  1210.0\n",
       "2013  288.0  152.225694  244.797935  2.0   9.00  39.5  175.00  1180.0\n",
       "2014  306.0  155.127451  231.350377  2.0  10.00  49.0  196.50  1190.0\n",
       "2015  216.0  173.412037  238.084354  2.0  18.00  66.5  246.25  1180.0\n",
       "2016  226.0  165.243363  227.364139  2.0  20.00  65.0  205.25  1140.0\n",
       "2017  212.0  163.759434  236.973660  2.0  17.00  59.5  188.25  1150.0\n",
       "2018    0.0         NaN         NaN  NaN    NaN   NaN     NaN     NaN\n",
       "2019    0.0         NaN         NaN  NaN    NaN   NaN     NaN     NaN"
      ]
     },
     "execution_count": 59,
     "metadata": {},
     "output_type": "execute_result"
    }
   ],
   "source": [
    "full_df.groupby('Year')['Maternal_Death_Rate'].describe()"
   ]
  },
  {
   "cell_type": "code",
   "execution_count": 60,
   "id": "76a12eb7",
   "metadata": {},
   "outputs": [
    {
     "data": {
      "text/html": [
       "<div>\n",
       "<style scoped>\n",
       "    .dataframe tbody tr th:only-of-type {\n",
       "        vertical-align: middle;\n",
       "    }\n",
       "\n",
       "    .dataframe tbody tr th {\n",
       "        vertical-align: top;\n",
       "    }\n",
       "\n",
       "    .dataframe thead tr th {\n",
       "        text-align: left;\n",
       "    }\n",
       "\n",
       "    .dataframe thead tr:last-of-type th {\n",
       "        text-align: right;\n",
       "    }\n",
       "</style>\n",
       "<table border=\"1\" class=\"dataframe\">\n",
       "  <thead>\n",
       "    <tr>\n",
       "      <th></th>\n",
       "      <th colspan=\"3\" halign=\"left\">GDP_Per_Capita</th>\n",
       "      <th colspan=\"3\" halign=\"left\">Life_Expectancy</th>\n",
       "      <th colspan=\"3\" halign=\"left\">Maternal_Death_Rate</th>\n",
       "      <th colspan=\"3\" halign=\"left\">Primary_ed_completion_percent</th>\n",
       "      <th colspan=\"3\" halign=\"left\">Secondary_ed_completion_percent</th>\n",
       "    </tr>\n",
       "    <tr>\n",
       "      <th>Year</th>\n",
       "      <th>2005</th>\n",
       "      <th>2010</th>\n",
       "      <th>2014</th>\n",
       "      <th>2005</th>\n",
       "      <th>2010</th>\n",
       "      <th>2014</th>\n",
       "      <th>2005</th>\n",
       "      <th>2010</th>\n",
       "      <th>2014</th>\n",
       "      <th>2005</th>\n",
       "      <th>2010</th>\n",
       "      <th>2014</th>\n",
       "      <th>2005</th>\n",
       "      <th>2010</th>\n",
       "      <th>2014</th>\n",
       "    </tr>\n",
       "    <tr>\n",
       "      <th>Country</th>\n",
       "      <th></th>\n",
       "      <th></th>\n",
       "      <th></th>\n",
       "      <th></th>\n",
       "      <th></th>\n",
       "      <th></th>\n",
       "      <th></th>\n",
       "      <th></th>\n",
       "      <th></th>\n",
       "      <th></th>\n",
       "      <th></th>\n",
       "      <th></th>\n",
       "      <th></th>\n",
       "      <th></th>\n",
       "      <th></th>\n",
       "    </tr>\n",
       "  </thead>\n",
       "  <tbody>\n",
       "    <tr>\n",
       "      <th>Cambodia</th>\n",
       "      <td>2120.551877</td>\n",
       "      <td>2716.698409</td>\n",
       "      <td>3364.278729</td>\n",
       "      <td>63.088</td>\n",
       "      <td>66.560</td>\n",
       "      <td>68.273</td>\n",
       "      <td>351.0</td>\n",
       "      <td>248.0</td>\n",
       "      <td>189.0</td>\n",
       "      <td>58.949560</td>\n",
       "      <td>71.089160</td>\n",
       "      <td>72.409983</td>\n",
       "      <td>26.766637</td>\n",
       "      <td>36.631527</td>\n",
       "      <td>40.510197</td>\n",
       "    </tr>\n",
       "    <tr>\n",
       "      <th>Colombia</th>\n",
       "      <td>10083.314361</td>\n",
       "      <td>11823.387936</td>\n",
       "      <td>13899.368829</td>\n",
       "      <td>74.265</td>\n",
       "      <td>75.424</td>\n",
       "      <td>76.322</td>\n",
       "      <td>83.0</td>\n",
       "      <td>85.0</td>\n",
       "      <td>85.0</td>\n",
       "      <td>84.716367</td>\n",
       "      <td>90.637597</td>\n",
       "      <td>91.936667</td>\n",
       "      <td>62.297010</td>\n",
       "      <td>72.495460</td>\n",
       "      <td>74.603333</td>\n",
       "    </tr>\n",
       "    <tr>\n",
       "      <th>Costa Rica</th>\n",
       "      <td>13925.078819</td>\n",
       "      <td>16448.287478</td>\n",
       "      <td>18168.715242</td>\n",
       "      <td>78.117</td>\n",
       "      <td>78.769</td>\n",
       "      <td>79.398</td>\n",
       "      <td>33.0</td>\n",
       "      <td>32.0</td>\n",
       "      <td>29.0</td>\n",
       "      <td>90.626667</td>\n",
       "      <td>91.280000</td>\n",
       "      <td>94.523333</td>\n",
       "      <td>50.820000</td>\n",
       "      <td>61.356667</td>\n",
       "      <td>66.583333</td>\n",
       "    </tr>\n",
       "    <tr>\n",
       "      <th>Dominican Republic</th>\n",
       "      <td>10291.308880</td>\n",
       "      <td>12782.451899</td>\n",
       "      <td>14499.636116</td>\n",
       "      <td>70.771</td>\n",
       "      <td>72.046</td>\n",
       "      <td>73.003</td>\n",
       "      <td>83.0</td>\n",
       "      <td>96.0</td>\n",
       "      <td>94.0</td>\n",
       "      <td>81.630000</td>\n",
       "      <td>85.830000</td>\n",
       "      <td>91.521523</td>\n",
       "      <td>72.146667</td>\n",
       "      <td>79.366667</td>\n",
       "      <td>82.868370</td>\n",
       "    </tr>\n",
       "    <tr>\n",
       "      <th>Ecuador</th>\n",
       "      <td>9503.689190</td>\n",
       "      <td>10340.968231</td>\n",
       "      <td>12078.469844</td>\n",
       "      <td>74.112</td>\n",
       "      <td>75.089</td>\n",
       "      <td>75.923</td>\n",
       "      <td>94.0</td>\n",
       "      <td>78.0</td>\n",
       "      <td>65.0</td>\n",
       "      <td>92.176667</td>\n",
       "      <td>95.623333</td>\n",
       "      <td>97.666667</td>\n",
       "      <td>67.646667</td>\n",
       "      <td>79.010000</td>\n",
       "      <td>86.983333</td>\n",
       "    </tr>\n",
       "    <tr>\n",
       "      <th>El Salvador</th>\n",
       "      <td>6870.622477</td>\n",
       "      <td>7328.713216</td>\n",
       "      <td>7990.444615</td>\n",
       "      <td>70.124</td>\n",
       "      <td>71.210</td>\n",
       "      <td>72.175</td>\n",
       "      <td>62.0</td>\n",
       "      <td>54.0</td>\n",
       "      <td>49.0</td>\n",
       "      <td>78.546667</td>\n",
       "      <td>82.353333</td>\n",
       "      <td>88.413333</td>\n",
       "      <td>59.930000</td>\n",
       "      <td>65.210000</td>\n",
       "      <td>72.483333</td>\n",
       "    </tr>\n",
       "    <tr>\n",
       "      <th>Honduras</th>\n",
       "      <td>4546.238807</td>\n",
       "      <td>4866.972176</td>\n",
       "      <td>5177.409416</td>\n",
       "      <td>72.026</td>\n",
       "      <td>73.317</td>\n",
       "      <td>74.278</td>\n",
       "      <td>77.0</td>\n",
       "      <td>74.0</td>\n",
       "      <td>68.0</td>\n",
       "      <td>72.780000</td>\n",
       "      <td>80.900000</td>\n",
       "      <td>82.546667</td>\n",
       "      <td>33.593333</td>\n",
       "      <td>46.083333</td>\n",
       "      <td>48.503333</td>\n",
       "    </tr>\n",
       "    <tr>\n",
       "      <th>Panama</th>\n",
       "      <td>16304.598810</td>\n",
       "      <td>21347.332749</td>\n",
       "      <td>27357.623072</td>\n",
       "      <td>75.892</td>\n",
       "      <td>76.792</td>\n",
       "      <td>77.583</td>\n",
       "      <td>88.0</td>\n",
       "      <td>79.0</td>\n",
       "      <td>60.0</td>\n",
       "      <td>91.823333</td>\n",
       "      <td>92.216753</td>\n",
       "      <td>94.130000</td>\n",
       "      <td>73.543333</td>\n",
       "      <td>72.946797</td>\n",
       "      <td>77.626667</td>\n",
       "    </tr>\n",
       "    <tr>\n",
       "      <th>Paraguay</th>\n",
       "      <td>8568.547550</td>\n",
       "      <td>10405.230941</td>\n",
       "      <td>11612.389911</td>\n",
       "      <td>71.667</td>\n",
       "      <td>72.653</td>\n",
       "      <td>73.473</td>\n",
       "      <td>137.0</td>\n",
       "      <td>108.0</td>\n",
       "      <td>91.0</td>\n",
       "      <td>84.803333</td>\n",
       "      <td>87.186667</td>\n",
       "      <td>89.703333</td>\n",
       "      <td>64.026667</td>\n",
       "      <td>69.776667</td>\n",
       "      <td>76.743333</td>\n",
       "    </tr>\n",
       "    <tr>\n",
       "      <th>Peru</th>\n",
       "      <td>7519.027720</td>\n",
       "      <td>10066.469647</td>\n",
       "      <td>11877.084063</td>\n",
       "      <td>72.908</td>\n",
       "      <td>74.410</td>\n",
       "      <td>75.529</td>\n",
       "      <td>118.0</td>\n",
       "      <td>104.0</td>\n",
       "      <td>96.0</td>\n",
       "      <td>90.106667</td>\n",
       "      <td>93.433333</td>\n",
       "      <td>95.730000</td>\n",
       "      <td>76.276667</td>\n",
       "      <td>82.703333</td>\n",
       "      <td>87.373333</td>\n",
       "    </tr>\n",
       "    <tr>\n",
       "      <th>Zimbabwe</th>\n",
       "      <td>2328.176129</td>\n",
       "      <td>2273.200073</td>\n",
       "      <td>2955.240287</td>\n",
       "      <td>43.241</td>\n",
       "      <td>50.640</td>\n",
       "      <td>58.410</td>\n",
       "      <td>685.0</td>\n",
       "      <td>598.0</td>\n",
       "      <td>494.0</td>\n",
       "      <td>87.255990</td>\n",
       "      <td>88.290543</td>\n",
       "      <td>86.880000</td>\n",
       "      <td>61.939960</td>\n",
       "      <td>71.663783</td>\n",
       "      <td>69.853333</td>\n",
       "    </tr>\n",
       "  </tbody>\n",
       "</table>\n",
       "</div>"
      ],
      "text/plain": [
       "                   GDP_Per_Capita                             Life_Expectancy  \\\n",
       "Year                         2005          2010          2014            2005   \n",
       "Country                                                                         \n",
       "Cambodia              2120.551877   2716.698409   3364.278729          63.088   \n",
       "Colombia             10083.314361  11823.387936  13899.368829          74.265   \n",
       "Costa Rica           13925.078819  16448.287478  18168.715242          78.117   \n",
       "Dominican Republic   10291.308880  12782.451899  14499.636116          70.771   \n",
       "Ecuador               9503.689190  10340.968231  12078.469844          74.112   \n",
       "El Salvador           6870.622477   7328.713216   7990.444615          70.124   \n",
       "Honduras              4546.238807   4866.972176   5177.409416          72.026   \n",
       "Panama               16304.598810  21347.332749  27357.623072          75.892   \n",
       "Paraguay              8568.547550  10405.230941  11612.389911          71.667   \n",
       "Peru                  7519.027720  10066.469647  11877.084063          72.908   \n",
       "Zimbabwe              2328.176129   2273.200073   2955.240287          43.241   \n",
       "\n",
       "                                   Maternal_Death_Rate                \\\n",
       "Year                  2010    2014                2005   2010   2014   \n",
       "Country                                                                \n",
       "Cambodia            66.560  68.273               351.0  248.0  189.0   \n",
       "Colombia            75.424  76.322                83.0   85.0   85.0   \n",
       "Costa Rica          78.769  79.398                33.0   32.0   29.0   \n",
       "Dominican Republic  72.046  73.003                83.0   96.0   94.0   \n",
       "Ecuador             75.089  75.923                94.0   78.0   65.0   \n",
       "El Salvador         71.210  72.175                62.0   54.0   49.0   \n",
       "Honduras            73.317  74.278                77.0   74.0   68.0   \n",
       "Panama              76.792  77.583                88.0   79.0   60.0   \n",
       "Paraguay            72.653  73.473               137.0  108.0   91.0   \n",
       "Peru                74.410  75.529               118.0  104.0   96.0   \n",
       "Zimbabwe            50.640  58.410               685.0  598.0  494.0   \n",
       "\n",
       "                   Primary_ed_completion_percent                        \\\n",
       "Year                                        2005       2010       2014   \n",
       "Country                                                                  \n",
       "Cambodia                               58.949560  71.089160  72.409983   \n",
       "Colombia                               84.716367  90.637597  91.936667   \n",
       "Costa Rica                             90.626667  91.280000  94.523333   \n",
       "Dominican Republic                     81.630000  85.830000  91.521523   \n",
       "Ecuador                                92.176667  95.623333  97.666667   \n",
       "El Salvador                            78.546667  82.353333  88.413333   \n",
       "Honduras                               72.780000  80.900000  82.546667   \n",
       "Panama                                 91.823333  92.216753  94.130000   \n",
       "Paraguay                               84.803333  87.186667  89.703333   \n",
       "Peru                                   90.106667  93.433333  95.730000   \n",
       "Zimbabwe                               87.255990  88.290543  86.880000   \n",
       "\n",
       "                   Secondary_ed_completion_percent                        \n",
       "Year                                          2005       2010       2014  \n",
       "Country                                                                   \n",
       "Cambodia                                 26.766637  36.631527  40.510197  \n",
       "Colombia                                 62.297010  72.495460  74.603333  \n",
       "Costa Rica                               50.820000  61.356667  66.583333  \n",
       "Dominican Republic                       72.146667  79.366667  82.868370  \n",
       "Ecuador                                  67.646667  79.010000  86.983333  \n",
       "El Salvador                              59.930000  65.210000  72.483333  \n",
       "Honduras                                 33.593333  46.083333  48.503333  \n",
       "Panama                                   73.543333  72.946797  77.626667  \n",
       "Paraguay                                 64.026667  69.776667  76.743333  \n",
       "Peru                                     76.276667  82.703333  87.373333  \n",
       "Zimbabwe                                 61.939960  71.663783  69.853333  "
      ]
     },
     "execution_count": 60,
     "metadata": {},
     "output_type": "execute_result"
    }
   ],
   "source": [
    "full_pivoted = (\n",
    "    pd.pivot_table(full_df.loc[full_df['Year']\n",
    "                              .isin([2005, 2010, 2014])],\n",
    "                   index=['Country'], \n",
    "                   columns=['Year'])\n",
    "    .dropna()\n",
    ")\n",
    "full_pivoted"
   ]
  },
  {
   "cell_type": "code",
   "execution_count": 102,
   "id": "47cd9c94",
   "metadata": {},
   "outputs": [
    {
     "data": {
      "text/html": [
       "<div>\n",
       "<style scoped>\n",
       "    .dataframe tbody tr th:only-of-type {\n",
       "        vertical-align: middle;\n",
       "    }\n",
       "\n",
       "    .dataframe tbody tr th {\n",
       "        vertical-align: top;\n",
       "    }\n",
       "\n",
       "    .dataframe thead th {\n",
       "        text-align: right;\n",
       "    }\n",
       "</style>\n",
       "<table border=\"1\" class=\"dataframe\">\n",
       "  <thead>\n",
       "    <tr style=\"text-align: right;\">\n",
       "      <th></th>\n",
       "      <th>Primary_ed_completion_percent</th>\n",
       "      <th>Secondary_ed_completion_percent</th>\n",
       "      <th>Maternal_Death_Rate</th>\n",
       "    </tr>\n",
       "    <tr>\n",
       "      <th>Year</th>\n",
       "      <th></th>\n",
       "      <th></th>\n",
       "      <th></th>\n",
       "    </tr>\n",
       "  </thead>\n",
       "  <tbody>\n",
       "    <tr>\n",
       "      <th>2000</th>\n",
       "      <td>0</td>\n",
       "      <td>0</td>\n",
       "      <td>170</td>\n",
       "    </tr>\n",
       "    <tr>\n",
       "      <th>2001</th>\n",
       "      <td>0</td>\n",
       "      <td>0</td>\n",
       "      <td>170</td>\n",
       "    </tr>\n",
       "    <tr>\n",
       "      <th>2002</th>\n",
       "      <td>0</td>\n",
       "      <td>0</td>\n",
       "      <td>170</td>\n",
       "    </tr>\n",
       "    <tr>\n",
       "      <th>2003</th>\n",
       "      <td>0</td>\n",
       "      <td>0</td>\n",
       "      <td>170</td>\n",
       "    </tr>\n",
       "    <tr>\n",
       "      <th>2004</th>\n",
       "      <td>63</td>\n",
       "      <td>63</td>\n",
       "      <td>212</td>\n",
       "    </tr>\n",
       "    <tr>\n",
       "      <th>2005</th>\n",
       "      <td>108</td>\n",
       "      <td>174</td>\n",
       "      <td>286</td>\n",
       "    </tr>\n",
       "    <tr>\n",
       "      <th>2006</th>\n",
       "      <td>144</td>\n",
       "      <td>144</td>\n",
       "      <td>266</td>\n",
       "    </tr>\n",
       "    <tr>\n",
       "      <th>2007</th>\n",
       "      <td>72</td>\n",
       "      <td>72</td>\n",
       "      <td>218</td>\n",
       "    </tr>\n",
       "    <tr>\n",
       "      <th>2008</th>\n",
       "      <td>69</td>\n",
       "      <td>69</td>\n",
       "      <td>216</td>\n",
       "    </tr>\n",
       "    <tr>\n",
       "      <th>2009</th>\n",
       "      <td>78</td>\n",
       "      <td>78</td>\n",
       "      <td>222</td>\n",
       "    </tr>\n",
       "    <tr>\n",
       "      <th>2010</th>\n",
       "      <td>114</td>\n",
       "      <td>120</td>\n",
       "      <td>250</td>\n",
       "    </tr>\n",
       "    <tr>\n",
       "      <th>2011</th>\n",
       "      <td>111</td>\n",
       "      <td>192</td>\n",
       "      <td>298</td>\n",
       "    </tr>\n",
       "    <tr>\n",
       "      <th>2012</th>\n",
       "      <td>99</td>\n",
       "      <td>99</td>\n",
       "      <td>236</td>\n",
       "    </tr>\n",
       "    <tr>\n",
       "      <th>2013</th>\n",
       "      <td>90</td>\n",
       "      <td>177</td>\n",
       "      <td>288</td>\n",
       "    </tr>\n",
       "    <tr>\n",
       "      <th>2014</th>\n",
       "      <td>123</td>\n",
       "      <td>204</td>\n",
       "      <td>306</td>\n",
       "    </tr>\n",
       "    <tr>\n",
       "      <th>2015</th>\n",
       "      <td>69</td>\n",
       "      <td>69</td>\n",
       "      <td>216</td>\n",
       "    </tr>\n",
       "    <tr>\n",
       "      <th>2016</th>\n",
       "      <td>84</td>\n",
       "      <td>84</td>\n",
       "      <td>226</td>\n",
       "    </tr>\n",
       "    <tr>\n",
       "      <th>2017</th>\n",
       "      <td>63</td>\n",
       "      <td>63</td>\n",
       "      <td>212</td>\n",
       "    </tr>\n",
       "    <tr>\n",
       "      <th>2018</th>\n",
       "      <td>108</td>\n",
       "      <td>108</td>\n",
       "      <td>0</td>\n",
       "    </tr>\n",
       "    <tr>\n",
       "      <th>2019</th>\n",
       "      <td>27</td>\n",
       "      <td>27</td>\n",
       "      <td>0</td>\n",
       "    </tr>\n",
       "  </tbody>\n",
       "</table>\n",
       "</div>"
      ],
      "text/plain": [
       "      Primary_ed_completion_percent  Secondary_ed_completion_percent  \\\n",
       "Year                                                                   \n",
       "2000                              0                                0   \n",
       "2001                              0                                0   \n",
       "2002                              0                                0   \n",
       "2003                              0                                0   \n",
       "2004                             63                               63   \n",
       "2005                            108                              174   \n",
       "2006                            144                              144   \n",
       "2007                             72                               72   \n",
       "2008                             69                               69   \n",
       "2009                             78                               78   \n",
       "2010                            114                              120   \n",
       "2011                            111                              192   \n",
       "2012                             99                               99   \n",
       "2013                             90                              177   \n",
       "2014                            123                              204   \n",
       "2015                             69                               69   \n",
       "2016                             84                               84   \n",
       "2017                             63                               63   \n",
       "2018                            108                              108   \n",
       "2019                             27                               27   \n",
       "\n",
       "      Maternal_Death_Rate  \n",
       "Year                       \n",
       "2000                  170  \n",
       "2001                  170  \n",
       "2002                  170  \n",
       "2003                  170  \n",
       "2004                  212  \n",
       "2005                  286  \n",
       "2006                  266  \n",
       "2007                  218  \n",
       "2008                  216  \n",
       "2009                  222  \n",
       "2010                  250  \n",
       "2011                  298  \n",
       "2012                  236  \n",
       "2013                  288  \n",
       "2014                  306  \n",
       "2015                  216  \n",
       "2016                  226  \n",
       "2017                  212  \n",
       "2018                    0  \n",
       "2019                    0  "
      ]
     },
     "execution_count": 102,
     "metadata": {},
     "output_type": "execute_result"
    }
   ],
   "source": [
    "(\n",
    "    full_df\n",
    "    .groupby('Year')\n",
    "    [['Primary_ed_completion_percent', 'Secondary_ed_completion_percent', 'Maternal_Death_Rate']]\n",
    "    .count()\n",
    ")"
   ]
  },
  {
   "cell_type": "code",
   "execution_count": 72,
   "id": "3b9c052c",
   "metadata": {
    "scrolled": true
   },
   "outputs": [
    {
     "name": "stderr",
     "output_type": "stream",
     "text": [
      "C:\\Users\\mews2\\AppData\\Local\\Temp\\ipykernel_24460\\3414194828.py:7: SettingWithCopyWarning:\n",
      "\n",
      "\n",
      "A value is trying to be set on a copy of a slice from a DataFrame.\n",
      "Try using .loc[row_indexer,col_indexer] = value instead\n",
      "\n",
      "See the caveats in the documentation: https://pandas.pydata.org/pandas-docs/stable/user_guide/indexing.html#returning-a-view-versus-a-copy\n",
      "\n"
     ]
    }
   ],
   "source": [
    "key_years = (\n",
    "    full_df\n",
    "    .loc[full_df['Year']\n",
    "         .isin([2005, 2010, 2014])]\n",
    ")\n",
    "\n",
    "key_years['Year'] = key_years['Year'].astype(str)"
   ]
  },
  {
   "cell_type": "code",
   "execution_count": 83,
   "id": "36b412ac",
   "metadata": {
    "scrolled": false
   },
   "outputs": [
    {
     "name": "stdout",
     "output_type": "stream",
     "text": [
      "<class 'pandas.core.frame.DataFrame'>\n",
      "Int64Index: 842 entries, 5 to 4258\n",
      "Data columns (total 9 columns):\n",
      " #   Column                           Non-Null Count  Dtype  \n",
      "---  ------                           --------------  -----  \n",
      " 0   Country                          842 non-null    object \n",
      " 1   Year                             842 non-null    object \n",
      " 2   GDP_Per_Capita                   796 non-null    float64\n",
      " 3   Life_Expectancy                  837 non-null    float64\n",
      " 4   Continent                        836 non-null    object \n",
      " 5   Sex                              498 non-null    object \n",
      " 6   Primary_ed_completion_percent    345 non-null    float64\n",
      " 7   Secondary_ed_completion_percent  498 non-null    float64\n",
      " 8   Maternal_Death_Rate              842 non-null    float64\n",
      "dtypes: float64(5), object(4)\n",
      "memory usage: 65.8+ KB\n"
     ]
    }
   ],
   "source": [
    "key_years.info()"
   ]
  },
  {
   "cell_type": "code",
   "execution_count": 84,
   "id": "f72ca436",
   "metadata": {},
   "outputs": [
    {
     "data": {
      "text/plain": [
       "2014    306\n",
       "2005    286\n",
       "2010    250\n",
       "Name: Year, dtype: int64"
      ]
     },
     "execution_count": 84,
     "metadata": {},
     "output_type": "execute_result"
    }
   ],
   "source": [
    "key_years['Year'].value_counts()"
   ]
  },
  {
   "cell_type": "code",
   "execution_count": 73,
   "id": "4297fd98",
   "metadata": {},
   "outputs": [
    {
     "data": {
      "application/vnd.plotly.v1+json": {
       "config": {
        "plotlyServerURL": "https://plot.ly"
       },
       "data": [
        {
         "hovertemplate": "Year=2005<br>Secondary_ed_completion_percent=%{x}<br>Maternal_Death_Rate=%{y}<extra></extra>",
         "legendgroup": "2005",
         "marker": {
          "color": "#1F77B4",
          "symbol": "circle"
         },
         "mode": "markers",
         "name": "2005",
         "orientation": "v",
         "showlegend": true,
         "type": "scatter",
         "x": [
          97.09,
          98.66,
          99.4,
          89.76,
          83.65,
          76.04,
          4.23,
          26.76247,
          36.6066,
          62.39503,
          21.69807,
          50.82,
          97.09,
          100,
          71.86,
          67.58,
          69.73898,
          59.94,
          97.08,
          9.40022,
          100,
          95.42,
          95.56,
          94.86,
          14.61305,
          27.60004,
          33.52,
          96.73,
          99.32,
          58.24,
          93.25,
          99.08,
          96.87,
          57.21,
          22.58433,
          98.97,
          90.32,
          97.42,
          96.72,
          38.37,
          93.95,
          100,
          73.62,
          63.99,
          76.31,
          90.16,
          80.51,
          5.91146,
          9.99506,
          97.21,
          16.76,
          56.17,
          90.51,
          99.04,
          86.31,
          98.73,
          67.11,
          61.90852
         ],
         "xaxis": "x",
         "y": [
          22,
          6,
          11,
          7,
          271,
          71,
          814,
          351,
          692,
          83,
          677,
          33,
          12,
          6,
          83,
          94,
          52,
          62,
          18,
          865,
          5,
          39,
          6,
          3,
          920,
          459,
          77,
          15,
          5,
          286,
          7,
          3,
          80,
          30,
          679,
          14,
          9,
          9,
          11,
          131,
          10,
          5,
          88,
          137,
          118,
          4,
          9,
          643,
          519,
          12,
          1760,
          10,
          5,
          5,
          43,
          33,
          113,
          685
         ],
         "yaxis": "y"
        },
        {
         "alignmentgroup": "True",
         "hovertemplate": "Year=2005<br>Secondary_ed_completion_percent=%{x}<extra></extra>",
         "legendgroup": "2005",
         "marker": {
          "color": "#1F77B4",
          "symbol": "circle"
         },
         "name": "2005",
         "notched": true,
         "offsetgroup": "2005",
         "showlegend": false,
         "type": "box",
         "x": [
          97.09,
          98.66,
          99.4,
          89.76,
          83.65,
          76.04,
          4.23,
          26.76247,
          36.6066,
          62.39503,
          21.69807,
          50.82,
          97.09,
          100,
          71.86,
          67.58,
          69.73898,
          59.94,
          97.08,
          9.40022,
          100,
          95.42,
          95.56,
          94.86,
          14.61305,
          27.60004,
          33.52,
          96.73,
          99.32,
          58.24,
          93.25,
          99.08,
          96.87,
          57.21,
          22.58433,
          98.97,
          90.32,
          97.42,
          96.72,
          38.37,
          93.95,
          100,
          73.62,
          63.99,
          76.31,
          90.16,
          80.51,
          5.91146,
          9.99506,
          97.21,
          16.76,
          56.17,
          90.51,
          99.04,
          86.31,
          98.73,
          67.11,
          61.90852
         ],
         "xaxis": "x3",
         "yaxis": "y3"
        },
        {
         "alignmentgroup": "True",
         "hovertemplate": "Year=2005<br>Maternal_Death_Rate=%{y}<extra></extra>",
         "legendgroup": "2005",
         "marker": {
          "color": "#1F77B4",
          "symbol": "circle"
         },
         "name": "2005",
         "offsetgroup": "2005",
         "scalegroup": "y",
         "showlegend": false,
         "type": "violin",
         "xaxis": "x2",
         "y": [
          22,
          6,
          11,
          7,
          271,
          71,
          814,
          351,
          692,
          83,
          677,
          33,
          12,
          6,
          83,
          94,
          52,
          62,
          18,
          865,
          5,
          39,
          6,
          3,
          920,
          459,
          77,
          15,
          5,
          286,
          7,
          3,
          80,
          30,
          679,
          14,
          9,
          9,
          11,
          131,
          10,
          5,
          88,
          137,
          118,
          4,
          9,
          643,
          519,
          12,
          1760,
          10,
          5,
          5,
          43,
          33,
          113,
          685
         ],
         "yaxis": "y2"
        },
        {
         "hovertemplate": "Year=2010<br>Secondary_ed_completion_percent=%{x}<br>Maternal_Death_Rate=%{y}<extra></extra>",
         "legendgroup": "2010",
         "marker": {
          "color": "#FF7F0E",
          "symbol": "circle"
         },
         "mode": "markers",
         "name": "2010",
         "orientation": "v",
         "showlegend": true,
         "type": "scatter",
         "x": [
          75.4362,
          99.15,
          38.78343,
          9.02003,
          11.93795,
          36.68105,
          99.51,
          11.54,
          84.94,
          72.60894,
          61.49,
          97.83,
          34.38906,
          79.17,
          78.98,
          65.22,
          47.35867,
          39.2474,
          51.88343,
          45.98,
          25.7515,
          19.36,
          81.42,
          85.13,
          63.10756,
          72.92716,
          69.75,
          82.7,
          71.09664,
          95.37959,
          15.4396,
          29.21,
          14.59321,
          56.68,
          46.75582,
          26.85206,
          63.57,
          78.38,
          43.53438,
          71.66262
         ],
         "xaxis": "x",
         "y": [
          51,
          5,
          247,
          385,
          665,
          248,
          11,
          1240,
          36,
          85,
          32,
          41,
          542,
          96,
          78,
          54,
          450,
          661,
          339,
          74,
          444,
          660,
          46,
          66,
          978,
          79,
          108,
          104,
          144,
          21,
          373,
          1360,
          1100,
          408,
          148,
          440,
          17,
          117,
          305,
          598
         ],
         "yaxis": "y"
        },
        {
         "alignmentgroup": "True",
         "hovertemplate": "Year=2010<br>Secondary_ed_completion_percent=%{x}<extra></extra>",
         "legendgroup": "2010",
         "marker": {
          "color": "#FF7F0E",
          "symbol": "circle"
         },
         "name": "2010",
         "notched": true,
         "offsetgroup": "2010",
         "showlegend": false,
         "type": "box",
         "x": [
          75.4362,
          99.15,
          38.78343,
          9.02003,
          11.93795,
          36.68105,
          99.51,
          11.54,
          84.94,
          72.60894,
          61.49,
          97.83,
          34.38906,
          79.17,
          78.98,
          65.22,
          47.35867,
          39.2474,
          51.88343,
          45.98,
          25.7515,
          19.36,
          81.42,
          85.13,
          63.10756,
          72.92716,
          69.75,
          82.7,
          71.09664,
          95.37959,
          15.4396,
          29.21,
          14.59321,
          56.68,
          46.75582,
          26.85206,
          63.57,
          78.38,
          43.53438,
          71.66262
         ],
         "xaxis": "x3",
         "yaxis": "y3"
        },
        {
         "alignmentgroup": "True",
         "hovertemplate": "Year=2010<br>Maternal_Death_Rate=%{y}<extra></extra>",
         "legendgroup": "2010",
         "marker": {
          "color": "#FF7F0E",
          "symbol": "circle"
         },
         "name": "2010",
         "offsetgroup": "2010",
         "scalegroup": "y",
         "showlegend": false,
         "type": "violin",
         "xaxis": "x2",
         "y": [
          51,
          5,
          247,
          385,
          665,
          248,
          11,
          1240,
          36,
          85,
          32,
          41,
          542,
          96,
          78,
          54,
          450,
          661,
          339,
          74,
          444,
          660,
          46,
          66,
          978,
          79,
          108,
          104,
          144,
          21,
          373,
          1360,
          1100,
          408,
          148,
          440,
          17,
          117,
          305,
          598
         ],
         "yaxis": "y2"
        },
        {
         "hovertemplate": "Year=2014<br>Secondary_ed_completion_percent=%{x}<br>Maternal_Death_Rate=%{y}<extra></extra>",
         "legendgroup": "2014",
         "marker": {
          "color": "#2CA02C",
          "symbol": "circle"
         },
         "mode": "markers",
         "name": "2014",
         "orientation": "v",
         "showlegend": true,
         "type": "scatter",
         "x": [
          98.7,
          54.93395,
          92.31,
          27.6143,
          86.75,
          86.84,
          92.53,
          40.52178,
          43.24527,
          13.89845,
          82.56,
          74.57,
          66.57,
          98.58,
          97.50024,
          99.29,
          99,
          82.81433,
          86.98,
          80.24802,
          72.5,
          97.74,
          50.53206,
          100,
          92.35,
          50.06646,
          99.24,
          48.75,
          17.07577,
          84.05479,
          48.49,
          98.52,
          100,
          96.62,
          98.97,
          70.51127,
          95.86388,
          98.77,
          26.55557,
          98.4,
          90.46,
          21.77,
          99.25,
          86.28,
          89.48836,
          65.57288,
          94.12,
          50.05,
          99.42,
          77.63,
          76.77,
          87.34,
          97.61,
          93.93,
          96,
          33.83506,
          22.51,
          98.29648,
          100,
          93.3,
          51.18034,
          99.69,
          99.4,
          23.87192,
          92.33849,
          67.21,
          79.59,
          69.74
         ],
         "xaxis": "x",
         "y": [
          5,
          214,
          6,
          432,
          175,
          62,
          11,
          189,
          564,
          1170,
          31,
          85,
          29,
          8,
          39,
          8,
          4,
          94,
          65,
          39,
          49,
          11,
          434,
          3,
          5,
          325,
          3,
          107,
          711,
          174,
          68,
          12,
          5,
          6,
          2,
          358,
          69,
          24,
          579,
          9,
          6,
          381,
          6,
          38,
          49,
          231,
          6,
          103,
          3,
          60,
          91,
          96,
          2,
          8,
          21,
          131,
          364,
          12,
          7,
          4,
          333,
          5,
          5,
          401,
          19,
          17,
          113,
          494
         ],
         "yaxis": "y"
        },
        {
         "alignmentgroup": "True",
         "hovertemplate": "Year=2014<br>Secondary_ed_completion_percent=%{x}<extra></extra>",
         "legendgroup": "2014",
         "marker": {
          "color": "#2CA02C",
          "symbol": "circle"
         },
         "name": "2014",
         "notched": true,
         "offsetgroup": "2014",
         "showlegend": false,
         "type": "box",
         "x": [
          98.7,
          54.93395,
          92.31,
          27.6143,
          86.75,
          86.84,
          92.53,
          40.52178,
          43.24527,
          13.89845,
          82.56,
          74.57,
          66.57,
          98.58,
          97.50024,
          99.29,
          99,
          82.81433,
          86.98,
          80.24802,
          72.5,
          97.74,
          50.53206,
          100,
          92.35,
          50.06646,
          99.24,
          48.75,
          17.07577,
          84.05479,
          48.49,
          98.52,
          100,
          96.62,
          98.97,
          70.51127,
          95.86388,
          98.77,
          26.55557,
          98.4,
          90.46,
          21.77,
          99.25,
          86.28,
          89.48836,
          65.57288,
          94.12,
          50.05,
          99.42,
          77.63,
          76.77,
          87.34,
          97.61,
          93.93,
          96,
          33.83506,
          22.51,
          98.29648,
          100,
          93.3,
          51.18034,
          99.69,
          99.4,
          23.87192,
          92.33849,
          67.21,
          79.59,
          69.74
         ],
         "xaxis": "x3",
         "yaxis": "y3"
        },
        {
         "alignmentgroup": "True",
         "hovertemplate": "Year=2014<br>Maternal_Death_Rate=%{y}<extra></extra>",
         "legendgroup": "2014",
         "marker": {
          "color": "#2CA02C",
          "symbol": "circle"
         },
         "name": "2014",
         "offsetgroup": "2014",
         "scalegroup": "y",
         "showlegend": false,
         "type": "violin",
         "xaxis": "x2",
         "y": [
          5,
          214,
          6,
          432,
          175,
          62,
          11,
          189,
          564,
          1170,
          31,
          85,
          29,
          8,
          39,
          8,
          4,
          94,
          65,
          39,
          49,
          11,
          434,
          3,
          5,
          325,
          3,
          107,
          711,
          174,
          68,
          12,
          5,
          6,
          2,
          358,
          69,
          24,
          579,
          9,
          6,
          381,
          6,
          38,
          49,
          231,
          6,
          103,
          3,
          60,
          91,
          96,
          2,
          8,
          21,
          131,
          364,
          12,
          7,
          4,
          333,
          5,
          5,
          401,
          19,
          17,
          113,
          494
         ],
         "yaxis": "y2"
        }
       ],
       "layout": {
        "legend": {
         "title": {
          "text": "Year"
         },
         "tracegroupgap": 0
        },
        "margin": {
         "t": 60
        },
        "template": {
         "data": {
          "bar": [
           {
            "error_x": {
             "color": "rgb(36,36,36)"
            },
            "error_y": {
             "color": "rgb(36,36,36)"
            },
            "marker": {
             "line": {
              "color": "white",
              "width": 0.5
             },
             "pattern": {
              "fillmode": "overlay",
              "size": 10,
              "solidity": 0.2
             }
            },
            "type": "bar"
           }
          ],
          "barpolar": [
           {
            "marker": {
             "line": {
              "color": "white",
              "width": 0.5
             },
             "pattern": {
              "fillmode": "overlay",
              "size": 10,
              "solidity": 0.2
             }
            },
            "type": "barpolar"
           }
          ],
          "carpet": [
           {
            "aaxis": {
             "endlinecolor": "rgb(36,36,36)",
             "gridcolor": "white",
             "linecolor": "white",
             "minorgridcolor": "white",
             "startlinecolor": "rgb(36,36,36)"
            },
            "baxis": {
             "endlinecolor": "rgb(36,36,36)",
             "gridcolor": "white",
             "linecolor": "white",
             "minorgridcolor": "white",
             "startlinecolor": "rgb(36,36,36)"
            },
            "type": "carpet"
           }
          ],
          "choropleth": [
           {
            "colorbar": {
             "outlinewidth": 1,
             "tickcolor": "rgb(36,36,36)",
             "ticks": "outside"
            },
            "type": "choropleth"
           }
          ],
          "contour": [
           {
            "colorbar": {
             "outlinewidth": 1,
             "tickcolor": "rgb(36,36,36)",
             "ticks": "outside"
            },
            "colorscale": [
             [
              0,
              "#440154"
             ],
             [
              0.1111111111111111,
              "#482878"
             ],
             [
              0.2222222222222222,
              "#3e4989"
             ],
             [
              0.3333333333333333,
              "#31688e"
             ],
             [
              0.4444444444444444,
              "#26828e"
             ],
             [
              0.5555555555555556,
              "#1f9e89"
             ],
             [
              0.6666666666666666,
              "#35b779"
             ],
             [
              0.7777777777777778,
              "#6ece58"
             ],
             [
              0.8888888888888888,
              "#b5de2b"
             ],
             [
              1,
              "#fde725"
             ]
            ],
            "type": "contour"
           }
          ],
          "contourcarpet": [
           {
            "colorbar": {
             "outlinewidth": 1,
             "tickcolor": "rgb(36,36,36)",
             "ticks": "outside"
            },
            "type": "contourcarpet"
           }
          ],
          "heatmap": [
           {
            "colorbar": {
             "outlinewidth": 1,
             "tickcolor": "rgb(36,36,36)",
             "ticks": "outside"
            },
            "colorscale": [
             [
              0,
              "#440154"
             ],
             [
              0.1111111111111111,
              "#482878"
             ],
             [
              0.2222222222222222,
              "#3e4989"
             ],
             [
              0.3333333333333333,
              "#31688e"
             ],
             [
              0.4444444444444444,
              "#26828e"
             ],
             [
              0.5555555555555556,
              "#1f9e89"
             ],
             [
              0.6666666666666666,
              "#35b779"
             ],
             [
              0.7777777777777778,
              "#6ece58"
             ],
             [
              0.8888888888888888,
              "#b5de2b"
             ],
             [
              1,
              "#fde725"
             ]
            ],
            "type": "heatmap"
           }
          ],
          "heatmapgl": [
           {
            "colorbar": {
             "outlinewidth": 1,
             "tickcolor": "rgb(36,36,36)",
             "ticks": "outside"
            },
            "colorscale": [
             [
              0,
              "#440154"
             ],
             [
              0.1111111111111111,
              "#482878"
             ],
             [
              0.2222222222222222,
              "#3e4989"
             ],
             [
              0.3333333333333333,
              "#31688e"
             ],
             [
              0.4444444444444444,
              "#26828e"
             ],
             [
              0.5555555555555556,
              "#1f9e89"
             ],
             [
              0.6666666666666666,
              "#35b779"
             ],
             [
              0.7777777777777778,
              "#6ece58"
             ],
             [
              0.8888888888888888,
              "#b5de2b"
             ],
             [
              1,
              "#fde725"
             ]
            ],
            "type": "heatmapgl"
           }
          ],
          "histogram": [
           {
            "marker": {
             "line": {
              "color": "white",
              "width": 0.6
             }
            },
            "type": "histogram"
           }
          ],
          "histogram2d": [
           {
            "colorbar": {
             "outlinewidth": 1,
             "tickcolor": "rgb(36,36,36)",
             "ticks": "outside"
            },
            "colorscale": [
             [
              0,
              "#440154"
             ],
             [
              0.1111111111111111,
              "#482878"
             ],
             [
              0.2222222222222222,
              "#3e4989"
             ],
             [
              0.3333333333333333,
              "#31688e"
             ],
             [
              0.4444444444444444,
              "#26828e"
             ],
             [
              0.5555555555555556,
              "#1f9e89"
             ],
             [
              0.6666666666666666,
              "#35b779"
             ],
             [
              0.7777777777777778,
              "#6ece58"
             ],
             [
              0.8888888888888888,
              "#b5de2b"
             ],
             [
              1,
              "#fde725"
             ]
            ],
            "type": "histogram2d"
           }
          ],
          "histogram2dcontour": [
           {
            "colorbar": {
             "outlinewidth": 1,
             "tickcolor": "rgb(36,36,36)",
             "ticks": "outside"
            },
            "colorscale": [
             [
              0,
              "#440154"
             ],
             [
              0.1111111111111111,
              "#482878"
             ],
             [
              0.2222222222222222,
              "#3e4989"
             ],
             [
              0.3333333333333333,
              "#31688e"
             ],
             [
              0.4444444444444444,
              "#26828e"
             ],
             [
              0.5555555555555556,
              "#1f9e89"
             ],
             [
              0.6666666666666666,
              "#35b779"
             ],
             [
              0.7777777777777778,
              "#6ece58"
             ],
             [
              0.8888888888888888,
              "#b5de2b"
             ],
             [
              1,
              "#fde725"
             ]
            ],
            "type": "histogram2dcontour"
           }
          ],
          "mesh3d": [
           {
            "colorbar": {
             "outlinewidth": 1,
             "tickcolor": "rgb(36,36,36)",
             "ticks": "outside"
            },
            "type": "mesh3d"
           }
          ],
          "parcoords": [
           {
            "line": {
             "colorbar": {
              "outlinewidth": 1,
              "tickcolor": "rgb(36,36,36)",
              "ticks": "outside"
             }
            },
            "type": "parcoords"
           }
          ],
          "pie": [
           {
            "automargin": true,
            "type": "pie"
           }
          ],
          "scatter": [
           {
            "marker": {
             "colorbar": {
              "outlinewidth": 1,
              "tickcolor": "rgb(36,36,36)",
              "ticks": "outside"
             }
            },
            "type": "scatter"
           }
          ],
          "scatter3d": [
           {
            "line": {
             "colorbar": {
              "outlinewidth": 1,
              "tickcolor": "rgb(36,36,36)",
              "ticks": "outside"
             }
            },
            "marker": {
             "colorbar": {
              "outlinewidth": 1,
              "tickcolor": "rgb(36,36,36)",
              "ticks": "outside"
             }
            },
            "type": "scatter3d"
           }
          ],
          "scattercarpet": [
           {
            "marker": {
             "colorbar": {
              "outlinewidth": 1,
              "tickcolor": "rgb(36,36,36)",
              "ticks": "outside"
             }
            },
            "type": "scattercarpet"
           }
          ],
          "scattergeo": [
           {
            "marker": {
             "colorbar": {
              "outlinewidth": 1,
              "tickcolor": "rgb(36,36,36)",
              "ticks": "outside"
             }
            },
            "type": "scattergeo"
           }
          ],
          "scattergl": [
           {
            "marker": {
             "colorbar": {
              "outlinewidth": 1,
              "tickcolor": "rgb(36,36,36)",
              "ticks": "outside"
             }
            },
            "type": "scattergl"
           }
          ],
          "scattermapbox": [
           {
            "marker": {
             "colorbar": {
              "outlinewidth": 1,
              "tickcolor": "rgb(36,36,36)",
              "ticks": "outside"
             }
            },
            "type": "scattermapbox"
           }
          ],
          "scatterpolar": [
           {
            "marker": {
             "colorbar": {
              "outlinewidth": 1,
              "tickcolor": "rgb(36,36,36)",
              "ticks": "outside"
             }
            },
            "type": "scatterpolar"
           }
          ],
          "scatterpolargl": [
           {
            "marker": {
             "colorbar": {
              "outlinewidth": 1,
              "tickcolor": "rgb(36,36,36)",
              "ticks": "outside"
             }
            },
            "type": "scatterpolargl"
           }
          ],
          "scatterternary": [
           {
            "marker": {
             "colorbar": {
              "outlinewidth": 1,
              "tickcolor": "rgb(36,36,36)",
              "ticks": "outside"
             }
            },
            "type": "scatterternary"
           }
          ],
          "surface": [
           {
            "colorbar": {
             "outlinewidth": 1,
             "tickcolor": "rgb(36,36,36)",
             "ticks": "outside"
            },
            "colorscale": [
             [
              0,
              "#440154"
             ],
             [
              0.1111111111111111,
              "#482878"
             ],
             [
              0.2222222222222222,
              "#3e4989"
             ],
             [
              0.3333333333333333,
              "#31688e"
             ],
             [
              0.4444444444444444,
              "#26828e"
             ],
             [
              0.5555555555555556,
              "#1f9e89"
             ],
             [
              0.6666666666666666,
              "#35b779"
             ],
             [
              0.7777777777777778,
              "#6ece58"
             ],
             [
              0.8888888888888888,
              "#b5de2b"
             ],
             [
              1,
              "#fde725"
             ]
            ],
            "type": "surface"
           }
          ],
          "table": [
           {
            "cells": {
             "fill": {
              "color": "rgb(237,237,237)"
             },
             "line": {
              "color": "white"
             }
            },
            "header": {
             "fill": {
              "color": "rgb(217,217,217)"
             },
             "line": {
              "color": "white"
             }
            },
            "type": "table"
           }
          ]
         },
         "layout": {
          "annotationdefaults": {
           "arrowhead": 0,
           "arrowwidth": 1
          },
          "autotypenumbers": "strict",
          "coloraxis": {
           "colorbar": {
            "outlinewidth": 1,
            "tickcolor": "rgb(36,36,36)",
            "ticks": "outside"
           }
          },
          "colorscale": {
           "diverging": [
            [
             0,
             "rgb(103,0,31)"
            ],
            [
             0.1,
             "rgb(178,24,43)"
            ],
            [
             0.2,
             "rgb(214,96,77)"
            ],
            [
             0.3,
             "rgb(244,165,130)"
            ],
            [
             0.4,
             "rgb(253,219,199)"
            ],
            [
             0.5,
             "rgb(247,247,247)"
            ],
            [
             0.6,
             "rgb(209,229,240)"
            ],
            [
             0.7,
             "rgb(146,197,222)"
            ],
            [
             0.8,
             "rgb(67,147,195)"
            ],
            [
             0.9,
             "rgb(33,102,172)"
            ],
            [
             1,
             "rgb(5,48,97)"
            ]
           ],
           "sequential": [
            [
             0,
             "#440154"
            ],
            [
             0.1111111111111111,
             "#482878"
            ],
            [
             0.2222222222222222,
             "#3e4989"
            ],
            [
             0.3333333333333333,
             "#31688e"
            ],
            [
             0.4444444444444444,
             "#26828e"
            ],
            [
             0.5555555555555556,
             "#1f9e89"
            ],
            [
             0.6666666666666666,
             "#35b779"
            ],
            [
             0.7777777777777778,
             "#6ece58"
            ],
            [
             0.8888888888888888,
             "#b5de2b"
            ],
            [
             1,
             "#fde725"
            ]
           ],
           "sequentialminus": [
            [
             0,
             "#440154"
            ],
            [
             0.1111111111111111,
             "#482878"
            ],
            [
             0.2222222222222222,
             "#3e4989"
            ],
            [
             0.3333333333333333,
             "#31688e"
            ],
            [
             0.4444444444444444,
             "#26828e"
            ],
            [
             0.5555555555555556,
             "#1f9e89"
            ],
            [
             0.6666666666666666,
             "#35b779"
            ],
            [
             0.7777777777777778,
             "#6ece58"
            ],
            [
             0.8888888888888888,
             "#b5de2b"
            ],
            [
             1,
             "#fde725"
            ]
           ]
          },
          "colorway": [
           "#1F77B4",
           "#FF7F0E",
           "#2CA02C",
           "#D62728",
           "#9467BD",
           "#8C564B",
           "#E377C2",
           "#7F7F7F",
           "#BCBD22",
           "#17BECF"
          ],
          "font": {
           "color": "rgb(36,36,36)"
          },
          "geo": {
           "bgcolor": "white",
           "lakecolor": "white",
           "landcolor": "white",
           "showlakes": true,
           "showland": true,
           "subunitcolor": "white"
          },
          "hoverlabel": {
           "align": "left"
          },
          "hovermode": "closest",
          "mapbox": {
           "style": "light"
          },
          "paper_bgcolor": "white",
          "plot_bgcolor": "white",
          "polar": {
           "angularaxis": {
            "gridcolor": "rgb(232,232,232)",
            "linecolor": "rgb(36,36,36)",
            "showgrid": false,
            "showline": true,
            "ticks": "outside"
           },
           "bgcolor": "white",
           "radialaxis": {
            "gridcolor": "rgb(232,232,232)",
            "linecolor": "rgb(36,36,36)",
            "showgrid": false,
            "showline": true,
            "ticks": "outside"
           }
          },
          "scene": {
           "xaxis": {
            "backgroundcolor": "white",
            "gridcolor": "rgb(232,232,232)",
            "gridwidth": 2,
            "linecolor": "rgb(36,36,36)",
            "showbackground": true,
            "showgrid": false,
            "showline": true,
            "ticks": "outside",
            "zeroline": false,
            "zerolinecolor": "rgb(36,36,36)"
           },
           "yaxis": {
            "backgroundcolor": "white",
            "gridcolor": "rgb(232,232,232)",
            "gridwidth": 2,
            "linecolor": "rgb(36,36,36)",
            "showbackground": true,
            "showgrid": false,
            "showline": true,
            "ticks": "outside",
            "zeroline": false,
            "zerolinecolor": "rgb(36,36,36)"
           },
           "zaxis": {
            "backgroundcolor": "white",
            "gridcolor": "rgb(232,232,232)",
            "gridwidth": 2,
            "linecolor": "rgb(36,36,36)",
            "showbackground": true,
            "showgrid": false,
            "showline": true,
            "ticks": "outside",
            "zeroline": false,
            "zerolinecolor": "rgb(36,36,36)"
           }
          },
          "shapedefaults": {
           "fillcolor": "black",
           "line": {
            "width": 0
           },
           "opacity": 0.3
          },
          "ternary": {
           "aaxis": {
            "gridcolor": "rgb(232,232,232)",
            "linecolor": "rgb(36,36,36)",
            "showgrid": false,
            "showline": true,
            "ticks": "outside"
           },
           "baxis": {
            "gridcolor": "rgb(232,232,232)",
            "linecolor": "rgb(36,36,36)",
            "showgrid": false,
            "showline": true,
            "ticks": "outside"
           },
           "bgcolor": "white",
           "caxis": {
            "gridcolor": "rgb(232,232,232)",
            "linecolor": "rgb(36,36,36)",
            "showgrid": false,
            "showline": true,
            "ticks": "outside"
           }
          },
          "title": {
           "x": 0.05
          },
          "xaxis": {
           "automargin": true,
           "gridcolor": "rgb(232,232,232)",
           "linecolor": "rgb(36,36,36)",
           "showgrid": false,
           "showline": true,
           "ticks": "outside",
           "title": {
            "standoff": 15
           },
           "zeroline": false,
           "zerolinecolor": "rgb(36,36,36)"
          },
          "yaxis": {
           "automargin": true,
           "gridcolor": "rgb(232,232,232)",
           "linecolor": "rgb(36,36,36)",
           "showgrid": false,
           "showline": true,
           "ticks": "outside",
           "title": {
            "standoff": 15
           },
           "zeroline": false,
           "zerolinecolor": "rgb(36,36,36)"
          }
         }
        },
        "xaxis": {
         "anchor": "y",
         "domain": [
          0,
          0.7363
         ],
         "title": {
          "text": "Secondary_ed_completion_percent"
         }
        },
        "xaxis2": {
         "anchor": "y2",
         "domain": [
          0.7413,
          1
         ],
         "matches": "x2",
         "showline": false,
         "showticklabels": false,
         "ticks": ""
        },
        "xaxis3": {
         "anchor": "y3",
         "domain": [
          0,
          0.7363
         ],
         "matches": "x",
         "showticklabels": false
        },
        "xaxis4": {
         "anchor": "y4",
         "domain": [
          0.7413,
          1
         ],
         "matches": "x2",
         "showline": false,
         "showticklabels": false,
         "ticks": ""
        },
        "yaxis": {
         "anchor": "x",
         "domain": [
          0,
          0.7326
         ],
         "title": {
          "text": "Maternal_Death_Rate"
         }
        },
        "yaxis2": {
         "anchor": "x2",
         "domain": [
          0,
          0.7326
         ],
         "matches": "y",
         "showticklabels": false
        },
        "yaxis3": {
         "anchor": "x3",
         "domain": [
          0.7426,
          1
         ],
         "matches": "y3",
         "showline": false,
         "showticklabels": false,
         "ticks": ""
        },
        "yaxis4": {
         "anchor": "x4",
         "domain": [
          0.7426,
          1
         ],
         "matches": "y3",
         "showline": false,
         "showticklabels": false,
         "ticks": ""
        }
       }
      },
      "text/html": [
       "<div>                            <div id=\"6a2cc546-f2f0-443c-a704-6333d1a7e97c\" class=\"plotly-graph-div\" style=\"height:525px; width:100%;\"></div>            <script type=\"text/javascript\">                require([\"plotly\"], function(Plotly) {                    window.PLOTLYENV=window.PLOTLYENV || {};                                    if (document.getElementById(\"6a2cc546-f2f0-443c-a704-6333d1a7e97c\")) {                    Plotly.newPlot(                        \"6a2cc546-f2f0-443c-a704-6333d1a7e97c\",                        [{\"hovertemplate\":\"Year=2005<br>Secondary_ed_completion_percent=%{x}<br>Maternal_Death_Rate=%{y}<extra></extra>\",\"legendgroup\":\"2005\",\"marker\":{\"color\":\"#1F77B4\",\"symbol\":\"circle\"},\"mode\":\"markers\",\"name\":\"2005\",\"orientation\":\"v\",\"showlegend\":true,\"x\":[97.09,98.66,99.4,89.76,83.65,76.04,4.23,26.76247,36.6066,62.39503,21.69807,50.82,97.09,100.0,71.86,67.58,69.73898,59.94,97.08,9.40022,100.0,95.42,95.56,94.86,14.61305,27.60004,33.52,96.73,99.32,58.24,93.25,99.08,96.87,57.21,22.58433,98.97,90.32,97.42,96.72,38.37,93.95,100.0,73.62,63.99,76.31,90.16,80.51,5.91146,9.99506,97.21,16.76,56.17,90.51,99.04,86.31,98.73,67.11,61.90852],\"xaxis\":\"x\",\"y\":[22.0,6.0,11.0,7.0,271.0,71.0,814.0,351.0,692.0,83.0,677.0,33.0,12.0,6.0,83.0,94.0,52.0,62.0,18.0,865.0,5.0,39.0,6.0,3.0,920.0,459.0,77.0,15.0,5.0,286.0,7.0,3.0,80.0,30.0,679.0,14.0,9.0,9.0,11.0,131.0,10.0,5.0,88.0,137.0,118.0,4.0,9.0,643.0,519.0,12.0,1760.0,10.0,5.0,5.0,43.0,33.0,113.0,685.0],\"yaxis\":\"y\",\"type\":\"scatter\"},{\"alignmentgroup\":\"True\",\"hovertemplate\":\"Year=2005<br>Secondary_ed_completion_percent=%{x}<extra></extra>\",\"legendgroup\":\"2005\",\"marker\":{\"color\":\"#1F77B4\",\"symbol\":\"circle\"},\"name\":\"2005\",\"notched\":true,\"offsetgroup\":\"2005\",\"showlegend\":false,\"x\":[97.09,98.66,99.4,89.76,83.65,76.04,4.23,26.76247,36.6066,62.39503,21.69807,50.82,97.09,100.0,71.86,67.58,69.73898,59.94,97.08,9.40022,100.0,95.42,95.56,94.86,14.61305,27.60004,33.52,96.73,99.32,58.24,93.25,99.08,96.87,57.21,22.58433,98.97,90.32,97.42,96.72,38.37,93.95,100.0,73.62,63.99,76.31,90.16,80.51,5.91146,9.99506,97.21,16.76,56.17,90.51,99.04,86.31,98.73,67.11,61.90852],\"xaxis\":\"x3\",\"yaxis\":\"y3\",\"type\":\"box\"},{\"alignmentgroup\":\"True\",\"hovertemplate\":\"Year=2005<br>Maternal_Death_Rate=%{y}<extra></extra>\",\"legendgroup\":\"2005\",\"marker\":{\"color\":\"#1F77B4\",\"symbol\":\"circle\"},\"name\":\"2005\",\"offsetgroup\":\"2005\",\"scalegroup\":\"y\",\"showlegend\":false,\"xaxis\":\"x2\",\"y\":[22.0,6.0,11.0,7.0,271.0,71.0,814.0,351.0,692.0,83.0,677.0,33.0,12.0,6.0,83.0,94.0,52.0,62.0,18.0,865.0,5.0,39.0,6.0,3.0,920.0,459.0,77.0,15.0,5.0,286.0,7.0,3.0,80.0,30.0,679.0,14.0,9.0,9.0,11.0,131.0,10.0,5.0,88.0,137.0,118.0,4.0,9.0,643.0,519.0,12.0,1760.0,10.0,5.0,5.0,43.0,33.0,113.0,685.0],\"yaxis\":\"y2\",\"type\":\"violin\"},{\"hovertemplate\":\"Year=2010<br>Secondary_ed_completion_percent=%{x}<br>Maternal_Death_Rate=%{y}<extra></extra>\",\"legendgroup\":\"2010\",\"marker\":{\"color\":\"#FF7F0E\",\"symbol\":\"circle\"},\"mode\":\"markers\",\"name\":\"2010\",\"orientation\":\"v\",\"showlegend\":true,\"x\":[75.4362,99.15,38.78343,9.02003,11.93795,36.68105,99.51,11.54,84.94,72.60894,61.49,97.83,34.38906,79.17,78.98,65.22,47.35867,39.2474,51.88343,45.98,25.7515,19.36,81.42,85.13,63.10756,72.92716,69.75,82.7,71.09664,95.37959,15.4396,29.21,14.59321,56.68,46.75582,26.85206,63.57,78.38,43.53438,71.66262],\"xaxis\":\"x\",\"y\":[51.0,5.0,247.0,385.0,665.0,248.0,11.0,1240.0,36.0,85.0,32.0,41.0,542.0,96.0,78.0,54.0,450.0,661.0,339.0,74.0,444.0,660.0,46.0,66.0,978.0,79.0,108.0,104.0,144.0,21.0,373.0,1360.0,1100.0,408.0,148.0,440.0,17.0,117.0,305.0,598.0],\"yaxis\":\"y\",\"type\":\"scatter\"},{\"alignmentgroup\":\"True\",\"hovertemplate\":\"Year=2010<br>Secondary_ed_completion_percent=%{x}<extra></extra>\",\"legendgroup\":\"2010\",\"marker\":{\"color\":\"#FF7F0E\",\"symbol\":\"circle\"},\"name\":\"2010\",\"notched\":true,\"offsetgroup\":\"2010\",\"showlegend\":false,\"x\":[75.4362,99.15,38.78343,9.02003,11.93795,36.68105,99.51,11.54,84.94,72.60894,61.49,97.83,34.38906,79.17,78.98,65.22,47.35867,39.2474,51.88343,45.98,25.7515,19.36,81.42,85.13,63.10756,72.92716,69.75,82.7,71.09664,95.37959,15.4396,29.21,14.59321,56.68,46.75582,26.85206,63.57,78.38,43.53438,71.66262],\"xaxis\":\"x3\",\"yaxis\":\"y3\",\"type\":\"box\"},{\"alignmentgroup\":\"True\",\"hovertemplate\":\"Year=2010<br>Maternal_Death_Rate=%{y}<extra></extra>\",\"legendgroup\":\"2010\",\"marker\":{\"color\":\"#FF7F0E\",\"symbol\":\"circle\"},\"name\":\"2010\",\"offsetgroup\":\"2010\",\"scalegroup\":\"y\",\"showlegend\":false,\"xaxis\":\"x2\",\"y\":[51.0,5.0,247.0,385.0,665.0,248.0,11.0,1240.0,36.0,85.0,32.0,41.0,542.0,96.0,78.0,54.0,450.0,661.0,339.0,74.0,444.0,660.0,46.0,66.0,978.0,79.0,108.0,104.0,144.0,21.0,373.0,1360.0,1100.0,408.0,148.0,440.0,17.0,117.0,305.0,598.0],\"yaxis\":\"y2\",\"type\":\"violin\"},{\"hovertemplate\":\"Year=2014<br>Secondary_ed_completion_percent=%{x}<br>Maternal_Death_Rate=%{y}<extra></extra>\",\"legendgroup\":\"2014\",\"marker\":{\"color\":\"#2CA02C\",\"symbol\":\"circle\"},\"mode\":\"markers\",\"name\":\"2014\",\"orientation\":\"v\",\"showlegend\":true,\"x\":[98.7,54.93395,92.31,27.6143,86.75,86.84,92.53,40.52178,43.24527,13.89845,82.56,74.57,66.57,98.58,97.50024,99.29,99.0,82.81433,86.98,80.24802,72.5,97.74,50.53206,100.0,92.35,50.06646,99.24,48.75,17.07577,84.05479,48.49,98.52,100.0,96.62,98.97,70.51127,95.86388,98.77,26.55557,98.4,90.46,21.77,99.25,86.28,89.48836,65.57288,94.12,50.05,99.42,77.63,76.77,87.34,97.61,93.93,96.0,33.83506,22.51,98.29648,100.0,93.3,51.18034,99.69,99.4,23.87192,92.33849,67.21,79.59,69.74],\"xaxis\":\"x\",\"y\":[5.0,214.0,6.0,432.0,175.0,62.0,11.0,189.0,564.0,1170.0,31.0,85.0,29.0,8.0,39.0,8.0,4.0,94.0,65.0,39.0,49.0,11.0,434.0,3.0,5.0,325.0,3.0,107.0,711.0,174.0,68.0,12.0,5.0,6.0,2.0,358.0,69.0,24.0,579.0,9.0,6.0,381.0,6.0,38.0,49.0,231.0,6.0,103.0,3.0,60.0,91.0,96.0,2.0,8.0,21.0,131.0,364.0,12.0,7.0,4.0,333.0,5.0,5.0,401.0,19.0,17.0,113.0,494.0],\"yaxis\":\"y\",\"type\":\"scatter\"},{\"alignmentgroup\":\"True\",\"hovertemplate\":\"Year=2014<br>Secondary_ed_completion_percent=%{x}<extra></extra>\",\"legendgroup\":\"2014\",\"marker\":{\"color\":\"#2CA02C\",\"symbol\":\"circle\"},\"name\":\"2014\",\"notched\":true,\"offsetgroup\":\"2014\",\"showlegend\":false,\"x\":[98.7,54.93395,92.31,27.6143,86.75,86.84,92.53,40.52178,43.24527,13.89845,82.56,74.57,66.57,98.58,97.50024,99.29,99.0,82.81433,86.98,80.24802,72.5,97.74,50.53206,100.0,92.35,50.06646,99.24,48.75,17.07577,84.05479,48.49,98.52,100.0,96.62,98.97,70.51127,95.86388,98.77,26.55557,98.4,90.46,21.77,99.25,86.28,89.48836,65.57288,94.12,50.05,99.42,77.63,76.77,87.34,97.61,93.93,96.0,33.83506,22.51,98.29648,100.0,93.3,51.18034,99.69,99.4,23.87192,92.33849,67.21,79.59,69.74],\"xaxis\":\"x3\",\"yaxis\":\"y3\",\"type\":\"box\"},{\"alignmentgroup\":\"True\",\"hovertemplate\":\"Year=2014<br>Maternal_Death_Rate=%{y}<extra></extra>\",\"legendgroup\":\"2014\",\"marker\":{\"color\":\"#2CA02C\",\"symbol\":\"circle\"},\"name\":\"2014\",\"offsetgroup\":\"2014\",\"scalegroup\":\"y\",\"showlegend\":false,\"xaxis\":\"x2\",\"y\":[5.0,214.0,6.0,432.0,175.0,62.0,11.0,189.0,564.0,1170.0,31.0,85.0,29.0,8.0,39.0,8.0,4.0,94.0,65.0,39.0,49.0,11.0,434.0,3.0,5.0,325.0,3.0,107.0,711.0,174.0,68.0,12.0,5.0,6.0,2.0,358.0,69.0,24.0,579.0,9.0,6.0,381.0,6.0,38.0,49.0,231.0,6.0,103.0,3.0,60.0,91.0,96.0,2.0,8.0,21.0,131.0,364.0,12.0,7.0,4.0,333.0,5.0,5.0,401.0,19.0,17.0,113.0,494.0],\"yaxis\":\"y2\",\"type\":\"violin\"}],                        {\"template\":{\"data\":{\"barpolar\":[{\"marker\":{\"line\":{\"color\":\"white\",\"width\":0.5},\"pattern\":{\"fillmode\":\"overlay\",\"size\":10,\"solidity\":0.2}},\"type\":\"barpolar\"}],\"bar\":[{\"error_x\":{\"color\":\"rgb(36,36,36)\"},\"error_y\":{\"color\":\"rgb(36,36,36)\"},\"marker\":{\"line\":{\"color\":\"white\",\"width\":0.5},\"pattern\":{\"fillmode\":\"overlay\",\"size\":10,\"solidity\":0.2}},\"type\":\"bar\"}],\"carpet\":[{\"aaxis\":{\"endlinecolor\":\"rgb(36,36,36)\",\"gridcolor\":\"white\",\"linecolor\":\"white\",\"minorgridcolor\":\"white\",\"startlinecolor\":\"rgb(36,36,36)\"},\"baxis\":{\"endlinecolor\":\"rgb(36,36,36)\",\"gridcolor\":\"white\",\"linecolor\":\"white\",\"minorgridcolor\":\"white\",\"startlinecolor\":\"rgb(36,36,36)\"},\"type\":\"carpet\"}],\"choropleth\":[{\"colorbar\":{\"outlinewidth\":1,\"tickcolor\":\"rgb(36,36,36)\",\"ticks\":\"outside\"},\"type\":\"choropleth\"}],\"contourcarpet\":[{\"colorbar\":{\"outlinewidth\":1,\"tickcolor\":\"rgb(36,36,36)\",\"ticks\":\"outside\"},\"type\":\"contourcarpet\"}],\"contour\":[{\"colorbar\":{\"outlinewidth\":1,\"tickcolor\":\"rgb(36,36,36)\",\"ticks\":\"outside\"},\"colorscale\":[[0.0,\"#440154\"],[0.1111111111111111,\"#482878\"],[0.2222222222222222,\"#3e4989\"],[0.3333333333333333,\"#31688e\"],[0.4444444444444444,\"#26828e\"],[0.5555555555555556,\"#1f9e89\"],[0.6666666666666666,\"#35b779\"],[0.7777777777777778,\"#6ece58\"],[0.8888888888888888,\"#b5de2b\"],[1.0,\"#fde725\"]],\"type\":\"contour\"}],\"heatmapgl\":[{\"colorbar\":{\"outlinewidth\":1,\"tickcolor\":\"rgb(36,36,36)\",\"ticks\":\"outside\"},\"colorscale\":[[0.0,\"#440154\"],[0.1111111111111111,\"#482878\"],[0.2222222222222222,\"#3e4989\"],[0.3333333333333333,\"#31688e\"],[0.4444444444444444,\"#26828e\"],[0.5555555555555556,\"#1f9e89\"],[0.6666666666666666,\"#35b779\"],[0.7777777777777778,\"#6ece58\"],[0.8888888888888888,\"#b5de2b\"],[1.0,\"#fde725\"]],\"type\":\"heatmapgl\"}],\"heatmap\":[{\"colorbar\":{\"outlinewidth\":1,\"tickcolor\":\"rgb(36,36,36)\",\"ticks\":\"outside\"},\"colorscale\":[[0.0,\"#440154\"],[0.1111111111111111,\"#482878\"],[0.2222222222222222,\"#3e4989\"],[0.3333333333333333,\"#31688e\"],[0.4444444444444444,\"#26828e\"],[0.5555555555555556,\"#1f9e89\"],[0.6666666666666666,\"#35b779\"],[0.7777777777777778,\"#6ece58\"],[0.8888888888888888,\"#b5de2b\"],[1.0,\"#fde725\"]],\"type\":\"heatmap\"}],\"histogram2dcontour\":[{\"colorbar\":{\"outlinewidth\":1,\"tickcolor\":\"rgb(36,36,36)\",\"ticks\":\"outside\"},\"colorscale\":[[0.0,\"#440154\"],[0.1111111111111111,\"#482878\"],[0.2222222222222222,\"#3e4989\"],[0.3333333333333333,\"#31688e\"],[0.4444444444444444,\"#26828e\"],[0.5555555555555556,\"#1f9e89\"],[0.6666666666666666,\"#35b779\"],[0.7777777777777778,\"#6ece58\"],[0.8888888888888888,\"#b5de2b\"],[1.0,\"#fde725\"]],\"type\":\"histogram2dcontour\"}],\"histogram2d\":[{\"colorbar\":{\"outlinewidth\":1,\"tickcolor\":\"rgb(36,36,36)\",\"ticks\":\"outside\"},\"colorscale\":[[0.0,\"#440154\"],[0.1111111111111111,\"#482878\"],[0.2222222222222222,\"#3e4989\"],[0.3333333333333333,\"#31688e\"],[0.4444444444444444,\"#26828e\"],[0.5555555555555556,\"#1f9e89\"],[0.6666666666666666,\"#35b779\"],[0.7777777777777778,\"#6ece58\"],[0.8888888888888888,\"#b5de2b\"],[1.0,\"#fde725\"]],\"type\":\"histogram2d\"}],\"histogram\":[{\"marker\":{\"line\":{\"color\":\"white\",\"width\":0.6}},\"type\":\"histogram\"}],\"mesh3d\":[{\"colorbar\":{\"outlinewidth\":1,\"tickcolor\":\"rgb(36,36,36)\",\"ticks\":\"outside\"},\"type\":\"mesh3d\"}],\"parcoords\":[{\"line\":{\"colorbar\":{\"outlinewidth\":1,\"tickcolor\":\"rgb(36,36,36)\",\"ticks\":\"outside\"}},\"type\":\"parcoords\"}],\"pie\":[{\"automargin\":true,\"type\":\"pie\"}],\"scatter3d\":[{\"line\":{\"colorbar\":{\"outlinewidth\":1,\"tickcolor\":\"rgb(36,36,36)\",\"ticks\":\"outside\"}},\"marker\":{\"colorbar\":{\"outlinewidth\":1,\"tickcolor\":\"rgb(36,36,36)\",\"ticks\":\"outside\"}},\"type\":\"scatter3d\"}],\"scattercarpet\":[{\"marker\":{\"colorbar\":{\"outlinewidth\":1,\"tickcolor\":\"rgb(36,36,36)\",\"ticks\":\"outside\"}},\"type\":\"scattercarpet\"}],\"scattergeo\":[{\"marker\":{\"colorbar\":{\"outlinewidth\":1,\"tickcolor\":\"rgb(36,36,36)\",\"ticks\":\"outside\"}},\"type\":\"scattergeo\"}],\"scattergl\":[{\"marker\":{\"colorbar\":{\"outlinewidth\":1,\"tickcolor\":\"rgb(36,36,36)\",\"ticks\":\"outside\"}},\"type\":\"scattergl\"}],\"scattermapbox\":[{\"marker\":{\"colorbar\":{\"outlinewidth\":1,\"tickcolor\":\"rgb(36,36,36)\",\"ticks\":\"outside\"}},\"type\":\"scattermapbox\"}],\"scatterpolargl\":[{\"marker\":{\"colorbar\":{\"outlinewidth\":1,\"tickcolor\":\"rgb(36,36,36)\",\"ticks\":\"outside\"}},\"type\":\"scatterpolargl\"}],\"scatterpolar\":[{\"marker\":{\"colorbar\":{\"outlinewidth\":1,\"tickcolor\":\"rgb(36,36,36)\",\"ticks\":\"outside\"}},\"type\":\"scatterpolar\"}],\"scatter\":[{\"marker\":{\"colorbar\":{\"outlinewidth\":1,\"tickcolor\":\"rgb(36,36,36)\",\"ticks\":\"outside\"}},\"type\":\"scatter\"}],\"scatterternary\":[{\"marker\":{\"colorbar\":{\"outlinewidth\":1,\"tickcolor\":\"rgb(36,36,36)\",\"ticks\":\"outside\"}},\"type\":\"scatterternary\"}],\"surface\":[{\"colorbar\":{\"outlinewidth\":1,\"tickcolor\":\"rgb(36,36,36)\",\"ticks\":\"outside\"},\"colorscale\":[[0.0,\"#440154\"],[0.1111111111111111,\"#482878\"],[0.2222222222222222,\"#3e4989\"],[0.3333333333333333,\"#31688e\"],[0.4444444444444444,\"#26828e\"],[0.5555555555555556,\"#1f9e89\"],[0.6666666666666666,\"#35b779\"],[0.7777777777777778,\"#6ece58\"],[0.8888888888888888,\"#b5de2b\"],[1.0,\"#fde725\"]],\"type\":\"surface\"}],\"table\":[{\"cells\":{\"fill\":{\"color\":\"rgb(237,237,237)\"},\"line\":{\"color\":\"white\"}},\"header\":{\"fill\":{\"color\":\"rgb(217,217,217)\"},\"line\":{\"color\":\"white\"}},\"type\":\"table\"}]},\"layout\":{\"annotationdefaults\":{\"arrowhead\":0,\"arrowwidth\":1},\"autotypenumbers\":\"strict\",\"coloraxis\":{\"colorbar\":{\"outlinewidth\":1,\"tickcolor\":\"rgb(36,36,36)\",\"ticks\":\"outside\"}},\"colorscale\":{\"diverging\":[[0.0,\"rgb(103,0,31)\"],[0.1,\"rgb(178,24,43)\"],[0.2,\"rgb(214,96,77)\"],[0.3,\"rgb(244,165,130)\"],[0.4,\"rgb(253,219,199)\"],[0.5,\"rgb(247,247,247)\"],[0.6,\"rgb(209,229,240)\"],[0.7,\"rgb(146,197,222)\"],[0.8,\"rgb(67,147,195)\"],[0.9,\"rgb(33,102,172)\"],[1.0,\"rgb(5,48,97)\"]],\"sequential\":[[0.0,\"#440154\"],[0.1111111111111111,\"#482878\"],[0.2222222222222222,\"#3e4989\"],[0.3333333333333333,\"#31688e\"],[0.4444444444444444,\"#26828e\"],[0.5555555555555556,\"#1f9e89\"],[0.6666666666666666,\"#35b779\"],[0.7777777777777778,\"#6ece58\"],[0.8888888888888888,\"#b5de2b\"],[1.0,\"#fde725\"]],\"sequentialminus\":[[0.0,\"#440154\"],[0.1111111111111111,\"#482878\"],[0.2222222222222222,\"#3e4989\"],[0.3333333333333333,\"#31688e\"],[0.4444444444444444,\"#26828e\"],[0.5555555555555556,\"#1f9e89\"],[0.6666666666666666,\"#35b779\"],[0.7777777777777778,\"#6ece58\"],[0.8888888888888888,\"#b5de2b\"],[1.0,\"#fde725\"]]},\"colorway\":[\"#1F77B4\",\"#FF7F0E\",\"#2CA02C\",\"#D62728\",\"#9467BD\",\"#8C564B\",\"#E377C2\",\"#7F7F7F\",\"#BCBD22\",\"#17BECF\"],\"font\":{\"color\":\"rgb(36,36,36)\"},\"geo\":{\"bgcolor\":\"white\",\"lakecolor\":\"white\",\"landcolor\":\"white\",\"showlakes\":true,\"showland\":true,\"subunitcolor\":\"white\"},\"hoverlabel\":{\"align\":\"left\"},\"hovermode\":\"closest\",\"mapbox\":{\"style\":\"light\"},\"paper_bgcolor\":\"white\",\"plot_bgcolor\":\"white\",\"polar\":{\"angularaxis\":{\"gridcolor\":\"rgb(232,232,232)\",\"linecolor\":\"rgb(36,36,36)\",\"showgrid\":false,\"showline\":true,\"ticks\":\"outside\"},\"bgcolor\":\"white\",\"radialaxis\":{\"gridcolor\":\"rgb(232,232,232)\",\"linecolor\":\"rgb(36,36,36)\",\"showgrid\":false,\"showline\":true,\"ticks\":\"outside\"}},\"scene\":{\"xaxis\":{\"backgroundcolor\":\"white\",\"gridcolor\":\"rgb(232,232,232)\",\"gridwidth\":2,\"linecolor\":\"rgb(36,36,36)\",\"showbackground\":true,\"showgrid\":false,\"showline\":true,\"ticks\":\"outside\",\"zeroline\":false,\"zerolinecolor\":\"rgb(36,36,36)\"},\"yaxis\":{\"backgroundcolor\":\"white\",\"gridcolor\":\"rgb(232,232,232)\",\"gridwidth\":2,\"linecolor\":\"rgb(36,36,36)\",\"showbackground\":true,\"showgrid\":false,\"showline\":true,\"ticks\":\"outside\",\"zeroline\":false,\"zerolinecolor\":\"rgb(36,36,36)\"},\"zaxis\":{\"backgroundcolor\":\"white\",\"gridcolor\":\"rgb(232,232,232)\",\"gridwidth\":2,\"linecolor\":\"rgb(36,36,36)\",\"showbackground\":true,\"showgrid\":false,\"showline\":true,\"ticks\":\"outside\",\"zeroline\":false,\"zerolinecolor\":\"rgb(36,36,36)\"}},\"shapedefaults\":{\"fillcolor\":\"black\",\"line\":{\"width\":0},\"opacity\":0.3},\"ternary\":{\"aaxis\":{\"gridcolor\":\"rgb(232,232,232)\",\"linecolor\":\"rgb(36,36,36)\",\"showgrid\":false,\"showline\":true,\"ticks\":\"outside\"},\"baxis\":{\"gridcolor\":\"rgb(232,232,232)\",\"linecolor\":\"rgb(36,36,36)\",\"showgrid\":false,\"showline\":true,\"ticks\":\"outside\"},\"bgcolor\":\"white\",\"caxis\":{\"gridcolor\":\"rgb(232,232,232)\",\"linecolor\":\"rgb(36,36,36)\",\"showgrid\":false,\"showline\":true,\"ticks\":\"outside\"}},\"title\":{\"x\":0.05},\"xaxis\":{\"automargin\":true,\"gridcolor\":\"rgb(232,232,232)\",\"linecolor\":\"rgb(36,36,36)\",\"showgrid\":false,\"showline\":true,\"ticks\":\"outside\",\"title\":{\"standoff\":15},\"zeroline\":false,\"zerolinecolor\":\"rgb(36,36,36)\"},\"yaxis\":{\"automargin\":true,\"gridcolor\":\"rgb(232,232,232)\",\"linecolor\":\"rgb(36,36,36)\",\"showgrid\":false,\"showline\":true,\"ticks\":\"outside\",\"title\":{\"standoff\":15},\"zeroline\":false,\"zerolinecolor\":\"rgb(36,36,36)\"}}},\"xaxis\":{\"anchor\":\"y\",\"domain\":[0.0,0.7363],\"title\":{\"text\":\"Secondary_ed_completion_percent\"}},\"yaxis\":{\"anchor\":\"x\",\"domain\":[0.0,0.7326],\"title\":{\"text\":\"Maternal_Death_Rate\"}},\"xaxis2\":{\"anchor\":\"y2\",\"domain\":[0.7413,1.0],\"matches\":\"x2\",\"showticklabels\":false,\"showline\":false,\"ticks\":\"\"},\"yaxis2\":{\"anchor\":\"x2\",\"domain\":[0.0,0.7326],\"matches\":\"y\",\"showticklabels\":false},\"xaxis3\":{\"anchor\":\"y3\",\"domain\":[0.0,0.7363],\"matches\":\"x\",\"showticklabels\":false},\"yaxis3\":{\"anchor\":\"x3\",\"domain\":[0.7426,1.0],\"matches\":\"y3\",\"showticklabels\":false,\"showline\":false,\"ticks\":\"\"},\"xaxis4\":{\"anchor\":\"y4\",\"domain\":[0.7413,1.0],\"matches\":\"x2\",\"showticklabels\":false,\"showline\":false,\"ticks\":\"\"},\"yaxis4\":{\"anchor\":\"x4\",\"domain\":[0.7426,1.0],\"matches\":\"y3\",\"showticklabels\":false,\"showline\":false,\"ticks\":\"\"},\"legend\":{\"title\":{\"text\":\"Year\"},\"tracegroupgap\":0},\"margin\":{\"t\":60}},                        {\"responsive\": true}                    ).then(function(){\n",
       "                            \n",
       "var gd = document.getElementById('6a2cc546-f2f0-443c-a704-6333d1a7e97c');\n",
       "var x = new MutationObserver(function (mutations, observer) {{\n",
       "        var display = window.getComputedStyle(gd).display;\n",
       "        if (!display || display === 'none') {{\n",
       "            console.log([gd, 'removed!']);\n",
       "            Plotly.purge(gd);\n",
       "            observer.disconnect();\n",
       "        }}\n",
       "}});\n",
       "\n",
       "// Listen for the removal of the full notebook cells\n",
       "var notebookContainer = gd.closest('#notebook-container');\n",
       "if (notebookContainer) {{\n",
       "    x.observe(notebookContainer, {childList: true});\n",
       "}}\n",
       "\n",
       "// Listen for the clearing of the current output cell\n",
       "var outputEl = gd.closest('.output');\n",
       "if (outputEl) {{\n",
       "    x.observe(outputEl, {childList: true});\n",
       "}}\n",
       "\n",
       "                        })                };                });            </script>        </div>"
      ]
     },
     "metadata": {},
     "output_type": "display_data"
    }
   ],
   "source": [
    "df = key_years.loc[(key_years['Sex'] == '_T')]\n",
    "fig = px.scatter(df,\n",
    "                 x=\"Secondary_ed_completion_percent\", \n",
    "                 y=\"Maternal_Death_Rate\", \n",
    "                 color=\"Year\", \n",
    "                 marginal_y=\"violin\",\n",
    "                 marginal_x=\"box\", \n",
    "                 template=\"simple_white\")\n",
    "fig.show()"
   ]
  },
  {
   "cell_type": "code",
   "execution_count": 74,
   "id": "db91193c",
   "metadata": {},
   "outputs": [
    {
     "data": {
      "application/vnd.plotly.v1+json": {
       "config": {
        "plotlyServerURL": "https://plot.ly"
       },
       "data": [
        {
         "hovertemplate": "Year=2005<br>Secondary_ed_completion_percent=%{x}<br>Maternal_Death_Rate=%{y}<extra></extra>",
         "legendgroup": "2005",
         "marker": {
          "color": "#1F77B4",
          "symbol": "circle"
         },
         "mode": "markers",
         "name": "2005",
         "orientation": "v",
         "showlegend": true,
         "type": "scatter",
         "x": [
          98.04,
          98.59,
          99.23,
          89.16,
          81.97,
          80.68,
          3.33,
          23.13122,
          31.80338,
          67.8643,
          20.05951,
          55.2,
          99.46,
          100,
          79.24,
          70.81,
          66.66166,
          61.13,
          98.81,
          7.87459,
          100,
          97.14,
          96.08,
          94.89,
          6.99714,
          25.82029,
          38.04,
          97.76,
          99.82,
          53.09,
          96.04,
          98.95,
          97.15,
          58.42,
          27.02675,
          99.11,
          95.33,
          97.05,
          97.99,
          45.96,
          93.57,
          100,
          78.53,
          66.15,
          75.03,
          91.94,
          84.65,
          6.37988,
          7.55447,
          98.11,
          9.76,
          56,
          90.98,
          99.31,
          88.93,
          99.35,
          73.58,
          60.90865
         ],
         "xaxis": "x",
         "y": [
          22,
          6,
          11,
          7,
          271,
          71,
          814,
          351,
          692,
          83,
          677,
          33,
          12,
          6,
          83,
          94,
          52,
          62,
          18,
          865,
          5,
          39,
          6,
          3,
          920,
          459,
          77,
          15,
          5,
          286,
          7,
          3,
          80,
          30,
          679,
          14,
          9,
          9,
          11,
          131,
          10,
          5,
          88,
          137,
          118,
          4,
          9,
          643,
          519,
          12,
          1760,
          10,
          5,
          5,
          43,
          33,
          113,
          685
         ],
         "yaxis": "y"
        },
        {
         "alignmentgroup": "True",
         "hovertemplate": "Year=2005<br>Secondary_ed_completion_percent=%{x}<extra></extra>",
         "legendgroup": "2005",
         "marker": {
          "color": "#1F77B4",
          "symbol": "circle"
         },
         "name": "2005",
         "notched": true,
         "offsetgroup": "2005",
         "showlegend": false,
         "type": "box",
         "x": [
          98.04,
          98.59,
          99.23,
          89.16,
          81.97,
          80.68,
          3.33,
          23.13122,
          31.80338,
          67.8643,
          20.05951,
          55.2,
          99.46,
          100,
          79.24,
          70.81,
          66.66166,
          61.13,
          98.81,
          7.87459,
          100,
          97.14,
          96.08,
          94.89,
          6.99714,
          25.82029,
          38.04,
          97.76,
          99.82,
          53.09,
          96.04,
          98.95,
          97.15,
          58.42,
          27.02675,
          99.11,
          95.33,
          97.05,
          97.99,
          45.96,
          93.57,
          100,
          78.53,
          66.15,
          75.03,
          91.94,
          84.65,
          6.37988,
          7.55447,
          98.11,
          9.76,
          56,
          90.98,
          99.31,
          88.93,
          99.35,
          73.58,
          60.90865
         ],
         "xaxis": "x3",
         "yaxis": "y3"
        },
        {
         "alignmentgroup": "True",
         "hovertemplate": "Year=2005<br>Maternal_Death_Rate=%{y}<extra></extra>",
         "legendgroup": "2005",
         "marker": {
          "color": "#1F77B4",
          "symbol": "circle"
         },
         "name": "2005",
         "offsetgroup": "2005",
         "scalegroup": "y",
         "showlegend": false,
         "type": "violin",
         "xaxis": "x2",
         "y": [
          22,
          6,
          11,
          7,
          271,
          71,
          814,
          351,
          692,
          83,
          677,
          33,
          12,
          6,
          83,
          94,
          52,
          62,
          18,
          865,
          5,
          39,
          6,
          3,
          920,
          459,
          77,
          15,
          5,
          286,
          7,
          3,
          80,
          30,
          679,
          14,
          9,
          9,
          11,
          131,
          10,
          5,
          88,
          137,
          118,
          4,
          9,
          643,
          519,
          12,
          1760,
          10,
          5,
          5,
          43,
          33,
          113,
          685
         ],
         "yaxis": "y2"
        },
        {
         "hovertemplate": "Year=2010<br>Secondary_ed_completion_percent=%{x}<br>Maternal_Death_Rate=%{y}<extra></extra>",
         "legendgroup": "2010",
         "marker": {
          "color": "#FF7F0E",
          "symbol": "circle"
         },
         "mode": "markers",
         "name": "2010",
         "orientation": "v",
         "showlegend": true,
         "type": "scatter",
         "x": [
          79.5377,
          99.53,
          37.63108,
          5.60088,
          8.35975,
          33.66059,
          99.31,
          6.98,
          85.83,
          77.36115,
          65.8,
          97.03,
          31.53256,
          85.55,
          80.6,
          66.73,
          51.87931,
          35.46075,
          52.21308,
          50.58,
          22.93859,
          13.11,
          84.04,
          90.15,
          61.12646,
          76.34011,
          70.71,
          82.7,
          77.77199,
          96.38949,
          14.39902,
          24.07,
          9.44369,
          52.56,
          54.72251,
          18.85489,
          71.44,
          83.56,
          40.77778,
          71.62492
         ],
         "xaxis": "x",
         "y": [
          51,
          5,
          247,
          385,
          665,
          248,
          11,
          1240,
          36,
          85,
          32,
          41,
          542,
          96,
          78,
          54,
          450,
          661,
          339,
          74,
          444,
          660,
          46,
          66,
          978,
          79,
          108,
          104,
          144,
          21,
          373,
          1360,
          1100,
          408,
          148,
          440,
          17,
          117,
          305,
          598
         ],
         "yaxis": "y"
        },
        {
         "alignmentgroup": "True",
         "hovertemplate": "Year=2010<br>Secondary_ed_completion_percent=%{x}<extra></extra>",
         "legendgroup": "2010",
         "marker": {
          "color": "#FF7F0E",
          "symbol": "circle"
         },
         "name": "2010",
         "notched": true,
         "offsetgroup": "2010",
         "showlegend": false,
         "type": "box",
         "x": [
          79.5377,
          99.53,
          37.63108,
          5.60088,
          8.35975,
          33.66059,
          99.31,
          6.98,
          85.83,
          77.36115,
          65.8,
          97.03,
          31.53256,
          85.55,
          80.6,
          66.73,
          51.87931,
          35.46075,
          52.21308,
          50.58,
          22.93859,
          13.11,
          84.04,
          90.15,
          61.12646,
          76.34011,
          70.71,
          82.7,
          77.77199,
          96.38949,
          14.39902,
          24.07,
          9.44369,
          52.56,
          54.72251,
          18.85489,
          71.44,
          83.56,
          40.77778,
          71.62492
         ],
         "xaxis": "x3",
         "yaxis": "y3"
        },
        {
         "alignmentgroup": "True",
         "hovertemplate": "Year=2010<br>Maternal_Death_Rate=%{y}<extra></extra>",
         "legendgroup": "2010",
         "marker": {
          "color": "#FF7F0E",
          "symbol": "circle"
         },
         "name": "2010",
         "offsetgroup": "2010",
         "scalegroup": "y",
         "showlegend": false,
         "type": "violin",
         "xaxis": "x2",
         "y": [
          51,
          5,
          247,
          385,
          665,
          248,
          11,
          1240,
          36,
          85,
          32,
          41,
          542,
          96,
          78,
          54,
          450,
          661,
          339,
          74,
          444,
          660,
          46,
          66,
          978,
          79,
          108,
          104,
          144,
          21,
          373,
          1360,
          1100,
          408,
          148,
          440,
          17,
          117,
          305,
          598
         ],
         "yaxis": "y2"
        },
        {
         "hovertemplate": "Year=2014<br>Secondary_ed_completion_percent=%{x}<br>Maternal_Death_Rate=%{y}<extra></extra>",
         "legendgroup": "2014",
         "marker": {
          "color": "#2CA02C",
          "symbol": "circle"
         },
         "mode": "markers",
         "name": "2014",
         "orientation": "v",
         "showlegend": true,
         "type": "scatter",
         "x": [
          97.67,
          55.49642,
          93.8,
          18.84101,
          87.16,
          90.26,
          92.78,
          39.58009,
          41.04289,
          9.9951,
          88.61,
          79.74,
          70.76,
          99.49,
          98.25063,
          98.57,
          99.29,
          89.24581,
          87.52,
          81.1179,
          73.2,
          98.39,
          54.33251,
          100,
          91.78,
          49.8326,
          98.42,
          47.99,
          13.90931,
          89.31146,
          55.96,
          98.41,
          100,
          98.2,
          98.94,
          74.89953,
          96.69311,
          99.73,
          34.43394,
          98.02,
          92.5,
          20.04,
          100,
          87.25,
          92.1989,
          62.8549,
          93.14,
          54.55,
          99,
          81.43,
          78.22,
          88.33,
          99.26,
          92.96,
          97.1,
          35.22582,
          18.78,
          98.09591,
          100,
          93.14,
          51.8191,
          99.36,
          98.74,
          18.57448,
          90.21989,
          73.69,
          85.17,
          73.96
         ],
         "xaxis": "x",
         "y": [
          5,
          214,
          6,
          432,
          175,
          62,
          11,
          189,
          564,
          1170,
          31,
          85,
          29,
          8,
          39,
          8,
          4,
          94,
          65,
          39,
          49,
          11,
          434,
          3,
          5,
          325,
          3,
          107,
          711,
          174,
          68,
          12,
          5,
          6,
          2,
          358,
          69,
          24,
          579,
          9,
          6,
          381,
          6,
          38,
          49,
          231,
          6,
          103,
          3,
          60,
          91,
          96,
          2,
          8,
          21,
          131,
          364,
          12,
          7,
          4,
          333,
          5,
          5,
          401,
          19,
          17,
          113,
          494
         ],
         "yaxis": "y"
        },
        {
         "alignmentgroup": "True",
         "hovertemplate": "Year=2014<br>Secondary_ed_completion_percent=%{x}<extra></extra>",
         "legendgroup": "2014",
         "marker": {
          "color": "#2CA02C",
          "symbol": "circle"
         },
         "name": "2014",
         "notched": true,
         "offsetgroup": "2014",
         "showlegend": false,
         "type": "box",
         "x": [
          97.67,
          55.49642,
          93.8,
          18.84101,
          87.16,
          90.26,
          92.78,
          39.58009,
          41.04289,
          9.9951,
          88.61,
          79.74,
          70.76,
          99.49,
          98.25063,
          98.57,
          99.29,
          89.24581,
          87.52,
          81.1179,
          73.2,
          98.39,
          54.33251,
          100,
          91.78,
          49.8326,
          98.42,
          47.99,
          13.90931,
          89.31146,
          55.96,
          98.41,
          100,
          98.2,
          98.94,
          74.89953,
          96.69311,
          99.73,
          34.43394,
          98.02,
          92.5,
          20.04,
          100,
          87.25,
          92.1989,
          62.8549,
          93.14,
          54.55,
          99,
          81.43,
          78.22,
          88.33,
          99.26,
          92.96,
          97.1,
          35.22582,
          18.78,
          98.09591,
          100,
          93.14,
          51.8191,
          99.36,
          98.74,
          18.57448,
          90.21989,
          73.69,
          85.17,
          73.96
         ],
         "xaxis": "x3",
         "yaxis": "y3"
        },
        {
         "alignmentgroup": "True",
         "hovertemplate": "Year=2014<br>Maternal_Death_Rate=%{y}<extra></extra>",
         "legendgroup": "2014",
         "marker": {
          "color": "#2CA02C",
          "symbol": "circle"
         },
         "name": "2014",
         "offsetgroup": "2014",
         "scalegroup": "y",
         "showlegend": false,
         "type": "violin",
         "xaxis": "x2",
         "y": [
          5,
          214,
          6,
          432,
          175,
          62,
          11,
          189,
          564,
          1170,
          31,
          85,
          29,
          8,
          39,
          8,
          4,
          94,
          65,
          39,
          49,
          11,
          434,
          3,
          5,
          325,
          3,
          107,
          711,
          174,
          68,
          12,
          5,
          6,
          2,
          358,
          69,
          24,
          579,
          9,
          6,
          381,
          6,
          38,
          49,
          231,
          6,
          103,
          3,
          60,
          91,
          96,
          2,
          8,
          21,
          131,
          364,
          12,
          7,
          4,
          333,
          5,
          5,
          401,
          19,
          17,
          113,
          494
         ],
         "yaxis": "y2"
        }
       ],
       "layout": {
        "legend": {
         "title": {
          "text": "Year"
         },
         "tracegroupgap": 0
        },
        "margin": {
         "t": 60
        },
        "template": {
         "data": {
          "bar": [
           {
            "error_x": {
             "color": "rgb(36,36,36)"
            },
            "error_y": {
             "color": "rgb(36,36,36)"
            },
            "marker": {
             "line": {
              "color": "white",
              "width": 0.5
             },
             "pattern": {
              "fillmode": "overlay",
              "size": 10,
              "solidity": 0.2
             }
            },
            "type": "bar"
           }
          ],
          "barpolar": [
           {
            "marker": {
             "line": {
              "color": "white",
              "width": 0.5
             },
             "pattern": {
              "fillmode": "overlay",
              "size": 10,
              "solidity": 0.2
             }
            },
            "type": "barpolar"
           }
          ],
          "carpet": [
           {
            "aaxis": {
             "endlinecolor": "rgb(36,36,36)",
             "gridcolor": "white",
             "linecolor": "white",
             "minorgridcolor": "white",
             "startlinecolor": "rgb(36,36,36)"
            },
            "baxis": {
             "endlinecolor": "rgb(36,36,36)",
             "gridcolor": "white",
             "linecolor": "white",
             "minorgridcolor": "white",
             "startlinecolor": "rgb(36,36,36)"
            },
            "type": "carpet"
           }
          ],
          "choropleth": [
           {
            "colorbar": {
             "outlinewidth": 1,
             "tickcolor": "rgb(36,36,36)",
             "ticks": "outside"
            },
            "type": "choropleth"
           }
          ],
          "contour": [
           {
            "colorbar": {
             "outlinewidth": 1,
             "tickcolor": "rgb(36,36,36)",
             "ticks": "outside"
            },
            "colorscale": [
             [
              0,
              "#440154"
             ],
             [
              0.1111111111111111,
              "#482878"
             ],
             [
              0.2222222222222222,
              "#3e4989"
             ],
             [
              0.3333333333333333,
              "#31688e"
             ],
             [
              0.4444444444444444,
              "#26828e"
             ],
             [
              0.5555555555555556,
              "#1f9e89"
             ],
             [
              0.6666666666666666,
              "#35b779"
             ],
             [
              0.7777777777777778,
              "#6ece58"
             ],
             [
              0.8888888888888888,
              "#b5de2b"
             ],
             [
              1,
              "#fde725"
             ]
            ],
            "type": "contour"
           }
          ],
          "contourcarpet": [
           {
            "colorbar": {
             "outlinewidth": 1,
             "tickcolor": "rgb(36,36,36)",
             "ticks": "outside"
            },
            "type": "contourcarpet"
           }
          ],
          "heatmap": [
           {
            "colorbar": {
             "outlinewidth": 1,
             "tickcolor": "rgb(36,36,36)",
             "ticks": "outside"
            },
            "colorscale": [
             [
              0,
              "#440154"
             ],
             [
              0.1111111111111111,
              "#482878"
             ],
             [
              0.2222222222222222,
              "#3e4989"
             ],
             [
              0.3333333333333333,
              "#31688e"
             ],
             [
              0.4444444444444444,
              "#26828e"
             ],
             [
              0.5555555555555556,
              "#1f9e89"
             ],
             [
              0.6666666666666666,
              "#35b779"
             ],
             [
              0.7777777777777778,
              "#6ece58"
             ],
             [
              0.8888888888888888,
              "#b5de2b"
             ],
             [
              1,
              "#fde725"
             ]
            ],
            "type": "heatmap"
           }
          ],
          "heatmapgl": [
           {
            "colorbar": {
             "outlinewidth": 1,
             "tickcolor": "rgb(36,36,36)",
             "ticks": "outside"
            },
            "colorscale": [
             [
              0,
              "#440154"
             ],
             [
              0.1111111111111111,
              "#482878"
             ],
             [
              0.2222222222222222,
              "#3e4989"
             ],
             [
              0.3333333333333333,
              "#31688e"
             ],
             [
              0.4444444444444444,
              "#26828e"
             ],
             [
              0.5555555555555556,
              "#1f9e89"
             ],
             [
              0.6666666666666666,
              "#35b779"
             ],
             [
              0.7777777777777778,
              "#6ece58"
             ],
             [
              0.8888888888888888,
              "#b5de2b"
             ],
             [
              1,
              "#fde725"
             ]
            ],
            "type": "heatmapgl"
           }
          ],
          "histogram": [
           {
            "marker": {
             "line": {
              "color": "white",
              "width": 0.6
             }
            },
            "type": "histogram"
           }
          ],
          "histogram2d": [
           {
            "colorbar": {
             "outlinewidth": 1,
             "tickcolor": "rgb(36,36,36)",
             "ticks": "outside"
            },
            "colorscale": [
             [
              0,
              "#440154"
             ],
             [
              0.1111111111111111,
              "#482878"
             ],
             [
              0.2222222222222222,
              "#3e4989"
             ],
             [
              0.3333333333333333,
              "#31688e"
             ],
             [
              0.4444444444444444,
              "#26828e"
             ],
             [
              0.5555555555555556,
              "#1f9e89"
             ],
             [
              0.6666666666666666,
              "#35b779"
             ],
             [
              0.7777777777777778,
              "#6ece58"
             ],
             [
              0.8888888888888888,
              "#b5de2b"
             ],
             [
              1,
              "#fde725"
             ]
            ],
            "type": "histogram2d"
           }
          ],
          "histogram2dcontour": [
           {
            "colorbar": {
             "outlinewidth": 1,
             "tickcolor": "rgb(36,36,36)",
             "ticks": "outside"
            },
            "colorscale": [
             [
              0,
              "#440154"
             ],
             [
              0.1111111111111111,
              "#482878"
             ],
             [
              0.2222222222222222,
              "#3e4989"
             ],
             [
              0.3333333333333333,
              "#31688e"
             ],
             [
              0.4444444444444444,
              "#26828e"
             ],
             [
              0.5555555555555556,
              "#1f9e89"
             ],
             [
              0.6666666666666666,
              "#35b779"
             ],
             [
              0.7777777777777778,
              "#6ece58"
             ],
             [
              0.8888888888888888,
              "#b5de2b"
             ],
             [
              1,
              "#fde725"
             ]
            ],
            "type": "histogram2dcontour"
           }
          ],
          "mesh3d": [
           {
            "colorbar": {
             "outlinewidth": 1,
             "tickcolor": "rgb(36,36,36)",
             "ticks": "outside"
            },
            "type": "mesh3d"
           }
          ],
          "parcoords": [
           {
            "line": {
             "colorbar": {
              "outlinewidth": 1,
              "tickcolor": "rgb(36,36,36)",
              "ticks": "outside"
             }
            },
            "type": "parcoords"
           }
          ],
          "pie": [
           {
            "automargin": true,
            "type": "pie"
           }
          ],
          "scatter": [
           {
            "marker": {
             "colorbar": {
              "outlinewidth": 1,
              "tickcolor": "rgb(36,36,36)",
              "ticks": "outside"
             }
            },
            "type": "scatter"
           }
          ],
          "scatter3d": [
           {
            "line": {
             "colorbar": {
              "outlinewidth": 1,
              "tickcolor": "rgb(36,36,36)",
              "ticks": "outside"
             }
            },
            "marker": {
             "colorbar": {
              "outlinewidth": 1,
              "tickcolor": "rgb(36,36,36)",
              "ticks": "outside"
             }
            },
            "type": "scatter3d"
           }
          ],
          "scattercarpet": [
           {
            "marker": {
             "colorbar": {
              "outlinewidth": 1,
              "tickcolor": "rgb(36,36,36)",
              "ticks": "outside"
             }
            },
            "type": "scattercarpet"
           }
          ],
          "scattergeo": [
           {
            "marker": {
             "colorbar": {
              "outlinewidth": 1,
              "tickcolor": "rgb(36,36,36)",
              "ticks": "outside"
             }
            },
            "type": "scattergeo"
           }
          ],
          "scattergl": [
           {
            "marker": {
             "colorbar": {
              "outlinewidth": 1,
              "tickcolor": "rgb(36,36,36)",
              "ticks": "outside"
             }
            },
            "type": "scattergl"
           }
          ],
          "scattermapbox": [
           {
            "marker": {
             "colorbar": {
              "outlinewidth": 1,
              "tickcolor": "rgb(36,36,36)",
              "ticks": "outside"
             }
            },
            "type": "scattermapbox"
           }
          ],
          "scatterpolar": [
           {
            "marker": {
             "colorbar": {
              "outlinewidth": 1,
              "tickcolor": "rgb(36,36,36)",
              "ticks": "outside"
             }
            },
            "type": "scatterpolar"
           }
          ],
          "scatterpolargl": [
           {
            "marker": {
             "colorbar": {
              "outlinewidth": 1,
              "tickcolor": "rgb(36,36,36)",
              "ticks": "outside"
             }
            },
            "type": "scatterpolargl"
           }
          ],
          "scatterternary": [
           {
            "marker": {
             "colorbar": {
              "outlinewidth": 1,
              "tickcolor": "rgb(36,36,36)",
              "ticks": "outside"
             }
            },
            "type": "scatterternary"
           }
          ],
          "surface": [
           {
            "colorbar": {
             "outlinewidth": 1,
             "tickcolor": "rgb(36,36,36)",
             "ticks": "outside"
            },
            "colorscale": [
             [
              0,
              "#440154"
             ],
             [
              0.1111111111111111,
              "#482878"
             ],
             [
              0.2222222222222222,
              "#3e4989"
             ],
             [
              0.3333333333333333,
              "#31688e"
             ],
             [
              0.4444444444444444,
              "#26828e"
             ],
             [
              0.5555555555555556,
              "#1f9e89"
             ],
             [
              0.6666666666666666,
              "#35b779"
             ],
             [
              0.7777777777777778,
              "#6ece58"
             ],
             [
              0.8888888888888888,
              "#b5de2b"
             ],
             [
              1,
              "#fde725"
             ]
            ],
            "type": "surface"
           }
          ],
          "table": [
           {
            "cells": {
             "fill": {
              "color": "rgb(237,237,237)"
             },
             "line": {
              "color": "white"
             }
            },
            "header": {
             "fill": {
              "color": "rgb(217,217,217)"
             },
             "line": {
              "color": "white"
             }
            },
            "type": "table"
           }
          ]
         },
         "layout": {
          "annotationdefaults": {
           "arrowhead": 0,
           "arrowwidth": 1
          },
          "autotypenumbers": "strict",
          "coloraxis": {
           "colorbar": {
            "outlinewidth": 1,
            "tickcolor": "rgb(36,36,36)",
            "ticks": "outside"
           }
          },
          "colorscale": {
           "diverging": [
            [
             0,
             "rgb(103,0,31)"
            ],
            [
             0.1,
             "rgb(178,24,43)"
            ],
            [
             0.2,
             "rgb(214,96,77)"
            ],
            [
             0.3,
             "rgb(244,165,130)"
            ],
            [
             0.4,
             "rgb(253,219,199)"
            ],
            [
             0.5,
             "rgb(247,247,247)"
            ],
            [
             0.6,
             "rgb(209,229,240)"
            ],
            [
             0.7,
             "rgb(146,197,222)"
            ],
            [
             0.8,
             "rgb(67,147,195)"
            ],
            [
             0.9,
             "rgb(33,102,172)"
            ],
            [
             1,
             "rgb(5,48,97)"
            ]
           ],
           "sequential": [
            [
             0,
             "#440154"
            ],
            [
             0.1111111111111111,
             "#482878"
            ],
            [
             0.2222222222222222,
             "#3e4989"
            ],
            [
             0.3333333333333333,
             "#31688e"
            ],
            [
             0.4444444444444444,
             "#26828e"
            ],
            [
             0.5555555555555556,
             "#1f9e89"
            ],
            [
             0.6666666666666666,
             "#35b779"
            ],
            [
             0.7777777777777778,
             "#6ece58"
            ],
            [
             0.8888888888888888,
             "#b5de2b"
            ],
            [
             1,
             "#fde725"
            ]
           ],
           "sequentialminus": [
            [
             0,
             "#440154"
            ],
            [
             0.1111111111111111,
             "#482878"
            ],
            [
             0.2222222222222222,
             "#3e4989"
            ],
            [
             0.3333333333333333,
             "#31688e"
            ],
            [
             0.4444444444444444,
             "#26828e"
            ],
            [
             0.5555555555555556,
             "#1f9e89"
            ],
            [
             0.6666666666666666,
             "#35b779"
            ],
            [
             0.7777777777777778,
             "#6ece58"
            ],
            [
             0.8888888888888888,
             "#b5de2b"
            ],
            [
             1,
             "#fde725"
            ]
           ]
          },
          "colorway": [
           "#1F77B4",
           "#FF7F0E",
           "#2CA02C",
           "#D62728",
           "#9467BD",
           "#8C564B",
           "#E377C2",
           "#7F7F7F",
           "#BCBD22",
           "#17BECF"
          ],
          "font": {
           "color": "rgb(36,36,36)"
          },
          "geo": {
           "bgcolor": "white",
           "lakecolor": "white",
           "landcolor": "white",
           "showlakes": true,
           "showland": true,
           "subunitcolor": "white"
          },
          "hoverlabel": {
           "align": "left"
          },
          "hovermode": "closest",
          "mapbox": {
           "style": "light"
          },
          "paper_bgcolor": "white",
          "plot_bgcolor": "white",
          "polar": {
           "angularaxis": {
            "gridcolor": "rgb(232,232,232)",
            "linecolor": "rgb(36,36,36)",
            "showgrid": false,
            "showline": true,
            "ticks": "outside"
           },
           "bgcolor": "white",
           "radialaxis": {
            "gridcolor": "rgb(232,232,232)",
            "linecolor": "rgb(36,36,36)",
            "showgrid": false,
            "showline": true,
            "ticks": "outside"
           }
          },
          "scene": {
           "xaxis": {
            "backgroundcolor": "white",
            "gridcolor": "rgb(232,232,232)",
            "gridwidth": 2,
            "linecolor": "rgb(36,36,36)",
            "showbackground": true,
            "showgrid": false,
            "showline": true,
            "ticks": "outside",
            "zeroline": false,
            "zerolinecolor": "rgb(36,36,36)"
           },
           "yaxis": {
            "backgroundcolor": "white",
            "gridcolor": "rgb(232,232,232)",
            "gridwidth": 2,
            "linecolor": "rgb(36,36,36)",
            "showbackground": true,
            "showgrid": false,
            "showline": true,
            "ticks": "outside",
            "zeroline": false,
            "zerolinecolor": "rgb(36,36,36)"
           },
           "zaxis": {
            "backgroundcolor": "white",
            "gridcolor": "rgb(232,232,232)",
            "gridwidth": 2,
            "linecolor": "rgb(36,36,36)",
            "showbackground": true,
            "showgrid": false,
            "showline": true,
            "ticks": "outside",
            "zeroline": false,
            "zerolinecolor": "rgb(36,36,36)"
           }
          },
          "shapedefaults": {
           "fillcolor": "black",
           "line": {
            "width": 0
           },
           "opacity": 0.3
          },
          "ternary": {
           "aaxis": {
            "gridcolor": "rgb(232,232,232)",
            "linecolor": "rgb(36,36,36)",
            "showgrid": false,
            "showline": true,
            "ticks": "outside"
           },
           "baxis": {
            "gridcolor": "rgb(232,232,232)",
            "linecolor": "rgb(36,36,36)",
            "showgrid": false,
            "showline": true,
            "ticks": "outside"
           },
           "bgcolor": "white",
           "caxis": {
            "gridcolor": "rgb(232,232,232)",
            "linecolor": "rgb(36,36,36)",
            "showgrid": false,
            "showline": true,
            "ticks": "outside"
           }
          },
          "title": {
           "x": 0.05
          },
          "xaxis": {
           "automargin": true,
           "gridcolor": "rgb(232,232,232)",
           "linecolor": "rgb(36,36,36)",
           "showgrid": false,
           "showline": true,
           "ticks": "outside",
           "title": {
            "standoff": 15
           },
           "zeroline": false,
           "zerolinecolor": "rgb(36,36,36)"
          },
          "yaxis": {
           "automargin": true,
           "gridcolor": "rgb(232,232,232)",
           "linecolor": "rgb(36,36,36)",
           "showgrid": false,
           "showline": true,
           "ticks": "outside",
           "title": {
            "standoff": 15
           },
           "zeroline": false,
           "zerolinecolor": "rgb(36,36,36)"
          }
         }
        },
        "xaxis": {
         "anchor": "y",
         "domain": [
          0,
          0.7363
         ],
         "title": {
          "text": "Secondary_ed_completion_percent"
         }
        },
        "xaxis2": {
         "anchor": "y2",
         "domain": [
          0.7413,
          1
         ],
         "matches": "x2",
         "showline": false,
         "showticklabels": false,
         "ticks": ""
        },
        "xaxis3": {
         "anchor": "y3",
         "domain": [
          0,
          0.7363
         ],
         "matches": "x",
         "showticklabels": false
        },
        "xaxis4": {
         "anchor": "y4",
         "domain": [
          0.7413,
          1
         ],
         "matches": "x2",
         "showline": false,
         "showticklabels": false,
         "ticks": ""
        },
        "yaxis": {
         "anchor": "x",
         "domain": [
          0,
          0.7326
         ],
         "title": {
          "text": "Maternal_Death_Rate"
         }
        },
        "yaxis2": {
         "anchor": "x2",
         "domain": [
          0,
          0.7326
         ],
         "matches": "y",
         "showticklabels": false
        },
        "yaxis3": {
         "anchor": "x3",
         "domain": [
          0.7426,
          1
         ],
         "matches": "y3",
         "showline": false,
         "showticklabels": false,
         "ticks": ""
        },
        "yaxis4": {
         "anchor": "x4",
         "domain": [
          0.7426,
          1
         ],
         "matches": "y3",
         "showline": false,
         "showticklabels": false,
         "ticks": ""
        }
       }
      },
      "text/html": [
       "<div>                            <div id=\"4661670d-c1e6-4e52-ac34-6faba7226c75\" class=\"plotly-graph-div\" style=\"height:525px; width:100%;\"></div>            <script type=\"text/javascript\">                require([\"plotly\"], function(Plotly) {                    window.PLOTLYENV=window.PLOTLYENV || {};                                    if (document.getElementById(\"4661670d-c1e6-4e52-ac34-6faba7226c75\")) {                    Plotly.newPlot(                        \"4661670d-c1e6-4e52-ac34-6faba7226c75\",                        [{\"hovertemplate\":\"Year=2005<br>Secondary_ed_completion_percent=%{x}<br>Maternal_Death_Rate=%{y}<extra></extra>\",\"legendgroup\":\"2005\",\"marker\":{\"color\":\"#1F77B4\",\"symbol\":\"circle\"},\"mode\":\"markers\",\"name\":\"2005\",\"orientation\":\"v\",\"showlegend\":true,\"x\":[98.04,98.59,99.23,89.16,81.97,80.68,3.33,23.13122,31.80338,67.8643,20.05951,55.2,99.46,100.0,79.24,70.81,66.66166,61.13,98.81,7.87459,100.0,97.14,96.08,94.89,6.99714,25.82029,38.04,97.76,99.82,53.09,96.04,98.95,97.15,58.42,27.02675,99.11,95.33,97.05,97.99,45.96,93.57,100.0,78.53,66.15,75.03,91.94,84.65,6.37988,7.55447,98.11,9.76,56.0,90.98,99.31,88.93,99.35,73.58,60.90865],\"xaxis\":\"x\",\"y\":[22.0,6.0,11.0,7.0,271.0,71.0,814.0,351.0,692.0,83.0,677.0,33.0,12.0,6.0,83.0,94.0,52.0,62.0,18.0,865.0,5.0,39.0,6.0,3.0,920.0,459.0,77.0,15.0,5.0,286.0,7.0,3.0,80.0,30.0,679.0,14.0,9.0,9.0,11.0,131.0,10.0,5.0,88.0,137.0,118.0,4.0,9.0,643.0,519.0,12.0,1760.0,10.0,5.0,5.0,43.0,33.0,113.0,685.0],\"yaxis\":\"y\",\"type\":\"scatter\"},{\"alignmentgroup\":\"True\",\"hovertemplate\":\"Year=2005<br>Secondary_ed_completion_percent=%{x}<extra></extra>\",\"legendgroup\":\"2005\",\"marker\":{\"color\":\"#1F77B4\",\"symbol\":\"circle\"},\"name\":\"2005\",\"notched\":true,\"offsetgroup\":\"2005\",\"showlegend\":false,\"x\":[98.04,98.59,99.23,89.16,81.97,80.68,3.33,23.13122,31.80338,67.8643,20.05951,55.2,99.46,100.0,79.24,70.81,66.66166,61.13,98.81,7.87459,100.0,97.14,96.08,94.89,6.99714,25.82029,38.04,97.76,99.82,53.09,96.04,98.95,97.15,58.42,27.02675,99.11,95.33,97.05,97.99,45.96,93.57,100.0,78.53,66.15,75.03,91.94,84.65,6.37988,7.55447,98.11,9.76,56.0,90.98,99.31,88.93,99.35,73.58,60.90865],\"xaxis\":\"x3\",\"yaxis\":\"y3\",\"type\":\"box\"},{\"alignmentgroup\":\"True\",\"hovertemplate\":\"Year=2005<br>Maternal_Death_Rate=%{y}<extra></extra>\",\"legendgroup\":\"2005\",\"marker\":{\"color\":\"#1F77B4\",\"symbol\":\"circle\"},\"name\":\"2005\",\"offsetgroup\":\"2005\",\"scalegroup\":\"y\",\"showlegend\":false,\"xaxis\":\"x2\",\"y\":[22.0,6.0,11.0,7.0,271.0,71.0,814.0,351.0,692.0,83.0,677.0,33.0,12.0,6.0,83.0,94.0,52.0,62.0,18.0,865.0,5.0,39.0,6.0,3.0,920.0,459.0,77.0,15.0,5.0,286.0,7.0,3.0,80.0,30.0,679.0,14.0,9.0,9.0,11.0,131.0,10.0,5.0,88.0,137.0,118.0,4.0,9.0,643.0,519.0,12.0,1760.0,10.0,5.0,5.0,43.0,33.0,113.0,685.0],\"yaxis\":\"y2\",\"type\":\"violin\"},{\"hovertemplate\":\"Year=2010<br>Secondary_ed_completion_percent=%{x}<br>Maternal_Death_Rate=%{y}<extra></extra>\",\"legendgroup\":\"2010\",\"marker\":{\"color\":\"#FF7F0E\",\"symbol\":\"circle\"},\"mode\":\"markers\",\"name\":\"2010\",\"orientation\":\"v\",\"showlegend\":true,\"x\":[79.5377,99.53,37.63108,5.60088,8.35975,33.66059,99.31,6.98,85.83,77.36115,65.8,97.03,31.53256,85.55,80.6,66.73,51.87931,35.46075,52.21308,50.58,22.93859,13.11,84.04,90.15,61.12646,76.34011,70.71,82.7,77.77199,96.38949,14.39902,24.07,9.44369,52.56,54.72251,18.85489,71.44,83.56,40.77778,71.62492],\"xaxis\":\"x\",\"y\":[51.0,5.0,247.0,385.0,665.0,248.0,11.0,1240.0,36.0,85.0,32.0,41.0,542.0,96.0,78.0,54.0,450.0,661.0,339.0,74.0,444.0,660.0,46.0,66.0,978.0,79.0,108.0,104.0,144.0,21.0,373.0,1360.0,1100.0,408.0,148.0,440.0,17.0,117.0,305.0,598.0],\"yaxis\":\"y\",\"type\":\"scatter\"},{\"alignmentgroup\":\"True\",\"hovertemplate\":\"Year=2010<br>Secondary_ed_completion_percent=%{x}<extra></extra>\",\"legendgroup\":\"2010\",\"marker\":{\"color\":\"#FF7F0E\",\"symbol\":\"circle\"},\"name\":\"2010\",\"notched\":true,\"offsetgroup\":\"2010\",\"showlegend\":false,\"x\":[79.5377,99.53,37.63108,5.60088,8.35975,33.66059,99.31,6.98,85.83,77.36115,65.8,97.03,31.53256,85.55,80.6,66.73,51.87931,35.46075,52.21308,50.58,22.93859,13.11,84.04,90.15,61.12646,76.34011,70.71,82.7,77.77199,96.38949,14.39902,24.07,9.44369,52.56,54.72251,18.85489,71.44,83.56,40.77778,71.62492],\"xaxis\":\"x3\",\"yaxis\":\"y3\",\"type\":\"box\"},{\"alignmentgroup\":\"True\",\"hovertemplate\":\"Year=2010<br>Maternal_Death_Rate=%{y}<extra></extra>\",\"legendgroup\":\"2010\",\"marker\":{\"color\":\"#FF7F0E\",\"symbol\":\"circle\"},\"name\":\"2010\",\"offsetgroup\":\"2010\",\"scalegroup\":\"y\",\"showlegend\":false,\"xaxis\":\"x2\",\"y\":[51.0,5.0,247.0,385.0,665.0,248.0,11.0,1240.0,36.0,85.0,32.0,41.0,542.0,96.0,78.0,54.0,450.0,661.0,339.0,74.0,444.0,660.0,46.0,66.0,978.0,79.0,108.0,104.0,144.0,21.0,373.0,1360.0,1100.0,408.0,148.0,440.0,17.0,117.0,305.0,598.0],\"yaxis\":\"y2\",\"type\":\"violin\"},{\"hovertemplate\":\"Year=2014<br>Secondary_ed_completion_percent=%{x}<br>Maternal_Death_Rate=%{y}<extra></extra>\",\"legendgroup\":\"2014\",\"marker\":{\"color\":\"#2CA02C\",\"symbol\":\"circle\"},\"mode\":\"markers\",\"name\":\"2014\",\"orientation\":\"v\",\"showlegend\":true,\"x\":[97.67,55.49642,93.8,18.84101,87.16,90.26,92.78,39.58009,41.04289,9.9951,88.61,79.74,70.76,99.49,98.25063,98.57,99.29,89.24581,87.52,81.1179,73.2,98.39,54.33251,100.0,91.78,49.8326,98.42,47.99,13.90931,89.31146,55.96,98.41,100.0,98.2,98.94,74.89953,96.69311,99.73,34.43394,98.02,92.5,20.04,100.0,87.25,92.1989,62.8549,93.14,54.55,99.0,81.43,78.22,88.33,99.26,92.96,97.1,35.22582,18.78,98.09591,100.0,93.14,51.8191,99.36,98.74,18.57448,90.21989,73.69,85.17,73.96],\"xaxis\":\"x\",\"y\":[5.0,214.0,6.0,432.0,175.0,62.0,11.0,189.0,564.0,1170.0,31.0,85.0,29.0,8.0,39.0,8.0,4.0,94.0,65.0,39.0,49.0,11.0,434.0,3.0,5.0,325.0,3.0,107.0,711.0,174.0,68.0,12.0,5.0,6.0,2.0,358.0,69.0,24.0,579.0,9.0,6.0,381.0,6.0,38.0,49.0,231.0,6.0,103.0,3.0,60.0,91.0,96.0,2.0,8.0,21.0,131.0,364.0,12.0,7.0,4.0,333.0,5.0,5.0,401.0,19.0,17.0,113.0,494.0],\"yaxis\":\"y\",\"type\":\"scatter\"},{\"alignmentgroup\":\"True\",\"hovertemplate\":\"Year=2014<br>Secondary_ed_completion_percent=%{x}<extra></extra>\",\"legendgroup\":\"2014\",\"marker\":{\"color\":\"#2CA02C\",\"symbol\":\"circle\"},\"name\":\"2014\",\"notched\":true,\"offsetgroup\":\"2014\",\"showlegend\":false,\"x\":[97.67,55.49642,93.8,18.84101,87.16,90.26,92.78,39.58009,41.04289,9.9951,88.61,79.74,70.76,99.49,98.25063,98.57,99.29,89.24581,87.52,81.1179,73.2,98.39,54.33251,100.0,91.78,49.8326,98.42,47.99,13.90931,89.31146,55.96,98.41,100.0,98.2,98.94,74.89953,96.69311,99.73,34.43394,98.02,92.5,20.04,100.0,87.25,92.1989,62.8549,93.14,54.55,99.0,81.43,78.22,88.33,99.26,92.96,97.1,35.22582,18.78,98.09591,100.0,93.14,51.8191,99.36,98.74,18.57448,90.21989,73.69,85.17,73.96],\"xaxis\":\"x3\",\"yaxis\":\"y3\",\"type\":\"box\"},{\"alignmentgroup\":\"True\",\"hovertemplate\":\"Year=2014<br>Maternal_Death_Rate=%{y}<extra></extra>\",\"legendgroup\":\"2014\",\"marker\":{\"color\":\"#2CA02C\",\"symbol\":\"circle\"},\"name\":\"2014\",\"offsetgroup\":\"2014\",\"scalegroup\":\"y\",\"showlegend\":false,\"xaxis\":\"x2\",\"y\":[5.0,214.0,6.0,432.0,175.0,62.0,11.0,189.0,564.0,1170.0,31.0,85.0,29.0,8.0,39.0,8.0,4.0,94.0,65.0,39.0,49.0,11.0,434.0,3.0,5.0,325.0,3.0,107.0,711.0,174.0,68.0,12.0,5.0,6.0,2.0,358.0,69.0,24.0,579.0,9.0,6.0,381.0,6.0,38.0,49.0,231.0,6.0,103.0,3.0,60.0,91.0,96.0,2.0,8.0,21.0,131.0,364.0,12.0,7.0,4.0,333.0,5.0,5.0,401.0,19.0,17.0,113.0,494.0],\"yaxis\":\"y2\",\"type\":\"violin\"}],                        {\"template\":{\"data\":{\"barpolar\":[{\"marker\":{\"line\":{\"color\":\"white\",\"width\":0.5},\"pattern\":{\"fillmode\":\"overlay\",\"size\":10,\"solidity\":0.2}},\"type\":\"barpolar\"}],\"bar\":[{\"error_x\":{\"color\":\"rgb(36,36,36)\"},\"error_y\":{\"color\":\"rgb(36,36,36)\"},\"marker\":{\"line\":{\"color\":\"white\",\"width\":0.5},\"pattern\":{\"fillmode\":\"overlay\",\"size\":10,\"solidity\":0.2}},\"type\":\"bar\"}],\"carpet\":[{\"aaxis\":{\"endlinecolor\":\"rgb(36,36,36)\",\"gridcolor\":\"white\",\"linecolor\":\"white\",\"minorgridcolor\":\"white\",\"startlinecolor\":\"rgb(36,36,36)\"},\"baxis\":{\"endlinecolor\":\"rgb(36,36,36)\",\"gridcolor\":\"white\",\"linecolor\":\"white\",\"minorgridcolor\":\"white\",\"startlinecolor\":\"rgb(36,36,36)\"},\"type\":\"carpet\"}],\"choropleth\":[{\"colorbar\":{\"outlinewidth\":1,\"tickcolor\":\"rgb(36,36,36)\",\"ticks\":\"outside\"},\"type\":\"choropleth\"}],\"contourcarpet\":[{\"colorbar\":{\"outlinewidth\":1,\"tickcolor\":\"rgb(36,36,36)\",\"ticks\":\"outside\"},\"type\":\"contourcarpet\"}],\"contour\":[{\"colorbar\":{\"outlinewidth\":1,\"tickcolor\":\"rgb(36,36,36)\",\"ticks\":\"outside\"},\"colorscale\":[[0.0,\"#440154\"],[0.1111111111111111,\"#482878\"],[0.2222222222222222,\"#3e4989\"],[0.3333333333333333,\"#31688e\"],[0.4444444444444444,\"#26828e\"],[0.5555555555555556,\"#1f9e89\"],[0.6666666666666666,\"#35b779\"],[0.7777777777777778,\"#6ece58\"],[0.8888888888888888,\"#b5de2b\"],[1.0,\"#fde725\"]],\"type\":\"contour\"}],\"heatmapgl\":[{\"colorbar\":{\"outlinewidth\":1,\"tickcolor\":\"rgb(36,36,36)\",\"ticks\":\"outside\"},\"colorscale\":[[0.0,\"#440154\"],[0.1111111111111111,\"#482878\"],[0.2222222222222222,\"#3e4989\"],[0.3333333333333333,\"#31688e\"],[0.4444444444444444,\"#26828e\"],[0.5555555555555556,\"#1f9e89\"],[0.6666666666666666,\"#35b779\"],[0.7777777777777778,\"#6ece58\"],[0.8888888888888888,\"#b5de2b\"],[1.0,\"#fde725\"]],\"type\":\"heatmapgl\"}],\"heatmap\":[{\"colorbar\":{\"outlinewidth\":1,\"tickcolor\":\"rgb(36,36,36)\",\"ticks\":\"outside\"},\"colorscale\":[[0.0,\"#440154\"],[0.1111111111111111,\"#482878\"],[0.2222222222222222,\"#3e4989\"],[0.3333333333333333,\"#31688e\"],[0.4444444444444444,\"#26828e\"],[0.5555555555555556,\"#1f9e89\"],[0.6666666666666666,\"#35b779\"],[0.7777777777777778,\"#6ece58\"],[0.8888888888888888,\"#b5de2b\"],[1.0,\"#fde725\"]],\"type\":\"heatmap\"}],\"histogram2dcontour\":[{\"colorbar\":{\"outlinewidth\":1,\"tickcolor\":\"rgb(36,36,36)\",\"ticks\":\"outside\"},\"colorscale\":[[0.0,\"#440154\"],[0.1111111111111111,\"#482878\"],[0.2222222222222222,\"#3e4989\"],[0.3333333333333333,\"#31688e\"],[0.4444444444444444,\"#26828e\"],[0.5555555555555556,\"#1f9e89\"],[0.6666666666666666,\"#35b779\"],[0.7777777777777778,\"#6ece58\"],[0.8888888888888888,\"#b5de2b\"],[1.0,\"#fde725\"]],\"type\":\"histogram2dcontour\"}],\"histogram2d\":[{\"colorbar\":{\"outlinewidth\":1,\"tickcolor\":\"rgb(36,36,36)\",\"ticks\":\"outside\"},\"colorscale\":[[0.0,\"#440154\"],[0.1111111111111111,\"#482878\"],[0.2222222222222222,\"#3e4989\"],[0.3333333333333333,\"#31688e\"],[0.4444444444444444,\"#26828e\"],[0.5555555555555556,\"#1f9e89\"],[0.6666666666666666,\"#35b779\"],[0.7777777777777778,\"#6ece58\"],[0.8888888888888888,\"#b5de2b\"],[1.0,\"#fde725\"]],\"type\":\"histogram2d\"}],\"histogram\":[{\"marker\":{\"line\":{\"color\":\"white\",\"width\":0.6}},\"type\":\"histogram\"}],\"mesh3d\":[{\"colorbar\":{\"outlinewidth\":1,\"tickcolor\":\"rgb(36,36,36)\",\"ticks\":\"outside\"},\"type\":\"mesh3d\"}],\"parcoords\":[{\"line\":{\"colorbar\":{\"outlinewidth\":1,\"tickcolor\":\"rgb(36,36,36)\",\"ticks\":\"outside\"}},\"type\":\"parcoords\"}],\"pie\":[{\"automargin\":true,\"type\":\"pie\"}],\"scatter3d\":[{\"line\":{\"colorbar\":{\"outlinewidth\":1,\"tickcolor\":\"rgb(36,36,36)\",\"ticks\":\"outside\"}},\"marker\":{\"colorbar\":{\"outlinewidth\":1,\"tickcolor\":\"rgb(36,36,36)\",\"ticks\":\"outside\"}},\"type\":\"scatter3d\"}],\"scattercarpet\":[{\"marker\":{\"colorbar\":{\"outlinewidth\":1,\"tickcolor\":\"rgb(36,36,36)\",\"ticks\":\"outside\"}},\"type\":\"scattercarpet\"}],\"scattergeo\":[{\"marker\":{\"colorbar\":{\"outlinewidth\":1,\"tickcolor\":\"rgb(36,36,36)\",\"ticks\":\"outside\"}},\"type\":\"scattergeo\"}],\"scattergl\":[{\"marker\":{\"colorbar\":{\"outlinewidth\":1,\"tickcolor\":\"rgb(36,36,36)\",\"ticks\":\"outside\"}},\"type\":\"scattergl\"}],\"scattermapbox\":[{\"marker\":{\"colorbar\":{\"outlinewidth\":1,\"tickcolor\":\"rgb(36,36,36)\",\"ticks\":\"outside\"}},\"type\":\"scattermapbox\"}],\"scatterpolargl\":[{\"marker\":{\"colorbar\":{\"outlinewidth\":1,\"tickcolor\":\"rgb(36,36,36)\",\"ticks\":\"outside\"}},\"type\":\"scatterpolargl\"}],\"scatterpolar\":[{\"marker\":{\"colorbar\":{\"outlinewidth\":1,\"tickcolor\":\"rgb(36,36,36)\",\"ticks\":\"outside\"}},\"type\":\"scatterpolar\"}],\"scatter\":[{\"marker\":{\"colorbar\":{\"outlinewidth\":1,\"tickcolor\":\"rgb(36,36,36)\",\"ticks\":\"outside\"}},\"type\":\"scatter\"}],\"scatterternary\":[{\"marker\":{\"colorbar\":{\"outlinewidth\":1,\"tickcolor\":\"rgb(36,36,36)\",\"ticks\":\"outside\"}},\"type\":\"scatterternary\"}],\"surface\":[{\"colorbar\":{\"outlinewidth\":1,\"tickcolor\":\"rgb(36,36,36)\",\"ticks\":\"outside\"},\"colorscale\":[[0.0,\"#440154\"],[0.1111111111111111,\"#482878\"],[0.2222222222222222,\"#3e4989\"],[0.3333333333333333,\"#31688e\"],[0.4444444444444444,\"#26828e\"],[0.5555555555555556,\"#1f9e89\"],[0.6666666666666666,\"#35b779\"],[0.7777777777777778,\"#6ece58\"],[0.8888888888888888,\"#b5de2b\"],[1.0,\"#fde725\"]],\"type\":\"surface\"}],\"table\":[{\"cells\":{\"fill\":{\"color\":\"rgb(237,237,237)\"},\"line\":{\"color\":\"white\"}},\"header\":{\"fill\":{\"color\":\"rgb(217,217,217)\"},\"line\":{\"color\":\"white\"}},\"type\":\"table\"}]},\"layout\":{\"annotationdefaults\":{\"arrowhead\":0,\"arrowwidth\":1},\"autotypenumbers\":\"strict\",\"coloraxis\":{\"colorbar\":{\"outlinewidth\":1,\"tickcolor\":\"rgb(36,36,36)\",\"ticks\":\"outside\"}},\"colorscale\":{\"diverging\":[[0.0,\"rgb(103,0,31)\"],[0.1,\"rgb(178,24,43)\"],[0.2,\"rgb(214,96,77)\"],[0.3,\"rgb(244,165,130)\"],[0.4,\"rgb(253,219,199)\"],[0.5,\"rgb(247,247,247)\"],[0.6,\"rgb(209,229,240)\"],[0.7,\"rgb(146,197,222)\"],[0.8,\"rgb(67,147,195)\"],[0.9,\"rgb(33,102,172)\"],[1.0,\"rgb(5,48,97)\"]],\"sequential\":[[0.0,\"#440154\"],[0.1111111111111111,\"#482878\"],[0.2222222222222222,\"#3e4989\"],[0.3333333333333333,\"#31688e\"],[0.4444444444444444,\"#26828e\"],[0.5555555555555556,\"#1f9e89\"],[0.6666666666666666,\"#35b779\"],[0.7777777777777778,\"#6ece58\"],[0.8888888888888888,\"#b5de2b\"],[1.0,\"#fde725\"]],\"sequentialminus\":[[0.0,\"#440154\"],[0.1111111111111111,\"#482878\"],[0.2222222222222222,\"#3e4989\"],[0.3333333333333333,\"#31688e\"],[0.4444444444444444,\"#26828e\"],[0.5555555555555556,\"#1f9e89\"],[0.6666666666666666,\"#35b779\"],[0.7777777777777778,\"#6ece58\"],[0.8888888888888888,\"#b5de2b\"],[1.0,\"#fde725\"]]},\"colorway\":[\"#1F77B4\",\"#FF7F0E\",\"#2CA02C\",\"#D62728\",\"#9467BD\",\"#8C564B\",\"#E377C2\",\"#7F7F7F\",\"#BCBD22\",\"#17BECF\"],\"font\":{\"color\":\"rgb(36,36,36)\"},\"geo\":{\"bgcolor\":\"white\",\"lakecolor\":\"white\",\"landcolor\":\"white\",\"showlakes\":true,\"showland\":true,\"subunitcolor\":\"white\"},\"hoverlabel\":{\"align\":\"left\"},\"hovermode\":\"closest\",\"mapbox\":{\"style\":\"light\"},\"paper_bgcolor\":\"white\",\"plot_bgcolor\":\"white\",\"polar\":{\"angularaxis\":{\"gridcolor\":\"rgb(232,232,232)\",\"linecolor\":\"rgb(36,36,36)\",\"showgrid\":false,\"showline\":true,\"ticks\":\"outside\"},\"bgcolor\":\"white\",\"radialaxis\":{\"gridcolor\":\"rgb(232,232,232)\",\"linecolor\":\"rgb(36,36,36)\",\"showgrid\":false,\"showline\":true,\"ticks\":\"outside\"}},\"scene\":{\"xaxis\":{\"backgroundcolor\":\"white\",\"gridcolor\":\"rgb(232,232,232)\",\"gridwidth\":2,\"linecolor\":\"rgb(36,36,36)\",\"showbackground\":true,\"showgrid\":false,\"showline\":true,\"ticks\":\"outside\",\"zeroline\":false,\"zerolinecolor\":\"rgb(36,36,36)\"},\"yaxis\":{\"backgroundcolor\":\"white\",\"gridcolor\":\"rgb(232,232,232)\",\"gridwidth\":2,\"linecolor\":\"rgb(36,36,36)\",\"showbackground\":true,\"showgrid\":false,\"showline\":true,\"ticks\":\"outside\",\"zeroline\":false,\"zerolinecolor\":\"rgb(36,36,36)\"},\"zaxis\":{\"backgroundcolor\":\"white\",\"gridcolor\":\"rgb(232,232,232)\",\"gridwidth\":2,\"linecolor\":\"rgb(36,36,36)\",\"showbackground\":true,\"showgrid\":false,\"showline\":true,\"ticks\":\"outside\",\"zeroline\":false,\"zerolinecolor\":\"rgb(36,36,36)\"}},\"shapedefaults\":{\"fillcolor\":\"black\",\"line\":{\"width\":0},\"opacity\":0.3},\"ternary\":{\"aaxis\":{\"gridcolor\":\"rgb(232,232,232)\",\"linecolor\":\"rgb(36,36,36)\",\"showgrid\":false,\"showline\":true,\"ticks\":\"outside\"},\"baxis\":{\"gridcolor\":\"rgb(232,232,232)\",\"linecolor\":\"rgb(36,36,36)\",\"showgrid\":false,\"showline\":true,\"ticks\":\"outside\"},\"bgcolor\":\"white\",\"caxis\":{\"gridcolor\":\"rgb(232,232,232)\",\"linecolor\":\"rgb(36,36,36)\",\"showgrid\":false,\"showline\":true,\"ticks\":\"outside\"}},\"title\":{\"x\":0.05},\"xaxis\":{\"automargin\":true,\"gridcolor\":\"rgb(232,232,232)\",\"linecolor\":\"rgb(36,36,36)\",\"showgrid\":false,\"showline\":true,\"ticks\":\"outside\",\"title\":{\"standoff\":15},\"zeroline\":false,\"zerolinecolor\":\"rgb(36,36,36)\"},\"yaxis\":{\"automargin\":true,\"gridcolor\":\"rgb(232,232,232)\",\"linecolor\":\"rgb(36,36,36)\",\"showgrid\":false,\"showline\":true,\"ticks\":\"outside\",\"title\":{\"standoff\":15},\"zeroline\":false,\"zerolinecolor\":\"rgb(36,36,36)\"}}},\"xaxis\":{\"anchor\":\"y\",\"domain\":[0.0,0.7363],\"title\":{\"text\":\"Secondary_ed_completion_percent\"}},\"yaxis\":{\"anchor\":\"x\",\"domain\":[0.0,0.7326],\"title\":{\"text\":\"Maternal_Death_Rate\"}},\"xaxis2\":{\"anchor\":\"y2\",\"domain\":[0.7413,1.0],\"matches\":\"x2\",\"showticklabels\":false,\"showline\":false,\"ticks\":\"\"},\"yaxis2\":{\"anchor\":\"x2\",\"domain\":[0.0,0.7326],\"matches\":\"y\",\"showticklabels\":false},\"xaxis3\":{\"anchor\":\"y3\",\"domain\":[0.0,0.7363],\"matches\":\"x\",\"showticklabels\":false},\"yaxis3\":{\"anchor\":\"x3\",\"domain\":[0.7426,1.0],\"matches\":\"y3\",\"showticklabels\":false,\"showline\":false,\"ticks\":\"\"},\"xaxis4\":{\"anchor\":\"y4\",\"domain\":[0.7413,1.0],\"matches\":\"x2\",\"showticklabels\":false,\"showline\":false,\"ticks\":\"\"},\"yaxis4\":{\"anchor\":\"x4\",\"domain\":[0.7426,1.0],\"matches\":\"y3\",\"showticklabels\":false,\"showline\":false,\"ticks\":\"\"},\"legend\":{\"title\":{\"text\":\"Year\"},\"tracegroupgap\":0},\"margin\":{\"t\":60}},                        {\"responsive\": true}                    ).then(function(){\n",
       "                            \n",
       "var gd = document.getElementById('4661670d-c1e6-4e52-ac34-6faba7226c75');\n",
       "var x = new MutationObserver(function (mutations, observer) {{\n",
       "        var display = window.getComputedStyle(gd).display;\n",
       "        if (!display || display === 'none') {{\n",
       "            console.log([gd, 'removed!']);\n",
       "            Plotly.purge(gd);\n",
       "            observer.disconnect();\n",
       "        }}\n",
       "}});\n",
       "\n",
       "// Listen for the removal of the full notebook cells\n",
       "var notebookContainer = gd.closest('#notebook-container');\n",
       "if (notebookContainer) {{\n",
       "    x.observe(notebookContainer, {childList: true});\n",
       "}}\n",
       "\n",
       "// Listen for the clearing of the current output cell\n",
       "var outputEl = gd.closest('.output');\n",
       "if (outputEl) {{\n",
       "    x.observe(outputEl, {childList: true});\n",
       "}}\n",
       "\n",
       "                        })                };                });            </script>        </div>"
      ]
     },
     "metadata": {},
     "output_type": "display_data"
    }
   ],
   "source": [
    "df = key_years.loc[(key_years['Sex'] == 'F')]\n",
    "fig = px.scatter(df,\n",
    "                 x=\"Secondary_ed_completion_percent\", \n",
    "                 y=\"Maternal_Death_Rate\", \n",
    "                 color=\"Year\", \n",
    "                 marginal_y=\"violin\",\n",
    "                 marginal_x=\"box\", \n",
    "                 template=\"simple_white\")\n",
    "fig.show()"
   ]
  },
  {
   "cell_type": "code",
   "execution_count": 75,
   "id": "3920d426",
   "metadata": {},
   "outputs": [
    {
     "data": {
      "application/vnd.plotly.v1+json": {
       "config": {
        "plotlyServerURL": "https://plot.ly"
       },
       "data": [
        {
         "hovertemplate": "Year=2005<br>Secondary_ed_completion_percent=%{x}<br>Maternal_Death_Rate=%{y}<extra></extra>",
         "legendgroup": "2005",
         "marker": {
          "color": "#1F77B4",
          "symbol": "circle"
         },
         "mode": "markers",
         "name": "2005",
         "orientation": "v",
         "showlegend": true,
         "type": "scatter",
         "x": [
          96.21,
          98.73,
          99.56,
          90.31,
          85.39,
          71.6,
          5.59,
          30.40622,
          42.05584,
          56.6317,
          23.77801,
          46.44,
          94.83,
          100,
          65.34,
          64.55,
          72.83817,
          58.72,
          95.19,
          10.94047,
          100,
          93.74,
          95.17,
          94.83,
          23.71289,
          29.44613,
          29.22,
          95.76,
          98.81,
          63.22,
          90.85,
          99.2,
          96.59,
          56.04,
          18.23215,
          98.83,
          82.88,
          97.82,
          95.63,
          31.79,
          94.39,
          100,
          68.48,
          61.94,
          77.49,
          88.48,
          76.42,
          5.42139,
          12.93822,
          96.22,
          23.19,
          56.33,
          90.01,
          98.8,
          83.8,
          97.8,
          60.89,
          63.00271
         ],
         "xaxis": "x",
         "y": [
          22,
          6,
          11,
          7,
          271,
          71,
          814,
          351,
          692,
          83,
          677,
          33,
          12,
          6,
          83,
          94,
          52,
          62,
          18,
          865,
          5,
          39,
          6,
          3,
          920,
          459,
          77,
          15,
          5,
          286,
          7,
          3,
          80,
          30,
          679,
          14,
          9,
          9,
          11,
          131,
          10,
          5,
          88,
          137,
          118,
          4,
          9,
          643,
          519,
          12,
          1760,
          10,
          5,
          5,
          43,
          33,
          113,
          685
         ],
         "yaxis": "y"
        },
        {
         "alignmentgroup": "True",
         "hovertemplate": "Year=2005<br>Secondary_ed_completion_percent=%{x}<extra></extra>",
         "legendgroup": "2005",
         "marker": {
          "color": "#1F77B4",
          "symbol": "circle"
         },
         "name": "2005",
         "notched": true,
         "offsetgroup": "2005",
         "showlegend": false,
         "type": "box",
         "x": [
          96.21,
          98.73,
          99.56,
          90.31,
          85.39,
          71.6,
          5.59,
          30.40622,
          42.05584,
          56.6317,
          23.77801,
          46.44,
          94.83,
          100,
          65.34,
          64.55,
          72.83817,
          58.72,
          95.19,
          10.94047,
          100,
          93.74,
          95.17,
          94.83,
          23.71289,
          29.44613,
          29.22,
          95.76,
          98.81,
          63.22,
          90.85,
          99.2,
          96.59,
          56.04,
          18.23215,
          98.83,
          82.88,
          97.82,
          95.63,
          31.79,
          94.39,
          100,
          68.48,
          61.94,
          77.49,
          88.48,
          76.42,
          5.42139,
          12.93822,
          96.22,
          23.19,
          56.33,
          90.01,
          98.8,
          83.8,
          97.8,
          60.89,
          63.00271
         ],
         "xaxis": "x3",
         "yaxis": "y3"
        },
        {
         "alignmentgroup": "True",
         "hovertemplate": "Year=2005<br>Maternal_Death_Rate=%{y}<extra></extra>",
         "legendgroup": "2005",
         "marker": {
          "color": "#1F77B4",
          "symbol": "circle"
         },
         "name": "2005",
         "offsetgroup": "2005",
         "scalegroup": "y",
         "showlegend": false,
         "type": "violin",
         "xaxis": "x2",
         "y": [
          22,
          6,
          11,
          7,
          271,
          71,
          814,
          351,
          692,
          83,
          677,
          33,
          12,
          6,
          83,
          94,
          52,
          62,
          18,
          865,
          5,
          39,
          6,
          3,
          920,
          459,
          77,
          15,
          5,
          286,
          7,
          3,
          80,
          30,
          679,
          14,
          9,
          9,
          11,
          131,
          10,
          5,
          88,
          137,
          118,
          4,
          9,
          643,
          519,
          12,
          1760,
          10,
          5,
          5,
          43,
          33,
          113,
          685
         ],
         "yaxis": "y2"
        },
        {
         "hovertemplate": "Year=2010<br>Secondary_ed_completion_percent=%{x}<br>Maternal_Death_Rate=%{y}<extra></extra>",
         "legendgroup": "2010",
         "marker": {
          "color": "#FF7F0E",
          "symbol": "circle"
         },
         "mode": "markers",
         "name": "2010",
         "orientation": "v",
         "showlegend": true,
         "type": "scatter",
         "x": [
          71.34426,
          98.82,
          40.07584,
          13.36606,
          16.1593,
          39.55294,
          99.69,
          17.67,
          84.05,
          67.51629,
          56.78,
          98.5,
          37.13108,
          73.38,
          77.45,
          63.68,
          42.87518,
          43.37741,
          51.5552,
          41.69,
          28.43114,
          27.68,
          78.99,
          80.27,
          64.85771,
          69.57312,
          68.87,
          82.71,
          64.58871,
          94.44388,
          16.53406,
          33.64,
          21.61109,
          61.57,
          37.51308,
          35.36054,
          56.17,
          73.42,
          46.62132,
          71.70381
         ],
         "xaxis": "x",
         "y": [
          51,
          5,
          247,
          385,
          665,
          248,
          11,
          1240,
          36,
          85,
          32,
          41,
          542,
          96,
          78,
          54,
          450,
          661,
          339,
          74,
          444,
          660,
          46,
          66,
          978,
          79,
          108,
          104,
          144,
          21,
          373,
          1360,
          1100,
          408,
          148,
          440,
          17,
          117,
          305,
          598
         ],
         "yaxis": "y"
        },
        {
         "alignmentgroup": "True",
         "hovertemplate": "Year=2010<br>Secondary_ed_completion_percent=%{x}<extra></extra>",
         "legendgroup": "2010",
         "marker": {
          "color": "#FF7F0E",
          "symbol": "circle"
         },
         "name": "2010",
         "notched": true,
         "offsetgroup": "2010",
         "showlegend": false,
         "type": "box",
         "x": [
          71.34426,
          98.82,
          40.07584,
          13.36606,
          16.1593,
          39.55294,
          99.69,
          17.67,
          84.05,
          67.51629,
          56.78,
          98.5,
          37.13108,
          73.38,
          77.45,
          63.68,
          42.87518,
          43.37741,
          51.5552,
          41.69,
          28.43114,
          27.68,
          78.99,
          80.27,
          64.85771,
          69.57312,
          68.87,
          82.71,
          64.58871,
          94.44388,
          16.53406,
          33.64,
          21.61109,
          61.57,
          37.51308,
          35.36054,
          56.17,
          73.42,
          46.62132,
          71.70381
         ],
         "xaxis": "x3",
         "yaxis": "y3"
        },
        {
         "alignmentgroup": "True",
         "hovertemplate": "Year=2010<br>Maternal_Death_Rate=%{y}<extra></extra>",
         "legendgroup": "2010",
         "marker": {
          "color": "#FF7F0E",
          "symbol": "circle"
         },
         "name": "2010",
         "offsetgroup": "2010",
         "scalegroup": "y",
         "showlegend": false,
         "type": "violin",
         "xaxis": "x2",
         "y": [
          51,
          5,
          247,
          385,
          665,
          248,
          11,
          1240,
          36,
          85,
          32,
          41,
          542,
          96,
          78,
          54,
          450,
          661,
          339,
          74,
          444,
          660,
          46,
          66,
          978,
          79,
          108,
          104,
          144,
          21,
          373,
          1360,
          1100,
          408,
          148,
          440,
          17,
          117,
          305,
          598
         ],
         "yaxis": "y2"
        },
        {
         "hovertemplate": "Year=2014<br>Secondary_ed_completion_percent=%{x}<br>Maternal_Death_Rate=%{y}<extra></extra>",
         "legendgroup": "2014",
         "marker": {
          "color": "#2CA02C",
          "symbol": "circle"
         },
         "mode": "markers",
         "name": "2014",
         "orientation": "v",
         "showlegend": true,
         "type": "scatter",
         "x": [
          99.62,
          54.14125,
          90.74,
          37.22481,
          86.33,
          83.45,
          92.31,
          41.42872,
          45.53938,
          18.23392,
          77.02,
          69.5,
          62.42,
          97.64,
          96.78097,
          100,
          98.75,
          76.54497,
          86.45,
          79.40681,
          71.75,
          97.13,
          47.09634,
          100,
          92.78,
          50.26851,
          100,
          49.49,
          20.17956,
          79.10921,
          41.06,
          98.63,
          100,
          95.31,
          99,
          66.09058,
          94.91455,
          97.8,
          18.431,
          98.79,
          88.42,
          23.5,
          98.42,
          85.38,
          87.30831,
          68.36629,
          95.03,
          45.01,
          99.77,
          73.82,
          75.24,
          86.45,
          96,
          94.86,
          94.91,
          32.41317,
          27.25,
          98.47713,
          100,
          93.44,
          50.56083,
          100,
          100,
          28.87005,
          94.32758,
          60.86,
          74.37,
          65.86
         ],
         "xaxis": "x",
         "y": [
          5,
          214,
          6,
          432,
          175,
          62,
          11,
          189,
          564,
          1170,
          31,
          85,
          29,
          8,
          39,
          8,
          4,
          94,
          65,
          39,
          49,
          11,
          434,
          3,
          5,
          325,
          3,
          107,
          711,
          174,
          68,
          12,
          5,
          6,
          2,
          358,
          69,
          24,
          579,
          9,
          6,
          381,
          6,
          38,
          49,
          231,
          6,
          103,
          3,
          60,
          91,
          96,
          2,
          8,
          21,
          131,
          364,
          12,
          7,
          4,
          333,
          5,
          5,
          401,
          19,
          17,
          113,
          494
         ],
         "yaxis": "y"
        },
        {
         "alignmentgroup": "True",
         "hovertemplate": "Year=2014<br>Secondary_ed_completion_percent=%{x}<extra></extra>",
         "legendgroup": "2014",
         "marker": {
          "color": "#2CA02C",
          "symbol": "circle"
         },
         "name": "2014",
         "notched": true,
         "offsetgroup": "2014",
         "showlegend": false,
         "type": "box",
         "x": [
          99.62,
          54.14125,
          90.74,
          37.22481,
          86.33,
          83.45,
          92.31,
          41.42872,
          45.53938,
          18.23392,
          77.02,
          69.5,
          62.42,
          97.64,
          96.78097,
          100,
          98.75,
          76.54497,
          86.45,
          79.40681,
          71.75,
          97.13,
          47.09634,
          100,
          92.78,
          50.26851,
          100,
          49.49,
          20.17956,
          79.10921,
          41.06,
          98.63,
          100,
          95.31,
          99,
          66.09058,
          94.91455,
          97.8,
          18.431,
          98.79,
          88.42,
          23.5,
          98.42,
          85.38,
          87.30831,
          68.36629,
          95.03,
          45.01,
          99.77,
          73.82,
          75.24,
          86.45,
          96,
          94.86,
          94.91,
          32.41317,
          27.25,
          98.47713,
          100,
          93.44,
          50.56083,
          100,
          100,
          28.87005,
          94.32758,
          60.86,
          74.37,
          65.86
         ],
         "xaxis": "x3",
         "yaxis": "y3"
        },
        {
         "alignmentgroup": "True",
         "hovertemplate": "Year=2014<br>Maternal_Death_Rate=%{y}<extra></extra>",
         "legendgroup": "2014",
         "marker": {
          "color": "#2CA02C",
          "symbol": "circle"
         },
         "name": "2014",
         "offsetgroup": "2014",
         "scalegroup": "y",
         "showlegend": false,
         "type": "violin",
         "xaxis": "x2",
         "y": [
          5,
          214,
          6,
          432,
          175,
          62,
          11,
          189,
          564,
          1170,
          31,
          85,
          29,
          8,
          39,
          8,
          4,
          94,
          65,
          39,
          49,
          11,
          434,
          3,
          5,
          325,
          3,
          107,
          711,
          174,
          68,
          12,
          5,
          6,
          2,
          358,
          69,
          24,
          579,
          9,
          6,
          381,
          6,
          38,
          49,
          231,
          6,
          103,
          3,
          60,
          91,
          96,
          2,
          8,
          21,
          131,
          364,
          12,
          7,
          4,
          333,
          5,
          5,
          401,
          19,
          17,
          113,
          494
         ],
         "yaxis": "y2"
        }
       ],
       "layout": {
        "legend": {
         "title": {
          "text": "Year"
         },
         "tracegroupgap": 0
        },
        "margin": {
         "t": 60
        },
        "template": {
         "data": {
          "bar": [
           {
            "error_x": {
             "color": "rgb(36,36,36)"
            },
            "error_y": {
             "color": "rgb(36,36,36)"
            },
            "marker": {
             "line": {
              "color": "white",
              "width": 0.5
             },
             "pattern": {
              "fillmode": "overlay",
              "size": 10,
              "solidity": 0.2
             }
            },
            "type": "bar"
           }
          ],
          "barpolar": [
           {
            "marker": {
             "line": {
              "color": "white",
              "width": 0.5
             },
             "pattern": {
              "fillmode": "overlay",
              "size": 10,
              "solidity": 0.2
             }
            },
            "type": "barpolar"
           }
          ],
          "carpet": [
           {
            "aaxis": {
             "endlinecolor": "rgb(36,36,36)",
             "gridcolor": "white",
             "linecolor": "white",
             "minorgridcolor": "white",
             "startlinecolor": "rgb(36,36,36)"
            },
            "baxis": {
             "endlinecolor": "rgb(36,36,36)",
             "gridcolor": "white",
             "linecolor": "white",
             "minorgridcolor": "white",
             "startlinecolor": "rgb(36,36,36)"
            },
            "type": "carpet"
           }
          ],
          "choropleth": [
           {
            "colorbar": {
             "outlinewidth": 1,
             "tickcolor": "rgb(36,36,36)",
             "ticks": "outside"
            },
            "type": "choropleth"
           }
          ],
          "contour": [
           {
            "colorbar": {
             "outlinewidth": 1,
             "tickcolor": "rgb(36,36,36)",
             "ticks": "outside"
            },
            "colorscale": [
             [
              0,
              "#440154"
             ],
             [
              0.1111111111111111,
              "#482878"
             ],
             [
              0.2222222222222222,
              "#3e4989"
             ],
             [
              0.3333333333333333,
              "#31688e"
             ],
             [
              0.4444444444444444,
              "#26828e"
             ],
             [
              0.5555555555555556,
              "#1f9e89"
             ],
             [
              0.6666666666666666,
              "#35b779"
             ],
             [
              0.7777777777777778,
              "#6ece58"
             ],
             [
              0.8888888888888888,
              "#b5de2b"
             ],
             [
              1,
              "#fde725"
             ]
            ],
            "type": "contour"
           }
          ],
          "contourcarpet": [
           {
            "colorbar": {
             "outlinewidth": 1,
             "tickcolor": "rgb(36,36,36)",
             "ticks": "outside"
            },
            "type": "contourcarpet"
           }
          ],
          "heatmap": [
           {
            "colorbar": {
             "outlinewidth": 1,
             "tickcolor": "rgb(36,36,36)",
             "ticks": "outside"
            },
            "colorscale": [
             [
              0,
              "#440154"
             ],
             [
              0.1111111111111111,
              "#482878"
             ],
             [
              0.2222222222222222,
              "#3e4989"
             ],
             [
              0.3333333333333333,
              "#31688e"
             ],
             [
              0.4444444444444444,
              "#26828e"
             ],
             [
              0.5555555555555556,
              "#1f9e89"
             ],
             [
              0.6666666666666666,
              "#35b779"
             ],
             [
              0.7777777777777778,
              "#6ece58"
             ],
             [
              0.8888888888888888,
              "#b5de2b"
             ],
             [
              1,
              "#fde725"
             ]
            ],
            "type": "heatmap"
           }
          ],
          "heatmapgl": [
           {
            "colorbar": {
             "outlinewidth": 1,
             "tickcolor": "rgb(36,36,36)",
             "ticks": "outside"
            },
            "colorscale": [
             [
              0,
              "#440154"
             ],
             [
              0.1111111111111111,
              "#482878"
             ],
             [
              0.2222222222222222,
              "#3e4989"
             ],
             [
              0.3333333333333333,
              "#31688e"
             ],
             [
              0.4444444444444444,
              "#26828e"
             ],
             [
              0.5555555555555556,
              "#1f9e89"
             ],
             [
              0.6666666666666666,
              "#35b779"
             ],
             [
              0.7777777777777778,
              "#6ece58"
             ],
             [
              0.8888888888888888,
              "#b5de2b"
             ],
             [
              1,
              "#fde725"
             ]
            ],
            "type": "heatmapgl"
           }
          ],
          "histogram": [
           {
            "marker": {
             "line": {
              "color": "white",
              "width": 0.6
             }
            },
            "type": "histogram"
           }
          ],
          "histogram2d": [
           {
            "colorbar": {
             "outlinewidth": 1,
             "tickcolor": "rgb(36,36,36)",
             "ticks": "outside"
            },
            "colorscale": [
             [
              0,
              "#440154"
             ],
             [
              0.1111111111111111,
              "#482878"
             ],
             [
              0.2222222222222222,
              "#3e4989"
             ],
             [
              0.3333333333333333,
              "#31688e"
             ],
             [
              0.4444444444444444,
              "#26828e"
             ],
             [
              0.5555555555555556,
              "#1f9e89"
             ],
             [
              0.6666666666666666,
              "#35b779"
             ],
             [
              0.7777777777777778,
              "#6ece58"
             ],
             [
              0.8888888888888888,
              "#b5de2b"
             ],
             [
              1,
              "#fde725"
             ]
            ],
            "type": "histogram2d"
           }
          ],
          "histogram2dcontour": [
           {
            "colorbar": {
             "outlinewidth": 1,
             "tickcolor": "rgb(36,36,36)",
             "ticks": "outside"
            },
            "colorscale": [
             [
              0,
              "#440154"
             ],
             [
              0.1111111111111111,
              "#482878"
             ],
             [
              0.2222222222222222,
              "#3e4989"
             ],
             [
              0.3333333333333333,
              "#31688e"
             ],
             [
              0.4444444444444444,
              "#26828e"
             ],
             [
              0.5555555555555556,
              "#1f9e89"
             ],
             [
              0.6666666666666666,
              "#35b779"
             ],
             [
              0.7777777777777778,
              "#6ece58"
             ],
             [
              0.8888888888888888,
              "#b5de2b"
             ],
             [
              1,
              "#fde725"
             ]
            ],
            "type": "histogram2dcontour"
           }
          ],
          "mesh3d": [
           {
            "colorbar": {
             "outlinewidth": 1,
             "tickcolor": "rgb(36,36,36)",
             "ticks": "outside"
            },
            "type": "mesh3d"
           }
          ],
          "parcoords": [
           {
            "line": {
             "colorbar": {
              "outlinewidth": 1,
              "tickcolor": "rgb(36,36,36)",
              "ticks": "outside"
             }
            },
            "type": "parcoords"
           }
          ],
          "pie": [
           {
            "automargin": true,
            "type": "pie"
           }
          ],
          "scatter": [
           {
            "marker": {
             "colorbar": {
              "outlinewidth": 1,
              "tickcolor": "rgb(36,36,36)",
              "ticks": "outside"
             }
            },
            "type": "scatter"
           }
          ],
          "scatter3d": [
           {
            "line": {
             "colorbar": {
              "outlinewidth": 1,
              "tickcolor": "rgb(36,36,36)",
              "ticks": "outside"
             }
            },
            "marker": {
             "colorbar": {
              "outlinewidth": 1,
              "tickcolor": "rgb(36,36,36)",
              "ticks": "outside"
             }
            },
            "type": "scatter3d"
           }
          ],
          "scattercarpet": [
           {
            "marker": {
             "colorbar": {
              "outlinewidth": 1,
              "tickcolor": "rgb(36,36,36)",
              "ticks": "outside"
             }
            },
            "type": "scattercarpet"
           }
          ],
          "scattergeo": [
           {
            "marker": {
             "colorbar": {
              "outlinewidth": 1,
              "tickcolor": "rgb(36,36,36)",
              "ticks": "outside"
             }
            },
            "type": "scattergeo"
           }
          ],
          "scattergl": [
           {
            "marker": {
             "colorbar": {
              "outlinewidth": 1,
              "tickcolor": "rgb(36,36,36)",
              "ticks": "outside"
             }
            },
            "type": "scattergl"
           }
          ],
          "scattermapbox": [
           {
            "marker": {
             "colorbar": {
              "outlinewidth": 1,
              "tickcolor": "rgb(36,36,36)",
              "ticks": "outside"
             }
            },
            "type": "scattermapbox"
           }
          ],
          "scatterpolar": [
           {
            "marker": {
             "colorbar": {
              "outlinewidth": 1,
              "tickcolor": "rgb(36,36,36)",
              "ticks": "outside"
             }
            },
            "type": "scatterpolar"
           }
          ],
          "scatterpolargl": [
           {
            "marker": {
             "colorbar": {
              "outlinewidth": 1,
              "tickcolor": "rgb(36,36,36)",
              "ticks": "outside"
             }
            },
            "type": "scatterpolargl"
           }
          ],
          "scatterternary": [
           {
            "marker": {
             "colorbar": {
              "outlinewidth": 1,
              "tickcolor": "rgb(36,36,36)",
              "ticks": "outside"
             }
            },
            "type": "scatterternary"
           }
          ],
          "surface": [
           {
            "colorbar": {
             "outlinewidth": 1,
             "tickcolor": "rgb(36,36,36)",
             "ticks": "outside"
            },
            "colorscale": [
             [
              0,
              "#440154"
             ],
             [
              0.1111111111111111,
              "#482878"
             ],
             [
              0.2222222222222222,
              "#3e4989"
             ],
             [
              0.3333333333333333,
              "#31688e"
             ],
             [
              0.4444444444444444,
              "#26828e"
             ],
             [
              0.5555555555555556,
              "#1f9e89"
             ],
             [
              0.6666666666666666,
              "#35b779"
             ],
             [
              0.7777777777777778,
              "#6ece58"
             ],
             [
              0.8888888888888888,
              "#b5de2b"
             ],
             [
              1,
              "#fde725"
             ]
            ],
            "type": "surface"
           }
          ],
          "table": [
           {
            "cells": {
             "fill": {
              "color": "rgb(237,237,237)"
             },
             "line": {
              "color": "white"
             }
            },
            "header": {
             "fill": {
              "color": "rgb(217,217,217)"
             },
             "line": {
              "color": "white"
             }
            },
            "type": "table"
           }
          ]
         },
         "layout": {
          "annotationdefaults": {
           "arrowhead": 0,
           "arrowwidth": 1
          },
          "autotypenumbers": "strict",
          "coloraxis": {
           "colorbar": {
            "outlinewidth": 1,
            "tickcolor": "rgb(36,36,36)",
            "ticks": "outside"
           }
          },
          "colorscale": {
           "diverging": [
            [
             0,
             "rgb(103,0,31)"
            ],
            [
             0.1,
             "rgb(178,24,43)"
            ],
            [
             0.2,
             "rgb(214,96,77)"
            ],
            [
             0.3,
             "rgb(244,165,130)"
            ],
            [
             0.4,
             "rgb(253,219,199)"
            ],
            [
             0.5,
             "rgb(247,247,247)"
            ],
            [
             0.6,
             "rgb(209,229,240)"
            ],
            [
             0.7,
             "rgb(146,197,222)"
            ],
            [
             0.8,
             "rgb(67,147,195)"
            ],
            [
             0.9,
             "rgb(33,102,172)"
            ],
            [
             1,
             "rgb(5,48,97)"
            ]
           ],
           "sequential": [
            [
             0,
             "#440154"
            ],
            [
             0.1111111111111111,
             "#482878"
            ],
            [
             0.2222222222222222,
             "#3e4989"
            ],
            [
             0.3333333333333333,
             "#31688e"
            ],
            [
             0.4444444444444444,
             "#26828e"
            ],
            [
             0.5555555555555556,
             "#1f9e89"
            ],
            [
             0.6666666666666666,
             "#35b779"
            ],
            [
             0.7777777777777778,
             "#6ece58"
            ],
            [
             0.8888888888888888,
             "#b5de2b"
            ],
            [
             1,
             "#fde725"
            ]
           ],
           "sequentialminus": [
            [
             0,
             "#440154"
            ],
            [
             0.1111111111111111,
             "#482878"
            ],
            [
             0.2222222222222222,
             "#3e4989"
            ],
            [
             0.3333333333333333,
             "#31688e"
            ],
            [
             0.4444444444444444,
             "#26828e"
            ],
            [
             0.5555555555555556,
             "#1f9e89"
            ],
            [
             0.6666666666666666,
             "#35b779"
            ],
            [
             0.7777777777777778,
             "#6ece58"
            ],
            [
             0.8888888888888888,
             "#b5de2b"
            ],
            [
             1,
             "#fde725"
            ]
           ]
          },
          "colorway": [
           "#1F77B4",
           "#FF7F0E",
           "#2CA02C",
           "#D62728",
           "#9467BD",
           "#8C564B",
           "#E377C2",
           "#7F7F7F",
           "#BCBD22",
           "#17BECF"
          ],
          "font": {
           "color": "rgb(36,36,36)"
          },
          "geo": {
           "bgcolor": "white",
           "lakecolor": "white",
           "landcolor": "white",
           "showlakes": true,
           "showland": true,
           "subunitcolor": "white"
          },
          "hoverlabel": {
           "align": "left"
          },
          "hovermode": "closest",
          "mapbox": {
           "style": "light"
          },
          "paper_bgcolor": "white",
          "plot_bgcolor": "white",
          "polar": {
           "angularaxis": {
            "gridcolor": "rgb(232,232,232)",
            "linecolor": "rgb(36,36,36)",
            "showgrid": false,
            "showline": true,
            "ticks": "outside"
           },
           "bgcolor": "white",
           "radialaxis": {
            "gridcolor": "rgb(232,232,232)",
            "linecolor": "rgb(36,36,36)",
            "showgrid": false,
            "showline": true,
            "ticks": "outside"
           }
          },
          "scene": {
           "xaxis": {
            "backgroundcolor": "white",
            "gridcolor": "rgb(232,232,232)",
            "gridwidth": 2,
            "linecolor": "rgb(36,36,36)",
            "showbackground": true,
            "showgrid": false,
            "showline": true,
            "ticks": "outside",
            "zeroline": false,
            "zerolinecolor": "rgb(36,36,36)"
           },
           "yaxis": {
            "backgroundcolor": "white",
            "gridcolor": "rgb(232,232,232)",
            "gridwidth": 2,
            "linecolor": "rgb(36,36,36)",
            "showbackground": true,
            "showgrid": false,
            "showline": true,
            "ticks": "outside",
            "zeroline": false,
            "zerolinecolor": "rgb(36,36,36)"
           },
           "zaxis": {
            "backgroundcolor": "white",
            "gridcolor": "rgb(232,232,232)",
            "gridwidth": 2,
            "linecolor": "rgb(36,36,36)",
            "showbackground": true,
            "showgrid": false,
            "showline": true,
            "ticks": "outside",
            "zeroline": false,
            "zerolinecolor": "rgb(36,36,36)"
           }
          },
          "shapedefaults": {
           "fillcolor": "black",
           "line": {
            "width": 0
           },
           "opacity": 0.3
          },
          "ternary": {
           "aaxis": {
            "gridcolor": "rgb(232,232,232)",
            "linecolor": "rgb(36,36,36)",
            "showgrid": false,
            "showline": true,
            "ticks": "outside"
           },
           "baxis": {
            "gridcolor": "rgb(232,232,232)",
            "linecolor": "rgb(36,36,36)",
            "showgrid": false,
            "showline": true,
            "ticks": "outside"
           },
           "bgcolor": "white",
           "caxis": {
            "gridcolor": "rgb(232,232,232)",
            "linecolor": "rgb(36,36,36)",
            "showgrid": false,
            "showline": true,
            "ticks": "outside"
           }
          },
          "title": {
           "x": 0.05
          },
          "xaxis": {
           "automargin": true,
           "gridcolor": "rgb(232,232,232)",
           "linecolor": "rgb(36,36,36)",
           "showgrid": false,
           "showline": true,
           "ticks": "outside",
           "title": {
            "standoff": 15
           },
           "zeroline": false,
           "zerolinecolor": "rgb(36,36,36)"
          },
          "yaxis": {
           "automargin": true,
           "gridcolor": "rgb(232,232,232)",
           "linecolor": "rgb(36,36,36)",
           "showgrid": false,
           "showline": true,
           "ticks": "outside",
           "title": {
            "standoff": 15
           },
           "zeroline": false,
           "zerolinecolor": "rgb(36,36,36)"
          }
         }
        },
        "xaxis": {
         "anchor": "y",
         "domain": [
          0,
          0.7363
         ],
         "title": {
          "text": "Secondary_ed_completion_percent"
         }
        },
        "xaxis2": {
         "anchor": "y2",
         "domain": [
          0.7413,
          1
         ],
         "matches": "x2",
         "showline": false,
         "showticklabels": false,
         "ticks": ""
        },
        "xaxis3": {
         "anchor": "y3",
         "domain": [
          0,
          0.7363
         ],
         "matches": "x",
         "showticklabels": false
        },
        "xaxis4": {
         "anchor": "y4",
         "domain": [
          0.7413,
          1
         ],
         "matches": "x2",
         "showline": false,
         "showticklabels": false,
         "ticks": ""
        },
        "yaxis": {
         "anchor": "x",
         "domain": [
          0,
          0.7326
         ],
         "title": {
          "text": "Maternal_Death_Rate"
         }
        },
        "yaxis2": {
         "anchor": "x2",
         "domain": [
          0,
          0.7326
         ],
         "matches": "y",
         "showticklabels": false
        },
        "yaxis3": {
         "anchor": "x3",
         "domain": [
          0.7426,
          1
         ],
         "matches": "y3",
         "showline": false,
         "showticklabels": false,
         "ticks": ""
        },
        "yaxis4": {
         "anchor": "x4",
         "domain": [
          0.7426,
          1
         ],
         "matches": "y3",
         "showline": false,
         "showticklabels": false,
         "ticks": ""
        }
       }
      },
      "text/html": [
       "<div>                            <div id=\"2178df43-141c-40f4-8001-7a63cfcf81b3\" class=\"plotly-graph-div\" style=\"height:525px; width:100%;\"></div>            <script type=\"text/javascript\">                require([\"plotly\"], function(Plotly) {                    window.PLOTLYENV=window.PLOTLYENV || {};                                    if (document.getElementById(\"2178df43-141c-40f4-8001-7a63cfcf81b3\")) {                    Plotly.newPlot(                        \"2178df43-141c-40f4-8001-7a63cfcf81b3\",                        [{\"hovertemplate\":\"Year=2005<br>Secondary_ed_completion_percent=%{x}<br>Maternal_Death_Rate=%{y}<extra></extra>\",\"legendgroup\":\"2005\",\"marker\":{\"color\":\"#1F77B4\",\"symbol\":\"circle\"},\"mode\":\"markers\",\"name\":\"2005\",\"orientation\":\"v\",\"showlegend\":true,\"x\":[96.21,98.73,99.56,90.31,85.39,71.6,5.59,30.40622,42.05584,56.6317,23.77801,46.44,94.83,100.0,65.34,64.55,72.83817,58.72,95.19,10.94047,100.0,93.74,95.17,94.83,23.71289,29.44613,29.22,95.76,98.81,63.22,90.85,99.2,96.59,56.04,18.23215,98.83,82.88,97.82,95.63,31.79,94.39,100.0,68.48,61.94,77.49,88.48,76.42,5.42139,12.93822,96.22,23.19,56.33,90.01,98.8,83.8,97.8,60.89,63.00271],\"xaxis\":\"x\",\"y\":[22.0,6.0,11.0,7.0,271.0,71.0,814.0,351.0,692.0,83.0,677.0,33.0,12.0,6.0,83.0,94.0,52.0,62.0,18.0,865.0,5.0,39.0,6.0,3.0,920.0,459.0,77.0,15.0,5.0,286.0,7.0,3.0,80.0,30.0,679.0,14.0,9.0,9.0,11.0,131.0,10.0,5.0,88.0,137.0,118.0,4.0,9.0,643.0,519.0,12.0,1760.0,10.0,5.0,5.0,43.0,33.0,113.0,685.0],\"yaxis\":\"y\",\"type\":\"scatter\"},{\"alignmentgroup\":\"True\",\"hovertemplate\":\"Year=2005<br>Secondary_ed_completion_percent=%{x}<extra></extra>\",\"legendgroup\":\"2005\",\"marker\":{\"color\":\"#1F77B4\",\"symbol\":\"circle\"},\"name\":\"2005\",\"notched\":true,\"offsetgroup\":\"2005\",\"showlegend\":false,\"x\":[96.21,98.73,99.56,90.31,85.39,71.6,5.59,30.40622,42.05584,56.6317,23.77801,46.44,94.83,100.0,65.34,64.55,72.83817,58.72,95.19,10.94047,100.0,93.74,95.17,94.83,23.71289,29.44613,29.22,95.76,98.81,63.22,90.85,99.2,96.59,56.04,18.23215,98.83,82.88,97.82,95.63,31.79,94.39,100.0,68.48,61.94,77.49,88.48,76.42,5.42139,12.93822,96.22,23.19,56.33,90.01,98.8,83.8,97.8,60.89,63.00271],\"xaxis\":\"x3\",\"yaxis\":\"y3\",\"type\":\"box\"},{\"alignmentgroup\":\"True\",\"hovertemplate\":\"Year=2005<br>Maternal_Death_Rate=%{y}<extra></extra>\",\"legendgroup\":\"2005\",\"marker\":{\"color\":\"#1F77B4\",\"symbol\":\"circle\"},\"name\":\"2005\",\"offsetgroup\":\"2005\",\"scalegroup\":\"y\",\"showlegend\":false,\"xaxis\":\"x2\",\"y\":[22.0,6.0,11.0,7.0,271.0,71.0,814.0,351.0,692.0,83.0,677.0,33.0,12.0,6.0,83.0,94.0,52.0,62.0,18.0,865.0,5.0,39.0,6.0,3.0,920.0,459.0,77.0,15.0,5.0,286.0,7.0,3.0,80.0,30.0,679.0,14.0,9.0,9.0,11.0,131.0,10.0,5.0,88.0,137.0,118.0,4.0,9.0,643.0,519.0,12.0,1760.0,10.0,5.0,5.0,43.0,33.0,113.0,685.0],\"yaxis\":\"y2\",\"type\":\"violin\"},{\"hovertemplate\":\"Year=2010<br>Secondary_ed_completion_percent=%{x}<br>Maternal_Death_Rate=%{y}<extra></extra>\",\"legendgroup\":\"2010\",\"marker\":{\"color\":\"#FF7F0E\",\"symbol\":\"circle\"},\"mode\":\"markers\",\"name\":\"2010\",\"orientation\":\"v\",\"showlegend\":true,\"x\":[71.34426,98.82,40.07584,13.36606,16.1593,39.55294,99.69,17.67,84.05,67.51629,56.78,98.5,37.13108,73.38,77.45,63.68,42.87518,43.37741,51.5552,41.69,28.43114,27.68,78.99,80.27,64.85771,69.57312,68.87,82.71,64.58871,94.44388,16.53406,33.64,21.61109,61.57,37.51308,35.36054,56.17,73.42,46.62132,71.70381],\"xaxis\":\"x\",\"y\":[51.0,5.0,247.0,385.0,665.0,248.0,11.0,1240.0,36.0,85.0,32.0,41.0,542.0,96.0,78.0,54.0,450.0,661.0,339.0,74.0,444.0,660.0,46.0,66.0,978.0,79.0,108.0,104.0,144.0,21.0,373.0,1360.0,1100.0,408.0,148.0,440.0,17.0,117.0,305.0,598.0],\"yaxis\":\"y\",\"type\":\"scatter\"},{\"alignmentgroup\":\"True\",\"hovertemplate\":\"Year=2010<br>Secondary_ed_completion_percent=%{x}<extra></extra>\",\"legendgroup\":\"2010\",\"marker\":{\"color\":\"#FF7F0E\",\"symbol\":\"circle\"},\"name\":\"2010\",\"notched\":true,\"offsetgroup\":\"2010\",\"showlegend\":false,\"x\":[71.34426,98.82,40.07584,13.36606,16.1593,39.55294,99.69,17.67,84.05,67.51629,56.78,98.5,37.13108,73.38,77.45,63.68,42.87518,43.37741,51.5552,41.69,28.43114,27.68,78.99,80.27,64.85771,69.57312,68.87,82.71,64.58871,94.44388,16.53406,33.64,21.61109,61.57,37.51308,35.36054,56.17,73.42,46.62132,71.70381],\"xaxis\":\"x3\",\"yaxis\":\"y3\",\"type\":\"box\"},{\"alignmentgroup\":\"True\",\"hovertemplate\":\"Year=2010<br>Maternal_Death_Rate=%{y}<extra></extra>\",\"legendgroup\":\"2010\",\"marker\":{\"color\":\"#FF7F0E\",\"symbol\":\"circle\"},\"name\":\"2010\",\"offsetgroup\":\"2010\",\"scalegroup\":\"y\",\"showlegend\":false,\"xaxis\":\"x2\",\"y\":[51.0,5.0,247.0,385.0,665.0,248.0,11.0,1240.0,36.0,85.0,32.0,41.0,542.0,96.0,78.0,54.0,450.0,661.0,339.0,74.0,444.0,660.0,46.0,66.0,978.0,79.0,108.0,104.0,144.0,21.0,373.0,1360.0,1100.0,408.0,148.0,440.0,17.0,117.0,305.0,598.0],\"yaxis\":\"y2\",\"type\":\"violin\"},{\"hovertemplate\":\"Year=2014<br>Secondary_ed_completion_percent=%{x}<br>Maternal_Death_Rate=%{y}<extra></extra>\",\"legendgroup\":\"2014\",\"marker\":{\"color\":\"#2CA02C\",\"symbol\":\"circle\"},\"mode\":\"markers\",\"name\":\"2014\",\"orientation\":\"v\",\"showlegend\":true,\"x\":[99.62,54.14125,90.74,37.22481,86.33,83.45,92.31,41.42872,45.53938,18.23392,77.02,69.5,62.42,97.64,96.78097,100.0,98.75,76.54497,86.45,79.40681,71.75,97.13,47.09634,100.0,92.78,50.26851,100.0,49.49,20.17956,79.10921,41.06,98.63,100.0,95.31,99.0,66.09058,94.91455,97.8,18.431,98.79,88.42,23.5,98.42,85.38,87.30831,68.36629,95.03,45.01,99.77,73.82,75.24,86.45,96.0,94.86,94.91,32.41317,27.25,98.47713,100.0,93.44,50.56083,100.0,100.0,28.87005,94.32758,60.86,74.37,65.86],\"xaxis\":\"x\",\"y\":[5.0,214.0,6.0,432.0,175.0,62.0,11.0,189.0,564.0,1170.0,31.0,85.0,29.0,8.0,39.0,8.0,4.0,94.0,65.0,39.0,49.0,11.0,434.0,3.0,5.0,325.0,3.0,107.0,711.0,174.0,68.0,12.0,5.0,6.0,2.0,358.0,69.0,24.0,579.0,9.0,6.0,381.0,6.0,38.0,49.0,231.0,6.0,103.0,3.0,60.0,91.0,96.0,2.0,8.0,21.0,131.0,364.0,12.0,7.0,4.0,333.0,5.0,5.0,401.0,19.0,17.0,113.0,494.0],\"yaxis\":\"y\",\"type\":\"scatter\"},{\"alignmentgroup\":\"True\",\"hovertemplate\":\"Year=2014<br>Secondary_ed_completion_percent=%{x}<extra></extra>\",\"legendgroup\":\"2014\",\"marker\":{\"color\":\"#2CA02C\",\"symbol\":\"circle\"},\"name\":\"2014\",\"notched\":true,\"offsetgroup\":\"2014\",\"showlegend\":false,\"x\":[99.62,54.14125,90.74,37.22481,86.33,83.45,92.31,41.42872,45.53938,18.23392,77.02,69.5,62.42,97.64,96.78097,100.0,98.75,76.54497,86.45,79.40681,71.75,97.13,47.09634,100.0,92.78,50.26851,100.0,49.49,20.17956,79.10921,41.06,98.63,100.0,95.31,99.0,66.09058,94.91455,97.8,18.431,98.79,88.42,23.5,98.42,85.38,87.30831,68.36629,95.03,45.01,99.77,73.82,75.24,86.45,96.0,94.86,94.91,32.41317,27.25,98.47713,100.0,93.44,50.56083,100.0,100.0,28.87005,94.32758,60.86,74.37,65.86],\"xaxis\":\"x3\",\"yaxis\":\"y3\",\"type\":\"box\"},{\"alignmentgroup\":\"True\",\"hovertemplate\":\"Year=2014<br>Maternal_Death_Rate=%{y}<extra></extra>\",\"legendgroup\":\"2014\",\"marker\":{\"color\":\"#2CA02C\",\"symbol\":\"circle\"},\"name\":\"2014\",\"offsetgroup\":\"2014\",\"scalegroup\":\"y\",\"showlegend\":false,\"xaxis\":\"x2\",\"y\":[5.0,214.0,6.0,432.0,175.0,62.0,11.0,189.0,564.0,1170.0,31.0,85.0,29.0,8.0,39.0,8.0,4.0,94.0,65.0,39.0,49.0,11.0,434.0,3.0,5.0,325.0,3.0,107.0,711.0,174.0,68.0,12.0,5.0,6.0,2.0,358.0,69.0,24.0,579.0,9.0,6.0,381.0,6.0,38.0,49.0,231.0,6.0,103.0,3.0,60.0,91.0,96.0,2.0,8.0,21.0,131.0,364.0,12.0,7.0,4.0,333.0,5.0,5.0,401.0,19.0,17.0,113.0,494.0],\"yaxis\":\"y2\",\"type\":\"violin\"}],                        {\"template\":{\"data\":{\"barpolar\":[{\"marker\":{\"line\":{\"color\":\"white\",\"width\":0.5},\"pattern\":{\"fillmode\":\"overlay\",\"size\":10,\"solidity\":0.2}},\"type\":\"barpolar\"}],\"bar\":[{\"error_x\":{\"color\":\"rgb(36,36,36)\"},\"error_y\":{\"color\":\"rgb(36,36,36)\"},\"marker\":{\"line\":{\"color\":\"white\",\"width\":0.5},\"pattern\":{\"fillmode\":\"overlay\",\"size\":10,\"solidity\":0.2}},\"type\":\"bar\"}],\"carpet\":[{\"aaxis\":{\"endlinecolor\":\"rgb(36,36,36)\",\"gridcolor\":\"white\",\"linecolor\":\"white\",\"minorgridcolor\":\"white\",\"startlinecolor\":\"rgb(36,36,36)\"},\"baxis\":{\"endlinecolor\":\"rgb(36,36,36)\",\"gridcolor\":\"white\",\"linecolor\":\"white\",\"minorgridcolor\":\"white\",\"startlinecolor\":\"rgb(36,36,36)\"},\"type\":\"carpet\"}],\"choropleth\":[{\"colorbar\":{\"outlinewidth\":1,\"tickcolor\":\"rgb(36,36,36)\",\"ticks\":\"outside\"},\"type\":\"choropleth\"}],\"contourcarpet\":[{\"colorbar\":{\"outlinewidth\":1,\"tickcolor\":\"rgb(36,36,36)\",\"ticks\":\"outside\"},\"type\":\"contourcarpet\"}],\"contour\":[{\"colorbar\":{\"outlinewidth\":1,\"tickcolor\":\"rgb(36,36,36)\",\"ticks\":\"outside\"},\"colorscale\":[[0.0,\"#440154\"],[0.1111111111111111,\"#482878\"],[0.2222222222222222,\"#3e4989\"],[0.3333333333333333,\"#31688e\"],[0.4444444444444444,\"#26828e\"],[0.5555555555555556,\"#1f9e89\"],[0.6666666666666666,\"#35b779\"],[0.7777777777777778,\"#6ece58\"],[0.8888888888888888,\"#b5de2b\"],[1.0,\"#fde725\"]],\"type\":\"contour\"}],\"heatmapgl\":[{\"colorbar\":{\"outlinewidth\":1,\"tickcolor\":\"rgb(36,36,36)\",\"ticks\":\"outside\"},\"colorscale\":[[0.0,\"#440154\"],[0.1111111111111111,\"#482878\"],[0.2222222222222222,\"#3e4989\"],[0.3333333333333333,\"#31688e\"],[0.4444444444444444,\"#26828e\"],[0.5555555555555556,\"#1f9e89\"],[0.6666666666666666,\"#35b779\"],[0.7777777777777778,\"#6ece58\"],[0.8888888888888888,\"#b5de2b\"],[1.0,\"#fde725\"]],\"type\":\"heatmapgl\"}],\"heatmap\":[{\"colorbar\":{\"outlinewidth\":1,\"tickcolor\":\"rgb(36,36,36)\",\"ticks\":\"outside\"},\"colorscale\":[[0.0,\"#440154\"],[0.1111111111111111,\"#482878\"],[0.2222222222222222,\"#3e4989\"],[0.3333333333333333,\"#31688e\"],[0.4444444444444444,\"#26828e\"],[0.5555555555555556,\"#1f9e89\"],[0.6666666666666666,\"#35b779\"],[0.7777777777777778,\"#6ece58\"],[0.8888888888888888,\"#b5de2b\"],[1.0,\"#fde725\"]],\"type\":\"heatmap\"}],\"histogram2dcontour\":[{\"colorbar\":{\"outlinewidth\":1,\"tickcolor\":\"rgb(36,36,36)\",\"ticks\":\"outside\"},\"colorscale\":[[0.0,\"#440154\"],[0.1111111111111111,\"#482878\"],[0.2222222222222222,\"#3e4989\"],[0.3333333333333333,\"#31688e\"],[0.4444444444444444,\"#26828e\"],[0.5555555555555556,\"#1f9e89\"],[0.6666666666666666,\"#35b779\"],[0.7777777777777778,\"#6ece58\"],[0.8888888888888888,\"#b5de2b\"],[1.0,\"#fde725\"]],\"type\":\"histogram2dcontour\"}],\"histogram2d\":[{\"colorbar\":{\"outlinewidth\":1,\"tickcolor\":\"rgb(36,36,36)\",\"ticks\":\"outside\"},\"colorscale\":[[0.0,\"#440154\"],[0.1111111111111111,\"#482878\"],[0.2222222222222222,\"#3e4989\"],[0.3333333333333333,\"#31688e\"],[0.4444444444444444,\"#26828e\"],[0.5555555555555556,\"#1f9e89\"],[0.6666666666666666,\"#35b779\"],[0.7777777777777778,\"#6ece58\"],[0.8888888888888888,\"#b5de2b\"],[1.0,\"#fde725\"]],\"type\":\"histogram2d\"}],\"histogram\":[{\"marker\":{\"line\":{\"color\":\"white\",\"width\":0.6}},\"type\":\"histogram\"}],\"mesh3d\":[{\"colorbar\":{\"outlinewidth\":1,\"tickcolor\":\"rgb(36,36,36)\",\"ticks\":\"outside\"},\"type\":\"mesh3d\"}],\"parcoords\":[{\"line\":{\"colorbar\":{\"outlinewidth\":1,\"tickcolor\":\"rgb(36,36,36)\",\"ticks\":\"outside\"}},\"type\":\"parcoords\"}],\"pie\":[{\"automargin\":true,\"type\":\"pie\"}],\"scatter3d\":[{\"line\":{\"colorbar\":{\"outlinewidth\":1,\"tickcolor\":\"rgb(36,36,36)\",\"ticks\":\"outside\"}},\"marker\":{\"colorbar\":{\"outlinewidth\":1,\"tickcolor\":\"rgb(36,36,36)\",\"ticks\":\"outside\"}},\"type\":\"scatter3d\"}],\"scattercarpet\":[{\"marker\":{\"colorbar\":{\"outlinewidth\":1,\"tickcolor\":\"rgb(36,36,36)\",\"ticks\":\"outside\"}},\"type\":\"scattercarpet\"}],\"scattergeo\":[{\"marker\":{\"colorbar\":{\"outlinewidth\":1,\"tickcolor\":\"rgb(36,36,36)\",\"ticks\":\"outside\"}},\"type\":\"scattergeo\"}],\"scattergl\":[{\"marker\":{\"colorbar\":{\"outlinewidth\":1,\"tickcolor\":\"rgb(36,36,36)\",\"ticks\":\"outside\"}},\"type\":\"scattergl\"}],\"scattermapbox\":[{\"marker\":{\"colorbar\":{\"outlinewidth\":1,\"tickcolor\":\"rgb(36,36,36)\",\"ticks\":\"outside\"}},\"type\":\"scattermapbox\"}],\"scatterpolargl\":[{\"marker\":{\"colorbar\":{\"outlinewidth\":1,\"tickcolor\":\"rgb(36,36,36)\",\"ticks\":\"outside\"}},\"type\":\"scatterpolargl\"}],\"scatterpolar\":[{\"marker\":{\"colorbar\":{\"outlinewidth\":1,\"tickcolor\":\"rgb(36,36,36)\",\"ticks\":\"outside\"}},\"type\":\"scatterpolar\"}],\"scatter\":[{\"marker\":{\"colorbar\":{\"outlinewidth\":1,\"tickcolor\":\"rgb(36,36,36)\",\"ticks\":\"outside\"}},\"type\":\"scatter\"}],\"scatterternary\":[{\"marker\":{\"colorbar\":{\"outlinewidth\":1,\"tickcolor\":\"rgb(36,36,36)\",\"ticks\":\"outside\"}},\"type\":\"scatterternary\"}],\"surface\":[{\"colorbar\":{\"outlinewidth\":1,\"tickcolor\":\"rgb(36,36,36)\",\"ticks\":\"outside\"},\"colorscale\":[[0.0,\"#440154\"],[0.1111111111111111,\"#482878\"],[0.2222222222222222,\"#3e4989\"],[0.3333333333333333,\"#31688e\"],[0.4444444444444444,\"#26828e\"],[0.5555555555555556,\"#1f9e89\"],[0.6666666666666666,\"#35b779\"],[0.7777777777777778,\"#6ece58\"],[0.8888888888888888,\"#b5de2b\"],[1.0,\"#fde725\"]],\"type\":\"surface\"}],\"table\":[{\"cells\":{\"fill\":{\"color\":\"rgb(237,237,237)\"},\"line\":{\"color\":\"white\"}},\"header\":{\"fill\":{\"color\":\"rgb(217,217,217)\"},\"line\":{\"color\":\"white\"}},\"type\":\"table\"}]},\"layout\":{\"annotationdefaults\":{\"arrowhead\":0,\"arrowwidth\":1},\"autotypenumbers\":\"strict\",\"coloraxis\":{\"colorbar\":{\"outlinewidth\":1,\"tickcolor\":\"rgb(36,36,36)\",\"ticks\":\"outside\"}},\"colorscale\":{\"diverging\":[[0.0,\"rgb(103,0,31)\"],[0.1,\"rgb(178,24,43)\"],[0.2,\"rgb(214,96,77)\"],[0.3,\"rgb(244,165,130)\"],[0.4,\"rgb(253,219,199)\"],[0.5,\"rgb(247,247,247)\"],[0.6,\"rgb(209,229,240)\"],[0.7,\"rgb(146,197,222)\"],[0.8,\"rgb(67,147,195)\"],[0.9,\"rgb(33,102,172)\"],[1.0,\"rgb(5,48,97)\"]],\"sequential\":[[0.0,\"#440154\"],[0.1111111111111111,\"#482878\"],[0.2222222222222222,\"#3e4989\"],[0.3333333333333333,\"#31688e\"],[0.4444444444444444,\"#26828e\"],[0.5555555555555556,\"#1f9e89\"],[0.6666666666666666,\"#35b779\"],[0.7777777777777778,\"#6ece58\"],[0.8888888888888888,\"#b5de2b\"],[1.0,\"#fde725\"]],\"sequentialminus\":[[0.0,\"#440154\"],[0.1111111111111111,\"#482878\"],[0.2222222222222222,\"#3e4989\"],[0.3333333333333333,\"#31688e\"],[0.4444444444444444,\"#26828e\"],[0.5555555555555556,\"#1f9e89\"],[0.6666666666666666,\"#35b779\"],[0.7777777777777778,\"#6ece58\"],[0.8888888888888888,\"#b5de2b\"],[1.0,\"#fde725\"]]},\"colorway\":[\"#1F77B4\",\"#FF7F0E\",\"#2CA02C\",\"#D62728\",\"#9467BD\",\"#8C564B\",\"#E377C2\",\"#7F7F7F\",\"#BCBD22\",\"#17BECF\"],\"font\":{\"color\":\"rgb(36,36,36)\"},\"geo\":{\"bgcolor\":\"white\",\"lakecolor\":\"white\",\"landcolor\":\"white\",\"showlakes\":true,\"showland\":true,\"subunitcolor\":\"white\"},\"hoverlabel\":{\"align\":\"left\"},\"hovermode\":\"closest\",\"mapbox\":{\"style\":\"light\"},\"paper_bgcolor\":\"white\",\"plot_bgcolor\":\"white\",\"polar\":{\"angularaxis\":{\"gridcolor\":\"rgb(232,232,232)\",\"linecolor\":\"rgb(36,36,36)\",\"showgrid\":false,\"showline\":true,\"ticks\":\"outside\"},\"bgcolor\":\"white\",\"radialaxis\":{\"gridcolor\":\"rgb(232,232,232)\",\"linecolor\":\"rgb(36,36,36)\",\"showgrid\":false,\"showline\":true,\"ticks\":\"outside\"}},\"scene\":{\"xaxis\":{\"backgroundcolor\":\"white\",\"gridcolor\":\"rgb(232,232,232)\",\"gridwidth\":2,\"linecolor\":\"rgb(36,36,36)\",\"showbackground\":true,\"showgrid\":false,\"showline\":true,\"ticks\":\"outside\",\"zeroline\":false,\"zerolinecolor\":\"rgb(36,36,36)\"},\"yaxis\":{\"backgroundcolor\":\"white\",\"gridcolor\":\"rgb(232,232,232)\",\"gridwidth\":2,\"linecolor\":\"rgb(36,36,36)\",\"showbackground\":true,\"showgrid\":false,\"showline\":true,\"ticks\":\"outside\",\"zeroline\":false,\"zerolinecolor\":\"rgb(36,36,36)\"},\"zaxis\":{\"backgroundcolor\":\"white\",\"gridcolor\":\"rgb(232,232,232)\",\"gridwidth\":2,\"linecolor\":\"rgb(36,36,36)\",\"showbackground\":true,\"showgrid\":false,\"showline\":true,\"ticks\":\"outside\",\"zeroline\":false,\"zerolinecolor\":\"rgb(36,36,36)\"}},\"shapedefaults\":{\"fillcolor\":\"black\",\"line\":{\"width\":0},\"opacity\":0.3},\"ternary\":{\"aaxis\":{\"gridcolor\":\"rgb(232,232,232)\",\"linecolor\":\"rgb(36,36,36)\",\"showgrid\":false,\"showline\":true,\"ticks\":\"outside\"},\"baxis\":{\"gridcolor\":\"rgb(232,232,232)\",\"linecolor\":\"rgb(36,36,36)\",\"showgrid\":false,\"showline\":true,\"ticks\":\"outside\"},\"bgcolor\":\"white\",\"caxis\":{\"gridcolor\":\"rgb(232,232,232)\",\"linecolor\":\"rgb(36,36,36)\",\"showgrid\":false,\"showline\":true,\"ticks\":\"outside\"}},\"title\":{\"x\":0.05},\"xaxis\":{\"automargin\":true,\"gridcolor\":\"rgb(232,232,232)\",\"linecolor\":\"rgb(36,36,36)\",\"showgrid\":false,\"showline\":true,\"ticks\":\"outside\",\"title\":{\"standoff\":15},\"zeroline\":false,\"zerolinecolor\":\"rgb(36,36,36)\"},\"yaxis\":{\"automargin\":true,\"gridcolor\":\"rgb(232,232,232)\",\"linecolor\":\"rgb(36,36,36)\",\"showgrid\":false,\"showline\":true,\"ticks\":\"outside\",\"title\":{\"standoff\":15},\"zeroline\":false,\"zerolinecolor\":\"rgb(36,36,36)\"}}},\"xaxis\":{\"anchor\":\"y\",\"domain\":[0.0,0.7363],\"title\":{\"text\":\"Secondary_ed_completion_percent\"}},\"yaxis\":{\"anchor\":\"x\",\"domain\":[0.0,0.7326],\"title\":{\"text\":\"Maternal_Death_Rate\"}},\"xaxis2\":{\"anchor\":\"y2\",\"domain\":[0.7413,1.0],\"matches\":\"x2\",\"showticklabels\":false,\"showline\":false,\"ticks\":\"\"},\"yaxis2\":{\"anchor\":\"x2\",\"domain\":[0.0,0.7326],\"matches\":\"y\",\"showticklabels\":false},\"xaxis3\":{\"anchor\":\"y3\",\"domain\":[0.0,0.7363],\"matches\":\"x\",\"showticklabels\":false},\"yaxis3\":{\"anchor\":\"x3\",\"domain\":[0.7426,1.0],\"matches\":\"y3\",\"showticklabels\":false,\"showline\":false,\"ticks\":\"\"},\"xaxis4\":{\"anchor\":\"y4\",\"domain\":[0.7413,1.0],\"matches\":\"x2\",\"showticklabels\":false,\"showline\":false,\"ticks\":\"\"},\"yaxis4\":{\"anchor\":\"x4\",\"domain\":[0.7426,1.0],\"matches\":\"y3\",\"showticklabels\":false,\"showline\":false,\"ticks\":\"\"},\"legend\":{\"title\":{\"text\":\"Year\"},\"tracegroupgap\":0},\"margin\":{\"t\":60}},                        {\"responsive\": true}                    ).then(function(){\n",
       "                            \n",
       "var gd = document.getElementById('2178df43-141c-40f4-8001-7a63cfcf81b3');\n",
       "var x = new MutationObserver(function (mutations, observer) {{\n",
       "        var display = window.getComputedStyle(gd).display;\n",
       "        if (!display || display === 'none') {{\n",
       "            console.log([gd, 'removed!']);\n",
       "            Plotly.purge(gd);\n",
       "            observer.disconnect();\n",
       "        }}\n",
       "}});\n",
       "\n",
       "// Listen for the removal of the full notebook cells\n",
       "var notebookContainer = gd.closest('#notebook-container');\n",
       "if (notebookContainer) {{\n",
       "    x.observe(notebookContainer, {childList: true});\n",
       "}}\n",
       "\n",
       "// Listen for the clearing of the current output cell\n",
       "var outputEl = gd.closest('.output');\n",
       "if (outputEl) {{\n",
       "    x.observe(outputEl, {childList: true});\n",
       "}}\n",
       "\n",
       "                        })                };                });            </script>        </div>"
      ]
     },
     "metadata": {},
     "output_type": "display_data"
    }
   ],
   "source": [
    "df = key_years.loc[(key_years['Sex'] == 'M')]\n",
    "fig = px.scatter(df,\n",
    "                 x=\"Secondary_ed_completion_percent\", \n",
    "                 y=\"Maternal_Death_Rate\", \n",
    "                 color=\"Year\", \n",
    "                 marginal_y=\"violin\",\n",
    "                 marginal_x=\"box\", \n",
    "                 template=\"simple_white\")\n",
    "fig.show()"
   ]
  },
  {
   "cell_type": "code",
   "execution_count": 76,
   "id": "7061ad2d",
   "metadata": {},
   "outputs": [
    {
     "data": {
      "application/vnd.plotly.v1+json": {
       "config": {
        "plotlyServerURL": "https://plot.ly"
       },
       "data": [
        {
         "hovertemplate": "Year=2005<br>Primary_ed_completion_percent=%{x}<br>Maternal_Death_Rate=%{y}<extra></extra>",
         "legendgroup": "2005",
         "marker": {
          "color": "#1F77B4",
          "symbol": "circle"
         },
         "mode": "markers",
         "name": "2005",
         "orientation": "v",
         "showlegend": true,
         "type": "scatter",
         "x": [
          98.91,
          null,
          99.83,
          null,
          89.05,
          93.44,
          13.17,
          58.95035,
          70.26693,
          84.71531,
          63.39317,
          90.63,
          null,
          null,
          81.56,
          92.13,
          83.85818,
          78.54,
          null,
          28.21768,
          null,
          98.27,
          null,
          null,
          33.52226,
          40.90987,
          72.8,
          null,
          null,
          76.53,
          null,
          null,
          98.99,
          null,
          49.87584,
          null,
          null,
          98.25,
          null,
          62.43,
          97.06,
          null,
          91.79,
          84.73,
          90.11,
          null,
          null,
          10.48374,
          24.8962,
          99.04,
          32.69,
          null,
          null,
          null,
          97.67,
          99.44,
          89.53,
          87.26836
         ],
         "xaxis": "x",
         "y": [
          22,
          6,
          11,
          7,
          271,
          71,
          814,
          351,
          692,
          83,
          677,
          33,
          12,
          6,
          83,
          94,
          52,
          62,
          18,
          865,
          5,
          39,
          6,
          3,
          920,
          459,
          77,
          15,
          5,
          286,
          7,
          3,
          80,
          30,
          679,
          14,
          9,
          9,
          11,
          131,
          10,
          5,
          88,
          137,
          118,
          4,
          9,
          643,
          519,
          12,
          1760,
          10,
          5,
          5,
          43,
          33,
          113,
          685
         ],
         "yaxis": "y"
        },
        {
         "alignmentgroup": "True",
         "hovertemplate": "Year=2005<br>Primary_ed_completion_percent=%{x}<extra></extra>",
         "legendgroup": "2005",
         "marker": {
          "color": "#1F77B4",
          "symbol": "circle"
         },
         "name": "2005",
         "notched": true,
         "offsetgroup": "2005",
         "showlegend": false,
         "type": "box",
         "x": [
          98.91,
          null,
          99.83,
          null,
          89.05,
          93.44,
          13.17,
          58.95035,
          70.26693,
          84.71531,
          63.39317,
          90.63,
          null,
          null,
          81.56,
          92.13,
          83.85818,
          78.54,
          null,
          28.21768,
          null,
          98.27,
          null,
          null,
          33.52226,
          40.90987,
          72.8,
          null,
          null,
          76.53,
          null,
          null,
          98.99,
          null,
          49.87584,
          null,
          null,
          98.25,
          null,
          62.43,
          97.06,
          null,
          91.79,
          84.73,
          90.11,
          null,
          null,
          10.48374,
          24.8962,
          99.04,
          32.69,
          null,
          null,
          null,
          97.67,
          99.44,
          89.53,
          87.26836
         ],
         "xaxis": "x3",
         "yaxis": "y3"
        },
        {
         "alignmentgroup": "True",
         "hovertemplate": "Year=2005<br>Maternal_Death_Rate=%{y}<extra></extra>",
         "legendgroup": "2005",
         "marker": {
          "color": "#1F77B4",
          "symbol": "circle"
         },
         "name": "2005",
         "offsetgroup": "2005",
         "scalegroup": "y",
         "showlegend": false,
         "type": "violin",
         "xaxis": "x2",
         "y": [
          22,
          6,
          11,
          7,
          271,
          71,
          814,
          351,
          692,
          83,
          677,
          33,
          12,
          6,
          83,
          94,
          52,
          62,
          18,
          865,
          5,
          39,
          6,
          3,
          920,
          459,
          77,
          15,
          5,
          286,
          7,
          3,
          80,
          30,
          679,
          14,
          9,
          9,
          11,
          131,
          10,
          5,
          88,
          137,
          118,
          4,
          9,
          643,
          519,
          12,
          1760,
          10,
          5,
          5,
          43,
          33,
          113,
          685
         ],
         "yaxis": "y2"
        },
        {
         "hovertemplate": "Year=2010<br>Primary_ed_completion_percent=%{x}<br>Maternal_Death_Rate=%{y}<extra></extra>",
         "legendgroup": "2010",
         "marker": {
          "color": "#FF7F0E",
          "symbol": "circle"
         },
         "mode": "markers",
         "name": "2010",
         "orientation": "v",
         "showlegend": true,
         "type": "scatter",
         "x": [
          92.67375,
          null,
          67.86397,
          30.90798,
          39.82951,
          71.06843,
          null,
          27.22,
          96.69,
          90.59966,
          91.22,
          98.32,
          44.46562,
          85.62,
          95.59,
          82.34,
          66.18265,
          58.49359,
          64.14412,
          80.82,
          54.32379,
          38.05,
          95.8,
          96.52,
          71.57501,
          92.21018,
          87.1,
          93.43,
          86.76748,
          99.38302,
          39.85742,
          59.6,
          24.64012,
          71.44,
          80.11366,
          57.44461,
          96.17,
          92.72,
          66.74353,
          88.25243
         ],
         "xaxis": "x",
         "y": [
          51,
          5,
          247,
          385,
          665,
          248,
          11,
          1240,
          36,
          85,
          32,
          41,
          542,
          96,
          78,
          54,
          450,
          661,
          339,
          74,
          444,
          660,
          46,
          66,
          978,
          79,
          108,
          104,
          144,
          21,
          373,
          1360,
          1100,
          408,
          148,
          440,
          17,
          117,
          305,
          598
         ],
         "yaxis": "y"
        },
        {
         "alignmentgroup": "True",
         "hovertemplate": "Year=2010<br>Primary_ed_completion_percent=%{x}<extra></extra>",
         "legendgroup": "2010",
         "marker": {
          "color": "#FF7F0E",
          "symbol": "circle"
         },
         "name": "2010",
         "notched": true,
         "offsetgroup": "2010",
         "showlegend": false,
         "type": "box",
         "x": [
          92.67375,
          null,
          67.86397,
          30.90798,
          39.82951,
          71.06843,
          null,
          27.22,
          96.69,
          90.59966,
          91.22,
          98.32,
          44.46562,
          85.62,
          95.59,
          82.34,
          66.18265,
          58.49359,
          64.14412,
          80.82,
          54.32379,
          38.05,
          95.8,
          96.52,
          71.57501,
          92.21018,
          87.1,
          93.43,
          86.76748,
          99.38302,
          39.85742,
          59.6,
          24.64012,
          71.44,
          80.11366,
          57.44461,
          96.17,
          92.72,
          66.74353,
          88.25243
         ],
         "xaxis": "x3",
         "yaxis": "y3"
        },
        {
         "alignmentgroup": "True",
         "hovertemplate": "Year=2010<br>Maternal_Death_Rate=%{y}<extra></extra>",
         "legendgroup": "2010",
         "marker": {
          "color": "#FF7F0E",
          "symbol": "circle"
         },
         "name": "2010",
         "offsetgroup": "2010",
         "scalegroup": "y",
         "showlegend": false,
         "type": "violin",
         "xaxis": "x2",
         "y": [
          51,
          5,
          247,
          385,
          665,
          248,
          11,
          1240,
          36,
          85,
          32,
          41,
          542,
          96,
          78,
          54,
          450,
          661,
          339,
          74,
          444,
          660,
          46,
          66,
          978,
          79,
          108,
          104,
          144,
          21,
          373,
          1360,
          1100,
          408,
          148,
          440,
          17,
          117,
          305,
          598
         ],
         "yaxis": "y2"
        },
        {
         "hovertemplate": "Year=2014<br>Primary_ed_completion_percent=%{x}<br>Maternal_Death_Rate=%{y}<extra></extra>",
         "legendgroup": "2014",
         "marker": {
          "color": "#2CA02C",
          "symbol": "circle"
         },
         "mode": "markers",
         "name": "2014",
         "orientation": "v",
         "showlegend": true,
         "type": "scatter",
         "x": [
          null,
          80.01213,
          null,
          54.11723,
          93.18,
          96.72,
          null,
          72.28277,
          73.64866,
          27.32146,
          97.21,
          91.8,
          94.51,
          null,
          99.50179,
          null,
          null,
          91.51656,
          97.64,
          90.86884,
          88.41,
          null,
          70.2268,
          null,
          null,
          65.83102,
          null,
          72.4,
          29.14938,
          97.5321,
          82.53,
          null,
          null,
          null,
          null,
          84.14092,
          99.26881,
          null,
          64.90466,
          null,
          null,
          48.07,
          null,
          96.44,
          97.89996,
          76.22546,
          null,
          74.44,
          null,
          94.13,
          89.62,
          95.73,
          null,
          null,
          null,
          82.87718,
          50.17,
          99.3068,
          null,
          null,
          65.42644,
          null,
          null,
          61.28725,
          98.49266,
          97.3,
          94.07,
          86.77
         ],
         "xaxis": "x",
         "y": [
          5,
          214,
          6,
          432,
          175,
          62,
          11,
          189,
          564,
          1170,
          31,
          85,
          29,
          8,
          39,
          8,
          4,
          94,
          65,
          39,
          49,
          11,
          434,
          3,
          5,
          325,
          3,
          107,
          711,
          174,
          68,
          12,
          5,
          6,
          2,
          358,
          69,
          24,
          579,
          9,
          6,
          381,
          6,
          38,
          49,
          231,
          6,
          103,
          3,
          60,
          91,
          96,
          2,
          8,
          21,
          131,
          364,
          12,
          7,
          4,
          333,
          5,
          5,
          401,
          19,
          17,
          113,
          494
         ],
         "yaxis": "y"
        },
        {
         "alignmentgroup": "True",
         "hovertemplate": "Year=2014<br>Primary_ed_completion_percent=%{x}<extra></extra>",
         "legendgroup": "2014",
         "marker": {
          "color": "#2CA02C",
          "symbol": "circle"
         },
         "name": "2014",
         "notched": true,
         "offsetgroup": "2014",
         "showlegend": false,
         "type": "box",
         "x": [
          null,
          80.01213,
          null,
          54.11723,
          93.18,
          96.72,
          null,
          72.28277,
          73.64866,
          27.32146,
          97.21,
          91.8,
          94.51,
          null,
          99.50179,
          null,
          null,
          91.51656,
          97.64,
          90.86884,
          88.41,
          null,
          70.2268,
          null,
          null,
          65.83102,
          null,
          72.4,
          29.14938,
          97.5321,
          82.53,
          null,
          null,
          null,
          null,
          84.14092,
          99.26881,
          null,
          64.90466,
          null,
          null,
          48.07,
          null,
          96.44,
          97.89996,
          76.22546,
          null,
          74.44,
          null,
          94.13,
          89.62,
          95.73,
          null,
          null,
          null,
          82.87718,
          50.17,
          99.3068,
          null,
          null,
          65.42644,
          null,
          null,
          61.28725,
          98.49266,
          97.3,
          94.07,
          86.77
         ],
         "xaxis": "x3",
         "yaxis": "y3"
        },
        {
         "alignmentgroup": "True",
         "hovertemplate": "Year=2014<br>Maternal_Death_Rate=%{y}<extra></extra>",
         "legendgroup": "2014",
         "marker": {
          "color": "#2CA02C",
          "symbol": "circle"
         },
         "name": "2014",
         "offsetgroup": "2014",
         "scalegroup": "y",
         "showlegend": false,
         "type": "violin",
         "xaxis": "x2",
         "y": [
          5,
          214,
          6,
          432,
          175,
          62,
          11,
          189,
          564,
          1170,
          31,
          85,
          29,
          8,
          39,
          8,
          4,
          94,
          65,
          39,
          49,
          11,
          434,
          3,
          5,
          325,
          3,
          107,
          711,
          174,
          68,
          12,
          5,
          6,
          2,
          358,
          69,
          24,
          579,
          9,
          6,
          381,
          6,
          38,
          49,
          231,
          6,
          103,
          3,
          60,
          91,
          96,
          2,
          8,
          21,
          131,
          364,
          12,
          7,
          4,
          333,
          5,
          5,
          401,
          19,
          17,
          113,
          494
         ],
         "yaxis": "y2"
        }
       ],
       "layout": {
        "legend": {
         "title": {
          "text": "Year"
         },
         "tracegroupgap": 0
        },
        "margin": {
         "t": 60
        },
        "template": {
         "data": {
          "bar": [
           {
            "error_x": {
             "color": "rgb(36,36,36)"
            },
            "error_y": {
             "color": "rgb(36,36,36)"
            },
            "marker": {
             "line": {
              "color": "white",
              "width": 0.5
             },
             "pattern": {
              "fillmode": "overlay",
              "size": 10,
              "solidity": 0.2
             }
            },
            "type": "bar"
           }
          ],
          "barpolar": [
           {
            "marker": {
             "line": {
              "color": "white",
              "width": 0.5
             },
             "pattern": {
              "fillmode": "overlay",
              "size": 10,
              "solidity": 0.2
             }
            },
            "type": "barpolar"
           }
          ],
          "carpet": [
           {
            "aaxis": {
             "endlinecolor": "rgb(36,36,36)",
             "gridcolor": "white",
             "linecolor": "white",
             "minorgridcolor": "white",
             "startlinecolor": "rgb(36,36,36)"
            },
            "baxis": {
             "endlinecolor": "rgb(36,36,36)",
             "gridcolor": "white",
             "linecolor": "white",
             "minorgridcolor": "white",
             "startlinecolor": "rgb(36,36,36)"
            },
            "type": "carpet"
           }
          ],
          "choropleth": [
           {
            "colorbar": {
             "outlinewidth": 1,
             "tickcolor": "rgb(36,36,36)",
             "ticks": "outside"
            },
            "type": "choropleth"
           }
          ],
          "contour": [
           {
            "colorbar": {
             "outlinewidth": 1,
             "tickcolor": "rgb(36,36,36)",
             "ticks": "outside"
            },
            "colorscale": [
             [
              0,
              "#440154"
             ],
             [
              0.1111111111111111,
              "#482878"
             ],
             [
              0.2222222222222222,
              "#3e4989"
             ],
             [
              0.3333333333333333,
              "#31688e"
             ],
             [
              0.4444444444444444,
              "#26828e"
             ],
             [
              0.5555555555555556,
              "#1f9e89"
             ],
             [
              0.6666666666666666,
              "#35b779"
             ],
             [
              0.7777777777777778,
              "#6ece58"
             ],
             [
              0.8888888888888888,
              "#b5de2b"
             ],
             [
              1,
              "#fde725"
             ]
            ],
            "type": "contour"
           }
          ],
          "contourcarpet": [
           {
            "colorbar": {
             "outlinewidth": 1,
             "tickcolor": "rgb(36,36,36)",
             "ticks": "outside"
            },
            "type": "contourcarpet"
           }
          ],
          "heatmap": [
           {
            "colorbar": {
             "outlinewidth": 1,
             "tickcolor": "rgb(36,36,36)",
             "ticks": "outside"
            },
            "colorscale": [
             [
              0,
              "#440154"
             ],
             [
              0.1111111111111111,
              "#482878"
             ],
             [
              0.2222222222222222,
              "#3e4989"
             ],
             [
              0.3333333333333333,
              "#31688e"
             ],
             [
              0.4444444444444444,
              "#26828e"
             ],
             [
              0.5555555555555556,
              "#1f9e89"
             ],
             [
              0.6666666666666666,
              "#35b779"
             ],
             [
              0.7777777777777778,
              "#6ece58"
             ],
             [
              0.8888888888888888,
              "#b5de2b"
             ],
             [
              1,
              "#fde725"
             ]
            ],
            "type": "heatmap"
           }
          ],
          "heatmapgl": [
           {
            "colorbar": {
             "outlinewidth": 1,
             "tickcolor": "rgb(36,36,36)",
             "ticks": "outside"
            },
            "colorscale": [
             [
              0,
              "#440154"
             ],
             [
              0.1111111111111111,
              "#482878"
             ],
             [
              0.2222222222222222,
              "#3e4989"
             ],
             [
              0.3333333333333333,
              "#31688e"
             ],
             [
              0.4444444444444444,
              "#26828e"
             ],
             [
              0.5555555555555556,
              "#1f9e89"
             ],
             [
              0.6666666666666666,
              "#35b779"
             ],
             [
              0.7777777777777778,
              "#6ece58"
             ],
             [
              0.8888888888888888,
              "#b5de2b"
             ],
             [
              1,
              "#fde725"
             ]
            ],
            "type": "heatmapgl"
           }
          ],
          "histogram": [
           {
            "marker": {
             "line": {
              "color": "white",
              "width": 0.6
             }
            },
            "type": "histogram"
           }
          ],
          "histogram2d": [
           {
            "colorbar": {
             "outlinewidth": 1,
             "tickcolor": "rgb(36,36,36)",
             "ticks": "outside"
            },
            "colorscale": [
             [
              0,
              "#440154"
             ],
             [
              0.1111111111111111,
              "#482878"
             ],
             [
              0.2222222222222222,
              "#3e4989"
             ],
             [
              0.3333333333333333,
              "#31688e"
             ],
             [
              0.4444444444444444,
              "#26828e"
             ],
             [
              0.5555555555555556,
              "#1f9e89"
             ],
             [
              0.6666666666666666,
              "#35b779"
             ],
             [
              0.7777777777777778,
              "#6ece58"
             ],
             [
              0.8888888888888888,
              "#b5de2b"
             ],
             [
              1,
              "#fde725"
             ]
            ],
            "type": "histogram2d"
           }
          ],
          "histogram2dcontour": [
           {
            "colorbar": {
             "outlinewidth": 1,
             "tickcolor": "rgb(36,36,36)",
             "ticks": "outside"
            },
            "colorscale": [
             [
              0,
              "#440154"
             ],
             [
              0.1111111111111111,
              "#482878"
             ],
             [
              0.2222222222222222,
              "#3e4989"
             ],
             [
              0.3333333333333333,
              "#31688e"
             ],
             [
              0.4444444444444444,
              "#26828e"
             ],
             [
              0.5555555555555556,
              "#1f9e89"
             ],
             [
              0.6666666666666666,
              "#35b779"
             ],
             [
              0.7777777777777778,
              "#6ece58"
             ],
             [
              0.8888888888888888,
              "#b5de2b"
             ],
             [
              1,
              "#fde725"
             ]
            ],
            "type": "histogram2dcontour"
           }
          ],
          "mesh3d": [
           {
            "colorbar": {
             "outlinewidth": 1,
             "tickcolor": "rgb(36,36,36)",
             "ticks": "outside"
            },
            "type": "mesh3d"
           }
          ],
          "parcoords": [
           {
            "line": {
             "colorbar": {
              "outlinewidth": 1,
              "tickcolor": "rgb(36,36,36)",
              "ticks": "outside"
             }
            },
            "type": "parcoords"
           }
          ],
          "pie": [
           {
            "automargin": true,
            "type": "pie"
           }
          ],
          "scatter": [
           {
            "marker": {
             "colorbar": {
              "outlinewidth": 1,
              "tickcolor": "rgb(36,36,36)",
              "ticks": "outside"
             }
            },
            "type": "scatter"
           }
          ],
          "scatter3d": [
           {
            "line": {
             "colorbar": {
              "outlinewidth": 1,
              "tickcolor": "rgb(36,36,36)",
              "ticks": "outside"
             }
            },
            "marker": {
             "colorbar": {
              "outlinewidth": 1,
              "tickcolor": "rgb(36,36,36)",
              "ticks": "outside"
             }
            },
            "type": "scatter3d"
           }
          ],
          "scattercarpet": [
           {
            "marker": {
             "colorbar": {
              "outlinewidth": 1,
              "tickcolor": "rgb(36,36,36)",
              "ticks": "outside"
             }
            },
            "type": "scattercarpet"
           }
          ],
          "scattergeo": [
           {
            "marker": {
             "colorbar": {
              "outlinewidth": 1,
              "tickcolor": "rgb(36,36,36)",
              "ticks": "outside"
             }
            },
            "type": "scattergeo"
           }
          ],
          "scattergl": [
           {
            "marker": {
             "colorbar": {
              "outlinewidth": 1,
              "tickcolor": "rgb(36,36,36)",
              "ticks": "outside"
             }
            },
            "type": "scattergl"
           }
          ],
          "scattermapbox": [
           {
            "marker": {
             "colorbar": {
              "outlinewidth": 1,
              "tickcolor": "rgb(36,36,36)",
              "ticks": "outside"
             }
            },
            "type": "scattermapbox"
           }
          ],
          "scatterpolar": [
           {
            "marker": {
             "colorbar": {
              "outlinewidth": 1,
              "tickcolor": "rgb(36,36,36)",
              "ticks": "outside"
             }
            },
            "type": "scatterpolar"
           }
          ],
          "scatterpolargl": [
           {
            "marker": {
             "colorbar": {
              "outlinewidth": 1,
              "tickcolor": "rgb(36,36,36)",
              "ticks": "outside"
             }
            },
            "type": "scatterpolargl"
           }
          ],
          "scatterternary": [
           {
            "marker": {
             "colorbar": {
              "outlinewidth": 1,
              "tickcolor": "rgb(36,36,36)",
              "ticks": "outside"
             }
            },
            "type": "scatterternary"
           }
          ],
          "surface": [
           {
            "colorbar": {
             "outlinewidth": 1,
             "tickcolor": "rgb(36,36,36)",
             "ticks": "outside"
            },
            "colorscale": [
             [
              0,
              "#440154"
             ],
             [
              0.1111111111111111,
              "#482878"
             ],
             [
              0.2222222222222222,
              "#3e4989"
             ],
             [
              0.3333333333333333,
              "#31688e"
             ],
             [
              0.4444444444444444,
              "#26828e"
             ],
             [
              0.5555555555555556,
              "#1f9e89"
             ],
             [
              0.6666666666666666,
              "#35b779"
             ],
             [
              0.7777777777777778,
              "#6ece58"
             ],
             [
              0.8888888888888888,
              "#b5de2b"
             ],
             [
              1,
              "#fde725"
             ]
            ],
            "type": "surface"
           }
          ],
          "table": [
           {
            "cells": {
             "fill": {
              "color": "rgb(237,237,237)"
             },
             "line": {
              "color": "white"
             }
            },
            "header": {
             "fill": {
              "color": "rgb(217,217,217)"
             },
             "line": {
              "color": "white"
             }
            },
            "type": "table"
           }
          ]
         },
         "layout": {
          "annotationdefaults": {
           "arrowhead": 0,
           "arrowwidth": 1
          },
          "autotypenumbers": "strict",
          "coloraxis": {
           "colorbar": {
            "outlinewidth": 1,
            "tickcolor": "rgb(36,36,36)",
            "ticks": "outside"
           }
          },
          "colorscale": {
           "diverging": [
            [
             0,
             "rgb(103,0,31)"
            ],
            [
             0.1,
             "rgb(178,24,43)"
            ],
            [
             0.2,
             "rgb(214,96,77)"
            ],
            [
             0.3,
             "rgb(244,165,130)"
            ],
            [
             0.4,
             "rgb(253,219,199)"
            ],
            [
             0.5,
             "rgb(247,247,247)"
            ],
            [
             0.6,
             "rgb(209,229,240)"
            ],
            [
             0.7,
             "rgb(146,197,222)"
            ],
            [
             0.8,
             "rgb(67,147,195)"
            ],
            [
             0.9,
             "rgb(33,102,172)"
            ],
            [
             1,
             "rgb(5,48,97)"
            ]
           ],
           "sequential": [
            [
             0,
             "#440154"
            ],
            [
             0.1111111111111111,
             "#482878"
            ],
            [
             0.2222222222222222,
             "#3e4989"
            ],
            [
             0.3333333333333333,
             "#31688e"
            ],
            [
             0.4444444444444444,
             "#26828e"
            ],
            [
             0.5555555555555556,
             "#1f9e89"
            ],
            [
             0.6666666666666666,
             "#35b779"
            ],
            [
             0.7777777777777778,
             "#6ece58"
            ],
            [
             0.8888888888888888,
             "#b5de2b"
            ],
            [
             1,
             "#fde725"
            ]
           ],
           "sequentialminus": [
            [
             0,
             "#440154"
            ],
            [
             0.1111111111111111,
             "#482878"
            ],
            [
             0.2222222222222222,
             "#3e4989"
            ],
            [
             0.3333333333333333,
             "#31688e"
            ],
            [
             0.4444444444444444,
             "#26828e"
            ],
            [
             0.5555555555555556,
             "#1f9e89"
            ],
            [
             0.6666666666666666,
             "#35b779"
            ],
            [
             0.7777777777777778,
             "#6ece58"
            ],
            [
             0.8888888888888888,
             "#b5de2b"
            ],
            [
             1,
             "#fde725"
            ]
           ]
          },
          "colorway": [
           "#1F77B4",
           "#FF7F0E",
           "#2CA02C",
           "#D62728",
           "#9467BD",
           "#8C564B",
           "#E377C2",
           "#7F7F7F",
           "#BCBD22",
           "#17BECF"
          ],
          "font": {
           "color": "rgb(36,36,36)"
          },
          "geo": {
           "bgcolor": "white",
           "lakecolor": "white",
           "landcolor": "white",
           "showlakes": true,
           "showland": true,
           "subunitcolor": "white"
          },
          "hoverlabel": {
           "align": "left"
          },
          "hovermode": "closest",
          "mapbox": {
           "style": "light"
          },
          "paper_bgcolor": "white",
          "plot_bgcolor": "white",
          "polar": {
           "angularaxis": {
            "gridcolor": "rgb(232,232,232)",
            "linecolor": "rgb(36,36,36)",
            "showgrid": false,
            "showline": true,
            "ticks": "outside"
           },
           "bgcolor": "white",
           "radialaxis": {
            "gridcolor": "rgb(232,232,232)",
            "linecolor": "rgb(36,36,36)",
            "showgrid": false,
            "showline": true,
            "ticks": "outside"
           }
          },
          "scene": {
           "xaxis": {
            "backgroundcolor": "white",
            "gridcolor": "rgb(232,232,232)",
            "gridwidth": 2,
            "linecolor": "rgb(36,36,36)",
            "showbackground": true,
            "showgrid": false,
            "showline": true,
            "ticks": "outside",
            "zeroline": false,
            "zerolinecolor": "rgb(36,36,36)"
           },
           "yaxis": {
            "backgroundcolor": "white",
            "gridcolor": "rgb(232,232,232)",
            "gridwidth": 2,
            "linecolor": "rgb(36,36,36)",
            "showbackground": true,
            "showgrid": false,
            "showline": true,
            "ticks": "outside",
            "zeroline": false,
            "zerolinecolor": "rgb(36,36,36)"
           },
           "zaxis": {
            "backgroundcolor": "white",
            "gridcolor": "rgb(232,232,232)",
            "gridwidth": 2,
            "linecolor": "rgb(36,36,36)",
            "showbackground": true,
            "showgrid": false,
            "showline": true,
            "ticks": "outside",
            "zeroline": false,
            "zerolinecolor": "rgb(36,36,36)"
           }
          },
          "shapedefaults": {
           "fillcolor": "black",
           "line": {
            "width": 0
           },
           "opacity": 0.3
          },
          "ternary": {
           "aaxis": {
            "gridcolor": "rgb(232,232,232)",
            "linecolor": "rgb(36,36,36)",
            "showgrid": false,
            "showline": true,
            "ticks": "outside"
           },
           "baxis": {
            "gridcolor": "rgb(232,232,232)",
            "linecolor": "rgb(36,36,36)",
            "showgrid": false,
            "showline": true,
            "ticks": "outside"
           },
           "bgcolor": "white",
           "caxis": {
            "gridcolor": "rgb(232,232,232)",
            "linecolor": "rgb(36,36,36)",
            "showgrid": false,
            "showline": true,
            "ticks": "outside"
           }
          },
          "title": {
           "x": 0.05
          },
          "xaxis": {
           "automargin": true,
           "gridcolor": "rgb(232,232,232)",
           "linecolor": "rgb(36,36,36)",
           "showgrid": false,
           "showline": true,
           "ticks": "outside",
           "title": {
            "standoff": 15
           },
           "zeroline": false,
           "zerolinecolor": "rgb(36,36,36)"
          },
          "yaxis": {
           "automargin": true,
           "gridcolor": "rgb(232,232,232)",
           "linecolor": "rgb(36,36,36)",
           "showgrid": false,
           "showline": true,
           "ticks": "outside",
           "title": {
            "standoff": 15
           },
           "zeroline": false,
           "zerolinecolor": "rgb(36,36,36)"
          }
         }
        },
        "xaxis": {
         "anchor": "y",
         "domain": [
          0,
          0.7363
         ],
         "title": {
          "text": "Primary_ed_completion_percent"
         }
        },
        "xaxis2": {
         "anchor": "y2",
         "domain": [
          0.7413,
          1
         ],
         "matches": "x2",
         "showline": false,
         "showticklabels": false,
         "ticks": ""
        },
        "xaxis3": {
         "anchor": "y3",
         "domain": [
          0,
          0.7363
         ],
         "matches": "x",
         "showticklabels": false
        },
        "xaxis4": {
         "anchor": "y4",
         "domain": [
          0.7413,
          1
         ],
         "matches": "x2",
         "showline": false,
         "showticklabels": false,
         "ticks": ""
        },
        "yaxis": {
         "anchor": "x",
         "domain": [
          0,
          0.7326
         ],
         "title": {
          "text": "Maternal_Death_Rate"
         }
        },
        "yaxis2": {
         "anchor": "x2",
         "domain": [
          0,
          0.7326
         ],
         "matches": "y",
         "showticklabels": false
        },
        "yaxis3": {
         "anchor": "x3",
         "domain": [
          0.7426,
          1
         ],
         "matches": "y3",
         "showline": false,
         "showticklabels": false,
         "ticks": ""
        },
        "yaxis4": {
         "anchor": "x4",
         "domain": [
          0.7426,
          1
         ],
         "matches": "y3",
         "showline": false,
         "showticklabels": false,
         "ticks": ""
        }
       }
      },
      "text/html": [
       "<div>                            <div id=\"7c81d250-8293-4b05-afc0-103aaa02ce0d\" class=\"plotly-graph-div\" style=\"height:525px; width:100%;\"></div>            <script type=\"text/javascript\">                require([\"plotly\"], function(Plotly) {                    window.PLOTLYENV=window.PLOTLYENV || {};                                    if (document.getElementById(\"7c81d250-8293-4b05-afc0-103aaa02ce0d\")) {                    Plotly.newPlot(                        \"7c81d250-8293-4b05-afc0-103aaa02ce0d\",                        [{\"hovertemplate\":\"Year=2005<br>Primary_ed_completion_percent=%{x}<br>Maternal_Death_Rate=%{y}<extra></extra>\",\"legendgroup\":\"2005\",\"marker\":{\"color\":\"#1F77B4\",\"symbol\":\"circle\"},\"mode\":\"markers\",\"name\":\"2005\",\"orientation\":\"v\",\"showlegend\":true,\"x\":[98.91,null,99.83,null,89.05,93.44,13.17,58.95035,70.26693,84.71531,63.39317,90.63,null,null,81.56,92.13,83.85818,78.54,null,28.21768,null,98.27,null,null,33.52226,40.90987,72.8,null,null,76.53,null,null,98.99,null,49.87584,null,null,98.25,null,62.43,97.06,null,91.79,84.73,90.11,null,null,10.48374,24.8962,99.04,32.69,null,null,null,97.67,99.44,89.53,87.26836],\"xaxis\":\"x\",\"y\":[22.0,6.0,11.0,7.0,271.0,71.0,814.0,351.0,692.0,83.0,677.0,33.0,12.0,6.0,83.0,94.0,52.0,62.0,18.0,865.0,5.0,39.0,6.0,3.0,920.0,459.0,77.0,15.0,5.0,286.0,7.0,3.0,80.0,30.0,679.0,14.0,9.0,9.0,11.0,131.0,10.0,5.0,88.0,137.0,118.0,4.0,9.0,643.0,519.0,12.0,1760.0,10.0,5.0,5.0,43.0,33.0,113.0,685.0],\"yaxis\":\"y\",\"type\":\"scatter\"},{\"alignmentgroup\":\"True\",\"hovertemplate\":\"Year=2005<br>Primary_ed_completion_percent=%{x}<extra></extra>\",\"legendgroup\":\"2005\",\"marker\":{\"color\":\"#1F77B4\",\"symbol\":\"circle\"},\"name\":\"2005\",\"notched\":true,\"offsetgroup\":\"2005\",\"showlegend\":false,\"x\":[98.91,null,99.83,null,89.05,93.44,13.17,58.95035,70.26693,84.71531,63.39317,90.63,null,null,81.56,92.13,83.85818,78.54,null,28.21768,null,98.27,null,null,33.52226,40.90987,72.8,null,null,76.53,null,null,98.99,null,49.87584,null,null,98.25,null,62.43,97.06,null,91.79,84.73,90.11,null,null,10.48374,24.8962,99.04,32.69,null,null,null,97.67,99.44,89.53,87.26836],\"xaxis\":\"x3\",\"yaxis\":\"y3\",\"type\":\"box\"},{\"alignmentgroup\":\"True\",\"hovertemplate\":\"Year=2005<br>Maternal_Death_Rate=%{y}<extra></extra>\",\"legendgroup\":\"2005\",\"marker\":{\"color\":\"#1F77B4\",\"symbol\":\"circle\"},\"name\":\"2005\",\"offsetgroup\":\"2005\",\"scalegroup\":\"y\",\"showlegend\":false,\"xaxis\":\"x2\",\"y\":[22.0,6.0,11.0,7.0,271.0,71.0,814.0,351.0,692.0,83.0,677.0,33.0,12.0,6.0,83.0,94.0,52.0,62.0,18.0,865.0,5.0,39.0,6.0,3.0,920.0,459.0,77.0,15.0,5.0,286.0,7.0,3.0,80.0,30.0,679.0,14.0,9.0,9.0,11.0,131.0,10.0,5.0,88.0,137.0,118.0,4.0,9.0,643.0,519.0,12.0,1760.0,10.0,5.0,5.0,43.0,33.0,113.0,685.0],\"yaxis\":\"y2\",\"type\":\"violin\"},{\"hovertemplate\":\"Year=2010<br>Primary_ed_completion_percent=%{x}<br>Maternal_Death_Rate=%{y}<extra></extra>\",\"legendgroup\":\"2010\",\"marker\":{\"color\":\"#FF7F0E\",\"symbol\":\"circle\"},\"mode\":\"markers\",\"name\":\"2010\",\"orientation\":\"v\",\"showlegend\":true,\"x\":[92.67375,null,67.86397,30.90798,39.82951,71.06843,null,27.22,96.69,90.59966,91.22,98.32,44.46562,85.62,95.59,82.34,66.18265,58.49359,64.14412,80.82,54.32379,38.05,95.8,96.52,71.57501,92.21018,87.1,93.43,86.76748,99.38302,39.85742,59.6,24.64012,71.44,80.11366,57.44461,96.17,92.72,66.74353,88.25243],\"xaxis\":\"x\",\"y\":[51.0,5.0,247.0,385.0,665.0,248.0,11.0,1240.0,36.0,85.0,32.0,41.0,542.0,96.0,78.0,54.0,450.0,661.0,339.0,74.0,444.0,660.0,46.0,66.0,978.0,79.0,108.0,104.0,144.0,21.0,373.0,1360.0,1100.0,408.0,148.0,440.0,17.0,117.0,305.0,598.0],\"yaxis\":\"y\",\"type\":\"scatter\"},{\"alignmentgroup\":\"True\",\"hovertemplate\":\"Year=2010<br>Primary_ed_completion_percent=%{x}<extra></extra>\",\"legendgroup\":\"2010\",\"marker\":{\"color\":\"#FF7F0E\",\"symbol\":\"circle\"},\"name\":\"2010\",\"notched\":true,\"offsetgroup\":\"2010\",\"showlegend\":false,\"x\":[92.67375,null,67.86397,30.90798,39.82951,71.06843,null,27.22,96.69,90.59966,91.22,98.32,44.46562,85.62,95.59,82.34,66.18265,58.49359,64.14412,80.82,54.32379,38.05,95.8,96.52,71.57501,92.21018,87.1,93.43,86.76748,99.38302,39.85742,59.6,24.64012,71.44,80.11366,57.44461,96.17,92.72,66.74353,88.25243],\"xaxis\":\"x3\",\"yaxis\":\"y3\",\"type\":\"box\"},{\"alignmentgroup\":\"True\",\"hovertemplate\":\"Year=2010<br>Maternal_Death_Rate=%{y}<extra></extra>\",\"legendgroup\":\"2010\",\"marker\":{\"color\":\"#FF7F0E\",\"symbol\":\"circle\"},\"name\":\"2010\",\"offsetgroup\":\"2010\",\"scalegroup\":\"y\",\"showlegend\":false,\"xaxis\":\"x2\",\"y\":[51.0,5.0,247.0,385.0,665.0,248.0,11.0,1240.0,36.0,85.0,32.0,41.0,542.0,96.0,78.0,54.0,450.0,661.0,339.0,74.0,444.0,660.0,46.0,66.0,978.0,79.0,108.0,104.0,144.0,21.0,373.0,1360.0,1100.0,408.0,148.0,440.0,17.0,117.0,305.0,598.0],\"yaxis\":\"y2\",\"type\":\"violin\"},{\"hovertemplate\":\"Year=2014<br>Primary_ed_completion_percent=%{x}<br>Maternal_Death_Rate=%{y}<extra></extra>\",\"legendgroup\":\"2014\",\"marker\":{\"color\":\"#2CA02C\",\"symbol\":\"circle\"},\"mode\":\"markers\",\"name\":\"2014\",\"orientation\":\"v\",\"showlegend\":true,\"x\":[null,80.01213,null,54.11723,93.18,96.72,null,72.28277,73.64866,27.32146,97.21,91.8,94.51,null,99.50179,null,null,91.51656,97.64,90.86884,88.41,null,70.2268,null,null,65.83102,null,72.4,29.14938,97.5321,82.53,null,null,null,null,84.14092,99.26881,null,64.90466,null,null,48.07,null,96.44,97.89996,76.22546,null,74.44,null,94.13,89.62,95.73,null,null,null,82.87718,50.17,99.3068,null,null,65.42644,null,null,61.28725,98.49266,97.3,94.07,86.77],\"xaxis\":\"x\",\"y\":[5.0,214.0,6.0,432.0,175.0,62.0,11.0,189.0,564.0,1170.0,31.0,85.0,29.0,8.0,39.0,8.0,4.0,94.0,65.0,39.0,49.0,11.0,434.0,3.0,5.0,325.0,3.0,107.0,711.0,174.0,68.0,12.0,5.0,6.0,2.0,358.0,69.0,24.0,579.0,9.0,6.0,381.0,6.0,38.0,49.0,231.0,6.0,103.0,3.0,60.0,91.0,96.0,2.0,8.0,21.0,131.0,364.0,12.0,7.0,4.0,333.0,5.0,5.0,401.0,19.0,17.0,113.0,494.0],\"yaxis\":\"y\",\"type\":\"scatter\"},{\"alignmentgroup\":\"True\",\"hovertemplate\":\"Year=2014<br>Primary_ed_completion_percent=%{x}<extra></extra>\",\"legendgroup\":\"2014\",\"marker\":{\"color\":\"#2CA02C\",\"symbol\":\"circle\"},\"name\":\"2014\",\"notched\":true,\"offsetgroup\":\"2014\",\"showlegend\":false,\"x\":[null,80.01213,null,54.11723,93.18,96.72,null,72.28277,73.64866,27.32146,97.21,91.8,94.51,null,99.50179,null,null,91.51656,97.64,90.86884,88.41,null,70.2268,null,null,65.83102,null,72.4,29.14938,97.5321,82.53,null,null,null,null,84.14092,99.26881,null,64.90466,null,null,48.07,null,96.44,97.89996,76.22546,null,74.44,null,94.13,89.62,95.73,null,null,null,82.87718,50.17,99.3068,null,null,65.42644,null,null,61.28725,98.49266,97.3,94.07,86.77],\"xaxis\":\"x3\",\"yaxis\":\"y3\",\"type\":\"box\"},{\"alignmentgroup\":\"True\",\"hovertemplate\":\"Year=2014<br>Maternal_Death_Rate=%{y}<extra></extra>\",\"legendgroup\":\"2014\",\"marker\":{\"color\":\"#2CA02C\",\"symbol\":\"circle\"},\"name\":\"2014\",\"offsetgroup\":\"2014\",\"scalegroup\":\"y\",\"showlegend\":false,\"xaxis\":\"x2\",\"y\":[5.0,214.0,6.0,432.0,175.0,62.0,11.0,189.0,564.0,1170.0,31.0,85.0,29.0,8.0,39.0,8.0,4.0,94.0,65.0,39.0,49.0,11.0,434.0,3.0,5.0,325.0,3.0,107.0,711.0,174.0,68.0,12.0,5.0,6.0,2.0,358.0,69.0,24.0,579.0,9.0,6.0,381.0,6.0,38.0,49.0,231.0,6.0,103.0,3.0,60.0,91.0,96.0,2.0,8.0,21.0,131.0,364.0,12.0,7.0,4.0,333.0,5.0,5.0,401.0,19.0,17.0,113.0,494.0],\"yaxis\":\"y2\",\"type\":\"violin\"}],                        {\"template\":{\"data\":{\"barpolar\":[{\"marker\":{\"line\":{\"color\":\"white\",\"width\":0.5},\"pattern\":{\"fillmode\":\"overlay\",\"size\":10,\"solidity\":0.2}},\"type\":\"barpolar\"}],\"bar\":[{\"error_x\":{\"color\":\"rgb(36,36,36)\"},\"error_y\":{\"color\":\"rgb(36,36,36)\"},\"marker\":{\"line\":{\"color\":\"white\",\"width\":0.5},\"pattern\":{\"fillmode\":\"overlay\",\"size\":10,\"solidity\":0.2}},\"type\":\"bar\"}],\"carpet\":[{\"aaxis\":{\"endlinecolor\":\"rgb(36,36,36)\",\"gridcolor\":\"white\",\"linecolor\":\"white\",\"minorgridcolor\":\"white\",\"startlinecolor\":\"rgb(36,36,36)\"},\"baxis\":{\"endlinecolor\":\"rgb(36,36,36)\",\"gridcolor\":\"white\",\"linecolor\":\"white\",\"minorgridcolor\":\"white\",\"startlinecolor\":\"rgb(36,36,36)\"},\"type\":\"carpet\"}],\"choropleth\":[{\"colorbar\":{\"outlinewidth\":1,\"tickcolor\":\"rgb(36,36,36)\",\"ticks\":\"outside\"},\"type\":\"choropleth\"}],\"contourcarpet\":[{\"colorbar\":{\"outlinewidth\":1,\"tickcolor\":\"rgb(36,36,36)\",\"ticks\":\"outside\"},\"type\":\"contourcarpet\"}],\"contour\":[{\"colorbar\":{\"outlinewidth\":1,\"tickcolor\":\"rgb(36,36,36)\",\"ticks\":\"outside\"},\"colorscale\":[[0.0,\"#440154\"],[0.1111111111111111,\"#482878\"],[0.2222222222222222,\"#3e4989\"],[0.3333333333333333,\"#31688e\"],[0.4444444444444444,\"#26828e\"],[0.5555555555555556,\"#1f9e89\"],[0.6666666666666666,\"#35b779\"],[0.7777777777777778,\"#6ece58\"],[0.8888888888888888,\"#b5de2b\"],[1.0,\"#fde725\"]],\"type\":\"contour\"}],\"heatmapgl\":[{\"colorbar\":{\"outlinewidth\":1,\"tickcolor\":\"rgb(36,36,36)\",\"ticks\":\"outside\"},\"colorscale\":[[0.0,\"#440154\"],[0.1111111111111111,\"#482878\"],[0.2222222222222222,\"#3e4989\"],[0.3333333333333333,\"#31688e\"],[0.4444444444444444,\"#26828e\"],[0.5555555555555556,\"#1f9e89\"],[0.6666666666666666,\"#35b779\"],[0.7777777777777778,\"#6ece58\"],[0.8888888888888888,\"#b5de2b\"],[1.0,\"#fde725\"]],\"type\":\"heatmapgl\"}],\"heatmap\":[{\"colorbar\":{\"outlinewidth\":1,\"tickcolor\":\"rgb(36,36,36)\",\"ticks\":\"outside\"},\"colorscale\":[[0.0,\"#440154\"],[0.1111111111111111,\"#482878\"],[0.2222222222222222,\"#3e4989\"],[0.3333333333333333,\"#31688e\"],[0.4444444444444444,\"#26828e\"],[0.5555555555555556,\"#1f9e89\"],[0.6666666666666666,\"#35b779\"],[0.7777777777777778,\"#6ece58\"],[0.8888888888888888,\"#b5de2b\"],[1.0,\"#fde725\"]],\"type\":\"heatmap\"}],\"histogram2dcontour\":[{\"colorbar\":{\"outlinewidth\":1,\"tickcolor\":\"rgb(36,36,36)\",\"ticks\":\"outside\"},\"colorscale\":[[0.0,\"#440154\"],[0.1111111111111111,\"#482878\"],[0.2222222222222222,\"#3e4989\"],[0.3333333333333333,\"#31688e\"],[0.4444444444444444,\"#26828e\"],[0.5555555555555556,\"#1f9e89\"],[0.6666666666666666,\"#35b779\"],[0.7777777777777778,\"#6ece58\"],[0.8888888888888888,\"#b5de2b\"],[1.0,\"#fde725\"]],\"type\":\"histogram2dcontour\"}],\"histogram2d\":[{\"colorbar\":{\"outlinewidth\":1,\"tickcolor\":\"rgb(36,36,36)\",\"ticks\":\"outside\"},\"colorscale\":[[0.0,\"#440154\"],[0.1111111111111111,\"#482878\"],[0.2222222222222222,\"#3e4989\"],[0.3333333333333333,\"#31688e\"],[0.4444444444444444,\"#26828e\"],[0.5555555555555556,\"#1f9e89\"],[0.6666666666666666,\"#35b779\"],[0.7777777777777778,\"#6ece58\"],[0.8888888888888888,\"#b5de2b\"],[1.0,\"#fde725\"]],\"type\":\"histogram2d\"}],\"histogram\":[{\"marker\":{\"line\":{\"color\":\"white\",\"width\":0.6}},\"type\":\"histogram\"}],\"mesh3d\":[{\"colorbar\":{\"outlinewidth\":1,\"tickcolor\":\"rgb(36,36,36)\",\"ticks\":\"outside\"},\"type\":\"mesh3d\"}],\"parcoords\":[{\"line\":{\"colorbar\":{\"outlinewidth\":1,\"tickcolor\":\"rgb(36,36,36)\",\"ticks\":\"outside\"}},\"type\":\"parcoords\"}],\"pie\":[{\"automargin\":true,\"type\":\"pie\"}],\"scatter3d\":[{\"line\":{\"colorbar\":{\"outlinewidth\":1,\"tickcolor\":\"rgb(36,36,36)\",\"ticks\":\"outside\"}},\"marker\":{\"colorbar\":{\"outlinewidth\":1,\"tickcolor\":\"rgb(36,36,36)\",\"ticks\":\"outside\"}},\"type\":\"scatter3d\"}],\"scattercarpet\":[{\"marker\":{\"colorbar\":{\"outlinewidth\":1,\"tickcolor\":\"rgb(36,36,36)\",\"ticks\":\"outside\"}},\"type\":\"scattercarpet\"}],\"scattergeo\":[{\"marker\":{\"colorbar\":{\"outlinewidth\":1,\"tickcolor\":\"rgb(36,36,36)\",\"ticks\":\"outside\"}},\"type\":\"scattergeo\"}],\"scattergl\":[{\"marker\":{\"colorbar\":{\"outlinewidth\":1,\"tickcolor\":\"rgb(36,36,36)\",\"ticks\":\"outside\"}},\"type\":\"scattergl\"}],\"scattermapbox\":[{\"marker\":{\"colorbar\":{\"outlinewidth\":1,\"tickcolor\":\"rgb(36,36,36)\",\"ticks\":\"outside\"}},\"type\":\"scattermapbox\"}],\"scatterpolargl\":[{\"marker\":{\"colorbar\":{\"outlinewidth\":1,\"tickcolor\":\"rgb(36,36,36)\",\"ticks\":\"outside\"}},\"type\":\"scatterpolargl\"}],\"scatterpolar\":[{\"marker\":{\"colorbar\":{\"outlinewidth\":1,\"tickcolor\":\"rgb(36,36,36)\",\"ticks\":\"outside\"}},\"type\":\"scatterpolar\"}],\"scatter\":[{\"marker\":{\"colorbar\":{\"outlinewidth\":1,\"tickcolor\":\"rgb(36,36,36)\",\"ticks\":\"outside\"}},\"type\":\"scatter\"}],\"scatterternary\":[{\"marker\":{\"colorbar\":{\"outlinewidth\":1,\"tickcolor\":\"rgb(36,36,36)\",\"ticks\":\"outside\"}},\"type\":\"scatterternary\"}],\"surface\":[{\"colorbar\":{\"outlinewidth\":1,\"tickcolor\":\"rgb(36,36,36)\",\"ticks\":\"outside\"},\"colorscale\":[[0.0,\"#440154\"],[0.1111111111111111,\"#482878\"],[0.2222222222222222,\"#3e4989\"],[0.3333333333333333,\"#31688e\"],[0.4444444444444444,\"#26828e\"],[0.5555555555555556,\"#1f9e89\"],[0.6666666666666666,\"#35b779\"],[0.7777777777777778,\"#6ece58\"],[0.8888888888888888,\"#b5de2b\"],[1.0,\"#fde725\"]],\"type\":\"surface\"}],\"table\":[{\"cells\":{\"fill\":{\"color\":\"rgb(237,237,237)\"},\"line\":{\"color\":\"white\"}},\"header\":{\"fill\":{\"color\":\"rgb(217,217,217)\"},\"line\":{\"color\":\"white\"}},\"type\":\"table\"}]},\"layout\":{\"annotationdefaults\":{\"arrowhead\":0,\"arrowwidth\":1},\"autotypenumbers\":\"strict\",\"coloraxis\":{\"colorbar\":{\"outlinewidth\":1,\"tickcolor\":\"rgb(36,36,36)\",\"ticks\":\"outside\"}},\"colorscale\":{\"diverging\":[[0.0,\"rgb(103,0,31)\"],[0.1,\"rgb(178,24,43)\"],[0.2,\"rgb(214,96,77)\"],[0.3,\"rgb(244,165,130)\"],[0.4,\"rgb(253,219,199)\"],[0.5,\"rgb(247,247,247)\"],[0.6,\"rgb(209,229,240)\"],[0.7,\"rgb(146,197,222)\"],[0.8,\"rgb(67,147,195)\"],[0.9,\"rgb(33,102,172)\"],[1.0,\"rgb(5,48,97)\"]],\"sequential\":[[0.0,\"#440154\"],[0.1111111111111111,\"#482878\"],[0.2222222222222222,\"#3e4989\"],[0.3333333333333333,\"#31688e\"],[0.4444444444444444,\"#26828e\"],[0.5555555555555556,\"#1f9e89\"],[0.6666666666666666,\"#35b779\"],[0.7777777777777778,\"#6ece58\"],[0.8888888888888888,\"#b5de2b\"],[1.0,\"#fde725\"]],\"sequentialminus\":[[0.0,\"#440154\"],[0.1111111111111111,\"#482878\"],[0.2222222222222222,\"#3e4989\"],[0.3333333333333333,\"#31688e\"],[0.4444444444444444,\"#26828e\"],[0.5555555555555556,\"#1f9e89\"],[0.6666666666666666,\"#35b779\"],[0.7777777777777778,\"#6ece58\"],[0.8888888888888888,\"#b5de2b\"],[1.0,\"#fde725\"]]},\"colorway\":[\"#1F77B4\",\"#FF7F0E\",\"#2CA02C\",\"#D62728\",\"#9467BD\",\"#8C564B\",\"#E377C2\",\"#7F7F7F\",\"#BCBD22\",\"#17BECF\"],\"font\":{\"color\":\"rgb(36,36,36)\"},\"geo\":{\"bgcolor\":\"white\",\"lakecolor\":\"white\",\"landcolor\":\"white\",\"showlakes\":true,\"showland\":true,\"subunitcolor\":\"white\"},\"hoverlabel\":{\"align\":\"left\"},\"hovermode\":\"closest\",\"mapbox\":{\"style\":\"light\"},\"paper_bgcolor\":\"white\",\"plot_bgcolor\":\"white\",\"polar\":{\"angularaxis\":{\"gridcolor\":\"rgb(232,232,232)\",\"linecolor\":\"rgb(36,36,36)\",\"showgrid\":false,\"showline\":true,\"ticks\":\"outside\"},\"bgcolor\":\"white\",\"radialaxis\":{\"gridcolor\":\"rgb(232,232,232)\",\"linecolor\":\"rgb(36,36,36)\",\"showgrid\":false,\"showline\":true,\"ticks\":\"outside\"}},\"scene\":{\"xaxis\":{\"backgroundcolor\":\"white\",\"gridcolor\":\"rgb(232,232,232)\",\"gridwidth\":2,\"linecolor\":\"rgb(36,36,36)\",\"showbackground\":true,\"showgrid\":false,\"showline\":true,\"ticks\":\"outside\",\"zeroline\":false,\"zerolinecolor\":\"rgb(36,36,36)\"},\"yaxis\":{\"backgroundcolor\":\"white\",\"gridcolor\":\"rgb(232,232,232)\",\"gridwidth\":2,\"linecolor\":\"rgb(36,36,36)\",\"showbackground\":true,\"showgrid\":false,\"showline\":true,\"ticks\":\"outside\",\"zeroline\":false,\"zerolinecolor\":\"rgb(36,36,36)\"},\"zaxis\":{\"backgroundcolor\":\"white\",\"gridcolor\":\"rgb(232,232,232)\",\"gridwidth\":2,\"linecolor\":\"rgb(36,36,36)\",\"showbackground\":true,\"showgrid\":false,\"showline\":true,\"ticks\":\"outside\",\"zeroline\":false,\"zerolinecolor\":\"rgb(36,36,36)\"}},\"shapedefaults\":{\"fillcolor\":\"black\",\"line\":{\"width\":0},\"opacity\":0.3},\"ternary\":{\"aaxis\":{\"gridcolor\":\"rgb(232,232,232)\",\"linecolor\":\"rgb(36,36,36)\",\"showgrid\":false,\"showline\":true,\"ticks\":\"outside\"},\"baxis\":{\"gridcolor\":\"rgb(232,232,232)\",\"linecolor\":\"rgb(36,36,36)\",\"showgrid\":false,\"showline\":true,\"ticks\":\"outside\"},\"bgcolor\":\"white\",\"caxis\":{\"gridcolor\":\"rgb(232,232,232)\",\"linecolor\":\"rgb(36,36,36)\",\"showgrid\":false,\"showline\":true,\"ticks\":\"outside\"}},\"title\":{\"x\":0.05},\"xaxis\":{\"automargin\":true,\"gridcolor\":\"rgb(232,232,232)\",\"linecolor\":\"rgb(36,36,36)\",\"showgrid\":false,\"showline\":true,\"ticks\":\"outside\",\"title\":{\"standoff\":15},\"zeroline\":false,\"zerolinecolor\":\"rgb(36,36,36)\"},\"yaxis\":{\"automargin\":true,\"gridcolor\":\"rgb(232,232,232)\",\"linecolor\":\"rgb(36,36,36)\",\"showgrid\":false,\"showline\":true,\"ticks\":\"outside\",\"title\":{\"standoff\":15},\"zeroline\":false,\"zerolinecolor\":\"rgb(36,36,36)\"}}},\"xaxis\":{\"anchor\":\"y\",\"domain\":[0.0,0.7363],\"title\":{\"text\":\"Primary_ed_completion_percent\"}},\"yaxis\":{\"anchor\":\"x\",\"domain\":[0.0,0.7326],\"title\":{\"text\":\"Maternal_Death_Rate\"}},\"xaxis2\":{\"anchor\":\"y2\",\"domain\":[0.7413,1.0],\"matches\":\"x2\",\"showticklabels\":false,\"showline\":false,\"ticks\":\"\"},\"yaxis2\":{\"anchor\":\"x2\",\"domain\":[0.0,0.7326],\"matches\":\"y\",\"showticklabels\":false},\"xaxis3\":{\"anchor\":\"y3\",\"domain\":[0.0,0.7363],\"matches\":\"x\",\"showticklabels\":false},\"yaxis3\":{\"anchor\":\"x3\",\"domain\":[0.7426,1.0],\"matches\":\"y3\",\"showticklabels\":false,\"showline\":false,\"ticks\":\"\"},\"xaxis4\":{\"anchor\":\"y4\",\"domain\":[0.7413,1.0],\"matches\":\"x2\",\"showticklabels\":false,\"showline\":false,\"ticks\":\"\"},\"yaxis4\":{\"anchor\":\"x4\",\"domain\":[0.7426,1.0],\"matches\":\"y3\",\"showticklabels\":false,\"showline\":false,\"ticks\":\"\"},\"legend\":{\"title\":{\"text\":\"Year\"},\"tracegroupgap\":0},\"margin\":{\"t\":60}},                        {\"responsive\": true}                    ).then(function(){\n",
       "                            \n",
       "var gd = document.getElementById('7c81d250-8293-4b05-afc0-103aaa02ce0d');\n",
       "var x = new MutationObserver(function (mutations, observer) {{\n",
       "        var display = window.getComputedStyle(gd).display;\n",
       "        if (!display || display === 'none') {{\n",
       "            console.log([gd, 'removed!']);\n",
       "            Plotly.purge(gd);\n",
       "            observer.disconnect();\n",
       "        }}\n",
       "}});\n",
       "\n",
       "// Listen for the removal of the full notebook cells\n",
       "var notebookContainer = gd.closest('#notebook-container');\n",
       "if (notebookContainer) {{\n",
       "    x.observe(notebookContainer, {childList: true});\n",
       "}}\n",
       "\n",
       "// Listen for the clearing of the current output cell\n",
       "var outputEl = gd.closest('.output');\n",
       "if (outputEl) {{\n",
       "    x.observe(outputEl, {childList: true});\n",
       "}}\n",
       "\n",
       "                        })                };                });            </script>        </div>"
      ]
     },
     "metadata": {},
     "output_type": "display_data"
    }
   ],
   "source": [
    "df = key_years.loc[(key_years['Sex'] == '_T')]\n",
    "fig = px.scatter(df,\n",
    "                 x=\"Primary_ed_completion_percent\", \n",
    "                 y=\"Maternal_Death_Rate\", \n",
    "                 color=\"Year\", \n",
    "                 marginal_y=\"violin\",\n",
    "                 marginal_x=\"box\", \n",
    "                 template=\"simple_white\")\n",
    "fig.show()"
   ]
  },
  {
   "cell_type": "code",
   "execution_count": 87,
   "id": "248d250a",
   "metadata": {},
   "outputs": [
    {
     "data": {
      "application/vnd.plotly.v1+json": {
       "config": {
        "plotlyServerURL": "https://plot.ly"
       },
       "data": [
        {
         "hovertemplate": "Year=2005<br>Primary_ed_completion_percent=%{x}<br>Maternal_Death_Rate=%{y}<extra></extra>",
         "legendgroup": "2005",
         "marker": {
          "color": "#1F77B4",
          "symbol": "circle"
         },
         "mode": "markers",
         "name": "2005",
         "orientation": "v",
         "showlegend": true,
         "type": "scatter",
         "x": [
          98.81,
          null,
          100,
          null,
          88.87,
          95.22,
          11.65,
          58.90414,
          68.2568,
          87.61098,
          63.85842,
          92.39,
          null,
          null,
          85.68,
          93.75,
          81.30888,
          79.2,
          null,
          23.29575,
          null,
          97.87,
          null,
          null,
          23.7841,
          44.88008,
          77.11,
          null,
          null,
          75.1,
          null,
          null,
          99.39,
          null,
          63.58078,
          null,
          null,
          98.85,
          null,
          67.93,
          97.16,
          null,
          93.29,
          88.05,
          88.89,
          null,
          null,
          10.93098,
          22.23406,
          98.81,
          29.06,
          null,
          null,
          null,
          98.04,
          98.8,
          92.46,
          88.63229
         ],
         "xaxis": "x",
         "y": [
          22,
          6,
          11,
          7,
          271,
          71,
          814,
          351,
          692,
          83,
          677,
          33,
          12,
          6,
          83,
          94,
          52,
          62,
          18,
          865,
          5,
          39,
          6,
          3,
          920,
          459,
          77,
          15,
          5,
          286,
          7,
          3,
          80,
          30,
          679,
          14,
          9,
          9,
          11,
          131,
          10,
          5,
          88,
          137,
          118,
          4,
          9,
          643,
          519,
          12,
          1760,
          10,
          5,
          5,
          43,
          33,
          113,
          685
         ],
         "yaxis": "y"
        },
        {
         "alignmentgroup": "True",
         "hovertemplate": "Year=2005<br>Primary_ed_completion_percent=%{x}<extra></extra>",
         "legendgroup": "2005",
         "marker": {
          "color": "#1F77B4",
          "symbol": "circle"
         },
         "name": "2005",
         "notched": true,
         "offsetgroup": "2005",
         "showlegend": false,
         "type": "box",
         "x": [
          98.81,
          null,
          100,
          null,
          88.87,
          95.22,
          11.65,
          58.90414,
          68.2568,
          87.61098,
          63.85842,
          92.39,
          null,
          null,
          85.68,
          93.75,
          81.30888,
          79.2,
          null,
          23.29575,
          null,
          97.87,
          null,
          null,
          23.7841,
          44.88008,
          77.11,
          null,
          null,
          75.1,
          null,
          null,
          99.39,
          null,
          63.58078,
          null,
          null,
          98.85,
          null,
          67.93,
          97.16,
          null,
          93.29,
          88.05,
          88.89,
          null,
          null,
          10.93098,
          22.23406,
          98.81,
          29.06,
          null,
          null,
          null,
          98.04,
          98.8,
          92.46,
          88.63229
         ],
         "xaxis": "x3",
         "yaxis": "y3"
        },
        {
         "alignmentgroup": "True",
         "hovertemplate": "Year=2005<br>Maternal_Death_Rate=%{y}<extra></extra>",
         "legendgroup": "2005",
         "marker": {
          "color": "#1F77B4",
          "symbol": "circle"
         },
         "name": "2005",
         "offsetgroup": "2005",
         "scalegroup": "y",
         "showlegend": false,
         "type": "violin",
         "xaxis": "x2",
         "y": [
          22,
          6,
          11,
          7,
          271,
          71,
          814,
          351,
          692,
          83,
          677,
          33,
          12,
          6,
          83,
          94,
          52,
          62,
          18,
          865,
          5,
          39,
          6,
          3,
          920,
          459,
          77,
          15,
          5,
          286,
          7,
          3,
          80,
          30,
          679,
          14,
          9,
          9,
          11,
          131,
          10,
          5,
          88,
          137,
          118,
          4,
          9,
          643,
          519,
          12,
          1760,
          10,
          5,
          5,
          43,
          33,
          113,
          685
         ],
         "yaxis": "y2"
        },
        {
         "hovertemplate": "Year=2010<br>Primary_ed_completion_percent=%{x}<br>Maternal_Death_Rate=%{y}<extra></extra>",
         "legendgroup": "2010",
         "marker": {
          "color": "#FF7F0E",
          "symbol": "circle"
         },
         "mode": "markers",
         "name": "2010",
         "orientation": "v",
         "showlegend": true,
         "type": "scatter",
         "x": [
          93.81141,
          null,
          70.03057,
          29.51919,
          38.41388,
          72.16656,
          null,
          23.18,
          97.09,
          93.27485,
          93.42,
          98.9,
          42.67512,
          91.33,
          96.56,
          84.25,
          73.75092,
          61.12356,
          65.26145,
          83.93,
          58.4648,
          29.39,
          96.72,
          97.7,
          71.23172,
          93.12082,
          90.05,
          93.6,
          90.61983,
          99.04262,
          40.81238,
          58.42,
          18.27363,
          66.47,
          83.38417,
          53.48973,
          97.09,
          94.8,
          66.77598,
          90.63749
         ],
         "xaxis": "x",
         "y": [
          51,
          5,
          247,
          385,
          665,
          248,
          11,
          1240,
          36,
          85,
          32,
          41,
          542,
          96,
          78,
          54,
          450,
          661,
          339,
          74,
          444,
          660,
          46,
          66,
          978,
          79,
          108,
          104,
          144,
          21,
          373,
          1360,
          1100,
          408,
          148,
          440,
          17,
          117,
          305,
          598
         ],
         "yaxis": "y"
        },
        {
         "alignmentgroup": "True",
         "hovertemplate": "Year=2010<br>Primary_ed_completion_percent=%{x}<extra></extra>",
         "legendgroup": "2010",
         "marker": {
          "color": "#FF7F0E",
          "symbol": "circle"
         },
         "name": "2010",
         "notched": true,
         "offsetgroup": "2010",
         "showlegend": false,
         "type": "box",
         "x": [
          93.81141,
          null,
          70.03057,
          29.51919,
          38.41388,
          72.16656,
          null,
          23.18,
          97.09,
          93.27485,
          93.42,
          98.9,
          42.67512,
          91.33,
          96.56,
          84.25,
          73.75092,
          61.12356,
          65.26145,
          83.93,
          58.4648,
          29.39,
          96.72,
          97.7,
          71.23172,
          93.12082,
          90.05,
          93.6,
          90.61983,
          99.04262,
          40.81238,
          58.42,
          18.27363,
          66.47,
          83.38417,
          53.48973,
          97.09,
          94.8,
          66.77598,
          90.63749
         ],
         "xaxis": "x3",
         "yaxis": "y3"
        },
        {
         "alignmentgroup": "True",
         "hovertemplate": "Year=2010<br>Maternal_Death_Rate=%{y}<extra></extra>",
         "legendgroup": "2010",
         "marker": {
          "color": "#FF7F0E",
          "symbol": "circle"
         },
         "name": "2010",
         "offsetgroup": "2010",
         "scalegroup": "y",
         "showlegend": false,
         "type": "violin",
         "xaxis": "x2",
         "y": [
          51,
          5,
          247,
          385,
          665,
          248,
          11,
          1240,
          36,
          85,
          32,
          41,
          542,
          96,
          78,
          54,
          450,
          661,
          339,
          74,
          444,
          660,
          46,
          66,
          978,
          79,
          108,
          104,
          144,
          21,
          373,
          1360,
          1100,
          408,
          148,
          440,
          17,
          117,
          305,
          598
         ],
         "yaxis": "y2"
        },
        {
         "hovertemplate": "Year=2014<br>Primary_ed_completion_percent=%{x}<br>Maternal_Death_Rate=%{y}<extra></extra>",
         "legendgroup": "2014",
         "marker": {
          "color": "#2CA02C",
          "symbol": "circle"
         },
         "mode": "markers",
         "name": "2014",
         "orientation": "v",
         "showlegend": true,
         "type": "scatter",
         "x": [
          null,
          84.44126,
          null,
          48.67413,
          92.79,
          97.82,
          null,
          77.21745,
          72.50016,
          23.72016,
          98.02,
          94.54,
          94.89,
          null,
          99.71584,
          null,
          null,
          94.70614,
          98.29,
          91.53024,
          90.31,
          null,
          76.72132,
          null,
          null,
          67.84778,
          null,
          71.65,
          25.74895,
          99.05898,
          83.74,
          null,
          null,
          null,
          null,
          86.92873,
          99.46177,
          null,
          78.1806,
          null,
          null,
          51.43,
          null,
          97.25,
          98.64397,
          75.60509,
          null,
          84.31,
          null,
          94.86,
          92.21,
          96.31,
          null,
          null,
          null,
          85.53096,
          49.98,
          99.55871,
          null,
          null,
          64.43813,
          null,
          null,
          57.59164,
          97.85593,
          98.23,
          95.27,
          90.7
         ],
         "xaxis": "x",
         "y": [
          5,
          214,
          6,
          432,
          175,
          62,
          11,
          189,
          564,
          1170,
          31,
          85,
          29,
          8,
          39,
          8,
          4,
          94,
          65,
          39,
          49,
          11,
          434,
          3,
          5,
          325,
          3,
          107,
          711,
          174,
          68,
          12,
          5,
          6,
          2,
          358,
          69,
          24,
          579,
          9,
          6,
          381,
          6,
          38,
          49,
          231,
          6,
          103,
          3,
          60,
          91,
          96,
          2,
          8,
          21,
          131,
          364,
          12,
          7,
          4,
          333,
          5,
          5,
          401,
          19,
          17,
          113,
          494
         ],
         "yaxis": "y"
        },
        {
         "alignmentgroup": "True",
         "hovertemplate": "Year=2014<br>Primary_ed_completion_percent=%{x}<extra></extra>",
         "legendgroup": "2014",
         "marker": {
          "color": "#2CA02C",
          "symbol": "circle"
         },
         "name": "2014",
         "notched": true,
         "offsetgroup": "2014",
         "showlegend": false,
         "type": "box",
         "x": [
          null,
          84.44126,
          null,
          48.67413,
          92.79,
          97.82,
          null,
          77.21745,
          72.50016,
          23.72016,
          98.02,
          94.54,
          94.89,
          null,
          99.71584,
          null,
          null,
          94.70614,
          98.29,
          91.53024,
          90.31,
          null,
          76.72132,
          null,
          null,
          67.84778,
          null,
          71.65,
          25.74895,
          99.05898,
          83.74,
          null,
          null,
          null,
          null,
          86.92873,
          99.46177,
          null,
          78.1806,
          null,
          null,
          51.43,
          null,
          97.25,
          98.64397,
          75.60509,
          null,
          84.31,
          null,
          94.86,
          92.21,
          96.31,
          null,
          null,
          null,
          85.53096,
          49.98,
          99.55871,
          null,
          null,
          64.43813,
          null,
          null,
          57.59164,
          97.85593,
          98.23,
          95.27,
          90.7
         ],
         "xaxis": "x3",
         "yaxis": "y3"
        },
        {
         "alignmentgroup": "True",
         "hovertemplate": "Year=2014<br>Maternal_Death_Rate=%{y}<extra></extra>",
         "legendgroup": "2014",
         "marker": {
          "color": "#2CA02C",
          "symbol": "circle"
         },
         "name": "2014",
         "offsetgroup": "2014",
         "scalegroup": "y",
         "showlegend": false,
         "type": "violin",
         "xaxis": "x2",
         "y": [
          5,
          214,
          6,
          432,
          175,
          62,
          11,
          189,
          564,
          1170,
          31,
          85,
          29,
          8,
          39,
          8,
          4,
          94,
          65,
          39,
          49,
          11,
          434,
          3,
          5,
          325,
          3,
          107,
          711,
          174,
          68,
          12,
          5,
          6,
          2,
          358,
          69,
          24,
          579,
          9,
          6,
          381,
          6,
          38,
          49,
          231,
          6,
          103,
          3,
          60,
          91,
          96,
          2,
          8,
          21,
          131,
          364,
          12,
          7,
          4,
          333,
          5,
          5,
          401,
          19,
          17,
          113,
          494
         ],
         "yaxis": "y2"
        }
       ],
       "layout": {
        "legend": {
         "title": {
          "text": "Year"
         },
         "tracegroupgap": 0
        },
        "margin": {
         "t": 60
        },
        "template": {
         "data": {
          "bar": [
           {
            "error_x": {
             "color": "rgb(36,36,36)"
            },
            "error_y": {
             "color": "rgb(36,36,36)"
            },
            "marker": {
             "line": {
              "color": "white",
              "width": 0.5
             },
             "pattern": {
              "fillmode": "overlay",
              "size": 10,
              "solidity": 0.2
             }
            },
            "type": "bar"
           }
          ],
          "barpolar": [
           {
            "marker": {
             "line": {
              "color": "white",
              "width": 0.5
             },
             "pattern": {
              "fillmode": "overlay",
              "size": 10,
              "solidity": 0.2
             }
            },
            "type": "barpolar"
           }
          ],
          "carpet": [
           {
            "aaxis": {
             "endlinecolor": "rgb(36,36,36)",
             "gridcolor": "white",
             "linecolor": "white",
             "minorgridcolor": "white",
             "startlinecolor": "rgb(36,36,36)"
            },
            "baxis": {
             "endlinecolor": "rgb(36,36,36)",
             "gridcolor": "white",
             "linecolor": "white",
             "minorgridcolor": "white",
             "startlinecolor": "rgb(36,36,36)"
            },
            "type": "carpet"
           }
          ],
          "choropleth": [
           {
            "colorbar": {
             "outlinewidth": 1,
             "tickcolor": "rgb(36,36,36)",
             "ticks": "outside"
            },
            "type": "choropleth"
           }
          ],
          "contour": [
           {
            "colorbar": {
             "outlinewidth": 1,
             "tickcolor": "rgb(36,36,36)",
             "ticks": "outside"
            },
            "colorscale": [
             [
              0,
              "#440154"
             ],
             [
              0.1111111111111111,
              "#482878"
             ],
             [
              0.2222222222222222,
              "#3e4989"
             ],
             [
              0.3333333333333333,
              "#31688e"
             ],
             [
              0.4444444444444444,
              "#26828e"
             ],
             [
              0.5555555555555556,
              "#1f9e89"
             ],
             [
              0.6666666666666666,
              "#35b779"
             ],
             [
              0.7777777777777778,
              "#6ece58"
             ],
             [
              0.8888888888888888,
              "#b5de2b"
             ],
             [
              1,
              "#fde725"
             ]
            ],
            "type": "contour"
           }
          ],
          "contourcarpet": [
           {
            "colorbar": {
             "outlinewidth": 1,
             "tickcolor": "rgb(36,36,36)",
             "ticks": "outside"
            },
            "type": "contourcarpet"
           }
          ],
          "heatmap": [
           {
            "colorbar": {
             "outlinewidth": 1,
             "tickcolor": "rgb(36,36,36)",
             "ticks": "outside"
            },
            "colorscale": [
             [
              0,
              "#440154"
             ],
             [
              0.1111111111111111,
              "#482878"
             ],
             [
              0.2222222222222222,
              "#3e4989"
             ],
             [
              0.3333333333333333,
              "#31688e"
             ],
             [
              0.4444444444444444,
              "#26828e"
             ],
             [
              0.5555555555555556,
              "#1f9e89"
             ],
             [
              0.6666666666666666,
              "#35b779"
             ],
             [
              0.7777777777777778,
              "#6ece58"
             ],
             [
              0.8888888888888888,
              "#b5de2b"
             ],
             [
              1,
              "#fde725"
             ]
            ],
            "type": "heatmap"
           }
          ],
          "heatmapgl": [
           {
            "colorbar": {
             "outlinewidth": 1,
             "tickcolor": "rgb(36,36,36)",
             "ticks": "outside"
            },
            "colorscale": [
             [
              0,
              "#440154"
             ],
             [
              0.1111111111111111,
              "#482878"
             ],
             [
              0.2222222222222222,
              "#3e4989"
             ],
             [
              0.3333333333333333,
              "#31688e"
             ],
             [
              0.4444444444444444,
              "#26828e"
             ],
             [
              0.5555555555555556,
              "#1f9e89"
             ],
             [
              0.6666666666666666,
              "#35b779"
             ],
             [
              0.7777777777777778,
              "#6ece58"
             ],
             [
              0.8888888888888888,
              "#b5de2b"
             ],
             [
              1,
              "#fde725"
             ]
            ],
            "type": "heatmapgl"
           }
          ],
          "histogram": [
           {
            "marker": {
             "line": {
              "color": "white",
              "width": 0.6
             }
            },
            "type": "histogram"
           }
          ],
          "histogram2d": [
           {
            "colorbar": {
             "outlinewidth": 1,
             "tickcolor": "rgb(36,36,36)",
             "ticks": "outside"
            },
            "colorscale": [
             [
              0,
              "#440154"
             ],
             [
              0.1111111111111111,
              "#482878"
             ],
             [
              0.2222222222222222,
              "#3e4989"
             ],
             [
              0.3333333333333333,
              "#31688e"
             ],
             [
              0.4444444444444444,
              "#26828e"
             ],
             [
              0.5555555555555556,
              "#1f9e89"
             ],
             [
              0.6666666666666666,
              "#35b779"
             ],
             [
              0.7777777777777778,
              "#6ece58"
             ],
             [
              0.8888888888888888,
              "#b5de2b"
             ],
             [
              1,
              "#fde725"
             ]
            ],
            "type": "histogram2d"
           }
          ],
          "histogram2dcontour": [
           {
            "colorbar": {
             "outlinewidth": 1,
             "tickcolor": "rgb(36,36,36)",
             "ticks": "outside"
            },
            "colorscale": [
             [
              0,
              "#440154"
             ],
             [
              0.1111111111111111,
              "#482878"
             ],
             [
              0.2222222222222222,
              "#3e4989"
             ],
             [
              0.3333333333333333,
              "#31688e"
             ],
             [
              0.4444444444444444,
              "#26828e"
             ],
             [
              0.5555555555555556,
              "#1f9e89"
             ],
             [
              0.6666666666666666,
              "#35b779"
             ],
             [
              0.7777777777777778,
              "#6ece58"
             ],
             [
              0.8888888888888888,
              "#b5de2b"
             ],
             [
              1,
              "#fde725"
             ]
            ],
            "type": "histogram2dcontour"
           }
          ],
          "mesh3d": [
           {
            "colorbar": {
             "outlinewidth": 1,
             "tickcolor": "rgb(36,36,36)",
             "ticks": "outside"
            },
            "type": "mesh3d"
           }
          ],
          "parcoords": [
           {
            "line": {
             "colorbar": {
              "outlinewidth": 1,
              "tickcolor": "rgb(36,36,36)",
              "ticks": "outside"
             }
            },
            "type": "parcoords"
           }
          ],
          "pie": [
           {
            "automargin": true,
            "type": "pie"
           }
          ],
          "scatter": [
           {
            "marker": {
             "colorbar": {
              "outlinewidth": 1,
              "tickcolor": "rgb(36,36,36)",
              "ticks": "outside"
             }
            },
            "type": "scatter"
           }
          ],
          "scatter3d": [
           {
            "line": {
             "colorbar": {
              "outlinewidth": 1,
              "tickcolor": "rgb(36,36,36)",
              "ticks": "outside"
             }
            },
            "marker": {
             "colorbar": {
              "outlinewidth": 1,
              "tickcolor": "rgb(36,36,36)",
              "ticks": "outside"
             }
            },
            "type": "scatter3d"
           }
          ],
          "scattercarpet": [
           {
            "marker": {
             "colorbar": {
              "outlinewidth": 1,
              "tickcolor": "rgb(36,36,36)",
              "ticks": "outside"
             }
            },
            "type": "scattercarpet"
           }
          ],
          "scattergeo": [
           {
            "marker": {
             "colorbar": {
              "outlinewidth": 1,
              "tickcolor": "rgb(36,36,36)",
              "ticks": "outside"
             }
            },
            "type": "scattergeo"
           }
          ],
          "scattergl": [
           {
            "marker": {
             "colorbar": {
              "outlinewidth": 1,
              "tickcolor": "rgb(36,36,36)",
              "ticks": "outside"
             }
            },
            "type": "scattergl"
           }
          ],
          "scattermapbox": [
           {
            "marker": {
             "colorbar": {
              "outlinewidth": 1,
              "tickcolor": "rgb(36,36,36)",
              "ticks": "outside"
             }
            },
            "type": "scattermapbox"
           }
          ],
          "scatterpolar": [
           {
            "marker": {
             "colorbar": {
              "outlinewidth": 1,
              "tickcolor": "rgb(36,36,36)",
              "ticks": "outside"
             }
            },
            "type": "scatterpolar"
           }
          ],
          "scatterpolargl": [
           {
            "marker": {
             "colorbar": {
              "outlinewidth": 1,
              "tickcolor": "rgb(36,36,36)",
              "ticks": "outside"
             }
            },
            "type": "scatterpolargl"
           }
          ],
          "scatterternary": [
           {
            "marker": {
             "colorbar": {
              "outlinewidth": 1,
              "tickcolor": "rgb(36,36,36)",
              "ticks": "outside"
             }
            },
            "type": "scatterternary"
           }
          ],
          "surface": [
           {
            "colorbar": {
             "outlinewidth": 1,
             "tickcolor": "rgb(36,36,36)",
             "ticks": "outside"
            },
            "colorscale": [
             [
              0,
              "#440154"
             ],
             [
              0.1111111111111111,
              "#482878"
             ],
             [
              0.2222222222222222,
              "#3e4989"
             ],
             [
              0.3333333333333333,
              "#31688e"
             ],
             [
              0.4444444444444444,
              "#26828e"
             ],
             [
              0.5555555555555556,
              "#1f9e89"
             ],
             [
              0.6666666666666666,
              "#35b779"
             ],
             [
              0.7777777777777778,
              "#6ece58"
             ],
             [
              0.8888888888888888,
              "#b5de2b"
             ],
             [
              1,
              "#fde725"
             ]
            ],
            "type": "surface"
           }
          ],
          "table": [
           {
            "cells": {
             "fill": {
              "color": "rgb(237,237,237)"
             },
             "line": {
              "color": "white"
             }
            },
            "header": {
             "fill": {
              "color": "rgb(217,217,217)"
             },
             "line": {
              "color": "white"
             }
            },
            "type": "table"
           }
          ]
         },
         "layout": {
          "annotationdefaults": {
           "arrowhead": 0,
           "arrowwidth": 1
          },
          "autotypenumbers": "strict",
          "coloraxis": {
           "colorbar": {
            "outlinewidth": 1,
            "tickcolor": "rgb(36,36,36)",
            "ticks": "outside"
           }
          },
          "colorscale": {
           "diverging": [
            [
             0,
             "rgb(103,0,31)"
            ],
            [
             0.1,
             "rgb(178,24,43)"
            ],
            [
             0.2,
             "rgb(214,96,77)"
            ],
            [
             0.3,
             "rgb(244,165,130)"
            ],
            [
             0.4,
             "rgb(253,219,199)"
            ],
            [
             0.5,
             "rgb(247,247,247)"
            ],
            [
             0.6,
             "rgb(209,229,240)"
            ],
            [
             0.7,
             "rgb(146,197,222)"
            ],
            [
             0.8,
             "rgb(67,147,195)"
            ],
            [
             0.9,
             "rgb(33,102,172)"
            ],
            [
             1,
             "rgb(5,48,97)"
            ]
           ],
           "sequential": [
            [
             0,
             "#440154"
            ],
            [
             0.1111111111111111,
             "#482878"
            ],
            [
             0.2222222222222222,
             "#3e4989"
            ],
            [
             0.3333333333333333,
             "#31688e"
            ],
            [
             0.4444444444444444,
             "#26828e"
            ],
            [
             0.5555555555555556,
             "#1f9e89"
            ],
            [
             0.6666666666666666,
             "#35b779"
            ],
            [
             0.7777777777777778,
             "#6ece58"
            ],
            [
             0.8888888888888888,
             "#b5de2b"
            ],
            [
             1,
             "#fde725"
            ]
           ],
           "sequentialminus": [
            [
             0,
             "#440154"
            ],
            [
             0.1111111111111111,
             "#482878"
            ],
            [
             0.2222222222222222,
             "#3e4989"
            ],
            [
             0.3333333333333333,
             "#31688e"
            ],
            [
             0.4444444444444444,
             "#26828e"
            ],
            [
             0.5555555555555556,
             "#1f9e89"
            ],
            [
             0.6666666666666666,
             "#35b779"
            ],
            [
             0.7777777777777778,
             "#6ece58"
            ],
            [
             0.8888888888888888,
             "#b5de2b"
            ],
            [
             1,
             "#fde725"
            ]
           ]
          },
          "colorway": [
           "#1F77B4",
           "#FF7F0E",
           "#2CA02C",
           "#D62728",
           "#9467BD",
           "#8C564B",
           "#E377C2",
           "#7F7F7F",
           "#BCBD22",
           "#17BECF"
          ],
          "font": {
           "color": "rgb(36,36,36)"
          },
          "geo": {
           "bgcolor": "white",
           "lakecolor": "white",
           "landcolor": "white",
           "showlakes": true,
           "showland": true,
           "subunitcolor": "white"
          },
          "hoverlabel": {
           "align": "left"
          },
          "hovermode": "closest",
          "mapbox": {
           "style": "light"
          },
          "paper_bgcolor": "white",
          "plot_bgcolor": "white",
          "polar": {
           "angularaxis": {
            "gridcolor": "rgb(232,232,232)",
            "linecolor": "rgb(36,36,36)",
            "showgrid": false,
            "showline": true,
            "ticks": "outside"
           },
           "bgcolor": "white",
           "radialaxis": {
            "gridcolor": "rgb(232,232,232)",
            "linecolor": "rgb(36,36,36)",
            "showgrid": false,
            "showline": true,
            "ticks": "outside"
           }
          },
          "scene": {
           "xaxis": {
            "backgroundcolor": "white",
            "gridcolor": "rgb(232,232,232)",
            "gridwidth": 2,
            "linecolor": "rgb(36,36,36)",
            "showbackground": true,
            "showgrid": false,
            "showline": true,
            "ticks": "outside",
            "zeroline": false,
            "zerolinecolor": "rgb(36,36,36)"
           },
           "yaxis": {
            "backgroundcolor": "white",
            "gridcolor": "rgb(232,232,232)",
            "gridwidth": 2,
            "linecolor": "rgb(36,36,36)",
            "showbackground": true,
            "showgrid": false,
            "showline": true,
            "ticks": "outside",
            "zeroline": false,
            "zerolinecolor": "rgb(36,36,36)"
           },
           "zaxis": {
            "backgroundcolor": "white",
            "gridcolor": "rgb(232,232,232)",
            "gridwidth": 2,
            "linecolor": "rgb(36,36,36)",
            "showbackground": true,
            "showgrid": false,
            "showline": true,
            "ticks": "outside",
            "zeroline": false,
            "zerolinecolor": "rgb(36,36,36)"
           }
          },
          "shapedefaults": {
           "fillcolor": "black",
           "line": {
            "width": 0
           },
           "opacity": 0.3
          },
          "ternary": {
           "aaxis": {
            "gridcolor": "rgb(232,232,232)",
            "linecolor": "rgb(36,36,36)",
            "showgrid": false,
            "showline": true,
            "ticks": "outside"
           },
           "baxis": {
            "gridcolor": "rgb(232,232,232)",
            "linecolor": "rgb(36,36,36)",
            "showgrid": false,
            "showline": true,
            "ticks": "outside"
           },
           "bgcolor": "white",
           "caxis": {
            "gridcolor": "rgb(232,232,232)",
            "linecolor": "rgb(36,36,36)",
            "showgrid": false,
            "showline": true,
            "ticks": "outside"
           }
          },
          "title": {
           "x": 0.05
          },
          "xaxis": {
           "automargin": true,
           "gridcolor": "rgb(232,232,232)",
           "linecolor": "rgb(36,36,36)",
           "showgrid": false,
           "showline": true,
           "ticks": "outside",
           "title": {
            "standoff": 15
           },
           "zeroline": false,
           "zerolinecolor": "rgb(36,36,36)"
          },
          "yaxis": {
           "automargin": true,
           "gridcolor": "rgb(232,232,232)",
           "linecolor": "rgb(36,36,36)",
           "showgrid": false,
           "showline": true,
           "ticks": "outside",
           "title": {
            "standoff": 15
           },
           "zeroline": false,
           "zerolinecolor": "rgb(36,36,36)"
          }
         }
        },
        "xaxis": {
         "anchor": "y",
         "domain": [
          0,
          0.7363
         ],
         "title": {
          "text": "Primary_ed_completion_percent"
         }
        },
        "xaxis2": {
         "anchor": "y2",
         "domain": [
          0.7413,
          1
         ],
         "matches": "x2",
         "showline": false,
         "showticklabels": false,
         "ticks": ""
        },
        "xaxis3": {
         "anchor": "y3",
         "domain": [
          0,
          0.7363
         ],
         "matches": "x",
         "showticklabels": false
        },
        "xaxis4": {
         "anchor": "y4",
         "domain": [
          0.7413,
          1
         ],
         "matches": "x2",
         "showline": false,
         "showticklabels": false,
         "ticks": ""
        },
        "yaxis": {
         "anchor": "x",
         "domain": [
          0,
          0.7326
         ],
         "title": {
          "text": "Maternal_Death_Rate"
         }
        },
        "yaxis2": {
         "anchor": "x2",
         "domain": [
          0,
          0.7326
         ],
         "matches": "y",
         "showticklabels": false
        },
        "yaxis3": {
         "anchor": "x3",
         "domain": [
          0.7426,
          1
         ],
         "matches": "y3",
         "showline": false,
         "showticklabels": false,
         "ticks": ""
        },
        "yaxis4": {
         "anchor": "x4",
         "domain": [
          0.7426,
          1
         ],
         "matches": "y3",
         "showline": false,
         "showticklabels": false,
         "ticks": ""
        }
       }
      },
      "text/html": [
       "<div>                            <div id=\"37026353-359b-4aff-902f-01174d9debf9\" class=\"plotly-graph-div\" style=\"height:525px; width:100%;\"></div>            <script type=\"text/javascript\">                require([\"plotly\"], function(Plotly) {                    window.PLOTLYENV=window.PLOTLYENV || {};                                    if (document.getElementById(\"37026353-359b-4aff-902f-01174d9debf9\")) {                    Plotly.newPlot(                        \"37026353-359b-4aff-902f-01174d9debf9\",                        [{\"hovertemplate\":\"Year=2005<br>Primary_ed_completion_percent=%{x}<br>Maternal_Death_Rate=%{y}<extra></extra>\",\"legendgroup\":\"2005\",\"marker\":{\"color\":\"#1F77B4\",\"symbol\":\"circle\"},\"mode\":\"markers\",\"name\":\"2005\",\"orientation\":\"v\",\"showlegend\":true,\"x\":[98.81,null,100.0,null,88.87,95.22,11.65,58.90414,68.2568,87.61098,63.85842,92.39,null,null,85.68,93.75,81.30888,79.2,null,23.29575,null,97.87,null,null,23.7841,44.88008,77.11,null,null,75.1,null,null,99.39,null,63.58078,null,null,98.85,null,67.93,97.16,null,93.29,88.05,88.89,null,null,10.93098,22.23406,98.81,29.06,null,null,null,98.04,98.8,92.46,88.63229],\"xaxis\":\"x\",\"y\":[22.0,6.0,11.0,7.0,271.0,71.0,814.0,351.0,692.0,83.0,677.0,33.0,12.0,6.0,83.0,94.0,52.0,62.0,18.0,865.0,5.0,39.0,6.0,3.0,920.0,459.0,77.0,15.0,5.0,286.0,7.0,3.0,80.0,30.0,679.0,14.0,9.0,9.0,11.0,131.0,10.0,5.0,88.0,137.0,118.0,4.0,9.0,643.0,519.0,12.0,1760.0,10.0,5.0,5.0,43.0,33.0,113.0,685.0],\"yaxis\":\"y\",\"type\":\"scatter\"},{\"alignmentgroup\":\"True\",\"hovertemplate\":\"Year=2005<br>Primary_ed_completion_percent=%{x}<extra></extra>\",\"legendgroup\":\"2005\",\"marker\":{\"color\":\"#1F77B4\",\"symbol\":\"circle\"},\"name\":\"2005\",\"notched\":true,\"offsetgroup\":\"2005\",\"showlegend\":false,\"x\":[98.81,null,100.0,null,88.87,95.22,11.65,58.90414,68.2568,87.61098,63.85842,92.39,null,null,85.68,93.75,81.30888,79.2,null,23.29575,null,97.87,null,null,23.7841,44.88008,77.11,null,null,75.1,null,null,99.39,null,63.58078,null,null,98.85,null,67.93,97.16,null,93.29,88.05,88.89,null,null,10.93098,22.23406,98.81,29.06,null,null,null,98.04,98.8,92.46,88.63229],\"xaxis\":\"x3\",\"yaxis\":\"y3\",\"type\":\"box\"},{\"alignmentgroup\":\"True\",\"hovertemplate\":\"Year=2005<br>Maternal_Death_Rate=%{y}<extra></extra>\",\"legendgroup\":\"2005\",\"marker\":{\"color\":\"#1F77B4\",\"symbol\":\"circle\"},\"name\":\"2005\",\"offsetgroup\":\"2005\",\"scalegroup\":\"y\",\"showlegend\":false,\"xaxis\":\"x2\",\"y\":[22.0,6.0,11.0,7.0,271.0,71.0,814.0,351.0,692.0,83.0,677.0,33.0,12.0,6.0,83.0,94.0,52.0,62.0,18.0,865.0,5.0,39.0,6.0,3.0,920.0,459.0,77.0,15.0,5.0,286.0,7.0,3.0,80.0,30.0,679.0,14.0,9.0,9.0,11.0,131.0,10.0,5.0,88.0,137.0,118.0,4.0,9.0,643.0,519.0,12.0,1760.0,10.0,5.0,5.0,43.0,33.0,113.0,685.0],\"yaxis\":\"y2\",\"type\":\"violin\"},{\"hovertemplate\":\"Year=2010<br>Primary_ed_completion_percent=%{x}<br>Maternal_Death_Rate=%{y}<extra></extra>\",\"legendgroup\":\"2010\",\"marker\":{\"color\":\"#FF7F0E\",\"symbol\":\"circle\"},\"mode\":\"markers\",\"name\":\"2010\",\"orientation\":\"v\",\"showlegend\":true,\"x\":[93.81141,null,70.03057,29.51919,38.41388,72.16656,null,23.18,97.09,93.27485,93.42,98.9,42.67512,91.33,96.56,84.25,73.75092,61.12356,65.26145,83.93,58.4648,29.39,96.72,97.7,71.23172,93.12082,90.05,93.6,90.61983,99.04262,40.81238,58.42,18.27363,66.47,83.38417,53.48973,97.09,94.8,66.77598,90.63749],\"xaxis\":\"x\",\"y\":[51.0,5.0,247.0,385.0,665.0,248.0,11.0,1240.0,36.0,85.0,32.0,41.0,542.0,96.0,78.0,54.0,450.0,661.0,339.0,74.0,444.0,660.0,46.0,66.0,978.0,79.0,108.0,104.0,144.0,21.0,373.0,1360.0,1100.0,408.0,148.0,440.0,17.0,117.0,305.0,598.0],\"yaxis\":\"y\",\"type\":\"scatter\"},{\"alignmentgroup\":\"True\",\"hovertemplate\":\"Year=2010<br>Primary_ed_completion_percent=%{x}<extra></extra>\",\"legendgroup\":\"2010\",\"marker\":{\"color\":\"#FF7F0E\",\"symbol\":\"circle\"},\"name\":\"2010\",\"notched\":true,\"offsetgroup\":\"2010\",\"showlegend\":false,\"x\":[93.81141,null,70.03057,29.51919,38.41388,72.16656,null,23.18,97.09,93.27485,93.42,98.9,42.67512,91.33,96.56,84.25,73.75092,61.12356,65.26145,83.93,58.4648,29.39,96.72,97.7,71.23172,93.12082,90.05,93.6,90.61983,99.04262,40.81238,58.42,18.27363,66.47,83.38417,53.48973,97.09,94.8,66.77598,90.63749],\"xaxis\":\"x3\",\"yaxis\":\"y3\",\"type\":\"box\"},{\"alignmentgroup\":\"True\",\"hovertemplate\":\"Year=2010<br>Maternal_Death_Rate=%{y}<extra></extra>\",\"legendgroup\":\"2010\",\"marker\":{\"color\":\"#FF7F0E\",\"symbol\":\"circle\"},\"name\":\"2010\",\"offsetgroup\":\"2010\",\"scalegroup\":\"y\",\"showlegend\":false,\"xaxis\":\"x2\",\"y\":[51.0,5.0,247.0,385.0,665.0,248.0,11.0,1240.0,36.0,85.0,32.0,41.0,542.0,96.0,78.0,54.0,450.0,661.0,339.0,74.0,444.0,660.0,46.0,66.0,978.0,79.0,108.0,104.0,144.0,21.0,373.0,1360.0,1100.0,408.0,148.0,440.0,17.0,117.0,305.0,598.0],\"yaxis\":\"y2\",\"type\":\"violin\"},{\"hovertemplate\":\"Year=2014<br>Primary_ed_completion_percent=%{x}<br>Maternal_Death_Rate=%{y}<extra></extra>\",\"legendgroup\":\"2014\",\"marker\":{\"color\":\"#2CA02C\",\"symbol\":\"circle\"},\"mode\":\"markers\",\"name\":\"2014\",\"orientation\":\"v\",\"showlegend\":true,\"x\":[null,84.44126,null,48.67413,92.79,97.82,null,77.21745,72.50016,23.72016,98.02,94.54,94.89,null,99.71584,null,null,94.70614,98.29,91.53024,90.31,null,76.72132,null,null,67.84778,null,71.65,25.74895,99.05898,83.74,null,null,null,null,86.92873,99.46177,null,78.1806,null,null,51.43,null,97.25,98.64397,75.60509,null,84.31,null,94.86,92.21,96.31,null,null,null,85.53096,49.98,99.55871,null,null,64.43813,null,null,57.59164,97.85593,98.23,95.27,90.7],\"xaxis\":\"x\",\"y\":[5.0,214.0,6.0,432.0,175.0,62.0,11.0,189.0,564.0,1170.0,31.0,85.0,29.0,8.0,39.0,8.0,4.0,94.0,65.0,39.0,49.0,11.0,434.0,3.0,5.0,325.0,3.0,107.0,711.0,174.0,68.0,12.0,5.0,6.0,2.0,358.0,69.0,24.0,579.0,9.0,6.0,381.0,6.0,38.0,49.0,231.0,6.0,103.0,3.0,60.0,91.0,96.0,2.0,8.0,21.0,131.0,364.0,12.0,7.0,4.0,333.0,5.0,5.0,401.0,19.0,17.0,113.0,494.0],\"yaxis\":\"y\",\"type\":\"scatter\"},{\"alignmentgroup\":\"True\",\"hovertemplate\":\"Year=2014<br>Primary_ed_completion_percent=%{x}<extra></extra>\",\"legendgroup\":\"2014\",\"marker\":{\"color\":\"#2CA02C\",\"symbol\":\"circle\"},\"name\":\"2014\",\"notched\":true,\"offsetgroup\":\"2014\",\"showlegend\":false,\"x\":[null,84.44126,null,48.67413,92.79,97.82,null,77.21745,72.50016,23.72016,98.02,94.54,94.89,null,99.71584,null,null,94.70614,98.29,91.53024,90.31,null,76.72132,null,null,67.84778,null,71.65,25.74895,99.05898,83.74,null,null,null,null,86.92873,99.46177,null,78.1806,null,null,51.43,null,97.25,98.64397,75.60509,null,84.31,null,94.86,92.21,96.31,null,null,null,85.53096,49.98,99.55871,null,null,64.43813,null,null,57.59164,97.85593,98.23,95.27,90.7],\"xaxis\":\"x3\",\"yaxis\":\"y3\",\"type\":\"box\"},{\"alignmentgroup\":\"True\",\"hovertemplate\":\"Year=2014<br>Maternal_Death_Rate=%{y}<extra></extra>\",\"legendgroup\":\"2014\",\"marker\":{\"color\":\"#2CA02C\",\"symbol\":\"circle\"},\"name\":\"2014\",\"offsetgroup\":\"2014\",\"scalegroup\":\"y\",\"showlegend\":false,\"xaxis\":\"x2\",\"y\":[5.0,214.0,6.0,432.0,175.0,62.0,11.0,189.0,564.0,1170.0,31.0,85.0,29.0,8.0,39.0,8.0,4.0,94.0,65.0,39.0,49.0,11.0,434.0,3.0,5.0,325.0,3.0,107.0,711.0,174.0,68.0,12.0,5.0,6.0,2.0,358.0,69.0,24.0,579.0,9.0,6.0,381.0,6.0,38.0,49.0,231.0,6.0,103.0,3.0,60.0,91.0,96.0,2.0,8.0,21.0,131.0,364.0,12.0,7.0,4.0,333.0,5.0,5.0,401.0,19.0,17.0,113.0,494.0],\"yaxis\":\"y2\",\"type\":\"violin\"}],                        {\"template\":{\"data\":{\"barpolar\":[{\"marker\":{\"line\":{\"color\":\"white\",\"width\":0.5},\"pattern\":{\"fillmode\":\"overlay\",\"size\":10,\"solidity\":0.2}},\"type\":\"barpolar\"}],\"bar\":[{\"error_x\":{\"color\":\"rgb(36,36,36)\"},\"error_y\":{\"color\":\"rgb(36,36,36)\"},\"marker\":{\"line\":{\"color\":\"white\",\"width\":0.5},\"pattern\":{\"fillmode\":\"overlay\",\"size\":10,\"solidity\":0.2}},\"type\":\"bar\"}],\"carpet\":[{\"aaxis\":{\"endlinecolor\":\"rgb(36,36,36)\",\"gridcolor\":\"white\",\"linecolor\":\"white\",\"minorgridcolor\":\"white\",\"startlinecolor\":\"rgb(36,36,36)\"},\"baxis\":{\"endlinecolor\":\"rgb(36,36,36)\",\"gridcolor\":\"white\",\"linecolor\":\"white\",\"minorgridcolor\":\"white\",\"startlinecolor\":\"rgb(36,36,36)\"},\"type\":\"carpet\"}],\"choropleth\":[{\"colorbar\":{\"outlinewidth\":1,\"tickcolor\":\"rgb(36,36,36)\",\"ticks\":\"outside\"},\"type\":\"choropleth\"}],\"contourcarpet\":[{\"colorbar\":{\"outlinewidth\":1,\"tickcolor\":\"rgb(36,36,36)\",\"ticks\":\"outside\"},\"type\":\"contourcarpet\"}],\"contour\":[{\"colorbar\":{\"outlinewidth\":1,\"tickcolor\":\"rgb(36,36,36)\",\"ticks\":\"outside\"},\"colorscale\":[[0.0,\"#440154\"],[0.1111111111111111,\"#482878\"],[0.2222222222222222,\"#3e4989\"],[0.3333333333333333,\"#31688e\"],[0.4444444444444444,\"#26828e\"],[0.5555555555555556,\"#1f9e89\"],[0.6666666666666666,\"#35b779\"],[0.7777777777777778,\"#6ece58\"],[0.8888888888888888,\"#b5de2b\"],[1.0,\"#fde725\"]],\"type\":\"contour\"}],\"heatmapgl\":[{\"colorbar\":{\"outlinewidth\":1,\"tickcolor\":\"rgb(36,36,36)\",\"ticks\":\"outside\"},\"colorscale\":[[0.0,\"#440154\"],[0.1111111111111111,\"#482878\"],[0.2222222222222222,\"#3e4989\"],[0.3333333333333333,\"#31688e\"],[0.4444444444444444,\"#26828e\"],[0.5555555555555556,\"#1f9e89\"],[0.6666666666666666,\"#35b779\"],[0.7777777777777778,\"#6ece58\"],[0.8888888888888888,\"#b5de2b\"],[1.0,\"#fde725\"]],\"type\":\"heatmapgl\"}],\"heatmap\":[{\"colorbar\":{\"outlinewidth\":1,\"tickcolor\":\"rgb(36,36,36)\",\"ticks\":\"outside\"},\"colorscale\":[[0.0,\"#440154\"],[0.1111111111111111,\"#482878\"],[0.2222222222222222,\"#3e4989\"],[0.3333333333333333,\"#31688e\"],[0.4444444444444444,\"#26828e\"],[0.5555555555555556,\"#1f9e89\"],[0.6666666666666666,\"#35b779\"],[0.7777777777777778,\"#6ece58\"],[0.8888888888888888,\"#b5de2b\"],[1.0,\"#fde725\"]],\"type\":\"heatmap\"}],\"histogram2dcontour\":[{\"colorbar\":{\"outlinewidth\":1,\"tickcolor\":\"rgb(36,36,36)\",\"ticks\":\"outside\"},\"colorscale\":[[0.0,\"#440154\"],[0.1111111111111111,\"#482878\"],[0.2222222222222222,\"#3e4989\"],[0.3333333333333333,\"#31688e\"],[0.4444444444444444,\"#26828e\"],[0.5555555555555556,\"#1f9e89\"],[0.6666666666666666,\"#35b779\"],[0.7777777777777778,\"#6ece58\"],[0.8888888888888888,\"#b5de2b\"],[1.0,\"#fde725\"]],\"type\":\"histogram2dcontour\"}],\"histogram2d\":[{\"colorbar\":{\"outlinewidth\":1,\"tickcolor\":\"rgb(36,36,36)\",\"ticks\":\"outside\"},\"colorscale\":[[0.0,\"#440154\"],[0.1111111111111111,\"#482878\"],[0.2222222222222222,\"#3e4989\"],[0.3333333333333333,\"#31688e\"],[0.4444444444444444,\"#26828e\"],[0.5555555555555556,\"#1f9e89\"],[0.6666666666666666,\"#35b779\"],[0.7777777777777778,\"#6ece58\"],[0.8888888888888888,\"#b5de2b\"],[1.0,\"#fde725\"]],\"type\":\"histogram2d\"}],\"histogram\":[{\"marker\":{\"line\":{\"color\":\"white\",\"width\":0.6}},\"type\":\"histogram\"}],\"mesh3d\":[{\"colorbar\":{\"outlinewidth\":1,\"tickcolor\":\"rgb(36,36,36)\",\"ticks\":\"outside\"},\"type\":\"mesh3d\"}],\"parcoords\":[{\"line\":{\"colorbar\":{\"outlinewidth\":1,\"tickcolor\":\"rgb(36,36,36)\",\"ticks\":\"outside\"}},\"type\":\"parcoords\"}],\"pie\":[{\"automargin\":true,\"type\":\"pie\"}],\"scatter3d\":[{\"line\":{\"colorbar\":{\"outlinewidth\":1,\"tickcolor\":\"rgb(36,36,36)\",\"ticks\":\"outside\"}},\"marker\":{\"colorbar\":{\"outlinewidth\":1,\"tickcolor\":\"rgb(36,36,36)\",\"ticks\":\"outside\"}},\"type\":\"scatter3d\"}],\"scattercarpet\":[{\"marker\":{\"colorbar\":{\"outlinewidth\":1,\"tickcolor\":\"rgb(36,36,36)\",\"ticks\":\"outside\"}},\"type\":\"scattercarpet\"}],\"scattergeo\":[{\"marker\":{\"colorbar\":{\"outlinewidth\":1,\"tickcolor\":\"rgb(36,36,36)\",\"ticks\":\"outside\"}},\"type\":\"scattergeo\"}],\"scattergl\":[{\"marker\":{\"colorbar\":{\"outlinewidth\":1,\"tickcolor\":\"rgb(36,36,36)\",\"ticks\":\"outside\"}},\"type\":\"scattergl\"}],\"scattermapbox\":[{\"marker\":{\"colorbar\":{\"outlinewidth\":1,\"tickcolor\":\"rgb(36,36,36)\",\"ticks\":\"outside\"}},\"type\":\"scattermapbox\"}],\"scatterpolargl\":[{\"marker\":{\"colorbar\":{\"outlinewidth\":1,\"tickcolor\":\"rgb(36,36,36)\",\"ticks\":\"outside\"}},\"type\":\"scatterpolargl\"}],\"scatterpolar\":[{\"marker\":{\"colorbar\":{\"outlinewidth\":1,\"tickcolor\":\"rgb(36,36,36)\",\"ticks\":\"outside\"}},\"type\":\"scatterpolar\"}],\"scatter\":[{\"marker\":{\"colorbar\":{\"outlinewidth\":1,\"tickcolor\":\"rgb(36,36,36)\",\"ticks\":\"outside\"}},\"type\":\"scatter\"}],\"scatterternary\":[{\"marker\":{\"colorbar\":{\"outlinewidth\":1,\"tickcolor\":\"rgb(36,36,36)\",\"ticks\":\"outside\"}},\"type\":\"scatterternary\"}],\"surface\":[{\"colorbar\":{\"outlinewidth\":1,\"tickcolor\":\"rgb(36,36,36)\",\"ticks\":\"outside\"},\"colorscale\":[[0.0,\"#440154\"],[0.1111111111111111,\"#482878\"],[0.2222222222222222,\"#3e4989\"],[0.3333333333333333,\"#31688e\"],[0.4444444444444444,\"#26828e\"],[0.5555555555555556,\"#1f9e89\"],[0.6666666666666666,\"#35b779\"],[0.7777777777777778,\"#6ece58\"],[0.8888888888888888,\"#b5de2b\"],[1.0,\"#fde725\"]],\"type\":\"surface\"}],\"table\":[{\"cells\":{\"fill\":{\"color\":\"rgb(237,237,237)\"},\"line\":{\"color\":\"white\"}},\"header\":{\"fill\":{\"color\":\"rgb(217,217,217)\"},\"line\":{\"color\":\"white\"}},\"type\":\"table\"}]},\"layout\":{\"annotationdefaults\":{\"arrowhead\":0,\"arrowwidth\":1},\"autotypenumbers\":\"strict\",\"coloraxis\":{\"colorbar\":{\"outlinewidth\":1,\"tickcolor\":\"rgb(36,36,36)\",\"ticks\":\"outside\"}},\"colorscale\":{\"diverging\":[[0.0,\"rgb(103,0,31)\"],[0.1,\"rgb(178,24,43)\"],[0.2,\"rgb(214,96,77)\"],[0.3,\"rgb(244,165,130)\"],[0.4,\"rgb(253,219,199)\"],[0.5,\"rgb(247,247,247)\"],[0.6,\"rgb(209,229,240)\"],[0.7,\"rgb(146,197,222)\"],[0.8,\"rgb(67,147,195)\"],[0.9,\"rgb(33,102,172)\"],[1.0,\"rgb(5,48,97)\"]],\"sequential\":[[0.0,\"#440154\"],[0.1111111111111111,\"#482878\"],[0.2222222222222222,\"#3e4989\"],[0.3333333333333333,\"#31688e\"],[0.4444444444444444,\"#26828e\"],[0.5555555555555556,\"#1f9e89\"],[0.6666666666666666,\"#35b779\"],[0.7777777777777778,\"#6ece58\"],[0.8888888888888888,\"#b5de2b\"],[1.0,\"#fde725\"]],\"sequentialminus\":[[0.0,\"#440154\"],[0.1111111111111111,\"#482878\"],[0.2222222222222222,\"#3e4989\"],[0.3333333333333333,\"#31688e\"],[0.4444444444444444,\"#26828e\"],[0.5555555555555556,\"#1f9e89\"],[0.6666666666666666,\"#35b779\"],[0.7777777777777778,\"#6ece58\"],[0.8888888888888888,\"#b5de2b\"],[1.0,\"#fde725\"]]},\"colorway\":[\"#1F77B4\",\"#FF7F0E\",\"#2CA02C\",\"#D62728\",\"#9467BD\",\"#8C564B\",\"#E377C2\",\"#7F7F7F\",\"#BCBD22\",\"#17BECF\"],\"font\":{\"color\":\"rgb(36,36,36)\"},\"geo\":{\"bgcolor\":\"white\",\"lakecolor\":\"white\",\"landcolor\":\"white\",\"showlakes\":true,\"showland\":true,\"subunitcolor\":\"white\"},\"hoverlabel\":{\"align\":\"left\"},\"hovermode\":\"closest\",\"mapbox\":{\"style\":\"light\"},\"paper_bgcolor\":\"white\",\"plot_bgcolor\":\"white\",\"polar\":{\"angularaxis\":{\"gridcolor\":\"rgb(232,232,232)\",\"linecolor\":\"rgb(36,36,36)\",\"showgrid\":false,\"showline\":true,\"ticks\":\"outside\"},\"bgcolor\":\"white\",\"radialaxis\":{\"gridcolor\":\"rgb(232,232,232)\",\"linecolor\":\"rgb(36,36,36)\",\"showgrid\":false,\"showline\":true,\"ticks\":\"outside\"}},\"scene\":{\"xaxis\":{\"backgroundcolor\":\"white\",\"gridcolor\":\"rgb(232,232,232)\",\"gridwidth\":2,\"linecolor\":\"rgb(36,36,36)\",\"showbackground\":true,\"showgrid\":false,\"showline\":true,\"ticks\":\"outside\",\"zeroline\":false,\"zerolinecolor\":\"rgb(36,36,36)\"},\"yaxis\":{\"backgroundcolor\":\"white\",\"gridcolor\":\"rgb(232,232,232)\",\"gridwidth\":2,\"linecolor\":\"rgb(36,36,36)\",\"showbackground\":true,\"showgrid\":false,\"showline\":true,\"ticks\":\"outside\",\"zeroline\":false,\"zerolinecolor\":\"rgb(36,36,36)\"},\"zaxis\":{\"backgroundcolor\":\"white\",\"gridcolor\":\"rgb(232,232,232)\",\"gridwidth\":2,\"linecolor\":\"rgb(36,36,36)\",\"showbackground\":true,\"showgrid\":false,\"showline\":true,\"ticks\":\"outside\",\"zeroline\":false,\"zerolinecolor\":\"rgb(36,36,36)\"}},\"shapedefaults\":{\"fillcolor\":\"black\",\"line\":{\"width\":0},\"opacity\":0.3},\"ternary\":{\"aaxis\":{\"gridcolor\":\"rgb(232,232,232)\",\"linecolor\":\"rgb(36,36,36)\",\"showgrid\":false,\"showline\":true,\"ticks\":\"outside\"},\"baxis\":{\"gridcolor\":\"rgb(232,232,232)\",\"linecolor\":\"rgb(36,36,36)\",\"showgrid\":false,\"showline\":true,\"ticks\":\"outside\"},\"bgcolor\":\"white\",\"caxis\":{\"gridcolor\":\"rgb(232,232,232)\",\"linecolor\":\"rgb(36,36,36)\",\"showgrid\":false,\"showline\":true,\"ticks\":\"outside\"}},\"title\":{\"x\":0.05},\"xaxis\":{\"automargin\":true,\"gridcolor\":\"rgb(232,232,232)\",\"linecolor\":\"rgb(36,36,36)\",\"showgrid\":false,\"showline\":true,\"ticks\":\"outside\",\"title\":{\"standoff\":15},\"zeroline\":false,\"zerolinecolor\":\"rgb(36,36,36)\"},\"yaxis\":{\"automargin\":true,\"gridcolor\":\"rgb(232,232,232)\",\"linecolor\":\"rgb(36,36,36)\",\"showgrid\":false,\"showline\":true,\"ticks\":\"outside\",\"title\":{\"standoff\":15},\"zeroline\":false,\"zerolinecolor\":\"rgb(36,36,36)\"}}},\"xaxis\":{\"anchor\":\"y\",\"domain\":[0.0,0.7363],\"title\":{\"text\":\"Primary_ed_completion_percent\"}},\"yaxis\":{\"anchor\":\"x\",\"domain\":[0.0,0.7326],\"title\":{\"text\":\"Maternal_Death_Rate\"}},\"xaxis2\":{\"anchor\":\"y2\",\"domain\":[0.7413,1.0],\"matches\":\"x2\",\"showticklabels\":false,\"showline\":false,\"ticks\":\"\"},\"yaxis2\":{\"anchor\":\"x2\",\"domain\":[0.0,0.7326],\"matches\":\"y\",\"showticklabels\":false},\"xaxis3\":{\"anchor\":\"y3\",\"domain\":[0.0,0.7363],\"matches\":\"x\",\"showticklabels\":false},\"yaxis3\":{\"anchor\":\"x3\",\"domain\":[0.7426,1.0],\"matches\":\"y3\",\"showticklabels\":false,\"showline\":false,\"ticks\":\"\"},\"xaxis4\":{\"anchor\":\"y4\",\"domain\":[0.7413,1.0],\"matches\":\"x2\",\"showticklabels\":false,\"showline\":false,\"ticks\":\"\"},\"yaxis4\":{\"anchor\":\"x4\",\"domain\":[0.7426,1.0],\"matches\":\"y3\",\"showticklabels\":false,\"showline\":false,\"ticks\":\"\"},\"legend\":{\"title\":{\"text\":\"Year\"},\"tracegroupgap\":0},\"margin\":{\"t\":60}},                        {\"responsive\": true}                    ).then(function(){\n",
       "                            \n",
       "var gd = document.getElementById('37026353-359b-4aff-902f-01174d9debf9');\n",
       "var x = new MutationObserver(function (mutations, observer) {{\n",
       "        var display = window.getComputedStyle(gd).display;\n",
       "        if (!display || display === 'none') {{\n",
       "            console.log([gd, 'removed!']);\n",
       "            Plotly.purge(gd);\n",
       "            observer.disconnect();\n",
       "        }}\n",
       "}});\n",
       "\n",
       "// Listen for the removal of the full notebook cells\n",
       "var notebookContainer = gd.closest('#notebook-container');\n",
       "if (notebookContainer) {{\n",
       "    x.observe(notebookContainer, {childList: true});\n",
       "}}\n",
       "\n",
       "// Listen for the clearing of the current output cell\n",
       "var outputEl = gd.closest('.output');\n",
       "if (outputEl) {{\n",
       "    x.observe(outputEl, {childList: true});\n",
       "}}\n",
       "\n",
       "                        })                };                });            </script>        </div>"
      ]
     },
     "metadata": {},
     "output_type": "display_data"
    }
   ],
   "source": [
    "df = key_years.loc[(key_years['Sex'] == 'F')]\n",
    "fig = px.scatter(df,\n",
    "                 x=\"Primary_ed_completion_percent\", \n",
    "                 y=\"Maternal_Death_Rate\", \n",
    "                 color=\"Year\", \n",
    "                 marginal_y=\"violin\",\n",
    "                 marginal_x=\"box\", \n",
    "                 template=\"simple_white\")\n",
    "fig.show()"
   ]
  },
  {
   "cell_type": "code",
   "execution_count": 101,
   "id": "0cb2a4b8",
   "metadata": {},
   "outputs": [
    {
     "data": {
      "application/vnd.plotly.v1+json": {
       "config": {
        "plotlyServerURL": "https://plot.ly"
       },
       "data": [
        {
         "customdata": [
          [
           "Europe",
           "Albania"
          ],
          [
           "Europe",
           "Austria"
          ],
          [
           "Europe",
           "Belarus"
          ],
          [
           "Europe",
           "Belgium"
          ],
          [
           "South America",
           "Bolivia"
          ],
          [
           "South America",
           "Brazil"
          ],
          [
           "Africa",
           "Burundi"
          ],
          [
           "Asia",
           "Cambodia"
          ],
          [
           "Africa",
           "Cameroon"
          ],
          [
           "South America",
           "Colombia"
          ],
          [
           "Africa",
           "Congo"
          ],
          [
           "North America",
           "Costa Rica"
          ],
          [
           "Europe",
           "Cyprus"
          ],
          [
           "Europe",
           "Denmark"
          ],
          [
           "North America",
           "Dominican Republic"
          ],
          [
           "South America",
           "Ecuador"
          ],
          [
           "Africa",
           "Egypt"
          ],
          [
           "North America",
           "El Salvador"
          ],
          [
           "Europe",
           "Estonia"
          ],
          [
           "Africa",
           "Ethiopia"
          ],
          [
           "Europe",
           "Finland"
          ],
          [
           "Europe",
           "Georgia"
          ],
          [
           "Europe",
           "Germany"
          ],
          [
           "Europe",
           "Greece"
          ],
          [
           "Africa",
           "Guinea"
          ],
          [
           "North America",
           "Haiti"
          ],
          [
           "North America",
           "Honduras"
          ],
          [
           "Europe",
           "Hungary"
          ],
          [
           "Europe",
           "Iceland"
          ],
          [
           "Asia",
           "India"
          ],
          [
           "Europe",
           "Ireland"
          ],
          [
           "Europe",
           "Italy"
          ],
          [
           "North America",
           "Jamaica"
          ],
          [
           "Europe",
           "Latvia"
          ],
          [
           "Africa",
           "Lesotho"
          ],
          [
           "Europe",
           "Lithuania"
          ],
          [
           "Europe",
           "Luxembourg"
          ],
          [
           "Europe",
           "Montenegro"
          ],
          [
           "Europe",
           "Netherlands"
          ],
          [
           "North America",
           "Nicaragua"
          ],
          [
           "Europe",
           "North Macedonia"
          ],
          [
           "Europe",
           "Norway"
          ],
          [
           "North America",
           "Panama"
          ],
          [
           "South America",
           "Paraguay"
          ],
          [
           "South America",
           "Peru"
          ],
          [
           "Europe",
           "Poland"
          ],
          [
           "Europe",
           "Portugal"
          ],
          [
           "Africa",
           "Rwanda"
          ],
          [
           "Africa",
           "Senegal"
          ],
          [
           "Europe",
           "Serbia"
          ],
          [
           "Africa",
           "Sierra Leone"
          ],
          [
           "Europe",
           "Slovenia"
          ],
          [
           "Europe",
           "Spain"
          ],
          [
           "Europe",
           "Sweden"
          ],
          [
           "Asia",
           "Thailand"
          ],
          [
           "Europe",
           "Ukraine"
          ],
          [
           "Africa",
           "Zimbabwe"
          ]
         ],
         "hovertemplate": "Year=2005<br>Sex=F<br>Primary_ed_completion_percent=%{x}<br>Maternal_Death_Rate=%{y}<br>GDP_Per_Capita=%{marker.size}<br>Continent=%{customdata[0]}<br>Country=%{customdata[1]}<extra></extra>",
         "legendgroup": "2005",
         "marker": {
          "color": "#636efa",
          "size": [
           8066.55744546876,
           49473.7489879843,
           11940.1865961058,
           46489.2691305788,
           5749.52853108943,
           12561.8201732326,
           798.704284723934,
           2120.55187709438,
           2982.0247447709,
           10083.3143613973,
           4677.8780452455,
           13925.0788185196,
           37653.765432119,
           51647.6716754489,
           10291.3088797642,
           9503.68919042493,
           8397.03322231274,
           6870.62247722546,
           26168.5856675526,
           862.355330588949,
           44823.0803310483,
           7315.19848048057,
           44024.686883696,
           35124.8475404881,
           1794.4145141069,
           2629.11154739696,
           4546.23880650616,
           24433.5549555262,
           47249.4011064694,
           3239.33303556796,
           56862.7329142146,
           44402.1636371344,
           9916.91951109908,
           20240.2291018432,
           1892.43574195623,
           21120.4502237547,
           104357.564987409,
           14093.6805302268,
           49625.4195662187,
           4320.77512283701,
           11121.5902024674,
           62067.9707102713,
           16304.5988099709,
           8568.54754975229,
           7519.02772018677,
           18997.9392297003,
           31175.8545606093,
           1148.44702200812,
           2650.83530341655,
           12317.1837218579,
           1244.90251686215,
           31233.0871448787,
           38084.5914726208,
           45585.3966001731,
           12316.627183929,
           10957.5582756783,
           2328.17612903911
          ],
          "sizemode": "area",
          "sizeref": 271.90229007520253,
          "symbol": "circle"
         },
         "mode": "markers",
         "name": "2005",
         "orientation": "v",
         "showlegend": true,
         "type": "scatter",
         "x": [
          98.81,
          null,
          100,
          null,
          88.87,
          95.22,
          11.65,
          58.90414,
          68.2568,
          87.61098,
          63.85842,
          92.39,
          null,
          null,
          85.68,
          93.75,
          81.30888,
          79.2,
          null,
          23.29575,
          null,
          97.87,
          null,
          null,
          23.7841,
          44.88008,
          77.11,
          null,
          null,
          75.1,
          null,
          null,
          99.39,
          null,
          63.58078,
          null,
          null,
          98.85,
          null,
          67.93,
          97.16,
          null,
          93.29,
          88.05,
          88.89,
          null,
          null,
          10.93098,
          22.23406,
          98.81,
          29.06,
          null,
          null,
          null,
          98.04,
          98.8,
          88.63229
         ],
         "xaxis": "x",
         "y": [
          22,
          6,
          11,
          7,
          271,
          71,
          814,
          351,
          692,
          83,
          677,
          33,
          12,
          6,
          83,
          94,
          52,
          62,
          18,
          865,
          5,
          39,
          6,
          3,
          920,
          459,
          77,
          15,
          5,
          286,
          7,
          3,
          80,
          30,
          679,
          14,
          9,
          9,
          11,
          131,
          10,
          5,
          88,
          137,
          118,
          4,
          9,
          643,
          519,
          12,
          1760,
          10,
          5,
          5,
          43,
          33,
          685
         ],
         "yaxis": "y"
        },
        {
         "customdata": [
          [
           "Europe",
           "Albania"
          ],
          [
           "Europe",
           "Austria"
          ],
          [
           "Europe",
           "Belarus"
          ],
          [
           "Europe",
           "Belgium"
          ],
          [
           "South America",
           "Bolivia"
          ],
          [
           "South America",
           "Brazil"
          ],
          [
           "Africa",
           "Burundi"
          ],
          [
           "Asia",
           "Cambodia"
          ],
          [
           "Africa",
           "Cameroon"
          ],
          [
           "South America",
           "Colombia"
          ],
          [
           "Africa",
           "Congo"
          ],
          [
           "North America",
           "Costa Rica"
          ],
          [
           "Europe",
           "Cyprus"
          ],
          [
           "Europe",
           "Denmark"
          ],
          [
           "North America",
           "Dominican Republic"
          ],
          [
           "South America",
           "Ecuador"
          ],
          [
           "Africa",
           "Egypt"
          ],
          [
           "North America",
           "El Salvador"
          ],
          [
           "Europe",
           "Estonia"
          ],
          [
           "Africa",
           "Ethiopia"
          ],
          [
           "Europe",
           "Finland"
          ],
          [
           "Europe",
           "Georgia"
          ],
          [
           "Europe",
           "Germany"
          ],
          [
           "Europe",
           "Greece"
          ],
          [
           "Africa",
           "Guinea"
          ],
          [
           "North America",
           "Haiti"
          ],
          [
           "North America",
           "Honduras"
          ],
          [
           "Europe",
           "Hungary"
          ],
          [
           "Europe",
           "Iceland"
          ],
          [
           "Asia",
           "India"
          ],
          [
           "Europe",
           "Ireland"
          ],
          [
           "Europe",
           "Italy"
          ],
          [
           "North America",
           "Jamaica"
          ],
          [
           "Europe",
           "Latvia"
          ],
          [
           "Africa",
           "Lesotho"
          ],
          [
           "Europe",
           "Lithuania"
          ],
          [
           "Europe",
           "Luxembourg"
          ],
          [
           "Europe",
           "Montenegro"
          ],
          [
           "Europe",
           "Netherlands"
          ],
          [
           "North America",
           "Nicaragua"
          ],
          [
           "Europe",
           "North Macedonia"
          ],
          [
           "Europe",
           "Norway"
          ],
          [
           "North America",
           "Panama"
          ],
          [
           "South America",
           "Paraguay"
          ],
          [
           "South America",
           "Peru"
          ],
          [
           "Europe",
           "Poland"
          ],
          [
           "Europe",
           "Portugal"
          ],
          [
           "Africa",
           "Rwanda"
          ],
          [
           "Africa",
           "Senegal"
          ],
          [
           "Europe",
           "Serbia"
          ],
          [
           "Africa",
           "Sierra Leone"
          ],
          [
           "Europe",
           "Slovenia"
          ],
          [
           "Europe",
           "Spain"
          ],
          [
           "Europe",
           "Sweden"
          ],
          [
           "Asia",
           "Thailand"
          ],
          [
           "Europe",
           "Ukraine"
          ],
          [
           "Africa",
           "Zimbabwe"
          ]
         ],
         "hovertemplate": "Year=2005<br>Sex=M<br>Primary_ed_completion_percent=%{x}<br>Maternal_Death_Rate=%{y}<br>GDP_Per_Capita=%{marker.size}<br>Continent=%{customdata[0]}<br>Country=%{customdata[1]}<extra></extra>",
         "legendgroup": "2005",
         "marker": {
          "color": "#636efa",
          "size": [
           8066.55744546876,
           49473.7489879843,
           11940.1865961058,
           46489.2691305788,
           5749.52853108943,
           12561.8201732326,
           798.704284723934,
           2120.55187709438,
           2982.0247447709,
           10083.3143613973,
           4677.8780452455,
           13925.0788185196,
           37653.765432119,
           51647.6716754489,
           10291.3088797642,
           9503.68919042493,
           8397.03322231274,
           6870.62247722546,
           26168.5856675526,
           862.355330588949,
           44823.0803310483,
           7315.19848048057,
           44024.686883696,
           35124.8475404881,
           1794.4145141069,
           2629.11154739696,
           4546.23880650616,
           24433.5549555262,
           47249.4011064694,
           3239.33303556796,
           56862.7329142146,
           44402.1636371344,
           9916.91951109908,
           20240.2291018432,
           1892.43574195623,
           21120.4502237547,
           104357.564987409,
           14093.6805302268,
           49625.4195662187,
           4320.77512283701,
           11121.5902024674,
           62067.9707102713,
           16304.5988099709,
           8568.54754975229,
           7519.02772018677,
           18997.9392297003,
           31175.8545606093,
           1148.44702200812,
           2650.83530341655,
           12317.1837218579,
           1244.90251686215,
           31233.0871448787,
           38084.5914726208,
           45585.3966001731,
           12316.627183929,
           10957.5582756783,
           2328.17612903911
          ],
          "sizemode": "area",
          "sizeref": 271.90229007520253,
          "symbol": "circle"
         },
         "mode": "markers",
         "name": "2005",
         "orientation": "v",
         "showlegend": false,
         "type": "scatter",
         "x": [
          99.01,
          null,
          99.66,
          null,
          89.23,
          91.71,
          14.84,
          58.99419,
          72.24709,
          81.82281,
          62.89907,
          88.86,
          null,
          null,
          77.65,
          90.65,
          86.36117,
          77.9,
          null,
          32.94855,
          null,
          98.65,
          null,
          null,
          44.3191,
          36.75323,
          68.43,
          null,
          null,
          77.89,
          null,
          null,
          98.67,
          null,
          37.0059,
          null,
          null,
          97.62,
          null,
          56.71,
          96.99,
          null,
          90.39,
          81.63,
          91.32,
          null,
          null,
          10.01228,
          27.84762,
          99.27,
          34.98,
          null,
          null,
          null,
          97.31,
          100,
          85.86732
         ],
         "xaxis": "x2",
         "y": [
          22,
          6,
          11,
          7,
          271,
          71,
          814,
          351,
          692,
          83,
          677,
          33,
          12,
          6,
          83,
          94,
          52,
          62,
          18,
          865,
          5,
          39,
          6,
          3,
          920,
          459,
          77,
          15,
          5,
          286,
          7,
          3,
          80,
          30,
          679,
          14,
          9,
          9,
          11,
          131,
          10,
          5,
          88,
          137,
          118,
          4,
          9,
          643,
          519,
          12,
          1760,
          10,
          5,
          5,
          43,
          33,
          685
         ],
         "yaxis": "y2"
        },
        {
         "customdata": [
          [
           "Europe",
           "Albania"
          ],
          [
           "Europe",
           "Austria"
          ],
          [
           "Europe",
           "Belarus"
          ],
          [
           "Europe",
           "Belgium"
          ],
          [
           "South America",
           "Bolivia"
          ],
          [
           "South America",
           "Brazil"
          ],
          [
           "Africa",
           "Burundi"
          ],
          [
           "Asia",
           "Cambodia"
          ],
          [
           "Africa",
           "Cameroon"
          ],
          [
           "South America",
           "Colombia"
          ],
          [
           "Africa",
           "Congo"
          ],
          [
           "North America",
           "Costa Rica"
          ],
          [
           "Europe",
           "Cyprus"
          ],
          [
           "Europe",
           "Denmark"
          ],
          [
           "North America",
           "Dominican Republic"
          ],
          [
           "South America",
           "Ecuador"
          ],
          [
           "Africa",
           "Egypt"
          ],
          [
           "North America",
           "El Salvador"
          ],
          [
           "Europe",
           "Estonia"
          ],
          [
           "Africa",
           "Ethiopia"
          ],
          [
           "Europe",
           "Finland"
          ],
          [
           "Europe",
           "Georgia"
          ],
          [
           "Europe",
           "Germany"
          ],
          [
           "Europe",
           "Greece"
          ],
          [
           "Africa",
           "Guinea"
          ],
          [
           "North America",
           "Haiti"
          ],
          [
           "North America",
           "Honduras"
          ],
          [
           "Europe",
           "Hungary"
          ],
          [
           "Europe",
           "Iceland"
          ],
          [
           "Asia",
           "India"
          ],
          [
           "Europe",
           "Ireland"
          ],
          [
           "Europe",
           "Italy"
          ],
          [
           "North America",
           "Jamaica"
          ],
          [
           "Europe",
           "Latvia"
          ],
          [
           "Africa",
           "Lesotho"
          ],
          [
           "Europe",
           "Lithuania"
          ],
          [
           "Europe",
           "Luxembourg"
          ],
          [
           "Europe",
           "Montenegro"
          ],
          [
           "Europe",
           "Netherlands"
          ],
          [
           "North America",
           "Nicaragua"
          ],
          [
           "Europe",
           "North Macedonia"
          ],
          [
           "Europe",
           "Norway"
          ],
          [
           "North America",
           "Panama"
          ],
          [
           "South America",
           "Paraguay"
          ],
          [
           "South America",
           "Peru"
          ],
          [
           "Europe",
           "Poland"
          ],
          [
           "Europe",
           "Portugal"
          ],
          [
           "Africa",
           "Rwanda"
          ],
          [
           "Africa",
           "Senegal"
          ],
          [
           "Europe",
           "Serbia"
          ],
          [
           "Africa",
           "Sierra Leone"
          ],
          [
           "Europe",
           "Slovenia"
          ],
          [
           "Europe",
           "Spain"
          ],
          [
           "Europe",
           "Sweden"
          ],
          [
           "Asia",
           "Thailand"
          ],
          [
           "Europe",
           "Ukraine"
          ],
          [
           "Africa",
           "Zimbabwe"
          ]
         ],
         "hovertemplate": "Year=2005<br>Sex=_T<br>Primary_ed_completion_percent=%{x}<br>Maternal_Death_Rate=%{y}<br>GDP_Per_Capita=%{marker.size}<br>Continent=%{customdata[0]}<br>Country=%{customdata[1]}<extra></extra>",
         "legendgroup": "2005",
         "marker": {
          "color": "#636efa",
          "size": [
           8066.55744546876,
           49473.7489879843,
           11940.1865961058,
           46489.2691305788,
           5749.52853108943,
           12561.8201732326,
           798.704284723934,
           2120.55187709438,
           2982.0247447709,
           10083.3143613973,
           4677.8780452455,
           13925.0788185196,
           37653.765432119,
           51647.6716754489,
           10291.3088797642,
           9503.68919042493,
           8397.03322231274,
           6870.62247722546,
           26168.5856675526,
           862.355330588949,
           44823.0803310483,
           7315.19848048057,
           44024.686883696,
           35124.8475404881,
           1794.4145141069,
           2629.11154739696,
           4546.23880650616,
           24433.5549555262,
           47249.4011064694,
           3239.33303556796,
           56862.7329142146,
           44402.1636371344,
           9916.91951109908,
           20240.2291018432,
           1892.43574195623,
           21120.4502237547,
           104357.564987409,
           14093.6805302268,
           49625.4195662187,
           4320.77512283701,
           11121.5902024674,
           62067.9707102713,
           16304.5988099709,
           8568.54754975229,
           7519.02772018677,
           18997.9392297003,
           31175.8545606093,
           1148.44702200812,
           2650.83530341655,
           12317.1837218579,
           1244.90251686215,
           31233.0871448787,
           38084.5914726208,
           45585.3966001731,
           12316.627183929,
           10957.5582756783,
           2328.17612903911
          ],
          "sizemode": "area",
          "sizeref": 271.90229007520253,
          "symbol": "circle"
         },
         "mode": "markers",
         "name": "2005",
         "orientation": "v",
         "showlegend": false,
         "type": "scatter",
         "x": [
          98.91,
          null,
          99.83,
          null,
          89.05,
          93.44,
          13.17,
          58.95035,
          70.26693,
          84.71531,
          63.39317,
          90.63,
          null,
          null,
          81.56,
          92.13,
          83.85818,
          78.54,
          null,
          28.21768,
          null,
          98.27,
          null,
          null,
          33.52226,
          40.90987,
          72.8,
          null,
          null,
          76.53,
          null,
          null,
          98.99,
          null,
          49.87584,
          null,
          null,
          98.25,
          null,
          62.43,
          97.06,
          null,
          91.79,
          84.73,
          90.11,
          null,
          null,
          10.48374,
          24.8962,
          99.04,
          32.69,
          null,
          null,
          null,
          97.67,
          99.44,
          87.26836
         ],
         "xaxis": "x3",
         "y": [
          22,
          6,
          11,
          7,
          271,
          71,
          814,
          351,
          692,
          83,
          677,
          33,
          12,
          6,
          83,
          94,
          52,
          62,
          18,
          865,
          5,
          39,
          6,
          3,
          920,
          459,
          77,
          15,
          5,
          286,
          7,
          3,
          80,
          30,
          679,
          14,
          9,
          9,
          11,
          131,
          10,
          5,
          88,
          137,
          118,
          4,
          9,
          643,
          519,
          12,
          1760,
          10,
          5,
          5,
          43,
          33,
          685
         ],
         "yaxis": "y3"
        },
        {
         "customdata": [
          [
           "South America",
           "Argentina"
          ],
          [
           "Oceania",
           "Australia"
          ],
          [
           "Asia",
           "Bhutan"
          ],
          [
           "Africa",
           "Burkina Faso"
          ],
          [
           "Africa",
           "Burundi"
          ],
          [
           "Asia",
           "Cambodia"
          ],
          [
           "North America",
           "Canada"
          ],
          [
           "Africa",
           "Chad"
          ],
          [
           "Asia",
           "China"
          ],
          [
           "South America",
           "Colombia"
          ],
          [
           "North America",
           "Costa Rica"
          ],
          [
           "Africa",
           "Dem. Rep. Congo"
          ],
          [
           "North America",
           "Dominican Republic"
          ],
          [
           "South America",
           "Ecuador"
          ],
          [
           "North America",
           "El Salvador"
          ],
          [
           "Africa",
           "Eswatini"
          ],
          [
           "Africa",
           "Gambia"
          ],
          [
           "Africa",
           "Ghana"
          ],
          [
           "North America",
           "Honduras"
          ],
          [
           "Africa",
           "Malawi"
          ],
          [
           "Africa",
           "Mali"
          ],
          [
           "North America",
           "Mexico"
          ],
          [
           "Asia",
           "Mongolia"
          ],
          [
           "Africa",
           "Nigeria"
          ],
          [
           "North America",
           "Panama"
          ],
          [
           "South America",
           "Paraguay"
          ],
          [
           "South America",
           "Peru"
          ],
          [
           "Asia",
           "Philippines"
          ],
          [
           "North America",
           "Puerto Rico"
          ],
          [
           "Africa",
           "Rwanda"
          ],
          [
           "Africa",
           "Sierra Leone"
          ],
          [
           "Africa",
           "Sudan"
          ],
          [
           "South America",
           "Suriname"
          ],
          [
           "Africa",
           "Togo"
          ],
          [
           "South America",
           "Uruguay"
          ],
          [
           "Africa",
           "Zambia"
          ],
          [
           "Africa",
           "Zimbabwe"
          ]
         ],
         "hovertemplate": "Year=2010<br>Sex=F<br>Primary_ed_completion_percent=%{x}<br>Maternal_Death_Rate=%{y}<br>GDP_Per_Capita=%{marker.size}<br>Continent=%{customdata[0]}<br>Country=%{customdata[1]}<extra></extra>",
         "legendgroup": "2010",
         "marker": {
          "color": "#EF553B",
          "size": [
           23521.2701763288,
           45131.434148345,
           8190.56427451825,
           1716.35766288052,
           846.169526927269,
           2716.69840884516,
           44962.8839612883,
           1732.69129415445,
           8884.58803122452,
           11823.3879357365,
           16448.2874784145,
           865.684026812839,
           12782.4518985839,
           10340.9682305541,
           7328.71321626195,
           7459.25599579237,
           2346.72440487282,
           3732.38206331236,
           4866.97217562037,
           968.779611645394,
           2082.96179622555,
           17848.3249422511,
           7479.79740248469,
           4932.33498667095,
           21347.3327494385,
           10405.2309409429,
           10066.4696472131,
           5918.37348075447,
           32960.6911054053,
           1507.16501035777,
           1413.56417680838,
           3217.76676555225,
           16953.8034242653,
           1224.97842819758,
           17712.8969892031,
           3125.52930813716,
           2273.20007326702
          ],
          "sizemode": "area",
          "sizeref": 271.90229007520253,
          "symbol": "circle"
         },
         "mode": "markers",
         "name": "2010",
         "orientation": "v",
         "showlegend": true,
         "type": "scatter",
         "x": [
          93.81141,
          null,
          70.03057,
          29.51919,
          38.41388,
          72.16656,
          null,
          23.18,
          97.09,
          93.27485,
          93.42,
          42.67512,
          91.33,
          96.56,
          84.25,
          73.75092,
          61.12356,
          65.26145,
          83.93,
          58.4648,
          29.39,
          96.72,
          97.7,
          71.23172,
          93.12082,
          90.05,
          93.6,
          90.61983,
          99.04262,
          40.81238,
          58.42,
          66.47,
          83.38417,
          53.48973,
          97.09,
          66.77598,
          90.63749
         ],
         "xaxis": "x",
         "y": [
          51,
          5,
          247,
          385,
          665,
          248,
          11,
          1240,
          36,
          85,
          32,
          542,
          96,
          78,
          54,
          450,
          661,
          339,
          74,
          444,
          660,
          46,
          66,
          978,
          79,
          108,
          104,
          144,
          21,
          373,
          1360,
          408,
          148,
          440,
          17,
          305,
          598
         ],
         "yaxis": "y"
        },
        {
         "customdata": [
          [
           "South America",
           "Argentina"
          ],
          [
           "Oceania",
           "Australia"
          ],
          [
           "Asia",
           "Bhutan"
          ],
          [
           "Africa",
           "Burkina Faso"
          ],
          [
           "Africa",
           "Burundi"
          ],
          [
           "Asia",
           "Cambodia"
          ],
          [
           "North America",
           "Canada"
          ],
          [
           "Africa",
           "Chad"
          ],
          [
           "Asia",
           "China"
          ],
          [
           "South America",
           "Colombia"
          ],
          [
           "North America",
           "Costa Rica"
          ],
          [
           "Africa",
           "Dem. Rep. Congo"
          ],
          [
           "North America",
           "Dominican Republic"
          ],
          [
           "South America",
           "Ecuador"
          ],
          [
           "North America",
           "El Salvador"
          ],
          [
           "Africa",
           "Eswatini"
          ],
          [
           "Africa",
           "Gambia"
          ],
          [
           "Africa",
           "Ghana"
          ],
          [
           "North America",
           "Honduras"
          ],
          [
           "Africa",
           "Malawi"
          ],
          [
           "Africa",
           "Mali"
          ],
          [
           "North America",
           "Mexico"
          ],
          [
           "Asia",
           "Mongolia"
          ],
          [
           "Africa",
           "Nigeria"
          ],
          [
           "North America",
           "Panama"
          ],
          [
           "South America",
           "Paraguay"
          ],
          [
           "South America",
           "Peru"
          ],
          [
           "Asia",
           "Philippines"
          ],
          [
           "North America",
           "Puerto Rico"
          ],
          [
           "Africa",
           "Rwanda"
          ],
          [
           "Africa",
           "Sierra Leone"
          ],
          [
           "Africa",
           "Sudan"
          ],
          [
           "South America",
           "Suriname"
          ],
          [
           "Africa",
           "Togo"
          ],
          [
           "South America",
           "Uruguay"
          ],
          [
           "Africa",
           "Zambia"
          ],
          [
           "Africa",
           "Zimbabwe"
          ]
         ],
         "hovertemplate": "Year=2010<br>Sex=M<br>Primary_ed_completion_percent=%{x}<br>Maternal_Death_Rate=%{y}<br>GDP_Per_Capita=%{marker.size}<br>Continent=%{customdata[0]}<br>Country=%{customdata[1]}<extra></extra>",
         "legendgroup": "2010",
         "marker": {
          "color": "#EF553B",
          "size": [
           23521.2701763288,
           45131.434148345,
           8190.56427451825,
           1716.35766288052,
           846.169526927269,
           2716.69840884516,
           44962.8839612883,
           1732.69129415445,
           8884.58803122452,
           11823.3879357365,
           16448.2874784145,
           865.684026812839,
           12782.4518985839,
           10340.9682305541,
           7328.71321626195,
           7459.25599579237,
           2346.72440487282,
           3732.38206331236,
           4866.97217562037,
           968.779611645394,
           2082.96179622555,
           17848.3249422511,
           7479.79740248469,
           4932.33498667095,
           21347.3327494385,
           10405.2309409429,
           10066.4696472131,
           5918.37348075447,
           32960.6911054053,
           1507.16501035777,
           1413.56417680838,
           3217.76676555225,
           16953.8034242653,
           1224.97842819758,
           17712.8969892031,
           3125.52930813716,
           2273.20007326702
          ],
          "sizemode": "area",
          "sizeref": 271.90229007520253,
          "symbol": "circle"
         },
         "mode": "markers",
         "name": "2010",
         "orientation": "v",
         "showlegend": false,
         "type": "scatter",
         "x": [
          91.55851,
          null,
          65.87398,
          32.12549,
          41.44624,
          70.03249,
          null,
          30.88,
          96.35,
          88.03828,
          89.2,
          46.07497,
          80.54,
          94.72,
          80.47,
          58.67925,
          55.91554,
          63.04644,
          77.95,
          50.48363,
          47.69,
          94.92,
          95.44,
          71.90495,
          91.31926,
          84.41,
          93.27,
          83.08642,
          99.72083,
          38.87215,
          60.6,
          76.44,
          76.68099,
          60.76244,
          95.3,
          66.70922,
          85.98171
         ],
         "xaxis": "x2",
         "y": [
          51,
          5,
          247,
          385,
          665,
          248,
          11,
          1240,
          36,
          85,
          32,
          542,
          96,
          78,
          54,
          450,
          661,
          339,
          74,
          444,
          660,
          46,
          66,
          978,
          79,
          108,
          104,
          144,
          21,
          373,
          1360,
          408,
          148,
          440,
          17,
          305,
          598
         ],
         "yaxis": "y2"
        },
        {
         "customdata": [
          [
           "South America",
           "Argentina"
          ],
          [
           "Oceania",
           "Australia"
          ],
          [
           "Asia",
           "Bhutan"
          ],
          [
           "Africa",
           "Burkina Faso"
          ],
          [
           "Africa",
           "Burundi"
          ],
          [
           "Asia",
           "Cambodia"
          ],
          [
           "North America",
           "Canada"
          ],
          [
           "Africa",
           "Chad"
          ],
          [
           "Asia",
           "China"
          ],
          [
           "South America",
           "Colombia"
          ],
          [
           "North America",
           "Costa Rica"
          ],
          [
           "Africa",
           "Dem. Rep. Congo"
          ],
          [
           "North America",
           "Dominican Republic"
          ],
          [
           "South America",
           "Ecuador"
          ],
          [
           "North America",
           "El Salvador"
          ],
          [
           "Africa",
           "Eswatini"
          ],
          [
           "Africa",
           "Gambia"
          ],
          [
           "Africa",
           "Ghana"
          ],
          [
           "North America",
           "Honduras"
          ],
          [
           "Africa",
           "Malawi"
          ],
          [
           "Africa",
           "Mali"
          ],
          [
           "North America",
           "Mexico"
          ],
          [
           "Asia",
           "Mongolia"
          ],
          [
           "Africa",
           "Nigeria"
          ],
          [
           "North America",
           "Panama"
          ],
          [
           "South America",
           "Paraguay"
          ],
          [
           "South America",
           "Peru"
          ],
          [
           "Asia",
           "Philippines"
          ],
          [
           "North America",
           "Puerto Rico"
          ],
          [
           "Africa",
           "Rwanda"
          ],
          [
           "Africa",
           "Sierra Leone"
          ],
          [
           "Africa",
           "Sudan"
          ],
          [
           "South America",
           "Suriname"
          ],
          [
           "Africa",
           "Togo"
          ],
          [
           "South America",
           "Uruguay"
          ],
          [
           "Africa",
           "Zambia"
          ],
          [
           "Africa",
           "Zimbabwe"
          ]
         ],
         "hovertemplate": "Year=2010<br>Sex=_T<br>Primary_ed_completion_percent=%{x}<br>Maternal_Death_Rate=%{y}<br>GDP_Per_Capita=%{marker.size}<br>Continent=%{customdata[0]}<br>Country=%{customdata[1]}<extra></extra>",
         "legendgroup": "2010",
         "marker": {
          "color": "#EF553B",
          "size": [
           23521.2701763288,
           45131.434148345,
           8190.56427451825,
           1716.35766288052,
           846.169526927269,
           2716.69840884516,
           44962.8839612883,
           1732.69129415445,
           8884.58803122452,
           11823.3879357365,
           16448.2874784145,
           865.684026812839,
           12782.4518985839,
           10340.9682305541,
           7328.71321626195,
           7459.25599579237,
           2346.72440487282,
           3732.38206331236,
           4866.97217562037,
           968.779611645394,
           2082.96179622555,
           17848.3249422511,
           7479.79740248469,
           4932.33498667095,
           21347.3327494385,
           10405.2309409429,
           10066.4696472131,
           5918.37348075447,
           32960.6911054053,
           1507.16501035777,
           1413.56417680838,
           3217.76676555225,
           16953.8034242653,
           1224.97842819758,
           17712.8969892031,
           3125.52930813716,
           2273.20007326702
          ],
          "sizemode": "area",
          "sizeref": 271.90229007520253,
          "symbol": "circle"
         },
         "mode": "markers",
         "name": "2010",
         "orientation": "v",
         "showlegend": false,
         "type": "scatter",
         "x": [
          92.67375,
          null,
          67.86397,
          30.90798,
          39.82951,
          71.06843,
          null,
          27.22,
          96.69,
          90.59966,
          91.22,
          44.46562,
          85.62,
          95.59,
          82.34,
          66.18265,
          58.49359,
          64.14412,
          80.82,
          54.32379,
          38.05,
          95.8,
          96.52,
          71.57501,
          92.21018,
          87.1,
          93.43,
          86.76748,
          99.38302,
          39.85742,
          59.6,
          71.44,
          80.11366,
          57.44461,
          96.17,
          66.74353,
          88.25243
         ],
         "xaxis": "x3",
         "y": [
          51,
          5,
          247,
          385,
          665,
          248,
          11,
          1240,
          36,
          85,
          32,
          542,
          96,
          78,
          54,
          450,
          661,
          339,
          74,
          444,
          660,
          46,
          66,
          978,
          79,
          108,
          104,
          144,
          21,
          373,
          1360,
          408,
          148,
          440,
          17,
          305,
          598
         ],
         "yaxis": "y3"
        },
        {
         "customdata": [
          [
           "Europe",
           "Austria"
          ],
          [
           "Asia",
           "Bangladesh"
          ],
          [
           "Europe",
           "Belgium"
          ],
          [
           "Africa",
           "Benin"
          ],
          [
           "South America",
           "Bolivia"
          ],
          [
           "South America",
           "Brazil"
          ],
          [
           "Europe",
           "Bulgaria"
          ],
          [
           "Asia",
           "Cambodia"
          ],
          [
           "Africa",
           "Cameroon"
          ],
          [
           "Africa",
           "Chad"
          ],
          [
           "Asia",
           "China"
          ],
          [
           "South America",
           "Colombia"
          ],
          [
           "North America",
           "Costa Rica"
          ],
          [
           "Europe",
           "Croatia"
          ],
          [
           "Europe",
           "Cyprus"
          ],
          [
           "Europe",
           "Denmark"
          ],
          [
           "North America",
           "Dominican Republic"
          ],
          [
           "South America",
           "Ecuador"
          ],
          [
           "Africa",
           "Egypt"
          ],
          [
           "North America",
           "El Salvador"
          ],
          [
           "Europe",
           "Estonia"
          ],
          [
           "Africa",
           "Eswatini"
          ],
          [
           "Europe",
           "Finland"
          ],
          [
           "Europe",
           "Germany"
          ],
          [
           "Africa",
           "Ghana"
          ],
          [
           "Europe",
           "Greece"
          ],
          [
           "North America",
           "Guatemala"
          ],
          [
           "Africa",
           "Guinea-Bissau"
          ],
          [
           "South America",
           "Guyana"
          ],
          [
           "North America",
           "Honduras"
          ],
          [
           "Europe",
           "Hungary"
          ],
          [
           "Europe",
           "Iceland"
          ],
          [
           "Europe",
           "Ireland"
          ],
          [
           "Europe",
           "Italy"
          ],
          [
           "Africa",
           "Kenya"
          ],
          [
           "Asia",
           "Kyrgyz Republic"
          ],
          [
           "Europe",
           "Latvia"
          ],
          [
           "Africa",
           "Lesotho"
          ],
          [
           "Europe",
           "Lithuania"
          ],
          [
           "Europe",
           "Luxembourg"
          ],
          [
           "Africa",
           "Malawi"
          ],
          [
           "Europe",
           "Malta"
          ],
          [
           "North America",
           "Mexico"
          ],
          [
           "Asia",
           "Mongolia"
          ],
          [
           "Asia",
           "Nepal"
          ],
          [
           "Europe",
           "Netherlands"
          ],
          [
           "North America",
           "Nicaragua"
          ],
          [
           "Europe",
           "Norway"
          ],
          [
           "North America",
           "Panama"
          ],
          [
           "South America",
           "Paraguay"
          ],
          [
           "South America",
           "Peru"
          ],
          [
           "Europe",
           "Poland"
          ],
          [
           "Europe",
           "Portugal"
          ],
          [
           "Europe",
           "Romania"
          ],
          [
           "Africa",
           "Senegal"
          ],
          [
           "Europe",
           "Serbia"
          ],
          [
           "Europe",
           "Slovenia"
          ],
          [
           "Europe",
           "Spain"
          ],
          [
           "Africa",
           "Sudan"
          ],
          [
           "Europe",
           "Sweden"
          ],
          [
           "Europe",
           "Switzerland"
          ],
          [
           "Africa",
           "Togo"
          ],
          [
           "Asia",
           "Turkey"
          ],
          [
           "South America",
           "Uruguay"
          ],
          [
           "Africa",
           "Zimbabwe"
          ]
         ],
         "hovertemplate": "Year=2014<br>Sex=F<br>Primary_ed_completion_percent=%{x}<br>Maternal_Death_Rate=%{y}<br>GDP_Per_Capita=%{marker.size}<br>Continent=%{customdata[0]}<br>Country=%{customdata[1]}<extra></extra>",
         "legendgroup": "2014",
         "marker": {
          "color": "#00cc96",
          "size": [
           53025.8476078992,
           3511.58228216065,
           48903.340741753,
           2975.85391436098,
           7730.63840148344,
           15744.3471113816,
           18807.2287791934,
           3364.27872943395,
           3362.664067483,
           1866.26648837908,
           11917.3384959856,
           13899.3688286349,
           18168.715241725,
           23858.4103988913,
           33064.5801699164,
           52214.5377534374,
           14499.6361158376,
           12078.4698435004,
           10353.6684072177,
           7990.44461457603,
           30700.3369259447,
           8192.53543463127,
           45013.1004551426,
           50932.7567783141,
           4675.75856612863,
           28615.8377329141,
           7939.09038738555,
           1740.89056524607,
           11244.3126692508,
           5177.40941597809,
           26509.0999901907,
           49652.1495003908,
           57404.7044797085,
           40025.9327304527,
           3709.15907577307,
           4722.08600254189,
           25468.0576903373,
           2676.9749855703,
           29951.2218569938,
           108760.916030081,
           1027.20849641169,
           37246.5521006602,
           18949.4798369704,
           10980.3351999295,
           2829.23339391927,
           52353.6669901678,
           5443.34174009736,
           62589.3735479552,
           27357.6230717227,
           11612.3899106317,
           11877.084063348,
           26734.6647579303,
           30541.7928846043,
           23158.0486774376,
           2868.31769823851,
           15274.9422811457,
           33204.5886933161,
           36083.4760986599,
           4093.14257664224,
           49416.289877049,
           65813.9525086408,
           1404.13293846139,
           24960.320597338,
           20582.1689530456,
           2955.24028731034
          ],
          "sizemode": "area",
          "sizeref": 271.90229007520253,
          "symbol": "circle"
         },
         "mode": "markers",
         "name": "2014",
         "orientation": "v",
         "showlegend": true,
         "type": "scatter",
         "x": [
          null,
          84.44126,
          null,
          48.67413,
          92.79,
          97.82,
          null,
          77.21745,
          72.50016,
          23.72016,
          98.02,
          94.54,
          94.89,
          null,
          null,
          null,
          94.70614,
          98.29,
          91.53024,
          90.31,
          null,
          76.72132,
          null,
          null,
          67.84778,
          null,
          71.65,
          25.74895,
          99.05898,
          83.74,
          null,
          null,
          null,
          null,
          86.92873,
          99.46177,
          null,
          78.1806,
          null,
          null,
          51.43,
          null,
          97.25,
          98.64397,
          75.60509,
          null,
          84.31,
          null,
          94.86,
          92.21,
          96.31,
          null,
          null,
          null,
          49.98,
          99.55871,
          null,
          null,
          64.43813,
          null,
          null,
          57.59164,
          97.85593,
          98.23,
          90.7
         ],
         "xaxis": "x",
         "y": [
          5,
          214,
          6,
          432,
          175,
          62,
          11,
          189,
          564,
          1170,
          31,
          85,
          29,
          8,
          8,
          4,
          94,
          65,
          39,
          49,
          11,
          434,
          3,
          5,
          325,
          3,
          107,
          711,
          174,
          68,
          12,
          5,
          6,
          2,
          358,
          69,
          24,
          579,
          9,
          6,
          381,
          6,
          38,
          49,
          231,
          6,
          103,
          3,
          60,
          91,
          96,
          2,
          8,
          21,
          364,
          12,
          7,
          4,
          333,
          5,
          5,
          401,
          19,
          17,
          494
         ],
         "yaxis": "y"
        },
        {
         "customdata": [
          [
           "Europe",
           "Austria"
          ],
          [
           "Asia",
           "Bangladesh"
          ],
          [
           "Europe",
           "Belgium"
          ],
          [
           "Africa",
           "Benin"
          ],
          [
           "South America",
           "Bolivia"
          ],
          [
           "South America",
           "Brazil"
          ],
          [
           "Europe",
           "Bulgaria"
          ],
          [
           "Asia",
           "Cambodia"
          ],
          [
           "Africa",
           "Cameroon"
          ],
          [
           "Africa",
           "Chad"
          ],
          [
           "Asia",
           "China"
          ],
          [
           "South America",
           "Colombia"
          ],
          [
           "North America",
           "Costa Rica"
          ],
          [
           "Europe",
           "Croatia"
          ],
          [
           "Europe",
           "Cyprus"
          ],
          [
           "Europe",
           "Denmark"
          ],
          [
           "North America",
           "Dominican Republic"
          ],
          [
           "South America",
           "Ecuador"
          ],
          [
           "Africa",
           "Egypt"
          ],
          [
           "North America",
           "El Salvador"
          ],
          [
           "Europe",
           "Estonia"
          ],
          [
           "Africa",
           "Eswatini"
          ],
          [
           "Europe",
           "Finland"
          ],
          [
           "Europe",
           "Germany"
          ],
          [
           "Africa",
           "Ghana"
          ],
          [
           "Europe",
           "Greece"
          ],
          [
           "North America",
           "Guatemala"
          ],
          [
           "Africa",
           "Guinea-Bissau"
          ],
          [
           "South America",
           "Guyana"
          ],
          [
           "North America",
           "Honduras"
          ],
          [
           "Europe",
           "Hungary"
          ],
          [
           "Europe",
           "Iceland"
          ],
          [
           "Europe",
           "Ireland"
          ],
          [
           "Europe",
           "Italy"
          ],
          [
           "Africa",
           "Kenya"
          ],
          [
           "Asia",
           "Kyrgyz Republic"
          ],
          [
           "Europe",
           "Latvia"
          ],
          [
           "Africa",
           "Lesotho"
          ],
          [
           "Europe",
           "Lithuania"
          ],
          [
           "Europe",
           "Luxembourg"
          ],
          [
           "Africa",
           "Malawi"
          ],
          [
           "Europe",
           "Malta"
          ],
          [
           "North America",
           "Mexico"
          ],
          [
           "Asia",
           "Mongolia"
          ],
          [
           "Asia",
           "Nepal"
          ],
          [
           "Europe",
           "Netherlands"
          ],
          [
           "North America",
           "Nicaragua"
          ],
          [
           "Europe",
           "Norway"
          ],
          [
           "North America",
           "Panama"
          ],
          [
           "South America",
           "Paraguay"
          ],
          [
           "South America",
           "Peru"
          ],
          [
           "Europe",
           "Poland"
          ],
          [
           "Europe",
           "Portugal"
          ],
          [
           "Europe",
           "Romania"
          ],
          [
           "Africa",
           "Senegal"
          ],
          [
           "Europe",
           "Serbia"
          ],
          [
           "Europe",
           "Slovenia"
          ],
          [
           "Europe",
           "Spain"
          ],
          [
           "Africa",
           "Sudan"
          ],
          [
           "Europe",
           "Sweden"
          ],
          [
           "Europe",
           "Switzerland"
          ],
          [
           "Africa",
           "Togo"
          ],
          [
           "Asia",
           "Turkey"
          ],
          [
           "South America",
           "Uruguay"
          ],
          [
           "Africa",
           "Zimbabwe"
          ]
         ],
         "hovertemplate": "Year=2014<br>Sex=M<br>Primary_ed_completion_percent=%{x}<br>Maternal_Death_Rate=%{y}<br>GDP_Per_Capita=%{marker.size}<br>Continent=%{customdata[0]}<br>Country=%{customdata[1]}<extra></extra>",
         "legendgroup": "2014",
         "marker": {
          "color": "#00cc96",
          "size": [
           53025.8476078992,
           3511.58228216065,
           48903.340741753,
           2975.85391436098,
           7730.63840148344,
           15744.3471113816,
           18807.2287791934,
           3364.27872943395,
           3362.664067483,
           1866.26648837908,
           11917.3384959856,
           13899.3688286349,
           18168.715241725,
           23858.4103988913,
           33064.5801699164,
           52214.5377534374,
           14499.6361158376,
           12078.4698435004,
           10353.6684072177,
           7990.44461457603,
           30700.3369259447,
           8192.53543463127,
           45013.1004551426,
           50932.7567783141,
           4675.75856612863,
           28615.8377329141,
           7939.09038738555,
           1740.89056524607,
           11244.3126692508,
           5177.40941597809,
           26509.0999901907,
           49652.1495003908,
           57404.7044797085,
           40025.9327304527,
           3709.15907577307,
           4722.08600254189,
           25468.0576903373,
           2676.9749855703,
           29951.2218569938,
           108760.916030081,
           1027.20849641169,
           37246.5521006602,
           18949.4798369704,
           10980.3351999295,
           2829.23339391927,
           52353.6669901678,
           5443.34174009736,
           62589.3735479552,
           27357.6230717227,
           11612.3899106317,
           11877.084063348,
           26734.6647579303,
           30541.7928846043,
           23158.0486774376,
           2868.31769823851,
           15274.9422811457,
           33204.5886933161,
           36083.4760986599,
           4093.14257664224,
           49416.289877049,
           65813.9525086408,
           1404.13293846139,
           24960.320597338,
           20582.1689530456,
           2955.24028731034
          ],
          "sizemode": "area",
          "sizeref": 271.90229007520253,
          "symbol": "circle"
         },
         "mode": "markers",
         "name": "2014",
         "orientation": "v",
         "showlegend": false,
         "type": "scatter",
         "x": [
          null,
          75.05403,
          null,
          58.73172,
          93.58,
          95.69,
          null,
          67.72973,
          74.84718,
          30.58417,
          96.53,
          89.47,
          94.17,
          null,
          null,
          null,
          88.34187,
          97.07,
          90.22861,
          86.52,
          null,
          64.0539,
          null,
          null,
          63.79495,
          null,
          73.17,
          32.32904,
          95.91525,
          81.37,
          null,
          null,
          null,
          null,
          81.44463,
          99.08892,
          null,
          52.59899,
          null,
          null,
          45.19,
          null,
          95.66,
          97.17731,
          76.88139,
          null,
          66.02,
          null,
          93.4,
          87.28,
          95.15,
          null,
          null,
          null,
          50.39,
          99.1021,
          null,
          null,
          66.45132,
          null,
          null,
          64.5542,
          99.15444,
          96.42,
          83.17
         ],
         "xaxis": "x2",
         "y": [
          5,
          214,
          6,
          432,
          175,
          62,
          11,
          189,
          564,
          1170,
          31,
          85,
          29,
          8,
          8,
          4,
          94,
          65,
          39,
          49,
          11,
          434,
          3,
          5,
          325,
          3,
          107,
          711,
          174,
          68,
          12,
          5,
          6,
          2,
          358,
          69,
          24,
          579,
          9,
          6,
          381,
          6,
          38,
          49,
          231,
          6,
          103,
          3,
          60,
          91,
          96,
          2,
          8,
          21,
          364,
          12,
          7,
          4,
          333,
          5,
          5,
          401,
          19,
          17,
          494
         ],
         "yaxis": "y2"
        },
        {
         "customdata": [
          [
           "Europe",
           "Austria"
          ],
          [
           "Asia",
           "Bangladesh"
          ],
          [
           "Europe",
           "Belgium"
          ],
          [
           "Africa",
           "Benin"
          ],
          [
           "South America",
           "Bolivia"
          ],
          [
           "South America",
           "Brazil"
          ],
          [
           "Europe",
           "Bulgaria"
          ],
          [
           "Asia",
           "Cambodia"
          ],
          [
           "Africa",
           "Cameroon"
          ],
          [
           "Africa",
           "Chad"
          ],
          [
           "Asia",
           "China"
          ],
          [
           "South America",
           "Colombia"
          ],
          [
           "North America",
           "Costa Rica"
          ],
          [
           "Europe",
           "Croatia"
          ],
          [
           "Europe",
           "Cyprus"
          ],
          [
           "Europe",
           "Denmark"
          ],
          [
           "North America",
           "Dominican Republic"
          ],
          [
           "South America",
           "Ecuador"
          ],
          [
           "Africa",
           "Egypt"
          ],
          [
           "North America",
           "El Salvador"
          ],
          [
           "Europe",
           "Estonia"
          ],
          [
           "Africa",
           "Eswatini"
          ],
          [
           "Europe",
           "Finland"
          ],
          [
           "Europe",
           "Germany"
          ],
          [
           "Africa",
           "Ghana"
          ],
          [
           "Europe",
           "Greece"
          ],
          [
           "North America",
           "Guatemala"
          ],
          [
           "Africa",
           "Guinea-Bissau"
          ],
          [
           "South America",
           "Guyana"
          ],
          [
           "North America",
           "Honduras"
          ],
          [
           "Europe",
           "Hungary"
          ],
          [
           "Europe",
           "Iceland"
          ],
          [
           "Europe",
           "Ireland"
          ],
          [
           "Europe",
           "Italy"
          ],
          [
           "Africa",
           "Kenya"
          ],
          [
           "Asia",
           "Kyrgyz Republic"
          ],
          [
           "Europe",
           "Latvia"
          ],
          [
           "Africa",
           "Lesotho"
          ],
          [
           "Europe",
           "Lithuania"
          ],
          [
           "Europe",
           "Luxembourg"
          ],
          [
           "Africa",
           "Malawi"
          ],
          [
           "Europe",
           "Malta"
          ],
          [
           "North America",
           "Mexico"
          ],
          [
           "Asia",
           "Mongolia"
          ],
          [
           "Asia",
           "Nepal"
          ],
          [
           "Europe",
           "Netherlands"
          ],
          [
           "North America",
           "Nicaragua"
          ],
          [
           "Europe",
           "Norway"
          ],
          [
           "North America",
           "Panama"
          ],
          [
           "South America",
           "Paraguay"
          ],
          [
           "South America",
           "Peru"
          ],
          [
           "Europe",
           "Poland"
          ],
          [
           "Europe",
           "Portugal"
          ],
          [
           "Europe",
           "Romania"
          ],
          [
           "Africa",
           "Senegal"
          ],
          [
           "Europe",
           "Serbia"
          ],
          [
           "Europe",
           "Slovenia"
          ],
          [
           "Europe",
           "Spain"
          ],
          [
           "Africa",
           "Sudan"
          ],
          [
           "Europe",
           "Sweden"
          ],
          [
           "Europe",
           "Switzerland"
          ],
          [
           "Africa",
           "Togo"
          ],
          [
           "Asia",
           "Turkey"
          ],
          [
           "South America",
           "Uruguay"
          ],
          [
           "Africa",
           "Zimbabwe"
          ]
         ],
         "hovertemplate": "Year=2014<br>Sex=_T<br>Primary_ed_completion_percent=%{x}<br>Maternal_Death_Rate=%{y}<br>GDP_Per_Capita=%{marker.size}<br>Continent=%{customdata[0]}<br>Country=%{customdata[1]}<extra></extra>",
         "legendgroup": "2014",
         "marker": {
          "color": "#00cc96",
          "size": [
           53025.8476078992,
           3511.58228216065,
           48903.340741753,
           2975.85391436098,
           7730.63840148344,
           15744.3471113816,
           18807.2287791934,
           3364.27872943395,
           3362.664067483,
           1866.26648837908,
           11917.3384959856,
           13899.3688286349,
           18168.715241725,
           23858.4103988913,
           33064.5801699164,
           52214.5377534374,
           14499.6361158376,
           12078.4698435004,
           10353.6684072177,
           7990.44461457603,
           30700.3369259447,
           8192.53543463127,
           45013.1004551426,
           50932.7567783141,
           4675.75856612863,
           28615.8377329141,
           7939.09038738555,
           1740.89056524607,
           11244.3126692508,
           5177.40941597809,
           26509.0999901907,
           49652.1495003908,
           57404.7044797085,
           40025.9327304527,
           3709.15907577307,
           4722.08600254189,
           25468.0576903373,
           2676.9749855703,
           29951.2218569938,
           108760.916030081,
           1027.20849641169,
           37246.5521006602,
           18949.4798369704,
           10980.3351999295,
           2829.23339391927,
           52353.6669901678,
           5443.34174009736,
           62589.3735479552,
           27357.6230717227,
           11612.3899106317,
           11877.084063348,
           26734.6647579303,
           30541.7928846043,
           23158.0486774376,
           2868.31769823851,
           15274.9422811457,
           33204.5886933161,
           36083.4760986599,
           4093.14257664224,
           49416.289877049,
           65813.9525086408,
           1404.13293846139,
           24960.320597338,
           20582.1689530456,
           2955.24028731034
          ],
          "sizemode": "area",
          "sizeref": 271.90229007520253,
          "symbol": "circle"
         },
         "mode": "markers",
         "name": "2014",
         "orientation": "v",
         "showlegend": false,
         "type": "scatter",
         "x": [
          null,
          80.01213,
          null,
          54.11723,
          93.18,
          96.72,
          null,
          72.28277,
          73.64866,
          27.32146,
          97.21,
          91.8,
          94.51,
          null,
          null,
          null,
          91.51656,
          97.64,
          90.86884,
          88.41,
          null,
          70.2268,
          null,
          null,
          65.83102,
          null,
          72.4,
          29.14938,
          97.5321,
          82.53,
          null,
          null,
          null,
          null,
          84.14092,
          99.26881,
          null,
          64.90466,
          null,
          null,
          48.07,
          null,
          96.44,
          97.89996,
          76.22546,
          null,
          74.44,
          null,
          94.13,
          89.62,
          95.73,
          null,
          null,
          null,
          50.17,
          99.3068,
          null,
          null,
          65.42644,
          null,
          null,
          61.28725,
          98.49266,
          97.3,
          86.77
         ],
         "xaxis": "x3",
         "y": [
          5,
          214,
          6,
          432,
          175,
          62,
          11,
          189,
          564,
          1170,
          31,
          85,
          29,
          8,
          8,
          4,
          94,
          65,
          39,
          49,
          11,
          434,
          3,
          5,
          325,
          3,
          107,
          711,
          174,
          68,
          12,
          5,
          6,
          2,
          358,
          69,
          24,
          579,
          9,
          6,
          381,
          6,
          38,
          49,
          231,
          6,
          103,
          3,
          60,
          91,
          96,
          2,
          8,
          21,
          364,
          12,
          7,
          4,
          333,
          5,
          5,
          401,
          19,
          17,
          494
         ],
         "yaxis": "y3"
        }
       ],
       "layout": {
        "annotations": [
         {
          "font": {},
          "showarrow": false,
          "text": "Sex=F",
          "x": 0.15999999999999998,
          "xanchor": "center",
          "xref": "paper",
          "y": 1,
          "yanchor": "bottom",
          "yref": "paper"
         },
         {
          "font": {},
          "showarrow": false,
          "text": "Sex=M",
          "x": 0.49999999999999994,
          "xanchor": "center",
          "xref": "paper",
          "y": 1,
          "yanchor": "bottom",
          "yref": "paper"
         },
         {
          "font": {},
          "showarrow": false,
          "text": "Sex=_T",
          "x": 0.8399999999999999,
          "xanchor": "center",
          "xref": "paper",
          "y": 1,
          "yanchor": "bottom",
          "yref": "paper"
         }
        ],
        "height": 400,
        "legend": {
         "itemsizing": "constant",
         "title": {
          "text": "Year"
         },
         "tracegroupgap": 0
        },
        "margin": {
         "t": 60
        },
        "template": {
         "data": {
          "bar": [
           {
            "error_x": {
             "color": "#2a3f5f"
            },
            "error_y": {
             "color": "#2a3f5f"
            },
            "marker": {
             "line": {
              "color": "#E5ECF6",
              "width": 0.5
             },
             "pattern": {
              "fillmode": "overlay",
              "size": 10,
              "solidity": 0.2
             }
            },
            "type": "bar"
           }
          ],
          "barpolar": [
           {
            "marker": {
             "line": {
              "color": "#E5ECF6",
              "width": 0.5
             },
             "pattern": {
              "fillmode": "overlay",
              "size": 10,
              "solidity": 0.2
             }
            },
            "type": "barpolar"
           }
          ],
          "carpet": [
           {
            "aaxis": {
             "endlinecolor": "#2a3f5f",
             "gridcolor": "white",
             "linecolor": "white",
             "minorgridcolor": "white",
             "startlinecolor": "#2a3f5f"
            },
            "baxis": {
             "endlinecolor": "#2a3f5f",
             "gridcolor": "white",
             "linecolor": "white",
             "minorgridcolor": "white",
             "startlinecolor": "#2a3f5f"
            },
            "type": "carpet"
           }
          ],
          "choropleth": [
           {
            "colorbar": {
             "outlinewidth": 0,
             "ticks": ""
            },
            "type": "choropleth"
           }
          ],
          "contour": [
           {
            "colorbar": {
             "outlinewidth": 0,
             "ticks": ""
            },
            "colorscale": [
             [
              0,
              "#0d0887"
             ],
             [
              0.1111111111111111,
              "#46039f"
             ],
             [
              0.2222222222222222,
              "#7201a8"
             ],
             [
              0.3333333333333333,
              "#9c179e"
             ],
             [
              0.4444444444444444,
              "#bd3786"
             ],
             [
              0.5555555555555556,
              "#d8576b"
             ],
             [
              0.6666666666666666,
              "#ed7953"
             ],
             [
              0.7777777777777778,
              "#fb9f3a"
             ],
             [
              0.8888888888888888,
              "#fdca26"
             ],
             [
              1,
              "#f0f921"
             ]
            ],
            "type": "contour"
           }
          ],
          "contourcarpet": [
           {
            "colorbar": {
             "outlinewidth": 0,
             "ticks": ""
            },
            "type": "contourcarpet"
           }
          ],
          "heatmap": [
           {
            "colorbar": {
             "outlinewidth": 0,
             "ticks": ""
            },
            "colorscale": [
             [
              0,
              "#0d0887"
             ],
             [
              0.1111111111111111,
              "#46039f"
             ],
             [
              0.2222222222222222,
              "#7201a8"
             ],
             [
              0.3333333333333333,
              "#9c179e"
             ],
             [
              0.4444444444444444,
              "#bd3786"
             ],
             [
              0.5555555555555556,
              "#d8576b"
             ],
             [
              0.6666666666666666,
              "#ed7953"
             ],
             [
              0.7777777777777778,
              "#fb9f3a"
             ],
             [
              0.8888888888888888,
              "#fdca26"
             ],
             [
              1,
              "#f0f921"
             ]
            ],
            "type": "heatmap"
           }
          ],
          "heatmapgl": [
           {
            "colorbar": {
             "outlinewidth": 0,
             "ticks": ""
            },
            "colorscale": [
             [
              0,
              "#0d0887"
             ],
             [
              0.1111111111111111,
              "#46039f"
             ],
             [
              0.2222222222222222,
              "#7201a8"
             ],
             [
              0.3333333333333333,
              "#9c179e"
             ],
             [
              0.4444444444444444,
              "#bd3786"
             ],
             [
              0.5555555555555556,
              "#d8576b"
             ],
             [
              0.6666666666666666,
              "#ed7953"
             ],
             [
              0.7777777777777778,
              "#fb9f3a"
             ],
             [
              0.8888888888888888,
              "#fdca26"
             ],
             [
              1,
              "#f0f921"
             ]
            ],
            "type": "heatmapgl"
           }
          ],
          "histogram": [
           {
            "marker": {
             "pattern": {
              "fillmode": "overlay",
              "size": 10,
              "solidity": 0.2
             }
            },
            "type": "histogram"
           }
          ],
          "histogram2d": [
           {
            "colorbar": {
             "outlinewidth": 0,
             "ticks": ""
            },
            "colorscale": [
             [
              0,
              "#0d0887"
             ],
             [
              0.1111111111111111,
              "#46039f"
             ],
             [
              0.2222222222222222,
              "#7201a8"
             ],
             [
              0.3333333333333333,
              "#9c179e"
             ],
             [
              0.4444444444444444,
              "#bd3786"
             ],
             [
              0.5555555555555556,
              "#d8576b"
             ],
             [
              0.6666666666666666,
              "#ed7953"
             ],
             [
              0.7777777777777778,
              "#fb9f3a"
             ],
             [
              0.8888888888888888,
              "#fdca26"
             ],
             [
              1,
              "#f0f921"
             ]
            ],
            "type": "histogram2d"
           }
          ],
          "histogram2dcontour": [
           {
            "colorbar": {
             "outlinewidth": 0,
             "ticks": ""
            },
            "colorscale": [
             [
              0,
              "#0d0887"
             ],
             [
              0.1111111111111111,
              "#46039f"
             ],
             [
              0.2222222222222222,
              "#7201a8"
             ],
             [
              0.3333333333333333,
              "#9c179e"
             ],
             [
              0.4444444444444444,
              "#bd3786"
             ],
             [
              0.5555555555555556,
              "#d8576b"
             ],
             [
              0.6666666666666666,
              "#ed7953"
             ],
             [
              0.7777777777777778,
              "#fb9f3a"
             ],
             [
              0.8888888888888888,
              "#fdca26"
             ],
             [
              1,
              "#f0f921"
             ]
            ],
            "type": "histogram2dcontour"
           }
          ],
          "mesh3d": [
           {
            "colorbar": {
             "outlinewidth": 0,
             "ticks": ""
            },
            "type": "mesh3d"
           }
          ],
          "parcoords": [
           {
            "line": {
             "colorbar": {
              "outlinewidth": 0,
              "ticks": ""
             }
            },
            "type": "parcoords"
           }
          ],
          "pie": [
           {
            "automargin": true,
            "type": "pie"
           }
          ],
          "scatter": [
           {
            "marker": {
             "colorbar": {
              "outlinewidth": 0,
              "ticks": ""
             }
            },
            "type": "scatter"
           }
          ],
          "scatter3d": [
           {
            "line": {
             "colorbar": {
              "outlinewidth": 0,
              "ticks": ""
             }
            },
            "marker": {
             "colorbar": {
              "outlinewidth": 0,
              "ticks": ""
             }
            },
            "type": "scatter3d"
           }
          ],
          "scattercarpet": [
           {
            "marker": {
             "colorbar": {
              "outlinewidth": 0,
              "ticks": ""
             }
            },
            "type": "scattercarpet"
           }
          ],
          "scattergeo": [
           {
            "marker": {
             "colorbar": {
              "outlinewidth": 0,
              "ticks": ""
             }
            },
            "type": "scattergeo"
           }
          ],
          "scattergl": [
           {
            "marker": {
             "colorbar": {
              "outlinewidth": 0,
              "ticks": ""
             }
            },
            "type": "scattergl"
           }
          ],
          "scattermapbox": [
           {
            "marker": {
             "colorbar": {
              "outlinewidth": 0,
              "ticks": ""
             }
            },
            "type": "scattermapbox"
           }
          ],
          "scatterpolar": [
           {
            "marker": {
             "colorbar": {
              "outlinewidth": 0,
              "ticks": ""
             }
            },
            "type": "scatterpolar"
           }
          ],
          "scatterpolargl": [
           {
            "marker": {
             "colorbar": {
              "outlinewidth": 0,
              "ticks": ""
             }
            },
            "type": "scatterpolargl"
           }
          ],
          "scatterternary": [
           {
            "marker": {
             "colorbar": {
              "outlinewidth": 0,
              "ticks": ""
             }
            },
            "type": "scatterternary"
           }
          ],
          "surface": [
           {
            "colorbar": {
             "outlinewidth": 0,
             "ticks": ""
            },
            "colorscale": [
             [
              0,
              "#0d0887"
             ],
             [
              0.1111111111111111,
              "#46039f"
             ],
             [
              0.2222222222222222,
              "#7201a8"
             ],
             [
              0.3333333333333333,
              "#9c179e"
             ],
             [
              0.4444444444444444,
              "#bd3786"
             ],
             [
              0.5555555555555556,
              "#d8576b"
             ],
             [
              0.6666666666666666,
              "#ed7953"
             ],
             [
              0.7777777777777778,
              "#fb9f3a"
             ],
             [
              0.8888888888888888,
              "#fdca26"
             ],
             [
              1,
              "#f0f921"
             ]
            ],
            "type": "surface"
           }
          ],
          "table": [
           {
            "cells": {
             "fill": {
              "color": "#EBF0F8"
             },
             "line": {
              "color": "white"
             }
            },
            "header": {
             "fill": {
              "color": "#C8D4E3"
             },
             "line": {
              "color": "white"
             }
            },
            "type": "table"
           }
          ]
         },
         "layout": {
          "annotationdefaults": {
           "arrowcolor": "#2a3f5f",
           "arrowhead": 0,
           "arrowwidth": 1
          },
          "autotypenumbers": "strict",
          "coloraxis": {
           "colorbar": {
            "outlinewidth": 0,
            "ticks": ""
           }
          },
          "colorscale": {
           "diverging": [
            [
             0,
             "#8e0152"
            ],
            [
             0.1,
             "#c51b7d"
            ],
            [
             0.2,
             "#de77ae"
            ],
            [
             0.3,
             "#f1b6da"
            ],
            [
             0.4,
             "#fde0ef"
            ],
            [
             0.5,
             "#f7f7f7"
            ],
            [
             0.6,
             "#e6f5d0"
            ],
            [
             0.7,
             "#b8e186"
            ],
            [
             0.8,
             "#7fbc41"
            ],
            [
             0.9,
             "#4d9221"
            ],
            [
             1,
             "#276419"
            ]
           ],
           "sequential": [
            [
             0,
             "#0d0887"
            ],
            [
             0.1111111111111111,
             "#46039f"
            ],
            [
             0.2222222222222222,
             "#7201a8"
            ],
            [
             0.3333333333333333,
             "#9c179e"
            ],
            [
             0.4444444444444444,
             "#bd3786"
            ],
            [
             0.5555555555555556,
             "#d8576b"
            ],
            [
             0.6666666666666666,
             "#ed7953"
            ],
            [
             0.7777777777777778,
             "#fb9f3a"
            ],
            [
             0.8888888888888888,
             "#fdca26"
            ],
            [
             1,
             "#f0f921"
            ]
           ],
           "sequentialminus": [
            [
             0,
             "#0d0887"
            ],
            [
             0.1111111111111111,
             "#46039f"
            ],
            [
             0.2222222222222222,
             "#7201a8"
            ],
            [
             0.3333333333333333,
             "#9c179e"
            ],
            [
             0.4444444444444444,
             "#bd3786"
            ],
            [
             0.5555555555555556,
             "#d8576b"
            ],
            [
             0.6666666666666666,
             "#ed7953"
            ],
            [
             0.7777777777777778,
             "#fb9f3a"
            ],
            [
             0.8888888888888888,
             "#fdca26"
            ],
            [
             1,
             "#f0f921"
            ]
           ]
          },
          "colorway": [
           "#636efa",
           "#EF553B",
           "#00cc96",
           "#ab63fa",
           "#FFA15A",
           "#19d3f3",
           "#FF6692",
           "#B6E880",
           "#FF97FF",
           "#FECB52"
          ],
          "font": {
           "color": "#2a3f5f"
          },
          "geo": {
           "bgcolor": "white",
           "lakecolor": "white",
           "landcolor": "#E5ECF6",
           "showlakes": true,
           "showland": true,
           "subunitcolor": "white"
          },
          "hoverlabel": {
           "align": "left"
          },
          "hovermode": "closest",
          "mapbox": {
           "style": "light"
          },
          "paper_bgcolor": "white",
          "plot_bgcolor": "#E5ECF6",
          "polar": {
           "angularaxis": {
            "gridcolor": "white",
            "linecolor": "white",
            "ticks": ""
           },
           "bgcolor": "#E5ECF6",
           "radialaxis": {
            "gridcolor": "white",
            "linecolor": "white",
            "ticks": ""
           }
          },
          "scene": {
           "xaxis": {
            "backgroundcolor": "#E5ECF6",
            "gridcolor": "white",
            "gridwidth": 2,
            "linecolor": "white",
            "showbackground": true,
            "ticks": "",
            "zerolinecolor": "white"
           },
           "yaxis": {
            "backgroundcolor": "#E5ECF6",
            "gridcolor": "white",
            "gridwidth": 2,
            "linecolor": "white",
            "showbackground": true,
            "ticks": "",
            "zerolinecolor": "white"
           },
           "zaxis": {
            "backgroundcolor": "#E5ECF6",
            "gridcolor": "white",
            "gridwidth": 2,
            "linecolor": "white",
            "showbackground": true,
            "ticks": "",
            "zerolinecolor": "white"
           }
          },
          "shapedefaults": {
           "line": {
            "color": "#2a3f5f"
           }
          },
          "ternary": {
           "aaxis": {
            "gridcolor": "white",
            "linecolor": "white",
            "ticks": ""
           },
           "baxis": {
            "gridcolor": "white",
            "linecolor": "white",
            "ticks": ""
           },
           "bgcolor": "#E5ECF6",
           "caxis": {
            "gridcolor": "white",
            "linecolor": "white",
            "ticks": ""
           }
          },
          "title": {
           "x": 0.05
          },
          "xaxis": {
           "automargin": true,
           "gridcolor": "white",
           "linecolor": "white",
           "ticks": "",
           "title": {
            "standoff": 15
           },
           "zerolinecolor": "white",
           "zerolinewidth": 2
          },
          "yaxis": {
           "automargin": true,
           "gridcolor": "white",
           "linecolor": "white",
           "ticks": "",
           "title": {
            "standoff": 15
           },
           "zerolinecolor": "white",
           "zerolinewidth": 2
          }
         }
        },
        "xaxis": {
         "anchor": "y",
         "domain": [
          0,
          0.31999999999999995
         ],
         "title": {
          "text": "Primary_ed_completion_percent"
         }
        },
        "xaxis2": {
         "anchor": "y2",
         "domain": [
          0.33999999999999997,
          0.6599999999999999
         ],
         "matches": "x",
         "title": {
          "text": "Primary_ed_completion_percent"
         }
        },
        "xaxis3": {
         "anchor": "y3",
         "domain": [
          0.6799999999999999,
          0.9999999999999999
         ],
         "matches": "x",
         "title": {
          "text": "Primary_ed_completion_percent"
         }
        },
        "yaxis": {
         "anchor": "x",
         "domain": [
          0,
          1
         ],
         "title": {
          "text": "Maternal_Death_Rate"
         }
        },
        "yaxis2": {
         "anchor": "x2",
         "domain": [
          0,
          1
         ],
         "matches": "y",
         "showticklabels": false
        },
        "yaxis3": {
         "anchor": "x3",
         "domain": [
          0,
          1
         ],
         "matches": "y",
         "showticklabels": false
        }
       }
      },
      "text/html": [
       "<div>                            <div id=\"52de3759-27fd-45d1-8b05-b4d1d8c97b8f\" class=\"plotly-graph-div\" style=\"height:400px; width:100%;\"></div>            <script type=\"text/javascript\">                require([\"plotly\"], function(Plotly) {                    window.PLOTLYENV=window.PLOTLYENV || {};                                    if (document.getElementById(\"52de3759-27fd-45d1-8b05-b4d1d8c97b8f\")) {                    Plotly.newPlot(                        \"52de3759-27fd-45d1-8b05-b4d1d8c97b8f\",                        [{\"customdata\":[[\"Europe\",\"Albania\"],[\"Europe\",\"Austria\"],[\"Europe\",\"Belarus\"],[\"Europe\",\"Belgium\"],[\"South America\",\"Bolivia\"],[\"South America\",\"Brazil\"],[\"Africa\",\"Burundi\"],[\"Asia\",\"Cambodia\"],[\"Africa\",\"Cameroon\"],[\"South America\",\"Colombia\"],[\"Africa\",\"Congo\"],[\"North America\",\"Costa Rica\"],[\"Europe\",\"Cyprus\"],[\"Europe\",\"Denmark\"],[\"North America\",\"Dominican Republic\"],[\"South America\",\"Ecuador\"],[\"Africa\",\"Egypt\"],[\"North America\",\"El Salvador\"],[\"Europe\",\"Estonia\"],[\"Africa\",\"Ethiopia\"],[\"Europe\",\"Finland\"],[\"Europe\",\"Georgia\"],[\"Europe\",\"Germany\"],[\"Europe\",\"Greece\"],[\"Africa\",\"Guinea\"],[\"North America\",\"Haiti\"],[\"North America\",\"Honduras\"],[\"Europe\",\"Hungary\"],[\"Europe\",\"Iceland\"],[\"Asia\",\"India\"],[\"Europe\",\"Ireland\"],[\"Europe\",\"Italy\"],[\"North America\",\"Jamaica\"],[\"Europe\",\"Latvia\"],[\"Africa\",\"Lesotho\"],[\"Europe\",\"Lithuania\"],[\"Europe\",\"Luxembourg\"],[\"Europe\",\"Montenegro\"],[\"Europe\",\"Netherlands\"],[\"North America\",\"Nicaragua\"],[\"Europe\",\"North Macedonia\"],[\"Europe\",\"Norway\"],[\"North America\",\"Panama\"],[\"South America\",\"Paraguay\"],[\"South America\",\"Peru\"],[\"Europe\",\"Poland\"],[\"Europe\",\"Portugal\"],[\"Africa\",\"Rwanda\"],[\"Africa\",\"Senegal\"],[\"Europe\",\"Serbia\"],[\"Africa\",\"Sierra Leone\"],[\"Europe\",\"Slovenia\"],[\"Europe\",\"Spain\"],[\"Europe\",\"Sweden\"],[\"Asia\",\"Thailand\"],[\"Europe\",\"Ukraine\"],[\"Africa\",\"Zimbabwe\"]],\"hovertemplate\":\"Year=2005<br>Sex=F<br>Primary_ed_completion_percent=%{x}<br>Maternal_Death_Rate=%{y}<br>GDP_Per_Capita=%{marker.size}<br>Continent=%{customdata[0]}<br>Country=%{customdata[1]}<extra></extra>\",\"legendgroup\":\"2005\",\"marker\":{\"color\":\"#636efa\",\"size\":[8066.55744546876,49473.7489879843,11940.1865961058,46489.2691305788,5749.52853108943,12561.8201732326,798.704284723934,2120.55187709438,2982.0247447709,10083.3143613973,4677.8780452455,13925.0788185196,37653.765432119,51647.6716754489,10291.3088797642,9503.68919042493,8397.03322231274,6870.62247722546,26168.5856675526,862.355330588949,44823.0803310483,7315.19848048057,44024.686883696,35124.8475404881,1794.4145141069,2629.11154739696,4546.23880650616,24433.5549555262,47249.4011064694,3239.33303556796,56862.7329142146,44402.1636371344,9916.91951109908,20240.2291018432,1892.43574195623,21120.4502237547,104357.564987409,14093.6805302268,49625.4195662187,4320.77512283701,11121.5902024674,62067.9707102713,16304.5988099709,8568.54754975229,7519.02772018677,18997.9392297003,31175.8545606093,1148.44702200812,2650.83530341655,12317.1837218579,1244.90251686215,31233.0871448787,38084.5914726208,45585.3966001731,12316.627183929,10957.5582756783,2328.17612903911],\"sizemode\":\"area\",\"sizeref\":271.90229007520253,\"symbol\":\"circle\"},\"mode\":\"markers\",\"name\":\"2005\",\"orientation\":\"v\",\"showlegend\":true,\"x\":[98.81,null,100.0,null,88.87,95.22,11.65,58.90414,68.2568,87.61098,63.85842,92.39,null,null,85.68,93.75,81.30888,79.2,null,23.29575,null,97.87,null,null,23.7841,44.88008,77.11,null,null,75.1,null,null,99.39,null,63.58078,null,null,98.85,null,67.93,97.16,null,93.29,88.05,88.89,null,null,10.93098,22.23406,98.81,29.06,null,null,null,98.04,98.8,88.63229],\"xaxis\":\"x\",\"y\":[22.0,6.0,11.0,7.0,271.0,71.0,814.0,351.0,692.0,83.0,677.0,33.0,12.0,6.0,83.0,94.0,52.0,62.0,18.0,865.0,5.0,39.0,6.0,3.0,920.0,459.0,77.0,15.0,5.0,286.0,7.0,3.0,80.0,30.0,679.0,14.0,9.0,9.0,11.0,131.0,10.0,5.0,88.0,137.0,118.0,4.0,9.0,643.0,519.0,12.0,1760.0,10.0,5.0,5.0,43.0,33.0,685.0],\"yaxis\":\"y\",\"type\":\"scatter\"},{\"customdata\":[[\"Europe\",\"Albania\"],[\"Europe\",\"Austria\"],[\"Europe\",\"Belarus\"],[\"Europe\",\"Belgium\"],[\"South America\",\"Bolivia\"],[\"South America\",\"Brazil\"],[\"Africa\",\"Burundi\"],[\"Asia\",\"Cambodia\"],[\"Africa\",\"Cameroon\"],[\"South America\",\"Colombia\"],[\"Africa\",\"Congo\"],[\"North America\",\"Costa Rica\"],[\"Europe\",\"Cyprus\"],[\"Europe\",\"Denmark\"],[\"North America\",\"Dominican Republic\"],[\"South America\",\"Ecuador\"],[\"Africa\",\"Egypt\"],[\"North America\",\"El Salvador\"],[\"Europe\",\"Estonia\"],[\"Africa\",\"Ethiopia\"],[\"Europe\",\"Finland\"],[\"Europe\",\"Georgia\"],[\"Europe\",\"Germany\"],[\"Europe\",\"Greece\"],[\"Africa\",\"Guinea\"],[\"North America\",\"Haiti\"],[\"North America\",\"Honduras\"],[\"Europe\",\"Hungary\"],[\"Europe\",\"Iceland\"],[\"Asia\",\"India\"],[\"Europe\",\"Ireland\"],[\"Europe\",\"Italy\"],[\"North America\",\"Jamaica\"],[\"Europe\",\"Latvia\"],[\"Africa\",\"Lesotho\"],[\"Europe\",\"Lithuania\"],[\"Europe\",\"Luxembourg\"],[\"Europe\",\"Montenegro\"],[\"Europe\",\"Netherlands\"],[\"North America\",\"Nicaragua\"],[\"Europe\",\"North Macedonia\"],[\"Europe\",\"Norway\"],[\"North America\",\"Panama\"],[\"South America\",\"Paraguay\"],[\"South America\",\"Peru\"],[\"Europe\",\"Poland\"],[\"Europe\",\"Portugal\"],[\"Africa\",\"Rwanda\"],[\"Africa\",\"Senegal\"],[\"Europe\",\"Serbia\"],[\"Africa\",\"Sierra Leone\"],[\"Europe\",\"Slovenia\"],[\"Europe\",\"Spain\"],[\"Europe\",\"Sweden\"],[\"Asia\",\"Thailand\"],[\"Europe\",\"Ukraine\"],[\"Africa\",\"Zimbabwe\"]],\"hovertemplate\":\"Year=2005<br>Sex=M<br>Primary_ed_completion_percent=%{x}<br>Maternal_Death_Rate=%{y}<br>GDP_Per_Capita=%{marker.size}<br>Continent=%{customdata[0]}<br>Country=%{customdata[1]}<extra></extra>\",\"legendgroup\":\"2005\",\"marker\":{\"color\":\"#636efa\",\"size\":[8066.55744546876,49473.7489879843,11940.1865961058,46489.2691305788,5749.52853108943,12561.8201732326,798.704284723934,2120.55187709438,2982.0247447709,10083.3143613973,4677.8780452455,13925.0788185196,37653.765432119,51647.6716754489,10291.3088797642,9503.68919042493,8397.03322231274,6870.62247722546,26168.5856675526,862.355330588949,44823.0803310483,7315.19848048057,44024.686883696,35124.8475404881,1794.4145141069,2629.11154739696,4546.23880650616,24433.5549555262,47249.4011064694,3239.33303556796,56862.7329142146,44402.1636371344,9916.91951109908,20240.2291018432,1892.43574195623,21120.4502237547,104357.564987409,14093.6805302268,49625.4195662187,4320.77512283701,11121.5902024674,62067.9707102713,16304.5988099709,8568.54754975229,7519.02772018677,18997.9392297003,31175.8545606093,1148.44702200812,2650.83530341655,12317.1837218579,1244.90251686215,31233.0871448787,38084.5914726208,45585.3966001731,12316.627183929,10957.5582756783,2328.17612903911],\"sizemode\":\"area\",\"sizeref\":271.90229007520253,\"symbol\":\"circle\"},\"mode\":\"markers\",\"name\":\"2005\",\"orientation\":\"v\",\"showlegend\":false,\"x\":[99.01,null,99.66,null,89.23,91.71,14.84,58.99419,72.24709,81.82281,62.89907,88.86,null,null,77.65,90.65,86.36117,77.9,null,32.94855,null,98.65,null,null,44.3191,36.75323,68.43,null,null,77.89,null,null,98.67,null,37.0059,null,null,97.62,null,56.71,96.99,null,90.39,81.63,91.32,null,null,10.01228,27.84762,99.27,34.98,null,null,null,97.31,100.0,85.86732],\"xaxis\":\"x2\",\"y\":[22.0,6.0,11.0,7.0,271.0,71.0,814.0,351.0,692.0,83.0,677.0,33.0,12.0,6.0,83.0,94.0,52.0,62.0,18.0,865.0,5.0,39.0,6.0,3.0,920.0,459.0,77.0,15.0,5.0,286.0,7.0,3.0,80.0,30.0,679.0,14.0,9.0,9.0,11.0,131.0,10.0,5.0,88.0,137.0,118.0,4.0,9.0,643.0,519.0,12.0,1760.0,10.0,5.0,5.0,43.0,33.0,685.0],\"yaxis\":\"y2\",\"type\":\"scatter\"},{\"customdata\":[[\"Europe\",\"Albania\"],[\"Europe\",\"Austria\"],[\"Europe\",\"Belarus\"],[\"Europe\",\"Belgium\"],[\"South America\",\"Bolivia\"],[\"South America\",\"Brazil\"],[\"Africa\",\"Burundi\"],[\"Asia\",\"Cambodia\"],[\"Africa\",\"Cameroon\"],[\"South America\",\"Colombia\"],[\"Africa\",\"Congo\"],[\"North America\",\"Costa Rica\"],[\"Europe\",\"Cyprus\"],[\"Europe\",\"Denmark\"],[\"North America\",\"Dominican Republic\"],[\"South America\",\"Ecuador\"],[\"Africa\",\"Egypt\"],[\"North America\",\"El Salvador\"],[\"Europe\",\"Estonia\"],[\"Africa\",\"Ethiopia\"],[\"Europe\",\"Finland\"],[\"Europe\",\"Georgia\"],[\"Europe\",\"Germany\"],[\"Europe\",\"Greece\"],[\"Africa\",\"Guinea\"],[\"North America\",\"Haiti\"],[\"North America\",\"Honduras\"],[\"Europe\",\"Hungary\"],[\"Europe\",\"Iceland\"],[\"Asia\",\"India\"],[\"Europe\",\"Ireland\"],[\"Europe\",\"Italy\"],[\"North America\",\"Jamaica\"],[\"Europe\",\"Latvia\"],[\"Africa\",\"Lesotho\"],[\"Europe\",\"Lithuania\"],[\"Europe\",\"Luxembourg\"],[\"Europe\",\"Montenegro\"],[\"Europe\",\"Netherlands\"],[\"North America\",\"Nicaragua\"],[\"Europe\",\"North Macedonia\"],[\"Europe\",\"Norway\"],[\"North America\",\"Panama\"],[\"South America\",\"Paraguay\"],[\"South America\",\"Peru\"],[\"Europe\",\"Poland\"],[\"Europe\",\"Portugal\"],[\"Africa\",\"Rwanda\"],[\"Africa\",\"Senegal\"],[\"Europe\",\"Serbia\"],[\"Africa\",\"Sierra Leone\"],[\"Europe\",\"Slovenia\"],[\"Europe\",\"Spain\"],[\"Europe\",\"Sweden\"],[\"Asia\",\"Thailand\"],[\"Europe\",\"Ukraine\"],[\"Africa\",\"Zimbabwe\"]],\"hovertemplate\":\"Year=2005<br>Sex=_T<br>Primary_ed_completion_percent=%{x}<br>Maternal_Death_Rate=%{y}<br>GDP_Per_Capita=%{marker.size}<br>Continent=%{customdata[0]}<br>Country=%{customdata[1]}<extra></extra>\",\"legendgroup\":\"2005\",\"marker\":{\"color\":\"#636efa\",\"size\":[8066.55744546876,49473.7489879843,11940.1865961058,46489.2691305788,5749.52853108943,12561.8201732326,798.704284723934,2120.55187709438,2982.0247447709,10083.3143613973,4677.8780452455,13925.0788185196,37653.765432119,51647.6716754489,10291.3088797642,9503.68919042493,8397.03322231274,6870.62247722546,26168.5856675526,862.355330588949,44823.0803310483,7315.19848048057,44024.686883696,35124.8475404881,1794.4145141069,2629.11154739696,4546.23880650616,24433.5549555262,47249.4011064694,3239.33303556796,56862.7329142146,44402.1636371344,9916.91951109908,20240.2291018432,1892.43574195623,21120.4502237547,104357.564987409,14093.6805302268,49625.4195662187,4320.77512283701,11121.5902024674,62067.9707102713,16304.5988099709,8568.54754975229,7519.02772018677,18997.9392297003,31175.8545606093,1148.44702200812,2650.83530341655,12317.1837218579,1244.90251686215,31233.0871448787,38084.5914726208,45585.3966001731,12316.627183929,10957.5582756783,2328.17612903911],\"sizemode\":\"area\",\"sizeref\":271.90229007520253,\"symbol\":\"circle\"},\"mode\":\"markers\",\"name\":\"2005\",\"orientation\":\"v\",\"showlegend\":false,\"x\":[98.91,null,99.83,null,89.05,93.44,13.17,58.95035,70.26693,84.71531,63.39317,90.63,null,null,81.56,92.13,83.85818,78.54,null,28.21768,null,98.27,null,null,33.52226,40.90987,72.8,null,null,76.53,null,null,98.99,null,49.87584,null,null,98.25,null,62.43,97.06,null,91.79,84.73,90.11,null,null,10.48374,24.8962,99.04,32.69,null,null,null,97.67,99.44,87.26836],\"xaxis\":\"x3\",\"y\":[22.0,6.0,11.0,7.0,271.0,71.0,814.0,351.0,692.0,83.0,677.0,33.0,12.0,6.0,83.0,94.0,52.0,62.0,18.0,865.0,5.0,39.0,6.0,3.0,920.0,459.0,77.0,15.0,5.0,286.0,7.0,3.0,80.0,30.0,679.0,14.0,9.0,9.0,11.0,131.0,10.0,5.0,88.0,137.0,118.0,4.0,9.0,643.0,519.0,12.0,1760.0,10.0,5.0,5.0,43.0,33.0,685.0],\"yaxis\":\"y3\",\"type\":\"scatter\"},{\"customdata\":[[\"South America\",\"Argentina\"],[\"Oceania\",\"Australia\"],[\"Asia\",\"Bhutan\"],[\"Africa\",\"Burkina Faso\"],[\"Africa\",\"Burundi\"],[\"Asia\",\"Cambodia\"],[\"North America\",\"Canada\"],[\"Africa\",\"Chad\"],[\"Asia\",\"China\"],[\"South America\",\"Colombia\"],[\"North America\",\"Costa Rica\"],[\"Africa\",\"Dem. Rep. Congo\"],[\"North America\",\"Dominican Republic\"],[\"South America\",\"Ecuador\"],[\"North America\",\"El Salvador\"],[\"Africa\",\"Eswatini\"],[\"Africa\",\"Gambia\"],[\"Africa\",\"Ghana\"],[\"North America\",\"Honduras\"],[\"Africa\",\"Malawi\"],[\"Africa\",\"Mali\"],[\"North America\",\"Mexico\"],[\"Asia\",\"Mongolia\"],[\"Africa\",\"Nigeria\"],[\"North America\",\"Panama\"],[\"South America\",\"Paraguay\"],[\"South America\",\"Peru\"],[\"Asia\",\"Philippines\"],[\"North America\",\"Puerto Rico\"],[\"Africa\",\"Rwanda\"],[\"Africa\",\"Sierra Leone\"],[\"Africa\",\"Sudan\"],[\"South America\",\"Suriname\"],[\"Africa\",\"Togo\"],[\"South America\",\"Uruguay\"],[\"Africa\",\"Zambia\"],[\"Africa\",\"Zimbabwe\"]],\"hovertemplate\":\"Year=2010<br>Sex=F<br>Primary_ed_completion_percent=%{x}<br>Maternal_Death_Rate=%{y}<br>GDP_Per_Capita=%{marker.size}<br>Continent=%{customdata[0]}<br>Country=%{customdata[1]}<extra></extra>\",\"legendgroup\":\"2010\",\"marker\":{\"color\":\"#EF553B\",\"size\":[23521.2701763288,45131.434148345,8190.56427451825,1716.35766288052,846.169526927269,2716.69840884516,44962.8839612883,1732.69129415445,8884.58803122452,11823.3879357365,16448.2874784145,865.684026812839,12782.4518985839,10340.9682305541,7328.71321626195,7459.25599579237,2346.72440487282,3732.38206331236,4866.97217562037,968.779611645394,2082.96179622555,17848.3249422511,7479.79740248469,4932.33498667095,21347.3327494385,10405.2309409429,10066.4696472131,5918.37348075447,32960.6911054053,1507.16501035777,1413.56417680838,3217.76676555225,16953.8034242653,1224.97842819758,17712.8969892031,3125.52930813716,2273.20007326702],\"sizemode\":\"area\",\"sizeref\":271.90229007520253,\"symbol\":\"circle\"},\"mode\":\"markers\",\"name\":\"2010\",\"orientation\":\"v\",\"showlegend\":true,\"x\":[93.81141,null,70.03057,29.51919,38.41388,72.16656,null,23.18,97.09,93.27485,93.42,42.67512,91.33,96.56,84.25,73.75092,61.12356,65.26145,83.93,58.4648,29.39,96.72,97.7,71.23172,93.12082,90.05,93.6,90.61983,99.04262,40.81238,58.42,66.47,83.38417,53.48973,97.09,66.77598,90.63749],\"xaxis\":\"x\",\"y\":[51.0,5.0,247.0,385.0,665.0,248.0,11.0,1240.0,36.0,85.0,32.0,542.0,96.0,78.0,54.0,450.0,661.0,339.0,74.0,444.0,660.0,46.0,66.0,978.0,79.0,108.0,104.0,144.0,21.0,373.0,1360.0,408.0,148.0,440.0,17.0,305.0,598.0],\"yaxis\":\"y\",\"type\":\"scatter\"},{\"customdata\":[[\"South America\",\"Argentina\"],[\"Oceania\",\"Australia\"],[\"Asia\",\"Bhutan\"],[\"Africa\",\"Burkina Faso\"],[\"Africa\",\"Burundi\"],[\"Asia\",\"Cambodia\"],[\"North America\",\"Canada\"],[\"Africa\",\"Chad\"],[\"Asia\",\"China\"],[\"South America\",\"Colombia\"],[\"North America\",\"Costa Rica\"],[\"Africa\",\"Dem. Rep. Congo\"],[\"North America\",\"Dominican Republic\"],[\"South America\",\"Ecuador\"],[\"North America\",\"El Salvador\"],[\"Africa\",\"Eswatini\"],[\"Africa\",\"Gambia\"],[\"Africa\",\"Ghana\"],[\"North America\",\"Honduras\"],[\"Africa\",\"Malawi\"],[\"Africa\",\"Mali\"],[\"North America\",\"Mexico\"],[\"Asia\",\"Mongolia\"],[\"Africa\",\"Nigeria\"],[\"North America\",\"Panama\"],[\"South America\",\"Paraguay\"],[\"South America\",\"Peru\"],[\"Asia\",\"Philippines\"],[\"North America\",\"Puerto Rico\"],[\"Africa\",\"Rwanda\"],[\"Africa\",\"Sierra Leone\"],[\"Africa\",\"Sudan\"],[\"South America\",\"Suriname\"],[\"Africa\",\"Togo\"],[\"South America\",\"Uruguay\"],[\"Africa\",\"Zambia\"],[\"Africa\",\"Zimbabwe\"]],\"hovertemplate\":\"Year=2010<br>Sex=M<br>Primary_ed_completion_percent=%{x}<br>Maternal_Death_Rate=%{y}<br>GDP_Per_Capita=%{marker.size}<br>Continent=%{customdata[0]}<br>Country=%{customdata[1]}<extra></extra>\",\"legendgroup\":\"2010\",\"marker\":{\"color\":\"#EF553B\",\"size\":[23521.2701763288,45131.434148345,8190.56427451825,1716.35766288052,846.169526927269,2716.69840884516,44962.8839612883,1732.69129415445,8884.58803122452,11823.3879357365,16448.2874784145,865.684026812839,12782.4518985839,10340.9682305541,7328.71321626195,7459.25599579237,2346.72440487282,3732.38206331236,4866.97217562037,968.779611645394,2082.96179622555,17848.3249422511,7479.79740248469,4932.33498667095,21347.3327494385,10405.2309409429,10066.4696472131,5918.37348075447,32960.6911054053,1507.16501035777,1413.56417680838,3217.76676555225,16953.8034242653,1224.97842819758,17712.8969892031,3125.52930813716,2273.20007326702],\"sizemode\":\"area\",\"sizeref\":271.90229007520253,\"symbol\":\"circle\"},\"mode\":\"markers\",\"name\":\"2010\",\"orientation\":\"v\",\"showlegend\":false,\"x\":[91.55851,null,65.87398,32.12549,41.44624,70.03249,null,30.88,96.35,88.03828,89.2,46.07497,80.54,94.72,80.47,58.67925,55.91554,63.04644,77.95,50.48363,47.69,94.92,95.44,71.90495,91.31926,84.41,93.27,83.08642,99.72083,38.87215,60.6,76.44,76.68099,60.76244,95.3,66.70922,85.98171],\"xaxis\":\"x2\",\"y\":[51.0,5.0,247.0,385.0,665.0,248.0,11.0,1240.0,36.0,85.0,32.0,542.0,96.0,78.0,54.0,450.0,661.0,339.0,74.0,444.0,660.0,46.0,66.0,978.0,79.0,108.0,104.0,144.0,21.0,373.0,1360.0,408.0,148.0,440.0,17.0,305.0,598.0],\"yaxis\":\"y2\",\"type\":\"scatter\"},{\"customdata\":[[\"South America\",\"Argentina\"],[\"Oceania\",\"Australia\"],[\"Asia\",\"Bhutan\"],[\"Africa\",\"Burkina Faso\"],[\"Africa\",\"Burundi\"],[\"Asia\",\"Cambodia\"],[\"North America\",\"Canada\"],[\"Africa\",\"Chad\"],[\"Asia\",\"China\"],[\"South America\",\"Colombia\"],[\"North America\",\"Costa Rica\"],[\"Africa\",\"Dem. Rep. Congo\"],[\"North America\",\"Dominican Republic\"],[\"South America\",\"Ecuador\"],[\"North America\",\"El Salvador\"],[\"Africa\",\"Eswatini\"],[\"Africa\",\"Gambia\"],[\"Africa\",\"Ghana\"],[\"North America\",\"Honduras\"],[\"Africa\",\"Malawi\"],[\"Africa\",\"Mali\"],[\"North America\",\"Mexico\"],[\"Asia\",\"Mongolia\"],[\"Africa\",\"Nigeria\"],[\"North America\",\"Panama\"],[\"South America\",\"Paraguay\"],[\"South America\",\"Peru\"],[\"Asia\",\"Philippines\"],[\"North America\",\"Puerto Rico\"],[\"Africa\",\"Rwanda\"],[\"Africa\",\"Sierra Leone\"],[\"Africa\",\"Sudan\"],[\"South America\",\"Suriname\"],[\"Africa\",\"Togo\"],[\"South America\",\"Uruguay\"],[\"Africa\",\"Zambia\"],[\"Africa\",\"Zimbabwe\"]],\"hovertemplate\":\"Year=2010<br>Sex=_T<br>Primary_ed_completion_percent=%{x}<br>Maternal_Death_Rate=%{y}<br>GDP_Per_Capita=%{marker.size}<br>Continent=%{customdata[0]}<br>Country=%{customdata[1]}<extra></extra>\",\"legendgroup\":\"2010\",\"marker\":{\"color\":\"#EF553B\",\"size\":[23521.2701763288,45131.434148345,8190.56427451825,1716.35766288052,846.169526927269,2716.69840884516,44962.8839612883,1732.69129415445,8884.58803122452,11823.3879357365,16448.2874784145,865.684026812839,12782.4518985839,10340.9682305541,7328.71321626195,7459.25599579237,2346.72440487282,3732.38206331236,4866.97217562037,968.779611645394,2082.96179622555,17848.3249422511,7479.79740248469,4932.33498667095,21347.3327494385,10405.2309409429,10066.4696472131,5918.37348075447,32960.6911054053,1507.16501035777,1413.56417680838,3217.76676555225,16953.8034242653,1224.97842819758,17712.8969892031,3125.52930813716,2273.20007326702],\"sizemode\":\"area\",\"sizeref\":271.90229007520253,\"symbol\":\"circle\"},\"mode\":\"markers\",\"name\":\"2010\",\"orientation\":\"v\",\"showlegend\":false,\"x\":[92.67375,null,67.86397,30.90798,39.82951,71.06843,null,27.22,96.69,90.59966,91.22,44.46562,85.62,95.59,82.34,66.18265,58.49359,64.14412,80.82,54.32379,38.05,95.8,96.52,71.57501,92.21018,87.1,93.43,86.76748,99.38302,39.85742,59.6,71.44,80.11366,57.44461,96.17,66.74353,88.25243],\"xaxis\":\"x3\",\"y\":[51.0,5.0,247.0,385.0,665.0,248.0,11.0,1240.0,36.0,85.0,32.0,542.0,96.0,78.0,54.0,450.0,661.0,339.0,74.0,444.0,660.0,46.0,66.0,978.0,79.0,108.0,104.0,144.0,21.0,373.0,1360.0,408.0,148.0,440.0,17.0,305.0,598.0],\"yaxis\":\"y3\",\"type\":\"scatter\"},{\"customdata\":[[\"Europe\",\"Austria\"],[\"Asia\",\"Bangladesh\"],[\"Europe\",\"Belgium\"],[\"Africa\",\"Benin\"],[\"South America\",\"Bolivia\"],[\"South America\",\"Brazil\"],[\"Europe\",\"Bulgaria\"],[\"Asia\",\"Cambodia\"],[\"Africa\",\"Cameroon\"],[\"Africa\",\"Chad\"],[\"Asia\",\"China\"],[\"South America\",\"Colombia\"],[\"North America\",\"Costa Rica\"],[\"Europe\",\"Croatia\"],[\"Europe\",\"Cyprus\"],[\"Europe\",\"Denmark\"],[\"North America\",\"Dominican Republic\"],[\"South America\",\"Ecuador\"],[\"Africa\",\"Egypt\"],[\"North America\",\"El Salvador\"],[\"Europe\",\"Estonia\"],[\"Africa\",\"Eswatini\"],[\"Europe\",\"Finland\"],[\"Europe\",\"Germany\"],[\"Africa\",\"Ghana\"],[\"Europe\",\"Greece\"],[\"North America\",\"Guatemala\"],[\"Africa\",\"Guinea-Bissau\"],[\"South America\",\"Guyana\"],[\"North America\",\"Honduras\"],[\"Europe\",\"Hungary\"],[\"Europe\",\"Iceland\"],[\"Europe\",\"Ireland\"],[\"Europe\",\"Italy\"],[\"Africa\",\"Kenya\"],[\"Asia\",\"Kyrgyz Republic\"],[\"Europe\",\"Latvia\"],[\"Africa\",\"Lesotho\"],[\"Europe\",\"Lithuania\"],[\"Europe\",\"Luxembourg\"],[\"Africa\",\"Malawi\"],[\"Europe\",\"Malta\"],[\"North America\",\"Mexico\"],[\"Asia\",\"Mongolia\"],[\"Asia\",\"Nepal\"],[\"Europe\",\"Netherlands\"],[\"North America\",\"Nicaragua\"],[\"Europe\",\"Norway\"],[\"North America\",\"Panama\"],[\"South America\",\"Paraguay\"],[\"South America\",\"Peru\"],[\"Europe\",\"Poland\"],[\"Europe\",\"Portugal\"],[\"Europe\",\"Romania\"],[\"Africa\",\"Senegal\"],[\"Europe\",\"Serbia\"],[\"Europe\",\"Slovenia\"],[\"Europe\",\"Spain\"],[\"Africa\",\"Sudan\"],[\"Europe\",\"Sweden\"],[\"Europe\",\"Switzerland\"],[\"Africa\",\"Togo\"],[\"Asia\",\"Turkey\"],[\"South America\",\"Uruguay\"],[\"Africa\",\"Zimbabwe\"]],\"hovertemplate\":\"Year=2014<br>Sex=F<br>Primary_ed_completion_percent=%{x}<br>Maternal_Death_Rate=%{y}<br>GDP_Per_Capita=%{marker.size}<br>Continent=%{customdata[0]}<br>Country=%{customdata[1]}<extra></extra>\",\"legendgroup\":\"2014\",\"marker\":{\"color\":\"#00cc96\",\"size\":[53025.8476078992,3511.58228216065,48903.340741753,2975.85391436098,7730.63840148344,15744.3471113816,18807.2287791934,3364.27872943395,3362.664067483,1866.26648837908,11917.3384959856,13899.3688286349,18168.715241725,23858.4103988913,33064.5801699164,52214.5377534374,14499.6361158376,12078.4698435004,10353.6684072177,7990.44461457603,30700.3369259447,8192.53543463127,45013.1004551426,50932.7567783141,4675.75856612863,28615.8377329141,7939.09038738555,1740.89056524607,11244.3126692508,5177.40941597809,26509.0999901907,49652.1495003908,57404.7044797085,40025.9327304527,3709.15907577307,4722.08600254189,25468.0576903373,2676.9749855703,29951.2218569938,108760.916030081,1027.20849641169,37246.5521006602,18949.4798369704,10980.3351999295,2829.23339391927,52353.6669901678,5443.34174009736,62589.3735479552,27357.6230717227,11612.3899106317,11877.084063348,26734.6647579303,30541.7928846043,23158.0486774376,2868.31769823851,15274.9422811457,33204.5886933161,36083.4760986599,4093.14257664224,49416.289877049,65813.9525086408,1404.13293846139,24960.320597338,20582.1689530456,2955.24028731034],\"sizemode\":\"area\",\"sizeref\":271.90229007520253,\"symbol\":\"circle\"},\"mode\":\"markers\",\"name\":\"2014\",\"orientation\":\"v\",\"showlegend\":true,\"x\":[null,84.44126,null,48.67413,92.79,97.82,null,77.21745,72.50016,23.72016,98.02,94.54,94.89,null,null,null,94.70614,98.29,91.53024,90.31,null,76.72132,null,null,67.84778,null,71.65,25.74895,99.05898,83.74,null,null,null,null,86.92873,99.46177,null,78.1806,null,null,51.43,null,97.25,98.64397,75.60509,null,84.31,null,94.86,92.21,96.31,null,null,null,49.98,99.55871,null,null,64.43813,null,null,57.59164,97.85593,98.23,90.7],\"xaxis\":\"x\",\"y\":[5.0,214.0,6.0,432.0,175.0,62.0,11.0,189.0,564.0,1170.0,31.0,85.0,29.0,8.0,8.0,4.0,94.0,65.0,39.0,49.0,11.0,434.0,3.0,5.0,325.0,3.0,107.0,711.0,174.0,68.0,12.0,5.0,6.0,2.0,358.0,69.0,24.0,579.0,9.0,6.0,381.0,6.0,38.0,49.0,231.0,6.0,103.0,3.0,60.0,91.0,96.0,2.0,8.0,21.0,364.0,12.0,7.0,4.0,333.0,5.0,5.0,401.0,19.0,17.0,494.0],\"yaxis\":\"y\",\"type\":\"scatter\"},{\"customdata\":[[\"Europe\",\"Austria\"],[\"Asia\",\"Bangladesh\"],[\"Europe\",\"Belgium\"],[\"Africa\",\"Benin\"],[\"South America\",\"Bolivia\"],[\"South America\",\"Brazil\"],[\"Europe\",\"Bulgaria\"],[\"Asia\",\"Cambodia\"],[\"Africa\",\"Cameroon\"],[\"Africa\",\"Chad\"],[\"Asia\",\"China\"],[\"South America\",\"Colombia\"],[\"North America\",\"Costa Rica\"],[\"Europe\",\"Croatia\"],[\"Europe\",\"Cyprus\"],[\"Europe\",\"Denmark\"],[\"North America\",\"Dominican Republic\"],[\"South America\",\"Ecuador\"],[\"Africa\",\"Egypt\"],[\"North America\",\"El Salvador\"],[\"Europe\",\"Estonia\"],[\"Africa\",\"Eswatini\"],[\"Europe\",\"Finland\"],[\"Europe\",\"Germany\"],[\"Africa\",\"Ghana\"],[\"Europe\",\"Greece\"],[\"North America\",\"Guatemala\"],[\"Africa\",\"Guinea-Bissau\"],[\"South America\",\"Guyana\"],[\"North America\",\"Honduras\"],[\"Europe\",\"Hungary\"],[\"Europe\",\"Iceland\"],[\"Europe\",\"Ireland\"],[\"Europe\",\"Italy\"],[\"Africa\",\"Kenya\"],[\"Asia\",\"Kyrgyz Republic\"],[\"Europe\",\"Latvia\"],[\"Africa\",\"Lesotho\"],[\"Europe\",\"Lithuania\"],[\"Europe\",\"Luxembourg\"],[\"Africa\",\"Malawi\"],[\"Europe\",\"Malta\"],[\"North America\",\"Mexico\"],[\"Asia\",\"Mongolia\"],[\"Asia\",\"Nepal\"],[\"Europe\",\"Netherlands\"],[\"North America\",\"Nicaragua\"],[\"Europe\",\"Norway\"],[\"North America\",\"Panama\"],[\"South America\",\"Paraguay\"],[\"South America\",\"Peru\"],[\"Europe\",\"Poland\"],[\"Europe\",\"Portugal\"],[\"Europe\",\"Romania\"],[\"Africa\",\"Senegal\"],[\"Europe\",\"Serbia\"],[\"Europe\",\"Slovenia\"],[\"Europe\",\"Spain\"],[\"Africa\",\"Sudan\"],[\"Europe\",\"Sweden\"],[\"Europe\",\"Switzerland\"],[\"Africa\",\"Togo\"],[\"Asia\",\"Turkey\"],[\"South America\",\"Uruguay\"],[\"Africa\",\"Zimbabwe\"]],\"hovertemplate\":\"Year=2014<br>Sex=M<br>Primary_ed_completion_percent=%{x}<br>Maternal_Death_Rate=%{y}<br>GDP_Per_Capita=%{marker.size}<br>Continent=%{customdata[0]}<br>Country=%{customdata[1]}<extra></extra>\",\"legendgroup\":\"2014\",\"marker\":{\"color\":\"#00cc96\",\"size\":[53025.8476078992,3511.58228216065,48903.340741753,2975.85391436098,7730.63840148344,15744.3471113816,18807.2287791934,3364.27872943395,3362.664067483,1866.26648837908,11917.3384959856,13899.3688286349,18168.715241725,23858.4103988913,33064.5801699164,52214.5377534374,14499.6361158376,12078.4698435004,10353.6684072177,7990.44461457603,30700.3369259447,8192.53543463127,45013.1004551426,50932.7567783141,4675.75856612863,28615.8377329141,7939.09038738555,1740.89056524607,11244.3126692508,5177.40941597809,26509.0999901907,49652.1495003908,57404.7044797085,40025.9327304527,3709.15907577307,4722.08600254189,25468.0576903373,2676.9749855703,29951.2218569938,108760.916030081,1027.20849641169,37246.5521006602,18949.4798369704,10980.3351999295,2829.23339391927,52353.6669901678,5443.34174009736,62589.3735479552,27357.6230717227,11612.3899106317,11877.084063348,26734.6647579303,30541.7928846043,23158.0486774376,2868.31769823851,15274.9422811457,33204.5886933161,36083.4760986599,4093.14257664224,49416.289877049,65813.9525086408,1404.13293846139,24960.320597338,20582.1689530456,2955.24028731034],\"sizemode\":\"area\",\"sizeref\":271.90229007520253,\"symbol\":\"circle\"},\"mode\":\"markers\",\"name\":\"2014\",\"orientation\":\"v\",\"showlegend\":false,\"x\":[null,75.05403,null,58.73172,93.58,95.69,null,67.72973,74.84718,30.58417,96.53,89.47,94.17,null,null,null,88.34187,97.07,90.22861,86.52,null,64.0539,null,null,63.79495,null,73.17,32.32904,95.91525,81.37,null,null,null,null,81.44463,99.08892,null,52.59899,null,null,45.19,null,95.66,97.17731,76.88139,null,66.02,null,93.4,87.28,95.15,null,null,null,50.39,99.1021,null,null,66.45132,null,null,64.5542,99.15444,96.42,83.17],\"xaxis\":\"x2\",\"y\":[5.0,214.0,6.0,432.0,175.0,62.0,11.0,189.0,564.0,1170.0,31.0,85.0,29.0,8.0,8.0,4.0,94.0,65.0,39.0,49.0,11.0,434.0,3.0,5.0,325.0,3.0,107.0,711.0,174.0,68.0,12.0,5.0,6.0,2.0,358.0,69.0,24.0,579.0,9.0,6.0,381.0,6.0,38.0,49.0,231.0,6.0,103.0,3.0,60.0,91.0,96.0,2.0,8.0,21.0,364.0,12.0,7.0,4.0,333.0,5.0,5.0,401.0,19.0,17.0,494.0],\"yaxis\":\"y2\",\"type\":\"scatter\"},{\"customdata\":[[\"Europe\",\"Austria\"],[\"Asia\",\"Bangladesh\"],[\"Europe\",\"Belgium\"],[\"Africa\",\"Benin\"],[\"South America\",\"Bolivia\"],[\"South America\",\"Brazil\"],[\"Europe\",\"Bulgaria\"],[\"Asia\",\"Cambodia\"],[\"Africa\",\"Cameroon\"],[\"Africa\",\"Chad\"],[\"Asia\",\"China\"],[\"South America\",\"Colombia\"],[\"North America\",\"Costa Rica\"],[\"Europe\",\"Croatia\"],[\"Europe\",\"Cyprus\"],[\"Europe\",\"Denmark\"],[\"North America\",\"Dominican Republic\"],[\"South America\",\"Ecuador\"],[\"Africa\",\"Egypt\"],[\"North America\",\"El Salvador\"],[\"Europe\",\"Estonia\"],[\"Africa\",\"Eswatini\"],[\"Europe\",\"Finland\"],[\"Europe\",\"Germany\"],[\"Africa\",\"Ghana\"],[\"Europe\",\"Greece\"],[\"North America\",\"Guatemala\"],[\"Africa\",\"Guinea-Bissau\"],[\"South America\",\"Guyana\"],[\"North America\",\"Honduras\"],[\"Europe\",\"Hungary\"],[\"Europe\",\"Iceland\"],[\"Europe\",\"Ireland\"],[\"Europe\",\"Italy\"],[\"Africa\",\"Kenya\"],[\"Asia\",\"Kyrgyz Republic\"],[\"Europe\",\"Latvia\"],[\"Africa\",\"Lesotho\"],[\"Europe\",\"Lithuania\"],[\"Europe\",\"Luxembourg\"],[\"Africa\",\"Malawi\"],[\"Europe\",\"Malta\"],[\"North America\",\"Mexico\"],[\"Asia\",\"Mongolia\"],[\"Asia\",\"Nepal\"],[\"Europe\",\"Netherlands\"],[\"North America\",\"Nicaragua\"],[\"Europe\",\"Norway\"],[\"North America\",\"Panama\"],[\"South America\",\"Paraguay\"],[\"South America\",\"Peru\"],[\"Europe\",\"Poland\"],[\"Europe\",\"Portugal\"],[\"Europe\",\"Romania\"],[\"Africa\",\"Senegal\"],[\"Europe\",\"Serbia\"],[\"Europe\",\"Slovenia\"],[\"Europe\",\"Spain\"],[\"Africa\",\"Sudan\"],[\"Europe\",\"Sweden\"],[\"Europe\",\"Switzerland\"],[\"Africa\",\"Togo\"],[\"Asia\",\"Turkey\"],[\"South America\",\"Uruguay\"],[\"Africa\",\"Zimbabwe\"]],\"hovertemplate\":\"Year=2014<br>Sex=_T<br>Primary_ed_completion_percent=%{x}<br>Maternal_Death_Rate=%{y}<br>GDP_Per_Capita=%{marker.size}<br>Continent=%{customdata[0]}<br>Country=%{customdata[1]}<extra></extra>\",\"legendgroup\":\"2014\",\"marker\":{\"color\":\"#00cc96\",\"size\":[53025.8476078992,3511.58228216065,48903.340741753,2975.85391436098,7730.63840148344,15744.3471113816,18807.2287791934,3364.27872943395,3362.664067483,1866.26648837908,11917.3384959856,13899.3688286349,18168.715241725,23858.4103988913,33064.5801699164,52214.5377534374,14499.6361158376,12078.4698435004,10353.6684072177,7990.44461457603,30700.3369259447,8192.53543463127,45013.1004551426,50932.7567783141,4675.75856612863,28615.8377329141,7939.09038738555,1740.89056524607,11244.3126692508,5177.40941597809,26509.0999901907,49652.1495003908,57404.7044797085,40025.9327304527,3709.15907577307,4722.08600254189,25468.0576903373,2676.9749855703,29951.2218569938,108760.916030081,1027.20849641169,37246.5521006602,18949.4798369704,10980.3351999295,2829.23339391927,52353.6669901678,5443.34174009736,62589.3735479552,27357.6230717227,11612.3899106317,11877.084063348,26734.6647579303,30541.7928846043,23158.0486774376,2868.31769823851,15274.9422811457,33204.5886933161,36083.4760986599,4093.14257664224,49416.289877049,65813.9525086408,1404.13293846139,24960.320597338,20582.1689530456,2955.24028731034],\"sizemode\":\"area\",\"sizeref\":271.90229007520253,\"symbol\":\"circle\"},\"mode\":\"markers\",\"name\":\"2014\",\"orientation\":\"v\",\"showlegend\":false,\"x\":[null,80.01213,null,54.11723,93.18,96.72,null,72.28277,73.64866,27.32146,97.21,91.8,94.51,null,null,null,91.51656,97.64,90.86884,88.41,null,70.2268,null,null,65.83102,null,72.4,29.14938,97.5321,82.53,null,null,null,null,84.14092,99.26881,null,64.90466,null,null,48.07,null,96.44,97.89996,76.22546,null,74.44,null,94.13,89.62,95.73,null,null,null,50.17,99.3068,null,null,65.42644,null,null,61.28725,98.49266,97.3,86.77],\"xaxis\":\"x3\",\"y\":[5.0,214.0,6.0,432.0,175.0,62.0,11.0,189.0,564.0,1170.0,31.0,85.0,29.0,8.0,8.0,4.0,94.0,65.0,39.0,49.0,11.0,434.0,3.0,5.0,325.0,3.0,107.0,711.0,174.0,68.0,12.0,5.0,6.0,2.0,358.0,69.0,24.0,579.0,9.0,6.0,381.0,6.0,38.0,49.0,231.0,6.0,103.0,3.0,60.0,91.0,96.0,2.0,8.0,21.0,364.0,12.0,7.0,4.0,333.0,5.0,5.0,401.0,19.0,17.0,494.0],\"yaxis\":\"y3\",\"type\":\"scatter\"}],                        {\"template\":{\"data\":{\"bar\":[{\"error_x\":{\"color\":\"#2a3f5f\"},\"error_y\":{\"color\":\"#2a3f5f\"},\"marker\":{\"line\":{\"color\":\"#E5ECF6\",\"width\":0.5},\"pattern\":{\"fillmode\":\"overlay\",\"size\":10,\"solidity\":0.2}},\"type\":\"bar\"}],\"barpolar\":[{\"marker\":{\"line\":{\"color\":\"#E5ECF6\",\"width\":0.5},\"pattern\":{\"fillmode\":\"overlay\",\"size\":10,\"solidity\":0.2}},\"type\":\"barpolar\"}],\"carpet\":[{\"aaxis\":{\"endlinecolor\":\"#2a3f5f\",\"gridcolor\":\"white\",\"linecolor\":\"white\",\"minorgridcolor\":\"white\",\"startlinecolor\":\"#2a3f5f\"},\"baxis\":{\"endlinecolor\":\"#2a3f5f\",\"gridcolor\":\"white\",\"linecolor\":\"white\",\"minorgridcolor\":\"white\",\"startlinecolor\":\"#2a3f5f\"},\"type\":\"carpet\"}],\"choropleth\":[{\"colorbar\":{\"outlinewidth\":0,\"ticks\":\"\"},\"type\":\"choropleth\"}],\"contour\":[{\"colorbar\":{\"outlinewidth\":0,\"ticks\":\"\"},\"colorscale\":[[0.0,\"#0d0887\"],[0.1111111111111111,\"#46039f\"],[0.2222222222222222,\"#7201a8\"],[0.3333333333333333,\"#9c179e\"],[0.4444444444444444,\"#bd3786\"],[0.5555555555555556,\"#d8576b\"],[0.6666666666666666,\"#ed7953\"],[0.7777777777777778,\"#fb9f3a\"],[0.8888888888888888,\"#fdca26\"],[1.0,\"#f0f921\"]],\"type\":\"contour\"}],\"contourcarpet\":[{\"colorbar\":{\"outlinewidth\":0,\"ticks\":\"\"},\"type\":\"contourcarpet\"}],\"heatmap\":[{\"colorbar\":{\"outlinewidth\":0,\"ticks\":\"\"},\"colorscale\":[[0.0,\"#0d0887\"],[0.1111111111111111,\"#46039f\"],[0.2222222222222222,\"#7201a8\"],[0.3333333333333333,\"#9c179e\"],[0.4444444444444444,\"#bd3786\"],[0.5555555555555556,\"#d8576b\"],[0.6666666666666666,\"#ed7953\"],[0.7777777777777778,\"#fb9f3a\"],[0.8888888888888888,\"#fdca26\"],[1.0,\"#f0f921\"]],\"type\":\"heatmap\"}],\"heatmapgl\":[{\"colorbar\":{\"outlinewidth\":0,\"ticks\":\"\"},\"colorscale\":[[0.0,\"#0d0887\"],[0.1111111111111111,\"#46039f\"],[0.2222222222222222,\"#7201a8\"],[0.3333333333333333,\"#9c179e\"],[0.4444444444444444,\"#bd3786\"],[0.5555555555555556,\"#d8576b\"],[0.6666666666666666,\"#ed7953\"],[0.7777777777777778,\"#fb9f3a\"],[0.8888888888888888,\"#fdca26\"],[1.0,\"#f0f921\"]],\"type\":\"heatmapgl\"}],\"histogram\":[{\"marker\":{\"pattern\":{\"fillmode\":\"overlay\",\"size\":10,\"solidity\":0.2}},\"type\":\"histogram\"}],\"histogram2d\":[{\"colorbar\":{\"outlinewidth\":0,\"ticks\":\"\"},\"colorscale\":[[0.0,\"#0d0887\"],[0.1111111111111111,\"#46039f\"],[0.2222222222222222,\"#7201a8\"],[0.3333333333333333,\"#9c179e\"],[0.4444444444444444,\"#bd3786\"],[0.5555555555555556,\"#d8576b\"],[0.6666666666666666,\"#ed7953\"],[0.7777777777777778,\"#fb9f3a\"],[0.8888888888888888,\"#fdca26\"],[1.0,\"#f0f921\"]],\"type\":\"histogram2d\"}],\"histogram2dcontour\":[{\"colorbar\":{\"outlinewidth\":0,\"ticks\":\"\"},\"colorscale\":[[0.0,\"#0d0887\"],[0.1111111111111111,\"#46039f\"],[0.2222222222222222,\"#7201a8\"],[0.3333333333333333,\"#9c179e\"],[0.4444444444444444,\"#bd3786\"],[0.5555555555555556,\"#d8576b\"],[0.6666666666666666,\"#ed7953\"],[0.7777777777777778,\"#fb9f3a\"],[0.8888888888888888,\"#fdca26\"],[1.0,\"#f0f921\"]],\"type\":\"histogram2dcontour\"}],\"mesh3d\":[{\"colorbar\":{\"outlinewidth\":0,\"ticks\":\"\"},\"type\":\"mesh3d\"}],\"parcoords\":[{\"line\":{\"colorbar\":{\"outlinewidth\":0,\"ticks\":\"\"}},\"type\":\"parcoords\"}],\"pie\":[{\"automargin\":true,\"type\":\"pie\"}],\"scatter\":[{\"marker\":{\"colorbar\":{\"outlinewidth\":0,\"ticks\":\"\"}},\"type\":\"scatter\"}],\"scatter3d\":[{\"line\":{\"colorbar\":{\"outlinewidth\":0,\"ticks\":\"\"}},\"marker\":{\"colorbar\":{\"outlinewidth\":0,\"ticks\":\"\"}},\"type\":\"scatter3d\"}],\"scattercarpet\":[{\"marker\":{\"colorbar\":{\"outlinewidth\":0,\"ticks\":\"\"}},\"type\":\"scattercarpet\"}],\"scattergeo\":[{\"marker\":{\"colorbar\":{\"outlinewidth\":0,\"ticks\":\"\"}},\"type\":\"scattergeo\"}],\"scattergl\":[{\"marker\":{\"colorbar\":{\"outlinewidth\":0,\"ticks\":\"\"}},\"type\":\"scattergl\"}],\"scattermapbox\":[{\"marker\":{\"colorbar\":{\"outlinewidth\":0,\"ticks\":\"\"}},\"type\":\"scattermapbox\"}],\"scatterpolar\":[{\"marker\":{\"colorbar\":{\"outlinewidth\":0,\"ticks\":\"\"}},\"type\":\"scatterpolar\"}],\"scatterpolargl\":[{\"marker\":{\"colorbar\":{\"outlinewidth\":0,\"ticks\":\"\"}},\"type\":\"scatterpolargl\"}],\"scatterternary\":[{\"marker\":{\"colorbar\":{\"outlinewidth\":0,\"ticks\":\"\"}},\"type\":\"scatterternary\"}],\"surface\":[{\"colorbar\":{\"outlinewidth\":0,\"ticks\":\"\"},\"colorscale\":[[0.0,\"#0d0887\"],[0.1111111111111111,\"#46039f\"],[0.2222222222222222,\"#7201a8\"],[0.3333333333333333,\"#9c179e\"],[0.4444444444444444,\"#bd3786\"],[0.5555555555555556,\"#d8576b\"],[0.6666666666666666,\"#ed7953\"],[0.7777777777777778,\"#fb9f3a\"],[0.8888888888888888,\"#fdca26\"],[1.0,\"#f0f921\"]],\"type\":\"surface\"}],\"table\":[{\"cells\":{\"fill\":{\"color\":\"#EBF0F8\"},\"line\":{\"color\":\"white\"}},\"header\":{\"fill\":{\"color\":\"#C8D4E3\"},\"line\":{\"color\":\"white\"}},\"type\":\"table\"}]},\"layout\":{\"annotationdefaults\":{\"arrowcolor\":\"#2a3f5f\",\"arrowhead\":0,\"arrowwidth\":1},\"autotypenumbers\":\"strict\",\"coloraxis\":{\"colorbar\":{\"outlinewidth\":0,\"ticks\":\"\"}},\"colorscale\":{\"diverging\":[[0,\"#8e0152\"],[0.1,\"#c51b7d\"],[0.2,\"#de77ae\"],[0.3,\"#f1b6da\"],[0.4,\"#fde0ef\"],[0.5,\"#f7f7f7\"],[0.6,\"#e6f5d0\"],[0.7,\"#b8e186\"],[0.8,\"#7fbc41\"],[0.9,\"#4d9221\"],[1,\"#276419\"]],\"sequential\":[[0.0,\"#0d0887\"],[0.1111111111111111,\"#46039f\"],[0.2222222222222222,\"#7201a8\"],[0.3333333333333333,\"#9c179e\"],[0.4444444444444444,\"#bd3786\"],[0.5555555555555556,\"#d8576b\"],[0.6666666666666666,\"#ed7953\"],[0.7777777777777778,\"#fb9f3a\"],[0.8888888888888888,\"#fdca26\"],[1.0,\"#f0f921\"]],\"sequentialminus\":[[0.0,\"#0d0887\"],[0.1111111111111111,\"#46039f\"],[0.2222222222222222,\"#7201a8\"],[0.3333333333333333,\"#9c179e\"],[0.4444444444444444,\"#bd3786\"],[0.5555555555555556,\"#d8576b\"],[0.6666666666666666,\"#ed7953\"],[0.7777777777777778,\"#fb9f3a\"],[0.8888888888888888,\"#fdca26\"],[1.0,\"#f0f921\"]]},\"colorway\":[\"#636efa\",\"#EF553B\",\"#00cc96\",\"#ab63fa\",\"#FFA15A\",\"#19d3f3\",\"#FF6692\",\"#B6E880\",\"#FF97FF\",\"#FECB52\"],\"font\":{\"color\":\"#2a3f5f\"},\"geo\":{\"bgcolor\":\"white\",\"lakecolor\":\"white\",\"landcolor\":\"#E5ECF6\",\"showlakes\":true,\"showland\":true,\"subunitcolor\":\"white\"},\"hoverlabel\":{\"align\":\"left\"},\"hovermode\":\"closest\",\"mapbox\":{\"style\":\"light\"},\"paper_bgcolor\":\"white\",\"plot_bgcolor\":\"#E5ECF6\",\"polar\":{\"angularaxis\":{\"gridcolor\":\"white\",\"linecolor\":\"white\",\"ticks\":\"\"},\"bgcolor\":\"#E5ECF6\",\"radialaxis\":{\"gridcolor\":\"white\",\"linecolor\":\"white\",\"ticks\":\"\"}},\"scene\":{\"xaxis\":{\"backgroundcolor\":\"#E5ECF6\",\"gridcolor\":\"white\",\"gridwidth\":2,\"linecolor\":\"white\",\"showbackground\":true,\"ticks\":\"\",\"zerolinecolor\":\"white\"},\"yaxis\":{\"backgroundcolor\":\"#E5ECF6\",\"gridcolor\":\"white\",\"gridwidth\":2,\"linecolor\":\"white\",\"showbackground\":true,\"ticks\":\"\",\"zerolinecolor\":\"white\"},\"zaxis\":{\"backgroundcolor\":\"#E5ECF6\",\"gridcolor\":\"white\",\"gridwidth\":2,\"linecolor\":\"white\",\"showbackground\":true,\"ticks\":\"\",\"zerolinecolor\":\"white\"}},\"shapedefaults\":{\"line\":{\"color\":\"#2a3f5f\"}},\"ternary\":{\"aaxis\":{\"gridcolor\":\"white\",\"linecolor\":\"white\",\"ticks\":\"\"},\"baxis\":{\"gridcolor\":\"white\",\"linecolor\":\"white\",\"ticks\":\"\"},\"bgcolor\":\"#E5ECF6\",\"caxis\":{\"gridcolor\":\"white\",\"linecolor\":\"white\",\"ticks\":\"\"}},\"title\":{\"x\":0.05},\"xaxis\":{\"automargin\":true,\"gridcolor\":\"white\",\"linecolor\":\"white\",\"ticks\":\"\",\"title\":{\"standoff\":15},\"zerolinecolor\":\"white\",\"zerolinewidth\":2},\"yaxis\":{\"automargin\":true,\"gridcolor\":\"white\",\"linecolor\":\"white\",\"ticks\":\"\",\"title\":{\"standoff\":15},\"zerolinecolor\":\"white\",\"zerolinewidth\":2}}},\"xaxis\":{\"anchor\":\"y\",\"domain\":[0.0,0.31999999999999995],\"title\":{\"text\":\"Primary_ed_completion_percent\"}},\"yaxis\":{\"anchor\":\"x\",\"domain\":[0.0,1.0],\"title\":{\"text\":\"Maternal_Death_Rate\"}},\"xaxis2\":{\"anchor\":\"y2\",\"domain\":[0.33999999999999997,0.6599999999999999],\"matches\":\"x\",\"title\":{\"text\":\"Primary_ed_completion_percent\"}},\"yaxis2\":{\"anchor\":\"x2\",\"domain\":[0.0,1.0],\"matches\":\"y\",\"showticklabels\":false},\"xaxis3\":{\"anchor\":\"y3\",\"domain\":[0.6799999999999999,0.9999999999999999],\"matches\":\"x\",\"title\":{\"text\":\"Primary_ed_completion_percent\"}},\"yaxis3\":{\"anchor\":\"x3\",\"domain\":[0.0,1.0],\"matches\":\"y\",\"showticklabels\":false},\"annotations\":[{\"font\":{},\"showarrow\":false,\"text\":\"Sex=F\",\"x\":0.15999999999999998,\"xanchor\":\"center\",\"xref\":\"paper\",\"y\":1.0,\"yanchor\":\"bottom\",\"yref\":\"paper\"},{\"font\":{},\"showarrow\":false,\"text\":\"Sex=M\",\"x\":0.49999999999999994,\"xanchor\":\"center\",\"xref\":\"paper\",\"y\":1.0,\"yanchor\":\"bottom\",\"yref\":\"paper\"},{\"font\":{},\"showarrow\":false,\"text\":\"Sex=_T\",\"x\":0.8399999999999999,\"xanchor\":\"center\",\"xref\":\"paper\",\"y\":1.0,\"yanchor\":\"bottom\",\"yref\":\"paper\"}],\"legend\":{\"title\":{\"text\":\"Year\"},\"tracegroupgap\":0,\"itemsizing\":\"constant\"},\"margin\":{\"t\":60},\"height\":400},                        {\"responsive\": true}                    ).then(function(){\n",
       "                            \n",
       "var gd = document.getElementById('52de3759-27fd-45d1-8b05-b4d1d8c97b8f');\n",
       "var x = new MutationObserver(function (mutations, observer) {{\n",
       "        var display = window.getComputedStyle(gd).display;\n",
       "        if (!display || display === 'none') {{\n",
       "            console.log([gd, 'removed!']);\n",
       "            Plotly.purge(gd);\n",
       "            observer.disconnect();\n",
       "        }}\n",
       "}});\n",
       "\n",
       "// Listen for the removal of the full notebook cells\n",
       "var notebookContainer = gd.closest('#notebook-container');\n",
       "if (notebookContainer) {{\n",
       "    x.observe(notebookContainer, {childList: true});\n",
       "}}\n",
       "\n",
       "// Listen for the clearing of the current output cell\n",
       "var outputEl = gd.closest('.output');\n",
       "if (outputEl) {{\n",
       "    x.observe(outputEl, {childList: true});\n",
       "}}\n",
       "\n",
       "                        })                };                });            </script>        </div>"
      ]
     },
     "metadata": {},
     "output_type": "display_data"
    }
   ],
   "source": [
    "df = key_years[~key_years['Sex'].isna()\n",
    "              & ~key_years['GDP_Per_Capita'].isna()]\n",
    "fig =  px.scatter(df, \n",
    "                  x=\"Primary_ed_completion_percent\", \n",
    "                  y=\"Maternal_Death_Rate\", \n",
    "                  color=\"Year\",\n",
    "                  size=\"GDP_Per_Capita\",\n",
    "                  facet_col=\"Sex\",\n",
    "                  height=400,\n",
    "                  hover_data=[\"Continent\", \"Country\"])\n",
    "    \n",
    "fig.show()"
   ]
  },
  {
   "cell_type": "code",
   "execution_count": 116,
   "id": "baa916de",
   "metadata": {},
   "outputs": [
    {
     "name": "stdout",
     "output_type": "stream",
     "text": [
      "<class 'pandas.core.frame.DataFrame'>\n",
      "Int64Index: 2586 entries, 5 to 4258\n",
      "Data columns (total 9 columns):\n",
      " #   Column                           Non-Null Count  Dtype  \n",
      "---  ------                           --------------  -----  \n",
      " 0   Country                          2586 non-null   object \n",
      " 1   Year                             2586 non-null   int64  \n",
      " 2   GDP_Per_Capita                   2434 non-null   float64\n",
      " 3   Life_Expectancy                  2572 non-null   float64\n",
      " 4   Continent                        2564 non-null   object \n",
      " 5   Sex                              1329 non-null   object \n",
      " 6   Primary_ed_completion_percent    1008 non-null   float64\n",
      " 7   Secondary_ed_completion_percent  1329 non-null   float64\n",
      " 8   Maternal_Death_Rate              2586 non-null   float64\n",
      "dtypes: float64(5), int64(1), object(3)\n",
      "memory usage: 202.0+ KB\n"
     ]
    }
   ],
   "source": [
    "ten_years = (\n",
    "    full_df\n",
    "    .loc[(full_df['Year'] >= 2005) & (full_df['Year']<=2014)]\n",
    ")\n",
    "\n",
    "ten_years.info()"
   ]
  },
  {
   "cell_type": "code",
   "execution_count": 132,
   "id": "29ed830c",
   "metadata": {
    "scrolled": false
   },
   "outputs": [
    {
     "data": {
      "application/vnd.plotly.v1+json": {
       "config": {
        "plotlyServerURL": "https://plot.ly"
       },
       "data": [
        {
         "customdata": [
          [
           "Europe",
           "Albania"
          ],
          [
           "Europe",
           "Belarus"
          ],
          [
           "South America",
           "Bolivia"
          ],
          [
           "South America",
           "Brazil"
          ],
          [
           "Africa",
           "Burundi"
          ],
          [
           "Asia",
           "Cambodia"
          ],
          [
           "Africa",
           "Cameroon"
          ],
          [
           "South America",
           "Colombia"
          ],
          [
           "Africa",
           "Congo"
          ],
          [
           "North America",
           "Costa Rica"
          ],
          [
           "North America",
           "Dominican Republic"
          ],
          [
           "South America",
           "Ecuador"
          ],
          [
           "Africa",
           "Egypt"
          ],
          [
           "North America",
           "El Salvador"
          ],
          [
           "Africa",
           "Ethiopia"
          ],
          [
           "Europe",
           "Georgia"
          ],
          [
           "Africa",
           "Guinea"
          ],
          [
           "North America",
           "Haiti"
          ],
          [
           "North America",
           "Honduras"
          ],
          [
           "Asia",
           "India"
          ],
          [
           "North America",
           "Jamaica"
          ],
          [
           "Africa",
           "Lesotho"
          ],
          [
           "Europe",
           "Montenegro"
          ],
          [
           "North America",
           "Nicaragua"
          ],
          [
           "Europe",
           "North Macedonia"
          ],
          [
           "North America",
           "Panama"
          ],
          [
           "South America",
           "Paraguay"
          ],
          [
           "South America",
           "Peru"
          ],
          [
           "Africa",
           "Rwanda"
          ],
          [
           "Africa",
           "Senegal"
          ],
          [
           "Europe",
           "Serbia"
          ],
          [
           "Africa",
           "Sierra Leone"
          ],
          [
           "Asia",
           "Thailand"
          ],
          [
           "Europe",
           "Ukraine"
          ],
          [
           "Africa",
           "Zimbabwe"
          ]
         ],
         "hovertemplate": "Year=2005<br>Sex=F<br>% Completing Primary Ed=%{x}<br>Maternal deaths/100K live births=%{y}<br>GDP per capita=%{marker.size}<br>Continent=%{customdata[0]}<br>Country=%{customdata[1]}<br>Life Expectancy (years)=%{marker.color}<extra></extra>",
         "legendgroup": "",
         "marker": {
          "color": [
           75.228,
           68.8512195121951,
           65.312,
           71.896,
           53.369,
           63.088,
           52.76,
           74.265,
           55.6,
           78.117,
           70.771,
           74.112,
           69.434,
           70.124,
           56.223,
           70.538,
           53.238,
           58.652,
           72.026,
           64.5,
           74.148,
           42.658,
           73.9829268292683,
           71.195,
           73.6975609756098,
           75.892,
           71.667,
           72.908,
           55.254,
           60.62,
           72.8341463414634,
           44.502,
           72.099,
           67.9568292682927,
           43.241
          ],
          "coloraxis": "coloraxis",
          "size": [
           8066.55744546876,
           11940.1865961058,
           5749.52853108943,
           12561.8201732326,
           798.704284723934,
           2120.55187709438,
           2982.0247447709,
           10083.3143613973,
           4677.8780452455,
           13925.0788185196,
           10291.3088797642,
           9503.68919042493,
           8397.03322231274,
           6870.62247722546,
           862.355330588949,
           7315.19848048057,
           1794.4145141069,
           2629.11154739696,
           4546.23880650616,
           3239.33303556796,
           9916.91951109908,
           1892.43574195623,
           14093.6805302268,
           4320.77512283701,
           11121.5902024674,
           16304.5988099709,
           8568.54754975229,
           7519.02772018677,
           1148.44702200812,
           2650.83530341655,
           12317.1837218579,
           1244.90251686215,
           12316.627183929,
           10957.5582756783,
           2328.17612903911
          ],
          "sizemode": "area",
          "sizeref": 240.65415667076775,
          "symbol": "circle"
         },
         "mode": "markers",
         "name": "",
         "orientation": "v",
         "showlegend": false,
         "type": "scatter",
         "x": [
          98.81,
          100,
          88.87,
          95.22,
          11.65,
          58.90414,
          68.2568,
          87.61098,
          63.85842,
          92.39,
          85.68,
          93.75,
          81.30888,
          79.2,
          23.29575,
          97.87,
          23.7841,
          44.88008,
          77.11,
          75.1,
          99.39,
          63.58078,
          98.85,
          67.93,
          97.16,
          93.29,
          88.05,
          88.89,
          10.93098,
          22.23406,
          98.81,
          29.06,
          98.04,
          98.8,
          88.63229
         ],
         "xaxis": "x28",
         "y": [
          22,
          11,
          271,
          71,
          814,
          351,
          692,
          83,
          677,
          33,
          83,
          94,
          52,
          62,
          865,
          39,
          920,
          459,
          77,
          286,
          80,
          679,
          9,
          131,
          10,
          88,
          137,
          118,
          643,
          519,
          12,
          1760,
          43,
          33,
          685
         ],
         "yaxis": "y28"
        },
        {
         "customdata": [
          [
           "Europe",
           "Albania"
          ],
          [
           "Europe",
           "Belarus"
          ],
          [
           "South America",
           "Bolivia"
          ],
          [
           "South America",
           "Brazil"
          ],
          [
           "Africa",
           "Burundi"
          ],
          [
           "Asia",
           "Cambodia"
          ],
          [
           "Africa",
           "Cameroon"
          ],
          [
           "South America",
           "Colombia"
          ],
          [
           "Africa",
           "Congo"
          ],
          [
           "North America",
           "Costa Rica"
          ],
          [
           "North America",
           "Dominican Republic"
          ],
          [
           "South America",
           "Ecuador"
          ],
          [
           "Africa",
           "Egypt"
          ],
          [
           "North America",
           "El Salvador"
          ],
          [
           "Africa",
           "Ethiopia"
          ],
          [
           "Europe",
           "Georgia"
          ],
          [
           "Africa",
           "Guinea"
          ],
          [
           "North America",
           "Haiti"
          ],
          [
           "North America",
           "Honduras"
          ],
          [
           "Asia",
           "India"
          ],
          [
           "North America",
           "Jamaica"
          ],
          [
           "Africa",
           "Lesotho"
          ],
          [
           "Europe",
           "Montenegro"
          ],
          [
           "North America",
           "Nicaragua"
          ],
          [
           "Europe",
           "North Macedonia"
          ],
          [
           "North America",
           "Panama"
          ],
          [
           "South America",
           "Paraguay"
          ],
          [
           "South America",
           "Peru"
          ],
          [
           "Africa",
           "Rwanda"
          ],
          [
           "Africa",
           "Senegal"
          ],
          [
           "Europe",
           "Serbia"
          ],
          [
           "Africa",
           "Sierra Leone"
          ],
          [
           "Asia",
           "Thailand"
          ],
          [
           "Europe",
           "Ukraine"
          ],
          [
           "Africa",
           "Zimbabwe"
          ]
         ],
         "hovertemplate": "Year=2005<br>Sex=M<br>% Completing Primary Ed=%{x}<br>Maternal deaths/100K live births=%{y}<br>GDP per capita=%{marker.size}<br>Continent=%{customdata[0]}<br>Country=%{customdata[1]}<br>Life Expectancy (years)=%{marker.color}<extra></extra>",
         "legendgroup": "",
         "marker": {
          "color": [
           75.228,
           68.8512195121951,
           65.312,
           71.896,
           53.369,
           63.088,
           52.76,
           74.265,
           55.6,
           78.117,
           70.771,
           74.112,
           69.434,
           70.124,
           56.223,
           70.538,
           53.238,
           58.652,
           72.026,
           64.5,
           74.148,
           42.658,
           73.9829268292683,
           71.195,
           73.6975609756098,
           75.892,
           71.667,
           72.908,
           55.254,
           60.62,
           72.8341463414634,
           44.502,
           72.099,
           67.9568292682927,
           43.241
          ],
          "coloraxis": "coloraxis",
          "size": [
           8066.55744546876,
           11940.1865961058,
           5749.52853108943,
           12561.8201732326,
           798.704284723934,
           2120.55187709438,
           2982.0247447709,
           10083.3143613973,
           4677.8780452455,
           13925.0788185196,
           10291.3088797642,
           9503.68919042493,
           8397.03322231274,
           6870.62247722546,
           862.355330588949,
           7315.19848048057,
           1794.4145141069,
           2629.11154739696,
           4546.23880650616,
           3239.33303556796,
           9916.91951109908,
           1892.43574195623,
           14093.6805302268,
           4320.77512283701,
           11121.5902024674,
           16304.5988099709,
           8568.54754975229,
           7519.02772018677,
           1148.44702200812,
           2650.83530341655,
           12317.1837218579,
           1244.90251686215,
           12316.627183929,
           10957.5582756783,
           2328.17612903911
          ],
          "sizemode": "area",
          "sizeref": 240.65415667076775,
          "symbol": "circle"
         },
         "mode": "markers",
         "name": "",
         "orientation": "v",
         "showlegend": false,
         "type": "scatter",
         "x": [
          99.01,
          99.66,
          89.23,
          91.71,
          14.84,
          58.99419,
          72.24709,
          81.82281,
          62.89907,
          88.86,
          77.65,
          90.65,
          86.36117,
          77.9,
          32.94855,
          98.65,
          44.3191,
          36.75323,
          68.43,
          77.89,
          98.67,
          37.0059,
          97.62,
          56.71,
          96.99,
          90.39,
          81.63,
          91.32,
          10.01228,
          27.84762,
          99.27,
          34.98,
          97.31,
          100,
          85.86732
         ],
         "xaxis": "x29",
         "y": [
          22,
          11,
          271,
          71,
          814,
          351,
          692,
          83,
          677,
          33,
          83,
          94,
          52,
          62,
          865,
          39,
          920,
          459,
          77,
          286,
          80,
          679,
          9,
          131,
          10,
          88,
          137,
          118,
          643,
          519,
          12,
          1760,
          43,
          33,
          685
         ],
         "yaxis": "y29"
        },
        {
         "customdata": [
          [
           "Europe",
           "Albania"
          ],
          [
           "Europe",
           "Belarus"
          ],
          [
           "South America",
           "Bolivia"
          ],
          [
           "South America",
           "Brazil"
          ],
          [
           "Africa",
           "Burundi"
          ],
          [
           "Asia",
           "Cambodia"
          ],
          [
           "Africa",
           "Cameroon"
          ],
          [
           "South America",
           "Colombia"
          ],
          [
           "Africa",
           "Congo"
          ],
          [
           "North America",
           "Costa Rica"
          ],
          [
           "North America",
           "Dominican Republic"
          ],
          [
           "South America",
           "Ecuador"
          ],
          [
           "Africa",
           "Egypt"
          ],
          [
           "North America",
           "El Salvador"
          ],
          [
           "Africa",
           "Ethiopia"
          ],
          [
           "Europe",
           "Georgia"
          ],
          [
           "Africa",
           "Guinea"
          ],
          [
           "North America",
           "Haiti"
          ],
          [
           "North America",
           "Honduras"
          ],
          [
           "Asia",
           "India"
          ],
          [
           "North America",
           "Jamaica"
          ],
          [
           "Africa",
           "Lesotho"
          ],
          [
           "Europe",
           "Montenegro"
          ],
          [
           "North America",
           "Nicaragua"
          ],
          [
           "Europe",
           "North Macedonia"
          ],
          [
           "North America",
           "Panama"
          ],
          [
           "South America",
           "Paraguay"
          ],
          [
           "South America",
           "Peru"
          ],
          [
           "Africa",
           "Rwanda"
          ],
          [
           "Africa",
           "Senegal"
          ],
          [
           "Europe",
           "Serbia"
          ],
          [
           "Africa",
           "Sierra Leone"
          ],
          [
           "Asia",
           "Thailand"
          ],
          [
           "Europe",
           "Ukraine"
          ],
          [
           "Africa",
           "Zimbabwe"
          ]
         ],
         "hovertemplate": "Year=2005<br>Sex=_T<br>% Completing Primary Ed=%{x}<br>Maternal deaths/100K live births=%{y}<br>GDP per capita=%{marker.size}<br>Continent=%{customdata[0]}<br>Country=%{customdata[1]}<br>Life Expectancy (years)=%{marker.color}<extra></extra>",
         "legendgroup": "",
         "marker": {
          "color": [
           75.228,
           68.8512195121951,
           65.312,
           71.896,
           53.369,
           63.088,
           52.76,
           74.265,
           55.6,
           78.117,
           70.771,
           74.112,
           69.434,
           70.124,
           56.223,
           70.538,
           53.238,
           58.652,
           72.026,
           64.5,
           74.148,
           42.658,
           73.9829268292683,
           71.195,
           73.6975609756098,
           75.892,
           71.667,
           72.908,
           55.254,
           60.62,
           72.8341463414634,
           44.502,
           72.099,
           67.9568292682927,
           43.241
          ],
          "coloraxis": "coloraxis",
          "size": [
           8066.55744546876,
           11940.1865961058,
           5749.52853108943,
           12561.8201732326,
           798.704284723934,
           2120.55187709438,
           2982.0247447709,
           10083.3143613973,
           4677.8780452455,
           13925.0788185196,
           10291.3088797642,
           9503.68919042493,
           8397.03322231274,
           6870.62247722546,
           862.355330588949,
           7315.19848048057,
           1794.4145141069,
           2629.11154739696,
           4546.23880650616,
           3239.33303556796,
           9916.91951109908,
           1892.43574195623,
           14093.6805302268,
           4320.77512283701,
           11121.5902024674,
           16304.5988099709,
           8568.54754975229,
           7519.02772018677,
           1148.44702200812,
           2650.83530341655,
           12317.1837218579,
           1244.90251686215,
           12316.627183929,
           10957.5582756783,
           2328.17612903911
          ],
          "sizemode": "area",
          "sizeref": 240.65415667076775,
          "symbol": "circle"
         },
         "mode": "markers",
         "name": "",
         "orientation": "v",
         "showlegend": false,
         "type": "scatter",
         "x": [
          98.91,
          99.83,
          89.05,
          93.44,
          13.17,
          58.95035,
          70.26693,
          84.71531,
          63.39317,
          90.63,
          81.56,
          92.13,
          83.85818,
          78.54,
          28.21768,
          98.27,
          33.52226,
          40.90987,
          72.8,
          76.53,
          98.99,
          49.87584,
          98.25,
          62.43,
          97.06,
          91.79,
          84.73,
          90.11,
          10.48374,
          24.8962,
          99.04,
          32.69,
          97.67,
          99.44,
          87.26836
         ],
         "xaxis": "x30",
         "y": [
          22,
          11,
          271,
          71,
          814,
          351,
          692,
          83,
          677,
          33,
          83,
          94,
          52,
          62,
          865,
          39,
          920,
          459,
          77,
          286,
          80,
          679,
          9,
          131,
          10,
          88,
          137,
          118,
          643,
          519,
          12,
          1760,
          43,
          33,
          685
         ],
         "yaxis": "y30"
        },
        {
         "customdata": [
          [
           "Europe",
           "Armenia"
          ],
          [
           "Europe",
           "Azerbaijan"
          ],
          [
           "Asia",
           "Bangladesh"
          ],
          [
           "North America",
           "Belize"
          ],
          [
           "Africa",
           "Benin"
          ],
          [
           "South America",
           "Bolivia"
          ],
          [
           "Europe",
           "Bosnia and Herzegovina"
          ],
          [
           "South America",
           "Brazil"
          ],
          [
           "Africa",
           "Burkina Faso"
          ],
          [
           "Africa",
           "Cameroon"
          ],
          [
           "South America",
           "Chile"
          ],
          [
           "North America",
           "Costa Rica"
          ],
          [
           "North America",
           "Dominican Republic"
          ],
          [
           "South America",
           "Ecuador"
          ],
          [
           "North America",
           "El Salvador"
          ],
          [
           "Africa",
           "Eswatini"
          ],
          [
           "Africa",
           "Gambia"
          ],
          [
           "Africa",
           "Ghana"
          ],
          [
           "North America",
           "Guatemala"
          ],
          [
           "Africa",
           "Guinea-Bissau"
          ],
          [
           "South America",
           "Guyana"
          ],
          [
           "North America",
           "Honduras"
          ],
          [
           "Asia",
           "India"
          ],
          [
           "Asia",
           "Iraq"
          ],
          [
           "Asia",
           "Kazakhstan"
          ],
          [
           "Asia",
           "Kyrgyz Republic"
          ],
          [
           "Africa",
           "Malawi"
          ],
          [
           "Africa",
           "Mali"
          ],
          [
           "North America",
           "Mexico"
          ],
          [
           "Asia",
           "Mongolia"
          ],
          [
           "Africa",
           "Niger"
          ],
          [
           "North America",
           "Panama"
          ],
          [
           "South America",
           "Paraguay"
          ],
          [
           "South America",
           "Peru"
          ],
          [
           "Asia",
           "Sri Lanka"
          ],
          [
           "South America",
           "Suriname"
          ],
          [
           "Asia",
           "Tajikistan"
          ],
          [
           "Africa",
           "Togo"
          ],
          [
           "North America",
           "Trinidad and Tobago"
          ],
          [
           "Asia",
           "Turkmenistan"
          ],
          [
           "Africa",
           "Uganda"
          ],
          [
           "Asia",
           "Uzbekistan"
          ]
         ],
         "hovertemplate": "Year=2006<br>Sex=F<br>% Completing Primary Ed=%{x}<br>Maternal deaths/100K live births=%{y}<br>GDP per capita=%{marker.size}<br>Continent=%{customdata[0]}<br>Country=%{customdata[1]}<br>Life Expectancy (years)=%{marker.color}<extra></extra>",
         "legendgroup": "",
         "marker": {
          "color": [
           72.716,
           69.259,
           68.213,
           70.286,
           57.817,
           65.853,
           75.342,
           72.26,
           54.063,
           53.215,
           77.865,
           78.239,
           71.041,
           74.319,
           70.333,
           42.733,
           58.313,
           59.234,
           70.082,
           52.691,
           66.972,
           72.285,
           64.918,
           68.157,
           66.15,
           67.6951219512195,
           49.118,
           52.839,
           75.296,
           65.538,
           54.18,
           76.06,
           71.862,
           73.222,
           74.904,
           69.227,
           66.771,
           55.052,
           70.952,
           65.354,
           52.784,
           68.676
          ],
          "coloraxis": "coloraxis",
          "size": [
           8464.46855827733,
           9605.09610840819,
           2399.08200601731,
           7431.40892856573,
           2606.81617978405,
           5920.71166230972,
           9888.4465067144,
           12917.9168849667,
           1574.72978048784,
           3002.13521299317,
           19664.9960674424,
           14727.059051568,
           11087.4759487139,
           9757.37163256092,
           7136.8417603354,
           6906.58443971881,
           2137.81718540257,
           3207.53153952901,
           6973.03272002819,
           1675.77139557957,
           8371.87268005484,
           4733.54600929301,
           3446.75674622652,
           8137.45569996789,
           18112.7787011954,
           3588.0899177681,
           794.908810441122,
           1983.70555095442,
           18379.5267568773,
           6305.8182724406,
           981.158045183196,
           17394.3882205425,
           8845.11089761096,
           8017.25473629249,
           7419.41553371741,
           14969.9330334428,
           1909.26104271471,
           1185.37863323842,
           27552.3779238423,
           6174.74444680973,
           1588.77506313767,
           3614.57737070251
          ],
          "sizemode": "area",
          "sizeref": 240.65415667076775,
          "symbol": "circle"
         },
         "mode": "markers",
         "name": "",
         "orientation": "v",
         "showlegend": false,
         "type": "scatter",
         "x": [
          100,
          96.71305,
          78.15919,
          91.42,
          41.98247,
          87.83,
          99.11,
          95.75,
          26.68018,
          63.38678,
          97.07,
          91.87,
          86.86,
          94.11,
          79.98,
          72.38095,
          57.36138,
          72.89,
          59.53,
          20.84,
          95.34601,
          79.56,
          74.49731,
          56.54,
          99.64383,
          99.75586,
          47.43,
          23.78116,
          95.21,
          96.13521,
          13.23251,
          92.57,
          85.7,
          90.7,
          98.68962,
          83.86,
          95.66606,
          59.20272,
          98.24,
          99.84,
          32.6417,
          100
         ],
         "xaxis": "x25",
         "y": [
          36,
          35,
          315,
          65,
          493,
          258,
          13,
          72,
          422,
          658,
          25,
          35,
          86,
          90,
          60,
          518,
          716,
          359,
          137,
          912,
          221,
          77,
          270,
          158,
          40,
          85,
          566,
          675,
          51,
          91,
          739,
          88,
          130,
          114,
          47,
          165,
          29,
          482,
          73,
          18,
          473,
          37
         ],
         "yaxis": "y25"
        },
        {
         "customdata": [
          [
           "Europe",
           "Armenia"
          ],
          [
           "Europe",
           "Azerbaijan"
          ],
          [
           "Asia",
           "Bangladesh"
          ],
          [
           "North America",
           "Belize"
          ],
          [
           "Africa",
           "Benin"
          ],
          [
           "South America",
           "Bolivia"
          ],
          [
           "Europe",
           "Bosnia and Herzegovina"
          ],
          [
           "South America",
           "Brazil"
          ],
          [
           "Africa",
           "Burkina Faso"
          ],
          [
           "Africa",
           "Cameroon"
          ],
          [
           "South America",
           "Chile"
          ],
          [
           "North America",
           "Costa Rica"
          ],
          [
           "North America",
           "Dominican Republic"
          ],
          [
           "South America",
           "Ecuador"
          ],
          [
           "North America",
           "El Salvador"
          ],
          [
           "Africa",
           "Eswatini"
          ],
          [
           "Africa",
           "Gambia"
          ],
          [
           "Africa",
           "Ghana"
          ],
          [
           "North America",
           "Guatemala"
          ],
          [
           "Africa",
           "Guinea-Bissau"
          ],
          [
           "South America",
           "Guyana"
          ],
          [
           "North America",
           "Honduras"
          ],
          [
           "Asia",
           "India"
          ],
          [
           "Asia",
           "Iraq"
          ],
          [
           "Asia",
           "Kazakhstan"
          ],
          [
           "Asia",
           "Kyrgyz Republic"
          ],
          [
           "Africa",
           "Malawi"
          ],
          [
           "Africa",
           "Mali"
          ],
          [
           "North America",
           "Mexico"
          ],
          [
           "Asia",
           "Mongolia"
          ],
          [
           "Africa",
           "Niger"
          ],
          [
           "North America",
           "Panama"
          ],
          [
           "South America",
           "Paraguay"
          ],
          [
           "South America",
           "Peru"
          ],
          [
           "Asia",
           "Sri Lanka"
          ],
          [
           "South America",
           "Suriname"
          ],
          [
           "Asia",
           "Tajikistan"
          ],
          [
           "Africa",
           "Togo"
          ],
          [
           "North America",
           "Trinidad and Tobago"
          ],
          [
           "Asia",
           "Turkmenistan"
          ],
          [
           "Africa",
           "Uganda"
          ],
          [
           "Asia",
           "Uzbekistan"
          ]
         ],
         "hovertemplate": "Year=2006<br>Sex=M<br>% Completing Primary Ed=%{x}<br>Maternal deaths/100K live births=%{y}<br>GDP per capita=%{marker.size}<br>Continent=%{customdata[0]}<br>Country=%{customdata[1]}<br>Life Expectancy (years)=%{marker.color}<extra></extra>",
         "legendgroup": "",
         "marker": {
          "color": [
           72.716,
           69.259,
           68.213,
           70.286,
           57.817,
           65.853,
           75.342,
           72.26,
           54.063,
           53.215,
           77.865,
           78.239,
           71.041,
           74.319,
           70.333,
           42.733,
           58.313,
           59.234,
           70.082,
           52.691,
           66.972,
           72.285,
           64.918,
           68.157,
           66.15,
           67.6951219512195,
           49.118,
           52.839,
           75.296,
           65.538,
           54.18,
           76.06,
           71.862,
           73.222,
           74.904,
           69.227,
           66.771,
           55.052,
           70.952,
           65.354,
           52.784,
           68.676
          ],
          "coloraxis": "coloraxis",
          "size": [
           8464.46855827733,
           9605.09610840819,
           2399.08200601731,
           7431.40892856573,
           2606.81617978405,
           5920.71166230972,
           9888.4465067144,
           12917.9168849667,
           1574.72978048784,
           3002.13521299317,
           19664.9960674424,
           14727.059051568,
           11087.4759487139,
           9757.37163256092,
           7136.8417603354,
           6906.58443971881,
           2137.81718540257,
           3207.53153952901,
           6973.03272002819,
           1675.77139557957,
           8371.87268005484,
           4733.54600929301,
           3446.75674622652,
           8137.45569996789,
           18112.7787011954,
           3588.0899177681,
           794.908810441122,
           1983.70555095442,
           18379.5267568773,
           6305.8182724406,
           981.158045183196,
           17394.3882205425,
           8845.11089761096,
           8017.25473629249,
           7419.41553371741,
           14969.9330334428,
           1909.26104271471,
           1185.37863323842,
           27552.3779238423,
           6174.74444680973,
           1588.77506313767,
           3614.57737070251
          ],
          "sizemode": "area",
          "sizeref": 240.65415667076775,
          "symbol": "circle"
         },
         "mode": "markers",
         "name": "",
         "orientation": "v",
         "showlegend": false,
         "type": "scatter",
         "x": [
          98.90806,
          99.02304,
          67.03111,
          87.08,
          55.12615,
          87.2,
          99.28,
          92.46,
          31.99832,
          60.13878,
          95.41,
          87.78,
          78.21,
          93.81,
          76.17,
          57.3502,
          59.51092,
          68.06,
          65.5,
          31.61,
          92.10766,
          71.76,
          82.33511,
          62.65,
          99.31659,
          99.43764,
          40.54,
          34.62283,
          93.62,
          94.29842,
          20.55378,
          90.39,
          83.02,
          91.47,
          98.05823,
          75.74,
          99.06359,
          61.77472,
          96.87,
          99.46,
          28.12687,
          100
         ],
         "xaxis": "x26",
         "y": [
          36,
          35,
          315,
          65,
          493,
          258,
          13,
          72,
          422,
          658,
          25,
          35,
          86,
          90,
          60,
          518,
          716,
          359,
          137,
          912,
          221,
          77,
          270,
          158,
          40,
          85,
          566,
          675,
          51,
          91,
          739,
          88,
          130,
          114,
          47,
          165,
          29,
          482,
          73,
          18,
          473,
          37
         ],
         "yaxis": "y26"
        },
        {
         "customdata": [
          [
           "Europe",
           "Armenia"
          ],
          [
           "Europe",
           "Azerbaijan"
          ],
          [
           "Asia",
           "Bangladesh"
          ],
          [
           "North America",
           "Belize"
          ],
          [
           "Africa",
           "Benin"
          ],
          [
           "South America",
           "Bolivia"
          ],
          [
           "Europe",
           "Bosnia and Herzegovina"
          ],
          [
           "South America",
           "Brazil"
          ],
          [
           "Africa",
           "Burkina Faso"
          ],
          [
           "Africa",
           "Cameroon"
          ],
          [
           "South America",
           "Chile"
          ],
          [
           "North America",
           "Costa Rica"
          ],
          [
           "North America",
           "Dominican Republic"
          ],
          [
           "South America",
           "Ecuador"
          ],
          [
           "North America",
           "El Salvador"
          ],
          [
           "Africa",
           "Eswatini"
          ],
          [
           "Africa",
           "Gambia"
          ],
          [
           "Africa",
           "Ghana"
          ],
          [
           "North America",
           "Guatemala"
          ],
          [
           "Africa",
           "Guinea-Bissau"
          ],
          [
           "South America",
           "Guyana"
          ],
          [
           "North America",
           "Honduras"
          ],
          [
           "Asia",
           "India"
          ],
          [
           "Asia",
           "Iraq"
          ],
          [
           "Asia",
           "Kazakhstan"
          ],
          [
           "Asia",
           "Kyrgyz Republic"
          ],
          [
           "Africa",
           "Malawi"
          ],
          [
           "Africa",
           "Mali"
          ],
          [
           "North America",
           "Mexico"
          ],
          [
           "Asia",
           "Mongolia"
          ],
          [
           "Africa",
           "Niger"
          ],
          [
           "North America",
           "Panama"
          ],
          [
           "South America",
           "Paraguay"
          ],
          [
           "South America",
           "Peru"
          ],
          [
           "Asia",
           "Sri Lanka"
          ],
          [
           "South America",
           "Suriname"
          ],
          [
           "Asia",
           "Tajikistan"
          ],
          [
           "Africa",
           "Togo"
          ],
          [
           "North America",
           "Trinidad and Tobago"
          ],
          [
           "Asia",
           "Turkmenistan"
          ],
          [
           "Africa",
           "Uganda"
          ],
          [
           "Asia",
           "Uzbekistan"
          ]
         ],
         "hovertemplate": "Year=2006<br>Sex=_T<br>% Completing Primary Ed=%{x}<br>Maternal deaths/100K live births=%{y}<br>GDP per capita=%{marker.size}<br>Continent=%{customdata[0]}<br>Country=%{customdata[1]}<br>Life Expectancy (years)=%{marker.color}<extra></extra>",
         "legendgroup": "",
         "marker": {
          "color": [
           72.716,
           69.259,
           68.213,
           70.286,
           57.817,
           65.853,
           75.342,
           72.26,
           54.063,
           53.215,
           77.865,
           78.239,
           71.041,
           74.319,
           70.333,
           42.733,
           58.313,
           59.234,
           70.082,
           52.691,
           66.972,
           72.285,
           64.918,
           68.157,
           66.15,
           67.6951219512195,
           49.118,
           52.839,
           75.296,
           65.538,
           54.18,
           76.06,
           71.862,
           73.222,
           74.904,
           69.227,
           66.771,
           55.052,
           70.952,
           65.354,
           52.784,
           68.676
          ],
          "coloraxis": "coloraxis",
          "size": [
           8464.46855827733,
           9605.09610840819,
           2399.08200601731,
           7431.40892856573,
           2606.81617978405,
           5920.71166230972,
           9888.4465067144,
           12917.9168849667,
           1574.72978048784,
           3002.13521299317,
           19664.9960674424,
           14727.059051568,
           11087.4759487139,
           9757.37163256092,
           7136.8417603354,
           6906.58443971881,
           2137.81718540257,
           3207.53153952901,
           6973.03272002819,
           1675.77139557957,
           8371.87268005484,
           4733.54600929301,
           3446.75674622652,
           8137.45569996789,
           18112.7787011954,
           3588.0899177681,
           794.908810441122,
           1983.70555095442,
           18379.5267568773,
           6305.8182724406,
           981.158045183196,
           17394.3882205425,
           8845.11089761096,
           8017.25473629249,
           7419.41553371741,
           14969.9330334428,
           1909.26104271471,
           1185.37863323842,
           27552.3779238423,
           6174.74444680973,
           1588.77506313767,
           3614.57737070251
          ],
          "sizemode": "area",
          "sizeref": 240.65415667076775,
          "symbol": "circle"
         },
         "mode": "markers",
         "name": "",
         "orientation": "v",
         "showlegend": false,
         "type": "scatter",
         "x": [
          99.45461,
          97.9422,
          72.71964,
          89.04,
          49.21066,
          87.5,
          99.2,
          94.1,
          29.65006,
          61.62055,
          96.23,
          89.83,
          82.34,
          93.96,
          78.09,
          64.66643,
          58.51086,
          70.33,
          62.43,
          26.18,
          93.74358,
          75.64,
          78.45651,
          59.63,
          99.47465,
          99.59791,
          43.7,
          29.03357,
          94.39,
          95.25747,
          16.84693,
          91.47,
          84.32,
          91.09,
          98.37743,
          79.77,
          97.45866,
          60.79055,
          97.54,
          99.65,
          30.37211,
          100
         ],
         "xaxis": "x27",
         "y": [
          36,
          35,
          315,
          65,
          493,
          258,
          13,
          72,
          422,
          658,
          25,
          35,
          86,
          90,
          60,
          518,
          716,
          359,
          137,
          912,
          221,
          77,
          270,
          158,
          40,
          85,
          566,
          675,
          51,
          91,
          739,
          88,
          130,
          114,
          47,
          165,
          29,
          482,
          73,
          18,
          473,
          37
         ],
         "yaxis": "y27"
        },
        {
         "customdata": [
          [
           "Asia",
           "Bangladesh"
          ],
          [
           "South America",
           "Bolivia"
          ],
          [
           "South America",
           "Brazil"
          ],
          [
           "North America",
           "Costa Rica"
          ],
          [
           "Africa",
           "Dem. Rep. Congo"
          ],
          [
           "North America",
           "Dominican Republic"
          ],
          [
           "South America",
           "Ecuador"
          ],
          [
           "North America",
           "El Salvador"
          ],
          [
           "Africa",
           "Ethiopia"
          ],
          [
           "Oceania",
           "Fiji"
          ],
          [
           "Asia",
           "Jordan"
          ],
          [
           "Africa",
           "Liberia"
          ],
          [
           "Africa",
           "Mauritania"
          ],
          [
           "Africa",
           "Namibia"
          ],
          [
           "Asia",
           "Nepal"
          ],
          [
           "Africa",
           "Nigeria"
          ],
          [
           "Asia",
           "Pakistan"
          ],
          [
           "North America",
           "Panama"
          ],
          [
           "South America",
           "Paraguay"
          ],
          [
           "South America",
           "Peru"
          ],
          [
           "Europe",
           "Ukraine"
          ],
          [
           "Oceania",
           "Vanuatu"
          ],
          [
           "Africa",
           "Zambia"
          ]
         ],
         "hovertemplate": "Year=2007<br>Sex=F<br>% Completing Primary Ed=%{x}<br>Maternal deaths/100K live births=%{y}<br>GDP per capita=%{marker.size}<br>Continent=%{customdata[0]}<br>Country=%{customdata[1]}<br>Life Expectancy (years)=%{marker.color}<extra></extra>",
         "legendgroup": "",
         "marker": {
          "color": [
           68.648,
           66.395,
           72.618,
           78.362,
           55.091,
           71.304,
           74.514,
           70.542,
           58.467,
           66.413,
           72.931,
           57.365,
           61.776,
           52.593,
           66.26,
           49.373,
           64.42,
           76.234,
           72.055,
           73.528,
           68.2221951219512,
           68.672,
           51.134
          ],
          "coloraxis": "coloraxis",
          "size": [
           2537.11128648662,
           6085.38581122278,
           13560.5451000637,
           15715.7870386888,
           817.069654396242,
           11756.4603275413,
           9805.6491552277,
           7238.18319271428,
           1008.1352604279,
           10573.5536606147,
           11399.9837156371,
           1333.42222339949,
           5080.63793673467,
           8597.63252452035,
           2075.25132358654,
           4288.27013112096,
           3931.17580823604,
           19129.1947746445,
           9192.186584923,
           8629.26392430597,
           12829.03064807,
           3119.88896479179,
           2619.72136960841
          ],
          "sizemode": "area",
          "sizeref": 240.65415667076775,
          "symbol": "circle"
         },
         "mode": "markers",
         "name": "",
         "orientation": "v",
         "showlegend": false,
         "type": "scatter",
         "x": [
          72.13,
          90.51,
          95.44,
          93.39,
          45.55529,
          89.74998,
          93.6,
          79.30216,
          25.37453,
          99.38499,
          97.96541,
          20.80478,
          34.82819,
          84.73734,
          58.81388,
          62.59198,
          50.41761,
          93.86,
          90.74,
          91.45,
          99.80467,
          84.54523,
          63.03379
         ],
         "xaxis": "x22",
         "y": [
          297,
          246,
          71,
          29,
          578,
          90,
          85,
          58,
          731,
          43,
          56,
          754,
          820,
          306,
          361,
          1010,
          214,
          86,
          124,
          112,
          33,
          103,
          387
         ],
         "yaxis": "y22"
        },
        {
         "customdata": [
          [
           "Asia",
           "Bangladesh"
          ],
          [
           "South America",
           "Bolivia"
          ],
          [
           "South America",
           "Brazil"
          ],
          [
           "North America",
           "Costa Rica"
          ],
          [
           "Africa",
           "Dem. Rep. Congo"
          ],
          [
           "North America",
           "Dominican Republic"
          ],
          [
           "South America",
           "Ecuador"
          ],
          [
           "North America",
           "El Salvador"
          ],
          [
           "Africa",
           "Ethiopia"
          ],
          [
           "Oceania",
           "Fiji"
          ],
          [
           "Asia",
           "Jordan"
          ],
          [
           "Africa",
           "Liberia"
          ],
          [
           "Africa",
           "Mauritania"
          ],
          [
           "Africa",
           "Namibia"
          ],
          [
           "Asia",
           "Nepal"
          ],
          [
           "Africa",
           "Nigeria"
          ],
          [
           "Asia",
           "Pakistan"
          ],
          [
           "North America",
           "Panama"
          ],
          [
           "South America",
           "Paraguay"
          ],
          [
           "South America",
           "Peru"
          ],
          [
           "Europe",
           "Ukraine"
          ],
          [
           "Oceania",
           "Vanuatu"
          ],
          [
           "Africa",
           "Zambia"
          ]
         ],
         "hovertemplate": "Year=2007<br>Sex=M<br>% Completing Primary Ed=%{x}<br>Maternal deaths/100K live births=%{y}<br>GDP per capita=%{marker.size}<br>Continent=%{customdata[0]}<br>Country=%{customdata[1]}<br>Life Expectancy (years)=%{marker.color}<extra></extra>",
         "legendgroup": "",
         "marker": {
          "color": [
           68.648,
           66.395,
           72.618,
           78.362,
           55.091,
           71.304,
           74.514,
           70.542,
           58.467,
           66.413,
           72.931,
           57.365,
           61.776,
           52.593,
           66.26,
           49.373,
           64.42,
           76.234,
           72.055,
           73.528,
           68.2221951219512,
           68.672,
           51.134
          ],
          "coloraxis": "coloraxis",
          "size": [
           2537.11128648662,
           6085.38581122278,
           13560.5451000637,
           15715.7870386888,
           817.069654396242,
           11756.4603275413,
           9805.6491552277,
           7238.18319271428,
           1008.1352604279,
           10573.5536606147,
           11399.9837156371,
           1333.42222339949,
           5080.63793673467,
           8597.63252452035,
           2075.25132358654,
           4288.27013112096,
           3931.17580823604,
           19129.1947746445,
           9192.186584923,
           8629.26392430597,
           12829.03064807,
           3119.88896479179,
           2619.72136960841
          ],
          "sizemode": "area",
          "sizeref": 240.65415667076775,
          "symbol": "circle"
         },
         "mode": "markers",
         "name": "",
         "orientation": "v",
         "showlegend": false,
         "type": "scatter",
         "x": [
          61.97,
          92.03,
          92.08,
          88.56,
          50.23956,
          79.17185,
          92.44,
          76.20995,
          27.67989,
          98.14465,
          97.09731,
          20.34787,
          42.40934,
          72.78354,
          68.95041,
          57.8292,
          60.10507,
          91.47,
          82.57,
          92.26,
          99.67827,
          78.03834,
          60.18428
         ],
         "xaxis": "x23",
         "y": [
          297,
          246,
          71,
          29,
          578,
          90,
          85,
          58,
          731,
          43,
          56,
          754,
          820,
          306,
          361,
          1010,
          214,
          86,
          124,
          112,
          33,
          103,
          387
         ],
         "yaxis": "y23"
        },
        {
         "customdata": [
          [
           "Asia",
           "Bangladesh"
          ],
          [
           "South America",
           "Bolivia"
          ],
          [
           "South America",
           "Brazil"
          ],
          [
           "North America",
           "Costa Rica"
          ],
          [
           "Africa",
           "Dem. Rep. Congo"
          ],
          [
           "North America",
           "Dominican Republic"
          ],
          [
           "South America",
           "Ecuador"
          ],
          [
           "North America",
           "El Salvador"
          ],
          [
           "Africa",
           "Ethiopia"
          ],
          [
           "Oceania",
           "Fiji"
          ],
          [
           "Asia",
           "Jordan"
          ],
          [
           "Africa",
           "Liberia"
          ],
          [
           "Africa",
           "Mauritania"
          ],
          [
           "Africa",
           "Namibia"
          ],
          [
           "Asia",
           "Nepal"
          ],
          [
           "Africa",
           "Nigeria"
          ],
          [
           "Asia",
           "Pakistan"
          ],
          [
           "North America",
           "Panama"
          ],
          [
           "South America",
           "Paraguay"
          ],
          [
           "South America",
           "Peru"
          ],
          [
           "Europe",
           "Ukraine"
          ],
          [
           "Oceania",
           "Vanuatu"
          ],
          [
           "Africa",
           "Zambia"
          ]
         ],
         "hovertemplate": "Year=2007<br>Sex=_T<br>% Completing Primary Ed=%{x}<br>Maternal deaths/100K live births=%{y}<br>GDP per capita=%{marker.size}<br>Continent=%{customdata[0]}<br>Country=%{customdata[1]}<br>Life Expectancy (years)=%{marker.color}<extra></extra>",
         "legendgroup": "",
         "marker": {
          "color": [
           68.648,
           66.395,
           72.618,
           78.362,
           55.091,
           71.304,
           74.514,
           70.542,
           58.467,
           66.413,
           72.931,
           57.365,
           61.776,
           52.593,
           66.26,
           49.373,
           64.42,
           76.234,
           72.055,
           73.528,
           68.2221951219512,
           68.672,
           51.134
          ],
          "coloraxis": "coloraxis",
          "size": [
           2537.11128648662,
           6085.38581122278,
           13560.5451000637,
           15715.7870386888,
           817.069654396242,
           11756.4603275413,
           9805.6491552277,
           7238.18319271428,
           1008.1352604279,
           10573.5536606147,
           11399.9837156371,
           1333.42222339949,
           5080.63793673467,
           8597.63252452035,
           2075.25132358654,
           4288.27013112096,
           3931.17580823604,
           19129.1947746445,
           9192.186584923,
           8629.26392430597,
           12829.03064807,
           3119.88896479179,
           2619.72136960841
          ],
          "sizemode": "area",
          "sizeref": 240.65415667076775,
          "symbol": "circle"
         },
         "mode": "markers",
         "name": "",
         "orientation": "v",
         "showlegend": false,
         "type": "scatter",
         "x": [
          67.33,
          91.25,
          93.74,
          90.92,
          48.03712,
          84.46191,
          93.02,
          77.74447,
          26.56874,
          98.74016,
          97.53316,
          20.58196,
          38.31021,
          79.11877,
          63.63037,
          60.05056,
          55.18705,
          92.63,
          86.66,
          91.86,
          99.74104,
          81.09148,
          61.62223
         ],
         "xaxis": "x24",
         "y": [
          297,
          246,
          71,
          29,
          578,
          90,
          85,
          58,
          731,
          43,
          56,
          754,
          820,
          306,
          361,
          1010,
          214,
          86,
          124,
          112,
          33,
          103,
          387
         ],
         "yaxis": "y24"
        },
        {
         "customdata": [
          [
           "South America",
           "Bolivia"
          ],
          [
           "South America",
           "Brazil"
          ],
          [
           "Asia",
           "Cambodia"
          ],
          [
           "South America",
           "Colombia"
          ],
          [
           "North America",
           "Costa Rica"
          ],
          [
           "North America",
           "Dominican Republic"
          ],
          [
           "South America",
           "Ecuador"
          ],
          [
           "Asia",
           "Indonesia"
          ],
          [
           "Africa",
           "Kenya"
          ],
          [
           "Africa",
           "Liberia"
          ],
          [
           "Africa",
           "Malawi"
          ],
          [
           "Asia",
           "Maldives"
          ],
          [
           "North America",
           "Mexico"
          ],
          [
           "Africa",
           "Mozambique"
          ],
          [
           "Africa",
           "Nigeria"
          ],
          [
           "North America",
           "Panama"
          ],
          [
           "South America",
           "Paraguay"
          ],
          [
           "South America",
           "Peru"
          ],
          [
           "Asia",
           "Philippines"
          ],
          [
           "Africa",
           "Sierra Leone"
          ],
          [
           "South America",
           "Uruguay"
          ]
         ],
         "hovertemplate": "Year=2008<br>Sex=F<br>% Completing Primary Ed=%{x}<br>Maternal deaths/100K live births=%{y}<br>GDP per capita=%{marker.size}<br>Continent=%{customdata[0]}<br>Country=%{customdata[1]}<br>Life Expectancy (years)=%{marker.color}<extra></extra>",
         "legendgroup": "",
         "marker": {
          "color": [
           66.937,
           72.966,
           65.394,
           74.962,
           78.491,
           71.559,
           74.705,
           68.485,
           58.76,
           58.229,
           52.206,
           75.073,
           75.194,
           51.292,
           49.913,
           76.414,
           72.251,
           73.826,
           69.515,
           47.508,
           76.437
          ],
          "coloraxis": "coloraxis",
          "size": [
           6351.22816631302,
           14110.3451381369,
           2640.63181862819,
           11431.9631032354,
           16230.9479607969,
           11980.8445302345,
           10257.4003390408,
           7657.59449160514,
           3140.61314994048,
           1370.90895345958,
           886.258715205968,
           17448.780425206,
           18457.1134264157,
           958.283424091559,
           4458.6222651729,
           20640.7992376114,
           9643.50266882963,
           9341.23233510004,
           5618.48507654185,
           1360.16021115681,
           15851.7967534658
          ],
          "sizemode": "area",
          "sizeref": 240.65415667076775,
          "symbol": "circle"
         },
         "mode": "markers",
         "name": "",
         "orientation": "v",
         "showlegend": false,
         "type": "scatter",
         "x": [
          91.09719,
          96.03,
          62.91756,
          92.02,
          93.83,
          89.34,
          94.79,
          94.33696,
          81.89836,
          25.50476,
          52.33643,
          98.26377,
          95.44,
          32.38988,
          68.32176,
          93.76,
          89.5,
          92.5,
          89.75,
          46.57959,
          96.6
         ],
         "xaxis": "x19",
         "y": [
          234,
          70,
          284,
          84,
          29,
          92,
          82,
          239,
          513,
          738,
          493,
          72,
          49,
          471,
          996,
          84,
          118,
          108,
          148,
          1530,
          19
         ],
         "yaxis": "y19"
        },
        {
         "customdata": [
          [
           "South America",
           "Bolivia"
          ],
          [
           "South America",
           "Brazil"
          ],
          [
           "Asia",
           "Cambodia"
          ],
          [
           "South America",
           "Colombia"
          ],
          [
           "North America",
           "Costa Rica"
          ],
          [
           "North America",
           "Dominican Republic"
          ],
          [
           "South America",
           "Ecuador"
          ],
          [
           "Asia",
           "Indonesia"
          ],
          [
           "Africa",
           "Kenya"
          ],
          [
           "Africa",
           "Liberia"
          ],
          [
           "Africa",
           "Malawi"
          ],
          [
           "Asia",
           "Maldives"
          ],
          [
           "North America",
           "Mexico"
          ],
          [
           "Africa",
           "Mozambique"
          ],
          [
           "Africa",
           "Nigeria"
          ],
          [
           "North America",
           "Panama"
          ],
          [
           "South America",
           "Paraguay"
          ],
          [
           "South America",
           "Peru"
          ],
          [
           "Asia",
           "Philippines"
          ],
          [
           "Africa",
           "Sierra Leone"
          ],
          [
           "South America",
           "Uruguay"
          ]
         ],
         "hovertemplate": "Year=2008<br>Sex=M<br>% Completing Primary Ed=%{x}<br>Maternal deaths/100K live births=%{y}<br>GDP per capita=%{marker.size}<br>Continent=%{customdata[0]}<br>Country=%{customdata[1]}<br>Life Expectancy (years)=%{marker.color}<extra></extra>",
         "legendgroup": "",
         "marker": {
          "color": [
           66.937,
           72.966,
           65.394,
           74.962,
           78.491,
           71.559,
           74.705,
           68.485,
           58.76,
           58.229,
           52.206,
           75.073,
           75.194,
           51.292,
           49.913,
           76.414,
           72.251,
           73.826,
           69.515,
           47.508,
           76.437
          ],
          "coloraxis": "coloraxis",
          "size": [
           6351.22816631302,
           14110.3451381369,
           2640.63181862819,
           11431.9631032354,
           16230.9479607969,
           11980.8445302345,
           10257.4003390408,
           7657.59449160514,
           3140.61314994048,
           1370.90895345958,
           886.258715205968,
           17448.780425206,
           18457.1134264157,
           958.283424091559,
           4458.6222651729,
           20640.7992376114,
           9643.50266882963,
           9341.23233510004,
           5618.48507654185,
           1360.16021115681,
           15851.7967534658
          ],
          "sizemode": "area",
          "sizeref": 240.65415667076775,
          "symbol": "circle"
         },
         "mode": "markers",
         "name": "",
         "orientation": "v",
         "showlegend": false,
         "type": "scatter",
         "x": [
          92.13539,
          92.26,
          60.09016,
          86.84,
          88.74,
          80.26,
          93.82,
          91.50518,
          74.97364,
          25.18382,
          46.833,
          95.25517,
          94.61,
          36.05192,
          71.41012,
          91.03,
          85.19,
          92.51,
          79.93,
          49.01403,
          93.28
         ],
         "xaxis": "x20",
         "y": [
          234,
          70,
          284,
          84,
          29,
          92,
          82,
          239,
          513,
          738,
          493,
          72,
          49,
          471,
          996,
          84,
          118,
          108,
          148,
          1530,
          19
         ],
         "yaxis": "y20"
        },
        {
         "customdata": [
          [
           "South America",
           "Bolivia"
          ],
          [
           "South America",
           "Brazil"
          ],
          [
           "Asia",
           "Cambodia"
          ],
          [
           "South America",
           "Colombia"
          ],
          [
           "North America",
           "Costa Rica"
          ],
          [
           "North America",
           "Dominican Republic"
          ],
          [
           "South America",
           "Ecuador"
          ],
          [
           "Asia",
           "Indonesia"
          ],
          [
           "Africa",
           "Kenya"
          ],
          [
           "Africa",
           "Liberia"
          ],
          [
           "Africa",
           "Malawi"
          ],
          [
           "Asia",
           "Maldives"
          ],
          [
           "North America",
           "Mexico"
          ],
          [
           "Africa",
           "Mozambique"
          ],
          [
           "Africa",
           "Nigeria"
          ],
          [
           "North America",
           "Panama"
          ],
          [
           "South America",
           "Paraguay"
          ],
          [
           "South America",
           "Peru"
          ],
          [
           "Asia",
           "Philippines"
          ],
          [
           "Africa",
           "Sierra Leone"
          ],
          [
           "South America",
           "Uruguay"
          ]
         ],
         "hovertemplate": "Year=2008<br>Sex=_T<br>% Completing Primary Ed=%{x}<br>Maternal deaths/100K live births=%{y}<br>GDP per capita=%{marker.size}<br>Continent=%{customdata[0]}<br>Country=%{customdata[1]}<br>Life Expectancy (years)=%{marker.color}<extra></extra>",
         "legendgroup": "",
         "marker": {
          "color": [
           66.937,
           72.966,
           65.394,
           74.962,
           78.491,
           71.559,
           74.705,
           68.485,
           58.76,
           58.229,
           52.206,
           75.073,
           75.194,
           51.292,
           49.913,
           76.414,
           72.251,
           73.826,
           69.515,
           47.508,
           76.437
          ],
          "coloraxis": "coloraxis",
          "size": [
           6351.22816631302,
           14110.3451381369,
           2640.63181862819,
           11431.9631032354,
           16230.9479607969,
           11980.8445302345,
           10257.4003390408,
           7657.59449160514,
           3140.61314994048,
           1370.90895345958,
           886.258715205968,
           17448.780425206,
           18457.1134264157,
           958.283424091559,
           4458.6222651729,
           20640.7992376114,
           9643.50266882963,
           9341.23233510004,
           5618.48507654185,
           1360.16021115681,
           15851.7967534658
          ],
          "sizemode": "area",
          "sizeref": 240.65415667076775,
          "symbol": "circle"
         },
         "mode": "markers",
         "name": "",
         "orientation": "v",
         "showlegend": false,
         "type": "scatter",
         "x": [
          91.62762,
          94.11,
          61.45166,
          89.24,
          91.16,
          84.52,
          94.3,
          92.85294,
          78.43454,
          25.34068,
          49.6089,
          96.78337,
          95.01,
          34.25783,
          69.88569,
          92.35,
          87.35,
          92.5,
          84.73,
          47.94634,
          94.85
         ],
         "xaxis": "x21",
         "y": [
          234,
          70,
          284,
          84,
          29,
          92,
          82,
          239,
          513,
          738,
          493,
          72,
          49,
          471,
          996,
          84,
          118,
          108,
          148,
          1530,
          19
         ],
         "yaxis": "y21"
        },
        {
         "customdata": [
          [
           "Europe",
           "Albania"
          ],
          [
           "South America",
           "Bolivia"
          ],
          [
           "South America",
           "Brazil"
          ],
          [
           "South America",
           "Chile"
          ],
          [
           "South America",
           "Colombia"
          ],
          [
           "North America",
           "Costa Rica"
          ],
          [
           "North America",
           "Dominican Republic"
          ],
          [
           "South America",
           "Ecuador"
          ],
          [
           "Africa",
           "Egypt"
          ],
          [
           "North America",
           "El Salvador"
          ],
          [
           "Africa",
           "Ghana"
          ],
          [
           "South America",
           "Guyana"
          ],
          [
           "North America",
           "Honduras"
          ],
          [
           "Africa",
           "Kenya"
          ],
          [
           "Africa",
           "Lesotho"
          ],
          [
           "Africa",
           "Madagascar"
          ],
          [
           "Africa",
           "Mali"
          ],
          [
           "North America",
           "Nicaragua"
          ],
          [
           "North America",
           "Panama"
          ],
          [
           "South America",
           "Paraguay"
          ],
          [
           "South America",
           "Peru"
          ],
          [
           "Asia",
           "Timor-Leste"
          ],
          [
           "South America",
           "Uruguay"
          ],
          [
           "Africa",
           "Zimbabwe"
          ]
         ],
         "hovertemplate": "Year=2009<br>Sex=F<br>% Completing Primary Ed=%{x}<br>Maternal deaths/100K live births=%{y}<br>GDP per capita=%{marker.size}<br>Continent=%{customdata[0]}<br>Country=%{customdata[1]}<br>Life Expectancy (years)=%{marker.color}<extra></extra>",
         "legendgroup": "",
         "marker": {
          "color": [
           76.221,
           67.476,
           73.3,
           78.558,
           75.193,
           78.626,
           71.806,
           74.895,
           70.159,
           70.978,
           60.645,
           67.792,
           73.061,
           59.932,
           44.146,
           62.944,
           54.756,
           72.167,
           76.6,
           72.45,
           74.12,
           66.796,
           76.603,
           48.449
          ],
          "coloraxis": "coloraxis",
          "size": [
           10346.8641994918,
           6455.97424355548,
           13957.6791202509,
           20361.7147945387,
           11434.331033923,
           15868.5695581522,
           11944.3468825769,
           10148.8577047785,
           10031.03184281,
           7208.14502971999,
           3546.22994629174,
           9443.8083393282,
           4787.86668814549,
           3156.43729699421,
           2261.5063065251,
           1587.56688082356,
           2041.32993756915,
           4477.40706051656,
           20529.4710206573,
           9489.61268377035,
           9368.04806561569,
           2724.7709726455,
           16477.8238595598,
           1925.36438145205
          ],
          "sizemode": "area",
          "sizeref": 240.65415667076775,
          "symbol": "circle"
         },
         "mode": "markers",
         "name": "",
         "orientation": "v",
         "showlegend": false,
         "type": "scatter",
         "x": [
          97.92196,
          91.36,
          96.35,
          97.34,
          92.01,
          94.29,
          92.13,
          95.67,
          85.96619,
          83.27,
          65.91478,
          94.37069,
          81.6,
          63.32244,
          79.2668,
          42.62056,
          24.51903,
          73.12,
          93.82,
          89.57,
          92.13,
          63.75805,
          97.67,
          90.02
         ],
         "xaxis": "x16",
         "y": [
          20,
          222,
          69,
          21,
          87,
          29,
          95,
          80,
          45,
          57,
          339,
          185,
          75,
          472,
          607,
          474,
          661,
          113,
          82,
          113,
          106,
          242,
          19,
          632
         ],
         "yaxis": "y16"
        },
        {
         "customdata": [
          [
           "Europe",
           "Albania"
          ],
          [
           "South America",
           "Bolivia"
          ],
          [
           "South America",
           "Brazil"
          ],
          [
           "South America",
           "Chile"
          ],
          [
           "South America",
           "Colombia"
          ],
          [
           "North America",
           "Costa Rica"
          ],
          [
           "North America",
           "Dominican Republic"
          ],
          [
           "South America",
           "Ecuador"
          ],
          [
           "Africa",
           "Egypt"
          ],
          [
           "North America",
           "El Salvador"
          ],
          [
           "Africa",
           "Ghana"
          ],
          [
           "South America",
           "Guyana"
          ],
          [
           "North America",
           "Honduras"
          ],
          [
           "Africa",
           "Kenya"
          ],
          [
           "Africa",
           "Lesotho"
          ],
          [
           "Africa",
           "Madagascar"
          ],
          [
           "Africa",
           "Mali"
          ],
          [
           "North America",
           "Nicaragua"
          ],
          [
           "North America",
           "Panama"
          ],
          [
           "South America",
           "Paraguay"
          ],
          [
           "South America",
           "Peru"
          ],
          [
           "Asia",
           "Timor-Leste"
          ],
          [
           "South America",
           "Uruguay"
          ],
          [
           "Africa",
           "Zimbabwe"
          ]
         ],
         "hovertemplate": "Year=2009<br>Sex=M<br>% Completing Primary Ed=%{x}<br>Maternal deaths/100K live births=%{y}<br>GDP per capita=%{marker.size}<br>Continent=%{customdata[0]}<br>Country=%{customdata[1]}<br>Life Expectancy (years)=%{marker.color}<extra></extra>",
         "legendgroup": "",
         "marker": {
          "color": [
           76.221,
           67.476,
           73.3,
           78.558,
           75.193,
           78.626,
           71.806,
           74.895,
           70.159,
           70.978,
           60.645,
           67.792,
           73.061,
           59.932,
           44.146,
           62.944,
           54.756,
           72.167,
           76.6,
           72.45,
           74.12,
           66.796,
           76.603,
           48.449
          ],
          "coloraxis": "coloraxis",
          "size": [
           10346.8641994918,
           6455.97424355548,
           13957.6791202509,
           20361.7147945387,
           11434.331033923,
           15868.5695581522,
           11944.3468825769,
           10148.8577047785,
           10031.03184281,
           7208.14502971999,
           3546.22994629174,
           9443.8083393282,
           4787.86668814549,
           3156.43729699421,
           2261.5063065251,
           1587.56688082356,
           2041.32993756915,
           4477.40706051656,
           20529.4710206573,
           9489.61268377035,
           9368.04806561569,
           2724.7709726455,
           16477.8238595598,
           1925.36438145205
          ],
          "sizemode": "area",
          "sizeref": 240.65415667076775,
          "symbol": "circle"
         },
         "mode": "markers",
         "name": "",
         "orientation": "v",
         "showlegend": false,
         "type": "scatter",
         "x": [
          98.46702,
          93.64,
          92.59,
          95.9,
          87.33,
          89.97,
          78.88,
          94.42,
          85.22144,
          79.13,
          64.33082,
          95.92356,
          75.39,
          55.21893,
          49.36929,
          35.42523,
          36.36087,
          60.32,
          91.78,
          85.64,
          92.6,
          56.55429,
          95.04,
          81.89
         ],
         "xaxis": "x17",
         "y": [
          20,
          222,
          69,
          21,
          87,
          29,
          95,
          80,
          45,
          57,
          339,
          185,
          75,
          472,
          607,
          474,
          661,
          113,
          82,
          113,
          106,
          242,
          19,
          632
         ],
         "yaxis": "y17"
        },
        {
         "customdata": [
          [
           "Europe",
           "Albania"
          ],
          [
           "South America",
           "Bolivia"
          ],
          [
           "South America",
           "Brazil"
          ],
          [
           "South America",
           "Chile"
          ],
          [
           "South America",
           "Colombia"
          ],
          [
           "North America",
           "Costa Rica"
          ],
          [
           "North America",
           "Dominican Republic"
          ],
          [
           "South America",
           "Ecuador"
          ],
          [
           "Africa",
           "Egypt"
          ],
          [
           "North America",
           "El Salvador"
          ],
          [
           "Africa",
           "Ghana"
          ],
          [
           "South America",
           "Guyana"
          ],
          [
           "North America",
           "Honduras"
          ],
          [
           "Africa",
           "Kenya"
          ],
          [
           "Africa",
           "Lesotho"
          ],
          [
           "Africa",
           "Madagascar"
          ],
          [
           "Africa",
           "Mali"
          ],
          [
           "North America",
           "Nicaragua"
          ],
          [
           "North America",
           "Panama"
          ],
          [
           "South America",
           "Paraguay"
          ],
          [
           "South America",
           "Peru"
          ],
          [
           "Asia",
           "Timor-Leste"
          ],
          [
           "South America",
           "Uruguay"
          ],
          [
           "Africa",
           "Zimbabwe"
          ]
         ],
         "hovertemplate": "Year=2009<br>Sex=_T<br>% Completing Primary Ed=%{x}<br>Maternal deaths/100K live births=%{y}<br>GDP per capita=%{marker.size}<br>Continent=%{customdata[0]}<br>Country=%{customdata[1]}<br>Life Expectancy (years)=%{marker.color}<extra></extra>",
         "legendgroup": "",
         "marker": {
          "color": [
           76.221,
           67.476,
           73.3,
           78.558,
           75.193,
           78.626,
           71.806,
           74.895,
           70.159,
           70.978,
           60.645,
           67.792,
           73.061,
           59.932,
           44.146,
           62.944,
           54.756,
           72.167,
           76.6,
           72.45,
           74.12,
           66.796,
           76.603,
           48.449
          ],
          "coloraxis": "coloraxis",
          "size": [
           10346.8641994918,
           6455.97424355548,
           13957.6791202509,
           20361.7147945387,
           11434.331033923,
           15868.5695581522,
           11944.3468825769,
           10148.8577047785,
           10031.03184281,
           7208.14502971999,
           3546.22994629174,
           9443.8083393282,
           4787.86668814549,
           3156.43729699421,
           2261.5063065251,
           1587.56688082356,
           2041.32993756915,
           4477.40706051656,
           20529.4710206573,
           9489.61268377035,
           9368.04806561569,
           2724.7709726455,
           16477.8238595598,
           1925.36438145205
          ],
          "sizemode": "area",
          "sizeref": 240.65415667076775,
          "symbol": "circle"
         },
         "mode": "markers",
         "name": "",
         "orientation": "v",
         "showlegend": false,
         "type": "scatter",
         "x": [
          98.19074,
          92.57,
          94.44,
          96.59,
          89.5,
          91.95,
          85.17,
          95.03,
          85.58102,
          81.15,
          65.12708,
          95.11632,
          78.46,
          59.18861,
          64.10123,
          38.96172,
          30.30532,
          66.47,
          92.79,
          87.42,
          92.37,
          60.06091,
          96.34,
          85.83
         ],
         "xaxis": "x18",
         "y": [
          20,
          222,
          69,
          21,
          87,
          29,
          95,
          80,
          45,
          57,
          339,
          185,
          75,
          472,
          607,
          474,
          661,
          113,
          82,
          113,
          106,
          242,
          19,
          632
         ],
         "yaxis": "y18"
        },
        {
         "customdata": [
          [
           "South America",
           "Argentina"
          ],
          [
           "Asia",
           "Bhutan"
          ],
          [
           "Africa",
           "Burkina Faso"
          ],
          [
           "Africa",
           "Burundi"
          ],
          [
           "Asia",
           "Cambodia"
          ],
          [
           "Africa",
           "Chad"
          ],
          [
           "Asia",
           "China"
          ],
          [
           "South America",
           "Colombia"
          ],
          [
           "North America",
           "Costa Rica"
          ],
          [
           "Africa",
           "Dem. Rep. Congo"
          ],
          [
           "North America",
           "Dominican Republic"
          ],
          [
           "South America",
           "Ecuador"
          ],
          [
           "North America",
           "El Salvador"
          ],
          [
           "Africa",
           "Eswatini"
          ],
          [
           "Africa",
           "Gambia"
          ],
          [
           "Africa",
           "Ghana"
          ],
          [
           "North America",
           "Honduras"
          ],
          [
           "Africa",
           "Malawi"
          ],
          [
           "Africa",
           "Mali"
          ],
          [
           "North America",
           "Mexico"
          ],
          [
           "Asia",
           "Mongolia"
          ],
          [
           "Africa",
           "Nigeria"
          ],
          [
           "North America",
           "Panama"
          ],
          [
           "South America",
           "Paraguay"
          ],
          [
           "South America",
           "Peru"
          ],
          [
           "Asia",
           "Philippines"
          ],
          [
           "North America",
           "Puerto Rico"
          ],
          [
           "Africa",
           "Rwanda"
          ],
          [
           "Africa",
           "Sierra Leone"
          ],
          [
           "Africa",
           "Sudan"
          ],
          [
           "South America",
           "Suriname"
          ],
          [
           "Africa",
           "Togo"
          ],
          [
           "South America",
           "Uruguay"
          ],
          [
           "Africa",
           "Zambia"
          ],
          [
           "Africa",
           "Zimbabwe"
          ]
         ],
         "hovertemplate": "Year=2010<br>Sex=F<br>% Completing Primary Ed=%{x}<br>Maternal deaths/100K live births=%{y}<br>GDP per capita=%{marker.size}<br>Continent=%{customdata[0]}<br>Country=%{customdata[1]}<br>Life Expectancy (years)=%{marker.color}<extra></extra>",
         "legendgroup": "",
         "marker": {
          "color": [
           75.278,
           68.384,
           57.096,
           57.228,
           66.56,
           50.89,
           74.409,
           75.424,
           78.769,
           56.909,
           72.046,
           75.089,
           71.21,
           46.601,
           59.637,
           61.03,
           73.317,
           55.564,
           55.251,
           75.065,
           67.38,
           50.896,
           76.792,
           72.653,
           74.41,
           69.823,
           78.4190975609756,
           63.433,
           49.382,
           62.764,
           70.465,
           57.468,
           76.75,
           55.655,
           50.64
          ],
          "coloraxis": "coloraxis",
          "size": [
           23521.2701763288,
           8190.56427451825,
           1716.35766288052,
           846.169526927269,
           2716.69840884516,
           1732.69129415445,
           8884.58803122452,
           11823.3879357365,
           16448.2874784145,
           865.684026812839,
           12782.4518985839,
           10340.9682305541,
           7328.71321626195,
           7459.25599579237,
           2346.72440487282,
           3732.38206331236,
           4866.97217562037,
           968.779611645394,
           2082.96179622555,
           17848.3249422511,
           7479.79740248469,
           4932.33498667095,
           21347.3327494385,
           10405.2309409429,
           10066.4696472131,
           5918.37348075447,
           32960.6911054053,
           1507.16501035777,
           1413.56417680838,
           3217.76676555225,
           16953.8034242653,
           1224.97842819758,
           17712.8969892031,
           3125.52930813716,
           2273.20007326702
          ],
          "sizemode": "area",
          "sizeref": 240.65415667076775,
          "symbol": "circle"
         },
         "mode": "markers",
         "name": "",
         "orientation": "v",
         "showlegend": false,
         "type": "scatter",
         "x": [
          93.81141,
          70.03057,
          29.51919,
          38.41388,
          72.16656,
          23.18,
          97.09,
          93.27485,
          93.42,
          42.67512,
          91.33,
          96.56,
          84.25,
          73.75092,
          61.12356,
          65.26145,
          83.93,
          58.4648,
          29.39,
          96.72,
          97.7,
          71.23172,
          93.12082,
          90.05,
          93.6,
          90.61983,
          99.04262,
          40.81238,
          58.42,
          66.47,
          83.38417,
          53.48973,
          97.09,
          66.77598,
          90.63749
         ],
         "xaxis": "x13",
         "y": [
          51,
          247,
          385,
          665,
          248,
          1240,
          36,
          85,
          32,
          542,
          96,
          78,
          54,
          450,
          661,
          339,
          74,
          444,
          660,
          46,
          66,
          978,
          79,
          108,
          104,
          144,
          21,
          373,
          1360,
          408,
          148,
          440,
          17,
          305,
          598
         ],
         "yaxis": "y13"
        },
        {
         "customdata": [
          [
           "South America",
           "Argentina"
          ],
          [
           "Asia",
           "Bhutan"
          ],
          [
           "Africa",
           "Burkina Faso"
          ],
          [
           "Africa",
           "Burundi"
          ],
          [
           "Asia",
           "Cambodia"
          ],
          [
           "Africa",
           "Chad"
          ],
          [
           "Asia",
           "China"
          ],
          [
           "South America",
           "Colombia"
          ],
          [
           "North America",
           "Costa Rica"
          ],
          [
           "Africa",
           "Dem. Rep. Congo"
          ],
          [
           "North America",
           "Dominican Republic"
          ],
          [
           "South America",
           "Ecuador"
          ],
          [
           "North America",
           "El Salvador"
          ],
          [
           "Africa",
           "Eswatini"
          ],
          [
           "Africa",
           "Gambia"
          ],
          [
           "Africa",
           "Ghana"
          ],
          [
           "North America",
           "Honduras"
          ],
          [
           "Africa",
           "Malawi"
          ],
          [
           "Africa",
           "Mali"
          ],
          [
           "North America",
           "Mexico"
          ],
          [
           "Asia",
           "Mongolia"
          ],
          [
           "Africa",
           "Nigeria"
          ],
          [
           "North America",
           "Panama"
          ],
          [
           "South America",
           "Paraguay"
          ],
          [
           "South America",
           "Peru"
          ],
          [
           "Asia",
           "Philippines"
          ],
          [
           "North America",
           "Puerto Rico"
          ],
          [
           "Africa",
           "Rwanda"
          ],
          [
           "Africa",
           "Sierra Leone"
          ],
          [
           "Africa",
           "Sudan"
          ],
          [
           "South America",
           "Suriname"
          ],
          [
           "Africa",
           "Togo"
          ],
          [
           "South America",
           "Uruguay"
          ],
          [
           "Africa",
           "Zambia"
          ],
          [
           "Africa",
           "Zimbabwe"
          ]
         ],
         "hovertemplate": "Year=2010<br>Sex=M<br>% Completing Primary Ed=%{x}<br>Maternal deaths/100K live births=%{y}<br>GDP per capita=%{marker.size}<br>Continent=%{customdata[0]}<br>Country=%{customdata[1]}<br>Life Expectancy (years)=%{marker.color}<extra></extra>",
         "legendgroup": "",
         "marker": {
          "color": [
           75.278,
           68.384,
           57.096,
           57.228,
           66.56,
           50.89,
           74.409,
           75.424,
           78.769,
           56.909,
           72.046,
           75.089,
           71.21,
           46.601,
           59.637,
           61.03,
           73.317,
           55.564,
           55.251,
           75.065,
           67.38,
           50.896,
           76.792,
           72.653,
           74.41,
           69.823,
           78.4190975609756,
           63.433,
           49.382,
           62.764,
           70.465,
           57.468,
           76.75,
           55.655,
           50.64
          ],
          "coloraxis": "coloraxis",
          "size": [
           23521.2701763288,
           8190.56427451825,
           1716.35766288052,
           846.169526927269,
           2716.69840884516,
           1732.69129415445,
           8884.58803122452,
           11823.3879357365,
           16448.2874784145,
           865.684026812839,
           12782.4518985839,
           10340.9682305541,
           7328.71321626195,
           7459.25599579237,
           2346.72440487282,
           3732.38206331236,
           4866.97217562037,
           968.779611645394,
           2082.96179622555,
           17848.3249422511,
           7479.79740248469,
           4932.33498667095,
           21347.3327494385,
           10405.2309409429,
           10066.4696472131,
           5918.37348075447,
           32960.6911054053,
           1507.16501035777,
           1413.56417680838,
           3217.76676555225,
           16953.8034242653,
           1224.97842819758,
           17712.8969892031,
           3125.52930813716,
           2273.20007326702
          ],
          "sizemode": "area",
          "sizeref": 240.65415667076775,
          "symbol": "circle"
         },
         "mode": "markers",
         "name": "",
         "orientation": "v",
         "showlegend": false,
         "type": "scatter",
         "x": [
          91.55851,
          65.87398,
          32.12549,
          41.44624,
          70.03249,
          30.88,
          96.35,
          88.03828,
          89.2,
          46.07497,
          80.54,
          94.72,
          80.47,
          58.67925,
          55.91554,
          63.04644,
          77.95,
          50.48363,
          47.69,
          94.92,
          95.44,
          71.90495,
          91.31926,
          84.41,
          93.27,
          83.08642,
          99.72083,
          38.87215,
          60.6,
          76.44,
          76.68099,
          60.76244,
          95.3,
          66.70922,
          85.98171
         ],
         "xaxis": "x14",
         "y": [
          51,
          247,
          385,
          665,
          248,
          1240,
          36,
          85,
          32,
          542,
          96,
          78,
          54,
          450,
          661,
          339,
          74,
          444,
          660,
          46,
          66,
          978,
          79,
          108,
          104,
          144,
          21,
          373,
          1360,
          408,
          148,
          440,
          17,
          305,
          598
         ],
         "yaxis": "y14"
        },
        {
         "customdata": [
          [
           "South America",
           "Argentina"
          ],
          [
           "Asia",
           "Bhutan"
          ],
          [
           "Africa",
           "Burkina Faso"
          ],
          [
           "Africa",
           "Burundi"
          ],
          [
           "Asia",
           "Cambodia"
          ],
          [
           "Africa",
           "Chad"
          ],
          [
           "Asia",
           "China"
          ],
          [
           "South America",
           "Colombia"
          ],
          [
           "North America",
           "Costa Rica"
          ],
          [
           "Africa",
           "Dem. Rep. Congo"
          ],
          [
           "North America",
           "Dominican Republic"
          ],
          [
           "South America",
           "Ecuador"
          ],
          [
           "North America",
           "El Salvador"
          ],
          [
           "Africa",
           "Eswatini"
          ],
          [
           "Africa",
           "Gambia"
          ],
          [
           "Africa",
           "Ghana"
          ],
          [
           "North America",
           "Honduras"
          ],
          [
           "Africa",
           "Malawi"
          ],
          [
           "Africa",
           "Mali"
          ],
          [
           "North America",
           "Mexico"
          ],
          [
           "Asia",
           "Mongolia"
          ],
          [
           "Africa",
           "Nigeria"
          ],
          [
           "North America",
           "Panama"
          ],
          [
           "South America",
           "Paraguay"
          ],
          [
           "South America",
           "Peru"
          ],
          [
           "Asia",
           "Philippines"
          ],
          [
           "North America",
           "Puerto Rico"
          ],
          [
           "Africa",
           "Rwanda"
          ],
          [
           "Africa",
           "Sierra Leone"
          ],
          [
           "Africa",
           "Sudan"
          ],
          [
           "South America",
           "Suriname"
          ],
          [
           "Africa",
           "Togo"
          ],
          [
           "South America",
           "Uruguay"
          ],
          [
           "Africa",
           "Zambia"
          ],
          [
           "Africa",
           "Zimbabwe"
          ]
         ],
         "hovertemplate": "Year=2010<br>Sex=_T<br>% Completing Primary Ed=%{x}<br>Maternal deaths/100K live births=%{y}<br>GDP per capita=%{marker.size}<br>Continent=%{customdata[0]}<br>Country=%{customdata[1]}<br>Life Expectancy (years)=%{marker.color}<extra></extra>",
         "legendgroup": "",
         "marker": {
          "color": [
           75.278,
           68.384,
           57.096,
           57.228,
           66.56,
           50.89,
           74.409,
           75.424,
           78.769,
           56.909,
           72.046,
           75.089,
           71.21,
           46.601,
           59.637,
           61.03,
           73.317,
           55.564,
           55.251,
           75.065,
           67.38,
           50.896,
           76.792,
           72.653,
           74.41,
           69.823,
           78.4190975609756,
           63.433,
           49.382,
           62.764,
           70.465,
           57.468,
           76.75,
           55.655,
           50.64
          ],
          "coloraxis": "coloraxis",
          "size": [
           23521.2701763288,
           8190.56427451825,
           1716.35766288052,
           846.169526927269,
           2716.69840884516,
           1732.69129415445,
           8884.58803122452,
           11823.3879357365,
           16448.2874784145,
           865.684026812839,
           12782.4518985839,
           10340.9682305541,
           7328.71321626195,
           7459.25599579237,
           2346.72440487282,
           3732.38206331236,
           4866.97217562037,
           968.779611645394,
           2082.96179622555,
           17848.3249422511,
           7479.79740248469,
           4932.33498667095,
           21347.3327494385,
           10405.2309409429,
           10066.4696472131,
           5918.37348075447,
           32960.6911054053,
           1507.16501035777,
           1413.56417680838,
           3217.76676555225,
           16953.8034242653,
           1224.97842819758,
           17712.8969892031,
           3125.52930813716,
           2273.20007326702
          ],
          "sizemode": "area",
          "sizeref": 240.65415667076775,
          "symbol": "circle"
         },
         "mode": "markers",
         "name": "",
         "orientation": "v",
         "showlegend": false,
         "type": "scatter",
         "x": [
          92.67375,
          67.86397,
          30.90798,
          39.82951,
          71.06843,
          27.22,
          96.69,
          90.59966,
          91.22,
          44.46562,
          85.62,
          95.59,
          82.34,
          66.18265,
          58.49359,
          64.14412,
          80.82,
          54.32379,
          38.05,
          95.8,
          96.52,
          71.57501,
          92.21018,
          87.1,
          93.43,
          86.76748,
          99.38302,
          39.85742,
          59.6,
          71.44,
          80.11366,
          57.44461,
          96.17,
          66.74353,
          88.25243
         ],
         "xaxis": "x15",
         "y": [
          51,
          247,
          385,
          665,
          248,
          1240,
          36,
          85,
          32,
          542,
          96,
          78,
          54,
          450,
          661,
          339,
          74,
          444,
          660,
          46,
          66,
          978,
          79,
          108,
          104,
          144,
          21,
          373,
          1360,
          408,
          148,
          440,
          17,
          305,
          598
         ],
         "yaxis": "y15"
        },
        {
         "customdata": [
          [
           "Asia",
           "Afghanistan"
          ],
          [
           "Europe",
           "Armenia"
          ],
          [
           "Asia",
           "Bangladesh"
          ],
          [
           "North America",
           "Belize"
          ],
          [
           "Africa",
           "Benin"
          ],
          [
           "South America",
           "Bolivia"
          ],
          [
           "Africa",
           "Botswana"
          ],
          [
           "South America",
           "Brazil"
          ],
          [
           "Africa",
           "Cameroon"
          ],
          [
           "South America",
           "Chile"
          ],
          [
           "South America",
           "Colombia"
          ],
          [
           "North America",
           "Costa Rica"
          ],
          [
           "North America",
           "Dominican Republic"
          ],
          [
           "South America",
           "Ecuador"
          ],
          [
           "Africa",
           "Ethiopia"
          ],
          [
           "Africa",
           "Ghana"
          ],
          [
           "North America",
           "Guatemala"
          ],
          [
           "North America",
           "Honduras"
          ],
          [
           "Asia",
           "India"
          ],
          [
           "Asia",
           "Iraq"
          ],
          [
           "North America",
           "Jamaica"
          ],
          [
           "Asia",
           "Kazakhstan"
          ],
          [
           "Africa",
           "Mauritania"
          ],
          [
           "Africa",
           "Mozambique"
          ],
          [
           "Asia",
           "Nepal"
          ],
          [
           "Africa",
           "Nigeria"
          ],
          [
           "Europe",
           "North Macedonia"
          ],
          [
           "North America",
           "Panama"
          ],
          [
           "South America",
           "Paraguay"
          ],
          [
           "South America",
           "Peru"
          ],
          [
           "Africa",
           "Senegal"
          ],
          [
           "Europe",
           "Serbia"
          ],
          [
           "Africa",
           "South Africa"
          ],
          [
           "North America",
           "Trinidad and Tobago"
          ],
          [
           "Africa",
           "Uganda"
          ],
          [
           "South America",
           "Uruguay"
          ]
         ],
         "hovertemplate": "Year=2011<br>Sex=F<br>% Completing Primary Ed=%{x}<br>Maternal deaths/100K live births=%{y}<br>GDP per capita=%{marker.size}<br>Continent=%{customdata[0]}<br>Country=%{customdata[1]}<br>Life Expectancy (years)=%{marker.color}<extra></extra>",
         "legendgroup": "",
         "marker": {
          "color": [
           61.553,
           73.572,
           70.256,
           72.57,
           59.59,
           68.521,
           61.91,
           73.921,
           55.581,
           78.986,
           75.655,
           78.919,
           72.284,
           75.289,
           62.505,
           61.381,
           71.861,
           73.569,
           67.13,
           68.848,
           74.012,
           68.69,
           62.799,
           53.043,
           68.028,
           51.346,
           75.1,
           76.989,
           72.86,
           74.697,
           64.898,
           74.5365853658537,
           58.895,
           72.17,
           58.087,
           76.882
          ],
          "coloraxis": "coloraxis",
          "size": [
           1904.5597991972,
           9725.27146781451,
           3034.93798812944,
           7174.5169921222,
           2707.86941421509,
           6844.98176046089,
           14770.4683556276,
           15318.3063061666,
           3126.7868357321,
           22407.714462506,
           12523.006680201,
           16950.440233698,
           13024.3404607763,
           10984.285208134,
           1360.93853753415,
           4154.71775495542,
           7503.5595173555,
           4956.40226738636,
           4391.7970271511,
           9435.59035577969,
           9545.42850506295,
           21970.0839239319,
           4822.16635966907,
           1073.47871079443,
           2434.37701139569,
           5056.89242663648,
           13758.3429356567,
           23353.5122496744,
           10700.1553153437,
           10616.8422474835,
           2707.05727588635,
           14971.4576830224,
           12666.7080162249,
           28652.552874314,
           1972.30174199588,
           18573.8544665676
          ],
          "sizemode": "area",
          "sizeref": 240.65415667076775,
          "symbol": "circle"
         },
         "mode": "markers",
         "name": "",
         "orientation": "v",
         "showlegend": false,
         "type": "scatter",
         "x": [
          26.63788,
          100,
          79.43929,
          88,
          56.19088,
          91.88,
          95.30421,
          96.29,
          67.1849,
          96.7,
          93.21,
          93.66339,
          93.27,
          96.59,
          40.77654,
          68.68,
          68.55,
          85.08891,
          87.93,
          62.2651,
          99.5965,
          99.93988,
          42.36258,
          39.41912,
          71.70908,
          73.81538,
          99.32384,
          93.46,
          90.81,
          94.35,
          38.36372,
          99.90652,
          94.77457,
          93.58426,
          43.18282,
          97.94
         ],
         "xaxis": "x10",
         "y": [
          905,
          30,
          248,
          52,
          458,
          202,
          176,
          61,
          589,
          18,
          84,
          30,
          95,
          76,
          558,
          339,
          122,
          72,
          197,
          67,
          79,
          19,
          822,
          389,
          285,
          972,
          8,
          76,
          103,
          102,
          423,
          12,
          161,
          72,
          419,
          17
         ],
         "yaxis": "y10"
        },
        {
         "customdata": [
          [
           "Asia",
           "Afghanistan"
          ],
          [
           "Europe",
           "Armenia"
          ],
          [
           "Asia",
           "Bangladesh"
          ],
          [
           "North America",
           "Belize"
          ],
          [
           "Africa",
           "Benin"
          ],
          [
           "South America",
           "Bolivia"
          ],
          [
           "Africa",
           "Botswana"
          ],
          [
           "South America",
           "Brazil"
          ],
          [
           "Africa",
           "Cameroon"
          ],
          [
           "South America",
           "Chile"
          ],
          [
           "South America",
           "Colombia"
          ],
          [
           "North America",
           "Costa Rica"
          ],
          [
           "North America",
           "Dominican Republic"
          ],
          [
           "South America",
           "Ecuador"
          ],
          [
           "Africa",
           "Ethiopia"
          ],
          [
           "Africa",
           "Ghana"
          ],
          [
           "North America",
           "Guatemala"
          ],
          [
           "North America",
           "Honduras"
          ],
          [
           "Asia",
           "India"
          ],
          [
           "Asia",
           "Iraq"
          ],
          [
           "North America",
           "Jamaica"
          ],
          [
           "Asia",
           "Kazakhstan"
          ],
          [
           "Africa",
           "Mauritania"
          ],
          [
           "Africa",
           "Mozambique"
          ],
          [
           "Asia",
           "Nepal"
          ],
          [
           "Africa",
           "Nigeria"
          ],
          [
           "Europe",
           "North Macedonia"
          ],
          [
           "North America",
           "Panama"
          ],
          [
           "South America",
           "Paraguay"
          ],
          [
           "South America",
           "Peru"
          ],
          [
           "Africa",
           "Senegal"
          ],
          [
           "Europe",
           "Serbia"
          ],
          [
           "Africa",
           "South Africa"
          ],
          [
           "North America",
           "Trinidad and Tobago"
          ],
          [
           "Africa",
           "Uganda"
          ],
          [
           "South America",
           "Uruguay"
          ]
         ],
         "hovertemplate": "Year=2011<br>Sex=M<br>% Completing Primary Ed=%{x}<br>Maternal deaths/100K live births=%{y}<br>GDP per capita=%{marker.size}<br>Continent=%{customdata[0]}<br>Country=%{customdata[1]}<br>Life Expectancy (years)=%{marker.color}<extra></extra>",
         "legendgroup": "",
         "marker": {
          "color": [
           61.553,
           73.572,
           70.256,
           72.57,
           59.59,
           68.521,
           61.91,
           73.921,
           55.581,
           78.986,
           75.655,
           78.919,
           72.284,
           75.289,
           62.505,
           61.381,
           71.861,
           73.569,
           67.13,
           68.848,
           74.012,
           68.69,
           62.799,
           53.043,
           68.028,
           51.346,
           75.1,
           76.989,
           72.86,
           74.697,
           64.898,
           74.5365853658537,
           58.895,
           72.17,
           58.087,
           76.882
          ],
          "coloraxis": "coloraxis",
          "size": [
           1904.5597991972,
           9725.27146781451,
           3034.93798812944,
           7174.5169921222,
           2707.86941421509,
           6844.98176046089,
           14770.4683556276,
           15318.3063061666,
           3126.7868357321,
           22407.714462506,
           12523.006680201,
           16950.440233698,
           13024.3404607763,
           10984.285208134,
           1360.93853753415,
           4154.71775495542,
           7503.5595173555,
           4956.40226738636,
           4391.7970271511,
           9435.59035577969,
           9545.42850506295,
           21970.0839239319,
           4822.16635966907,
           1073.47871079443,
           2434.37701139569,
           5056.89242663648,
           13758.3429356567,
           23353.5122496744,
           10700.1553153437,
           10616.8422474835,
           2707.05727588635,
           14971.4576830224,
           12666.7080162249,
           28652.552874314,
           1972.30174199588,
           18573.8544665676
          ],
          "sizemode": "area",
          "sizeref": 240.65415667076775,
          "symbol": "circle"
         },
         "mode": "markers",
         "name": "",
         "orientation": "v",
         "showlegend": false,
         "type": "scatter",
         "x": [
          53.74893,
          99.7635,
          69.62301,
          80.33,
          61.89381,
          94.1,
          91.20862,
          93.52,
          68.55963,
          96,
          87.51,
          93.43188,
          82.93,
          95.95,
          38.11943,
          62.59,
          73.11,
          80.80944,
          88.76,
          68.35399,
          99.27921,
          99.63481,
          45.5415,
          43.73529,
          78.93256,
          71.50954,
          99.86171,
          91.08,
          87.92,
          93.08,
          41.12024,
          100,
          91.26652,
          92.98398,
          35.68175,
          96.13
         ],
         "xaxis": "x11",
         "y": [
          905,
          30,
          248,
          52,
          458,
          202,
          176,
          61,
          589,
          18,
          84,
          30,
          95,
          76,
          558,
          339,
          122,
          72,
          197,
          67,
          79,
          19,
          822,
          389,
          285,
          972,
          8,
          76,
          103,
          102,
          423,
          12,
          161,
          72,
          419,
          17
         ],
         "yaxis": "y11"
        },
        {
         "customdata": [
          [
           "Asia",
           "Afghanistan"
          ],
          [
           "Europe",
           "Armenia"
          ],
          [
           "Asia",
           "Bangladesh"
          ],
          [
           "North America",
           "Belize"
          ],
          [
           "Africa",
           "Benin"
          ],
          [
           "South America",
           "Bolivia"
          ],
          [
           "Africa",
           "Botswana"
          ],
          [
           "South America",
           "Brazil"
          ],
          [
           "Africa",
           "Cameroon"
          ],
          [
           "South America",
           "Chile"
          ],
          [
           "South America",
           "Colombia"
          ],
          [
           "North America",
           "Costa Rica"
          ],
          [
           "North America",
           "Dominican Republic"
          ],
          [
           "South America",
           "Ecuador"
          ],
          [
           "Africa",
           "Ethiopia"
          ],
          [
           "Africa",
           "Ghana"
          ],
          [
           "North America",
           "Guatemala"
          ],
          [
           "North America",
           "Honduras"
          ],
          [
           "Asia",
           "India"
          ],
          [
           "Asia",
           "Iraq"
          ],
          [
           "North America",
           "Jamaica"
          ],
          [
           "Asia",
           "Kazakhstan"
          ],
          [
           "Africa",
           "Mauritania"
          ],
          [
           "Africa",
           "Mozambique"
          ],
          [
           "Asia",
           "Nepal"
          ],
          [
           "Africa",
           "Nigeria"
          ],
          [
           "Europe",
           "North Macedonia"
          ],
          [
           "North America",
           "Panama"
          ],
          [
           "South America",
           "Paraguay"
          ],
          [
           "South America",
           "Peru"
          ],
          [
           "Africa",
           "Senegal"
          ],
          [
           "Europe",
           "Serbia"
          ],
          [
           "Africa",
           "South Africa"
          ],
          [
           "North America",
           "Trinidad and Tobago"
          ],
          [
           "Africa",
           "Uganda"
          ],
          [
           "South America",
           "Uruguay"
          ]
         ],
         "hovertemplate": "Year=2011<br>Sex=_T<br>% Completing Primary Ed=%{x}<br>Maternal deaths/100K live births=%{y}<br>GDP per capita=%{marker.size}<br>Continent=%{customdata[0]}<br>Country=%{customdata[1]}<br>Life Expectancy (years)=%{marker.color}<extra></extra>",
         "legendgroup": "",
         "marker": {
          "color": [
           61.553,
           73.572,
           70.256,
           72.57,
           59.59,
           68.521,
           61.91,
           73.921,
           55.581,
           78.986,
           75.655,
           78.919,
           72.284,
           75.289,
           62.505,
           61.381,
           71.861,
           73.569,
           67.13,
           68.848,
           74.012,
           68.69,
           62.799,
           53.043,
           68.028,
           51.346,
           75.1,
           76.989,
           72.86,
           74.697,
           64.898,
           74.5365853658537,
           58.895,
           72.17,
           58.087,
           76.882
          ],
          "coloraxis": "coloraxis",
          "size": [
           1904.5597991972,
           9725.27146781451,
           3034.93798812944,
           7174.5169921222,
           2707.86941421509,
           6844.98176046089,
           14770.4683556276,
           15318.3063061666,
           3126.7868357321,
           22407.714462506,
           12523.006680201,
           16950.440233698,
           13024.3404607763,
           10984.285208134,
           1360.93853753415,
           4154.71775495542,
           7503.5595173555,
           4956.40226738636,
           4391.7970271511,
           9435.59035577969,
           9545.42850506295,
           21970.0839239319,
           4822.16635966907,
           1073.47871079443,
           2434.37701139569,
           5056.89242663648,
           13758.3429356567,
           23353.5122496744,
           10700.1553153437,
           10616.8422474835,
           2707.05727588635,
           14971.4576830224,
           12666.7080162249,
           28652.552874314,
           1972.30174199588,
           18573.8544665676
          ],
          "sizemode": "area",
          "sizeref": 240.65415667076775,
          "symbol": "circle"
         },
         "mode": "markers",
         "name": "",
         "orientation": "v",
         "showlegend": false,
         "type": "scatter",
         "x": [
          40.72569,
          99.87504,
          74.78203,
          84.28,
          59.41194,
          92.96,
          93.27203,
          94.9,
          67.85408,
          96.34,
          90.2,
          93.54096,
          88.13,
          96.27,
          39.57277,
          65.58,
          70.79,
          82.91049,
          88.35,
          65.39292,
          99.43479,
          99.78236,
          43.93625,
          41.53307,
          75.22154,
          72.61493,
          99.59779,
          92.26,
          89.34,
          93.7,
          39.71852,
          99.95172,
          93.02254,
          93.28599,
          39.38338,
          97
         ],
         "xaxis": "x12",
         "y": [
          905,
          30,
          248,
          52,
          458,
          202,
          176,
          61,
          589,
          18,
          84,
          30,
          95,
          76,
          558,
          339,
          122,
          72,
          197,
          67,
          79,
          19,
          822,
          389,
          285,
          972,
          8,
          76,
          103,
          102,
          423,
          12,
          161,
          72,
          419,
          17
         ],
         "yaxis": "y12"
        },
        {
         "customdata": [
          [
           "North America",
           "Barbados"
          ],
          [
           "Europe",
           "Belarus"
          ],
          [
           "South America",
           "Bolivia"
          ],
          [
           "Europe",
           "Bosnia and Herzegovina"
          ],
          [
           "South America",
           "Brazil"
          ],
          [
           "Asia",
           "China"
          ],
          [
           "South America",
           "Colombia"
          ],
          [
           "Africa",
           "Comoros"
          ],
          [
           "Africa",
           "Congo"
          ],
          [
           "North America",
           "Costa Rica"
          ],
          [
           "North America",
           "Dominican Republic"
          ],
          [
           "South America",
           "Ecuador"
          ],
          [
           "North America",
           "El Salvador"
          ],
          [
           "Africa",
           "Gabon"
          ],
          [
           "Africa",
           "Guinea"
          ],
          [
           "North America",
           "Haiti"
          ],
          [
           "North America",
           "Honduras"
          ],
          [
           "Asia",
           "Indonesia"
          ],
          [
           "Asia",
           "Israel"
          ],
          [
           "Asia",
           "Jordan"
          ],
          [
           "Asia",
           "Kyrgyz Republic"
          ],
          [
           "North America",
           "Mexico"
          ],
          [
           "Africa",
           "Niger"
          ],
          [
           "Asia",
           "Pakistan"
          ],
          [
           "South America",
           "Paraguay"
          ],
          [
           "South America",
           "Peru"
          ],
          [
           "Asia",
           "Qatar"
          ],
          [
           "Africa",
           "Rwanda"
          ],
          [
           "Asia",
           "Tajikistan"
          ],
          [
           "Africa",
           "Tunisia"
          ],
          [
           "South America",
           "Uruguay"
          ],
          [
           "Africa",
           "Zimbabwe"
          ]
         ],
         "hovertemplate": "Year=2012<br>Sex=F<br>% Completing Primary Ed=%{x}<br>Maternal deaths/100K live births=%{y}<br>GDP per capita=%{marker.size}<br>Continent=%{customdata[0]}<br>Country=%{customdata[1]}<br>Life Expectancy (years)=%{marker.color}<extra></extra>",
         "legendgroup": "",
         "marker": {
          "color": [
           78.547,
           71.9658536585366,
           69.01,
           76.401,
           74.209,
           75.013,
           75.882,
           62.595,
           61.423,
           79.074,
           72.523,
           75.495,
           71.692,
           62.924,
           57.905,
           61.26,
           73.814,
           69.866,
           81.7048780487805,
           73.722,
           70.0024390243902,
           74.966,
           58.79,
           65.849,
           73.068,
           74.981,
           79.399,
           65.438,
           69.34,
           75.376,
           77.004,
           55.032
          ],
          "coloraxis": "coloraxis",
          "size": [
           15335.7399330821,
           18576.7286760826,
           7081.38681099674,
           11293.7922689064,
           15473.7120210456,
           10397.5614154923,
           12896.3516812902,
           2946.1778039865,
           5555.13630222353,
           17555.4618466921,
           13219.7007852786,
           11431.3734031352,
           7754.68072762068,
           15082.6134597387,
           2002.38698620261,
           2833.77552257522,
           5065.45758523935,
           9080.04056716843,
           36119.2136285354,
           10687.0885130005,
           4259.31820291395,
           18655.846258048,
           1085.54392613058,
           3980.71995475126,
           10497.4579762897,
           11176.0874727934,
           96261.6626683071,
           1682.20489661457,
           2493.40710111535,
           10114.6142601439,
           19173.8891614263,
           2932.08133567175
          ],
          "sizemode": "area",
          "sizeref": 240.65415667076775,
          "symbol": "circle"
         },
         "mode": "markers",
         "name": "",
         "orientation": "v",
         "showlegend": false,
         "type": "scatter",
         "x": [
          99.46783,
          99.52951,
          92.13,
          99.89095,
          97.11,
          93.61,
          93.43,
          77.78049,
          72.21728,
          94.7,
          93.16,
          96.99,
          88.55,
          74.85381,
          35.5777,
          48.65705,
          85.62,
          96.19,
          100,
          98.25,
          99.66872,
          97.12,
          22.68427,
          58.40607,
          92.55,
          95.13,
          98.533,
          36.577,
          97.60206,
          95.03687,
          98.09,
          87.11525
         ],
         "xaxis": "x7",
         "y": [
          34,
          4,
          192,
          10,
          60,
          33,
          85,
          313,
          468,
          29,
          94,
          71,
          52,
          292,
          744,
          500,
          70,
          214,
          4,
          52,
          74,
          41,
          616,
          173,
          98,
          100,
          10,
          329,
          21,
          46,
          17,
          528
         ],
         "yaxis": "y7"
        },
        {
         "customdata": [
          [
           "North America",
           "Barbados"
          ],
          [
           "Europe",
           "Belarus"
          ],
          [
           "South America",
           "Bolivia"
          ],
          [
           "Europe",
           "Bosnia and Herzegovina"
          ],
          [
           "South America",
           "Brazil"
          ],
          [
           "Asia",
           "China"
          ],
          [
           "South America",
           "Colombia"
          ],
          [
           "Africa",
           "Comoros"
          ],
          [
           "Africa",
           "Congo"
          ],
          [
           "North America",
           "Costa Rica"
          ],
          [
           "North America",
           "Dominican Republic"
          ],
          [
           "South America",
           "Ecuador"
          ],
          [
           "North America",
           "El Salvador"
          ],
          [
           "Africa",
           "Gabon"
          ],
          [
           "Africa",
           "Guinea"
          ],
          [
           "North America",
           "Haiti"
          ],
          [
           "North America",
           "Honduras"
          ],
          [
           "Asia",
           "Indonesia"
          ],
          [
           "Asia",
           "Israel"
          ],
          [
           "Asia",
           "Jordan"
          ],
          [
           "Asia",
           "Kyrgyz Republic"
          ],
          [
           "North America",
           "Mexico"
          ],
          [
           "Africa",
           "Niger"
          ],
          [
           "Asia",
           "Pakistan"
          ],
          [
           "South America",
           "Paraguay"
          ],
          [
           "South America",
           "Peru"
          ],
          [
           "Asia",
           "Qatar"
          ],
          [
           "Africa",
           "Rwanda"
          ],
          [
           "Asia",
           "Tajikistan"
          ],
          [
           "Africa",
           "Tunisia"
          ],
          [
           "South America",
           "Uruguay"
          ],
          [
           "Africa",
           "Zimbabwe"
          ]
         ],
         "hovertemplate": "Year=2012<br>Sex=M<br>% Completing Primary Ed=%{x}<br>Maternal deaths/100K live births=%{y}<br>GDP per capita=%{marker.size}<br>Continent=%{customdata[0]}<br>Country=%{customdata[1]}<br>Life Expectancy (years)=%{marker.color}<extra></extra>",
         "legendgroup": "",
         "marker": {
          "color": [
           78.547,
           71.9658536585366,
           69.01,
           76.401,
           74.209,
           75.013,
           75.882,
           62.595,
           61.423,
           79.074,
           72.523,
           75.495,
           71.692,
           62.924,
           57.905,
           61.26,
           73.814,
           69.866,
           81.7048780487805,
           73.722,
           70.0024390243902,
           74.966,
           58.79,
           65.849,
           73.068,
           74.981,
           79.399,
           65.438,
           69.34,
           75.376,
           77.004,
           55.032
          ],
          "coloraxis": "coloraxis",
          "size": [
           15335.7399330821,
           18576.7286760826,
           7081.38681099674,
           11293.7922689064,
           15473.7120210456,
           10397.5614154923,
           12896.3516812902,
           2946.1778039865,
           5555.13630222353,
           17555.4618466921,
           13219.7007852786,
           11431.3734031352,
           7754.68072762068,
           15082.6134597387,
           2002.38698620261,
           2833.77552257522,
           5065.45758523935,
           9080.04056716843,
           36119.2136285354,
           10687.0885130005,
           4259.31820291395,
           18655.846258048,
           1085.54392613058,
           3980.71995475126,
           10497.4579762897,
           11176.0874727934,
           96261.6626683071,
           1682.20489661457,
           2493.40710111535,
           10114.6142601439,
           19173.8891614263,
           2932.08133567175
          ],
          "sizemode": "area",
          "sizeref": 240.65415667076775,
          "symbol": "circle"
         },
         "mode": "markers",
         "name": "",
         "orientation": "v",
         "showlegend": false,
         "type": "scatter",
         "x": [
          97.47688,
          100,
          93.06,
          99.58797,
          94.72,
          92.95,
          88.68,
          75.45747,
          76.29745,
          92.22,
          83.45,
          96.16,
          83.87,
          66.46164,
          49.37862,
          39.11507,
          78.57,
          94.34,
          99.9,
          97.06,
          99.48301,
          95.84,
          34.45162,
          63.14233,
          85.34,
          95.57,
          99.43348,
          29.52403,
          98.4396,
          93.07357,
          95.9,
          80.57886
         ],
         "xaxis": "x8",
         "y": [
          34,
          4,
          192,
          10,
          60,
          33,
          85,
          313,
          468,
          29,
          94,
          71,
          52,
          292,
          744,
          500,
          70,
          214,
          4,
          52,
          74,
          41,
          616,
          173,
          98,
          100,
          10,
          329,
          21,
          46,
          17,
          528
         ],
         "yaxis": "y8"
        },
        {
         "customdata": [
          [
           "North America",
           "Barbados"
          ],
          [
           "Europe",
           "Belarus"
          ],
          [
           "South America",
           "Bolivia"
          ],
          [
           "Europe",
           "Bosnia and Herzegovina"
          ],
          [
           "South America",
           "Brazil"
          ],
          [
           "Asia",
           "China"
          ],
          [
           "South America",
           "Colombia"
          ],
          [
           "Africa",
           "Comoros"
          ],
          [
           "Africa",
           "Congo"
          ],
          [
           "North America",
           "Costa Rica"
          ],
          [
           "North America",
           "Dominican Republic"
          ],
          [
           "South America",
           "Ecuador"
          ],
          [
           "North America",
           "El Salvador"
          ],
          [
           "Africa",
           "Gabon"
          ],
          [
           "Africa",
           "Guinea"
          ],
          [
           "North America",
           "Haiti"
          ],
          [
           "North America",
           "Honduras"
          ],
          [
           "Asia",
           "Indonesia"
          ],
          [
           "Asia",
           "Israel"
          ],
          [
           "Asia",
           "Jordan"
          ],
          [
           "Asia",
           "Kyrgyz Republic"
          ],
          [
           "North America",
           "Mexico"
          ],
          [
           "Africa",
           "Niger"
          ],
          [
           "Asia",
           "Pakistan"
          ],
          [
           "South America",
           "Paraguay"
          ],
          [
           "South America",
           "Peru"
          ],
          [
           "Asia",
           "Qatar"
          ],
          [
           "Africa",
           "Rwanda"
          ],
          [
           "Asia",
           "Tajikistan"
          ],
          [
           "Africa",
           "Tunisia"
          ],
          [
           "South America",
           "Uruguay"
          ],
          [
           "Africa",
           "Zimbabwe"
          ]
         ],
         "hovertemplate": "Year=2012<br>Sex=_T<br>% Completing Primary Ed=%{x}<br>Maternal deaths/100K live births=%{y}<br>GDP per capita=%{marker.size}<br>Continent=%{customdata[0]}<br>Country=%{customdata[1]}<br>Life Expectancy (years)=%{marker.color}<extra></extra>",
         "legendgroup": "",
         "marker": {
          "color": [
           78.547,
           71.9658536585366,
           69.01,
           76.401,
           74.209,
           75.013,
           75.882,
           62.595,
           61.423,
           79.074,
           72.523,
           75.495,
           71.692,
           62.924,
           57.905,
           61.26,
           73.814,
           69.866,
           81.7048780487805,
           73.722,
           70.0024390243902,
           74.966,
           58.79,
           65.849,
           73.068,
           74.981,
           79.399,
           65.438,
           69.34,
           75.376,
           77.004,
           55.032
          ],
          "coloraxis": "coloraxis",
          "size": [
           15335.7399330821,
           18576.7286760826,
           7081.38681099674,
           11293.7922689064,
           15473.7120210456,
           10397.5614154923,
           12896.3516812902,
           2946.1778039865,
           5555.13630222353,
           17555.4618466921,
           13219.7007852786,
           11431.3734031352,
           7754.68072762068,
           15082.6134597387,
           2002.38698620261,
           2833.77552257522,
           5065.45758523935,
           9080.04056716843,
           36119.2136285354,
           10687.0885130005,
           4259.31820291395,
           18655.846258048,
           1085.54392613058,
           3980.71995475126,
           10497.4579762897,
           11176.0874727934,
           96261.6626683071,
           1682.20489661457,
           2493.40710111535,
           10114.6142601439,
           19173.8891614263,
           2932.08133567175
          ],
          "sizemode": "area",
          "sizeref": 240.65415667076775,
          "symbol": "circle"
         },
         "mode": "markers",
         "name": "",
         "orientation": "v",
         "showlegend": false,
         "type": "scatter",
         "x": [
          98.4548,
          99.76952,
          92.57,
          99.73966,
          95.91,
          93.28,
          90.92,
          76.62134,
          74.22485,
          93.41,
          88.06,
          96.56,
          86.18,
          70.94246,
          42.22287,
          44.05852,
          81.9,
          95.24,
          99.95,
          97.62,
          99.58288,
          96.45,
          28.34748,
          60.90289,
          88.71,
          95.36,
          99.02237,
          33.11445,
          98.01894,
          93.99497,
          96.95,
          83.82565
         ],
         "xaxis": "x9",
         "y": [
          34,
          4,
          192,
          10,
          60,
          33,
          85,
          313,
          468,
          29,
          94,
          71,
          52,
          292,
          744,
          500,
          70,
          214,
          4,
          52,
          74,
          41,
          616,
          173,
          98,
          100,
          10,
          329,
          21,
          46,
          17,
          528
         ],
         "yaxis": "y9"
        },
        {
         "customdata": [
          [
           "Africa",
           "Algeria"
          ],
          [
           "Asia",
           "Bangladesh"
          ],
          [
           "South America",
           "Bolivia"
          ],
          [
           "South America",
           "Brazil"
          ],
          [
           "South America",
           "Chile"
          ],
          [
           "South America",
           "Colombia"
          ],
          [
           "North America",
           "Costa Rica"
          ],
          [
           "Africa",
           "Dem. Rep. Congo"
          ],
          [
           "North America",
           "Dominican Republic"
          ],
          [
           "South America",
           "Ecuador"
          ],
          [
           "North America",
           "El Salvador"
          ],
          [
           "Africa",
           "Gambia"
          ],
          [
           "North America",
           "Honduras"
          ],
          [
           "Africa",
           "Liberia"
          ],
          [
           "Africa",
           "Mali"
          ],
          [
           "Europe",
           "Montenegro"
          ],
          [
           "Africa",
           "Namibia"
          ],
          [
           "Africa",
           "Nigeria"
          ],
          [
           "North America",
           "Panama"
          ],
          [
           "South America",
           "Paraguay"
          ],
          [
           "South America",
           "Peru"
          ],
          [
           "Asia",
           "Philippines"
          ],
          [
           "Africa",
           "Sierra Leone"
          ],
          [
           "Asia",
           "Thailand"
          ],
          [
           "Europe",
           "Ukraine"
          ],
          [
           "South America",
           "Uruguay"
          ],
          [
           "Africa",
           "Zambia"
          ]
         ],
         "hovertemplate": "Year=2013<br>Sex=F<br>% Completing Primary Ed=%{x}<br>Maternal deaths/100K live births=%{y}<br>GDP per capita=%{marker.size}<br>Continent=%{customdata[0]}<br>Country=%{customdata[1]}<br>Life Expectancy (years)=%{marker.color}<extra></extra>",
         "legendgroup": "",
         "marker": {
          "color": [
           75.661,
           70.93,
           69.468,
           74.483,
           79.349,
           76.105,
           79.234,
           58.381,
           72.763,
           75.707,
           71.935,
           60.426,
           74.051,
           61.186,
           56.578,
           76.490243902439,
           60.513,
           52.228,
           77.386,
           73.274,
           75.258,
           70.315,
           51.731,
           75.378,
           71.159512195122,
           77.124,
           59.746
          ],
          "coloraxis": "coloraxis",
          "size": [
           11319.0979491015,
           3348.95347376199,
           7444.49009062415,
           15800.0389651203,
           24081.879609375,
           13436.041030385,
           17748.9488964376,
           972.455893446057,
           13702.3239332071,
           11818.5860816906,
           7892.44185770279,
           2131.43277120309,
           5113.46089403684,
           1652.18916036789,
           1995.15803872227,
           17437.2118164408,
           9832.79952618449,
           5329.12306787399,
           26485.5658059468,
           11225.9062835338,
           11724.0032046236,
           6666.25091685352,
           1953.08694139838,
           15783.0307327749,
           12552.6697613585,
           20001.1402672164,
           3399.71299922393
          ],
          "sizemode": "area",
          "sizeref": 240.65415667076775,
          "symbol": "circle"
         },
         "mode": "markers",
         "name": "",
         "orientation": "v",
         "showlegend": false,
         "type": "scatter",
         "x": [
          94.80183,
          78.59,
          95.73,
          97.44,
          97.03,
          93.7,
          94.47,
          66.51914,
          93.43502,
          97.27,
          88.86,
          60.17826,
          84.87,
          32.45773,
          37.75267,
          99.80089,
          87.89175,
          65.90945,
          95.37,
          91.97,
          96.24,
          92.9,
          68.33899,
          98.77737,
          99.2674,
          97.33022,
          76.04823
         ],
         "xaxis": "x4",
         "y": [
          115,
          227,
          184,
          61,
          16,
          85,
          29,
          514,
          94,
          67,
          50,
          644,
          69,
          674,
          663,
          6,
          231,
          951,
          66,
          94,
          98,
          136,
          1180,
          39,
          23,
          18,
          254
         ],
         "yaxis": "y4"
        },
        {
         "customdata": [
          [
           "Africa",
           "Algeria"
          ],
          [
           "Asia",
           "Bangladesh"
          ],
          [
           "South America",
           "Bolivia"
          ],
          [
           "South America",
           "Brazil"
          ],
          [
           "South America",
           "Chile"
          ],
          [
           "South America",
           "Colombia"
          ],
          [
           "North America",
           "Costa Rica"
          ],
          [
           "Africa",
           "Dem. Rep. Congo"
          ],
          [
           "North America",
           "Dominican Republic"
          ],
          [
           "South America",
           "Ecuador"
          ],
          [
           "North America",
           "El Salvador"
          ],
          [
           "Africa",
           "Gambia"
          ],
          [
           "North America",
           "Honduras"
          ],
          [
           "Africa",
           "Liberia"
          ],
          [
           "Africa",
           "Mali"
          ],
          [
           "Europe",
           "Montenegro"
          ],
          [
           "Africa",
           "Namibia"
          ],
          [
           "Africa",
           "Nigeria"
          ],
          [
           "North America",
           "Panama"
          ],
          [
           "South America",
           "Paraguay"
          ],
          [
           "South America",
           "Peru"
          ],
          [
           "Asia",
           "Philippines"
          ],
          [
           "Africa",
           "Sierra Leone"
          ],
          [
           "Asia",
           "Thailand"
          ],
          [
           "Europe",
           "Ukraine"
          ],
          [
           "South America",
           "Uruguay"
          ],
          [
           "Africa",
           "Zambia"
          ]
         ],
         "hovertemplate": "Year=2013<br>Sex=M<br>% Completing Primary Ed=%{x}<br>Maternal deaths/100K live births=%{y}<br>GDP per capita=%{marker.size}<br>Continent=%{customdata[0]}<br>Country=%{customdata[1]}<br>Life Expectancy (years)=%{marker.color}<extra></extra>",
         "legendgroup": "",
         "marker": {
          "color": [
           75.661,
           70.93,
           69.468,
           74.483,
           79.349,
           76.105,
           79.234,
           58.381,
           72.763,
           75.707,
           71.935,
           60.426,
           74.051,
           61.186,
           56.578,
           76.490243902439,
           60.513,
           52.228,
           77.386,
           73.274,
           75.258,
           70.315,
           51.731,
           75.378,
           71.159512195122,
           77.124,
           59.746
          ],
          "coloraxis": "coloraxis",
          "size": [
           11319.0979491015,
           3348.95347376199,
           7444.49009062415,
           15800.0389651203,
           24081.879609375,
           13436.041030385,
           17748.9488964376,
           972.455893446057,
           13702.3239332071,
           11818.5860816906,
           7892.44185770279,
           2131.43277120309,
           5113.46089403684,
           1652.18916036789,
           1995.15803872227,
           17437.2118164408,
           9832.79952618449,
           5329.12306787399,
           26485.5658059468,
           11225.9062835338,
           11724.0032046236,
           6666.25091685352,
           1953.08694139838,
           15783.0307327749,
           12552.6697613585,
           20001.1402672164,
           3399.71299922393
          ],
          "sizemode": "area",
          "sizeref": 240.65415667076775,
          "symbol": "circle"
         },
         "mode": "markers",
         "name": "",
         "orientation": "v",
         "showlegend": false,
         "type": "scatter",
         "x": [
          93.70651,
          66.2,
          95.46,
          94.66,
          94.83,
          88.48,
          92.42,
          71.19611,
          85.2852,
          97.34,
          86.86,
          63.98253,
          80.2,
          36.09733,
          45.53413,
          100,
          77.98355,
          70.94151,
          93.57,
          89.22,
          94.94,
          81.88,
          64.65759,
          97.51308,
          99.89616,
          96.61975,
          73.89091
         ],
         "xaxis": "x5",
         "y": [
          115,
          227,
          184,
          61,
          16,
          85,
          29,
          514,
          94,
          67,
          50,
          644,
          69,
          674,
          663,
          6,
          231,
          951,
          66,
          94,
          98,
          136,
          1180,
          39,
          23,
          18,
          254
         ],
         "yaxis": "y5"
        },
        {
         "customdata": [
          [
           "Africa",
           "Algeria"
          ],
          [
           "Asia",
           "Bangladesh"
          ],
          [
           "South America",
           "Bolivia"
          ],
          [
           "South America",
           "Brazil"
          ],
          [
           "South America",
           "Chile"
          ],
          [
           "South America",
           "Colombia"
          ],
          [
           "North America",
           "Costa Rica"
          ],
          [
           "Africa",
           "Dem. Rep. Congo"
          ],
          [
           "North America",
           "Dominican Republic"
          ],
          [
           "South America",
           "Ecuador"
          ],
          [
           "North America",
           "El Salvador"
          ],
          [
           "Africa",
           "Gambia"
          ],
          [
           "North America",
           "Honduras"
          ],
          [
           "Africa",
           "Liberia"
          ],
          [
           "Africa",
           "Mali"
          ],
          [
           "Europe",
           "Montenegro"
          ],
          [
           "Africa",
           "Namibia"
          ],
          [
           "Africa",
           "Nigeria"
          ],
          [
           "North America",
           "Panama"
          ],
          [
           "South America",
           "Paraguay"
          ],
          [
           "South America",
           "Peru"
          ],
          [
           "Asia",
           "Philippines"
          ],
          [
           "Africa",
           "Sierra Leone"
          ],
          [
           "Asia",
           "Thailand"
          ],
          [
           "Europe",
           "Ukraine"
          ],
          [
           "South America",
           "Uruguay"
          ],
          [
           "Africa",
           "Zambia"
          ]
         ],
         "hovertemplate": "Year=2013<br>Sex=_T<br>% Completing Primary Ed=%{x}<br>Maternal deaths/100K live births=%{y}<br>GDP per capita=%{marker.size}<br>Continent=%{customdata[0]}<br>Country=%{customdata[1]}<br>Life Expectancy (years)=%{marker.color}<extra></extra>",
         "legendgroup": "",
         "marker": {
          "color": [
           75.661,
           70.93,
           69.468,
           74.483,
           79.349,
           76.105,
           79.234,
           58.381,
           72.763,
           75.707,
           71.935,
           60.426,
           74.051,
           61.186,
           56.578,
           76.490243902439,
           60.513,
           52.228,
           77.386,
           73.274,
           75.258,
           70.315,
           51.731,
           75.378,
           71.159512195122,
           77.124,
           59.746
          ],
          "coloraxis": "coloraxis",
          "size": [
           11319.0979491015,
           3348.95347376199,
           7444.49009062415,
           15800.0389651203,
           24081.879609375,
           13436.041030385,
           17748.9488964376,
           972.455893446057,
           13702.3239332071,
           11818.5860816906,
           7892.44185770279,
           2131.43277120309,
           5113.46089403684,
           1652.18916036789,
           1995.15803872227,
           17437.2118164408,
           9832.79952618449,
           5329.12306787399,
           26485.5658059468,
           11225.9062835338,
           11724.0032046236,
           6666.25091685352,
           1953.08694139838,
           15783.0307327749,
           12552.6697613585,
           20001.1402672164,
           3399.71299922393
          ],
          "sizemode": "area",
          "sizeref": 240.65415667076775,
          "symbol": "circle"
         },
         "mode": "markers",
         "name": "",
         "orientation": "v",
         "showlegend": false,
         "type": "scatter",
         "x": [
          94.24063,
          72.23,
          95.59,
          96.02,
          95.88,
          90.93,
          93.44,
          68.9453,
          89.47863,
          97.31,
          87.84,
          61.99319,
          82.62,
          34.2478,
          42.02967,
          99.90369,
          83.10977,
          68.37667,
          94.44,
          90.62,
          95.58,
          87.45,
          66.62422,
          98.1352,
          99.58049,
          96.99595,
          74.97741
         ],
         "xaxis": "x6",
         "y": [
          115,
          227,
          184,
          61,
          16,
          85,
          29,
          514,
          94,
          67,
          50,
          644,
          69,
          674,
          663,
          6,
          231,
          951,
          66,
          94,
          98,
          136,
          1180,
          39,
          23,
          18,
          254
         ],
         "yaxis": "y6"
        },
        {
         "customdata": [
          [
           "Asia",
           "Bangladesh"
          ],
          [
           "Africa",
           "Benin"
          ],
          [
           "South America",
           "Bolivia"
          ],
          [
           "South America",
           "Brazil"
          ],
          [
           "Asia",
           "Cambodia"
          ],
          [
           "Africa",
           "Cameroon"
          ],
          [
           "Africa",
           "Chad"
          ],
          [
           "Asia",
           "China"
          ],
          [
           "South America",
           "Colombia"
          ],
          [
           "North America",
           "Costa Rica"
          ],
          [
           "North America",
           "Dominican Republic"
          ],
          [
           "South America",
           "Ecuador"
          ],
          [
           "Africa",
           "Egypt"
          ],
          [
           "North America",
           "El Salvador"
          ],
          [
           "Africa",
           "Eswatini"
          ],
          [
           "Africa",
           "Ghana"
          ],
          [
           "North America",
           "Guatemala"
          ],
          [
           "Africa",
           "Guinea-Bissau"
          ],
          [
           "South America",
           "Guyana"
          ],
          [
           "North America",
           "Honduras"
          ],
          [
           "Africa",
           "Kenya"
          ],
          [
           "Asia",
           "Kyrgyz Republic"
          ],
          [
           "Africa",
           "Lesotho"
          ],
          [
           "Africa",
           "Malawi"
          ],
          [
           "North America",
           "Mexico"
          ],
          [
           "Asia",
           "Mongolia"
          ],
          [
           "Asia",
           "Nepal"
          ],
          [
           "North America",
           "Nicaragua"
          ],
          [
           "North America",
           "Panama"
          ],
          [
           "South America",
           "Paraguay"
          ],
          [
           "South America",
           "Peru"
          ],
          [
           "Africa",
           "Senegal"
          ],
          [
           "Europe",
           "Serbia"
          ],
          [
           "Africa",
           "Sudan"
          ],
          [
           "Africa",
           "Togo"
          ],
          [
           "South America",
           "Uruguay"
          ],
          [
           "Africa",
           "Zimbabwe"
          ]
         ],
         "hovertemplate": "Year=2014<br>Sex=F<br>% Completing Primary Ed=%{x}<br>Maternal deaths/100K live births=%{y}<br>GDP per capita=%{marker.size}<br>Continent=%{customdata[0]}<br>Country=%{customdata[1]}<br>Life Expectancy (years)=%{marker.color}<extra></extra>",
         "legendgroup": "",
         "marker": {
          "color": [
           71.231,
           60.345,
           69.891,
           74.745,
           68.273,
           57.083,
           52.789,
           75.629,
           76.322,
           79.398,
           73.003,
           75.923,
           71.117,
           72.175,
           53.569,
           62.416,
           72.935,
           56.556,
           69.049,
           74.278,
           64.135,
           70.4024390243902,
           49.891,
           61.042,
           74.908,
           68.863,
           69.168,
           73.429,
           77.583,
           73.473,
           75.529,
           66.37,
           75.3365853658537,
           64.169,
           59.58,
           77.244,
           58.41
          ],
          "coloraxis": "coloraxis",
          "size": [
           3511.58228216065,
           2975.85391436098,
           7730.63840148344,
           15744.3471113816,
           3364.27872943395,
           3362.664067483,
           1866.26648837908,
           11917.3384959856,
           13899.3688286349,
           18168.715241725,
           14499.6361158376,
           12078.4698435004,
           10353.6684072177,
           7990.44461457603,
           8192.53543463127,
           4675.75856612863,
           7939.09038738555,
           1740.89056524607,
           11244.3126692508,
           5177.40941597809,
           3709.15907577307,
           4722.08600254189,
           2676.9749855703,
           1027.20849641169,
           18949.4798369704,
           10980.3351999295,
           2829.23339391927,
           5443.34174009736,
           27357.6230717227,
           11612.3899106317,
           11877.084063348,
           2868.31769823851,
           15274.9422811457,
           4093.14257664224,
           1404.13293846139,
           20582.1689530456,
           2955.24028731034
          ],
          "sizemode": "area",
          "sizeref": 240.65415667076775,
          "symbol": "circle"
         },
         "mode": "markers",
         "name": "",
         "orientation": "v",
         "showlegend": false,
         "type": "scatter",
         "x": [
          84.44126,
          48.67413,
          92.79,
          97.82,
          77.21745,
          72.50016,
          23.72016,
          98.02,
          94.54,
          94.89,
          94.70614,
          98.29,
          91.53024,
          90.31,
          76.72132,
          67.84778,
          71.65,
          25.74895,
          99.05898,
          83.74,
          86.92873,
          99.46177,
          78.1806,
          51.43,
          97.25,
          98.64397,
          75.60509,
          84.31,
          94.86,
          92.21,
          96.31,
          49.98,
          99.55871,
          64.43813,
          57.59164,
          98.23,
          90.7
         ],
         "xaxis": "x",
         "y": [
          214,
          432,
          175,
          62,
          189,
          564,
          1170,
          31,
          85,
          29,
          94,
          65,
          39,
          49,
          434,
          325,
          107,
          711,
          174,
          68,
          358,
          69,
          579,
          381,
          38,
          49,
          231,
          103,
          60,
          91,
          96,
          364,
          12,
          333,
          401,
          17,
          494
         ],
         "yaxis": "y"
        },
        {
         "customdata": [
          [
           "Asia",
           "Bangladesh"
          ],
          [
           "Africa",
           "Benin"
          ],
          [
           "South America",
           "Bolivia"
          ],
          [
           "South America",
           "Brazil"
          ],
          [
           "Asia",
           "Cambodia"
          ],
          [
           "Africa",
           "Cameroon"
          ],
          [
           "Africa",
           "Chad"
          ],
          [
           "Asia",
           "China"
          ],
          [
           "South America",
           "Colombia"
          ],
          [
           "North America",
           "Costa Rica"
          ],
          [
           "North America",
           "Dominican Republic"
          ],
          [
           "South America",
           "Ecuador"
          ],
          [
           "Africa",
           "Egypt"
          ],
          [
           "North America",
           "El Salvador"
          ],
          [
           "Africa",
           "Eswatini"
          ],
          [
           "Africa",
           "Ghana"
          ],
          [
           "North America",
           "Guatemala"
          ],
          [
           "Africa",
           "Guinea-Bissau"
          ],
          [
           "South America",
           "Guyana"
          ],
          [
           "North America",
           "Honduras"
          ],
          [
           "Africa",
           "Kenya"
          ],
          [
           "Asia",
           "Kyrgyz Republic"
          ],
          [
           "Africa",
           "Lesotho"
          ],
          [
           "Africa",
           "Malawi"
          ],
          [
           "North America",
           "Mexico"
          ],
          [
           "Asia",
           "Mongolia"
          ],
          [
           "Asia",
           "Nepal"
          ],
          [
           "North America",
           "Nicaragua"
          ],
          [
           "North America",
           "Panama"
          ],
          [
           "South America",
           "Paraguay"
          ],
          [
           "South America",
           "Peru"
          ],
          [
           "Africa",
           "Senegal"
          ],
          [
           "Europe",
           "Serbia"
          ],
          [
           "Africa",
           "Sudan"
          ],
          [
           "Africa",
           "Togo"
          ],
          [
           "South America",
           "Uruguay"
          ],
          [
           "Africa",
           "Zimbabwe"
          ]
         ],
         "hovertemplate": "Year=2014<br>Sex=M<br>% Completing Primary Ed=%{x}<br>Maternal deaths/100K live births=%{y}<br>GDP per capita=%{marker.size}<br>Continent=%{customdata[0]}<br>Country=%{customdata[1]}<br>Life Expectancy (years)=%{marker.color}<extra></extra>",
         "legendgroup": "",
         "marker": {
          "color": [
           71.231,
           60.345,
           69.891,
           74.745,
           68.273,
           57.083,
           52.789,
           75.629,
           76.322,
           79.398,
           73.003,
           75.923,
           71.117,
           72.175,
           53.569,
           62.416,
           72.935,
           56.556,
           69.049,
           74.278,
           64.135,
           70.4024390243902,
           49.891,
           61.042,
           74.908,
           68.863,
           69.168,
           73.429,
           77.583,
           73.473,
           75.529,
           66.37,
           75.3365853658537,
           64.169,
           59.58,
           77.244,
           58.41
          ],
          "coloraxis": "coloraxis",
          "size": [
           3511.58228216065,
           2975.85391436098,
           7730.63840148344,
           15744.3471113816,
           3364.27872943395,
           3362.664067483,
           1866.26648837908,
           11917.3384959856,
           13899.3688286349,
           18168.715241725,
           14499.6361158376,
           12078.4698435004,
           10353.6684072177,
           7990.44461457603,
           8192.53543463127,
           4675.75856612863,
           7939.09038738555,
           1740.89056524607,
           11244.3126692508,
           5177.40941597809,
           3709.15907577307,
           4722.08600254189,
           2676.9749855703,
           1027.20849641169,
           18949.4798369704,
           10980.3351999295,
           2829.23339391927,
           5443.34174009736,
           27357.6230717227,
           11612.3899106317,
           11877.084063348,
           2868.31769823851,
           15274.9422811457,
           4093.14257664224,
           1404.13293846139,
           20582.1689530456,
           2955.24028731034
          ],
          "sizemode": "area",
          "sizeref": 240.65415667076775,
          "symbol": "circle"
         },
         "mode": "markers",
         "name": "",
         "orientation": "v",
         "showlegend": false,
         "type": "scatter",
         "x": [
          75.05403,
          58.73172,
          93.58,
          95.69,
          67.72973,
          74.84718,
          30.58417,
          96.53,
          89.47,
          94.17,
          88.34187,
          97.07,
          90.22861,
          86.52,
          64.0539,
          63.79495,
          73.17,
          32.32904,
          95.91525,
          81.37,
          81.44463,
          99.08892,
          52.59899,
          45.19,
          95.66,
          97.17731,
          76.88139,
          66.02,
          93.4,
          87.28,
          95.15,
          50.39,
          99.1021,
          66.45132,
          64.5542,
          96.42,
          83.17
         ],
         "xaxis": "x2",
         "y": [
          214,
          432,
          175,
          62,
          189,
          564,
          1170,
          31,
          85,
          29,
          94,
          65,
          39,
          49,
          434,
          325,
          107,
          711,
          174,
          68,
          358,
          69,
          579,
          381,
          38,
          49,
          231,
          103,
          60,
          91,
          96,
          364,
          12,
          333,
          401,
          17,
          494
         ],
         "yaxis": "y2"
        },
        {
         "customdata": [
          [
           "Asia",
           "Bangladesh"
          ],
          [
           "Africa",
           "Benin"
          ],
          [
           "South America",
           "Bolivia"
          ],
          [
           "South America",
           "Brazil"
          ],
          [
           "Asia",
           "Cambodia"
          ],
          [
           "Africa",
           "Cameroon"
          ],
          [
           "Africa",
           "Chad"
          ],
          [
           "Asia",
           "China"
          ],
          [
           "South America",
           "Colombia"
          ],
          [
           "North America",
           "Costa Rica"
          ],
          [
           "North America",
           "Dominican Republic"
          ],
          [
           "South America",
           "Ecuador"
          ],
          [
           "Africa",
           "Egypt"
          ],
          [
           "North America",
           "El Salvador"
          ],
          [
           "Africa",
           "Eswatini"
          ],
          [
           "Africa",
           "Ghana"
          ],
          [
           "North America",
           "Guatemala"
          ],
          [
           "Africa",
           "Guinea-Bissau"
          ],
          [
           "South America",
           "Guyana"
          ],
          [
           "North America",
           "Honduras"
          ],
          [
           "Africa",
           "Kenya"
          ],
          [
           "Asia",
           "Kyrgyz Republic"
          ],
          [
           "Africa",
           "Lesotho"
          ],
          [
           "Africa",
           "Malawi"
          ],
          [
           "North America",
           "Mexico"
          ],
          [
           "Asia",
           "Mongolia"
          ],
          [
           "Asia",
           "Nepal"
          ],
          [
           "North America",
           "Nicaragua"
          ],
          [
           "North America",
           "Panama"
          ],
          [
           "South America",
           "Paraguay"
          ],
          [
           "South America",
           "Peru"
          ],
          [
           "Africa",
           "Senegal"
          ],
          [
           "Europe",
           "Serbia"
          ],
          [
           "Africa",
           "Sudan"
          ],
          [
           "Africa",
           "Togo"
          ],
          [
           "South America",
           "Uruguay"
          ],
          [
           "Africa",
           "Zimbabwe"
          ]
         ],
         "hovertemplate": "Year=2014<br>Sex=_T<br>% Completing Primary Ed=%{x}<br>Maternal deaths/100K live births=%{y}<br>GDP per capita=%{marker.size}<br>Continent=%{customdata[0]}<br>Country=%{customdata[1]}<br>Life Expectancy (years)=%{marker.color}<extra></extra>",
         "legendgroup": "",
         "marker": {
          "color": [
           71.231,
           60.345,
           69.891,
           74.745,
           68.273,
           57.083,
           52.789,
           75.629,
           76.322,
           79.398,
           73.003,
           75.923,
           71.117,
           72.175,
           53.569,
           62.416,
           72.935,
           56.556,
           69.049,
           74.278,
           64.135,
           70.4024390243902,
           49.891,
           61.042,
           74.908,
           68.863,
           69.168,
           73.429,
           77.583,
           73.473,
           75.529,
           66.37,
           75.3365853658537,
           64.169,
           59.58,
           77.244,
           58.41
          ],
          "coloraxis": "coloraxis",
          "size": [
           3511.58228216065,
           2975.85391436098,
           7730.63840148344,
           15744.3471113816,
           3364.27872943395,
           3362.664067483,
           1866.26648837908,
           11917.3384959856,
           13899.3688286349,
           18168.715241725,
           14499.6361158376,
           12078.4698435004,
           10353.6684072177,
           7990.44461457603,
           8192.53543463127,
           4675.75856612863,
           7939.09038738555,
           1740.89056524607,
           11244.3126692508,
           5177.40941597809,
           3709.15907577307,
           4722.08600254189,
           2676.9749855703,
           1027.20849641169,
           18949.4798369704,
           10980.3351999295,
           2829.23339391927,
           5443.34174009736,
           27357.6230717227,
           11612.3899106317,
           11877.084063348,
           2868.31769823851,
           15274.9422811457,
           4093.14257664224,
           1404.13293846139,
           20582.1689530456,
           2955.24028731034
          ],
          "sizemode": "area",
          "sizeref": 240.65415667076775,
          "symbol": "circle"
         },
         "mode": "markers",
         "name": "",
         "orientation": "v",
         "showlegend": false,
         "type": "scatter",
         "x": [
          80.01213,
          54.11723,
          93.18,
          96.72,
          72.28277,
          73.64866,
          27.32146,
          97.21,
          91.8,
          94.51,
          91.51656,
          97.64,
          90.86884,
          88.41,
          70.2268,
          65.83102,
          72.4,
          29.14938,
          97.5321,
          82.53,
          84.14092,
          99.26881,
          64.90466,
          48.07,
          96.44,
          97.89996,
          76.22546,
          74.44,
          94.13,
          89.62,
          95.73,
          50.17,
          99.3068,
          65.42644,
          61.28725,
          97.3,
          86.77
         ],
         "xaxis": "x3",
         "y": [
          214,
          432,
          175,
          62,
          189,
          564,
          1170,
          31,
          85,
          29,
          94,
          65,
          39,
          49,
          434,
          325,
          107,
          711,
          174,
          68,
          358,
          69,
          579,
          381,
          38,
          49,
          231,
          103,
          60,
          91,
          96,
          364,
          12,
          333,
          401,
          17,
          494
         ],
         "yaxis": "y3"
        }
       ],
       "layout": {
        "annotations": [
         {
          "font": {},
          "showarrow": false,
          "text": "Sex=F",
          "x": 0.15666666666666665,
          "xanchor": "center",
          "xref": "paper",
          "y": 0.9999999999999999,
          "yanchor": "bottom",
          "yref": "paper"
         },
         {
          "font": {},
          "showarrow": false,
          "text": "Sex=M",
          "x": 0.49,
          "xanchor": "center",
          "xref": "paper",
          "y": 0.9999999999999999,
          "yanchor": "bottom",
          "yref": "paper"
         },
         {
          "font": {},
          "showarrow": false,
          "text": "Sex=_T",
          "x": 0.8233333333333333,
          "xanchor": "center",
          "xref": "paper",
          "y": 0.9999999999999999,
          "yanchor": "bottom",
          "yref": "paper"
         },
         {
          "font": {},
          "showarrow": false,
          "text": "Year=2014",
          "textangle": 90,
          "x": 0.98,
          "xanchor": "left",
          "xref": "paper",
          "y": 0.0365,
          "yanchor": "middle",
          "yref": "paper"
         },
         {
          "font": {},
          "showarrow": false,
          "text": "Year=2013",
          "textangle": 90,
          "x": 0.98,
          "xanchor": "left",
          "xref": "paper",
          "y": 0.13949999999999999,
          "yanchor": "middle",
          "yref": "paper"
         },
         {
          "font": {},
          "showarrow": false,
          "text": "Year=2012",
          "textangle": 90,
          "x": 0.98,
          "xanchor": "left",
          "xref": "paper",
          "y": 0.2425,
          "yanchor": "middle",
          "yref": "paper"
         },
         {
          "font": {},
          "showarrow": false,
          "text": "Year=2011",
          "textangle": 90,
          "x": 0.98,
          "xanchor": "left",
          "xref": "paper",
          "y": 0.3454999999999999,
          "yanchor": "middle",
          "yref": "paper"
         },
         {
          "font": {},
          "showarrow": false,
          "text": "Year=2010",
          "textangle": 90,
          "x": 0.98,
          "xanchor": "left",
          "xref": "paper",
          "y": 0.4485,
          "yanchor": "middle",
          "yref": "paper"
         },
         {
          "font": {},
          "showarrow": false,
          "text": "Year=2009",
          "textangle": 90,
          "x": 0.98,
          "xanchor": "left",
          "xref": "paper",
          "y": 0.5515,
          "yanchor": "middle",
          "yref": "paper"
         },
         {
          "font": {},
          "showarrow": false,
          "text": "Year=2008",
          "textangle": 90,
          "x": 0.98,
          "xanchor": "left",
          "xref": "paper",
          "y": 0.6545,
          "yanchor": "middle",
          "yref": "paper"
         },
         {
          "font": {},
          "showarrow": false,
          "text": "Year=2007",
          "textangle": 90,
          "x": 0.98,
          "xanchor": "left",
          "xref": "paper",
          "y": 0.7575,
          "yanchor": "middle",
          "yref": "paper"
         },
         {
          "font": {},
          "showarrow": false,
          "text": "Year=2006",
          "textangle": 90,
          "x": 0.98,
          "xanchor": "left",
          "xref": "paper",
          "y": 0.8604999999999999,
          "yanchor": "middle",
          "yref": "paper"
         },
         {
          "font": {},
          "showarrow": false,
          "text": "Year=2005",
          "textangle": 90,
          "x": 0.98,
          "xanchor": "left",
          "xref": "paper",
          "y": 0.9634999999999999,
          "yanchor": "middle",
          "yref": "paper"
         }
        ],
        "coloraxis": {
         "colorbar": {
          "title": {
           "text": "Life Expectancy (years)"
          }
         },
         "colorscale": [
          [
           0,
           "#0d0887"
          ],
          [
           0.1111111111111111,
           "#46039f"
          ],
          [
           0.2222222222222222,
           "#7201a8"
          ],
          [
           0.3333333333333333,
           "#9c179e"
          ],
          [
           0.4444444444444444,
           "#bd3786"
          ],
          [
           0.5555555555555556,
           "#d8576b"
          ],
          [
           0.6666666666666666,
           "#ed7953"
          ],
          [
           0.7777777777777778,
           "#fb9f3a"
          ],
          [
           0.8888888888888888,
           "#fdca26"
          ],
          [
           1,
           "#f0f921"
          ]
         ]
        },
        "height": 2500,
        "legend": {
         "itemsizing": "constant",
         "tracegroupgap": 0
        },
        "margin": {
         "t": 60
        },
        "template": {
         "data": {
          "bar": [
           {
            "error_x": {
             "color": "#2a3f5f"
            },
            "error_y": {
             "color": "#2a3f5f"
            },
            "marker": {
             "line": {
              "color": "#E5ECF6",
              "width": 0.5
             },
             "pattern": {
              "fillmode": "overlay",
              "size": 10,
              "solidity": 0.2
             }
            },
            "type": "bar"
           }
          ],
          "barpolar": [
           {
            "marker": {
             "line": {
              "color": "#E5ECF6",
              "width": 0.5
             },
             "pattern": {
              "fillmode": "overlay",
              "size": 10,
              "solidity": 0.2
             }
            },
            "type": "barpolar"
           }
          ],
          "carpet": [
           {
            "aaxis": {
             "endlinecolor": "#2a3f5f",
             "gridcolor": "white",
             "linecolor": "white",
             "minorgridcolor": "white",
             "startlinecolor": "#2a3f5f"
            },
            "baxis": {
             "endlinecolor": "#2a3f5f",
             "gridcolor": "white",
             "linecolor": "white",
             "minorgridcolor": "white",
             "startlinecolor": "#2a3f5f"
            },
            "type": "carpet"
           }
          ],
          "choropleth": [
           {
            "colorbar": {
             "outlinewidth": 0,
             "ticks": ""
            },
            "type": "choropleth"
           }
          ],
          "contour": [
           {
            "colorbar": {
             "outlinewidth": 0,
             "ticks": ""
            },
            "colorscale": [
             [
              0,
              "#0d0887"
             ],
             [
              0.1111111111111111,
              "#46039f"
             ],
             [
              0.2222222222222222,
              "#7201a8"
             ],
             [
              0.3333333333333333,
              "#9c179e"
             ],
             [
              0.4444444444444444,
              "#bd3786"
             ],
             [
              0.5555555555555556,
              "#d8576b"
             ],
             [
              0.6666666666666666,
              "#ed7953"
             ],
             [
              0.7777777777777778,
              "#fb9f3a"
             ],
             [
              0.8888888888888888,
              "#fdca26"
             ],
             [
              1,
              "#f0f921"
             ]
            ],
            "type": "contour"
           }
          ],
          "contourcarpet": [
           {
            "colorbar": {
             "outlinewidth": 0,
             "ticks": ""
            },
            "type": "contourcarpet"
           }
          ],
          "heatmap": [
           {
            "colorbar": {
             "outlinewidth": 0,
             "ticks": ""
            },
            "colorscale": [
             [
              0,
              "#0d0887"
             ],
             [
              0.1111111111111111,
              "#46039f"
             ],
             [
              0.2222222222222222,
              "#7201a8"
             ],
             [
              0.3333333333333333,
              "#9c179e"
             ],
             [
              0.4444444444444444,
              "#bd3786"
             ],
             [
              0.5555555555555556,
              "#d8576b"
             ],
             [
              0.6666666666666666,
              "#ed7953"
             ],
             [
              0.7777777777777778,
              "#fb9f3a"
             ],
             [
              0.8888888888888888,
              "#fdca26"
             ],
             [
              1,
              "#f0f921"
             ]
            ],
            "type": "heatmap"
           }
          ],
          "heatmapgl": [
           {
            "colorbar": {
             "outlinewidth": 0,
             "ticks": ""
            },
            "colorscale": [
             [
              0,
              "#0d0887"
             ],
             [
              0.1111111111111111,
              "#46039f"
             ],
             [
              0.2222222222222222,
              "#7201a8"
             ],
             [
              0.3333333333333333,
              "#9c179e"
             ],
             [
              0.4444444444444444,
              "#bd3786"
             ],
             [
              0.5555555555555556,
              "#d8576b"
             ],
             [
              0.6666666666666666,
              "#ed7953"
             ],
             [
              0.7777777777777778,
              "#fb9f3a"
             ],
             [
              0.8888888888888888,
              "#fdca26"
             ],
             [
              1,
              "#f0f921"
             ]
            ],
            "type": "heatmapgl"
           }
          ],
          "histogram": [
           {
            "marker": {
             "pattern": {
              "fillmode": "overlay",
              "size": 10,
              "solidity": 0.2
             }
            },
            "type": "histogram"
           }
          ],
          "histogram2d": [
           {
            "colorbar": {
             "outlinewidth": 0,
             "ticks": ""
            },
            "colorscale": [
             [
              0,
              "#0d0887"
             ],
             [
              0.1111111111111111,
              "#46039f"
             ],
             [
              0.2222222222222222,
              "#7201a8"
             ],
             [
              0.3333333333333333,
              "#9c179e"
             ],
             [
              0.4444444444444444,
              "#bd3786"
             ],
             [
              0.5555555555555556,
              "#d8576b"
             ],
             [
              0.6666666666666666,
              "#ed7953"
             ],
             [
              0.7777777777777778,
              "#fb9f3a"
             ],
             [
              0.8888888888888888,
              "#fdca26"
             ],
             [
              1,
              "#f0f921"
             ]
            ],
            "type": "histogram2d"
           }
          ],
          "histogram2dcontour": [
           {
            "colorbar": {
             "outlinewidth": 0,
             "ticks": ""
            },
            "colorscale": [
             [
              0,
              "#0d0887"
             ],
             [
              0.1111111111111111,
              "#46039f"
             ],
             [
              0.2222222222222222,
              "#7201a8"
             ],
             [
              0.3333333333333333,
              "#9c179e"
             ],
             [
              0.4444444444444444,
              "#bd3786"
             ],
             [
              0.5555555555555556,
              "#d8576b"
             ],
             [
              0.6666666666666666,
              "#ed7953"
             ],
             [
              0.7777777777777778,
              "#fb9f3a"
             ],
             [
              0.8888888888888888,
              "#fdca26"
             ],
             [
              1,
              "#f0f921"
             ]
            ],
            "type": "histogram2dcontour"
           }
          ],
          "mesh3d": [
           {
            "colorbar": {
             "outlinewidth": 0,
             "ticks": ""
            },
            "type": "mesh3d"
           }
          ],
          "parcoords": [
           {
            "line": {
             "colorbar": {
              "outlinewidth": 0,
              "ticks": ""
             }
            },
            "type": "parcoords"
           }
          ],
          "pie": [
           {
            "automargin": true,
            "type": "pie"
           }
          ],
          "scatter": [
           {
            "marker": {
             "colorbar": {
              "outlinewidth": 0,
              "ticks": ""
             }
            },
            "type": "scatter"
           }
          ],
          "scatter3d": [
           {
            "line": {
             "colorbar": {
              "outlinewidth": 0,
              "ticks": ""
             }
            },
            "marker": {
             "colorbar": {
              "outlinewidth": 0,
              "ticks": ""
             }
            },
            "type": "scatter3d"
           }
          ],
          "scattercarpet": [
           {
            "marker": {
             "colorbar": {
              "outlinewidth": 0,
              "ticks": ""
             }
            },
            "type": "scattercarpet"
           }
          ],
          "scattergeo": [
           {
            "marker": {
             "colorbar": {
              "outlinewidth": 0,
              "ticks": ""
             }
            },
            "type": "scattergeo"
           }
          ],
          "scattergl": [
           {
            "marker": {
             "colorbar": {
              "outlinewidth": 0,
              "ticks": ""
             }
            },
            "type": "scattergl"
           }
          ],
          "scattermapbox": [
           {
            "marker": {
             "colorbar": {
              "outlinewidth": 0,
              "ticks": ""
             }
            },
            "type": "scattermapbox"
           }
          ],
          "scatterpolar": [
           {
            "marker": {
             "colorbar": {
              "outlinewidth": 0,
              "ticks": ""
             }
            },
            "type": "scatterpolar"
           }
          ],
          "scatterpolargl": [
           {
            "marker": {
             "colorbar": {
              "outlinewidth": 0,
              "ticks": ""
             }
            },
            "type": "scatterpolargl"
           }
          ],
          "scatterternary": [
           {
            "marker": {
             "colorbar": {
              "outlinewidth": 0,
              "ticks": ""
             }
            },
            "type": "scatterternary"
           }
          ],
          "surface": [
           {
            "colorbar": {
             "outlinewidth": 0,
             "ticks": ""
            },
            "colorscale": [
             [
              0,
              "#0d0887"
             ],
             [
              0.1111111111111111,
              "#46039f"
             ],
             [
              0.2222222222222222,
              "#7201a8"
             ],
             [
              0.3333333333333333,
              "#9c179e"
             ],
             [
              0.4444444444444444,
              "#bd3786"
             ],
             [
              0.5555555555555556,
              "#d8576b"
             ],
             [
              0.6666666666666666,
              "#ed7953"
             ],
             [
              0.7777777777777778,
              "#fb9f3a"
             ],
             [
              0.8888888888888888,
              "#fdca26"
             ],
             [
              1,
              "#f0f921"
             ]
            ],
            "type": "surface"
           }
          ],
          "table": [
           {
            "cells": {
             "fill": {
              "color": "#EBF0F8"
             },
             "line": {
              "color": "white"
             }
            },
            "header": {
             "fill": {
              "color": "#C8D4E3"
             },
             "line": {
              "color": "white"
             }
            },
            "type": "table"
           }
          ]
         },
         "layout": {
          "annotationdefaults": {
           "arrowcolor": "#2a3f5f",
           "arrowhead": 0,
           "arrowwidth": 1
          },
          "autotypenumbers": "strict",
          "coloraxis": {
           "colorbar": {
            "outlinewidth": 0,
            "ticks": ""
           }
          },
          "colorscale": {
           "diverging": [
            [
             0,
             "#8e0152"
            ],
            [
             0.1,
             "#c51b7d"
            ],
            [
             0.2,
             "#de77ae"
            ],
            [
             0.3,
             "#f1b6da"
            ],
            [
             0.4,
             "#fde0ef"
            ],
            [
             0.5,
             "#f7f7f7"
            ],
            [
             0.6,
             "#e6f5d0"
            ],
            [
             0.7,
             "#b8e186"
            ],
            [
             0.8,
             "#7fbc41"
            ],
            [
             0.9,
             "#4d9221"
            ],
            [
             1,
             "#276419"
            ]
           ],
           "sequential": [
            [
             0,
             "#0d0887"
            ],
            [
             0.1111111111111111,
             "#46039f"
            ],
            [
             0.2222222222222222,
             "#7201a8"
            ],
            [
             0.3333333333333333,
             "#9c179e"
            ],
            [
             0.4444444444444444,
             "#bd3786"
            ],
            [
             0.5555555555555556,
             "#d8576b"
            ],
            [
             0.6666666666666666,
             "#ed7953"
            ],
            [
             0.7777777777777778,
             "#fb9f3a"
            ],
            [
             0.8888888888888888,
             "#fdca26"
            ],
            [
             1,
             "#f0f921"
            ]
           ],
           "sequentialminus": [
            [
             0,
             "#0d0887"
            ],
            [
             0.1111111111111111,
             "#46039f"
            ],
            [
             0.2222222222222222,
             "#7201a8"
            ],
            [
             0.3333333333333333,
             "#9c179e"
            ],
            [
             0.4444444444444444,
             "#bd3786"
            ],
            [
             0.5555555555555556,
             "#d8576b"
            ],
            [
             0.6666666666666666,
             "#ed7953"
            ],
            [
             0.7777777777777778,
             "#fb9f3a"
            ],
            [
             0.8888888888888888,
             "#fdca26"
            ],
            [
             1,
             "#f0f921"
            ]
           ]
          },
          "colorway": [
           "#636efa",
           "#EF553B",
           "#00cc96",
           "#ab63fa",
           "#FFA15A",
           "#19d3f3",
           "#FF6692",
           "#B6E880",
           "#FF97FF",
           "#FECB52"
          ],
          "font": {
           "color": "#2a3f5f"
          },
          "geo": {
           "bgcolor": "white",
           "lakecolor": "white",
           "landcolor": "#E5ECF6",
           "showlakes": true,
           "showland": true,
           "subunitcolor": "white"
          },
          "hoverlabel": {
           "align": "left"
          },
          "hovermode": "closest",
          "mapbox": {
           "style": "light"
          },
          "paper_bgcolor": "white",
          "plot_bgcolor": "#E5ECF6",
          "polar": {
           "angularaxis": {
            "gridcolor": "white",
            "linecolor": "white",
            "ticks": ""
           },
           "bgcolor": "#E5ECF6",
           "radialaxis": {
            "gridcolor": "white",
            "linecolor": "white",
            "ticks": ""
           }
          },
          "scene": {
           "xaxis": {
            "backgroundcolor": "#E5ECF6",
            "gridcolor": "white",
            "gridwidth": 2,
            "linecolor": "white",
            "showbackground": true,
            "ticks": "",
            "zerolinecolor": "white"
           },
           "yaxis": {
            "backgroundcolor": "#E5ECF6",
            "gridcolor": "white",
            "gridwidth": 2,
            "linecolor": "white",
            "showbackground": true,
            "ticks": "",
            "zerolinecolor": "white"
           },
           "zaxis": {
            "backgroundcolor": "#E5ECF6",
            "gridcolor": "white",
            "gridwidth": 2,
            "linecolor": "white",
            "showbackground": true,
            "ticks": "",
            "zerolinecolor": "white"
           }
          },
          "shapedefaults": {
           "line": {
            "color": "#2a3f5f"
           }
          },
          "ternary": {
           "aaxis": {
            "gridcolor": "white",
            "linecolor": "white",
            "ticks": ""
           },
           "baxis": {
            "gridcolor": "white",
            "linecolor": "white",
            "ticks": ""
           },
           "bgcolor": "#E5ECF6",
           "caxis": {
            "gridcolor": "white",
            "linecolor": "white",
            "ticks": ""
           }
          },
          "title": {
           "x": 0.05
          },
          "xaxis": {
           "automargin": true,
           "gridcolor": "white",
           "linecolor": "white",
           "ticks": "",
           "title": {
            "standoff": 15
           },
           "zerolinecolor": "white",
           "zerolinewidth": 2
          },
          "yaxis": {
           "automargin": true,
           "gridcolor": "white",
           "linecolor": "white",
           "ticks": "",
           "title": {
            "standoff": 15
           },
           "zerolinecolor": "white",
           "zerolinewidth": 2
          }
         }
        },
        "width": 900,
        "xaxis": {
         "anchor": "y",
         "domain": [
          0,
          0.3133333333333333
         ],
         "title": {
          "text": "% Completing Primary Ed"
         }
        },
        "xaxis10": {
         "anchor": "y10",
         "domain": [
          0,
          0.3133333333333333
         ],
         "matches": "x",
         "showticklabels": false
        },
        "xaxis11": {
         "anchor": "y11",
         "domain": [
          0.3333333333333333,
          0.6466666666666666
         ],
         "matches": "x",
         "showticklabels": false
        },
        "xaxis12": {
         "anchor": "y12",
         "domain": [
          0.6666666666666666,
          0.98
         ],
         "matches": "x",
         "showticklabels": false
        },
        "xaxis13": {
         "anchor": "y13",
         "domain": [
          0,
          0.3133333333333333
         ],
         "matches": "x",
         "showticklabels": false
        },
        "xaxis14": {
         "anchor": "y14",
         "domain": [
          0.3333333333333333,
          0.6466666666666666
         ],
         "matches": "x",
         "showticklabels": false
        },
        "xaxis15": {
         "anchor": "y15",
         "domain": [
          0.6666666666666666,
          0.98
         ],
         "matches": "x",
         "showticklabels": false
        },
        "xaxis16": {
         "anchor": "y16",
         "domain": [
          0,
          0.3133333333333333
         ],
         "matches": "x",
         "showticklabels": false
        },
        "xaxis17": {
         "anchor": "y17",
         "domain": [
          0.3333333333333333,
          0.6466666666666666
         ],
         "matches": "x",
         "showticklabels": false
        },
        "xaxis18": {
         "anchor": "y18",
         "domain": [
          0.6666666666666666,
          0.98
         ],
         "matches": "x",
         "showticklabels": false
        },
        "xaxis19": {
         "anchor": "y19",
         "domain": [
          0,
          0.3133333333333333
         ],
         "matches": "x",
         "showticklabels": false
        },
        "xaxis2": {
         "anchor": "y2",
         "domain": [
          0.3333333333333333,
          0.6466666666666666
         ],
         "matches": "x",
         "title": {
          "text": "% Completing Primary Ed"
         }
        },
        "xaxis20": {
         "anchor": "y20",
         "domain": [
          0.3333333333333333,
          0.6466666666666666
         ],
         "matches": "x",
         "showticklabels": false
        },
        "xaxis21": {
         "anchor": "y21",
         "domain": [
          0.6666666666666666,
          0.98
         ],
         "matches": "x",
         "showticklabels": false
        },
        "xaxis22": {
         "anchor": "y22",
         "domain": [
          0,
          0.3133333333333333
         ],
         "matches": "x",
         "showticklabels": false
        },
        "xaxis23": {
         "anchor": "y23",
         "domain": [
          0.3333333333333333,
          0.6466666666666666
         ],
         "matches": "x",
         "showticklabels": false
        },
        "xaxis24": {
         "anchor": "y24",
         "domain": [
          0.6666666666666666,
          0.98
         ],
         "matches": "x",
         "showticklabels": false
        },
        "xaxis25": {
         "anchor": "y25",
         "domain": [
          0,
          0.3133333333333333
         ],
         "matches": "x",
         "showticklabels": false
        },
        "xaxis26": {
         "anchor": "y26",
         "domain": [
          0.3333333333333333,
          0.6466666666666666
         ],
         "matches": "x",
         "showticklabels": false
        },
        "xaxis27": {
         "anchor": "y27",
         "domain": [
          0.6666666666666666,
          0.98
         ],
         "matches": "x",
         "showticklabels": false
        },
        "xaxis28": {
         "anchor": "y28",
         "domain": [
          0,
          0.3133333333333333
         ],
         "matches": "x",
         "showticklabels": false
        },
        "xaxis29": {
         "anchor": "y29",
         "domain": [
          0.3333333333333333,
          0.6466666666666666
         ],
         "matches": "x",
         "showticklabels": false
        },
        "xaxis3": {
         "anchor": "y3",
         "domain": [
          0.6666666666666666,
          0.98
         ],
         "matches": "x",
         "title": {
          "text": "% Completing Primary Ed"
         }
        },
        "xaxis30": {
         "anchor": "y30",
         "domain": [
          0.6666666666666666,
          0.98
         ],
         "matches": "x",
         "showticklabels": false
        },
        "xaxis4": {
         "anchor": "y4",
         "domain": [
          0,
          0.3133333333333333
         ],
         "matches": "x",
         "showticklabels": false
        },
        "xaxis5": {
         "anchor": "y5",
         "domain": [
          0.3333333333333333,
          0.6466666666666666
         ],
         "matches": "x",
         "showticklabels": false
        },
        "xaxis6": {
         "anchor": "y6",
         "domain": [
          0.6666666666666666,
          0.98
         ],
         "matches": "x",
         "showticklabels": false
        },
        "xaxis7": {
         "anchor": "y7",
         "domain": [
          0,
          0.3133333333333333
         ],
         "matches": "x",
         "showticklabels": false
        },
        "xaxis8": {
         "anchor": "y8",
         "domain": [
          0.3333333333333333,
          0.6466666666666666
         ],
         "matches": "x",
         "showticklabels": false
        },
        "xaxis9": {
         "anchor": "y9",
         "domain": [
          0.6666666666666666,
          0.98
         ],
         "matches": "x",
         "showticklabels": false
        },
        "yaxis": {
         "anchor": "x",
         "domain": [
          0,
          0.073
         ],
         "title": {
          "text": "Maternal deaths/100K live births"
         }
        },
        "yaxis10": {
         "anchor": "x10",
         "domain": [
          0.30899999999999994,
          0.38199999999999995
         ],
         "matches": "y",
         "title": {
          "text": "Maternal deaths/100K live births"
         }
        },
        "yaxis11": {
         "anchor": "x11",
         "domain": [
          0.30899999999999994,
          0.38199999999999995
         ],
         "matches": "y",
         "showticklabels": false
        },
        "yaxis12": {
         "anchor": "x12",
         "domain": [
          0.30899999999999994,
          0.38199999999999995
         ],
         "matches": "y",
         "showticklabels": false
        },
        "yaxis13": {
         "anchor": "x13",
         "domain": [
          0.412,
          0.485
         ],
         "matches": "y",
         "title": {
          "text": "Maternal deaths/100K live births"
         }
        },
        "yaxis14": {
         "anchor": "x14",
         "domain": [
          0.412,
          0.485
         ],
         "matches": "y",
         "showticklabels": false
        },
        "yaxis15": {
         "anchor": "x15",
         "domain": [
          0.412,
          0.485
         ],
         "matches": "y",
         "showticklabels": false
        },
        "yaxis16": {
         "anchor": "x16",
         "domain": [
          0.515,
          0.588
         ],
         "matches": "y",
         "title": {
          "text": "Maternal deaths/100K live births"
         }
        },
        "yaxis17": {
         "anchor": "x17",
         "domain": [
          0.515,
          0.588
         ],
         "matches": "y",
         "showticklabels": false
        },
        "yaxis18": {
         "anchor": "x18",
         "domain": [
          0.515,
          0.588
         ],
         "matches": "y",
         "showticklabels": false
        },
        "yaxis19": {
         "anchor": "x19",
         "domain": [
          0.618,
          0.691
         ],
         "matches": "y",
         "title": {
          "text": "Maternal deaths/100K live births"
         }
        },
        "yaxis2": {
         "anchor": "x2",
         "domain": [
          0,
          0.073
         ],
         "matches": "y",
         "showticklabels": false
        },
        "yaxis20": {
         "anchor": "x20",
         "domain": [
          0.618,
          0.691
         ],
         "matches": "y",
         "showticklabels": false
        },
        "yaxis21": {
         "anchor": "x21",
         "domain": [
          0.618,
          0.691
         ],
         "matches": "y",
         "showticklabels": false
        },
        "yaxis22": {
         "anchor": "x22",
         "domain": [
          0.721,
          0.7939999999999999
         ],
         "matches": "y",
         "title": {
          "text": "Maternal deaths/100K live births"
         }
        },
        "yaxis23": {
         "anchor": "x23",
         "domain": [
          0.721,
          0.7939999999999999
         ],
         "matches": "y",
         "showticklabels": false
        },
        "yaxis24": {
         "anchor": "x24",
         "domain": [
          0.721,
          0.7939999999999999
         ],
         "matches": "y",
         "showticklabels": false
        },
        "yaxis25": {
         "anchor": "x25",
         "domain": [
          0.824,
          0.8969999999999999
         ],
         "matches": "y",
         "title": {
          "text": "Maternal deaths/100K live births"
         }
        },
        "yaxis26": {
         "anchor": "x26",
         "domain": [
          0.824,
          0.8969999999999999
         ],
         "matches": "y",
         "showticklabels": false
        },
        "yaxis27": {
         "anchor": "x27",
         "domain": [
          0.824,
          0.8969999999999999
         ],
         "matches": "y",
         "showticklabels": false
        },
        "yaxis28": {
         "anchor": "x28",
         "domain": [
          0.9269999999999999,
          0.9999999999999999
         ],
         "matches": "y",
         "title": {
          "text": "Maternal deaths/100K live births"
         }
        },
        "yaxis29": {
         "anchor": "x29",
         "domain": [
          0.9269999999999999,
          0.9999999999999999
         ],
         "matches": "y",
         "showticklabels": false
        },
        "yaxis3": {
         "anchor": "x3",
         "domain": [
          0,
          0.073
         ],
         "matches": "y",
         "showticklabels": false
        },
        "yaxis30": {
         "anchor": "x30",
         "domain": [
          0.9269999999999999,
          0.9999999999999999
         ],
         "matches": "y",
         "showticklabels": false
        },
        "yaxis4": {
         "anchor": "x4",
         "domain": [
          0.103,
          0.176
         ],
         "matches": "y",
         "title": {
          "text": "Maternal deaths/100K live births"
         }
        },
        "yaxis5": {
         "anchor": "x5",
         "domain": [
          0.103,
          0.176
         ],
         "matches": "y",
         "showticklabels": false
        },
        "yaxis6": {
         "anchor": "x6",
         "domain": [
          0.103,
          0.176
         ],
         "matches": "y",
         "showticklabels": false
        },
        "yaxis7": {
         "anchor": "x7",
         "domain": [
          0.206,
          0.27899999999999997
         ],
         "matches": "y",
         "title": {
          "text": "Maternal deaths/100K live births"
         }
        },
        "yaxis8": {
         "anchor": "x8",
         "domain": [
          0.206,
          0.27899999999999997
         ],
         "matches": "y",
         "showticklabels": false
        },
        "yaxis9": {
         "anchor": "x9",
         "domain": [
          0.206,
          0.27899999999999997
         ],
         "matches": "y",
         "showticklabels": false
        }
       }
      },
      "text/html": [
       "<div>                            <div id=\"2855e2e6-fe0a-42a8-9341-dc8a422d1df7\" class=\"plotly-graph-div\" style=\"height:2500px; width:900px;\"></div>            <script type=\"text/javascript\">                require([\"plotly\"], function(Plotly) {                    window.PLOTLYENV=window.PLOTLYENV || {};                                    if (document.getElementById(\"2855e2e6-fe0a-42a8-9341-dc8a422d1df7\")) {                    Plotly.newPlot(                        \"2855e2e6-fe0a-42a8-9341-dc8a422d1df7\",                        [{\"customdata\":[[\"Europe\",\"Albania\"],[\"Europe\",\"Belarus\"],[\"South America\",\"Bolivia\"],[\"South America\",\"Brazil\"],[\"Africa\",\"Burundi\"],[\"Asia\",\"Cambodia\"],[\"Africa\",\"Cameroon\"],[\"South America\",\"Colombia\"],[\"Africa\",\"Congo\"],[\"North America\",\"Costa Rica\"],[\"North America\",\"Dominican Republic\"],[\"South America\",\"Ecuador\"],[\"Africa\",\"Egypt\"],[\"North America\",\"El Salvador\"],[\"Africa\",\"Ethiopia\"],[\"Europe\",\"Georgia\"],[\"Africa\",\"Guinea\"],[\"North America\",\"Haiti\"],[\"North America\",\"Honduras\"],[\"Asia\",\"India\"],[\"North America\",\"Jamaica\"],[\"Africa\",\"Lesotho\"],[\"Europe\",\"Montenegro\"],[\"North America\",\"Nicaragua\"],[\"Europe\",\"North Macedonia\"],[\"North America\",\"Panama\"],[\"South America\",\"Paraguay\"],[\"South America\",\"Peru\"],[\"Africa\",\"Rwanda\"],[\"Africa\",\"Senegal\"],[\"Europe\",\"Serbia\"],[\"Africa\",\"Sierra Leone\"],[\"Asia\",\"Thailand\"],[\"Europe\",\"Ukraine\"],[\"Africa\",\"Zimbabwe\"]],\"hovertemplate\":\"Year=2005<br>Sex=F<br>% Completing Primary Ed=%{x}<br>Maternal deaths/100K live births=%{y}<br>GDP per capita=%{marker.size}<br>Continent=%{customdata[0]}<br>Country=%{customdata[1]}<br>Life Expectancy (years)=%{marker.color}<extra></extra>\",\"legendgroup\":\"\",\"marker\":{\"color\":[75.228,68.8512195121951,65.312,71.896,53.369,63.088,52.76,74.265,55.6,78.117,70.771,74.112,69.434,70.124,56.223,70.538,53.238,58.652,72.026,64.5,74.148,42.658,73.9829268292683,71.195,73.6975609756098,75.892,71.667,72.908,55.254,60.62,72.8341463414634,44.502,72.099,67.9568292682927,43.241],\"coloraxis\":\"coloraxis\",\"size\":[8066.55744546876,11940.1865961058,5749.52853108943,12561.8201732326,798.704284723934,2120.55187709438,2982.0247447709,10083.3143613973,4677.8780452455,13925.0788185196,10291.3088797642,9503.68919042493,8397.03322231274,6870.62247722546,862.355330588949,7315.19848048057,1794.4145141069,2629.11154739696,4546.23880650616,3239.33303556796,9916.91951109908,1892.43574195623,14093.6805302268,4320.77512283701,11121.5902024674,16304.5988099709,8568.54754975229,7519.02772018677,1148.44702200812,2650.83530341655,12317.1837218579,1244.90251686215,12316.627183929,10957.5582756783,2328.17612903911],\"sizemode\":\"area\",\"sizeref\":240.65415667076775,\"symbol\":\"circle\"},\"mode\":\"markers\",\"name\":\"\",\"orientation\":\"v\",\"showlegend\":false,\"x\":[98.81,100.0,88.87,95.22,11.65,58.90414,68.2568,87.61098,63.85842,92.39,85.68,93.75,81.30888,79.2,23.29575,97.87,23.7841,44.88008,77.11,75.1,99.39,63.58078,98.85,67.93,97.16,93.29,88.05,88.89,10.93098,22.23406,98.81,29.06,98.04,98.8,88.63229],\"xaxis\":\"x28\",\"y\":[22.0,11.0,271.0,71.0,814.0,351.0,692.0,83.0,677.0,33.0,83.0,94.0,52.0,62.0,865.0,39.0,920.0,459.0,77.0,286.0,80.0,679.0,9.0,131.0,10.0,88.0,137.0,118.0,643.0,519.0,12.0,1760.0,43.0,33.0,685.0],\"yaxis\":\"y28\",\"type\":\"scatter\"},{\"customdata\":[[\"Europe\",\"Albania\"],[\"Europe\",\"Belarus\"],[\"South America\",\"Bolivia\"],[\"South America\",\"Brazil\"],[\"Africa\",\"Burundi\"],[\"Asia\",\"Cambodia\"],[\"Africa\",\"Cameroon\"],[\"South America\",\"Colombia\"],[\"Africa\",\"Congo\"],[\"North America\",\"Costa Rica\"],[\"North America\",\"Dominican Republic\"],[\"South America\",\"Ecuador\"],[\"Africa\",\"Egypt\"],[\"North America\",\"El Salvador\"],[\"Africa\",\"Ethiopia\"],[\"Europe\",\"Georgia\"],[\"Africa\",\"Guinea\"],[\"North America\",\"Haiti\"],[\"North America\",\"Honduras\"],[\"Asia\",\"India\"],[\"North America\",\"Jamaica\"],[\"Africa\",\"Lesotho\"],[\"Europe\",\"Montenegro\"],[\"North America\",\"Nicaragua\"],[\"Europe\",\"North Macedonia\"],[\"North America\",\"Panama\"],[\"South America\",\"Paraguay\"],[\"South America\",\"Peru\"],[\"Africa\",\"Rwanda\"],[\"Africa\",\"Senegal\"],[\"Europe\",\"Serbia\"],[\"Africa\",\"Sierra Leone\"],[\"Asia\",\"Thailand\"],[\"Europe\",\"Ukraine\"],[\"Africa\",\"Zimbabwe\"]],\"hovertemplate\":\"Year=2005<br>Sex=M<br>% Completing Primary Ed=%{x}<br>Maternal deaths/100K live births=%{y}<br>GDP per capita=%{marker.size}<br>Continent=%{customdata[0]}<br>Country=%{customdata[1]}<br>Life Expectancy (years)=%{marker.color}<extra></extra>\",\"legendgroup\":\"\",\"marker\":{\"color\":[75.228,68.8512195121951,65.312,71.896,53.369,63.088,52.76,74.265,55.6,78.117,70.771,74.112,69.434,70.124,56.223,70.538,53.238,58.652,72.026,64.5,74.148,42.658,73.9829268292683,71.195,73.6975609756098,75.892,71.667,72.908,55.254,60.62,72.8341463414634,44.502,72.099,67.9568292682927,43.241],\"coloraxis\":\"coloraxis\",\"size\":[8066.55744546876,11940.1865961058,5749.52853108943,12561.8201732326,798.704284723934,2120.55187709438,2982.0247447709,10083.3143613973,4677.8780452455,13925.0788185196,10291.3088797642,9503.68919042493,8397.03322231274,6870.62247722546,862.355330588949,7315.19848048057,1794.4145141069,2629.11154739696,4546.23880650616,3239.33303556796,9916.91951109908,1892.43574195623,14093.6805302268,4320.77512283701,11121.5902024674,16304.5988099709,8568.54754975229,7519.02772018677,1148.44702200812,2650.83530341655,12317.1837218579,1244.90251686215,12316.627183929,10957.5582756783,2328.17612903911],\"sizemode\":\"area\",\"sizeref\":240.65415667076775,\"symbol\":\"circle\"},\"mode\":\"markers\",\"name\":\"\",\"orientation\":\"v\",\"showlegend\":false,\"x\":[99.01,99.66,89.23,91.71,14.84,58.99419,72.24709,81.82281,62.89907,88.86,77.65,90.65,86.36117,77.9,32.94855,98.65,44.3191,36.75323,68.43,77.89,98.67,37.0059,97.62,56.71,96.99,90.39,81.63,91.32,10.01228,27.84762,99.27,34.98,97.31,100.0,85.86732],\"xaxis\":\"x29\",\"y\":[22.0,11.0,271.0,71.0,814.0,351.0,692.0,83.0,677.0,33.0,83.0,94.0,52.0,62.0,865.0,39.0,920.0,459.0,77.0,286.0,80.0,679.0,9.0,131.0,10.0,88.0,137.0,118.0,643.0,519.0,12.0,1760.0,43.0,33.0,685.0],\"yaxis\":\"y29\",\"type\":\"scatter\"},{\"customdata\":[[\"Europe\",\"Albania\"],[\"Europe\",\"Belarus\"],[\"South America\",\"Bolivia\"],[\"South America\",\"Brazil\"],[\"Africa\",\"Burundi\"],[\"Asia\",\"Cambodia\"],[\"Africa\",\"Cameroon\"],[\"South America\",\"Colombia\"],[\"Africa\",\"Congo\"],[\"North America\",\"Costa Rica\"],[\"North America\",\"Dominican Republic\"],[\"South America\",\"Ecuador\"],[\"Africa\",\"Egypt\"],[\"North America\",\"El Salvador\"],[\"Africa\",\"Ethiopia\"],[\"Europe\",\"Georgia\"],[\"Africa\",\"Guinea\"],[\"North America\",\"Haiti\"],[\"North America\",\"Honduras\"],[\"Asia\",\"India\"],[\"North America\",\"Jamaica\"],[\"Africa\",\"Lesotho\"],[\"Europe\",\"Montenegro\"],[\"North America\",\"Nicaragua\"],[\"Europe\",\"North Macedonia\"],[\"North America\",\"Panama\"],[\"South America\",\"Paraguay\"],[\"South America\",\"Peru\"],[\"Africa\",\"Rwanda\"],[\"Africa\",\"Senegal\"],[\"Europe\",\"Serbia\"],[\"Africa\",\"Sierra Leone\"],[\"Asia\",\"Thailand\"],[\"Europe\",\"Ukraine\"],[\"Africa\",\"Zimbabwe\"]],\"hovertemplate\":\"Year=2005<br>Sex=_T<br>% Completing Primary Ed=%{x}<br>Maternal deaths/100K live births=%{y}<br>GDP per capita=%{marker.size}<br>Continent=%{customdata[0]}<br>Country=%{customdata[1]}<br>Life Expectancy (years)=%{marker.color}<extra></extra>\",\"legendgroup\":\"\",\"marker\":{\"color\":[75.228,68.8512195121951,65.312,71.896,53.369,63.088,52.76,74.265,55.6,78.117,70.771,74.112,69.434,70.124,56.223,70.538,53.238,58.652,72.026,64.5,74.148,42.658,73.9829268292683,71.195,73.6975609756098,75.892,71.667,72.908,55.254,60.62,72.8341463414634,44.502,72.099,67.9568292682927,43.241],\"coloraxis\":\"coloraxis\",\"size\":[8066.55744546876,11940.1865961058,5749.52853108943,12561.8201732326,798.704284723934,2120.55187709438,2982.0247447709,10083.3143613973,4677.8780452455,13925.0788185196,10291.3088797642,9503.68919042493,8397.03322231274,6870.62247722546,862.355330588949,7315.19848048057,1794.4145141069,2629.11154739696,4546.23880650616,3239.33303556796,9916.91951109908,1892.43574195623,14093.6805302268,4320.77512283701,11121.5902024674,16304.5988099709,8568.54754975229,7519.02772018677,1148.44702200812,2650.83530341655,12317.1837218579,1244.90251686215,12316.627183929,10957.5582756783,2328.17612903911],\"sizemode\":\"area\",\"sizeref\":240.65415667076775,\"symbol\":\"circle\"},\"mode\":\"markers\",\"name\":\"\",\"orientation\":\"v\",\"showlegend\":false,\"x\":[98.91,99.83,89.05,93.44,13.17,58.95035,70.26693,84.71531,63.39317,90.63,81.56,92.13,83.85818,78.54,28.21768,98.27,33.52226,40.90987,72.8,76.53,98.99,49.87584,98.25,62.43,97.06,91.79,84.73,90.11,10.48374,24.8962,99.04,32.69,97.67,99.44,87.26836],\"xaxis\":\"x30\",\"y\":[22.0,11.0,271.0,71.0,814.0,351.0,692.0,83.0,677.0,33.0,83.0,94.0,52.0,62.0,865.0,39.0,920.0,459.0,77.0,286.0,80.0,679.0,9.0,131.0,10.0,88.0,137.0,118.0,643.0,519.0,12.0,1760.0,43.0,33.0,685.0],\"yaxis\":\"y30\",\"type\":\"scatter\"},{\"customdata\":[[\"Europe\",\"Armenia\"],[\"Europe\",\"Azerbaijan\"],[\"Asia\",\"Bangladesh\"],[\"North America\",\"Belize\"],[\"Africa\",\"Benin\"],[\"South America\",\"Bolivia\"],[\"Europe\",\"Bosnia and Herzegovina\"],[\"South America\",\"Brazil\"],[\"Africa\",\"Burkina Faso\"],[\"Africa\",\"Cameroon\"],[\"South America\",\"Chile\"],[\"North America\",\"Costa Rica\"],[\"North America\",\"Dominican Republic\"],[\"South America\",\"Ecuador\"],[\"North America\",\"El Salvador\"],[\"Africa\",\"Eswatini\"],[\"Africa\",\"Gambia\"],[\"Africa\",\"Ghana\"],[\"North America\",\"Guatemala\"],[\"Africa\",\"Guinea-Bissau\"],[\"South America\",\"Guyana\"],[\"North America\",\"Honduras\"],[\"Asia\",\"India\"],[\"Asia\",\"Iraq\"],[\"Asia\",\"Kazakhstan\"],[\"Asia\",\"Kyrgyz Republic\"],[\"Africa\",\"Malawi\"],[\"Africa\",\"Mali\"],[\"North America\",\"Mexico\"],[\"Asia\",\"Mongolia\"],[\"Africa\",\"Niger\"],[\"North America\",\"Panama\"],[\"South America\",\"Paraguay\"],[\"South America\",\"Peru\"],[\"Asia\",\"Sri Lanka\"],[\"South America\",\"Suriname\"],[\"Asia\",\"Tajikistan\"],[\"Africa\",\"Togo\"],[\"North America\",\"Trinidad and Tobago\"],[\"Asia\",\"Turkmenistan\"],[\"Africa\",\"Uganda\"],[\"Asia\",\"Uzbekistan\"]],\"hovertemplate\":\"Year=2006<br>Sex=F<br>% Completing Primary Ed=%{x}<br>Maternal deaths/100K live births=%{y}<br>GDP per capita=%{marker.size}<br>Continent=%{customdata[0]}<br>Country=%{customdata[1]}<br>Life Expectancy (years)=%{marker.color}<extra></extra>\",\"legendgroup\":\"\",\"marker\":{\"color\":[72.716,69.259,68.213,70.286,57.817,65.853,75.342,72.26,54.063,53.215,77.865,78.239,71.041,74.319,70.333,42.733,58.313,59.234,70.082,52.691,66.972,72.285,64.918,68.157,66.15,67.6951219512195,49.118,52.839,75.296,65.538,54.18,76.06,71.862,73.222,74.904,69.227,66.771,55.052,70.952,65.354,52.784,68.676],\"coloraxis\":\"coloraxis\",\"size\":[8464.46855827733,9605.09610840819,2399.08200601731,7431.40892856573,2606.81617978405,5920.71166230972,9888.4465067144,12917.9168849667,1574.72978048784,3002.13521299317,19664.9960674424,14727.059051568,11087.4759487139,9757.37163256092,7136.8417603354,6906.58443971881,2137.81718540257,3207.53153952901,6973.03272002819,1675.77139557957,8371.87268005484,4733.54600929301,3446.75674622652,8137.45569996789,18112.7787011954,3588.0899177681,794.908810441122,1983.70555095442,18379.5267568773,6305.8182724406,981.158045183196,17394.3882205425,8845.11089761096,8017.25473629249,7419.41553371741,14969.9330334428,1909.26104271471,1185.37863323842,27552.3779238423,6174.74444680973,1588.77506313767,3614.57737070251],\"sizemode\":\"area\",\"sizeref\":240.65415667076775,\"symbol\":\"circle\"},\"mode\":\"markers\",\"name\":\"\",\"orientation\":\"v\",\"showlegend\":false,\"x\":[100.0,96.71305,78.15919,91.42,41.98247,87.83,99.11,95.75,26.68018,63.38678,97.07,91.87,86.86,94.11,79.98,72.38095,57.36138,72.89,59.53,20.84,95.34601,79.56,74.49731,56.54,99.64383,99.75586,47.43,23.78116,95.21,96.13521,13.23251,92.57,85.7,90.7,98.68962,83.86,95.66606,59.20272,98.24,99.84,32.6417,100.0],\"xaxis\":\"x25\",\"y\":[36.0,35.0,315.0,65.0,493.0,258.0,13.0,72.0,422.0,658.0,25.0,35.0,86.0,90.0,60.0,518.0,716.0,359.0,137.0,912.0,221.0,77.0,270.0,158.0,40.0,85.0,566.0,675.0,51.0,91.0,739.0,88.0,130.0,114.0,47.0,165.0,29.0,482.0,73.0,18.0,473.0,37.0],\"yaxis\":\"y25\",\"type\":\"scatter\"},{\"customdata\":[[\"Europe\",\"Armenia\"],[\"Europe\",\"Azerbaijan\"],[\"Asia\",\"Bangladesh\"],[\"North America\",\"Belize\"],[\"Africa\",\"Benin\"],[\"South America\",\"Bolivia\"],[\"Europe\",\"Bosnia and Herzegovina\"],[\"South America\",\"Brazil\"],[\"Africa\",\"Burkina Faso\"],[\"Africa\",\"Cameroon\"],[\"South America\",\"Chile\"],[\"North America\",\"Costa Rica\"],[\"North America\",\"Dominican Republic\"],[\"South America\",\"Ecuador\"],[\"North America\",\"El Salvador\"],[\"Africa\",\"Eswatini\"],[\"Africa\",\"Gambia\"],[\"Africa\",\"Ghana\"],[\"North America\",\"Guatemala\"],[\"Africa\",\"Guinea-Bissau\"],[\"South America\",\"Guyana\"],[\"North America\",\"Honduras\"],[\"Asia\",\"India\"],[\"Asia\",\"Iraq\"],[\"Asia\",\"Kazakhstan\"],[\"Asia\",\"Kyrgyz Republic\"],[\"Africa\",\"Malawi\"],[\"Africa\",\"Mali\"],[\"North America\",\"Mexico\"],[\"Asia\",\"Mongolia\"],[\"Africa\",\"Niger\"],[\"North America\",\"Panama\"],[\"South America\",\"Paraguay\"],[\"South America\",\"Peru\"],[\"Asia\",\"Sri Lanka\"],[\"South America\",\"Suriname\"],[\"Asia\",\"Tajikistan\"],[\"Africa\",\"Togo\"],[\"North America\",\"Trinidad and Tobago\"],[\"Asia\",\"Turkmenistan\"],[\"Africa\",\"Uganda\"],[\"Asia\",\"Uzbekistan\"]],\"hovertemplate\":\"Year=2006<br>Sex=M<br>% Completing Primary Ed=%{x}<br>Maternal deaths/100K live births=%{y}<br>GDP per capita=%{marker.size}<br>Continent=%{customdata[0]}<br>Country=%{customdata[1]}<br>Life Expectancy (years)=%{marker.color}<extra></extra>\",\"legendgroup\":\"\",\"marker\":{\"color\":[72.716,69.259,68.213,70.286,57.817,65.853,75.342,72.26,54.063,53.215,77.865,78.239,71.041,74.319,70.333,42.733,58.313,59.234,70.082,52.691,66.972,72.285,64.918,68.157,66.15,67.6951219512195,49.118,52.839,75.296,65.538,54.18,76.06,71.862,73.222,74.904,69.227,66.771,55.052,70.952,65.354,52.784,68.676],\"coloraxis\":\"coloraxis\",\"size\":[8464.46855827733,9605.09610840819,2399.08200601731,7431.40892856573,2606.81617978405,5920.71166230972,9888.4465067144,12917.9168849667,1574.72978048784,3002.13521299317,19664.9960674424,14727.059051568,11087.4759487139,9757.37163256092,7136.8417603354,6906.58443971881,2137.81718540257,3207.53153952901,6973.03272002819,1675.77139557957,8371.87268005484,4733.54600929301,3446.75674622652,8137.45569996789,18112.7787011954,3588.0899177681,794.908810441122,1983.70555095442,18379.5267568773,6305.8182724406,981.158045183196,17394.3882205425,8845.11089761096,8017.25473629249,7419.41553371741,14969.9330334428,1909.26104271471,1185.37863323842,27552.3779238423,6174.74444680973,1588.77506313767,3614.57737070251],\"sizemode\":\"area\",\"sizeref\":240.65415667076775,\"symbol\":\"circle\"},\"mode\":\"markers\",\"name\":\"\",\"orientation\":\"v\",\"showlegend\":false,\"x\":[98.90806,99.02304,67.03111,87.08,55.12615,87.2,99.28,92.46,31.99832,60.13878,95.41,87.78,78.21,93.81,76.17,57.3502,59.51092,68.06,65.5,31.61,92.10766,71.76,82.33511,62.65,99.31659,99.43764,40.54,34.62283,93.62,94.29842,20.55378,90.39,83.02,91.47,98.05823,75.74,99.06359,61.77472,96.87,99.46,28.12687,100.0],\"xaxis\":\"x26\",\"y\":[36.0,35.0,315.0,65.0,493.0,258.0,13.0,72.0,422.0,658.0,25.0,35.0,86.0,90.0,60.0,518.0,716.0,359.0,137.0,912.0,221.0,77.0,270.0,158.0,40.0,85.0,566.0,675.0,51.0,91.0,739.0,88.0,130.0,114.0,47.0,165.0,29.0,482.0,73.0,18.0,473.0,37.0],\"yaxis\":\"y26\",\"type\":\"scatter\"},{\"customdata\":[[\"Europe\",\"Armenia\"],[\"Europe\",\"Azerbaijan\"],[\"Asia\",\"Bangladesh\"],[\"North America\",\"Belize\"],[\"Africa\",\"Benin\"],[\"South America\",\"Bolivia\"],[\"Europe\",\"Bosnia and Herzegovina\"],[\"South America\",\"Brazil\"],[\"Africa\",\"Burkina Faso\"],[\"Africa\",\"Cameroon\"],[\"South America\",\"Chile\"],[\"North America\",\"Costa Rica\"],[\"North America\",\"Dominican Republic\"],[\"South America\",\"Ecuador\"],[\"North America\",\"El Salvador\"],[\"Africa\",\"Eswatini\"],[\"Africa\",\"Gambia\"],[\"Africa\",\"Ghana\"],[\"North America\",\"Guatemala\"],[\"Africa\",\"Guinea-Bissau\"],[\"South America\",\"Guyana\"],[\"North America\",\"Honduras\"],[\"Asia\",\"India\"],[\"Asia\",\"Iraq\"],[\"Asia\",\"Kazakhstan\"],[\"Asia\",\"Kyrgyz Republic\"],[\"Africa\",\"Malawi\"],[\"Africa\",\"Mali\"],[\"North America\",\"Mexico\"],[\"Asia\",\"Mongolia\"],[\"Africa\",\"Niger\"],[\"North America\",\"Panama\"],[\"South America\",\"Paraguay\"],[\"South America\",\"Peru\"],[\"Asia\",\"Sri Lanka\"],[\"South America\",\"Suriname\"],[\"Asia\",\"Tajikistan\"],[\"Africa\",\"Togo\"],[\"North America\",\"Trinidad and Tobago\"],[\"Asia\",\"Turkmenistan\"],[\"Africa\",\"Uganda\"],[\"Asia\",\"Uzbekistan\"]],\"hovertemplate\":\"Year=2006<br>Sex=_T<br>% Completing Primary Ed=%{x}<br>Maternal deaths/100K live births=%{y}<br>GDP per capita=%{marker.size}<br>Continent=%{customdata[0]}<br>Country=%{customdata[1]}<br>Life Expectancy (years)=%{marker.color}<extra></extra>\",\"legendgroup\":\"\",\"marker\":{\"color\":[72.716,69.259,68.213,70.286,57.817,65.853,75.342,72.26,54.063,53.215,77.865,78.239,71.041,74.319,70.333,42.733,58.313,59.234,70.082,52.691,66.972,72.285,64.918,68.157,66.15,67.6951219512195,49.118,52.839,75.296,65.538,54.18,76.06,71.862,73.222,74.904,69.227,66.771,55.052,70.952,65.354,52.784,68.676],\"coloraxis\":\"coloraxis\",\"size\":[8464.46855827733,9605.09610840819,2399.08200601731,7431.40892856573,2606.81617978405,5920.71166230972,9888.4465067144,12917.9168849667,1574.72978048784,3002.13521299317,19664.9960674424,14727.059051568,11087.4759487139,9757.37163256092,7136.8417603354,6906.58443971881,2137.81718540257,3207.53153952901,6973.03272002819,1675.77139557957,8371.87268005484,4733.54600929301,3446.75674622652,8137.45569996789,18112.7787011954,3588.0899177681,794.908810441122,1983.70555095442,18379.5267568773,6305.8182724406,981.158045183196,17394.3882205425,8845.11089761096,8017.25473629249,7419.41553371741,14969.9330334428,1909.26104271471,1185.37863323842,27552.3779238423,6174.74444680973,1588.77506313767,3614.57737070251],\"sizemode\":\"area\",\"sizeref\":240.65415667076775,\"symbol\":\"circle\"},\"mode\":\"markers\",\"name\":\"\",\"orientation\":\"v\",\"showlegend\":false,\"x\":[99.45461,97.9422,72.71964,89.04,49.21066,87.5,99.2,94.1,29.65006,61.62055,96.23,89.83,82.34,93.96,78.09,64.66643,58.51086,70.33,62.43,26.18,93.74358,75.64,78.45651,59.63,99.47465,99.59791,43.7,29.03357,94.39,95.25747,16.84693,91.47,84.32,91.09,98.37743,79.77,97.45866,60.79055,97.54,99.65,30.37211,100.0],\"xaxis\":\"x27\",\"y\":[36.0,35.0,315.0,65.0,493.0,258.0,13.0,72.0,422.0,658.0,25.0,35.0,86.0,90.0,60.0,518.0,716.0,359.0,137.0,912.0,221.0,77.0,270.0,158.0,40.0,85.0,566.0,675.0,51.0,91.0,739.0,88.0,130.0,114.0,47.0,165.0,29.0,482.0,73.0,18.0,473.0,37.0],\"yaxis\":\"y27\",\"type\":\"scatter\"},{\"customdata\":[[\"Asia\",\"Bangladesh\"],[\"South America\",\"Bolivia\"],[\"South America\",\"Brazil\"],[\"North America\",\"Costa Rica\"],[\"Africa\",\"Dem. Rep. Congo\"],[\"North America\",\"Dominican Republic\"],[\"South America\",\"Ecuador\"],[\"North America\",\"El Salvador\"],[\"Africa\",\"Ethiopia\"],[\"Oceania\",\"Fiji\"],[\"Asia\",\"Jordan\"],[\"Africa\",\"Liberia\"],[\"Africa\",\"Mauritania\"],[\"Africa\",\"Namibia\"],[\"Asia\",\"Nepal\"],[\"Africa\",\"Nigeria\"],[\"Asia\",\"Pakistan\"],[\"North America\",\"Panama\"],[\"South America\",\"Paraguay\"],[\"South America\",\"Peru\"],[\"Europe\",\"Ukraine\"],[\"Oceania\",\"Vanuatu\"],[\"Africa\",\"Zambia\"]],\"hovertemplate\":\"Year=2007<br>Sex=F<br>% Completing Primary Ed=%{x}<br>Maternal deaths/100K live births=%{y}<br>GDP per capita=%{marker.size}<br>Continent=%{customdata[0]}<br>Country=%{customdata[1]}<br>Life Expectancy (years)=%{marker.color}<extra></extra>\",\"legendgroup\":\"\",\"marker\":{\"color\":[68.648,66.395,72.618,78.362,55.091,71.304,74.514,70.542,58.467,66.413,72.931,57.365,61.776,52.593,66.26,49.373,64.42,76.234,72.055,73.528,68.2221951219512,68.672,51.134],\"coloraxis\":\"coloraxis\",\"size\":[2537.11128648662,6085.38581122278,13560.5451000637,15715.7870386888,817.069654396242,11756.4603275413,9805.6491552277,7238.18319271428,1008.1352604279,10573.5536606147,11399.9837156371,1333.42222339949,5080.63793673467,8597.63252452035,2075.25132358654,4288.27013112096,3931.17580823604,19129.1947746445,9192.186584923,8629.26392430597,12829.03064807,3119.88896479179,2619.72136960841],\"sizemode\":\"area\",\"sizeref\":240.65415667076775,\"symbol\":\"circle\"},\"mode\":\"markers\",\"name\":\"\",\"orientation\":\"v\",\"showlegend\":false,\"x\":[72.13,90.51,95.44,93.39,45.55529,89.74998,93.6,79.30216,25.37453,99.38499,97.96541,20.80478,34.82819,84.73734,58.81388,62.59198,50.41761,93.86,90.74,91.45,99.80467,84.54523,63.03379],\"xaxis\":\"x22\",\"y\":[297.0,246.0,71.0,29.0,578.0,90.0,85.0,58.0,731.0,43.0,56.0,754.0,820.0,306.0,361.0,1010.0,214.0,86.0,124.0,112.0,33.0,103.0,387.0],\"yaxis\":\"y22\",\"type\":\"scatter\"},{\"customdata\":[[\"Asia\",\"Bangladesh\"],[\"South America\",\"Bolivia\"],[\"South America\",\"Brazil\"],[\"North America\",\"Costa Rica\"],[\"Africa\",\"Dem. Rep. Congo\"],[\"North America\",\"Dominican Republic\"],[\"South America\",\"Ecuador\"],[\"North America\",\"El Salvador\"],[\"Africa\",\"Ethiopia\"],[\"Oceania\",\"Fiji\"],[\"Asia\",\"Jordan\"],[\"Africa\",\"Liberia\"],[\"Africa\",\"Mauritania\"],[\"Africa\",\"Namibia\"],[\"Asia\",\"Nepal\"],[\"Africa\",\"Nigeria\"],[\"Asia\",\"Pakistan\"],[\"North America\",\"Panama\"],[\"South America\",\"Paraguay\"],[\"South America\",\"Peru\"],[\"Europe\",\"Ukraine\"],[\"Oceania\",\"Vanuatu\"],[\"Africa\",\"Zambia\"]],\"hovertemplate\":\"Year=2007<br>Sex=M<br>% Completing Primary Ed=%{x}<br>Maternal deaths/100K live births=%{y}<br>GDP per capita=%{marker.size}<br>Continent=%{customdata[0]}<br>Country=%{customdata[1]}<br>Life Expectancy (years)=%{marker.color}<extra></extra>\",\"legendgroup\":\"\",\"marker\":{\"color\":[68.648,66.395,72.618,78.362,55.091,71.304,74.514,70.542,58.467,66.413,72.931,57.365,61.776,52.593,66.26,49.373,64.42,76.234,72.055,73.528,68.2221951219512,68.672,51.134],\"coloraxis\":\"coloraxis\",\"size\":[2537.11128648662,6085.38581122278,13560.5451000637,15715.7870386888,817.069654396242,11756.4603275413,9805.6491552277,7238.18319271428,1008.1352604279,10573.5536606147,11399.9837156371,1333.42222339949,5080.63793673467,8597.63252452035,2075.25132358654,4288.27013112096,3931.17580823604,19129.1947746445,9192.186584923,8629.26392430597,12829.03064807,3119.88896479179,2619.72136960841],\"sizemode\":\"area\",\"sizeref\":240.65415667076775,\"symbol\":\"circle\"},\"mode\":\"markers\",\"name\":\"\",\"orientation\":\"v\",\"showlegend\":false,\"x\":[61.97,92.03,92.08,88.56,50.23956,79.17185,92.44,76.20995,27.67989,98.14465,97.09731,20.34787,42.40934,72.78354,68.95041,57.8292,60.10507,91.47,82.57,92.26,99.67827,78.03834,60.18428],\"xaxis\":\"x23\",\"y\":[297.0,246.0,71.0,29.0,578.0,90.0,85.0,58.0,731.0,43.0,56.0,754.0,820.0,306.0,361.0,1010.0,214.0,86.0,124.0,112.0,33.0,103.0,387.0],\"yaxis\":\"y23\",\"type\":\"scatter\"},{\"customdata\":[[\"Asia\",\"Bangladesh\"],[\"South America\",\"Bolivia\"],[\"South America\",\"Brazil\"],[\"North America\",\"Costa Rica\"],[\"Africa\",\"Dem. Rep. Congo\"],[\"North America\",\"Dominican Republic\"],[\"South America\",\"Ecuador\"],[\"North America\",\"El Salvador\"],[\"Africa\",\"Ethiopia\"],[\"Oceania\",\"Fiji\"],[\"Asia\",\"Jordan\"],[\"Africa\",\"Liberia\"],[\"Africa\",\"Mauritania\"],[\"Africa\",\"Namibia\"],[\"Asia\",\"Nepal\"],[\"Africa\",\"Nigeria\"],[\"Asia\",\"Pakistan\"],[\"North America\",\"Panama\"],[\"South America\",\"Paraguay\"],[\"South America\",\"Peru\"],[\"Europe\",\"Ukraine\"],[\"Oceania\",\"Vanuatu\"],[\"Africa\",\"Zambia\"]],\"hovertemplate\":\"Year=2007<br>Sex=_T<br>% Completing Primary Ed=%{x}<br>Maternal deaths/100K live births=%{y}<br>GDP per capita=%{marker.size}<br>Continent=%{customdata[0]}<br>Country=%{customdata[1]}<br>Life Expectancy (years)=%{marker.color}<extra></extra>\",\"legendgroup\":\"\",\"marker\":{\"color\":[68.648,66.395,72.618,78.362,55.091,71.304,74.514,70.542,58.467,66.413,72.931,57.365,61.776,52.593,66.26,49.373,64.42,76.234,72.055,73.528,68.2221951219512,68.672,51.134],\"coloraxis\":\"coloraxis\",\"size\":[2537.11128648662,6085.38581122278,13560.5451000637,15715.7870386888,817.069654396242,11756.4603275413,9805.6491552277,7238.18319271428,1008.1352604279,10573.5536606147,11399.9837156371,1333.42222339949,5080.63793673467,8597.63252452035,2075.25132358654,4288.27013112096,3931.17580823604,19129.1947746445,9192.186584923,8629.26392430597,12829.03064807,3119.88896479179,2619.72136960841],\"sizemode\":\"area\",\"sizeref\":240.65415667076775,\"symbol\":\"circle\"},\"mode\":\"markers\",\"name\":\"\",\"orientation\":\"v\",\"showlegend\":false,\"x\":[67.33,91.25,93.74,90.92,48.03712,84.46191,93.02,77.74447,26.56874,98.74016,97.53316,20.58196,38.31021,79.11877,63.63037,60.05056,55.18705,92.63,86.66,91.86,99.74104,81.09148,61.62223],\"xaxis\":\"x24\",\"y\":[297.0,246.0,71.0,29.0,578.0,90.0,85.0,58.0,731.0,43.0,56.0,754.0,820.0,306.0,361.0,1010.0,214.0,86.0,124.0,112.0,33.0,103.0,387.0],\"yaxis\":\"y24\",\"type\":\"scatter\"},{\"customdata\":[[\"South America\",\"Bolivia\"],[\"South America\",\"Brazil\"],[\"Asia\",\"Cambodia\"],[\"South America\",\"Colombia\"],[\"North America\",\"Costa Rica\"],[\"North America\",\"Dominican Republic\"],[\"South America\",\"Ecuador\"],[\"Asia\",\"Indonesia\"],[\"Africa\",\"Kenya\"],[\"Africa\",\"Liberia\"],[\"Africa\",\"Malawi\"],[\"Asia\",\"Maldives\"],[\"North America\",\"Mexico\"],[\"Africa\",\"Mozambique\"],[\"Africa\",\"Nigeria\"],[\"North America\",\"Panama\"],[\"South America\",\"Paraguay\"],[\"South America\",\"Peru\"],[\"Asia\",\"Philippines\"],[\"Africa\",\"Sierra Leone\"],[\"South America\",\"Uruguay\"]],\"hovertemplate\":\"Year=2008<br>Sex=F<br>% Completing Primary Ed=%{x}<br>Maternal deaths/100K live births=%{y}<br>GDP per capita=%{marker.size}<br>Continent=%{customdata[0]}<br>Country=%{customdata[1]}<br>Life Expectancy (years)=%{marker.color}<extra></extra>\",\"legendgroup\":\"\",\"marker\":{\"color\":[66.937,72.966,65.394,74.962,78.491,71.559,74.705,68.485,58.76,58.229,52.206,75.073,75.194,51.292,49.913,76.414,72.251,73.826,69.515,47.508,76.437],\"coloraxis\":\"coloraxis\",\"size\":[6351.22816631302,14110.3451381369,2640.63181862819,11431.9631032354,16230.9479607969,11980.8445302345,10257.4003390408,7657.59449160514,3140.61314994048,1370.90895345958,886.258715205968,17448.780425206,18457.1134264157,958.283424091559,4458.6222651729,20640.7992376114,9643.50266882963,9341.23233510004,5618.48507654185,1360.16021115681,15851.7967534658],\"sizemode\":\"area\",\"sizeref\":240.65415667076775,\"symbol\":\"circle\"},\"mode\":\"markers\",\"name\":\"\",\"orientation\":\"v\",\"showlegend\":false,\"x\":[91.09719,96.03,62.91756,92.02,93.83,89.34,94.79,94.33696,81.89836,25.50476,52.33643,98.26377,95.44,32.38988,68.32176,93.76,89.5,92.5,89.75,46.57959,96.6],\"xaxis\":\"x19\",\"y\":[234.0,70.0,284.0,84.0,29.0,92.0,82.0,239.0,513.0,738.0,493.0,72.0,49.0,471.0,996.0,84.0,118.0,108.0,148.0,1530.0,19.0],\"yaxis\":\"y19\",\"type\":\"scatter\"},{\"customdata\":[[\"South America\",\"Bolivia\"],[\"South America\",\"Brazil\"],[\"Asia\",\"Cambodia\"],[\"South America\",\"Colombia\"],[\"North America\",\"Costa Rica\"],[\"North America\",\"Dominican Republic\"],[\"South America\",\"Ecuador\"],[\"Asia\",\"Indonesia\"],[\"Africa\",\"Kenya\"],[\"Africa\",\"Liberia\"],[\"Africa\",\"Malawi\"],[\"Asia\",\"Maldives\"],[\"North America\",\"Mexico\"],[\"Africa\",\"Mozambique\"],[\"Africa\",\"Nigeria\"],[\"North America\",\"Panama\"],[\"South America\",\"Paraguay\"],[\"South America\",\"Peru\"],[\"Asia\",\"Philippines\"],[\"Africa\",\"Sierra Leone\"],[\"South America\",\"Uruguay\"]],\"hovertemplate\":\"Year=2008<br>Sex=M<br>% Completing Primary Ed=%{x}<br>Maternal deaths/100K live births=%{y}<br>GDP per capita=%{marker.size}<br>Continent=%{customdata[0]}<br>Country=%{customdata[1]}<br>Life Expectancy (years)=%{marker.color}<extra></extra>\",\"legendgroup\":\"\",\"marker\":{\"color\":[66.937,72.966,65.394,74.962,78.491,71.559,74.705,68.485,58.76,58.229,52.206,75.073,75.194,51.292,49.913,76.414,72.251,73.826,69.515,47.508,76.437],\"coloraxis\":\"coloraxis\",\"size\":[6351.22816631302,14110.3451381369,2640.63181862819,11431.9631032354,16230.9479607969,11980.8445302345,10257.4003390408,7657.59449160514,3140.61314994048,1370.90895345958,886.258715205968,17448.780425206,18457.1134264157,958.283424091559,4458.6222651729,20640.7992376114,9643.50266882963,9341.23233510004,5618.48507654185,1360.16021115681,15851.7967534658],\"sizemode\":\"area\",\"sizeref\":240.65415667076775,\"symbol\":\"circle\"},\"mode\":\"markers\",\"name\":\"\",\"orientation\":\"v\",\"showlegend\":false,\"x\":[92.13539,92.26,60.09016,86.84,88.74,80.26,93.82,91.50518,74.97364,25.18382,46.833,95.25517,94.61,36.05192,71.41012,91.03,85.19,92.51,79.93,49.01403,93.28],\"xaxis\":\"x20\",\"y\":[234.0,70.0,284.0,84.0,29.0,92.0,82.0,239.0,513.0,738.0,493.0,72.0,49.0,471.0,996.0,84.0,118.0,108.0,148.0,1530.0,19.0],\"yaxis\":\"y20\",\"type\":\"scatter\"},{\"customdata\":[[\"South America\",\"Bolivia\"],[\"South America\",\"Brazil\"],[\"Asia\",\"Cambodia\"],[\"South America\",\"Colombia\"],[\"North America\",\"Costa Rica\"],[\"North America\",\"Dominican Republic\"],[\"South America\",\"Ecuador\"],[\"Asia\",\"Indonesia\"],[\"Africa\",\"Kenya\"],[\"Africa\",\"Liberia\"],[\"Africa\",\"Malawi\"],[\"Asia\",\"Maldives\"],[\"North America\",\"Mexico\"],[\"Africa\",\"Mozambique\"],[\"Africa\",\"Nigeria\"],[\"North America\",\"Panama\"],[\"South America\",\"Paraguay\"],[\"South America\",\"Peru\"],[\"Asia\",\"Philippines\"],[\"Africa\",\"Sierra Leone\"],[\"South America\",\"Uruguay\"]],\"hovertemplate\":\"Year=2008<br>Sex=_T<br>% Completing Primary Ed=%{x}<br>Maternal deaths/100K live births=%{y}<br>GDP per capita=%{marker.size}<br>Continent=%{customdata[0]}<br>Country=%{customdata[1]}<br>Life Expectancy (years)=%{marker.color}<extra></extra>\",\"legendgroup\":\"\",\"marker\":{\"color\":[66.937,72.966,65.394,74.962,78.491,71.559,74.705,68.485,58.76,58.229,52.206,75.073,75.194,51.292,49.913,76.414,72.251,73.826,69.515,47.508,76.437],\"coloraxis\":\"coloraxis\",\"size\":[6351.22816631302,14110.3451381369,2640.63181862819,11431.9631032354,16230.9479607969,11980.8445302345,10257.4003390408,7657.59449160514,3140.61314994048,1370.90895345958,886.258715205968,17448.780425206,18457.1134264157,958.283424091559,4458.6222651729,20640.7992376114,9643.50266882963,9341.23233510004,5618.48507654185,1360.16021115681,15851.7967534658],\"sizemode\":\"area\",\"sizeref\":240.65415667076775,\"symbol\":\"circle\"},\"mode\":\"markers\",\"name\":\"\",\"orientation\":\"v\",\"showlegend\":false,\"x\":[91.62762,94.11,61.45166,89.24,91.16,84.52,94.3,92.85294,78.43454,25.34068,49.6089,96.78337,95.01,34.25783,69.88569,92.35,87.35,92.5,84.73,47.94634,94.85],\"xaxis\":\"x21\",\"y\":[234.0,70.0,284.0,84.0,29.0,92.0,82.0,239.0,513.0,738.0,493.0,72.0,49.0,471.0,996.0,84.0,118.0,108.0,148.0,1530.0,19.0],\"yaxis\":\"y21\",\"type\":\"scatter\"},{\"customdata\":[[\"Europe\",\"Albania\"],[\"South America\",\"Bolivia\"],[\"South America\",\"Brazil\"],[\"South America\",\"Chile\"],[\"South America\",\"Colombia\"],[\"North America\",\"Costa Rica\"],[\"North America\",\"Dominican Republic\"],[\"South America\",\"Ecuador\"],[\"Africa\",\"Egypt\"],[\"North America\",\"El Salvador\"],[\"Africa\",\"Ghana\"],[\"South America\",\"Guyana\"],[\"North America\",\"Honduras\"],[\"Africa\",\"Kenya\"],[\"Africa\",\"Lesotho\"],[\"Africa\",\"Madagascar\"],[\"Africa\",\"Mali\"],[\"North America\",\"Nicaragua\"],[\"North America\",\"Panama\"],[\"South America\",\"Paraguay\"],[\"South America\",\"Peru\"],[\"Asia\",\"Timor-Leste\"],[\"South America\",\"Uruguay\"],[\"Africa\",\"Zimbabwe\"]],\"hovertemplate\":\"Year=2009<br>Sex=F<br>% Completing Primary Ed=%{x}<br>Maternal deaths/100K live births=%{y}<br>GDP per capita=%{marker.size}<br>Continent=%{customdata[0]}<br>Country=%{customdata[1]}<br>Life Expectancy (years)=%{marker.color}<extra></extra>\",\"legendgroup\":\"\",\"marker\":{\"color\":[76.221,67.476,73.3,78.558,75.193,78.626,71.806,74.895,70.159,70.978,60.645,67.792,73.061,59.932,44.146,62.944,54.756,72.167,76.6,72.45,74.12,66.796,76.603,48.449],\"coloraxis\":\"coloraxis\",\"size\":[10346.8641994918,6455.97424355548,13957.6791202509,20361.7147945387,11434.331033923,15868.5695581522,11944.3468825769,10148.8577047785,10031.03184281,7208.14502971999,3546.22994629174,9443.8083393282,4787.86668814549,3156.43729699421,2261.5063065251,1587.56688082356,2041.32993756915,4477.40706051656,20529.4710206573,9489.61268377035,9368.04806561569,2724.7709726455,16477.8238595598,1925.36438145205],\"sizemode\":\"area\",\"sizeref\":240.65415667076775,\"symbol\":\"circle\"},\"mode\":\"markers\",\"name\":\"\",\"orientation\":\"v\",\"showlegend\":false,\"x\":[97.92196,91.36,96.35,97.34,92.01,94.29,92.13,95.67,85.96619,83.27,65.91478,94.37069,81.6,63.32244,79.2668,42.62056,24.51903,73.12,93.82,89.57,92.13,63.75805,97.67,90.02],\"xaxis\":\"x16\",\"y\":[20.0,222.0,69.0,21.0,87.0,29.0,95.0,80.0,45.0,57.0,339.0,185.0,75.0,472.0,607.0,474.0,661.0,113.0,82.0,113.0,106.0,242.0,19.0,632.0],\"yaxis\":\"y16\",\"type\":\"scatter\"},{\"customdata\":[[\"Europe\",\"Albania\"],[\"South America\",\"Bolivia\"],[\"South America\",\"Brazil\"],[\"South America\",\"Chile\"],[\"South America\",\"Colombia\"],[\"North America\",\"Costa Rica\"],[\"North America\",\"Dominican Republic\"],[\"South America\",\"Ecuador\"],[\"Africa\",\"Egypt\"],[\"North America\",\"El Salvador\"],[\"Africa\",\"Ghana\"],[\"South America\",\"Guyana\"],[\"North America\",\"Honduras\"],[\"Africa\",\"Kenya\"],[\"Africa\",\"Lesotho\"],[\"Africa\",\"Madagascar\"],[\"Africa\",\"Mali\"],[\"North America\",\"Nicaragua\"],[\"North America\",\"Panama\"],[\"South America\",\"Paraguay\"],[\"South America\",\"Peru\"],[\"Asia\",\"Timor-Leste\"],[\"South America\",\"Uruguay\"],[\"Africa\",\"Zimbabwe\"]],\"hovertemplate\":\"Year=2009<br>Sex=M<br>% Completing Primary Ed=%{x}<br>Maternal deaths/100K live births=%{y}<br>GDP per capita=%{marker.size}<br>Continent=%{customdata[0]}<br>Country=%{customdata[1]}<br>Life Expectancy (years)=%{marker.color}<extra></extra>\",\"legendgroup\":\"\",\"marker\":{\"color\":[76.221,67.476,73.3,78.558,75.193,78.626,71.806,74.895,70.159,70.978,60.645,67.792,73.061,59.932,44.146,62.944,54.756,72.167,76.6,72.45,74.12,66.796,76.603,48.449],\"coloraxis\":\"coloraxis\",\"size\":[10346.8641994918,6455.97424355548,13957.6791202509,20361.7147945387,11434.331033923,15868.5695581522,11944.3468825769,10148.8577047785,10031.03184281,7208.14502971999,3546.22994629174,9443.8083393282,4787.86668814549,3156.43729699421,2261.5063065251,1587.56688082356,2041.32993756915,4477.40706051656,20529.4710206573,9489.61268377035,9368.04806561569,2724.7709726455,16477.8238595598,1925.36438145205],\"sizemode\":\"area\",\"sizeref\":240.65415667076775,\"symbol\":\"circle\"},\"mode\":\"markers\",\"name\":\"\",\"orientation\":\"v\",\"showlegend\":false,\"x\":[98.46702,93.64,92.59,95.9,87.33,89.97,78.88,94.42,85.22144,79.13,64.33082,95.92356,75.39,55.21893,49.36929,35.42523,36.36087,60.32,91.78,85.64,92.6,56.55429,95.04,81.89],\"xaxis\":\"x17\",\"y\":[20.0,222.0,69.0,21.0,87.0,29.0,95.0,80.0,45.0,57.0,339.0,185.0,75.0,472.0,607.0,474.0,661.0,113.0,82.0,113.0,106.0,242.0,19.0,632.0],\"yaxis\":\"y17\",\"type\":\"scatter\"},{\"customdata\":[[\"Europe\",\"Albania\"],[\"South America\",\"Bolivia\"],[\"South America\",\"Brazil\"],[\"South America\",\"Chile\"],[\"South America\",\"Colombia\"],[\"North America\",\"Costa Rica\"],[\"North America\",\"Dominican Republic\"],[\"South America\",\"Ecuador\"],[\"Africa\",\"Egypt\"],[\"North America\",\"El Salvador\"],[\"Africa\",\"Ghana\"],[\"South America\",\"Guyana\"],[\"North America\",\"Honduras\"],[\"Africa\",\"Kenya\"],[\"Africa\",\"Lesotho\"],[\"Africa\",\"Madagascar\"],[\"Africa\",\"Mali\"],[\"North America\",\"Nicaragua\"],[\"North America\",\"Panama\"],[\"South America\",\"Paraguay\"],[\"South America\",\"Peru\"],[\"Asia\",\"Timor-Leste\"],[\"South America\",\"Uruguay\"],[\"Africa\",\"Zimbabwe\"]],\"hovertemplate\":\"Year=2009<br>Sex=_T<br>% Completing Primary Ed=%{x}<br>Maternal deaths/100K live births=%{y}<br>GDP per capita=%{marker.size}<br>Continent=%{customdata[0]}<br>Country=%{customdata[1]}<br>Life Expectancy (years)=%{marker.color}<extra></extra>\",\"legendgroup\":\"\",\"marker\":{\"color\":[76.221,67.476,73.3,78.558,75.193,78.626,71.806,74.895,70.159,70.978,60.645,67.792,73.061,59.932,44.146,62.944,54.756,72.167,76.6,72.45,74.12,66.796,76.603,48.449],\"coloraxis\":\"coloraxis\",\"size\":[10346.8641994918,6455.97424355548,13957.6791202509,20361.7147945387,11434.331033923,15868.5695581522,11944.3468825769,10148.8577047785,10031.03184281,7208.14502971999,3546.22994629174,9443.8083393282,4787.86668814549,3156.43729699421,2261.5063065251,1587.56688082356,2041.32993756915,4477.40706051656,20529.4710206573,9489.61268377035,9368.04806561569,2724.7709726455,16477.8238595598,1925.36438145205],\"sizemode\":\"area\",\"sizeref\":240.65415667076775,\"symbol\":\"circle\"},\"mode\":\"markers\",\"name\":\"\",\"orientation\":\"v\",\"showlegend\":false,\"x\":[98.19074,92.57,94.44,96.59,89.5,91.95,85.17,95.03,85.58102,81.15,65.12708,95.11632,78.46,59.18861,64.10123,38.96172,30.30532,66.47,92.79,87.42,92.37,60.06091,96.34,85.83],\"xaxis\":\"x18\",\"y\":[20.0,222.0,69.0,21.0,87.0,29.0,95.0,80.0,45.0,57.0,339.0,185.0,75.0,472.0,607.0,474.0,661.0,113.0,82.0,113.0,106.0,242.0,19.0,632.0],\"yaxis\":\"y18\",\"type\":\"scatter\"},{\"customdata\":[[\"South America\",\"Argentina\"],[\"Asia\",\"Bhutan\"],[\"Africa\",\"Burkina Faso\"],[\"Africa\",\"Burundi\"],[\"Asia\",\"Cambodia\"],[\"Africa\",\"Chad\"],[\"Asia\",\"China\"],[\"South America\",\"Colombia\"],[\"North America\",\"Costa Rica\"],[\"Africa\",\"Dem. Rep. Congo\"],[\"North America\",\"Dominican Republic\"],[\"South America\",\"Ecuador\"],[\"North America\",\"El Salvador\"],[\"Africa\",\"Eswatini\"],[\"Africa\",\"Gambia\"],[\"Africa\",\"Ghana\"],[\"North America\",\"Honduras\"],[\"Africa\",\"Malawi\"],[\"Africa\",\"Mali\"],[\"North America\",\"Mexico\"],[\"Asia\",\"Mongolia\"],[\"Africa\",\"Nigeria\"],[\"North America\",\"Panama\"],[\"South America\",\"Paraguay\"],[\"South America\",\"Peru\"],[\"Asia\",\"Philippines\"],[\"North America\",\"Puerto Rico\"],[\"Africa\",\"Rwanda\"],[\"Africa\",\"Sierra Leone\"],[\"Africa\",\"Sudan\"],[\"South America\",\"Suriname\"],[\"Africa\",\"Togo\"],[\"South America\",\"Uruguay\"],[\"Africa\",\"Zambia\"],[\"Africa\",\"Zimbabwe\"]],\"hovertemplate\":\"Year=2010<br>Sex=F<br>% Completing Primary Ed=%{x}<br>Maternal deaths/100K live births=%{y}<br>GDP per capita=%{marker.size}<br>Continent=%{customdata[0]}<br>Country=%{customdata[1]}<br>Life Expectancy (years)=%{marker.color}<extra></extra>\",\"legendgroup\":\"\",\"marker\":{\"color\":[75.278,68.384,57.096,57.228,66.56,50.89,74.409,75.424,78.769,56.909,72.046,75.089,71.21,46.601,59.637,61.03,73.317,55.564,55.251,75.065,67.38,50.896,76.792,72.653,74.41,69.823,78.4190975609756,63.433,49.382,62.764,70.465,57.468,76.75,55.655,50.64],\"coloraxis\":\"coloraxis\",\"size\":[23521.2701763288,8190.56427451825,1716.35766288052,846.169526927269,2716.69840884516,1732.69129415445,8884.58803122452,11823.3879357365,16448.2874784145,865.684026812839,12782.4518985839,10340.9682305541,7328.71321626195,7459.25599579237,2346.72440487282,3732.38206331236,4866.97217562037,968.779611645394,2082.96179622555,17848.3249422511,7479.79740248469,4932.33498667095,21347.3327494385,10405.2309409429,10066.4696472131,5918.37348075447,32960.6911054053,1507.16501035777,1413.56417680838,3217.76676555225,16953.8034242653,1224.97842819758,17712.8969892031,3125.52930813716,2273.20007326702],\"sizemode\":\"area\",\"sizeref\":240.65415667076775,\"symbol\":\"circle\"},\"mode\":\"markers\",\"name\":\"\",\"orientation\":\"v\",\"showlegend\":false,\"x\":[93.81141,70.03057,29.51919,38.41388,72.16656,23.18,97.09,93.27485,93.42,42.67512,91.33,96.56,84.25,73.75092,61.12356,65.26145,83.93,58.4648,29.39,96.72,97.7,71.23172,93.12082,90.05,93.6,90.61983,99.04262,40.81238,58.42,66.47,83.38417,53.48973,97.09,66.77598,90.63749],\"xaxis\":\"x13\",\"y\":[51.0,247.0,385.0,665.0,248.0,1240.0,36.0,85.0,32.0,542.0,96.0,78.0,54.0,450.0,661.0,339.0,74.0,444.0,660.0,46.0,66.0,978.0,79.0,108.0,104.0,144.0,21.0,373.0,1360.0,408.0,148.0,440.0,17.0,305.0,598.0],\"yaxis\":\"y13\",\"type\":\"scatter\"},{\"customdata\":[[\"South America\",\"Argentina\"],[\"Asia\",\"Bhutan\"],[\"Africa\",\"Burkina Faso\"],[\"Africa\",\"Burundi\"],[\"Asia\",\"Cambodia\"],[\"Africa\",\"Chad\"],[\"Asia\",\"China\"],[\"South America\",\"Colombia\"],[\"North America\",\"Costa Rica\"],[\"Africa\",\"Dem. Rep. Congo\"],[\"North America\",\"Dominican Republic\"],[\"South America\",\"Ecuador\"],[\"North America\",\"El Salvador\"],[\"Africa\",\"Eswatini\"],[\"Africa\",\"Gambia\"],[\"Africa\",\"Ghana\"],[\"North America\",\"Honduras\"],[\"Africa\",\"Malawi\"],[\"Africa\",\"Mali\"],[\"North America\",\"Mexico\"],[\"Asia\",\"Mongolia\"],[\"Africa\",\"Nigeria\"],[\"North America\",\"Panama\"],[\"South America\",\"Paraguay\"],[\"South America\",\"Peru\"],[\"Asia\",\"Philippines\"],[\"North America\",\"Puerto Rico\"],[\"Africa\",\"Rwanda\"],[\"Africa\",\"Sierra Leone\"],[\"Africa\",\"Sudan\"],[\"South America\",\"Suriname\"],[\"Africa\",\"Togo\"],[\"South America\",\"Uruguay\"],[\"Africa\",\"Zambia\"],[\"Africa\",\"Zimbabwe\"]],\"hovertemplate\":\"Year=2010<br>Sex=M<br>% Completing Primary Ed=%{x}<br>Maternal deaths/100K live births=%{y}<br>GDP per capita=%{marker.size}<br>Continent=%{customdata[0]}<br>Country=%{customdata[1]}<br>Life Expectancy (years)=%{marker.color}<extra></extra>\",\"legendgroup\":\"\",\"marker\":{\"color\":[75.278,68.384,57.096,57.228,66.56,50.89,74.409,75.424,78.769,56.909,72.046,75.089,71.21,46.601,59.637,61.03,73.317,55.564,55.251,75.065,67.38,50.896,76.792,72.653,74.41,69.823,78.4190975609756,63.433,49.382,62.764,70.465,57.468,76.75,55.655,50.64],\"coloraxis\":\"coloraxis\",\"size\":[23521.2701763288,8190.56427451825,1716.35766288052,846.169526927269,2716.69840884516,1732.69129415445,8884.58803122452,11823.3879357365,16448.2874784145,865.684026812839,12782.4518985839,10340.9682305541,7328.71321626195,7459.25599579237,2346.72440487282,3732.38206331236,4866.97217562037,968.779611645394,2082.96179622555,17848.3249422511,7479.79740248469,4932.33498667095,21347.3327494385,10405.2309409429,10066.4696472131,5918.37348075447,32960.6911054053,1507.16501035777,1413.56417680838,3217.76676555225,16953.8034242653,1224.97842819758,17712.8969892031,3125.52930813716,2273.20007326702],\"sizemode\":\"area\",\"sizeref\":240.65415667076775,\"symbol\":\"circle\"},\"mode\":\"markers\",\"name\":\"\",\"orientation\":\"v\",\"showlegend\":false,\"x\":[91.55851,65.87398,32.12549,41.44624,70.03249,30.88,96.35,88.03828,89.2,46.07497,80.54,94.72,80.47,58.67925,55.91554,63.04644,77.95,50.48363,47.69,94.92,95.44,71.90495,91.31926,84.41,93.27,83.08642,99.72083,38.87215,60.6,76.44,76.68099,60.76244,95.3,66.70922,85.98171],\"xaxis\":\"x14\",\"y\":[51.0,247.0,385.0,665.0,248.0,1240.0,36.0,85.0,32.0,542.0,96.0,78.0,54.0,450.0,661.0,339.0,74.0,444.0,660.0,46.0,66.0,978.0,79.0,108.0,104.0,144.0,21.0,373.0,1360.0,408.0,148.0,440.0,17.0,305.0,598.0],\"yaxis\":\"y14\",\"type\":\"scatter\"},{\"customdata\":[[\"South America\",\"Argentina\"],[\"Asia\",\"Bhutan\"],[\"Africa\",\"Burkina Faso\"],[\"Africa\",\"Burundi\"],[\"Asia\",\"Cambodia\"],[\"Africa\",\"Chad\"],[\"Asia\",\"China\"],[\"South America\",\"Colombia\"],[\"North America\",\"Costa Rica\"],[\"Africa\",\"Dem. Rep. Congo\"],[\"North America\",\"Dominican Republic\"],[\"South America\",\"Ecuador\"],[\"North America\",\"El Salvador\"],[\"Africa\",\"Eswatini\"],[\"Africa\",\"Gambia\"],[\"Africa\",\"Ghana\"],[\"North America\",\"Honduras\"],[\"Africa\",\"Malawi\"],[\"Africa\",\"Mali\"],[\"North America\",\"Mexico\"],[\"Asia\",\"Mongolia\"],[\"Africa\",\"Nigeria\"],[\"North America\",\"Panama\"],[\"South America\",\"Paraguay\"],[\"South America\",\"Peru\"],[\"Asia\",\"Philippines\"],[\"North America\",\"Puerto Rico\"],[\"Africa\",\"Rwanda\"],[\"Africa\",\"Sierra Leone\"],[\"Africa\",\"Sudan\"],[\"South America\",\"Suriname\"],[\"Africa\",\"Togo\"],[\"South America\",\"Uruguay\"],[\"Africa\",\"Zambia\"],[\"Africa\",\"Zimbabwe\"]],\"hovertemplate\":\"Year=2010<br>Sex=_T<br>% Completing Primary Ed=%{x}<br>Maternal deaths/100K live births=%{y}<br>GDP per capita=%{marker.size}<br>Continent=%{customdata[0]}<br>Country=%{customdata[1]}<br>Life Expectancy (years)=%{marker.color}<extra></extra>\",\"legendgroup\":\"\",\"marker\":{\"color\":[75.278,68.384,57.096,57.228,66.56,50.89,74.409,75.424,78.769,56.909,72.046,75.089,71.21,46.601,59.637,61.03,73.317,55.564,55.251,75.065,67.38,50.896,76.792,72.653,74.41,69.823,78.4190975609756,63.433,49.382,62.764,70.465,57.468,76.75,55.655,50.64],\"coloraxis\":\"coloraxis\",\"size\":[23521.2701763288,8190.56427451825,1716.35766288052,846.169526927269,2716.69840884516,1732.69129415445,8884.58803122452,11823.3879357365,16448.2874784145,865.684026812839,12782.4518985839,10340.9682305541,7328.71321626195,7459.25599579237,2346.72440487282,3732.38206331236,4866.97217562037,968.779611645394,2082.96179622555,17848.3249422511,7479.79740248469,4932.33498667095,21347.3327494385,10405.2309409429,10066.4696472131,5918.37348075447,32960.6911054053,1507.16501035777,1413.56417680838,3217.76676555225,16953.8034242653,1224.97842819758,17712.8969892031,3125.52930813716,2273.20007326702],\"sizemode\":\"area\",\"sizeref\":240.65415667076775,\"symbol\":\"circle\"},\"mode\":\"markers\",\"name\":\"\",\"orientation\":\"v\",\"showlegend\":false,\"x\":[92.67375,67.86397,30.90798,39.82951,71.06843,27.22,96.69,90.59966,91.22,44.46562,85.62,95.59,82.34,66.18265,58.49359,64.14412,80.82,54.32379,38.05,95.8,96.52,71.57501,92.21018,87.1,93.43,86.76748,99.38302,39.85742,59.6,71.44,80.11366,57.44461,96.17,66.74353,88.25243],\"xaxis\":\"x15\",\"y\":[51.0,247.0,385.0,665.0,248.0,1240.0,36.0,85.0,32.0,542.0,96.0,78.0,54.0,450.0,661.0,339.0,74.0,444.0,660.0,46.0,66.0,978.0,79.0,108.0,104.0,144.0,21.0,373.0,1360.0,408.0,148.0,440.0,17.0,305.0,598.0],\"yaxis\":\"y15\",\"type\":\"scatter\"},{\"customdata\":[[\"Asia\",\"Afghanistan\"],[\"Europe\",\"Armenia\"],[\"Asia\",\"Bangladesh\"],[\"North America\",\"Belize\"],[\"Africa\",\"Benin\"],[\"South America\",\"Bolivia\"],[\"Africa\",\"Botswana\"],[\"South America\",\"Brazil\"],[\"Africa\",\"Cameroon\"],[\"South America\",\"Chile\"],[\"South America\",\"Colombia\"],[\"North America\",\"Costa Rica\"],[\"North America\",\"Dominican Republic\"],[\"South America\",\"Ecuador\"],[\"Africa\",\"Ethiopia\"],[\"Africa\",\"Ghana\"],[\"North America\",\"Guatemala\"],[\"North America\",\"Honduras\"],[\"Asia\",\"India\"],[\"Asia\",\"Iraq\"],[\"North America\",\"Jamaica\"],[\"Asia\",\"Kazakhstan\"],[\"Africa\",\"Mauritania\"],[\"Africa\",\"Mozambique\"],[\"Asia\",\"Nepal\"],[\"Africa\",\"Nigeria\"],[\"Europe\",\"North Macedonia\"],[\"North America\",\"Panama\"],[\"South America\",\"Paraguay\"],[\"South America\",\"Peru\"],[\"Africa\",\"Senegal\"],[\"Europe\",\"Serbia\"],[\"Africa\",\"South Africa\"],[\"North America\",\"Trinidad and Tobago\"],[\"Africa\",\"Uganda\"],[\"South America\",\"Uruguay\"]],\"hovertemplate\":\"Year=2011<br>Sex=F<br>% Completing Primary Ed=%{x}<br>Maternal deaths/100K live births=%{y}<br>GDP per capita=%{marker.size}<br>Continent=%{customdata[0]}<br>Country=%{customdata[1]}<br>Life Expectancy (years)=%{marker.color}<extra></extra>\",\"legendgroup\":\"\",\"marker\":{\"color\":[61.553,73.572,70.256,72.57,59.59,68.521,61.91,73.921,55.581,78.986,75.655,78.919,72.284,75.289,62.505,61.381,71.861,73.569,67.13,68.848,74.012,68.69,62.799,53.043,68.028,51.346,75.1,76.989,72.86,74.697,64.898,74.5365853658537,58.895,72.17,58.087,76.882],\"coloraxis\":\"coloraxis\",\"size\":[1904.5597991972,9725.27146781451,3034.93798812944,7174.5169921222,2707.86941421509,6844.98176046089,14770.4683556276,15318.3063061666,3126.7868357321,22407.714462506,12523.006680201,16950.440233698,13024.3404607763,10984.285208134,1360.93853753415,4154.71775495542,7503.5595173555,4956.40226738636,4391.7970271511,9435.59035577969,9545.42850506295,21970.0839239319,4822.16635966907,1073.47871079443,2434.37701139569,5056.89242663648,13758.3429356567,23353.5122496744,10700.1553153437,10616.8422474835,2707.05727588635,14971.4576830224,12666.7080162249,28652.552874314,1972.30174199588,18573.8544665676],\"sizemode\":\"area\",\"sizeref\":240.65415667076775,\"symbol\":\"circle\"},\"mode\":\"markers\",\"name\":\"\",\"orientation\":\"v\",\"showlegend\":false,\"x\":[26.63788,100.0,79.43929,88.0,56.19088,91.88,95.30421,96.29,67.1849,96.7,93.21,93.66339,93.27,96.59,40.77654,68.68,68.55,85.08891,87.93,62.2651,99.5965,99.93988,42.36258,39.41912,71.70908,73.81538,99.32384,93.46,90.81,94.35,38.36372,99.90652,94.77457,93.58426,43.18282,97.94],\"xaxis\":\"x10\",\"y\":[905.0,30.0,248.0,52.0,458.0,202.0,176.0,61.0,589.0,18.0,84.0,30.0,95.0,76.0,558.0,339.0,122.0,72.0,197.0,67.0,79.0,19.0,822.0,389.0,285.0,972.0,8.0,76.0,103.0,102.0,423.0,12.0,161.0,72.0,419.0,17.0],\"yaxis\":\"y10\",\"type\":\"scatter\"},{\"customdata\":[[\"Asia\",\"Afghanistan\"],[\"Europe\",\"Armenia\"],[\"Asia\",\"Bangladesh\"],[\"North America\",\"Belize\"],[\"Africa\",\"Benin\"],[\"South America\",\"Bolivia\"],[\"Africa\",\"Botswana\"],[\"South America\",\"Brazil\"],[\"Africa\",\"Cameroon\"],[\"South America\",\"Chile\"],[\"South America\",\"Colombia\"],[\"North America\",\"Costa Rica\"],[\"North America\",\"Dominican Republic\"],[\"South America\",\"Ecuador\"],[\"Africa\",\"Ethiopia\"],[\"Africa\",\"Ghana\"],[\"North America\",\"Guatemala\"],[\"North America\",\"Honduras\"],[\"Asia\",\"India\"],[\"Asia\",\"Iraq\"],[\"North America\",\"Jamaica\"],[\"Asia\",\"Kazakhstan\"],[\"Africa\",\"Mauritania\"],[\"Africa\",\"Mozambique\"],[\"Asia\",\"Nepal\"],[\"Africa\",\"Nigeria\"],[\"Europe\",\"North Macedonia\"],[\"North America\",\"Panama\"],[\"South America\",\"Paraguay\"],[\"South America\",\"Peru\"],[\"Africa\",\"Senegal\"],[\"Europe\",\"Serbia\"],[\"Africa\",\"South Africa\"],[\"North America\",\"Trinidad and Tobago\"],[\"Africa\",\"Uganda\"],[\"South America\",\"Uruguay\"]],\"hovertemplate\":\"Year=2011<br>Sex=M<br>% Completing Primary Ed=%{x}<br>Maternal deaths/100K live births=%{y}<br>GDP per capita=%{marker.size}<br>Continent=%{customdata[0]}<br>Country=%{customdata[1]}<br>Life Expectancy (years)=%{marker.color}<extra></extra>\",\"legendgroup\":\"\",\"marker\":{\"color\":[61.553,73.572,70.256,72.57,59.59,68.521,61.91,73.921,55.581,78.986,75.655,78.919,72.284,75.289,62.505,61.381,71.861,73.569,67.13,68.848,74.012,68.69,62.799,53.043,68.028,51.346,75.1,76.989,72.86,74.697,64.898,74.5365853658537,58.895,72.17,58.087,76.882],\"coloraxis\":\"coloraxis\",\"size\":[1904.5597991972,9725.27146781451,3034.93798812944,7174.5169921222,2707.86941421509,6844.98176046089,14770.4683556276,15318.3063061666,3126.7868357321,22407.714462506,12523.006680201,16950.440233698,13024.3404607763,10984.285208134,1360.93853753415,4154.71775495542,7503.5595173555,4956.40226738636,4391.7970271511,9435.59035577969,9545.42850506295,21970.0839239319,4822.16635966907,1073.47871079443,2434.37701139569,5056.89242663648,13758.3429356567,23353.5122496744,10700.1553153437,10616.8422474835,2707.05727588635,14971.4576830224,12666.7080162249,28652.552874314,1972.30174199588,18573.8544665676],\"sizemode\":\"area\",\"sizeref\":240.65415667076775,\"symbol\":\"circle\"},\"mode\":\"markers\",\"name\":\"\",\"orientation\":\"v\",\"showlegend\":false,\"x\":[53.74893,99.7635,69.62301,80.33,61.89381,94.1,91.20862,93.52,68.55963,96.0,87.51,93.43188,82.93,95.95,38.11943,62.59,73.11,80.80944,88.76,68.35399,99.27921,99.63481,45.5415,43.73529,78.93256,71.50954,99.86171,91.08,87.92,93.08,41.12024,100.0,91.26652,92.98398,35.68175,96.13],\"xaxis\":\"x11\",\"y\":[905.0,30.0,248.0,52.0,458.0,202.0,176.0,61.0,589.0,18.0,84.0,30.0,95.0,76.0,558.0,339.0,122.0,72.0,197.0,67.0,79.0,19.0,822.0,389.0,285.0,972.0,8.0,76.0,103.0,102.0,423.0,12.0,161.0,72.0,419.0,17.0],\"yaxis\":\"y11\",\"type\":\"scatter\"},{\"customdata\":[[\"Asia\",\"Afghanistan\"],[\"Europe\",\"Armenia\"],[\"Asia\",\"Bangladesh\"],[\"North America\",\"Belize\"],[\"Africa\",\"Benin\"],[\"South America\",\"Bolivia\"],[\"Africa\",\"Botswana\"],[\"South America\",\"Brazil\"],[\"Africa\",\"Cameroon\"],[\"South America\",\"Chile\"],[\"South America\",\"Colombia\"],[\"North America\",\"Costa Rica\"],[\"North America\",\"Dominican Republic\"],[\"South America\",\"Ecuador\"],[\"Africa\",\"Ethiopia\"],[\"Africa\",\"Ghana\"],[\"North America\",\"Guatemala\"],[\"North America\",\"Honduras\"],[\"Asia\",\"India\"],[\"Asia\",\"Iraq\"],[\"North America\",\"Jamaica\"],[\"Asia\",\"Kazakhstan\"],[\"Africa\",\"Mauritania\"],[\"Africa\",\"Mozambique\"],[\"Asia\",\"Nepal\"],[\"Africa\",\"Nigeria\"],[\"Europe\",\"North Macedonia\"],[\"North America\",\"Panama\"],[\"South America\",\"Paraguay\"],[\"South America\",\"Peru\"],[\"Africa\",\"Senegal\"],[\"Europe\",\"Serbia\"],[\"Africa\",\"South Africa\"],[\"North America\",\"Trinidad and Tobago\"],[\"Africa\",\"Uganda\"],[\"South America\",\"Uruguay\"]],\"hovertemplate\":\"Year=2011<br>Sex=_T<br>% Completing Primary Ed=%{x}<br>Maternal deaths/100K live births=%{y}<br>GDP per capita=%{marker.size}<br>Continent=%{customdata[0]}<br>Country=%{customdata[1]}<br>Life Expectancy (years)=%{marker.color}<extra></extra>\",\"legendgroup\":\"\",\"marker\":{\"color\":[61.553,73.572,70.256,72.57,59.59,68.521,61.91,73.921,55.581,78.986,75.655,78.919,72.284,75.289,62.505,61.381,71.861,73.569,67.13,68.848,74.012,68.69,62.799,53.043,68.028,51.346,75.1,76.989,72.86,74.697,64.898,74.5365853658537,58.895,72.17,58.087,76.882],\"coloraxis\":\"coloraxis\",\"size\":[1904.5597991972,9725.27146781451,3034.93798812944,7174.5169921222,2707.86941421509,6844.98176046089,14770.4683556276,15318.3063061666,3126.7868357321,22407.714462506,12523.006680201,16950.440233698,13024.3404607763,10984.285208134,1360.93853753415,4154.71775495542,7503.5595173555,4956.40226738636,4391.7970271511,9435.59035577969,9545.42850506295,21970.0839239319,4822.16635966907,1073.47871079443,2434.37701139569,5056.89242663648,13758.3429356567,23353.5122496744,10700.1553153437,10616.8422474835,2707.05727588635,14971.4576830224,12666.7080162249,28652.552874314,1972.30174199588,18573.8544665676],\"sizemode\":\"area\",\"sizeref\":240.65415667076775,\"symbol\":\"circle\"},\"mode\":\"markers\",\"name\":\"\",\"orientation\":\"v\",\"showlegend\":false,\"x\":[40.72569,99.87504,74.78203,84.28,59.41194,92.96,93.27203,94.9,67.85408,96.34,90.2,93.54096,88.13,96.27,39.57277,65.58,70.79,82.91049,88.35,65.39292,99.43479,99.78236,43.93625,41.53307,75.22154,72.61493,99.59779,92.26,89.34,93.7,39.71852,99.95172,93.02254,93.28599,39.38338,97.0],\"xaxis\":\"x12\",\"y\":[905.0,30.0,248.0,52.0,458.0,202.0,176.0,61.0,589.0,18.0,84.0,30.0,95.0,76.0,558.0,339.0,122.0,72.0,197.0,67.0,79.0,19.0,822.0,389.0,285.0,972.0,8.0,76.0,103.0,102.0,423.0,12.0,161.0,72.0,419.0,17.0],\"yaxis\":\"y12\",\"type\":\"scatter\"},{\"customdata\":[[\"North America\",\"Barbados\"],[\"Europe\",\"Belarus\"],[\"South America\",\"Bolivia\"],[\"Europe\",\"Bosnia and Herzegovina\"],[\"South America\",\"Brazil\"],[\"Asia\",\"China\"],[\"South America\",\"Colombia\"],[\"Africa\",\"Comoros\"],[\"Africa\",\"Congo\"],[\"North America\",\"Costa Rica\"],[\"North America\",\"Dominican Republic\"],[\"South America\",\"Ecuador\"],[\"North America\",\"El Salvador\"],[\"Africa\",\"Gabon\"],[\"Africa\",\"Guinea\"],[\"North America\",\"Haiti\"],[\"North America\",\"Honduras\"],[\"Asia\",\"Indonesia\"],[\"Asia\",\"Israel\"],[\"Asia\",\"Jordan\"],[\"Asia\",\"Kyrgyz Republic\"],[\"North America\",\"Mexico\"],[\"Africa\",\"Niger\"],[\"Asia\",\"Pakistan\"],[\"South America\",\"Paraguay\"],[\"South America\",\"Peru\"],[\"Asia\",\"Qatar\"],[\"Africa\",\"Rwanda\"],[\"Asia\",\"Tajikistan\"],[\"Africa\",\"Tunisia\"],[\"South America\",\"Uruguay\"],[\"Africa\",\"Zimbabwe\"]],\"hovertemplate\":\"Year=2012<br>Sex=F<br>% Completing Primary Ed=%{x}<br>Maternal deaths/100K live births=%{y}<br>GDP per capita=%{marker.size}<br>Continent=%{customdata[0]}<br>Country=%{customdata[1]}<br>Life Expectancy (years)=%{marker.color}<extra></extra>\",\"legendgroup\":\"\",\"marker\":{\"color\":[78.547,71.9658536585366,69.01,76.401,74.209,75.013,75.882,62.595,61.423,79.074,72.523,75.495,71.692,62.924,57.905,61.26,73.814,69.866,81.7048780487805,73.722,70.0024390243902,74.966,58.79,65.849,73.068,74.981,79.399,65.438,69.34,75.376,77.004,55.032],\"coloraxis\":\"coloraxis\",\"size\":[15335.7399330821,18576.7286760826,7081.38681099674,11293.7922689064,15473.7120210456,10397.5614154923,12896.3516812902,2946.1778039865,5555.13630222353,17555.4618466921,13219.7007852786,11431.3734031352,7754.68072762068,15082.6134597387,2002.38698620261,2833.77552257522,5065.45758523935,9080.04056716843,36119.2136285354,10687.0885130005,4259.31820291395,18655.846258048,1085.54392613058,3980.71995475126,10497.4579762897,11176.0874727934,96261.6626683071,1682.20489661457,2493.40710111535,10114.6142601439,19173.8891614263,2932.08133567175],\"sizemode\":\"area\",\"sizeref\":240.65415667076775,\"symbol\":\"circle\"},\"mode\":\"markers\",\"name\":\"\",\"orientation\":\"v\",\"showlegend\":false,\"x\":[99.46783,99.52951,92.13,99.89095,97.11,93.61,93.43,77.78049,72.21728,94.7,93.16,96.99,88.55,74.85381,35.5777,48.65705,85.62,96.19,100.0,98.25,99.66872,97.12,22.68427,58.40607,92.55,95.13,98.533,36.577,97.60206,95.03687,98.09,87.11525],\"xaxis\":\"x7\",\"y\":[34.0,4.0,192.0,10.0,60.0,33.0,85.0,313.0,468.0,29.0,94.0,71.0,52.0,292.0,744.0,500.0,70.0,214.0,4.0,52.0,74.0,41.0,616.0,173.0,98.0,100.0,10.0,329.0,21.0,46.0,17.0,528.0],\"yaxis\":\"y7\",\"type\":\"scatter\"},{\"customdata\":[[\"North America\",\"Barbados\"],[\"Europe\",\"Belarus\"],[\"South America\",\"Bolivia\"],[\"Europe\",\"Bosnia and Herzegovina\"],[\"South America\",\"Brazil\"],[\"Asia\",\"China\"],[\"South America\",\"Colombia\"],[\"Africa\",\"Comoros\"],[\"Africa\",\"Congo\"],[\"North America\",\"Costa Rica\"],[\"North America\",\"Dominican Republic\"],[\"South America\",\"Ecuador\"],[\"North America\",\"El Salvador\"],[\"Africa\",\"Gabon\"],[\"Africa\",\"Guinea\"],[\"North America\",\"Haiti\"],[\"North America\",\"Honduras\"],[\"Asia\",\"Indonesia\"],[\"Asia\",\"Israel\"],[\"Asia\",\"Jordan\"],[\"Asia\",\"Kyrgyz Republic\"],[\"North America\",\"Mexico\"],[\"Africa\",\"Niger\"],[\"Asia\",\"Pakistan\"],[\"South America\",\"Paraguay\"],[\"South America\",\"Peru\"],[\"Asia\",\"Qatar\"],[\"Africa\",\"Rwanda\"],[\"Asia\",\"Tajikistan\"],[\"Africa\",\"Tunisia\"],[\"South America\",\"Uruguay\"],[\"Africa\",\"Zimbabwe\"]],\"hovertemplate\":\"Year=2012<br>Sex=M<br>% Completing Primary Ed=%{x}<br>Maternal deaths/100K live births=%{y}<br>GDP per capita=%{marker.size}<br>Continent=%{customdata[0]}<br>Country=%{customdata[1]}<br>Life Expectancy (years)=%{marker.color}<extra></extra>\",\"legendgroup\":\"\",\"marker\":{\"color\":[78.547,71.9658536585366,69.01,76.401,74.209,75.013,75.882,62.595,61.423,79.074,72.523,75.495,71.692,62.924,57.905,61.26,73.814,69.866,81.7048780487805,73.722,70.0024390243902,74.966,58.79,65.849,73.068,74.981,79.399,65.438,69.34,75.376,77.004,55.032],\"coloraxis\":\"coloraxis\",\"size\":[15335.7399330821,18576.7286760826,7081.38681099674,11293.7922689064,15473.7120210456,10397.5614154923,12896.3516812902,2946.1778039865,5555.13630222353,17555.4618466921,13219.7007852786,11431.3734031352,7754.68072762068,15082.6134597387,2002.38698620261,2833.77552257522,5065.45758523935,9080.04056716843,36119.2136285354,10687.0885130005,4259.31820291395,18655.846258048,1085.54392613058,3980.71995475126,10497.4579762897,11176.0874727934,96261.6626683071,1682.20489661457,2493.40710111535,10114.6142601439,19173.8891614263,2932.08133567175],\"sizemode\":\"area\",\"sizeref\":240.65415667076775,\"symbol\":\"circle\"},\"mode\":\"markers\",\"name\":\"\",\"orientation\":\"v\",\"showlegend\":false,\"x\":[97.47688,100.0,93.06,99.58797,94.72,92.95,88.68,75.45747,76.29745,92.22,83.45,96.16,83.87,66.46164,49.37862,39.11507,78.57,94.34,99.9,97.06,99.48301,95.84,34.45162,63.14233,85.34,95.57,99.43348,29.52403,98.4396,93.07357,95.9,80.57886],\"xaxis\":\"x8\",\"y\":[34.0,4.0,192.0,10.0,60.0,33.0,85.0,313.0,468.0,29.0,94.0,71.0,52.0,292.0,744.0,500.0,70.0,214.0,4.0,52.0,74.0,41.0,616.0,173.0,98.0,100.0,10.0,329.0,21.0,46.0,17.0,528.0],\"yaxis\":\"y8\",\"type\":\"scatter\"},{\"customdata\":[[\"North America\",\"Barbados\"],[\"Europe\",\"Belarus\"],[\"South America\",\"Bolivia\"],[\"Europe\",\"Bosnia and Herzegovina\"],[\"South America\",\"Brazil\"],[\"Asia\",\"China\"],[\"South America\",\"Colombia\"],[\"Africa\",\"Comoros\"],[\"Africa\",\"Congo\"],[\"North America\",\"Costa Rica\"],[\"North America\",\"Dominican Republic\"],[\"South America\",\"Ecuador\"],[\"North America\",\"El Salvador\"],[\"Africa\",\"Gabon\"],[\"Africa\",\"Guinea\"],[\"North America\",\"Haiti\"],[\"North America\",\"Honduras\"],[\"Asia\",\"Indonesia\"],[\"Asia\",\"Israel\"],[\"Asia\",\"Jordan\"],[\"Asia\",\"Kyrgyz Republic\"],[\"North America\",\"Mexico\"],[\"Africa\",\"Niger\"],[\"Asia\",\"Pakistan\"],[\"South America\",\"Paraguay\"],[\"South America\",\"Peru\"],[\"Asia\",\"Qatar\"],[\"Africa\",\"Rwanda\"],[\"Asia\",\"Tajikistan\"],[\"Africa\",\"Tunisia\"],[\"South America\",\"Uruguay\"],[\"Africa\",\"Zimbabwe\"]],\"hovertemplate\":\"Year=2012<br>Sex=_T<br>% Completing Primary Ed=%{x}<br>Maternal deaths/100K live births=%{y}<br>GDP per capita=%{marker.size}<br>Continent=%{customdata[0]}<br>Country=%{customdata[1]}<br>Life Expectancy (years)=%{marker.color}<extra></extra>\",\"legendgroup\":\"\",\"marker\":{\"color\":[78.547,71.9658536585366,69.01,76.401,74.209,75.013,75.882,62.595,61.423,79.074,72.523,75.495,71.692,62.924,57.905,61.26,73.814,69.866,81.7048780487805,73.722,70.0024390243902,74.966,58.79,65.849,73.068,74.981,79.399,65.438,69.34,75.376,77.004,55.032],\"coloraxis\":\"coloraxis\",\"size\":[15335.7399330821,18576.7286760826,7081.38681099674,11293.7922689064,15473.7120210456,10397.5614154923,12896.3516812902,2946.1778039865,5555.13630222353,17555.4618466921,13219.7007852786,11431.3734031352,7754.68072762068,15082.6134597387,2002.38698620261,2833.77552257522,5065.45758523935,9080.04056716843,36119.2136285354,10687.0885130005,4259.31820291395,18655.846258048,1085.54392613058,3980.71995475126,10497.4579762897,11176.0874727934,96261.6626683071,1682.20489661457,2493.40710111535,10114.6142601439,19173.8891614263,2932.08133567175],\"sizemode\":\"area\",\"sizeref\":240.65415667076775,\"symbol\":\"circle\"},\"mode\":\"markers\",\"name\":\"\",\"orientation\":\"v\",\"showlegend\":false,\"x\":[98.4548,99.76952,92.57,99.73966,95.91,93.28,90.92,76.62134,74.22485,93.41,88.06,96.56,86.18,70.94246,42.22287,44.05852,81.9,95.24,99.95,97.62,99.58288,96.45,28.34748,60.90289,88.71,95.36,99.02237,33.11445,98.01894,93.99497,96.95,83.82565],\"xaxis\":\"x9\",\"y\":[34.0,4.0,192.0,10.0,60.0,33.0,85.0,313.0,468.0,29.0,94.0,71.0,52.0,292.0,744.0,500.0,70.0,214.0,4.0,52.0,74.0,41.0,616.0,173.0,98.0,100.0,10.0,329.0,21.0,46.0,17.0,528.0],\"yaxis\":\"y9\",\"type\":\"scatter\"},{\"customdata\":[[\"Africa\",\"Algeria\"],[\"Asia\",\"Bangladesh\"],[\"South America\",\"Bolivia\"],[\"South America\",\"Brazil\"],[\"South America\",\"Chile\"],[\"South America\",\"Colombia\"],[\"North America\",\"Costa Rica\"],[\"Africa\",\"Dem. Rep. Congo\"],[\"North America\",\"Dominican Republic\"],[\"South America\",\"Ecuador\"],[\"North America\",\"El Salvador\"],[\"Africa\",\"Gambia\"],[\"North America\",\"Honduras\"],[\"Africa\",\"Liberia\"],[\"Africa\",\"Mali\"],[\"Europe\",\"Montenegro\"],[\"Africa\",\"Namibia\"],[\"Africa\",\"Nigeria\"],[\"North America\",\"Panama\"],[\"South America\",\"Paraguay\"],[\"South America\",\"Peru\"],[\"Asia\",\"Philippines\"],[\"Africa\",\"Sierra Leone\"],[\"Asia\",\"Thailand\"],[\"Europe\",\"Ukraine\"],[\"South America\",\"Uruguay\"],[\"Africa\",\"Zambia\"]],\"hovertemplate\":\"Year=2013<br>Sex=F<br>% Completing Primary Ed=%{x}<br>Maternal deaths/100K live births=%{y}<br>GDP per capita=%{marker.size}<br>Continent=%{customdata[0]}<br>Country=%{customdata[1]}<br>Life Expectancy (years)=%{marker.color}<extra></extra>\",\"legendgroup\":\"\",\"marker\":{\"color\":[75.661,70.93,69.468,74.483,79.349,76.105,79.234,58.381,72.763,75.707,71.935,60.426,74.051,61.186,56.578,76.490243902439,60.513,52.228,77.386,73.274,75.258,70.315,51.731,75.378,71.159512195122,77.124,59.746],\"coloraxis\":\"coloraxis\",\"size\":[11319.0979491015,3348.95347376199,7444.49009062415,15800.0389651203,24081.879609375,13436.041030385,17748.9488964376,972.455893446057,13702.3239332071,11818.5860816906,7892.44185770279,2131.43277120309,5113.46089403684,1652.18916036789,1995.15803872227,17437.2118164408,9832.79952618449,5329.12306787399,26485.5658059468,11225.9062835338,11724.0032046236,6666.25091685352,1953.08694139838,15783.0307327749,12552.6697613585,20001.1402672164,3399.71299922393],\"sizemode\":\"area\",\"sizeref\":240.65415667076775,\"symbol\":\"circle\"},\"mode\":\"markers\",\"name\":\"\",\"orientation\":\"v\",\"showlegend\":false,\"x\":[94.80183,78.59,95.73,97.44,97.03,93.7,94.47,66.51914,93.43502,97.27,88.86,60.17826,84.87,32.45773,37.75267,99.80089,87.89175,65.90945,95.37,91.97,96.24,92.9,68.33899,98.77737,99.2674,97.33022,76.04823],\"xaxis\":\"x4\",\"y\":[115.0,227.0,184.0,61.0,16.0,85.0,29.0,514.0,94.0,67.0,50.0,644.0,69.0,674.0,663.0,6.0,231.0,951.0,66.0,94.0,98.0,136.0,1180.0,39.0,23.0,18.0,254.0],\"yaxis\":\"y4\",\"type\":\"scatter\"},{\"customdata\":[[\"Africa\",\"Algeria\"],[\"Asia\",\"Bangladesh\"],[\"South America\",\"Bolivia\"],[\"South America\",\"Brazil\"],[\"South America\",\"Chile\"],[\"South America\",\"Colombia\"],[\"North America\",\"Costa Rica\"],[\"Africa\",\"Dem. Rep. Congo\"],[\"North America\",\"Dominican Republic\"],[\"South America\",\"Ecuador\"],[\"North America\",\"El Salvador\"],[\"Africa\",\"Gambia\"],[\"North America\",\"Honduras\"],[\"Africa\",\"Liberia\"],[\"Africa\",\"Mali\"],[\"Europe\",\"Montenegro\"],[\"Africa\",\"Namibia\"],[\"Africa\",\"Nigeria\"],[\"North America\",\"Panama\"],[\"South America\",\"Paraguay\"],[\"South America\",\"Peru\"],[\"Asia\",\"Philippines\"],[\"Africa\",\"Sierra Leone\"],[\"Asia\",\"Thailand\"],[\"Europe\",\"Ukraine\"],[\"South America\",\"Uruguay\"],[\"Africa\",\"Zambia\"]],\"hovertemplate\":\"Year=2013<br>Sex=M<br>% Completing Primary Ed=%{x}<br>Maternal deaths/100K live births=%{y}<br>GDP per capita=%{marker.size}<br>Continent=%{customdata[0]}<br>Country=%{customdata[1]}<br>Life Expectancy (years)=%{marker.color}<extra></extra>\",\"legendgroup\":\"\",\"marker\":{\"color\":[75.661,70.93,69.468,74.483,79.349,76.105,79.234,58.381,72.763,75.707,71.935,60.426,74.051,61.186,56.578,76.490243902439,60.513,52.228,77.386,73.274,75.258,70.315,51.731,75.378,71.159512195122,77.124,59.746],\"coloraxis\":\"coloraxis\",\"size\":[11319.0979491015,3348.95347376199,7444.49009062415,15800.0389651203,24081.879609375,13436.041030385,17748.9488964376,972.455893446057,13702.3239332071,11818.5860816906,7892.44185770279,2131.43277120309,5113.46089403684,1652.18916036789,1995.15803872227,17437.2118164408,9832.79952618449,5329.12306787399,26485.5658059468,11225.9062835338,11724.0032046236,6666.25091685352,1953.08694139838,15783.0307327749,12552.6697613585,20001.1402672164,3399.71299922393],\"sizemode\":\"area\",\"sizeref\":240.65415667076775,\"symbol\":\"circle\"},\"mode\":\"markers\",\"name\":\"\",\"orientation\":\"v\",\"showlegend\":false,\"x\":[93.70651,66.2,95.46,94.66,94.83,88.48,92.42,71.19611,85.2852,97.34,86.86,63.98253,80.2,36.09733,45.53413,100.0,77.98355,70.94151,93.57,89.22,94.94,81.88,64.65759,97.51308,99.89616,96.61975,73.89091],\"xaxis\":\"x5\",\"y\":[115.0,227.0,184.0,61.0,16.0,85.0,29.0,514.0,94.0,67.0,50.0,644.0,69.0,674.0,663.0,6.0,231.0,951.0,66.0,94.0,98.0,136.0,1180.0,39.0,23.0,18.0,254.0],\"yaxis\":\"y5\",\"type\":\"scatter\"},{\"customdata\":[[\"Africa\",\"Algeria\"],[\"Asia\",\"Bangladesh\"],[\"South America\",\"Bolivia\"],[\"South America\",\"Brazil\"],[\"South America\",\"Chile\"],[\"South America\",\"Colombia\"],[\"North America\",\"Costa Rica\"],[\"Africa\",\"Dem. Rep. Congo\"],[\"North America\",\"Dominican Republic\"],[\"South America\",\"Ecuador\"],[\"North America\",\"El Salvador\"],[\"Africa\",\"Gambia\"],[\"North America\",\"Honduras\"],[\"Africa\",\"Liberia\"],[\"Africa\",\"Mali\"],[\"Europe\",\"Montenegro\"],[\"Africa\",\"Namibia\"],[\"Africa\",\"Nigeria\"],[\"North America\",\"Panama\"],[\"South America\",\"Paraguay\"],[\"South America\",\"Peru\"],[\"Asia\",\"Philippines\"],[\"Africa\",\"Sierra Leone\"],[\"Asia\",\"Thailand\"],[\"Europe\",\"Ukraine\"],[\"South America\",\"Uruguay\"],[\"Africa\",\"Zambia\"]],\"hovertemplate\":\"Year=2013<br>Sex=_T<br>% Completing Primary Ed=%{x}<br>Maternal deaths/100K live births=%{y}<br>GDP per capita=%{marker.size}<br>Continent=%{customdata[0]}<br>Country=%{customdata[1]}<br>Life Expectancy (years)=%{marker.color}<extra></extra>\",\"legendgroup\":\"\",\"marker\":{\"color\":[75.661,70.93,69.468,74.483,79.349,76.105,79.234,58.381,72.763,75.707,71.935,60.426,74.051,61.186,56.578,76.490243902439,60.513,52.228,77.386,73.274,75.258,70.315,51.731,75.378,71.159512195122,77.124,59.746],\"coloraxis\":\"coloraxis\",\"size\":[11319.0979491015,3348.95347376199,7444.49009062415,15800.0389651203,24081.879609375,13436.041030385,17748.9488964376,972.455893446057,13702.3239332071,11818.5860816906,7892.44185770279,2131.43277120309,5113.46089403684,1652.18916036789,1995.15803872227,17437.2118164408,9832.79952618449,5329.12306787399,26485.5658059468,11225.9062835338,11724.0032046236,6666.25091685352,1953.08694139838,15783.0307327749,12552.6697613585,20001.1402672164,3399.71299922393],\"sizemode\":\"area\",\"sizeref\":240.65415667076775,\"symbol\":\"circle\"},\"mode\":\"markers\",\"name\":\"\",\"orientation\":\"v\",\"showlegend\":false,\"x\":[94.24063,72.23,95.59,96.02,95.88,90.93,93.44,68.9453,89.47863,97.31,87.84,61.99319,82.62,34.2478,42.02967,99.90369,83.10977,68.37667,94.44,90.62,95.58,87.45,66.62422,98.1352,99.58049,96.99595,74.97741],\"xaxis\":\"x6\",\"y\":[115.0,227.0,184.0,61.0,16.0,85.0,29.0,514.0,94.0,67.0,50.0,644.0,69.0,674.0,663.0,6.0,231.0,951.0,66.0,94.0,98.0,136.0,1180.0,39.0,23.0,18.0,254.0],\"yaxis\":\"y6\",\"type\":\"scatter\"},{\"customdata\":[[\"Asia\",\"Bangladesh\"],[\"Africa\",\"Benin\"],[\"South America\",\"Bolivia\"],[\"South America\",\"Brazil\"],[\"Asia\",\"Cambodia\"],[\"Africa\",\"Cameroon\"],[\"Africa\",\"Chad\"],[\"Asia\",\"China\"],[\"South America\",\"Colombia\"],[\"North America\",\"Costa Rica\"],[\"North America\",\"Dominican Republic\"],[\"South America\",\"Ecuador\"],[\"Africa\",\"Egypt\"],[\"North America\",\"El Salvador\"],[\"Africa\",\"Eswatini\"],[\"Africa\",\"Ghana\"],[\"North America\",\"Guatemala\"],[\"Africa\",\"Guinea-Bissau\"],[\"South America\",\"Guyana\"],[\"North America\",\"Honduras\"],[\"Africa\",\"Kenya\"],[\"Asia\",\"Kyrgyz Republic\"],[\"Africa\",\"Lesotho\"],[\"Africa\",\"Malawi\"],[\"North America\",\"Mexico\"],[\"Asia\",\"Mongolia\"],[\"Asia\",\"Nepal\"],[\"North America\",\"Nicaragua\"],[\"North America\",\"Panama\"],[\"South America\",\"Paraguay\"],[\"South America\",\"Peru\"],[\"Africa\",\"Senegal\"],[\"Europe\",\"Serbia\"],[\"Africa\",\"Sudan\"],[\"Africa\",\"Togo\"],[\"South America\",\"Uruguay\"],[\"Africa\",\"Zimbabwe\"]],\"hovertemplate\":\"Year=2014<br>Sex=F<br>% Completing Primary Ed=%{x}<br>Maternal deaths/100K live births=%{y}<br>GDP per capita=%{marker.size}<br>Continent=%{customdata[0]}<br>Country=%{customdata[1]}<br>Life Expectancy (years)=%{marker.color}<extra></extra>\",\"legendgroup\":\"\",\"marker\":{\"color\":[71.231,60.345,69.891,74.745,68.273,57.083,52.789,75.629,76.322,79.398,73.003,75.923,71.117,72.175,53.569,62.416,72.935,56.556,69.049,74.278,64.135,70.4024390243902,49.891,61.042,74.908,68.863,69.168,73.429,77.583,73.473,75.529,66.37,75.3365853658537,64.169,59.58,77.244,58.41],\"coloraxis\":\"coloraxis\",\"size\":[3511.58228216065,2975.85391436098,7730.63840148344,15744.3471113816,3364.27872943395,3362.664067483,1866.26648837908,11917.3384959856,13899.3688286349,18168.715241725,14499.6361158376,12078.4698435004,10353.6684072177,7990.44461457603,8192.53543463127,4675.75856612863,7939.09038738555,1740.89056524607,11244.3126692508,5177.40941597809,3709.15907577307,4722.08600254189,2676.9749855703,1027.20849641169,18949.4798369704,10980.3351999295,2829.23339391927,5443.34174009736,27357.6230717227,11612.3899106317,11877.084063348,2868.31769823851,15274.9422811457,4093.14257664224,1404.13293846139,20582.1689530456,2955.24028731034],\"sizemode\":\"area\",\"sizeref\":240.65415667076775,\"symbol\":\"circle\"},\"mode\":\"markers\",\"name\":\"\",\"orientation\":\"v\",\"showlegend\":false,\"x\":[84.44126,48.67413,92.79,97.82,77.21745,72.50016,23.72016,98.02,94.54,94.89,94.70614,98.29,91.53024,90.31,76.72132,67.84778,71.65,25.74895,99.05898,83.74,86.92873,99.46177,78.1806,51.43,97.25,98.64397,75.60509,84.31,94.86,92.21,96.31,49.98,99.55871,64.43813,57.59164,98.23,90.7],\"xaxis\":\"x\",\"y\":[214.0,432.0,175.0,62.0,189.0,564.0,1170.0,31.0,85.0,29.0,94.0,65.0,39.0,49.0,434.0,325.0,107.0,711.0,174.0,68.0,358.0,69.0,579.0,381.0,38.0,49.0,231.0,103.0,60.0,91.0,96.0,364.0,12.0,333.0,401.0,17.0,494.0],\"yaxis\":\"y\",\"type\":\"scatter\"},{\"customdata\":[[\"Asia\",\"Bangladesh\"],[\"Africa\",\"Benin\"],[\"South America\",\"Bolivia\"],[\"South America\",\"Brazil\"],[\"Asia\",\"Cambodia\"],[\"Africa\",\"Cameroon\"],[\"Africa\",\"Chad\"],[\"Asia\",\"China\"],[\"South America\",\"Colombia\"],[\"North America\",\"Costa Rica\"],[\"North America\",\"Dominican Republic\"],[\"South America\",\"Ecuador\"],[\"Africa\",\"Egypt\"],[\"North America\",\"El Salvador\"],[\"Africa\",\"Eswatini\"],[\"Africa\",\"Ghana\"],[\"North America\",\"Guatemala\"],[\"Africa\",\"Guinea-Bissau\"],[\"South America\",\"Guyana\"],[\"North America\",\"Honduras\"],[\"Africa\",\"Kenya\"],[\"Asia\",\"Kyrgyz Republic\"],[\"Africa\",\"Lesotho\"],[\"Africa\",\"Malawi\"],[\"North America\",\"Mexico\"],[\"Asia\",\"Mongolia\"],[\"Asia\",\"Nepal\"],[\"North America\",\"Nicaragua\"],[\"North America\",\"Panama\"],[\"South America\",\"Paraguay\"],[\"South America\",\"Peru\"],[\"Africa\",\"Senegal\"],[\"Europe\",\"Serbia\"],[\"Africa\",\"Sudan\"],[\"Africa\",\"Togo\"],[\"South America\",\"Uruguay\"],[\"Africa\",\"Zimbabwe\"]],\"hovertemplate\":\"Year=2014<br>Sex=M<br>% Completing Primary Ed=%{x}<br>Maternal deaths/100K live births=%{y}<br>GDP per capita=%{marker.size}<br>Continent=%{customdata[0]}<br>Country=%{customdata[1]}<br>Life Expectancy (years)=%{marker.color}<extra></extra>\",\"legendgroup\":\"\",\"marker\":{\"color\":[71.231,60.345,69.891,74.745,68.273,57.083,52.789,75.629,76.322,79.398,73.003,75.923,71.117,72.175,53.569,62.416,72.935,56.556,69.049,74.278,64.135,70.4024390243902,49.891,61.042,74.908,68.863,69.168,73.429,77.583,73.473,75.529,66.37,75.3365853658537,64.169,59.58,77.244,58.41],\"coloraxis\":\"coloraxis\",\"size\":[3511.58228216065,2975.85391436098,7730.63840148344,15744.3471113816,3364.27872943395,3362.664067483,1866.26648837908,11917.3384959856,13899.3688286349,18168.715241725,14499.6361158376,12078.4698435004,10353.6684072177,7990.44461457603,8192.53543463127,4675.75856612863,7939.09038738555,1740.89056524607,11244.3126692508,5177.40941597809,3709.15907577307,4722.08600254189,2676.9749855703,1027.20849641169,18949.4798369704,10980.3351999295,2829.23339391927,5443.34174009736,27357.6230717227,11612.3899106317,11877.084063348,2868.31769823851,15274.9422811457,4093.14257664224,1404.13293846139,20582.1689530456,2955.24028731034],\"sizemode\":\"area\",\"sizeref\":240.65415667076775,\"symbol\":\"circle\"},\"mode\":\"markers\",\"name\":\"\",\"orientation\":\"v\",\"showlegend\":false,\"x\":[75.05403,58.73172,93.58,95.69,67.72973,74.84718,30.58417,96.53,89.47,94.17,88.34187,97.07,90.22861,86.52,64.0539,63.79495,73.17,32.32904,95.91525,81.37,81.44463,99.08892,52.59899,45.19,95.66,97.17731,76.88139,66.02,93.4,87.28,95.15,50.39,99.1021,66.45132,64.5542,96.42,83.17],\"xaxis\":\"x2\",\"y\":[214.0,432.0,175.0,62.0,189.0,564.0,1170.0,31.0,85.0,29.0,94.0,65.0,39.0,49.0,434.0,325.0,107.0,711.0,174.0,68.0,358.0,69.0,579.0,381.0,38.0,49.0,231.0,103.0,60.0,91.0,96.0,364.0,12.0,333.0,401.0,17.0,494.0],\"yaxis\":\"y2\",\"type\":\"scatter\"},{\"customdata\":[[\"Asia\",\"Bangladesh\"],[\"Africa\",\"Benin\"],[\"South America\",\"Bolivia\"],[\"South America\",\"Brazil\"],[\"Asia\",\"Cambodia\"],[\"Africa\",\"Cameroon\"],[\"Africa\",\"Chad\"],[\"Asia\",\"China\"],[\"South America\",\"Colombia\"],[\"North America\",\"Costa Rica\"],[\"North America\",\"Dominican Republic\"],[\"South America\",\"Ecuador\"],[\"Africa\",\"Egypt\"],[\"North America\",\"El Salvador\"],[\"Africa\",\"Eswatini\"],[\"Africa\",\"Ghana\"],[\"North America\",\"Guatemala\"],[\"Africa\",\"Guinea-Bissau\"],[\"South America\",\"Guyana\"],[\"North America\",\"Honduras\"],[\"Africa\",\"Kenya\"],[\"Asia\",\"Kyrgyz Republic\"],[\"Africa\",\"Lesotho\"],[\"Africa\",\"Malawi\"],[\"North America\",\"Mexico\"],[\"Asia\",\"Mongolia\"],[\"Asia\",\"Nepal\"],[\"North America\",\"Nicaragua\"],[\"North America\",\"Panama\"],[\"South America\",\"Paraguay\"],[\"South America\",\"Peru\"],[\"Africa\",\"Senegal\"],[\"Europe\",\"Serbia\"],[\"Africa\",\"Sudan\"],[\"Africa\",\"Togo\"],[\"South America\",\"Uruguay\"],[\"Africa\",\"Zimbabwe\"]],\"hovertemplate\":\"Year=2014<br>Sex=_T<br>% Completing Primary Ed=%{x}<br>Maternal deaths/100K live births=%{y}<br>GDP per capita=%{marker.size}<br>Continent=%{customdata[0]}<br>Country=%{customdata[1]}<br>Life Expectancy (years)=%{marker.color}<extra></extra>\",\"legendgroup\":\"\",\"marker\":{\"color\":[71.231,60.345,69.891,74.745,68.273,57.083,52.789,75.629,76.322,79.398,73.003,75.923,71.117,72.175,53.569,62.416,72.935,56.556,69.049,74.278,64.135,70.4024390243902,49.891,61.042,74.908,68.863,69.168,73.429,77.583,73.473,75.529,66.37,75.3365853658537,64.169,59.58,77.244,58.41],\"coloraxis\":\"coloraxis\",\"size\":[3511.58228216065,2975.85391436098,7730.63840148344,15744.3471113816,3364.27872943395,3362.664067483,1866.26648837908,11917.3384959856,13899.3688286349,18168.715241725,14499.6361158376,12078.4698435004,10353.6684072177,7990.44461457603,8192.53543463127,4675.75856612863,7939.09038738555,1740.89056524607,11244.3126692508,5177.40941597809,3709.15907577307,4722.08600254189,2676.9749855703,1027.20849641169,18949.4798369704,10980.3351999295,2829.23339391927,5443.34174009736,27357.6230717227,11612.3899106317,11877.084063348,2868.31769823851,15274.9422811457,4093.14257664224,1404.13293846139,20582.1689530456,2955.24028731034],\"sizemode\":\"area\",\"sizeref\":240.65415667076775,\"symbol\":\"circle\"},\"mode\":\"markers\",\"name\":\"\",\"orientation\":\"v\",\"showlegend\":false,\"x\":[80.01213,54.11723,93.18,96.72,72.28277,73.64866,27.32146,97.21,91.8,94.51,91.51656,97.64,90.86884,88.41,70.2268,65.83102,72.4,29.14938,97.5321,82.53,84.14092,99.26881,64.90466,48.07,96.44,97.89996,76.22546,74.44,94.13,89.62,95.73,50.17,99.3068,65.42644,61.28725,97.3,86.77],\"xaxis\":\"x3\",\"y\":[214.0,432.0,175.0,62.0,189.0,564.0,1170.0,31.0,85.0,29.0,94.0,65.0,39.0,49.0,434.0,325.0,107.0,711.0,174.0,68.0,358.0,69.0,579.0,381.0,38.0,49.0,231.0,103.0,60.0,91.0,96.0,364.0,12.0,333.0,401.0,17.0,494.0],\"yaxis\":\"y3\",\"type\":\"scatter\"}],                        {\"template\":{\"data\":{\"bar\":[{\"error_x\":{\"color\":\"#2a3f5f\"},\"error_y\":{\"color\":\"#2a3f5f\"},\"marker\":{\"line\":{\"color\":\"#E5ECF6\",\"width\":0.5},\"pattern\":{\"fillmode\":\"overlay\",\"size\":10,\"solidity\":0.2}},\"type\":\"bar\"}],\"barpolar\":[{\"marker\":{\"line\":{\"color\":\"#E5ECF6\",\"width\":0.5},\"pattern\":{\"fillmode\":\"overlay\",\"size\":10,\"solidity\":0.2}},\"type\":\"barpolar\"}],\"carpet\":[{\"aaxis\":{\"endlinecolor\":\"#2a3f5f\",\"gridcolor\":\"white\",\"linecolor\":\"white\",\"minorgridcolor\":\"white\",\"startlinecolor\":\"#2a3f5f\"},\"baxis\":{\"endlinecolor\":\"#2a3f5f\",\"gridcolor\":\"white\",\"linecolor\":\"white\",\"minorgridcolor\":\"white\",\"startlinecolor\":\"#2a3f5f\"},\"type\":\"carpet\"}],\"choropleth\":[{\"colorbar\":{\"outlinewidth\":0,\"ticks\":\"\"},\"type\":\"choropleth\"}],\"contour\":[{\"colorbar\":{\"outlinewidth\":0,\"ticks\":\"\"},\"colorscale\":[[0.0,\"#0d0887\"],[0.1111111111111111,\"#46039f\"],[0.2222222222222222,\"#7201a8\"],[0.3333333333333333,\"#9c179e\"],[0.4444444444444444,\"#bd3786\"],[0.5555555555555556,\"#d8576b\"],[0.6666666666666666,\"#ed7953\"],[0.7777777777777778,\"#fb9f3a\"],[0.8888888888888888,\"#fdca26\"],[1.0,\"#f0f921\"]],\"type\":\"contour\"}],\"contourcarpet\":[{\"colorbar\":{\"outlinewidth\":0,\"ticks\":\"\"},\"type\":\"contourcarpet\"}],\"heatmap\":[{\"colorbar\":{\"outlinewidth\":0,\"ticks\":\"\"},\"colorscale\":[[0.0,\"#0d0887\"],[0.1111111111111111,\"#46039f\"],[0.2222222222222222,\"#7201a8\"],[0.3333333333333333,\"#9c179e\"],[0.4444444444444444,\"#bd3786\"],[0.5555555555555556,\"#d8576b\"],[0.6666666666666666,\"#ed7953\"],[0.7777777777777778,\"#fb9f3a\"],[0.8888888888888888,\"#fdca26\"],[1.0,\"#f0f921\"]],\"type\":\"heatmap\"}],\"heatmapgl\":[{\"colorbar\":{\"outlinewidth\":0,\"ticks\":\"\"},\"colorscale\":[[0.0,\"#0d0887\"],[0.1111111111111111,\"#46039f\"],[0.2222222222222222,\"#7201a8\"],[0.3333333333333333,\"#9c179e\"],[0.4444444444444444,\"#bd3786\"],[0.5555555555555556,\"#d8576b\"],[0.6666666666666666,\"#ed7953\"],[0.7777777777777778,\"#fb9f3a\"],[0.8888888888888888,\"#fdca26\"],[1.0,\"#f0f921\"]],\"type\":\"heatmapgl\"}],\"histogram\":[{\"marker\":{\"pattern\":{\"fillmode\":\"overlay\",\"size\":10,\"solidity\":0.2}},\"type\":\"histogram\"}],\"histogram2d\":[{\"colorbar\":{\"outlinewidth\":0,\"ticks\":\"\"},\"colorscale\":[[0.0,\"#0d0887\"],[0.1111111111111111,\"#46039f\"],[0.2222222222222222,\"#7201a8\"],[0.3333333333333333,\"#9c179e\"],[0.4444444444444444,\"#bd3786\"],[0.5555555555555556,\"#d8576b\"],[0.6666666666666666,\"#ed7953\"],[0.7777777777777778,\"#fb9f3a\"],[0.8888888888888888,\"#fdca26\"],[1.0,\"#f0f921\"]],\"type\":\"histogram2d\"}],\"histogram2dcontour\":[{\"colorbar\":{\"outlinewidth\":0,\"ticks\":\"\"},\"colorscale\":[[0.0,\"#0d0887\"],[0.1111111111111111,\"#46039f\"],[0.2222222222222222,\"#7201a8\"],[0.3333333333333333,\"#9c179e\"],[0.4444444444444444,\"#bd3786\"],[0.5555555555555556,\"#d8576b\"],[0.6666666666666666,\"#ed7953\"],[0.7777777777777778,\"#fb9f3a\"],[0.8888888888888888,\"#fdca26\"],[1.0,\"#f0f921\"]],\"type\":\"histogram2dcontour\"}],\"mesh3d\":[{\"colorbar\":{\"outlinewidth\":0,\"ticks\":\"\"},\"type\":\"mesh3d\"}],\"parcoords\":[{\"line\":{\"colorbar\":{\"outlinewidth\":0,\"ticks\":\"\"}},\"type\":\"parcoords\"}],\"pie\":[{\"automargin\":true,\"type\":\"pie\"}],\"scatter\":[{\"marker\":{\"colorbar\":{\"outlinewidth\":0,\"ticks\":\"\"}},\"type\":\"scatter\"}],\"scatter3d\":[{\"line\":{\"colorbar\":{\"outlinewidth\":0,\"ticks\":\"\"}},\"marker\":{\"colorbar\":{\"outlinewidth\":0,\"ticks\":\"\"}},\"type\":\"scatter3d\"}],\"scattercarpet\":[{\"marker\":{\"colorbar\":{\"outlinewidth\":0,\"ticks\":\"\"}},\"type\":\"scattercarpet\"}],\"scattergeo\":[{\"marker\":{\"colorbar\":{\"outlinewidth\":0,\"ticks\":\"\"}},\"type\":\"scattergeo\"}],\"scattergl\":[{\"marker\":{\"colorbar\":{\"outlinewidth\":0,\"ticks\":\"\"}},\"type\":\"scattergl\"}],\"scattermapbox\":[{\"marker\":{\"colorbar\":{\"outlinewidth\":0,\"ticks\":\"\"}},\"type\":\"scattermapbox\"}],\"scatterpolar\":[{\"marker\":{\"colorbar\":{\"outlinewidth\":0,\"ticks\":\"\"}},\"type\":\"scatterpolar\"}],\"scatterpolargl\":[{\"marker\":{\"colorbar\":{\"outlinewidth\":0,\"ticks\":\"\"}},\"type\":\"scatterpolargl\"}],\"scatterternary\":[{\"marker\":{\"colorbar\":{\"outlinewidth\":0,\"ticks\":\"\"}},\"type\":\"scatterternary\"}],\"surface\":[{\"colorbar\":{\"outlinewidth\":0,\"ticks\":\"\"},\"colorscale\":[[0.0,\"#0d0887\"],[0.1111111111111111,\"#46039f\"],[0.2222222222222222,\"#7201a8\"],[0.3333333333333333,\"#9c179e\"],[0.4444444444444444,\"#bd3786\"],[0.5555555555555556,\"#d8576b\"],[0.6666666666666666,\"#ed7953\"],[0.7777777777777778,\"#fb9f3a\"],[0.8888888888888888,\"#fdca26\"],[1.0,\"#f0f921\"]],\"type\":\"surface\"}],\"table\":[{\"cells\":{\"fill\":{\"color\":\"#EBF0F8\"},\"line\":{\"color\":\"white\"}},\"header\":{\"fill\":{\"color\":\"#C8D4E3\"},\"line\":{\"color\":\"white\"}},\"type\":\"table\"}]},\"layout\":{\"annotationdefaults\":{\"arrowcolor\":\"#2a3f5f\",\"arrowhead\":0,\"arrowwidth\":1},\"autotypenumbers\":\"strict\",\"coloraxis\":{\"colorbar\":{\"outlinewidth\":0,\"ticks\":\"\"}},\"colorscale\":{\"diverging\":[[0,\"#8e0152\"],[0.1,\"#c51b7d\"],[0.2,\"#de77ae\"],[0.3,\"#f1b6da\"],[0.4,\"#fde0ef\"],[0.5,\"#f7f7f7\"],[0.6,\"#e6f5d0\"],[0.7,\"#b8e186\"],[0.8,\"#7fbc41\"],[0.9,\"#4d9221\"],[1,\"#276419\"]],\"sequential\":[[0.0,\"#0d0887\"],[0.1111111111111111,\"#46039f\"],[0.2222222222222222,\"#7201a8\"],[0.3333333333333333,\"#9c179e\"],[0.4444444444444444,\"#bd3786\"],[0.5555555555555556,\"#d8576b\"],[0.6666666666666666,\"#ed7953\"],[0.7777777777777778,\"#fb9f3a\"],[0.8888888888888888,\"#fdca26\"],[1.0,\"#f0f921\"]],\"sequentialminus\":[[0.0,\"#0d0887\"],[0.1111111111111111,\"#46039f\"],[0.2222222222222222,\"#7201a8\"],[0.3333333333333333,\"#9c179e\"],[0.4444444444444444,\"#bd3786\"],[0.5555555555555556,\"#d8576b\"],[0.6666666666666666,\"#ed7953\"],[0.7777777777777778,\"#fb9f3a\"],[0.8888888888888888,\"#fdca26\"],[1.0,\"#f0f921\"]]},\"colorway\":[\"#636efa\",\"#EF553B\",\"#00cc96\",\"#ab63fa\",\"#FFA15A\",\"#19d3f3\",\"#FF6692\",\"#B6E880\",\"#FF97FF\",\"#FECB52\"],\"font\":{\"color\":\"#2a3f5f\"},\"geo\":{\"bgcolor\":\"white\",\"lakecolor\":\"white\",\"landcolor\":\"#E5ECF6\",\"showlakes\":true,\"showland\":true,\"subunitcolor\":\"white\"},\"hoverlabel\":{\"align\":\"left\"},\"hovermode\":\"closest\",\"mapbox\":{\"style\":\"light\"},\"paper_bgcolor\":\"white\",\"plot_bgcolor\":\"#E5ECF6\",\"polar\":{\"angularaxis\":{\"gridcolor\":\"white\",\"linecolor\":\"white\",\"ticks\":\"\"},\"bgcolor\":\"#E5ECF6\",\"radialaxis\":{\"gridcolor\":\"white\",\"linecolor\":\"white\",\"ticks\":\"\"}},\"scene\":{\"xaxis\":{\"backgroundcolor\":\"#E5ECF6\",\"gridcolor\":\"white\",\"gridwidth\":2,\"linecolor\":\"white\",\"showbackground\":true,\"ticks\":\"\",\"zerolinecolor\":\"white\"},\"yaxis\":{\"backgroundcolor\":\"#E5ECF6\",\"gridcolor\":\"white\",\"gridwidth\":2,\"linecolor\":\"white\",\"showbackground\":true,\"ticks\":\"\",\"zerolinecolor\":\"white\"},\"zaxis\":{\"backgroundcolor\":\"#E5ECF6\",\"gridcolor\":\"white\",\"gridwidth\":2,\"linecolor\":\"white\",\"showbackground\":true,\"ticks\":\"\",\"zerolinecolor\":\"white\"}},\"shapedefaults\":{\"line\":{\"color\":\"#2a3f5f\"}},\"ternary\":{\"aaxis\":{\"gridcolor\":\"white\",\"linecolor\":\"white\",\"ticks\":\"\"},\"baxis\":{\"gridcolor\":\"white\",\"linecolor\":\"white\",\"ticks\":\"\"},\"bgcolor\":\"#E5ECF6\",\"caxis\":{\"gridcolor\":\"white\",\"linecolor\":\"white\",\"ticks\":\"\"}},\"title\":{\"x\":0.05},\"xaxis\":{\"automargin\":true,\"gridcolor\":\"white\",\"linecolor\":\"white\",\"ticks\":\"\",\"title\":{\"standoff\":15},\"zerolinecolor\":\"white\",\"zerolinewidth\":2},\"yaxis\":{\"automargin\":true,\"gridcolor\":\"white\",\"linecolor\":\"white\",\"ticks\":\"\",\"title\":{\"standoff\":15},\"zerolinecolor\":\"white\",\"zerolinewidth\":2}}},\"xaxis\":{\"anchor\":\"y\",\"domain\":[0.0,0.3133333333333333],\"title\":{\"text\":\"% Completing Primary Ed\"}},\"yaxis\":{\"anchor\":\"x\",\"domain\":[0.0,0.073],\"title\":{\"text\":\"Maternal deaths/100K live births\"}},\"xaxis2\":{\"anchor\":\"y2\",\"domain\":[0.3333333333333333,0.6466666666666666],\"matches\":\"x\",\"title\":{\"text\":\"% Completing Primary Ed\"}},\"yaxis2\":{\"anchor\":\"x2\",\"domain\":[0.0,0.073],\"matches\":\"y\",\"showticklabels\":false},\"xaxis3\":{\"anchor\":\"y3\",\"domain\":[0.6666666666666666,0.98],\"matches\":\"x\",\"title\":{\"text\":\"% Completing Primary Ed\"}},\"yaxis3\":{\"anchor\":\"x3\",\"domain\":[0.0,0.073],\"matches\":\"y\",\"showticklabels\":false},\"xaxis4\":{\"anchor\":\"y4\",\"domain\":[0.0,0.3133333333333333],\"matches\":\"x\",\"showticklabels\":false},\"yaxis4\":{\"anchor\":\"x4\",\"domain\":[0.103,0.176],\"matches\":\"y\",\"title\":{\"text\":\"Maternal deaths/100K live births\"}},\"xaxis5\":{\"anchor\":\"y5\",\"domain\":[0.3333333333333333,0.6466666666666666],\"matches\":\"x\",\"showticklabels\":false},\"yaxis5\":{\"anchor\":\"x5\",\"domain\":[0.103,0.176],\"matches\":\"y\",\"showticklabels\":false},\"xaxis6\":{\"anchor\":\"y6\",\"domain\":[0.6666666666666666,0.98],\"matches\":\"x\",\"showticklabels\":false},\"yaxis6\":{\"anchor\":\"x6\",\"domain\":[0.103,0.176],\"matches\":\"y\",\"showticklabels\":false},\"xaxis7\":{\"anchor\":\"y7\",\"domain\":[0.0,0.3133333333333333],\"matches\":\"x\",\"showticklabels\":false},\"yaxis7\":{\"anchor\":\"x7\",\"domain\":[0.206,0.27899999999999997],\"matches\":\"y\",\"title\":{\"text\":\"Maternal deaths/100K live births\"}},\"xaxis8\":{\"anchor\":\"y8\",\"domain\":[0.3333333333333333,0.6466666666666666],\"matches\":\"x\",\"showticklabels\":false},\"yaxis8\":{\"anchor\":\"x8\",\"domain\":[0.206,0.27899999999999997],\"matches\":\"y\",\"showticklabels\":false},\"xaxis9\":{\"anchor\":\"y9\",\"domain\":[0.6666666666666666,0.98],\"matches\":\"x\",\"showticklabels\":false},\"yaxis9\":{\"anchor\":\"x9\",\"domain\":[0.206,0.27899999999999997],\"matches\":\"y\",\"showticklabels\":false},\"xaxis10\":{\"anchor\":\"y10\",\"domain\":[0.0,0.3133333333333333],\"matches\":\"x\",\"showticklabels\":false},\"yaxis10\":{\"anchor\":\"x10\",\"domain\":[0.30899999999999994,0.38199999999999995],\"matches\":\"y\",\"title\":{\"text\":\"Maternal deaths/100K live births\"}},\"xaxis11\":{\"anchor\":\"y11\",\"domain\":[0.3333333333333333,0.6466666666666666],\"matches\":\"x\",\"showticklabels\":false},\"yaxis11\":{\"anchor\":\"x11\",\"domain\":[0.30899999999999994,0.38199999999999995],\"matches\":\"y\",\"showticklabels\":false},\"xaxis12\":{\"anchor\":\"y12\",\"domain\":[0.6666666666666666,0.98],\"matches\":\"x\",\"showticklabels\":false},\"yaxis12\":{\"anchor\":\"x12\",\"domain\":[0.30899999999999994,0.38199999999999995],\"matches\":\"y\",\"showticklabels\":false},\"xaxis13\":{\"anchor\":\"y13\",\"domain\":[0.0,0.3133333333333333],\"matches\":\"x\",\"showticklabels\":false},\"yaxis13\":{\"anchor\":\"x13\",\"domain\":[0.412,0.485],\"matches\":\"y\",\"title\":{\"text\":\"Maternal deaths/100K live births\"}},\"xaxis14\":{\"anchor\":\"y14\",\"domain\":[0.3333333333333333,0.6466666666666666],\"matches\":\"x\",\"showticklabels\":false},\"yaxis14\":{\"anchor\":\"x14\",\"domain\":[0.412,0.485],\"matches\":\"y\",\"showticklabels\":false},\"xaxis15\":{\"anchor\":\"y15\",\"domain\":[0.6666666666666666,0.98],\"matches\":\"x\",\"showticklabels\":false},\"yaxis15\":{\"anchor\":\"x15\",\"domain\":[0.412,0.485],\"matches\":\"y\",\"showticklabels\":false},\"xaxis16\":{\"anchor\":\"y16\",\"domain\":[0.0,0.3133333333333333],\"matches\":\"x\",\"showticklabels\":false},\"yaxis16\":{\"anchor\":\"x16\",\"domain\":[0.515,0.588],\"matches\":\"y\",\"title\":{\"text\":\"Maternal deaths/100K live births\"}},\"xaxis17\":{\"anchor\":\"y17\",\"domain\":[0.3333333333333333,0.6466666666666666],\"matches\":\"x\",\"showticklabels\":false},\"yaxis17\":{\"anchor\":\"x17\",\"domain\":[0.515,0.588],\"matches\":\"y\",\"showticklabels\":false},\"xaxis18\":{\"anchor\":\"y18\",\"domain\":[0.6666666666666666,0.98],\"matches\":\"x\",\"showticklabels\":false},\"yaxis18\":{\"anchor\":\"x18\",\"domain\":[0.515,0.588],\"matches\":\"y\",\"showticklabels\":false},\"xaxis19\":{\"anchor\":\"y19\",\"domain\":[0.0,0.3133333333333333],\"matches\":\"x\",\"showticklabels\":false},\"yaxis19\":{\"anchor\":\"x19\",\"domain\":[0.618,0.691],\"matches\":\"y\",\"title\":{\"text\":\"Maternal deaths/100K live births\"}},\"xaxis20\":{\"anchor\":\"y20\",\"domain\":[0.3333333333333333,0.6466666666666666],\"matches\":\"x\",\"showticklabels\":false},\"yaxis20\":{\"anchor\":\"x20\",\"domain\":[0.618,0.691],\"matches\":\"y\",\"showticklabels\":false},\"xaxis21\":{\"anchor\":\"y21\",\"domain\":[0.6666666666666666,0.98],\"matches\":\"x\",\"showticklabels\":false},\"yaxis21\":{\"anchor\":\"x21\",\"domain\":[0.618,0.691],\"matches\":\"y\",\"showticklabels\":false},\"xaxis22\":{\"anchor\":\"y22\",\"domain\":[0.0,0.3133333333333333],\"matches\":\"x\",\"showticklabels\":false},\"yaxis22\":{\"anchor\":\"x22\",\"domain\":[0.721,0.7939999999999999],\"matches\":\"y\",\"title\":{\"text\":\"Maternal deaths/100K live births\"}},\"xaxis23\":{\"anchor\":\"y23\",\"domain\":[0.3333333333333333,0.6466666666666666],\"matches\":\"x\",\"showticklabels\":false},\"yaxis23\":{\"anchor\":\"x23\",\"domain\":[0.721,0.7939999999999999],\"matches\":\"y\",\"showticklabels\":false},\"xaxis24\":{\"anchor\":\"y24\",\"domain\":[0.6666666666666666,0.98],\"matches\":\"x\",\"showticklabels\":false},\"yaxis24\":{\"anchor\":\"x24\",\"domain\":[0.721,0.7939999999999999],\"matches\":\"y\",\"showticklabels\":false},\"xaxis25\":{\"anchor\":\"y25\",\"domain\":[0.0,0.3133333333333333],\"matches\":\"x\",\"showticklabels\":false},\"yaxis25\":{\"anchor\":\"x25\",\"domain\":[0.824,0.8969999999999999],\"matches\":\"y\",\"title\":{\"text\":\"Maternal deaths/100K live births\"}},\"xaxis26\":{\"anchor\":\"y26\",\"domain\":[0.3333333333333333,0.6466666666666666],\"matches\":\"x\",\"showticklabels\":false},\"yaxis26\":{\"anchor\":\"x26\",\"domain\":[0.824,0.8969999999999999],\"matches\":\"y\",\"showticklabels\":false},\"xaxis27\":{\"anchor\":\"y27\",\"domain\":[0.6666666666666666,0.98],\"matches\":\"x\",\"showticklabels\":false},\"yaxis27\":{\"anchor\":\"x27\",\"domain\":[0.824,0.8969999999999999],\"matches\":\"y\",\"showticklabels\":false},\"xaxis28\":{\"anchor\":\"y28\",\"domain\":[0.0,0.3133333333333333],\"matches\":\"x\",\"showticklabels\":false},\"yaxis28\":{\"anchor\":\"x28\",\"domain\":[0.9269999999999999,0.9999999999999999],\"matches\":\"y\",\"title\":{\"text\":\"Maternal deaths/100K live births\"}},\"xaxis29\":{\"anchor\":\"y29\",\"domain\":[0.3333333333333333,0.6466666666666666],\"matches\":\"x\",\"showticklabels\":false},\"yaxis29\":{\"anchor\":\"x29\",\"domain\":[0.9269999999999999,0.9999999999999999],\"matches\":\"y\",\"showticklabels\":false},\"xaxis30\":{\"anchor\":\"y30\",\"domain\":[0.6666666666666666,0.98],\"matches\":\"x\",\"showticklabels\":false},\"yaxis30\":{\"anchor\":\"x30\",\"domain\":[0.9269999999999999,0.9999999999999999],\"matches\":\"y\",\"showticklabels\":false},\"annotations\":[{\"font\":{},\"showarrow\":false,\"text\":\"Sex=F\",\"x\":0.15666666666666665,\"xanchor\":\"center\",\"xref\":\"paper\",\"y\":0.9999999999999999,\"yanchor\":\"bottom\",\"yref\":\"paper\"},{\"font\":{},\"showarrow\":false,\"text\":\"Sex=M\",\"x\":0.49,\"xanchor\":\"center\",\"xref\":\"paper\",\"y\":0.9999999999999999,\"yanchor\":\"bottom\",\"yref\":\"paper\"},{\"font\":{},\"showarrow\":false,\"text\":\"Sex=_T\",\"x\":0.8233333333333333,\"xanchor\":\"center\",\"xref\":\"paper\",\"y\":0.9999999999999999,\"yanchor\":\"bottom\",\"yref\":\"paper\"},{\"font\":{},\"showarrow\":false,\"text\":\"Year=2014\",\"textangle\":90,\"x\":0.98,\"xanchor\":\"left\",\"xref\":\"paper\",\"y\":0.0365,\"yanchor\":\"middle\",\"yref\":\"paper\"},{\"font\":{},\"showarrow\":false,\"text\":\"Year=2013\",\"textangle\":90,\"x\":0.98,\"xanchor\":\"left\",\"xref\":\"paper\",\"y\":0.13949999999999999,\"yanchor\":\"middle\",\"yref\":\"paper\"},{\"font\":{},\"showarrow\":false,\"text\":\"Year=2012\",\"textangle\":90,\"x\":0.98,\"xanchor\":\"left\",\"xref\":\"paper\",\"y\":0.2425,\"yanchor\":\"middle\",\"yref\":\"paper\"},{\"font\":{},\"showarrow\":false,\"text\":\"Year=2011\",\"textangle\":90,\"x\":0.98,\"xanchor\":\"left\",\"xref\":\"paper\",\"y\":0.3454999999999999,\"yanchor\":\"middle\",\"yref\":\"paper\"},{\"font\":{},\"showarrow\":false,\"text\":\"Year=2010\",\"textangle\":90,\"x\":0.98,\"xanchor\":\"left\",\"xref\":\"paper\",\"y\":0.4485,\"yanchor\":\"middle\",\"yref\":\"paper\"},{\"font\":{},\"showarrow\":false,\"text\":\"Year=2009\",\"textangle\":90,\"x\":0.98,\"xanchor\":\"left\",\"xref\":\"paper\",\"y\":0.5515,\"yanchor\":\"middle\",\"yref\":\"paper\"},{\"font\":{},\"showarrow\":false,\"text\":\"Year=2008\",\"textangle\":90,\"x\":0.98,\"xanchor\":\"left\",\"xref\":\"paper\",\"y\":0.6545,\"yanchor\":\"middle\",\"yref\":\"paper\"},{\"font\":{},\"showarrow\":false,\"text\":\"Year=2007\",\"textangle\":90,\"x\":0.98,\"xanchor\":\"left\",\"xref\":\"paper\",\"y\":0.7575,\"yanchor\":\"middle\",\"yref\":\"paper\"},{\"font\":{},\"showarrow\":false,\"text\":\"Year=2006\",\"textangle\":90,\"x\":0.98,\"xanchor\":\"left\",\"xref\":\"paper\",\"y\":0.8604999999999999,\"yanchor\":\"middle\",\"yref\":\"paper\"},{\"font\":{},\"showarrow\":false,\"text\":\"Year=2005\",\"textangle\":90,\"x\":0.98,\"xanchor\":\"left\",\"xref\":\"paper\",\"y\":0.9634999999999999,\"yanchor\":\"middle\",\"yref\":\"paper\"}],\"coloraxis\":{\"colorbar\":{\"title\":{\"text\":\"Life Expectancy (years)\"}},\"colorscale\":[[0.0,\"#0d0887\"],[0.1111111111111111,\"#46039f\"],[0.2222222222222222,\"#7201a8\"],[0.3333333333333333,\"#9c179e\"],[0.4444444444444444,\"#bd3786\"],[0.5555555555555556,\"#d8576b\"],[0.6666666666666666,\"#ed7953\"],[0.7777777777777778,\"#fb9f3a\"],[0.8888888888888888,\"#fdca26\"],[1.0,\"#f0f921\"]]},\"legend\":{\"tracegroupgap\":0,\"itemsizing\":\"constant\"},\"margin\":{\"t\":60},\"height\":2500,\"width\":900},                        {\"responsive\": true}                    ).then(function(){\n",
       "                            \n",
       "var gd = document.getElementById('2855e2e6-fe0a-42a8-9341-dc8a422d1df7');\n",
       "var x = new MutationObserver(function (mutations, observer) {{\n",
       "        var display = window.getComputedStyle(gd).display;\n",
       "        if (!display || display === 'none') {{\n",
       "            console.log([gd, 'removed!']);\n",
       "            Plotly.purge(gd);\n",
       "            observer.disconnect();\n",
       "        }}\n",
       "}});\n",
       "\n",
       "// Listen for the removal of the full notebook cells\n",
       "var notebookContainer = gd.closest('#notebook-container');\n",
       "if (notebookContainer) {{\n",
       "    x.observe(notebookContainer, {childList: true});\n",
       "}}\n",
       "\n",
       "// Listen for the clearing of the current output cell\n",
       "var outputEl = gd.closest('.output');\n",
       "if (outputEl) {{\n",
       "    x.observe(outputEl, {childList: true});\n",
       "}}\n",
       "\n",
       "                        })                };                });            </script>        </div>"
      ]
     },
     "metadata": {},
     "output_type": "display_data"
    }
   ],
   "source": [
    "df = ten_years.dropna(how='any', \n",
    "                      subset=['Maternal_Death_Rate',\n",
    "                              'Primary_ed_completion_percent',\n",
    "                              'Life_Expectancy',\n",
    "                              'GDP_Per_Capita', \n",
    "                              'Sex'])\n",
    "fig =  px.scatter(df, \n",
    "                  x=\"Primary_ed_completion_percent\", \n",
    "                  y=\"Maternal_Death_Rate\", \n",
    "                  color=\"Life_Expectancy\",\n",
    "                  size=\"GDP_Per_Capita\",\n",
    "                  facet_col=\"Sex\",\n",
    "                  facet_row=\"Year\",\n",
    "                  height=2500,\n",
    "                  width=900,\n",
    "                  labels={\n",
    "                      \"Primary_ed_completion_percent\" : \"% Completing Primary Ed\",\n",
    "                      \"Maternal_Death_Rate\" : \"Maternal deaths/100K live births\",\n",
    "                      \"Life_Expectancy\" : \"Life Expectancy (years)\",\n",
    "                      \"GDP_Per_Capita\" : \"GDP per capita\"\n",
    "                  },\n",
    "                  category_orders={\n",
    "                      \"Year\" : [2005, 2006, 2007, 2008, 2009, 2010, 2011, 2012, 2013, 2014]\n",
    "                  },\n",
    "                  hover_data=[\"Continent\", \"Country\"])\n",
    "\n",
    "fig.update_traces(colorbar_orientation=\"h\", selector=dict(type='heatmap'))\n",
    "    \n",
    "fig.show()"
   ]
  },
  {
   "cell_type": "code",
   "execution_count": null,
   "id": "02d2f46d",
   "metadata": {},
   "outputs": [],
   "source": []
  }
 ],
 "metadata": {
  "kernelspec": {
   "display_name": "Python 3 (ipykernel)",
   "language": "python",
   "name": "python3"
  },
  "language_info": {
   "codemirror_mode": {
    "name": "ipython",
    "version": 3
   },
   "file_extension": ".py",
   "mimetype": "text/x-python",
   "name": "python",
   "nbconvert_exporter": "python",
   "pygments_lexer": "ipython3",
   "version": "3.9.12"
  }
 },
 "nbformat": 4,
 "nbformat_minor": 5
}
