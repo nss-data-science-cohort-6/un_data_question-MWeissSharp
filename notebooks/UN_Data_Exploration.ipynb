{
 "cells": [
  {
   "cell_type": "code",
   "execution_count": 1,
   "id": "1fd905f8",
   "metadata": {},
   "outputs": [],
   "source": [
    "import pandas as pd\n",
    "import numpy as np\n",
    "import matplotlib.pyplot as plt\n",
    "import seaborn as sns\n",
    "from functools import reduce\n",
    "\n",
    "%matplotlib inline"
   ]
  },
  {
   "cell_type": "markdown",
   "id": "ba6052ab",
   "metadata": {},
   "source": [
    "#### 4.\tUsing the pandas `read_csv()` function, read the GDP dataset into your notebook as a DataFrame called `gdp_df`. \n",
    "    * Take a look at the first 10 rows. \n",
    "    * Look at the last 5 rows. Do you see a problem?\n",
    "    * Redo the read_csv() call to correct this issue - **do not** modify the original csv file.\n",
    "\n",
    "#### 5. Drop the 'Value Footnotes' column, and rename the remaining columns to 'Country', 'Year', and 'GDP_Per_Capita'."
   ]
  },
  {
   "cell_type": "code",
   "execution_count": 2,
   "id": "22b2062e",
   "metadata": {
    "scrolled": true
   },
   "outputs": [
    {
     "data": {
      "text/html": [
       "<div>\n",
       "<style scoped>\n",
       "    .dataframe tbody tr th:only-of-type {\n",
       "        vertical-align: middle;\n",
       "    }\n",
       "\n",
       "    .dataframe tbody tr th {\n",
       "        vertical-align: top;\n",
       "    }\n",
       "\n",
       "    .dataframe thead th {\n",
       "        text-align: right;\n",
       "    }\n",
       "</style>\n",
       "<table border=\"1\" class=\"dataframe\">\n",
       "  <thead>\n",
       "    <tr style=\"text-align: right;\">\n",
       "      <th></th>\n",
       "      <th>Country or Area</th>\n",
       "      <th>Year</th>\n",
       "      <th>Value</th>\n",
       "      <th>Value Footnotes</th>\n",
       "    </tr>\n",
       "  </thead>\n",
       "  <tbody>\n",
       "    <tr>\n",
       "      <th>0</th>\n",
       "      <td>Afghanistan</td>\n",
       "      <td>2019</td>\n",
       "      <td>2065.036398</td>\n",
       "      <td>NaN</td>\n",
       "    </tr>\n",
       "    <tr>\n",
       "      <th>1</th>\n",
       "      <td>Afghanistan</td>\n",
       "      <td>2018</td>\n",
       "      <td>2033.779002</td>\n",
       "      <td>NaN</td>\n",
       "    </tr>\n",
       "    <tr>\n",
       "      <th>2</th>\n",
       "      <td>Afghanistan</td>\n",
       "      <td>2017</td>\n",
       "      <td>2058.383832</td>\n",
       "      <td>NaN</td>\n",
       "    </tr>\n",
       "    <tr>\n",
       "      <th>3</th>\n",
       "      <td>Afghanistan</td>\n",
       "      <td>2016</td>\n",
       "      <td>2057.062164</td>\n",
       "      <td>NaN</td>\n",
       "    </tr>\n",
       "    <tr>\n",
       "      <th>4</th>\n",
       "      <td>Afghanistan</td>\n",
       "      <td>2015</td>\n",
       "      <td>2068.265904</td>\n",
       "      <td>NaN</td>\n",
       "    </tr>\n",
       "    <tr>\n",
       "      <th>5</th>\n",
       "      <td>Afghanistan</td>\n",
       "      <td>2014</td>\n",
       "      <td>2102.385234</td>\n",
       "      <td>NaN</td>\n",
       "    </tr>\n",
       "    <tr>\n",
       "      <th>6</th>\n",
       "      <td>Afghanistan</td>\n",
       "      <td>2013</td>\n",
       "      <td>2116.465454</td>\n",
       "      <td>NaN</td>\n",
       "    </tr>\n",
       "    <tr>\n",
       "      <th>7</th>\n",
       "      <td>Afghanistan</td>\n",
       "      <td>2012</td>\n",
       "      <td>2075.491747</td>\n",
       "      <td>NaN</td>\n",
       "    </tr>\n",
       "    <tr>\n",
       "      <th>8</th>\n",
       "      <td>Afghanistan</td>\n",
       "      <td>2011</td>\n",
       "      <td>1904.559799</td>\n",
       "      <td>NaN</td>\n",
       "    </tr>\n",
       "    <tr>\n",
       "      <th>9</th>\n",
       "      <td>Afghanistan</td>\n",
       "      <td>2010</td>\n",
       "      <td>1957.029338</td>\n",
       "      <td>NaN</td>\n",
       "    </tr>\n",
       "  </tbody>\n",
       "</table>\n",
       "</div>"
      ],
      "text/plain": [
       "  Country or Area  Year        Value  Value Footnotes\n",
       "0     Afghanistan  2019  2065.036398              NaN\n",
       "1     Afghanistan  2018  2033.779002              NaN\n",
       "2     Afghanistan  2017  2058.383832              NaN\n",
       "3     Afghanistan  2016  2057.062164              NaN\n",
       "4     Afghanistan  2015  2068.265904              NaN\n",
       "5     Afghanistan  2014  2102.385234              NaN\n",
       "6     Afghanistan  2013  2116.465454              NaN\n",
       "7     Afghanistan  2012  2075.491747              NaN\n",
       "8     Afghanistan  2011  1904.559799              NaN\n",
       "9     Afghanistan  2010  1957.029338              NaN"
      ]
     },
     "execution_count": 2,
     "metadata": {},
     "output_type": "execute_result"
    }
   ],
   "source": [
    "gdp_df = pd.read_csv('../data/gdp_per_capita.csv', nrows=6868)\n",
    "#This prevents bringing in the rows containing footnotes at the bottom of the file\n",
    "#another way is pd.read_csv('../data/gdp_per_capita.csv', skipfooter=2, engine='python')\n",
    "#another way is to do nrows = gdp_df.loc[~gdp_df['Value'].isna()].shape[0] if you didn't want to hard code a value\n",
    "gdp_df.head(10)"
   ]
  },
  {
   "cell_type": "markdown",
   "id": "36291136",
   "metadata": {},
   "source": [
    "#### 6. How many rows and columns does gdp_df have? What are the data types of its columns? \n",
    "If any of the columns are not the expected types, figure out why and fix it."
   ]
  },
  {
   "cell_type": "code",
   "execution_count": 3,
   "id": "d5ef86a1",
   "metadata": {
    "scrolled": false
   },
   "outputs": [
    {
     "name": "stdout",
     "output_type": "stream",
     "text": [
      "<class 'pandas.core.frame.DataFrame'>\n",
      "RangeIndex: 6868 entries, 0 to 6867\n",
      "Data columns (total 3 columns):\n",
      " #   Column          Non-Null Count  Dtype  \n",
      "---  ------          --------------  -----  \n",
      " 0   Country         6868 non-null   object \n",
      " 1   Year            6868 non-null   int64  \n",
      " 2   GDP_Per_Capita  6868 non-null   float64\n",
      "dtypes: float64(1), int64(1), object(1)\n",
      "memory usage: 161.1+ KB\n"
     ]
    }
   ],
   "source": [
    "gdp_df = gdp_df.drop(columns = 'Value Footnotes')\n",
    "gdp_df.columns = ['Country', 'Year', 'GDP_Per_Capita']\n",
    "gdp_df.info()"
   ]
  },
  {
   "cell_type": "markdown",
   "id": "b20bd72b",
   "metadata": {},
   "source": [
    "#### Answer\n",
    "6868 rows, 4 columns  \n",
    "Country column contains objects (string)   \n",
    "Year column contains integers   \n",
    "GDP_Per_Capita contains decimal numbers   "
   ]
  },
  {
   "cell_type": "markdown",
   "id": "f2f72e1b",
   "metadata": {},
   "source": [
    "#### 7. Which years are represented in this dataset? \n",
    "Take a look at the number of observations per year. What do you notice?"
   ]
  },
  {
   "cell_type": "code",
   "execution_count": 4,
   "id": "d28f8628",
   "metadata": {
    "scrolled": true
   },
   "outputs": [
    {
     "data": {
      "text/plain": [
       "1990    207\n",
       "1991    208\n",
       "1992    209\n",
       "1993    212\n",
       "1994    214\n",
       "1995    221\n",
       "1996    221\n",
       "1997    223\n",
       "1998    223\n",
       "1999    224\n",
       "2000    231\n",
       "2001    232\n",
       "2002    233\n",
       "2003    233\n",
       "2004    234\n",
       "2005    234\n",
       "2006    235\n",
       "2007    235\n",
       "2008    235\n",
       "2009    236\n",
       "2010    236\n",
       "2011    237\n",
       "2012    237\n",
       "2013    238\n",
       "2014    238\n",
       "2015    238\n",
       "2016    238\n",
       "2017    238\n",
       "2018    237\n",
       "2019    231\n",
       "Name: Year, dtype: int64"
      ]
     },
     "execution_count": 4,
     "metadata": {},
     "output_type": "execute_result"
    }
   ],
   "source": [
    "(\n",
    "    gdp_df['Year']\n",
    "    .value_counts()\n",
    "    .sort_index()\n",
    ")"
   ]
  },
  {
   "cell_type": "code",
   "execution_count": 5,
   "id": "b4da17e3",
   "metadata": {},
   "outputs": [
    {
     "data": {
      "text/plain": [
       "Year\n",
       "1990    207\n",
       "1991    208\n",
       "1992    209\n",
       "1993    212\n",
       "1994    214\n",
       "1995    221\n",
       "1996    221\n",
       "1997    223\n",
       "1998    223\n",
       "1999    224\n",
       "2000    231\n",
       "2001    232\n",
       "2002    233\n",
       "2003    233\n",
       "2004    234\n",
       "2005    234\n",
       "2006    235\n",
       "2007    235\n",
       "2008    235\n",
       "2009    236\n",
       "2010    236\n",
       "2011    237\n",
       "2012    237\n",
       "2013    238\n",
       "2014    238\n",
       "2015    238\n",
       "2016    238\n",
       "2017    238\n",
       "2018    237\n",
       "2019    231\n",
       "Name: Year, dtype: int64"
      ]
     },
     "execution_count": 5,
     "metadata": {},
     "output_type": "execute_result"
    }
   ],
   "source": [
    "gdp_df.groupby('Year')['Year'].count()"
   ]
  },
  {
   "cell_type": "markdown",
   "id": "e8c884c8",
   "metadata": {},
   "source": [
    "#### Answer \n",
    "Overall, there is data from 1990-2019, but not all countries have data for every year, and in general the further back in time we go, the there is a slight decrease in total observations for each year"
   ]
  },
  {
   "cell_type": "markdown",
   "id": "e11eba79",
   "metadata": {},
   "source": [
    "#### 8. How many countries are represented in this dataset? \n",
    "Which countries are least represented in the dataset? Why do you think these countries have so few observations?"
   ]
  },
  {
   "cell_type": "code",
   "execution_count": 6,
   "id": "df377345",
   "metadata": {
    "scrolled": true
   },
   "outputs": [
    {
     "data": {
      "text/plain": [
       "238"
      ]
     },
     "execution_count": 6,
     "metadata": {},
     "output_type": "execute_result"
    }
   ],
   "source": [
    "len(\n",
    "    gdp_df['Country']\n",
    "    .value_counts()\n",
    ")"
   ]
  },
  {
   "cell_type": "code",
   "execution_count": 7,
   "id": "7ac354de",
   "metadata": {
    "scrolled": true
   },
   "outputs": [
    {
     "data": {
      "text/plain": [
       "SÃ£o TomÃ© and Principe      19\n",
       "Afghanistan                  18\n",
       "Nauru                        16\n",
       "Cayman Islands               13\n",
       "Sint Maarten (Dutch part)    10\n",
       "Turks and Caicos Islands      9\n",
       "Djibouti                      7\n",
       "Name: Country, dtype: int64"
      ]
     },
     "execution_count": 7,
     "metadata": {},
     "output_type": "execute_result"
    }
   ],
   "source": [
    "(\n",
    "    gdp_df['Country']\n",
    "    .value_counts()\n",
    "    .loc[lambda x : x < 20]\n",
    ")"
   ]
  },
  {
   "cell_type": "markdown",
   "id": "67de57ea",
   "metadata": {},
   "source": [
    "#### Answer\n",
    "There are 238 countries in the dataset   \n",
    "Least represented countries:   \n",
    "SÃ£o TomÃ© and Principe      19   \n",
    "Afghanistan                  18   \n",
    "Nauru                        16   \n",
    "Cayman Islands               13   \n",
    "Sint Maarten (Dutch part)    10   \n",
    "Turks and Caicos Islands      9   \n",
    "Djibouti                      7   \n",
    "https://datahelpdesk.worldbank.org/knowledgebase/articles/191133-why-are-some-data-not-available   \n",
    "Some countries do not regularly report data due to conflict, lack of statistical capacity, or other reasons (e.g. Somalia, North Korea, and some Caribbean and Pacific island economies). And some countries do not have data for earlier years simply because they did not exist (e.g. countries of the former Soviet Union, South Sudan, Eritrea, Timor-Leste)."
   ]
  },
  {
   "cell_type": "markdown",
   "id": "6833f880",
   "metadata": {},
   "source": [
    "#### 9. Create a new dataframe by subsetting `gdp_df` to just the year 2014. Call this new dataframe `gdp_2014`."
   ]
  },
  {
   "cell_type": "code",
   "execution_count": 8,
   "id": "4b4b2c41",
   "metadata": {
    "scrolled": true
   },
   "outputs": [
    {
     "name": "stdout",
     "output_type": "stream",
     "text": [
      "<class 'pandas.core.frame.DataFrame'>\n",
      "Int64Index: 238 entries, 5 to 6843\n",
      "Data columns (total 3 columns):\n",
      " #   Column          Non-Null Count  Dtype  \n",
      "---  ------          --------------  -----  \n",
      " 0   Country         238 non-null    object \n",
      " 1   Year            238 non-null    int64  \n",
      " 2   GDP_Per_Capita  238 non-null    float64\n",
      "dtypes: float64(1), int64(1), object(1)\n",
      "memory usage: 7.4+ KB\n"
     ]
    }
   ],
   "source": [
    "gdp_2014 = gdp_df.loc[gdp_df['Year'] == 2014]\n",
    "gdp_2014.info()"
   ]
  },
  {
   "cell_type": "markdown",
   "id": "41be701e",
   "metadata": {},
   "source": [
    "#### 10. Use `.describe()` to find the summary statistics for GDP per capita in 2014."
   ]
  },
  {
   "cell_type": "code",
   "execution_count": 9,
   "id": "a46508eb",
   "metadata": {
    "scrolled": true
   },
   "outputs": [
    {
     "data": {
      "text/html": [
       "<div>\n",
       "<style scoped>\n",
       "    .dataframe tbody tr th:only-of-type {\n",
       "        vertical-align: middle;\n",
       "    }\n",
       "\n",
       "    .dataframe tbody tr th {\n",
       "        vertical-align: top;\n",
       "    }\n",
       "\n",
       "    .dataframe thead th {\n",
       "        text-align: right;\n",
       "    }\n",
       "</style>\n",
       "<table border=\"1\" class=\"dataframe\">\n",
       "  <thead>\n",
       "    <tr style=\"text-align: right;\">\n",
       "      <th></th>\n",
       "      <th>Year</th>\n",
       "      <th>GDP_Per_Capita</th>\n",
       "    </tr>\n",
       "  </thead>\n",
       "  <tbody>\n",
       "    <tr>\n",
       "      <th>count</th>\n",
       "      <td>238.0</td>\n",
       "      <td>238.000000</td>\n",
       "    </tr>\n",
       "    <tr>\n",
       "      <th>mean</th>\n",
       "      <td>2014.0</td>\n",
       "      <td>19766.710348</td>\n",
       "    </tr>\n",
       "    <tr>\n",
       "      <th>std</th>\n",
       "      <td>0.0</td>\n",
       "      <td>20983.869623</td>\n",
       "    </tr>\n",
       "    <tr>\n",
       "      <th>min</th>\n",
       "      <td>2014.0</td>\n",
       "      <td>822.610458</td>\n",
       "    </tr>\n",
       "    <tr>\n",
       "      <th>25%</th>\n",
       "      <td>2014.0</td>\n",
       "      <td>4753.110934</td>\n",
       "    </tr>\n",
       "    <tr>\n",
       "      <th>50%</th>\n",
       "      <td>2014.0</td>\n",
       "      <td>12209.385755</td>\n",
       "    </tr>\n",
       "    <tr>\n",
       "      <th>75%</th>\n",
       "      <td>2014.0</td>\n",
       "      <td>26803.610474</td>\n",
       "    </tr>\n",
       "    <tr>\n",
       "      <th>max</th>\n",
       "      <td>2014.0</td>\n",
       "      <td>156514.133850</td>\n",
       "    </tr>\n",
       "  </tbody>\n",
       "</table>\n",
       "</div>"
      ],
      "text/plain": [
       "         Year  GDP_Per_Capita\n",
       "count   238.0      238.000000\n",
       "mean   2014.0    19766.710348\n",
       "std       0.0    20983.869623\n",
       "min    2014.0      822.610458\n",
       "25%    2014.0     4753.110934\n",
       "50%    2014.0    12209.385755\n",
       "75%    2014.0    26803.610474\n",
       "max    2014.0   156514.133850"
      ]
     },
     "execution_count": 9,
     "metadata": {},
     "output_type": "execute_result"
    }
   ],
   "source": [
    "gdp_2014.describe()"
   ]
  },
  {
   "cell_type": "markdown",
   "id": "47fabde4",
   "metadata": {},
   "source": [
    "##### Observations\n",
    "- Mean is higher than the median by a good bit   \n",
    "- Standard deviation is larger than the mean   \n",
    "- Max value is 6.5 standard deviations above the mean"
   ]
  },
  {
   "cell_type": "markdown",
   "id": "1dea7467",
   "metadata": {},
   "source": [
    "#### 11. Create a histogram of GDP Per Capita numbers for 2014 \n",
    "(You may wish to adjust the number of bins for your histogram). How would you describe the shape of the distribution?"
   ]
  },
  {
   "cell_type": "code",
   "execution_count": 10,
   "id": "f6963f16",
   "metadata": {
    "scrolled": true
   },
   "outputs": [
    {
     "data": {
      "image/png": "[encoded data removed]",
      "text/plain": [
       "<Figure size 432x288 with 1 Axes>"
      ]
     },
     "metadata": {
      "needs_background": "light"
     },
     "output_type": "display_data"
    }
   ],
   "source": [
    "sns.histplot(\n",
    "    data = gdp_2014, \n",
    "    x = \"GDP_Per_Capita\", \n",
    "    bins=12\n",
    ");"
   ]
  },
  {
   "cell_type": "markdown",
   "id": "b70db98f",
   "metadata": {},
   "source": [
    "#### Answer\n",
    "The distribution of the histogram is unimodal and highly skewed to the right"
   ]
  },
  {
   "cell_type": "markdown",
   "id": "18f7fe7e",
   "metadata": {},
   "source": [
    "#### 12. Find the top 5 counties and bottom 5 countries by GDP per capita in 2014."
   ]
  },
  {
   "cell_type": "code",
   "execution_count": 11,
   "id": "2649f0f4",
   "metadata": {
    "scrolled": false
   },
   "outputs": [
    {
     "data": {
      "text/html": [
       "<div>\n",
       "<style scoped>\n",
       "    .dataframe tbody tr th:only-of-type {\n",
       "        vertical-align: middle;\n",
       "    }\n",
       "\n",
       "    .dataframe tbody tr th {\n",
       "        vertical-align: top;\n",
       "    }\n",
       "\n",
       "    .dataframe thead th {\n",
       "        text-align: right;\n",
       "    }\n",
       "</style>\n",
       "<table border=\"1\" class=\"dataframe\">\n",
       "  <thead>\n",
       "    <tr style=\"text-align: right;\">\n",
       "      <th></th>\n",
       "      <th>Country</th>\n",
       "      <th>Year</th>\n",
       "      <th>GDP_Per_Capita</th>\n",
       "    </tr>\n",
       "  </thead>\n",
       "  <tbody>\n",
       "    <tr>\n",
       "      <th>1047</th>\n",
       "      <td>Central African Republic</td>\n",
       "      <td>2014</td>\n",
       "      <td>822.610458</td>\n",
       "    </tr>\n",
       "    <tr>\n",
       "      <th>827</th>\n",
       "      <td>Burundi</td>\n",
       "      <td>2014</td>\n",
       "      <td>886.235777</td>\n",
       "    </tr>\n",
       "    <tr>\n",
       "      <th>3781</th>\n",
       "      <td>Malawi</td>\n",
       "      <td>2014</td>\n",
       "      <td>1027.208496</td>\n",
       "    </tr>\n",
       "    <tr>\n",
       "      <th>1422</th>\n",
       "      <td>Dem. Rep. Congo</td>\n",
       "      <td>2014</td>\n",
       "      <td>1029.790785</td>\n",
       "    </tr>\n",
       "    <tr>\n",
       "      <th>4528</th>\n",
       "      <td>Niger</td>\n",
       "      <td>2014</td>\n",
       "      <td>1127.615541</td>\n",
       "    </tr>\n",
       "    <tr>\n",
       "      <th>...</th>\n",
       "      <td>...</td>\n",
       "      <td>...</td>\n",
       "      <td>...</td>\n",
       "    </tr>\n",
       "    <tr>\n",
       "      <th>561</th>\n",
       "      <td>Bermuda</td>\n",
       "      <td>2014</td>\n",
       "      <td>77361.104881</td>\n",
       "    </tr>\n",
       "    <tr>\n",
       "      <th>5464</th>\n",
       "      <td>Singapore</td>\n",
       "      <td>2014</td>\n",
       "      <td>87808.663157</td>\n",
       "    </tr>\n",
       "    <tr>\n",
       "      <th>5138</th>\n",
       "      <td>Qatar</td>\n",
       "      <td>2014</td>\n",
       "      <td>95578.416973</td>\n",
       "    </tr>\n",
       "    <tr>\n",
       "      <th>3691</th>\n",
       "      <td>Luxembourg</td>\n",
       "      <td>2014</td>\n",
       "      <td>108760.916030</td>\n",
       "    </tr>\n",
       "    <tr>\n",
       "      <th>3721</th>\n",
       "      <td>Macao SAR, China</td>\n",
       "      <td>2014</td>\n",
       "      <td>156514.133850</td>\n",
       "    </tr>\n",
       "  </tbody>\n",
       "</table>\n",
       "<p>238 rows × 3 columns</p>\n",
       "</div>"
      ],
      "text/plain": [
       "                       Country  Year  GDP_Per_Capita\n",
       "1047  Central African Republic  2014      822.610458\n",
       "827                    Burundi  2014      886.235777\n",
       "3781                    Malawi  2014     1027.208496\n",
       "1422           Dem. Rep. Congo  2014     1029.790785\n",
       "4528                     Niger  2014     1127.615541\n",
       "...                        ...   ...             ...\n",
       "561                    Bermuda  2014    77361.104881\n",
       "5464                 Singapore  2014    87808.663157\n",
       "5138                     Qatar  2014    95578.416973\n",
       "3691                Luxembourg  2014   108760.916030\n",
       "3721          Macao SAR, China  2014   156514.133850\n",
       "\n",
       "[238 rows x 3 columns]"
      ]
     },
     "execution_count": 11,
     "metadata": {},
     "output_type": "execute_result"
    }
   ],
   "source": [
    "gdp_2014.sort_values('GDP_Per_Capita')\n",
    "#could also use .nlargest and .nsmallest here if you needed to extract the values for anything"
   ]
  },
  {
   "cell_type": "markdown",
   "id": "e21e62c4",
   "metadata": {},
   "source": [
    "#### Answer:\n",
    "5 Highest GDP: Macao SAR (China), Luxembourg, Qatar, Singapore, Bermuda   \n",
    "5 Lowest GDP: Central African Republic, Burundi, Malawi, Democratic Republic of Congo, Niger"
   ]
  },
  {
   "cell_type": "markdown",
   "id": "f3600c8a",
   "metadata": {},
   "source": [
    "#### 13. Now, return to the full dataset, `gdp_df`. \n",
    "Pivot the data for 1990 and 2017 (using the pandas `.pivot_table()` method or another method) so that each row corresponds to a country, each column corresponds to a year, and the values in the table give the GDP_Per_Capita amount. Drop any rows that are missing values for either 1990 or 2017. Save the result to a dataframe named `gdp_pivoted`."
   ]
  },
  {
   "cell_type": "code",
   "execution_count": 12,
   "id": "325a2405",
   "metadata": {
    "scrolled": true
   },
   "outputs": [
    {
     "data": {
      "text/html": [
       "<div>\n",
       "<style scoped>\n",
       "    .dataframe tbody tr th:only-of-type {\n",
       "        vertical-align: middle;\n",
       "    }\n",
       "\n",
       "    .dataframe tbody tr th {\n",
       "        vertical-align: top;\n",
       "    }\n",
       "\n",
       "    .dataframe thead tr th {\n",
       "        text-align: left;\n",
       "    }\n",
       "\n",
       "    .dataframe thead tr:last-of-type th {\n",
       "        text-align: right;\n",
       "    }\n",
       "</style>\n",
       "<table border=\"1\" class=\"dataframe\">\n",
       "  <thead>\n",
       "    <tr>\n",
       "      <th></th>\n",
       "      <th colspan=\"2\" halign=\"left\">GDP_Per_Capita</th>\n",
       "    </tr>\n",
       "    <tr>\n",
       "      <th>Year</th>\n",
       "      <th>1990</th>\n",
       "      <th>2017</th>\n",
       "    </tr>\n",
       "    <tr>\n",
       "      <th>Country</th>\n",
       "      <th></th>\n",
       "      <th></th>\n",
       "    </tr>\n",
       "  </thead>\n",
       "  <tbody>\n",
       "    <tr>\n",
       "      <th>Albania</th>\n",
       "      <td>4842.734635</td>\n",
       "      <td>12811.759436</td>\n",
       "    </tr>\n",
       "    <tr>\n",
       "      <th>Algeria</th>\n",
       "      <td>8746.352901</td>\n",
       "      <td>11737.409353</td>\n",
       "    </tr>\n",
       "    <tr>\n",
       "      <th>Angola</th>\n",
       "      <td>5783.429064</td>\n",
       "      <td>7310.901738</td>\n",
       "    </tr>\n",
       "    <tr>\n",
       "      <th>Antigua and Barbuda</th>\n",
       "      <td>15459.551675</td>\n",
       "      <td>19840.076123</td>\n",
       "    </tr>\n",
       "    <tr>\n",
       "      <th>Arab World</th>\n",
       "      <td>9694.667544</td>\n",
       "      <td>14555.474921</td>\n",
       "    </tr>\n",
       "    <tr>\n",
       "      <th>...</th>\n",
       "      <td>...</td>\n",
       "      <td>...</td>\n",
       "    </tr>\n",
       "    <tr>\n",
       "      <th>Vanuatu</th>\n",
       "      <td>2888.309393</td>\n",
       "      <td>3116.645194</td>\n",
       "    </tr>\n",
       "    <tr>\n",
       "      <th>Vietnam</th>\n",
       "      <td>1673.249634</td>\n",
       "      <td>7155.745829</td>\n",
       "    </tr>\n",
       "    <tr>\n",
       "      <th>World</th>\n",
       "      <td>9680.269697</td>\n",
       "      <td>16253.385518</td>\n",
       "    </tr>\n",
       "    <tr>\n",
       "      <th>Zambia</th>\n",
       "      <td>2190.182814</td>\n",
       "      <td>3485.005238</td>\n",
       "    </tr>\n",
       "    <tr>\n",
       "      <th>Zimbabwe</th>\n",
       "      <td>3324.348171</td>\n",
       "      <td>3028.245976</td>\n",
       "    </tr>\n",
       "  </tbody>\n",
       "</table>\n",
       "<p>207 rows × 2 columns</p>\n",
       "</div>"
      ],
      "text/plain": [
       "                    GDP_Per_Capita              \n",
       "Year                          1990          2017\n",
       "Country                                         \n",
       "Albania                4842.734635  12811.759436\n",
       "Algeria                8746.352901  11737.409353\n",
       "Angola                 5783.429064   7310.901738\n",
       "Antigua and Barbuda   15459.551675  19840.076123\n",
       "Arab World             9694.667544  14555.474921\n",
       "...                            ...           ...\n",
       "Vanuatu                2888.309393   3116.645194\n",
       "Vietnam                1673.249634   7155.745829\n",
       "World                  9680.269697  16253.385518\n",
       "Zambia                 2190.182814   3485.005238\n",
       "Zimbabwe               3324.348171   3028.245976\n",
       "\n",
       "[207 rows x 2 columns]"
      ]
     },
     "execution_count": 12,
     "metadata": {},
     "output_type": "execute_result"
    }
   ],
   "source": [
    "gdp_pivoted = (\n",
    "    pd.pivot_table(gdp_df\n",
    "                   .loc[gdp_df['Year']\n",
    "                        .isin([1990, 2017])],\n",
    "                   index='Country', \n",
    "                   columns='Year')\n",
    "    .dropna()\n",
    ")\n",
    "gdp_pivoted\n",
    "\n",
    "#adding in values='GDP_Per_Capita' eliminates the multi-index column issue, this goes before the index argument"
   ]
  },
  {
   "cell_type": "code",
   "execution_count": 13,
   "id": "5344cb98",
   "metadata": {
    "scrolled": true
   },
   "outputs": [
    {
     "name": "stdout",
     "output_type": "stream",
     "text": [
      "<class 'pandas.core.frame.DataFrame'>\n",
      "Index: 207 entries, Albania to Zimbabwe\n",
      "Data columns (total 2 columns):\n",
      " #   Column                  Non-Null Count  Dtype  \n",
      "---  ------                  --------------  -----  \n",
      " 0   (GDP_Per_Capita, 1990)  207 non-null    float64\n",
      " 1   (GDP_Per_Capita, 2017)  207 non-null    float64\n",
      "dtypes: float64(2)\n",
      "memory usage: 4.9+ KB\n"
     ]
    }
   ],
   "source": [
    "gdp_pivoted.info()"
   ]
  },
  {
   "cell_type": "markdown",
   "id": "96726046",
   "metadata": {},
   "source": [
    "#### 14. Create a new column in `gdp_pivoted` named `Percent_Change`. \n",
    "This column should contain the percent change in GDP_Per_Capita from 1990 to 2017. Hint: Percent change is calculated as 100*(New Value - Old Value) / Old Value."
   ]
  },
  {
   "cell_type": "code",
   "execution_count": 14,
   "id": "683d4d66",
   "metadata": {
    "scrolled": true
   },
   "outputs": [
    {
     "data": {
      "text/html": [
       "<div>\n",
       "<style scoped>\n",
       "    .dataframe tbody tr th:only-of-type {\n",
       "        vertical-align: middle;\n",
       "    }\n",
       "\n",
       "    .dataframe tbody tr th {\n",
       "        vertical-align: top;\n",
       "    }\n",
       "\n",
       "    .dataframe thead tr th {\n",
       "        text-align: left;\n",
       "    }\n",
       "\n",
       "    .dataframe thead tr:last-of-type th {\n",
       "        text-align: right;\n",
       "    }\n",
       "</style>\n",
       "<table border=\"1\" class=\"dataframe\">\n",
       "  <thead>\n",
       "    <tr>\n",
       "      <th></th>\n",
       "      <th colspan=\"2\" halign=\"left\">GDP_Per_Capita</th>\n",
       "      <th>Percent_Change</th>\n",
       "    </tr>\n",
       "    <tr>\n",
       "      <th>Year</th>\n",
       "      <th>1990</th>\n",
       "      <th>2017</th>\n",
       "      <th></th>\n",
       "    </tr>\n",
       "    <tr>\n",
       "      <th>Country</th>\n",
       "      <th></th>\n",
       "      <th></th>\n",
       "      <th></th>\n",
       "    </tr>\n",
       "  </thead>\n",
       "  <tbody>\n",
       "    <tr>\n",
       "      <th>Albania</th>\n",
       "      <td>4842.734635</td>\n",
       "      <td>12811.759436</td>\n",
       "      <td>164.556297</td>\n",
       "    </tr>\n",
       "    <tr>\n",
       "      <th>Algeria</th>\n",
       "      <td>8746.352901</td>\n",
       "      <td>11737.409353</td>\n",
       "      <td>34.197756</td>\n",
       "    </tr>\n",
       "    <tr>\n",
       "      <th>Angola</th>\n",
       "      <td>5783.429064</td>\n",
       "      <td>7310.901738</td>\n",
       "      <td>26.411194</td>\n",
       "    </tr>\n",
       "    <tr>\n",
       "      <th>Antigua and Barbuda</th>\n",
       "      <td>15459.551675</td>\n",
       "      <td>19840.076123</td>\n",
       "      <td>28.335391</td>\n",
       "    </tr>\n",
       "    <tr>\n",
       "      <th>Arab World</th>\n",
       "      <td>9694.667544</td>\n",
       "      <td>14555.474921</td>\n",
       "      <td>50.138980</td>\n",
       "    </tr>\n",
       "    <tr>\n",
       "      <th>...</th>\n",
       "      <td>...</td>\n",
       "      <td>...</td>\n",
       "      <td>...</td>\n",
       "    </tr>\n",
       "    <tr>\n",
       "      <th>Vanuatu</th>\n",
       "      <td>2888.309393</td>\n",
       "      <td>3116.645194</td>\n",
       "      <td>7.905517</td>\n",
       "    </tr>\n",
       "    <tr>\n",
       "      <th>Vietnam</th>\n",
       "      <td>1673.249634</td>\n",
       "      <td>7155.745829</td>\n",
       "      <td>327.655604</td>\n",
       "    </tr>\n",
       "    <tr>\n",
       "      <th>World</th>\n",
       "      <td>9680.269697</td>\n",
       "      <td>16253.385518</td>\n",
       "      <td>67.902197</td>\n",
       "    </tr>\n",
       "    <tr>\n",
       "      <th>Zambia</th>\n",
       "      <td>2190.182814</td>\n",
       "      <td>3485.005238</td>\n",
       "      <td>59.119377</td>\n",
       "    </tr>\n",
       "    <tr>\n",
       "      <th>Zimbabwe</th>\n",
       "      <td>3324.348171</td>\n",
       "      <td>3028.245976</td>\n",
       "      <td>-8.907075</td>\n",
       "    </tr>\n",
       "  </tbody>\n",
       "</table>\n",
       "<p>207 rows × 3 columns</p>\n",
       "</div>"
      ],
      "text/plain": [
       "                    GDP_Per_Capita               Percent_Change\n",
       "Year                          1990          2017               \n",
       "Country                                                        \n",
       "Albania                4842.734635  12811.759436     164.556297\n",
       "Algeria                8746.352901  11737.409353      34.197756\n",
       "Angola                 5783.429064   7310.901738      26.411194\n",
       "Antigua and Barbuda   15459.551675  19840.076123      28.335391\n",
       "Arab World             9694.667544  14555.474921      50.138980\n",
       "...                            ...           ...            ...\n",
       "Vanuatu                2888.309393   3116.645194       7.905517\n",
       "Vietnam                1673.249634   7155.745829     327.655604\n",
       "World                  9680.269697  16253.385518      67.902197\n",
       "Zambia                 2190.182814   3485.005238      59.119377\n",
       "Zimbabwe               3324.348171   3028.245976      -8.907075\n",
       "\n",
       "[207 rows x 3 columns]"
      ]
     },
     "execution_count": 14,
     "metadata": {},
     "output_type": "execute_result"
    }
   ],
   "source": [
    "gdp_pivoted['Percent_Change'] = (\n",
    "    100 * (gdp_pivoted[('GDP_Per_Capita', 2017)]\n",
    "           - gdp_pivoted[('GDP_Per_Capita', 1990)])\n",
    "    / gdp_pivoted[('GDP_Per_Capita', 1990)]\n",
    ")\n",
    "gdp_pivoted"
   ]
  },
  {
   "cell_type": "markdown",
   "id": "7a78c62c",
   "metadata": {},
   "source": [
    "#### 15. How many countries experienced a negative percent change in GDP per capita from 1990 to 2017?"
   ]
  },
  {
   "cell_type": "code",
   "execution_count": 15,
   "id": "8b430439",
   "metadata": {
    "scrolled": true
   },
   "outputs": [
    {
     "data": {
      "text/plain": [
       "17"
      ]
     },
     "execution_count": 15,
     "metadata": {},
     "output_type": "execute_result"
    }
   ],
   "source": [
    "len(gdp_pivoted.loc[gdp_pivoted['Percent_Change'] < 0])"
   ]
  },
  {
   "cell_type": "code",
   "execution_count": 16,
   "id": "36b05adb",
   "metadata": {},
   "outputs": [
    {
     "data": {
      "text/plain": [
       "17"
      ]
     },
     "execution_count": 16,
     "metadata": {},
     "output_type": "execute_result"
    }
   ],
   "source": [
    "#You can sum True/False statements, it gives you back the sum of True values\n",
    "(gdp_pivoted['Percent_Change'] < 0).sum()"
   ]
  },
  {
   "cell_type": "code",
   "execution_count": 17,
   "id": "ca86ac8b",
   "metadata": {},
   "outputs": [
    {
     "data": {
      "text/plain": [
       "0.0821256038647343"
      ]
     },
     "execution_count": 17,
     "metadata": {},
     "output_type": "execute_result"
    }
   ],
   "source": [
    "#You can also apply mean() to get the proportion of Trues\n",
    "(gdp_pivoted['Percent_Change'] < 0).mean()"
   ]
  },
  {
   "cell_type": "markdown",
   "id": "ef48f12e",
   "metadata": {},
   "source": [
    "#### Answer\n",
    "17 countries experienced a negative percent change in GDP from 1990 to 2017"
   ]
  },
  {
   "cell_type": "markdown",
   "id": "71567252",
   "metadata": {},
   "source": [
    "#### 16. Which country had the highest % change in GDP per capita? \n",
    "Create a line plot showing this country's GDP per capita for all years from 1990 to 2017. Create another showing the country with the second highest % change in GDP. How do the trends in these countries compare?  \n",
    "**Bonus:** Put both line charts on the same plot."
   ]
  },
  {
   "cell_type": "code",
   "execution_count": 18,
   "id": "4ce148d7",
   "metadata": {
    "scrolled": true
   },
   "outputs": [
    {
     "data": {
      "text/html": [
       "<div>\n",
       "<style scoped>\n",
       "    .dataframe tbody tr th:only-of-type {\n",
       "        vertical-align: middle;\n",
       "    }\n",
       "\n",
       "    .dataframe tbody tr th {\n",
       "        vertical-align: top;\n",
       "    }\n",
       "\n",
       "    .dataframe thead tr th {\n",
       "        text-align: left;\n",
       "    }\n",
       "\n",
       "    .dataframe thead tr:last-of-type th {\n",
       "        text-align: right;\n",
       "    }\n",
       "</style>\n",
       "<table border=\"1\" class=\"dataframe\">\n",
       "  <thead>\n",
       "    <tr>\n",
       "      <th></th>\n",
       "      <th colspan=\"2\" halign=\"left\">GDP_Per_Capita</th>\n",
       "      <th>Percent_Change</th>\n",
       "    </tr>\n",
       "    <tr>\n",
       "      <th>Year</th>\n",
       "      <th>1990</th>\n",
       "      <th>2017</th>\n",
       "      <th></th>\n",
       "    </tr>\n",
       "    <tr>\n",
       "      <th>Country</th>\n",
       "      <th></th>\n",
       "      <th></th>\n",
       "      <th></th>\n",
       "    </tr>\n",
       "  </thead>\n",
       "  <tbody>\n",
       "    <tr>\n",
       "      <th>Equatorial Guinea</th>\n",
       "      <td>1039.985049</td>\n",
       "      <td>22551.083246</td>\n",
       "      <td>2068.404561</td>\n",
       "    </tr>\n",
       "    <tr>\n",
       "      <th>China</th>\n",
       "      <td>1423.896348</td>\n",
       "      <td>14344.421239</td>\n",
       "      <td>907.406281</td>\n",
       "    </tr>\n",
       "  </tbody>\n",
       "</table>\n",
       "</div>"
      ],
      "text/plain": [
       "                  GDP_Per_Capita               Percent_Change\n",
       "Year                        1990          2017               \n",
       "Country                                                      \n",
       "Equatorial Guinea    1039.985049  22551.083246    2068.404561\n",
       "China                1423.896348  14344.421239     907.406281"
      ]
     },
     "execution_count": 18,
     "metadata": {},
     "output_type": "execute_result"
    }
   ],
   "source": [
    "(\n",
    "    gdp_pivoted\n",
    "    .sort_values('Percent_Change', ascending=False)\n",
    "    .head(2)\n",
    ")"
   ]
  },
  {
   "cell_type": "code",
   "execution_count": 19,
   "id": "67572358",
   "metadata": {},
   "outputs": [
    {
     "data": {
      "text/plain": [
       "Index(['Equatorial Guinea', 'China'], dtype='object', name='Country')"
      ]
     },
     "execution_count": 19,
     "metadata": {},
     "output_type": "execute_result"
    }
   ],
   "source": [
    "top_gdp_countries = gdp_pivoted.nlargest(2, 'Percent_Change').index\n",
    "top_gdp_countries"
   ]
  },
  {
   "cell_type": "code",
   "execution_count": 20,
   "id": "b6e8f5f7",
   "metadata": {
    "scrolled": true
   },
   "outputs": [
    {
     "data": {
      "text/html": [
       "<div>\n",
       "<style scoped>\n",
       "    .dataframe tbody tr th:only-of-type {\n",
       "        vertical-align: middle;\n",
       "    }\n",
       "\n",
       "    .dataframe tbody tr th {\n",
       "        vertical-align: top;\n",
       "    }\n",
       "\n",
       "    .dataframe thead th {\n",
       "        text-align: right;\n",
       "    }\n",
       "</style>\n",
       "<table border=\"1\" class=\"dataframe\">\n",
       "  <thead>\n",
       "    <tr style=\"text-align: right;\">\n",
       "      <th></th>\n",
       "      <th>Country</th>\n",
       "      <th>Year</th>\n",
       "      <th>GDP_Per_Capita</th>\n",
       "    </tr>\n",
       "  </thead>\n",
       "  <tbody>\n",
       "    <tr>\n",
       "      <th>1162</th>\n",
       "      <td>China</td>\n",
       "      <td>2019</td>\n",
       "      <td>16092.300767</td>\n",
       "    </tr>\n",
       "    <tr>\n",
       "      <th>1163</th>\n",
       "      <td>China</td>\n",
       "      <td>2018</td>\n",
       "      <td>15242.985858</td>\n",
       "    </tr>\n",
       "    <tr>\n",
       "      <th>1164</th>\n",
       "      <td>China</td>\n",
       "      <td>2017</td>\n",
       "      <td>14344.421239</td>\n",
       "    </tr>\n",
       "    <tr>\n",
       "      <th>1165</th>\n",
       "      <td>China</td>\n",
       "      <td>2016</td>\n",
       "      <td>13487.822482</td>\n",
       "    </tr>\n",
       "    <tr>\n",
       "      <th>1166</th>\n",
       "      <td>China</td>\n",
       "      <td>2015</td>\n",
       "      <td>12691.821553</td>\n",
       "    </tr>\n",
       "    <tr>\n",
       "      <th>1167</th>\n",
       "      <td>China</td>\n",
       "      <td>2014</td>\n",
       "      <td>11917.338496</td>\n",
       "    </tr>\n",
       "    <tr>\n",
       "      <th>1168</th>\n",
       "      <td>China</td>\n",
       "      <td>2013</td>\n",
       "      <td>11149.867559</td>\n",
       "    </tr>\n",
       "    <tr>\n",
       "      <th>1169</th>\n",
       "      <td>China</td>\n",
       "      <td>2012</td>\n",
       "      <td>10397.561415</td>\n",
       "    </tr>\n",
       "    <tr>\n",
       "      <th>1170</th>\n",
       "      <td>China</td>\n",
       "      <td>2011</td>\n",
       "      <td>9686.615290</td>\n",
       "    </tr>\n",
       "    <tr>\n",
       "      <th>1171</th>\n",
       "      <td>China</td>\n",
       "      <td>2010</td>\n",
       "      <td>8884.588031</td>\n",
       "    </tr>\n",
       "    <tr>\n",
       "      <th>1172</th>\n",
       "      <td>China</td>\n",
       "      <td>2009</td>\n",
       "      <td>8069.354638</td>\n",
       "    </tr>\n",
       "    <tr>\n",
       "      <th>1173</th>\n",
       "      <td>China</td>\n",
       "      <td>2008</td>\n",
       "      <td>7412.874363</td>\n",
       "    </tr>\n",
       "    <tr>\n",
       "      <th>1174</th>\n",
       "      <td>China</td>\n",
       "      <td>2007</td>\n",
       "      <td>6795.174012</td>\n",
       "    </tr>\n",
       "    <tr>\n",
       "      <th>1175</th>\n",
       "      <td>China</td>\n",
       "      <td>2006</td>\n",
       "      <td>5979.781712</td>\n",
       "    </tr>\n",
       "    <tr>\n",
       "      <th>1176</th>\n",
       "      <td>China</td>\n",
       "      <td>2005</td>\n",
       "      <td>5334.646639</td>\n",
       "    </tr>\n",
       "    <tr>\n",
       "      <th>1177</th>\n",
       "      <td>China</td>\n",
       "      <td>2004</td>\n",
       "      <td>4817.211845</td>\n",
       "    </tr>\n",
       "    <tr>\n",
       "      <th>1178</th>\n",
       "      <td>China</td>\n",
       "      <td>2003</td>\n",
       "      <td>4400.825183</td>\n",
       "    </tr>\n",
       "    <tr>\n",
       "      <th>1179</th>\n",
       "      <td>China</td>\n",
       "      <td>2002</td>\n",
       "      <td>4024.355697</td>\n",
       "    </tr>\n",
       "    <tr>\n",
       "      <th>1180</th>\n",
       "      <td>China</td>\n",
       "      <td>2001</td>\n",
       "      <td>3712.338132</td>\n",
       "    </tr>\n",
       "    <tr>\n",
       "      <th>1181</th>\n",
       "      <td>China</td>\n",
       "      <td>2000</td>\n",
       "      <td>3451.679231</td>\n",
       "    </tr>\n",
       "    <tr>\n",
       "      <th>1182</th>\n",
       "      <td>China</td>\n",
       "      <td>1999</td>\n",
       "      <td>3206.730026</td>\n",
       "    </tr>\n",
       "    <tr>\n",
       "      <th>1183</th>\n",
       "      <td>China</td>\n",
       "      <td>1998</td>\n",
       "      <td>3004.427342</td>\n",
       "    </tr>\n",
       "    <tr>\n",
       "      <th>1184</th>\n",
       "      <td>China</td>\n",
       "      <td>1997</td>\n",
       "      <td>2812.711135</td>\n",
       "    </tr>\n",
       "    <tr>\n",
       "      <th>1185</th>\n",
       "      <td>China</td>\n",
       "      <td>1996</td>\n",
       "      <td>2601.363426</td>\n",
       "    </tr>\n",
       "    <tr>\n",
       "      <th>1186</th>\n",
       "      <td>China</td>\n",
       "      <td>1995</td>\n",
       "      <td>2391.477116</td>\n",
       "    </tr>\n",
       "    <tr>\n",
       "      <th>1187</th>\n",
       "      <td>China</td>\n",
       "      <td>1994</td>\n",
       "      <td>2178.924057</td>\n",
       "    </tr>\n",
       "    <tr>\n",
       "      <th>1188</th>\n",
       "      <td>China</td>\n",
       "      <td>1993</td>\n",
       "      <td>1949.534268</td>\n",
       "    </tr>\n",
       "    <tr>\n",
       "      <th>1189</th>\n",
       "      <td>China</td>\n",
       "      <td>1992</td>\n",
       "      <td>1731.657215</td>\n",
       "    </tr>\n",
       "    <tr>\n",
       "      <th>1190</th>\n",
       "      <td>China</td>\n",
       "      <td>1991</td>\n",
       "      <td>1534.705272</td>\n",
       "    </tr>\n",
       "    <tr>\n",
       "      <th>1191</th>\n",
       "      <td>China</td>\n",
       "      <td>1990</td>\n",
       "      <td>1423.896348</td>\n",
       "    </tr>\n",
       "    <tr>\n",
       "      <th>1754</th>\n",
       "      <td>Equatorial Guinea</td>\n",
       "      <td>2019</td>\n",
       "      <td>18558.003852</td>\n",
       "    </tr>\n",
       "    <tr>\n",
       "      <th>1755</th>\n",
       "      <td>Equatorial Guinea</td>\n",
       "      <td>2018</td>\n",
       "      <td>20359.845144</td>\n",
       "    </tr>\n",
       "    <tr>\n",
       "      <th>1756</th>\n",
       "      <td>Equatorial Guinea</td>\n",
       "      <td>2017</td>\n",
       "      <td>22551.083246</td>\n",
       "    </tr>\n",
       "    <tr>\n",
       "      <th>1757</th>\n",
       "      <td>Equatorial Guinea</td>\n",
       "      <td>2016</td>\n",
       "      <td>24827.072978</td>\n",
       "    </tr>\n",
       "    <tr>\n",
       "      <th>1758</th>\n",
       "      <td>Equatorial Guinea</td>\n",
       "      <td>2015</td>\n",
       "      <td>28313.602763</td>\n",
       "    </tr>\n",
       "    <tr>\n",
       "      <th>1759</th>\n",
       "      <td>Equatorial Guinea</td>\n",
       "      <td>2014</td>\n",
       "      <td>32436.466793</td>\n",
       "    </tr>\n",
       "    <tr>\n",
       "      <th>1760</th>\n",
       "      <td>Equatorial Guinea</td>\n",
       "      <td>2013</td>\n",
       "      <td>33678.706547</td>\n",
       "    </tr>\n",
       "    <tr>\n",
       "      <th>1761</th>\n",
       "      <td>Equatorial Guinea</td>\n",
       "      <td>2012</td>\n",
       "      <td>36671.357436</td>\n",
       "    </tr>\n",
       "    <tr>\n",
       "      <th>1762</th>\n",
       "      <td>Equatorial Guinea</td>\n",
       "      <td>2011</td>\n",
       "      <td>35378.023284</td>\n",
       "    </tr>\n",
       "    <tr>\n",
       "      <th>1763</th>\n",
       "      <td>Equatorial Guinea</td>\n",
       "      <td>2010</td>\n",
       "      <td>34732.255956</td>\n",
       "    </tr>\n",
       "    <tr>\n",
       "      <th>1764</th>\n",
       "      <td>Equatorial Guinea</td>\n",
       "      <td>2009</td>\n",
       "      <td>39913.732604</td>\n",
       "    </tr>\n",
       "    <tr>\n",
       "      <th>1765</th>\n",
       "      <td>Equatorial Guinea</td>\n",
       "      <td>2008</td>\n",
       "      <td>41249.438662</td>\n",
       "    </tr>\n",
       "    <tr>\n",
       "      <th>1766</th>\n",
       "      <td>Equatorial Guinea</td>\n",
       "      <td>2007</td>\n",
       "      <td>36685.298706</td>\n",
       "    </tr>\n",
       "    <tr>\n",
       "      <th>1767</th>\n",
       "      <td>Equatorial Guinea</td>\n",
       "      <td>2006</td>\n",
       "      <td>33330.805598</td>\n",
       "    </tr>\n",
       "    <tr>\n",
       "      <th>1768</th>\n",
       "      <td>Equatorial Guinea</td>\n",
       "      <td>2005</td>\n",
       "      <td>32389.861726</td>\n",
       "    </tr>\n",
       "    <tr>\n",
       "      <th>1769</th>\n",
       "      <td>Equatorial Guinea</td>\n",
       "      <td>2004</td>\n",
       "      <td>29004.186721</td>\n",
       "    </tr>\n",
       "    <tr>\n",
       "      <th>1770</th>\n",
       "      <td>Equatorial Guinea</td>\n",
       "      <td>2003</td>\n",
       "      <td>21944.697412</td>\n",
       "    </tr>\n",
       "    <tr>\n",
       "      <th>1771</th>\n",
       "      <td>Equatorial Guinea</td>\n",
       "      <td>2002</td>\n",
       "      <td>20084.465030</td>\n",
       "    </tr>\n",
       "    <tr>\n",
       "      <th>1772</th>\n",
       "      <td>Equatorial Guinea</td>\n",
       "      <td>2001</td>\n",
       "      <td>17523.434190</td>\n",
       "    </tr>\n",
       "    <tr>\n",
       "      <th>1773</th>\n",
       "      <td>Equatorial Guinea</td>\n",
       "      <td>2000</td>\n",
       "      <td>11176.500522</td>\n",
       "    </tr>\n",
       "    <tr>\n",
       "      <th>1774</th>\n",
       "      <td>Equatorial Guinea</td>\n",
       "      <td>1999</td>\n",
       "      <td>9851.190917</td>\n",
       "    </tr>\n",
       "    <tr>\n",
       "      <th>1775</th>\n",
       "      <td>Equatorial Guinea</td>\n",
       "      <td>1998</td>\n",
       "      <td>8166.052518</td>\n",
       "    </tr>\n",
       "    <tr>\n",
       "      <th>1776</th>\n",
       "      <td>Equatorial Guinea</td>\n",
       "      <td>1997</td>\n",
       "      <td>6868.480369</td>\n",
       "    </tr>\n",
       "    <tr>\n",
       "      <th>1777</th>\n",
       "      <td>Equatorial Guinea</td>\n",
       "      <td>1996</td>\n",
       "      <td>2857.452417</td>\n",
       "    </tr>\n",
       "    <tr>\n",
       "      <th>1778</th>\n",
       "      <td>Equatorial Guinea</td>\n",
       "      <td>1995</td>\n",
       "      <td>1781.264878</td>\n",
       "    </tr>\n",
       "    <tr>\n",
       "      <th>1779</th>\n",
       "      <td>Equatorial Guinea</td>\n",
       "      <td>1994</td>\n",
       "      <td>1572.065607</td>\n",
       "    </tr>\n",
       "    <tr>\n",
       "      <th>1780</th>\n",
       "      <td>Equatorial Guinea</td>\n",
       "      <td>1993</td>\n",
       "      <td>1395.403468</td>\n",
       "    </tr>\n",
       "    <tr>\n",
       "      <th>1781</th>\n",
       "      <td>Equatorial Guinea</td>\n",
       "      <td>1992</td>\n",
       "      <td>1299.934196</td>\n",
       "    </tr>\n",
       "    <tr>\n",
       "      <th>1782</th>\n",
       "      <td>Equatorial Guinea</td>\n",
       "      <td>1991</td>\n",
       "      <td>996.857617</td>\n",
       "    </tr>\n",
       "    <tr>\n",
       "      <th>1783</th>\n",
       "      <td>Equatorial Guinea</td>\n",
       "      <td>1990</td>\n",
       "      <td>1039.985049</td>\n",
       "    </tr>\n",
       "  </tbody>\n",
       "</table>\n",
       "</div>"
      ],
      "text/plain": [
       "                Country  Year  GDP_Per_Capita\n",
       "1162              China  2019    16092.300767\n",
       "1163              China  2018    15242.985858\n",
       "1164              China  2017    14344.421239\n",
       "1165              China  2016    13487.822482\n",
       "1166              China  2015    12691.821553\n",
       "1167              China  2014    11917.338496\n",
       "1168              China  2013    11149.867559\n",
       "1169              China  2012    10397.561415\n",
       "1170              China  2011     9686.615290\n",
       "1171              China  2010     8884.588031\n",
       "1172              China  2009     8069.354638\n",
       "1173              China  2008     7412.874363\n",
       "1174              China  2007     6795.174012\n",
       "1175              China  2006     5979.781712\n",
       "1176              China  2005     5334.646639\n",
       "1177              China  2004     4817.211845\n",
       "1178              China  2003     4400.825183\n",
       "1179              China  2002     4024.355697\n",
       "1180              China  2001     3712.338132\n",
       "1181              China  2000     3451.679231\n",
       "1182              China  1999     3206.730026\n",
       "1183              China  1998     3004.427342\n",
       "1184              China  1997     2812.711135\n",
       "1185              China  1996     2601.363426\n",
       "1186              China  1995     2391.477116\n",
       "1187              China  1994     2178.924057\n",
       "1188              China  1993     1949.534268\n",
       "1189              China  1992     1731.657215\n",
       "1190              China  1991     1534.705272\n",
       "1191              China  1990     1423.896348\n",
       "1754  Equatorial Guinea  2019    18558.003852\n",
       "1755  Equatorial Guinea  2018    20359.845144\n",
       "1756  Equatorial Guinea  2017    22551.083246\n",
       "1757  Equatorial Guinea  2016    24827.072978\n",
       "1758  Equatorial Guinea  2015    28313.602763\n",
       "1759  Equatorial Guinea  2014    32436.466793\n",
       "1760  Equatorial Guinea  2013    33678.706547\n",
       "1761  Equatorial Guinea  2012    36671.357436\n",
       "1762  Equatorial Guinea  2011    35378.023284\n",
       "1763  Equatorial Guinea  2010    34732.255956\n",
       "1764  Equatorial Guinea  2009    39913.732604\n",
       "1765  Equatorial Guinea  2008    41249.438662\n",
       "1766  Equatorial Guinea  2007    36685.298706\n",
       "1767  Equatorial Guinea  2006    33330.805598\n",
       "1768  Equatorial Guinea  2005    32389.861726\n",
       "1769  Equatorial Guinea  2004    29004.186721\n",
       "1770  Equatorial Guinea  2003    21944.697412\n",
       "1771  Equatorial Guinea  2002    20084.465030\n",
       "1772  Equatorial Guinea  2001    17523.434190\n",
       "1773  Equatorial Guinea  2000    11176.500522\n",
       "1774  Equatorial Guinea  1999     9851.190917\n",
       "1775  Equatorial Guinea  1998     8166.052518\n",
       "1776  Equatorial Guinea  1997     6868.480369\n",
       "1777  Equatorial Guinea  1996     2857.452417\n",
       "1778  Equatorial Guinea  1995     1781.264878\n",
       "1779  Equatorial Guinea  1994     1572.065607\n",
       "1780  Equatorial Guinea  1993     1395.403468\n",
       "1781  Equatorial Guinea  1992     1299.934196\n",
       "1782  Equatorial Guinea  1991      996.857617\n",
       "1783  Equatorial Guinea  1990     1039.985049"
      ]
     },
     "execution_count": 20,
     "metadata": {},
     "output_type": "execute_result"
    }
   ],
   "source": [
    "egc_gdp = gdp_df.loc[gdp_df['Country']\n",
    "                     .isin(top_gdp_countries)]\n",
    "egc_gdp"
   ]
  },
  {
   "cell_type": "code",
   "execution_count": 21,
   "id": "49476e2f",
   "metadata": {},
   "outputs": [
    {
     "data": {
      "text/plain": [
       "'Equatorial Guinea'"
      ]
     },
     "execution_count": 21,
     "metadata": {},
     "output_type": "execute_result"
    }
   ],
   "source": [
    "top_gdp_countries[0]"
   ]
  },
  {
   "cell_type": "code",
   "execution_count": 22,
   "id": "efd5116a",
   "metadata": {},
   "outputs": [
    {
     "data": {
      "image/png": "[encoded data removed]",
      "text/plain": [
       "<Figure size 432x288 with 1 Axes>"
      ]
     },
     "metadata": {
      "needs_background": "light"
     },
     "output_type": "display_data"
    }
   ],
   "source": [
    "(\n",
    "    sns.lineplot(data=egc_gdp.loc[egc_gdp['Country'] == top_gdp_countries[0]], \n",
    "             x='Year', \n",
    "             y='GDP_Per_Capita')\n",
    "    .set(title=top_gdp_countries[0])\n",
    ");"
   ]
  },
  {
   "cell_type": "code",
   "execution_count": 23,
   "id": "02b43de5",
   "metadata": {},
   "outputs": [
    {
     "data": {
      "image/png": "[encoded data removed]",
      "text/plain": [
       "<Figure size 432x288 with 1 Axes>"
      ]
     },
     "metadata": {
      "needs_background": "light"
     },
     "output_type": "display_data"
    }
   ],
   "source": [
    "(\n",
    "    sns.lineplot(data = egc_gdp.loc[egc_gdp['Country'] == top_gdp_countries[1]],\n",
    "                 x = 'Year',\n",
    "                 y='GDP_Per_Capita')\n",
    "    .set(title=top_gdp_countries[1])\n",
    ");"
   ]
  },
  {
   "cell_type": "code",
   "execution_count": 24,
   "id": "28f8305f",
   "metadata": {},
   "outputs": [
    {
     "data": {
      "image/png": "[encoded data removed]",
      "text/plain": [
       "<Figure size 432x288 with 1 Axes>"
      ]
     },
     "metadata": {
      "needs_background": "light"
     },
     "output_type": "display_data"
    }
   ],
   "source": [
    "(\n",
    "    sns.lineplot(data = egc_gdp,\n",
    "                 x = 'Year', \n",
    "                 y='GDP_Per_Capita', \n",
    "                 hue='Country')\n",
    "    .set(title='Change in Per Capita GDP 1990-2017')\n",
    ");"
   ]
  },
  {
   "cell_type": "markdown",
   "id": "138f15d3",
   "metadata": {},
   "source": [
    "#### Answer\n",
    "While the GDP per capita values for each of these countries in 1990 and 2017 are very similar, their paths to arriving at the values are drastically different. China shows a steady, fairly linear increase until around 2004 when the slope of the line gets steeper then remains pretty steady again. Equatorial Guinea shows a linear increas until around 1996 at which point there is tremendous increase until around 2008 when things drop off and overall continue downward through 2019."
   ]
  },
  {
   "cell_type": "markdown",
   "id": "7d4b92e2",
   "metadata": {},
   "source": [
    "#### 17. Read in continents.csv contained in the `data` folder into a new dataframe called `continents`. \n",
    "We will be using this dataframe to add a new column to our dataset."
   ]
  },
  {
   "cell_type": "code",
   "execution_count": 25,
   "id": "46b29022",
   "metadata": {
    "scrolled": true
   },
   "outputs": [
    {
     "name": "stdout",
     "output_type": "stream",
     "text": [
      "<class 'pandas.core.frame.DataFrame'>\n",
      "RangeIndex: 216 entries, 0 to 215\n",
      "Data columns (total 2 columns):\n",
      " #   Column     Non-Null Count  Dtype \n",
      "---  ------     --------------  ----- \n",
      " 0   Continent  216 non-null    object\n",
      " 1   Country    216 non-null    object\n",
      "dtypes: object(2)\n",
      "memory usage: 3.5+ KB\n"
     ]
    }
   ],
   "source": [
    "continents = pd.read_csv('../data/continents.csv')\n",
    "continents.info()"
   ]
  },
  {
   "cell_type": "code",
   "execution_count": 26,
   "id": "41623d1b",
   "metadata": {},
   "outputs": [
    {
     "name": "stdout",
     "output_type": "stream",
     "text": [
      "<class 'pandas.core.frame.DataFrame'>\n",
      "Int64Index: 5443 entries, 0 to 5442\n",
      "Data columns (total 4 columns):\n",
      " #   Column          Non-Null Count  Dtype  \n",
      "---  ------          --------------  -----  \n",
      " 0   Continent       5443 non-null   object \n",
      " 1   Country         5443 non-null   object \n",
      " 2   Year            5443 non-null   int64  \n",
      " 3   GDP_Per_Capita  5443 non-null   float64\n",
      "dtypes: float64(1), int64(1), object(2)\n",
      "memory usage: 212.6+ KB\n"
     ]
    }
   ],
   "source": [
    "gdp_df = pd.merge(continents, \n",
    "                  gdp_df, \n",
    "                  how='inner', \n",
    "                  on='Country')\n",
    "gdp_df.info()"
   ]
  },
  {
   "cell_type": "code",
   "execution_count": 27,
   "id": "e14f836f",
   "metadata": {},
   "outputs": [
    {
     "data": {
      "text/plain": [
       "Zimbabwe          30\n",
       "Malaysia          30\n",
       "Mali              30\n",
       "Malta             30\n",
       "Mauritania        30\n",
       "                  ..\n",
       "Qatar             20\n",
       "Afghanistan       18\n",
       "Nauru             16\n",
       "Cayman Islands    13\n",
       "Djibouti           7\n",
       "Name: Country, Length: 188, dtype: int64"
      ]
     },
     "execution_count": 27,
     "metadata": {},
     "output_type": "execute_result"
    }
   ],
   "source": [
    "gdp_df['Country'].value_counts()"
   ]
  },
  {
   "cell_type": "markdown",
   "id": "72a1a0a5",
   "metadata": {},
   "source": [
    "#### 19. Determine the number of countries per continent. Create a bar chart showing this."
   ]
  },
  {
   "cell_type": "code",
   "execution_count": 28,
   "id": "cc105b17",
   "metadata": {},
   "outputs": [
    {
     "data": {
      "text/html": [
       "<div>\n",
       "<style scoped>\n",
       "    .dataframe tbody tr th:only-of-type {\n",
       "        vertical-align: middle;\n",
       "    }\n",
       "\n",
       "    .dataframe tbody tr th {\n",
       "        vertical-align: top;\n",
       "    }\n",
       "\n",
       "    .dataframe thead th {\n",
       "        text-align: right;\n",
       "    }\n",
       "</style>\n",
       "<table border=\"1\" class=\"dataframe\">\n",
       "  <thead>\n",
       "    <tr style=\"text-align: right;\">\n",
       "      <th></th>\n",
       "      <th>Continent</th>\n",
       "      <th>Total_Countries</th>\n",
       "    </tr>\n",
       "  </thead>\n",
       "  <tbody>\n",
       "    <tr>\n",
       "      <th>0</th>\n",
       "      <td>Africa</td>\n",
       "      <td>49</td>\n",
       "    </tr>\n",
       "    <tr>\n",
       "      <th>1</th>\n",
       "      <td>Asia</td>\n",
       "      <td>43</td>\n",
       "    </tr>\n",
       "    <tr>\n",
       "      <th>2</th>\n",
       "      <td>Europe</td>\n",
       "      <td>45</td>\n",
       "    </tr>\n",
       "    <tr>\n",
       "      <th>3</th>\n",
       "      <td>North America</td>\n",
       "      <td>26</td>\n",
       "    </tr>\n",
       "    <tr>\n",
       "      <th>4</th>\n",
       "      <td>Oceania</td>\n",
       "      <td>14</td>\n",
       "    </tr>\n",
       "    <tr>\n",
       "      <th>5</th>\n",
       "      <td>South America</td>\n",
       "      <td>11</td>\n",
       "    </tr>\n",
       "  </tbody>\n",
       "</table>\n",
       "</div>"
      ],
      "text/plain": [
       "       Continent  Total_Countries\n",
       "0         Africa               49\n",
       "1           Asia               43\n",
       "2         Europe               45\n",
       "3  North America               26\n",
       "4        Oceania               14\n",
       "5  South America               11"
      ]
     },
     "execution_count": 28,
     "metadata": {},
     "output_type": "execute_result"
    }
   ],
   "source": [
    "(\n",
    "    gdp_df.groupby(['Continent'])['Country']\n",
    "    .nunique()\n",
    "    .to_frame()\n",
    "    .reset_index()\n",
    "    .rename(columns = {'Country' : 'Total_Countries'})\n",
    ")"
   ]
  },
  {
   "cell_type": "code",
   "execution_count": 29,
   "id": "e86617c4",
   "metadata": {},
   "outputs": [
    {
     "data": {
      "image/png": "[encoded data removed]",
      "text/plain": [
       "<Figure size 720x576 with 1 Axes>"
      ]
     },
     "metadata": {
      "needs_background": "light"
     },
     "output_type": "display_data"
    }
   ],
   "source": [
    "fig, ax = plt.subplots(figsize = (10,8))\n",
    "\n",
    "sns.barplot(\n",
    "            data=gdp_df.groupby(['Continent'])['Country']\n",
    "            .nunique()\n",
    "            .to_frame()\n",
    "            .reset_index()\n",
    "            .rename(columns = {'Country' : 'Total_Countries'}), \n",
    "            y='Continent', \n",
    "            x='Total_Countries', \n",
    "            hue='Continent', \n",
    "            dodge=False,\n",
    "            ax=ax\n",
    ");"
   ]
  },
  {
   "cell_type": "markdown",
   "id": "90d1b730",
   "metadata": {},
   "source": [
    "#### 20. Create a seaborn boxplot showing GDP per capita in 2014 split out by continent. What do you notice?"
   ]
  },
  {
   "cell_type": "code",
   "execution_count": 30,
   "id": "d321c89f",
   "metadata": {},
   "outputs": [
    {
     "data": {
      "image/png": "[encoded data removed]",
      "text/plain": [
       "<Figure size 720x576 with 1 Axes>"
      ]
     },
     "metadata": {
      "needs_background": "light"
     },
     "output_type": "display_data"
    }
   ],
   "source": [
    "fig, ax = plt.subplots(figsize = (10,8))\n",
    "\n",
    "sns.boxplot(\n",
    "            data=gdp_df.loc[gdp_df['Year'] == 2014], \n",
    "            x='GDP_Per_Capita', \n",
    "            y='Continent', \n",
    "            ax=ax\n",
    ");"
   ]
  },
  {
   "cell_type": "markdown",
   "id": "9082f9b8",
   "metadata": {},
   "source": [
    "#### Answer\n",
    "All the boxplots are skewed to the right, some extremely so, with the exception of South America. Oceania, South America, and Africa all have much tighter boxplots compared to Asia, Europe, and North America. This isn't terribly surprising for Oceania and South America since they have fewer countries, but Africa has the largest number of countries of all the continents."
   ]
  },
  {
   "cell_type": "markdown",
   "id": "7a893b84",
   "metadata": {},
   "source": [
    "#### 21. Download the full csv containing Life expectancy at birth, total (years) from \n",
    "[https://data.worldbank.org/indicator/SP.DYN.LE00.IN?name_desc=false](https://data.worldbank.org/indicator/SP.DYN.LE00.IN?name_desc=false). Read this data into a DataFrame named `life_expectancy`."
   ]
  },
  {
   "cell_type": "code",
   "execution_count": 31,
   "id": "b7091b65",
   "metadata": {
    "scrolled": true
   },
   "outputs": [
    {
     "name": "stdout",
     "output_type": "stream",
     "text": [
      "<class 'pandas.core.frame.DataFrame'>\n",
      "RangeIndex: 266 entries, 0 to 265\n",
      "Data columns (total 67 columns):\n",
      " #   Column          Non-Null Count  Dtype  \n",
      "---  ------          --------------  -----  \n",
      " 0   Country Name    266 non-null    object \n",
      " 1   Country Code    266 non-null    object \n",
      " 2   Indicator Name  266 non-null    object \n",
      " 3   Indicator Code  266 non-null    object \n",
      " 4   1960            237 non-null    float64\n",
      " 5   1961            238 non-null    float64\n",
      " 6   1962            238 non-null    float64\n",
      " 7   1963            237 non-null    float64\n",
      " 8   1964            237 non-null    float64\n",
      " 9   1965            238 non-null    float64\n",
      " 10  1966            238 non-null    float64\n",
      " 11  1967            238 non-null    float64\n",
      " 12  1968            238 non-null    float64\n",
      " 13  1969            238 non-null    float64\n",
      " 14  1970            239 non-null    float64\n",
      " 15  1971            238 non-null    float64\n",
      " 16  1972            238 non-null    float64\n",
      " 17  1973            239 non-null    float64\n",
      " 18  1974            238 non-null    float64\n",
      " 19  1975            238 non-null    float64\n",
      " 20  1976            238 non-null    float64\n",
      " 21  1977            238 non-null    float64\n",
      " 22  1978            240 non-null    float64\n",
      " 23  1979            239 non-null    float64\n",
      " 24  1980            241 non-null    float64\n",
      " 25  1981            241 non-null    float64\n",
      " 26  1982            244 non-null    float64\n",
      " 27  1983            242 non-null    float64\n",
      " 28  1984            242 non-null    float64\n",
      " 29  1985            242 non-null    float64\n",
      " 30  1986            243 non-null    float64\n",
      " 31  1987            246 non-null    float64\n",
      " 32  1988            243 non-null    float64\n",
      " 33  1989            243 non-null    float64\n",
      " 34  1990            245 non-null    float64\n",
      " 35  1991            246 non-null    float64\n",
      " 36  1992            246 non-null    float64\n",
      " 37  1993            244 non-null    float64\n",
      " 38  1994            246 non-null    float64\n",
      " 39  1995            246 non-null    float64\n",
      " 40  1996            245 non-null    float64\n",
      " 41  1997            248 non-null    float64\n",
      " 42  1998            245 non-null    float64\n",
      " 43  1999            246 non-null    float64\n",
      " 44  2000            249 non-null    float64\n",
      " 45  2001            247 non-null    float64\n",
      " 46  2002            250 non-null    float64\n",
      " 47  2003            247 non-null    float64\n",
      " 48  2004            247 non-null    float64\n",
      " 49  2005            248 non-null    float64\n",
      " 50  2006            248 non-null    float64\n",
      " 51  2007            249 non-null    float64\n",
      " 52  2008            249 non-null    float64\n",
      " 53  2009            249 non-null    float64\n",
      " 54  2010            248 non-null    float64\n",
      " 55  2011            248 non-null    float64\n",
      " 56  2012            249 non-null    float64\n",
      " 57  2013            248 non-null    float64\n",
      " 58  2014            249 non-null    float64\n",
      " 59  2015            249 non-null    float64\n",
      " 60  2016            249 non-null    float64\n",
      " 61  2017            248 non-null    float64\n",
      " 62  2018            247 non-null    float64\n",
      " 63  2019            247 non-null    float64\n",
      " 64  2020            247 non-null    float64\n",
      " 65  2021            0 non-null      float64\n",
      " 66  Unnamed: 66     0 non-null      float64\n",
      "dtypes: float64(63), object(4)\n",
      "memory usage: 139.4+ KB\n"
     ]
    }
   ],
   "source": [
    "life_expectancy = pd.read_csv('../data/life_expectancy.csv', header=2)\n",
    "life_expectancy.info()"
   ]
  },
  {
   "cell_type": "markdown",
   "id": "f42aa7cc",
   "metadata": {},
   "source": [
    "#### 22. Drop the Country Code, Indicator Name, and Indicator Code columns. \n",
    "Then use `.melt()` to convert your data from wide to long. That is, instead of having one row per country and multiple colums per year, we want to have multiple rows per country and a single column for year. After melting, rename the columns to `Country`, `Year`, and `Life_Expectancy`."
   ]
  },
  {
   "cell_type": "code",
   "execution_count": 32,
   "id": "5c34aca9",
   "metadata": {},
   "outputs": [],
   "source": [
    "life_expectancy = life_expectancy.drop(columns = ['Country Code', \n",
    "                                                  'Indicator Name', \n",
    "                                                  'Indicator Code', \n",
    "                                                  '2021', \n",
    "                                                  'Unnamed: 66'])"
   ]
  },
  {
   "cell_type": "code",
   "execution_count": 33,
   "id": "9b9e6ba9",
   "metadata": {},
   "outputs": [
    {
     "name": "stdout",
     "output_type": "stream",
     "text": [
      "<class 'pandas.core.frame.DataFrame'>\n",
      "Int64Index: 14858 entries, 0 to 16225\n",
      "Data columns (total 3 columns):\n",
      " #   Column           Non-Null Count  Dtype  \n",
      "---  ------           --------------  -----  \n",
      " 0   Country          14858 non-null  object \n",
      " 1   Year             14858 non-null  object \n",
      " 2   Life_Expectancy  14858 non-null  float64\n",
      "dtypes: float64(1), object(2)\n",
      "memory usage: 464.3+ KB\n"
     ]
    }
   ],
   "source": [
    "#the .melt() method offers options so your result has the column names you designate\n",
    "life_expectancy = (\n",
    "                    life_expectancy\n",
    "                    .melt(id_vars='Country Name',\n",
    "                         var_name ='Year',\n",
    "                         value_name = 'Life_Expectancy')\n",
    "                    .rename(columns = {'Country Name' : 'Country'})\n",
    "                    .dropna()\n",
    ")\n",
    "\n",
    "life_expectancy.info()"
   ]
  },
  {
   "cell_type": "markdown",
   "id": "eb35ab33",
   "metadata": {},
   "source": [
    "#### 23. What was the first country with a life expectancy to exceed 80?"
   ]
  },
  {
   "cell_type": "code",
   "execution_count": 34,
   "id": "da770349",
   "metadata": {
    "scrolled": true
   },
   "outputs": [
    {
     "data": {
      "text/html": [
       "<div>\n",
       "<style scoped>\n",
       "    .dataframe tbody tr th:only-of-type {\n",
       "        vertical-align: middle;\n",
       "    }\n",
       "\n",
       "    .dataframe tbody tr th {\n",
       "        vertical-align: top;\n",
       "    }\n",
       "\n",
       "    .dataframe thead th {\n",
       "        text-align: right;\n",
       "    }\n",
       "</style>\n",
       "<table border=\"1\" class=\"dataframe\">\n",
       "  <thead>\n",
       "    <tr style=\"text-align: right;\">\n",
       "      <th></th>\n",
       "      <th>Country</th>\n",
       "      <th>Year</th>\n",
       "      <th>Life_Expectancy</th>\n",
       "    </tr>\n",
       "  </thead>\n",
       "  <tbody>\n",
       "    <tr>\n",
       "      <th>9695</th>\n",
       "      <td>Japan</td>\n",
       "      <td>1996</td>\n",
       "      <td>80.200244</td>\n",
       "    </tr>\n",
       "  </tbody>\n",
       "</table>\n",
       "</div>"
      ],
      "text/plain": [
       "     Country  Year  Life_Expectancy\n",
       "9695   Japan  1996        80.200244"
      ]
     },
     "execution_count": 34,
     "metadata": {},
     "output_type": "execute_result"
    }
   ],
   "source": [
    "(\n",
    "    life_expectancy\n",
    "    .loc[life_expectancy['Life_Expectancy'] > 80]\n",
    "    .sort_values('Year')\n",
    "    .head(1)\n",
    ")"
   ]
  },
  {
   "cell_type": "markdown",
   "id": "2d8610f0",
   "metadata": {},
   "source": [
    "#### Answer\n",
    "Japan in 1996 was the first country to have a life expectancy over 80"
   ]
  },
  {
   "cell_type": "markdown",
   "id": "e9cbe6c9",
   "metadata": {},
   "source": [
    "#### 24. Merge `gdp_per_capita` and `life_expectancy`, keeping all countries and years that appear in both DataFrames. \n",
    "Save the result to a new DataFrame named `gdp_le`. If you get any errors in doing this, read them carefully and correct them. Look at the first five rows of your new data frame to confirm it merged correctly. Also, check the last five rows to make sure the data is clean and as expected."
   ]
  },
  {
   "cell_type": "code",
   "execution_count": 35,
   "id": "7ec20387",
   "metadata": {},
   "outputs": [
    {
     "name": "stdout",
     "output_type": "stream",
     "text": [
      "<class 'pandas.core.frame.DataFrame'>\n",
      "Int64Index: 4922 entries, 0 to 4921\n",
      "Data columns (total 5 columns):\n",
      " #   Column           Non-Null Count  Dtype  \n",
      "---  ------           --------------  -----  \n",
      " 0   Continent        4922 non-null   object \n",
      " 1   Country          4922 non-null   object \n",
      " 2   Year             4922 non-null   int64  \n",
      " 3   GDP_Per_Capita   4922 non-null   float64\n",
      " 4   Life_Expectancy  4922 non-null   float64\n",
      "dtypes: float64(2), int64(1), object(2)\n",
      "memory usage: 230.7+ KB\n"
     ]
    }
   ],
   "source": [
    "life_expectancy['Year'] = life_expectancy['Year'].astype(int)\n",
    "gdp_le = pd.merge(gdp_df, life_expectancy, how='inner', on=['Country', 'Year'])\n",
    "gdp_le.info()"
   ]
  },
  {
   "cell_type": "markdown",
   "id": "8da120ec",
   "metadata": {},
   "source": [
    "#### 25. Create a new DataFrame, named `gdp_le_2019` by extracting data for the year 2019 from `gdp_le`. \n",
    "How many countries have a life expectancy of at least 80 in 2019?"
   ]
  },
  {
   "cell_type": "code",
   "execution_count": 36,
   "id": "d6fcc6ba",
   "metadata": {},
   "outputs": [
    {
     "name": "stdout",
     "output_type": "stream",
     "text": [
      "<class 'pandas.core.frame.DataFrame'>\n",
      "Int64Index: 167 entries, 0 to 4892\n",
      "Data columns (total 5 columns):\n",
      " #   Column           Non-Null Count  Dtype  \n",
      "---  ------           --------------  -----  \n",
      " 0   Continent        167 non-null    object \n",
      " 1   Country          167 non-null    object \n",
      " 2   Year             167 non-null    int64  \n",
      " 3   GDP_Per_Capita   167 non-null    float64\n",
      " 4   Life_Expectancy  167 non-null    float64\n",
      "dtypes: float64(2), int64(1), object(2)\n",
      "memory usage: 7.8+ KB\n"
     ]
    }
   ],
   "source": [
    "gdp_le_2019 = gdp_le.loc[gdp_le['Year'] == 2019]\n",
    "gdp_le_2019.info()"
   ]
  },
  {
   "cell_type": "code",
   "execution_count": 37,
   "id": "1e29491d",
   "metadata": {
    "scrolled": true
   },
   "outputs": [
    {
     "data": {
      "text/plain": [
       "33"
      ]
     },
     "execution_count": 37,
     "metadata": {},
     "output_type": "execute_result"
    }
   ],
   "source": [
    "len(gdp_le_2019.loc[gdp_le_2019['Life_Expectancy'] >= 80])"
   ]
  },
  {
   "cell_type": "code",
   "execution_count": 38,
   "id": "abec864d",
   "metadata": {},
   "outputs": [
    {
     "data": {
      "text/plain": [
       "33"
      ]
     },
     "execution_count": 38,
     "metadata": {},
     "output_type": "execute_result"
    }
   ],
   "source": [
    "(gdp_le_2019['Life_Expectancy'] >= 80).sum()"
   ]
  },
  {
   "cell_type": "markdown",
   "id": "10977921",
   "metadata": {},
   "source": [
    "#### Answer\n",
    "There were 33 countries with a life expectancy of at least 80 year in 2019"
   ]
  },
  {
   "cell_type": "markdown",
   "id": "2995671b",
   "metadata": {},
   "source": [
    "#### 26. Find the countries that had the top 3 largest GDP per capita figures for 2019. \n",
    "Create a seaborn FacetGrid showing the change in life expectancy over time for these three countries. Each individual figure in the facet grid will represent a single country."
   ]
  },
  {
   "cell_type": "code",
   "execution_count": 39,
   "id": "85b93b7e",
   "metadata": {
    "scrolled": true
   },
   "outputs": [
    {
     "data": {
      "text/plain": [
       "['Macao SAR, China', 'Luxembourg', 'Singapore']"
      ]
     },
     "execution_count": 39,
     "metadata": {},
     "output_type": "execute_result"
    }
   ],
   "source": [
    "top_3_gdp_2019 = gdp_le_2019.nlargest(3, 'GDP_Per_Capita')['Country'].to_list()\n",
    "top_3_gdp_2019"
   ]
  },
  {
   "cell_type": "code",
   "execution_count": 40,
   "id": "354a2b42",
   "metadata": {
    "scrolled": true
   },
   "outputs": [
    {
     "data": {
      "image/png": "[encoded data removed]",
      "text/plain": [
       "<Figure size 648x216 with 3 Axes>"
      ]
     },
     "metadata": {
      "needs_background": "light"
     },
     "output_type": "display_data"
    }
   ],
   "source": [
    "top3 = sns.FacetGrid(data=gdp_le.loc[gdp_le['Country'].isin(top_3_gdp_2019)], \n",
    "                     col='Country', \n",
    "                     hue='Country')\n",
    "top3.map(sns.scatterplot, 'Year', 'Life_Expectancy');"
   ]
  },
  {
   "cell_type": "code",
   "execution_count": 41,
   "id": "3ba7811c",
   "metadata": {},
   "outputs": [
    {
     "data": {
      "image/png": "[encoded data removed]",
      "text/plain": [
       "<Figure size 648x216 with 3 Axes>"
      ]
     },
     "metadata": {
      "needs_background": "light"
     },
     "output_type": "display_data"
    }
   ],
   "source": [
    "top3 = sns.FacetGrid(data=gdp_le.loc[gdp_le['Country'].isin(top_3_gdp_2019)], \n",
    "                     col='Country', \n",
    "                     hue='Country')\n",
    "top3.map(sns.lineplot, 'Year', 'Life_Expectancy');"
   ]
  },
  {
   "cell_type": "markdown",
   "id": "6553d2d7",
   "metadata": {},
   "source": [
    "#### 27. Create a scatter plot of Life Expectancy vs GDP per Capita for the year 2019. What do you notice?"
   ]
  },
  {
   "cell_type": "code",
   "execution_count": 42,
   "id": "ff7e52a0",
   "metadata": {
    "scrolled": true
   },
   "outputs": [
    {
     "data": {
      "image/png": "[encoded data removed]",
      "text/plain": [
       "<Figure size 432x288 with 1 Axes>"
      ]
     },
     "metadata": {
      "needs_background": "light"
     },
     "output_type": "display_data"
    }
   ],
   "source": [
    "gdp_le_sc = sns.scatterplot(data=gdp_le_2019, \n",
    "                            x='GDP_Per_Capita', \n",
    "                            y='Life_Expectancy', \n",
    "                            hue='Continent')\n",
    "gdp_le_sc.set(ylim=(0,90));"
   ]
  },
  {
   "cell_type": "code",
   "execution_count": 43,
   "id": "5bb3acbd",
   "metadata": {},
   "outputs": [
    {
     "data": {
      "image/png": "[encoded data removed]",
      "text/plain": [
       "<Figure size 864x576 with 1 Axes>"
      ]
     },
     "metadata": {
      "needs_background": "light"
     },
     "output_type": "display_data"
    }
   ],
   "source": [
    "plt.figure(figsize = (12,8))\n",
    "sns.scatterplot(data = gdp_le_2019, \n",
    "                x = 'GDP_Per_Capita', \n",
    "                y = 'Life_Expectancy',\n",
    "                hue = 'Continent', \n",
    "                palette = 'Reds', \n",
    "                edgecolor = 'black')\n",
    "plt.title('Life expectancy vs. GDP_Per_Capita, 2019')\n",
    "plt.grid(True)\n",
    "plt.legend(bbox_to_anchor =(1.0, 1.0));\n"
   ]
  },
  {
   "cell_type": "markdown",
   "id": "bf40ad64",
   "metadata": {},
   "source": [
    "#### Answer\n",
    "There appears to be a moderatly strong, non-linear association between life expectancy and gdp per capita such that higher per capita gdp is associated with higher life expectancy. Once above approximately 25,000 for per capita gdp, there is comparatively little increase in little increase in life expectancy, but there is significantly increasing life expectancy as gdp increases up to 25,000 from 0."
   ]
  },
  {
   "cell_type": "markdown",
   "id": "eb76c2a3",
   "metadata": {},
   "source": [
    "#### 28. Find the correlation between Life Expectancy and GDP per Capita for the year 2019. \n",
    "What is the meaning of this number?"
   ]
  },
  {
   "cell_type": "code",
   "execution_count": 44,
   "id": "96db2229",
   "metadata": {},
   "outputs": [
    {
     "data": {
      "text/plain": [
       "0.709018274600647"
      ]
     },
     "execution_count": 44,
     "metadata": {},
     "output_type": "execute_result"
    }
   ],
   "source": [
    "gdp_le_2019['GDP_Per_Capita'].corr(gdp_le_2019['Life_Expectancy'])"
   ]
  },
  {
   "cell_type": "markdown",
   "id": "6b1005d1",
   "metadata": {},
   "source": [
    "#### Answer\n",
    "This is the Pearson Correlation Coefficient which indicates the strength of the linear relationship between life expectancy and GDP per capita. I don't think a linear model is the best for this data, though.   \n",
    "A value of 0.709 indicates a moderatly strong, positive linear relationship between the variable."
   ]
  },
  {
   "cell_type": "markdown",
   "id": "a5382b60",
   "metadata": {},
   "source": [
    "#### 29. Add a column to `gdp_le_2019` and calculate the logarithm of GDP per capita. \n",
    "Find the correlation between the log of GDP per capita and life expectancy. How does this compare to the calculation in the previous part? Look at a scatter plot to see if the result of this calculation makes sense."
   ]
  },
  {
   "cell_type": "code",
   "execution_count": 45,
   "id": "8d3ba541",
   "metadata": {},
   "outputs": [
    {
     "name": "stderr",
     "output_type": "stream",
     "text": [
      "C:\\Users\\mews2\\AppData\\Local\\Temp\\ipykernel_968\\800273626.py:1: SettingWithCopyWarning: \n",
      "A value is trying to be set on a copy of a slice from a DataFrame.\n",
      "Try using .loc[row_indexer,col_indexer] = value instead\n",
      "\n",
      "See the caveats in the documentation: https://pandas.pydata.org/pandas-docs/stable/user_guide/indexing.html#returning-a-view-versus-a-copy\n",
      "  gdp_le_2019['log10_GDP'] = np.log10(gdp_le_2019['GDP_Per_Capita'])\n"
     ]
    },
    {
     "data": {
      "text/html": [
       "<div>\n",
       "<style scoped>\n",
       "    .dataframe tbody tr th:only-of-type {\n",
       "        vertical-align: middle;\n",
       "    }\n",
       "\n",
       "    .dataframe tbody tr th {\n",
       "        vertical-align: top;\n",
       "    }\n",
       "\n",
       "    .dataframe thead th {\n",
       "        text-align: right;\n",
       "    }\n",
       "</style>\n",
       "<table border=\"1\" class=\"dataframe\">\n",
       "  <thead>\n",
       "    <tr style=\"text-align: right;\">\n",
       "      <th></th>\n",
       "      <th>Continent</th>\n",
       "      <th>Country</th>\n",
       "      <th>Year</th>\n",
       "      <th>GDP_Per_Capita</th>\n",
       "      <th>Life_Expectancy</th>\n",
       "      <th>log10_GDP</th>\n",
       "    </tr>\n",
       "  </thead>\n",
       "  <tbody>\n",
       "    <tr>\n",
       "      <th>0</th>\n",
       "      <td>Asia</td>\n",
       "      <td>Afghanistan</td>\n",
       "      <td>2019</td>\n",
       "      <td>2065.036398</td>\n",
       "      <td>64.833</td>\n",
       "      <td>3.314928</td>\n",
       "    </tr>\n",
       "    <tr>\n",
       "      <th>18</th>\n",
       "      <td>Europe</td>\n",
       "      <td>Albania</td>\n",
       "      <td>2019</td>\n",
       "      <td>13724.058790</td>\n",
       "      <td>78.573</td>\n",
       "      <td>4.137483</td>\n",
       "    </tr>\n",
       "    <tr>\n",
       "      <th>48</th>\n",
       "      <td>Africa</td>\n",
       "      <td>Algeria</td>\n",
       "      <td>2019</td>\n",
       "      <td>11510.557088</td>\n",
       "      <td>76.880</td>\n",
       "      <td>4.061096</td>\n",
       "    </tr>\n",
       "    <tr>\n",
       "      <th>78</th>\n",
       "      <td>Africa</td>\n",
       "      <td>Angola</td>\n",
       "      <td>2019</td>\n",
       "      <td>6670.332297</td>\n",
       "      <td>61.147</td>\n",
       "      <td>3.824147</td>\n",
       "    </tr>\n",
       "    <tr>\n",
       "      <th>108</th>\n",
       "      <td>North America</td>\n",
       "      <td>Antigua and Barbuda</td>\n",
       "      <td>2019</td>\n",
       "      <td>21910.184985</td>\n",
       "      <td>77.016</td>\n",
       "      <td>4.340646</td>\n",
       "    </tr>\n",
       "  </tbody>\n",
       "</table>\n",
       "</div>"
      ],
      "text/plain": [
       "         Continent              Country  Year  GDP_Per_Capita  \\\n",
       "0             Asia          Afghanistan  2019     2065.036398   \n",
       "18          Europe              Albania  2019    13724.058790   \n",
       "48          Africa              Algeria  2019    11510.557088   \n",
       "78          Africa               Angola  2019     6670.332297   \n",
       "108  North America  Antigua and Barbuda  2019    21910.184985   \n",
       "\n",
       "     Life_Expectancy  log10_GDP  \n",
       "0             64.833   3.314928  \n",
       "18            78.573   4.137483  \n",
       "48            76.880   4.061096  \n",
       "78            61.147   3.824147  \n",
       "108           77.016   4.340646  "
      ]
     },
     "execution_count": 45,
     "metadata": {},
     "output_type": "execute_result"
    }
   ],
   "source": [
    "gdp_le_2019['log10_GDP'] = np.log10(gdp_le_2019['GDP_Per_Capita'])\n",
    "gdp_le_2019.head()"
   ]
  },
  {
   "cell_type": "code",
   "execution_count": 46,
   "id": "c149eb0f",
   "metadata": {},
   "outputs": [
    {
     "data": {
      "text/plain": [
       "0.8484975848006423"
      ]
     },
     "execution_count": 46,
     "metadata": {},
     "output_type": "execute_result"
    }
   ],
   "source": [
    "gdp_le_2019['log10_GDP'].corr(gdp_le_2019['Life_Expectancy'])"
   ]
  },
  {
   "cell_type": "code",
   "execution_count": 47,
   "id": "17f44362",
   "metadata": {},
   "outputs": [
    {
     "data": {
      "image/png": "[encoded data removed]",
      "text/plain": [
       "<Figure size 432x288 with 1 Axes>"
      ]
     },
     "metadata": {
      "needs_background": "light"
     },
     "output_type": "display_data"
    }
   ],
   "source": [
    "lgdp_le_sc = sns.scatterplot(data=gdp_le_2019, \n",
    "                             x='log10_GDP', \n",
    "                             y='Life_Expectancy')\n",
    "lgdp_le_sc.set(ylim=(0,90));"
   ]
  },
  {
   "cell_type": "markdown",
   "id": "ec94728b",
   "metadata": {},
   "source": [
    "#### Answer\n",
    "The correlation coefficient is stronger use the log of GDP, and that does make sense when looking at the scatter plot as the curvature in the original scatter plot has been largely straightened out by taking the log of the GDP  values"
   ]
  },
  {
   "cell_type": "markdown",
   "id": "013d6652",
   "metadata": {},
   "source": [
    "#### Note on logarithms in a data analysis/science contexts\n",
    "In the context of applied math such as this, actually is better to default to use the natural log instead of log base 10, and in this context saying \"log\" actually refers to the natural log, generally speaking"
   ]
  },
  {
   "cell_type": "code",
   "execution_count": 48,
   "id": "dc8cd193",
   "metadata": {},
   "outputs": [
    {
     "name": "stderr",
     "output_type": "stream",
     "text": [
      "C:\\Users\\mews2\\AppData\\Local\\Temp\\ipykernel_968\\2266778752.py:1: SettingWithCopyWarning: \n",
      "A value is trying to be set on a copy of a slice from a DataFrame.\n",
      "Try using .loc[row_indexer,col_indexer] = value instead\n",
      "\n",
      "See the caveats in the documentation: https://pandas.pydata.org/pandas-docs/stable/user_guide/indexing.html#returning-a-view-versus-a-copy\n",
      "  gdp_le_2019['log_GDP'] = np.log(gdp_le_2019['GDP_Per_Capita'])\n"
     ]
    },
    {
     "data": {
      "text/plain": [
       "0.8484975848006417"
      ]
     },
     "execution_count": 48,
     "metadata": {},
     "output_type": "execute_result"
    }
   ],
   "source": [
    "gdp_le_2019['log_GDP'] = np.log(gdp_le_2019['GDP_Per_Capita'])\n",
    "gdp_le_2019['log_GDP'].corr(gdp_le_2019['Life_Expectancy'])"
   ]
  },
  {
   "cell_type": "code",
   "execution_count": 49,
   "id": "1f7a7c5b",
   "metadata": {},
   "outputs": [
    {
     "data": {
      "image/png": "[encoded data removed]",
      "text/plain": [
       "<Figure size 432x288 with 1 Axes>"
      ]
     },
     "metadata": {
      "needs_background": "light"
     },
     "output_type": "display_data"
    }
   ],
   "source": [
    "nlgdp_le_sc = sns.scatterplot(data=gdp_le_2019, \n",
    "                              x='log_GDP', \n",
    "                              y='Life_Expectancy')\n",
    "nlgdp_le_sc.set(ylim=(0,90));"
   ]
  },
  {
   "cell_type": "code",
   "execution_count": null,
   "id": "b4292845",
   "metadata": {},
   "outputs": [],
   "source": []
  }
 ],
 "metadata": {
  "kernelspec": {
   "display_name": "Python 3 (ipykernel)",
   "language": "python",
   "name": "python3"
  },
  "language_info": {
   "codemirror_mode": {
    "name": "ipython",
    "version": 3
   },
   "file_extension": ".py",
   "mimetype": "text/x-python",
   "name": "python",
   "nbconvert_exporter": "python",
   "pygments_lexer": "ipython3",
   "version": "3.9.12"
  }
 },
 "nbformat": 4,
 "nbformat_minor": 5
}
